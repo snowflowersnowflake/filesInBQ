{
 "cells": [
  {
   "cell_type": "code",
   "execution_count": 1,
   "metadata": {},
   "outputs": [
    {
     "data": {
      "text/plain": [
       "[2021-05-20 13:40:45.823948] INFO: moduleinvoker: hfbacktest.v1 开始运行.."
      ]
     },
     "metadata": {
      "is_log": true,
      "status": "INFO"
     },
     "output_type": "display_data"
    },
    {
     "data": {
      "text/plain": [
       "[2021-05-20 13:40:45.849337] INFO: hfbacktest: passed-in daily_data_ds:None"
      ]
     },
     "metadata": {
      "is_log": true,
      "status": "INFO"
     },
     "output_type": "display_data"
    },
    {
     "data": {
      "text/plain": [
       "[2021-05-20 13:40:45.853954] INFO: hfbacktest: passed-in minute_data_ds:None"
      ]
     },
     "metadata": {
      "is_log": true,
      "status": "INFO"
     },
     "output_type": "display_data"
    },
    {
     "data": {
      "text/plain": [
       "[2021-05-20 13:40:45.856170] INFO: hfbacktest: passed-in tick_data_ds:None"
      ]
     },
     "metadata": {
      "is_log": true,
      "status": "INFO"
     },
     "output_type": "display_data"
    },
    {
     "data": {
      "text/plain": [
       "[2021-05-20 13:40:45.858168] INFO: hfbacktest: passed-in each_data_ds:None"
      ]
     },
     "metadata": {
      "is_log": true,
      "status": "INFO"
     },
     "output_type": "display_data"
    },
    {
     "data": {
      "text/plain": [
       "[2021-05-20 13:40:45.859618] INFO: hfbacktest: passed-in dominant_data_ds:None"
      ]
     },
     "metadata": {
      "is_log": true,
      "status": "INFO"
     },
     "output_type": "display_data"
    },
    {
     "data": {
      "text/plain": [
       "[2021-05-20 13:40:45.860983] INFO: hfbacktest: passed-in benchmark_data_ds:None"
      ]
     },
     "metadata": {
      "is_log": true,
      "status": "INFO"
     },
     "output_type": "display_data"
    },
    {
     "data": {
      "text/plain": [
       "[2021-05-20 13:40:45.863009] INFO: hfbacktest: passed-in trading_calendar_ds:None"
      ]
     },
     "metadata": {
      "is_log": true,
      "status": "INFO"
     },
     "output_type": "display_data"
    },
    {
     "data": {
      "text/plain": [
       "[2021-05-20 13:40:45.865141] INFO: hfbacktest: biglearning V1.2.0"
      ]
     },
     "metadata": {
      "is_log": true,
      "status": "INFO"
     },
     "output_type": "display_data"
    },
    {
     "data": {
      "text/plain": [
       "[2021-05-20 13:40:45.866498] INFO: hfbacktest: bigtrader v1.7.6"
      ]
     },
     "metadata": {
      "is_log": true,
      "status": "INFO"
     },
     "output_type": "display_data"
    },
    {
     "data": {
      "text/plain": [
       "[2021-05-20 13:40:45.883793] INFO: hfbacktest: strategy callbacks:{'on_init': <function initialize at 0x7f4dcab1d940>, 'on_start': <function before_trading at 0x7f4dcab1dee0>, 'handle_data': <function handle_data at 0x7f4dcab1df70>, 'handle_trade': <function handle_trade at 0x7f4dcab1d820>, 'handle_order': <function handle_order at 0x7f4dcab1d790>}"
      ]
     },
     "metadata": {
      "is_log": true,
      "status": "INFO"
     },
     "output_type": "display_data"
    },
    {
     "data": {
      "text/plain": [
       "[2021-05-20 13:40:45.890788] INFO: hfbacktest: begin reading history data, 2021-04-21 00:00:00~2021-04-27, disable_cache:0"
      ]
     },
     "metadata": {
      "is_log": true,
      "status": "INFO"
     },
     "output_type": "display_data"
    },
    {
     "data": {
      "text/plain": [
       "[2021-05-20 13:40:45.891899] INFO: hfbacktest: reading benchmark data 2021-04-01 00:00:00~2021-04-27..."
      ]
     },
     "metadata": {
      "is_log": true,
      "status": "INFO"
     },
     "output_type": "display_data"
    },
    {
     "data": {
      "text/plain": [
       "[2021-05-20 13:40:45.898012] INFO: moduleinvoker: cached.v2 开始运行.."
      ]
     },
     "metadata": {
      "is_log": true,
      "status": "INFO"
     },
     "output_type": "display_data"
    },
    {
     "data": {
      "text/plain": [
       "[2021-05-20 13:40:45.951092] INFO: moduleinvoker: 命中缓存"
      ]
     },
     "metadata": {
      "is_log": true,
      "status": "INFO"
     },
     "output_type": "display_data"
    },
    {
     "data": {
      "text/plain": [
       "[2021-05-20 13:40:45.953743] INFO: moduleinvoker: cached.v2 运行完成[0.055725s]."
      ]
     },
     "metadata": {
      "is_log": true,
      "status": "INFO"
     },
     "output_type": "display_data"
    },
    {
     "data": {
      "text/plain": [
       "[2021-05-20 13:40:46.078468] INFO: hfbacktest: reading daily data 2019-10-22 00:00:00~2021-04-27..."
      ]
     },
     "metadata": {
      "is_log": true,
      "status": "INFO"
     },
     "output_type": "display_data"
    },
    {
     "data": {
      "text/plain": [
       "[2021-05-20 13:40:46.083478] INFO: moduleinvoker: cached.v2 开始运行.."
      ]
     },
     "metadata": {
      "is_log": true,
      "status": "INFO"
     },
     "output_type": "display_data"
    },
    {
     "data": {
      "text/plain": [
       "[2021-05-20 13:40:46.106067] INFO: moduleinvoker: 命中缓存"
      ]
     },
     "metadata": {
      "is_log": true,
      "status": "INFO"
     },
     "output_type": "display_data"
    },
    {
     "data": {
      "text/plain": [
       "[2021-05-20 13:40:46.107564] INFO: moduleinvoker: cached.v2 运行完成[0.024107s]."
      ]
     },
     "metadata": {
      "is_log": true,
      "status": "INFO"
     },
     "output_type": "display_data"
    },
    {
     "data": {
      "text/plain": [
       "[2021-05-20 13:40:46.230310] INFO: hfbacktest: reading minute data 2021-03-09 00:00:00~2021-04-27..."
      ]
     },
     "metadata": {
      "is_log": true,
      "status": "INFO"
     },
     "output_type": "display_data"
    },
    {
     "data": {
      "text/plain": [
       "[2021-05-20 13:40:46.236523] INFO: moduleinvoker: cached.v2 开始运行.."
      ]
     },
     "metadata": {
      "is_log": true,
      "status": "INFO"
     },
     "output_type": "display_data"
    },
    {
     "data": {
      "text/plain": [
       "[2021-05-20 13:40:46.245899] INFO: moduleinvoker: 命中缓存"
      ]
     },
     "metadata": {
      "is_log": true,
      "status": "INFO"
     },
     "output_type": "display_data"
    },
    {
     "data": {
      "text/plain": [
       "[2021-05-20 13:40:46.248685] INFO: moduleinvoker: cached.v2 运行完成[0.012168s]."
      ]
     },
     "metadata": {
      "is_log": true,
      "status": "INFO"
     },
     "output_type": "display_data"
    },
    {
     "data": {
      "text/plain": [
       "[2021-05-20 13:40:46.308696] INFO: hfbacktest: reading dominant data 2021-04-12 00:00:00~2021-04-27..."
      ]
     },
     "metadata": {
      "is_log": true,
      "status": "INFO"
     },
     "output_type": "display_data"
    },
    {
     "data": {
      "text/plain": [
       "[2021-05-20 13:40:46.311912] INFO: moduleinvoker: cached.v2 开始运行.."
      ]
     },
     "metadata": {
      "is_log": true,
      "status": "INFO"
     },
     "output_type": "display_data"
    },
    {
     "data": {
      "text/plain": [
       "[2021-05-20 13:40:46.319675] INFO: moduleinvoker: 命中缓存"
      ]
     },
     "metadata": {
      "is_log": true,
      "status": "INFO"
     },
     "output_type": "display_data"
    },
    {
     "data": {
      "text/plain": [
       "[2021-05-20 13:40:46.321017] INFO: moduleinvoker: cached.v2 运行完成[0.009109s]."
      ]
     },
     "metadata": {
      "is_log": true,
      "status": "INFO"
     },
     "output_type": "display_data"
    },
    {
     "data": {
      "text/plain": [
       "[2021-05-20 13:40:46.360751] INFO: hfbacktest: cached_benchmark_ds:DataSource(177b7a9305b04de29637aa7e4579de10T)"
      ]
     },
     "metadata": {
      "is_log": true,
      "status": "INFO"
     },
     "output_type": "display_data"
    },
    {
     "data": {
      "text/plain": [
       "[2021-05-20 13:40:46.363953] INFO: hfbacktest: cached_daily_ds:DataSource(6bb1beb6d53a4be9ade36bb570c62c62T)"
      ]
     },
     "metadata": {
      "is_log": true,
      "status": "INFO"
     },
     "output_type": "display_data"
    },
    {
     "data": {
      "text/plain": [
       "[2021-05-20 13:40:46.366896] INFO: hfbacktest: cached_minute_ds:DataSource(bf5e3c8806d045b89584a821c94e70dbT)"
      ]
     },
     "metadata": {
      "is_log": true,
      "status": "INFO"
     },
     "output_type": "display_data"
    },
    {
     "data": {
      "text/plain": [
       "[2021-05-20 13:40:46.368720] INFO: hfbacktest: cached_tick_ds:None"
      ]
     },
     "metadata": {
      "is_log": true,
      "status": "INFO"
     },
     "output_type": "display_data"
    },
    {
     "data": {
      "text/plain": [
       "[2021-05-20 13:40:46.370684] INFO: hfbacktest: cached_each_ds:None"
      ]
     },
     "metadata": {
      "is_log": true,
      "status": "INFO"
     },
     "output_type": "display_data"
    },
    {
     "data": {
      "text/plain": [
       "[2021-05-20 13:40:46.372274] INFO: hfbacktest: dominant_data_ds:DataSource(dbe857420d754260810e651080619492T)"
      ]
     },
     "metadata": {
      "is_log": true,
      "status": "INFO"
     },
     "output_type": "display_data"
    },
    {
     "data": {
      "text/plain": [
       "[2021-05-20 13:40:46.374062] INFO: hfbacktest: read history data done, call run_backtest()"
      ]
     },
     "metadata": {
      "is_log": true,
      "status": "INFO"
     },
     "output_type": "display_data"
    },
    {
     "name": "stdout",
     "output_type": "stream",
     "text": [
      "end_date= 2021-04-27\n",
      "2021-05-20 13:40:46.439978 run trading v1.7.6 \n",
      "2021-05-20 13:40:46.440145 init history datas... \n",
      "2021-05-20 13:40:46.464661 init trading env... \n",
      "2021-05-20 13:40:46.465061 run_backtest() capital:100000, frequency:1m, product_type:future, date:2021-04-21 00:00:00 ~ 2021-04-27 00:00:00 \n",
      "2021-05-20 13:40:46.486269 run_backtest() running... \n",
      "initialize\n",
      "当前主力合约"
     ]
    },
    {
     "name": "stdout",
     "output_type": "stream",
     "text": [
      " ['RB2110.SHF']\n",
      "2021-05-20 13:40:46.600748 backtest transforming 1m...\n"
     ]
    },
    {
     "name": "stdout",
     "output_type": "stream",
     "text": [
      "2021-05-20 13:40:47.115135 strategy_20210520(bkt999,): handle_order:[bkt999,1,RB2110.SHF,long,open,0,2,5172.0,pending,14:51:00,1] \n",
      "2021-05-20 13:40:47.115971 strategy_20210520(bkt999,): 2021-04-21 14:51:00 开多 for RB2110.SHF 最新价=5172.0 rv:0 \n",
      "2021-05-20 13:40:47.118216 strategy_20210520(bkt999,): handle_order:[bkt999,1,RB2110.SHF,long,open,2,2,5172.0,filled,14:51:00,1] \n",
      "2021-05-20 13:40:47.118726 strategy_20210520(bkt999,): handle_trade:[bkt999,1,RB2110.SHF,long,open,2,5173.0,SHFE.1,14:52:00.000000] \n",
      "2021-05-20 13:40:47.122030 strategy_20210520(bkt999,): 当前多头持仓:Position(bkt999,RB2110.SHF,long,current_qty:0,avail_qty:0,cost_price:0.0,last_price:0.0)当前空头持仓:Position(bkt999,RB2110.SHF,short,current_qty:0,avail_qty:0,cost_price:0.0,last_price:0.0) \n",
      "2021-05-20 13:40:47.149584 strategy_20210520(bkt999,): handle_order:[bkt999,2,RB2110.SHF,short,close_today,0,2,5183.0,pending,14:58:00,2] \n",
      "2021-05-20 13:40:47.150183 strategy_20210520(bkt999,): 2021-04-21 14:58:00 尾盘平多 for RB2110.SHF 最新价=5183.0 rv:0 \n",
      "2021-05-20 13:40:47.154425 strategy_20210520(bkt999,): handle_order:[bkt999,2,RB2110.SHF,short,close_today,2,2,5183.0,filled,14:58:00,2] \n",
      "2021-05-20 13:40:47.155638 strategy_20210520(bkt999,): handle_trade:[bkt999,2,RB2110.SHF,short,close_today,2,5183.0,SHFE.2,14:59:00.000000] \n",
      "2021-05-20 13:40:47.155753 strategy_20210520(bkt999,): 当前多头持仓:Position(bkt999,RB2110.SHF,long,current_qty:0,avail_qty:0,cost_price:0.0,last_price:0.0)当前空头持仓:Position(bkt999,RB2110.SHF,short,current_qty:0,avail_qty:0,cost_price:0.0,last_price:0.0) \n",
      "当前主力合约 ['RB2110.SHF']\n",
      "2021-05-20 13:40:47.187757 strategy_20210520(bkt999,): handle_order:[bkt999,3,RB2110.SHF,long,open,0,2,5184.0,pending,21:01:00,3] \n",
      "2021-05-20 13:40:47.188283 strategy_20210520(bkt999,): 2021-04-21 21:01:00 开多 for RB2110.SHF 最新价=5184.0 rv:0 \n",
      "2021-05-20 13:40:47.190239 strategy_20210520(bkt999,): handle_order:[bkt999,3,RB2110.SHF,long,open,2,2,5184.0,filled,21:01:00,3] \n",
      "2021-05-20 13:40:47.190795 strategy_20210520(bkt999,): handle_trade:[bkt999,3,RB2110.SHF,long,open,2,5185.0,SHFE.3,21:02:00.000000] \n",
      "2021-05-20 13:40:47.190929 strategy_20210520(bkt999,): 当前多头持仓:Position(bkt999,RB2110.SHF,long,current_qty:0,avail_qty:0,cost_price:0.0,last_price:0.0)当前空头持仓:Position(bkt999,RB2110.SHF,short,current_qty:0,avail_qty:0,cost_price:0.0,last_price:0.0) \n",
      "2021-05-20 13:40:47.222832 strategy_20210520(bkt999,): handle_order:[bkt999,4,RB2110.SHF,short,close_today,0,2,5193.0,pending,21:17:00,4] \n",
      "2021-05-20 13:40:47.223164 strategy_20210520(bkt999,): 2021-04-21 21:17:00 平多 for RB2110.SHF 最新价=5193.0 rv:0 \n",
      "2021-05-20 13:40:47.227849 strategy_20210520(bkt999,): handle_order:[bkt999,4,RB2110.SHF,short,close_today,2,2,5193.0,filled,21:17:00,4] \n",
      "2021-05-20 13:40:47.229418 strategy_20210520(bkt999,): handle_trade:[bkt999,4,RB2110.SHF,short,close_today,2,5193.0,SHFE.4,21:18:00.000000] \n",
      "2021-05-20 13:40:47.229844 strategy_20210520(bkt999,): 当前多头持仓:Position(bkt999,RB2110.SHF,long,current_qty:0,avail_qty:0,cost_price:0.0,last_price:0.0)当前空头持仓:Position(bkt999,RB2110.SHF,short,current_qty:0,avail_qty:0,cost_price:0.0,last_price:0.0) \n"
     ]
    },
    {
     "name": "stdout",
     "output_type": "stream",
     "text": [
      "当前主力合约 ['RB2110.SHF']\n",
      "2021-05-20 13:40:48.016577 strategy_20210520(bkt999,): handle_order:[bkt999,5,RB2110.SHF,long,open,0,2,5228.0,pending,21:01:00,5] \n",
      "2021-05-20 13:40:48.022139 strategy_20210520(bkt999,): 2021-04-22 21:01:00 开多 for RB2110.SHF 最新价=5228.0 rv:0 \n",
      "2021-05-20 13:40:48.026402 strategy_20210520(bkt999,): handle_order:[bkt999,5,RB2110.SHF,long,open,2,2,5228.0,filled,21:01:00,5] \n",
      "2021-05-20 13:40:48.027336 strategy_20210520(bkt999,): handle_trade:[bkt999,5,RB2110.SHF,long,open,2,5230.0,SHFE.5,21:02:00.000000] \n",
      "2021-05-20 13:40:48.027513 strategy_20210520(bkt999,): 当前多头持仓:Position(bkt999,RB2110.SHF,long,current_qty:0,avail_qty:0,cost_price:0.0,last_price:0.0)当前空头持仓:Position(bkt999,RB2110.SHF,short,current_qty:0,avail_qty:0,cost_price:0.0,last_price:0.0) \n",
      "2021-05-20 13:40:48.031226 strategy_20210520(bkt999,): handle_order:[bkt999,6,RB2110.SHF,short,close_today,0,2,5222.0,pending,21:02:00,6] \n",
      "2021-05-20 13:40:48.032187 strategy_20210520(bkt999,): 2021-04-22 21:02:00 平多 for RB2110.SHF 最新价=5222.0 rv:0 \n",
      "2021-05-20 13:40:48.036470 strategy_20210520(bkt999,): handle_order:[bkt999,6,RB2110.SHF,short,close_today,2,2,5222.0,filled,21:02:00,6] \n",
      "2021-05-20 13:40:48.037143 strategy_20210520(bkt999,): handle_trade:[bkt999,6,RB2110.SHF,short,close_today,2,5220.0,SHFE.6,21:03:00.000000] \n",
      "2021-05-20 13:40:48.037251 strategy_20210520(bkt999,): 当前多头持仓:Position(bkt999,RB2110.SHF,long,current_qty:0,avail_qty:0,cost_price:0.0,last_price:0.0)当前空头持仓:Position(bkt999,RB2110.SHF,short,current_qty:0,avail_qty:0,cost_price:0.0,last_price:0.0) \n"
     ]
    },
    {
     "name": "stdout",
     "output_type": "stream",
     "text": [
      "当前主力合约 ['RB2110.SHF']\n",
      "2021-05-20 13:40:48.831401 strategy_20210520(bkt999,): handle_order:[bkt999,7,RB2110.SHF,long,open,0,2,5297.0,pending,21:01:00,7] \n",
      "2021-05-20 13:40:48.831701 strategy_20210520(bkt999,): 2021-04-23 21:01:00 开多 for RB2110.SHF 最新价=5297.0 rv:0 \n",
      "2021-05-20 13:40:48.835080 strategy_20210520(bkt999,): handle_order:[bkt999,7,RB2110.SHF,long,open,2,2,5297.0,filled,21:01:00,7] \n",
      "2021-05-20 13:40:48.835768 strategy_20210520(bkt999,): handle_trade:[bkt999,7,RB2110.SHF,long,open,2,5298.0,SHFE.7,21:02:00.000000] \n",
      "2021-05-20 13:40:48.836015 strategy_20210520(bkt999,): 当前多头持仓:Position(bkt999,RB2110.SHF,long,current_qty:0,avail_qty:0,cost_price:0.0,last_price:0.0)当前空头持仓:Position(bkt999,RB2110.SHF,short,current_qty:0,avail_qty:0,cost_price:0.0,last_price:0.0) \n",
      "2021-05-20 13:40:48.840344 strategy_20210520(bkt999,): handle_order:[bkt999,8,RB2110.SHF,short,close_today,0,2,5297.0,pending,21:02:00,8] \n",
      "2021-05-20 13:40:48.840852 strategy_20210520(bkt999,): 2021-04-23 21:02:00 平多 for RB2110.SHF 最新价=5297.0 rv:0 \n",
      "2021-05-20 13:40:48.844568 strategy_20210520(bkt999,): handle_order:[bkt999,8,RB2110.SHF,short,close_today,2,2,5297.0,filled,21:02:00,8] \n",
      "2021-05-20 13:40:48.845091 strategy_20210520(bkt999,): handle_trade:[bkt999,8,RB2110.SHF,short,close_today,2,5296.0,SHFE.8,21:03:00.000000] \n",
      "2021-05-20 13:40:48.845364 strategy_20210520(bkt999,): 当前多头持仓:Position(bkt999,RB2110.SHF,long,current_qty:0,avail_qty:0,cost_price:0.0,last_price:0.0)当前空头持仓:Position(bkt999,RB2110.SHF,short,current_qty:0,avail_qty:0,cost_price:0.0,last_price:0.0) \n",
      "当前主力合约 ['RB2110.SHF']\n",
      "2021-05-20 13:40:49.686072 strategy_20210520(bkt999,): handle_order:[bkt999,9,RB2110.SHF,long,open,0,2,5373.0,pending,21:01:00,9] \n",
      "2021-05-20 13:40:49.687232 strategy_20210520(bkt999,): 2021-04-26 21:01:00 开多 for RB2110.SHF 最新价=5373.0 rv:0 \n",
      "2021-05-20 13:40:49.689415 strategy_20210520(bkt999,): handle_order:[bkt999,9,RB2110.SHF,long,open,2,2,5373.0,filled,21:01:00,9] \n",
      "2021-05-20 13:40:49.690139 strategy_20210520(bkt999,): handle_trade:[bkt999,9,RB2110.SHF,long,open,2,5375.0,SHFE.9,21:02:00.000000] \n",
      "2021-05-20 13:40:49.690285 strategy_20210520(bkt999,): 当前多头持仓:Position(bkt999,RB2110.SHF,long,current_qty:0,avail_qty:0,cost_price:0.0,last_price:0.0)当前空头持仓:Position(bkt999,RB2110.SHF,short,current_qty:0,avail_qty:0,cost_price:0.0,last_price:0.0) \n"
     ]
    },
    {
     "name": "stdout",
     "output_type": "stream",
     "text": [
      "2021-05-20 13:40:50.103488 strategy_20210520(bkt999,): handle_order:[bkt999,10,RB2110.SHF,short,close_today,0,2,5402.0,pending,22:58:00,10] \n",
      "2021-05-20 13:40:50.103844 strategy_20210520(bkt999,): 2021-04-26 22:58:00 尾盘平多 for RB2110.SHF 最新价=5402.0 rv:0 \n",
      "2021-05-20 13:40:50.123330 strategy_20210520(bkt999,): handle_order:[bkt999,10,RB2110.SHF,short,close_today,2,2,5402.0,filled,22:58:00,10] \n",
      "2021-05-20 13:40:50.124203 strategy_20210520(bkt999,): handle_trade:[bkt999,10,RB2110.SHF,short,close_today,2,5402.0,SHFE.10,22:59:00.000000] \n",
      "2021-05-20 13:40:50.124400 strategy_20210520(bkt999,): 当前多头持仓:Position(bkt999,RB2110.SHF,long,current_qty:0,avail_qty:0,cost_price:0.0,last_price:0.0)当前空头持仓:Position(bkt999,RB2110.SHF,short,current_qty:0,avail_qty:0,cost_price:0.0,last_price:0.0) \n",
      "2021-05-20 13:40:50.712131 run_backtest() finished! time cost 4.226s! \n"
     ]
    },
    {
     "data": {
      "text/plain": [
       "[2021-05-20 13:40:51.793842] INFO: hfbacktest: backtest done, raw_perf_ds:DataSource(3e3684489c83483982e8e143b0de947fT)"
      ]
     },
     "metadata": {
      "is_log": true,
      "status": "INFO"
     },
     "output_type": "display_data"
    },
    {
     "data": {
      "text/html": [
       "<div id='bigchart-3912d806186d435ea8de9c09f87e2790' class='bigchart display' style='display:none'><ul class='nav nav-tabs' style='padding-left: 0;'><li class='tabtitle' style='margin: 0;'><span style='margin: 0;font-size: 1.2em;display: inline-block;padding: 10px 10px;'>Trade(回测/模拟)</span></li><li class='active'><a>收益概况</a></li><li><a>交易详情</a></li><li><a>每日持仓和收益</a></li><li><a>输出日志</a></li></ul><div class='tab-content' style='min-height: 100px;text-align: center;'><div class='tab-pane active' id='收益概况'>\n",
       "<div class='kpicontainer'>\n",
       "    <ul class='kpi'>\n",
       "        <li><span class='title'>收益率</span><span class='value'>0.64%</span></li>\n",
       "        <li><span class='title'>年化收益率</span><span class='value'>37.67%</span></li>\n",
       "        <li><span class='title'>基准收益率</span><span class='value'>-0.16%</span></li>\n",
       "        <li><span class='title'>阿尔法</span><span class='value'>0.29</span></li>\n",
       "        <li><span class='title'>贝塔</span><span class='value'>0.01</span></li>\n",
       "        <li><span class='title'>夏普比率</span><span class='value'>6.58</span></li>\n",
       "        <li><span class='title'>胜率</span><span class='value'>0.3</span></li>\n",
       "        <li><span class='title'>盈亏比</span><span class='value'>3.75</span></li>\n",
       "        <li><span class='title'>收益波动率</span><span class='value'>4.42%</span></li>\n",
       "        <li><span class='title'>信息比率</span><span class='value'>0.12</span></li>\n",
       "        <li><span class='title'>最大回撤</span><span class='value'>0.25%</span></li>\n",
       "    </ul>\n",
       "</div>\n",
       "<div id=\"bigchart-9cbf3c00124a4c409526906f55a49df1\" class=\"bigchart\"></div><div class=\"bigchart-data\"><pre style=\"display:none\">bigcharts-data-start/{\"chart\":{\"height\":400,\"renderTo\":\"bigchart-9cbf3c00124a4c409526906f55a49df1\"},\"legend\":{\"enabled\":true},\"stock\":true,\"series\":[{\"name\":\"\\u7b56\\u7565\\u6536\\u76ca\\u7387\",\"yAxis\":0,\"data\":[[1618963200000,0.1953],[1619049600000,0.3507],[1619136000000,0.146],[1619395200000,0.1012],[1619481600000,0.6363]],\"color\":\"#ff9900\",\"tooltip\":{\"valueDecimals\":2,\"valueSuffix\":\" %\"}},{\"name\":\"\\u57fa\\u51c6\\u6536\\u76ca\\u7387\",\"yAxis\":0,\"data\":[[1618963200000,0.0],[1619049600000,-0.1863],[1619136000000,0.72],[1619395200000,-0.4218],[1619481600000,-0.1613]],\"color\":\"#6699ff\",\"tooltip\":{\"valueDecimals\":2,\"valueSuffix\":\" %\"}},{\"name\":\"\\u76f8\\u5bf9\\u6536\\u76ca\\u7387\",\"yAxis\":0,\"data\":[[1618963200000,0.1953],[1619049600000,0.5374],[1619136000000,-0.5806],[1619395200000,0.502],[1619481600000,0.7764]],\"color\":\"#994a4d\",\"tooltip\":{\"valueDecimals\":2,\"valueSuffix\":\" %\"},\"visible\":false},{\"name\":\"\\u98ce\\u9669\\u5ea6\",\"yAxis\":1,\"data\":[[1618963200000,0.0],[1619049600000,0.0],[1619136000000,0.0],[1619395200000,0.0],[1619481600000,0.0]],\"color\":\"#66ff99\",\"tooltip\":{\"valueDecimals\":2,\"valueSuffix\":\" %\"},\"visible\":false},{\"name\":\"long_margin\",\"yAxis\":2,\"data\":[[1618963200000,0.0],[1619049600000,0.0],[1619136000000,0.0],[1619395200000,0.0],[1619481600000,0.0]]},{\"name\":\"short_margin\",\"yAxis\":2,\"data\":[[1618963200000,0.0],[1619049600000,0.0],[1619136000000,0.0],[1619395200000,0.0],[1619481600000,0.0]]}],\"xAxis\":{\"title\":{\"text\":\"date\"},\"type\":\"datetime\"},\"yAxis\":[{\"labels\":{\"align\":\"right\",\"x\":-3,\"format\":\"{value}%\"},\"title\":{\"text\":\"\\u51c0\\u503c\\u66f2\\u7ebf\"},\"top\":\"0%\",\"height\":\"62%\",\"offset\":0,\"lineWidth\":2,\"gridLineColor\":\"#cfcfcf\",\"gridLineWidth\":1},{\"labels\":{\"align\":\"right\",\"x\":-3,\"format\":\"{value}%\"},\"title\":{\"text\":\"\\u98ce\\u9669\\u5ea6\"},\"top\":\"66%\",\"height\":\"15%\",\"offset\":0,\"lineWidth\":2,\"gridLineColor\":\"#cfcfcf\",\"gridLineWidth\":1},{\"labels\":{\"align\":\"right\",\"x\":-3},\"title\":{\"text\":\"\\u81ea\\u5b9a\\u4e49\\u6570\\u636e\"},\"top\":\"85%\",\"height\":\"15%\",\"offset\":0,\"lineWidth\":2,\"gridLineColor\":\"#cfcfcf\",\"gridLineWidth\":1}]}/bigcharts-data-end</pre></div></div><div class='tab-pane' id='交易详情'><table id=\"bigchart-5214f3229ad54c75b5c2839d082d09e0\" width=\"100%\" class=\"display bigchart\"></table><div class=\"bigchart-data\"><pre style=\"display:none\">bigcharts-data-start/{\"deferRender\":true,\"data\":[[\"2021-04-26 22:59:00\",\"RB2110.SHF\",\"\\u87ba\\u7eb9\\u94a22110\",\"\\u5356\\u51fa\",\"\\u5e73\\u4eca\",2,5402.0,-108040.0,0.0],[\"2021-04-26 21:02:00\",\"RB2110.SHF\",\"\\u87ba\\u7eb9\\u94a22110\",\"\\u4e70\\u5165\",\"\\u5f00\\u4ed3\",2,5375.0,107500.0,4.84],[\"\",\"\",\"\",\"\",\"\",\"\\uff082 \\u7b14\\u4ea4\\u6613\",\"\\u4e70\\u5165 \\uffe5107500.0\",\"\\u5356\\u51fa \\uffe5-108040.0\\uff09\",\"\\u603b\\u4f63\\u91d1\\uffe54.84\\uff09\"],[\"2021-04-23 21:03:00\",\"RB2110.SHF\",\"\\u87ba\\u7eb9\\u94a22110\",\"\\u5356\\u51fa\",\"\\u5e73\\u4eca\",2,5296.0,-105920.0,0.0],[\"2021-04-23 21:02:00\",\"RB2110.SHF\",\"\\u87ba\\u7eb9\\u94a22110\",\"\\u4e70\\u5165\",\"\\u5f00\\u4ed3\",2,5298.0,105960.0,4.77],[\"\",\"\",\"\",\"\",\"\",\"\\uff082 \\u7b14\\u4ea4\\u6613\",\"\\u4e70\\u5165 \\uffe5105960.0\",\"\\u5356\\u51fa \\uffe5-105920.0\\uff09\",\"\\u603b\\u4f63\\u91d1\\uffe54.77\\uff09\"],[\"2021-04-22 21:03:00\",\"RB2110.SHF\",\"\\u87ba\\u7eb9\\u94a22110\",\"\\u5356\\u51fa\",\"\\u5e73\\u4eca\",2,5220.0,-104400.0,0.0],[\"2021-04-22 21:02:00\",\"RB2110.SHF\",\"\\u87ba\\u7eb9\\u94a22110\",\"\\u4e70\\u5165\",\"\\u5f00\\u4ed3\",2,5230.0,104600.0,4.71],[\"\",\"\",\"\",\"\",\"\",\"\\uff082 \\u7b14\\u4ea4\\u6613\",\"\\u4e70\\u5165 \\uffe5104600.0\",\"\\u5356\\u51fa \\uffe5-104400.0\\uff09\",\"\\u603b\\u4f63\\u91d1\\uffe54.71\\uff09\"],[\"2021-04-21 21:18:00\",\"RB2110.SHF\",\"\\u87ba\\u7eb9\\u94a22110\",\"\\u5356\\u51fa\",\"\\u5e73\\u4eca\",2,5193.0,-103860.0,0.0],[\"2021-04-21 21:02:00\",\"RB2110.SHF\",\"\\u87ba\\u7eb9\\u94a22110\",\"\\u4e70\\u5165\",\"\\u5f00\\u4ed3\",2,5185.0,103700.0,4.67],[\"\",\"\",\"\",\"\",\"\",\"\\uff082 \\u7b14\\u4ea4\\u6613\",\"\\u4e70\\u5165 \\uffe5103700.0\",\"\\u5356\\u51fa \\uffe5-103860.0\\uff09\",\"\\u603b\\u4f63\\u91d1\\uffe54.67\\uff09\"],[\"2021-04-21 14:59:00\",\"RB2110.SHF\",\"\\u87ba\\u7eb9\\u94a22110\",\"\\u5356\\u51fa\",\"\\u5e73\\u4eca\",2,5183.0,-103660.0,0.0],[\"2021-04-21 14:52:00\",\"RB2110.SHF\",\"\\u87ba\\u7eb9\\u94a22110\",\"\\u4e70\\u5165\",\"\\u5f00\\u4ed3\",2,5173.0,103460.0,4.66],[\"\",\"\",\"\",\"\",\"\",\"\\uff082 \\u7b14\\u4ea4\\u6613\",\"\\u4e70\\u5165 \\uffe5103460.0\",\"\\u5356\\u51fa \\uffe5-103660.0\\uff09\",\"\\u603b\\u4f63\\u91d1\\uffe54.66\\uff09\"]],\"columns\":[{\"title\":\"\\u6210\\u4ea4\\u65f6\\u95f4\",\"orderable\":false},{\"title\":\"\\u5408\\u7ea6\\u4ee3\\u7801\",\"orderable\":false},{\"title\":\"\\u5408\\u7ea6\\u540d\\u79f0\",\"orderable\":false},{\"title\":\"\\u4e70\\/\\u5356\",\"orderable\":false},{\"title\":\"\\u5f00\\/\\u5e73\",\"orderable\":false},{\"title\":\"\\u6570\\u91cf\",\"orderable\":false},{\"title\":\"\\u6210\\u4ea4\\u4ef7\",\"orderable\":false},{\"title\":\"\\u4ea4\\u6613\\u91d1\\u989d\",\"orderable\":false},{\"title\":\"\\u4ea4\\u6613\\u4f63\\u91d1\",\"orderable\":false}],\"searching\":false,\"info\":false,\"pageLength\":20,\"lengthChange\":false,\"order\":[],\"__type\":\"datatable\",\"__id\":\"bigchart-5214f3229ad54c75b5c2839d082d09e0\",\"language\":{\"sProcessing\":\"\\u5904\\u7406\\u4e2d...\",\"sLengthMenu\":\"\\u663e\\u793a _MENU_ \\u9879\\u7ed3\\u679c\",\"sZeroRecords\":\"\\u6ca1\\u6709\\u5339\\u914d\\u7ed3\\u679c\",\"sInfo\":\"\\u663e\\u793a\\u7b2c _START_ \\u81f3 _END_ \\u9879\\u7ed3\\u679c\\uff0c\\u5171 _TOTAL_ \\u9879\",\"sInfoEmpty\":\"\\u663e\\u793a\\u7b2c 0 \\u81f3 0 \\u9879\\u7ed3\\u679c\\uff0c\\u5171 0 \\u9879\",\"sInfoFiltered\":\"(\\u7531 _MAX_ \\u9879\\u7ed3\\u679c\\u8fc7\\u6ee4)\",\"sInfoPostFix\":\"\",\"sSearch\":\"\\u641c\\u7d22:\",\"sUrl\":\"\",\"sEmptyTable\":\"\\u8868\\u4e2d\\u6570\\u636e\\u4e3a\\u7a7a\",\"sLoadingRecords\":\"\\u8f7d\\u5165\\u4e2d...\",\"sInfoThousands\":\",\",\"oPaginate\":{\"sFirst\":\"\\u9996\\u9875\",\"sPrevious\":\"\\u4e0a\\u9875\",\"sNext\":\"\\u4e0b\\u9875\",\"sLast\":\"\\u672b\\u9875\"}},\"hasWholeData\":true}/bigcharts-data-end</pre></div></div><div class='tab-pane' id='每日持仓和收益'><table id=\"bigchart-fe6acbf8d5054744bd9ebf5e489fe91f\" width=\"100%\" class=\"display bigchart\"></table><div class=\"bigchart-data\"><pre style=\"display:none\">bigcharts-data-start/{\"deferRender\":true,\"data\":[[\"2021-04-27\",\"RB2110.SHF\",\"\\u87ba\\u7eb92110\",\"[\\u591a:5375.0,\\u7a7a:0]\",5411.0,\"0[\\u591a:0,\\u7a7a:0]\",\"0.0[\\u591a:0.0,\\u7a7a:0]\",0.0,540.0],[\"\",\"\",\"\",\"\\uff08\\u603b\\u8d44\\u4ea7\\uffe5100636.35\",\"\\u5269\\u4f59\\u91d1\\u989d\\uffe5100636.35\",\"\\u5f53\\u65e5\\u4ea4\\u6613\\u4f63\\u91d1\\uffe50.0\\uff09\",\"\\uffe50.0[\\u591a:0.0,\\u7a7a:0.0]\",\"\\uffe50.0\",\"\\uffe5540.0\"],[\"2021-04-26\",\"RB2110.SHF\",\"\\u87ba\\u7eb92110\",\"[\\u591a:5298.0,\\u7a7a:0]\",5371.0,\"0[\\u591a:0,\\u7a7a:0]\",\"0.0[\\u591a:0.0,\\u7a7a:0]\",0.0,-40.0],[\"\",\"\",\"\",\"\\uff08\\u603b\\u8d44\\u4ea7\\uffe5100101.19\",\"\\u5269\\u4f59\\u91d1\\u989d\\uffe5100101.19\",\"\\u5f53\\u65e5\\u4ea4\\u6613\\u4f63\\u91d1\\uffe50.0\\uff09\",\"\\uffe50.0[\\u591a:0.0,\\u7a7a:0.0]\",\"\\uffe50.0\",\"\\uffe5-40.0\"],[\"2021-04-23\",\"RB2110.SHF\",\"\\u87ba\\u7eb92110\",\"[\\u591a:5230.0,\\u7a7a:0]\",5299.0,\"0[\\u591a:0,\\u7a7a:0]\",\"0.0[\\u591a:0.0,\\u7a7a:0]\",0.0,-200.0],[\"\",\"\",\"\",\"\\uff08\\u603b\\u8d44\\u4ea7\\uffe5100145.96\",\"\\u5269\\u4f59\\u91d1\\u989d\\uffe5100145.96\",\"\\u5f53\\u65e5\\u4ea4\\u6613\\u4f63\\u91d1\\uffe50.0\\uff09\",\"\\uffe50.0[\\u591a:0.0,\\u7a7a:0.0]\",\"\\uffe50.0\",\"\\uffe5-200.0\"],[\"2021-04-22\",\"RB2110.SHF\",\"\\u87ba\\u7eb92110\",\"[\\u591a:5185.0,\\u7a7a:0]\",5208.0,\"0[\\u591a:0,\\u7a7a:0]\",\"0.0[\\u591a:0.0,\\u7a7a:0]\",0.0,160.0],[\"\",\"\",\"\",\"\\uff08\\u603b\\u8d44\\u4ea7\\uffe5100350.67\",\"\\u5269\\u4f59\\u91d1\\u989d\\uffe5100350.67\",\"\\u5f53\\u65e5\\u4ea4\\u6613\\u4f63\\u91d1\\uffe50.0\\uff09\",\"\\uffe50.0[\\u591a:0.0,\\u7a7a:0.0]\",\"\\uffe50.0\",\"\\uffe5160.0\"],[\"2021-04-21\",\"RB2110.SHF\",\"\\u87ba\\u7eb92110\",\"[\\u591a:5173.0,\\u7a7a:0]\",5188.0,\"0[\\u591a:0,\\u7a7a:0]\",\"0.0[\\u591a:0.0,\\u7a7a:0]\",0.0,200.0],[\"\",\"\",\"\",\"\\uff08\\u603b\\u8d44\\u4ea7\\uffe5100195.34\",\"\\u5269\\u4f59\\u91d1\\u989d\\uffe5100195.34\",\"\\u5f53\\u65e5\\u4ea4\\u6613\\u4f63\\u91d1\\uffe50.0\\uff09\",\"\\uffe50.0[\\u591a:0.0,\\u7a7a:0.0]\",\"\\uffe50.0\",\"\\uffe5200.0\"]],\"columns\":[{\"title\":\"\\u65e5\\u671f\",\"orderable\":false},{\"title\":\"\\u5408\\u7ea6\\u4ee3\\u7801\",\"orderable\":false},{\"title\":\"\\u5408\\u7ea6\\u540d\\u79f0\",\"orderable\":false},{\"title\":\"\\u6301\\u4ed3\\u5747\\u4ef7\",\"orderable\":false},{\"title\":\"\\u6536\\u76d8\\u4ef7\",\"orderable\":false},{\"title\":\"\\u6570\\u91cf\",\"orderable\":false},{\"title\":\"\\u6301\\u4ed3\\u4fdd\\u8bc1\\u91d1\",\"orderable\":false},{\"title\":\"\\u6d6e\\u52a8\\u76c8\\u4e8f\",\"orderable\":false},{\"title\":\"\\u5e73\\u4ed3\\u76c8\\u4e8f\",\"orderable\":false}],\"searching\":false,\"info\":false,\"pageLength\":20,\"lengthChange\":false,\"order\":[],\"__type\":\"datatable\",\"__id\":\"bigchart-fe6acbf8d5054744bd9ebf5e489fe91f\",\"language\":{\"sProcessing\":\"\\u5904\\u7406\\u4e2d...\",\"sLengthMenu\":\"\\u663e\\u793a _MENU_ \\u9879\\u7ed3\\u679c\",\"sZeroRecords\":\"\\u6ca1\\u6709\\u5339\\u914d\\u7ed3\\u679c\",\"sInfo\":\"\\u663e\\u793a\\u7b2c _START_ \\u81f3 _END_ \\u9879\\u7ed3\\u679c\\uff0c\\u5171 _TOTAL_ \\u9879\",\"sInfoEmpty\":\"\\u663e\\u793a\\u7b2c 0 \\u81f3 0 \\u9879\\u7ed3\\u679c\\uff0c\\u5171 0 \\u9879\",\"sInfoFiltered\":\"(\\u7531 _MAX_ \\u9879\\u7ed3\\u679c\\u8fc7\\u6ee4)\",\"sInfoPostFix\":\"\",\"sSearch\":\"\\u641c\\u7d22:\",\"sUrl\":\"\",\"sEmptyTable\":\"\\u8868\\u4e2d\\u6570\\u636e\\u4e3a\\u7a7a\",\"sLoadingRecords\":\"\\u8f7d\\u5165\\u4e2d...\",\"sInfoThousands\":\",\",\"oPaginate\":{\"sFirst\":\"\\u9996\\u9875\",\"sPrevious\":\"\\u4e0a\\u9875\",\"sNext\":\"\\u4e0b\\u9875\",\"sLast\":\"\\u672b\\u9875\"}},\"hasWholeData\":true}/bigcharts-data-end</pre></div></div><div class='tab-pane' id='输出日志'><table id=\"bigchart-186fe4b80d224226aea53bd17aaa16d2\" width=\"100%\" class=\"display bigchart\"></table><div class=\"bigchart-data\"><pre style=\"display:none\">bigcharts-data-start/{\"deferRender\":true,\"data\":[[\"2021-04-27 00:00:00\",\"INFO\",\"order[21:01:00][id:9,RB2110.SHF \\u4e70\\u5165\\u5f00\\u4ed3 2@5373.0, MARKET]\"],[\"2021-04-27 00:00:00\",\"INFO\",\"order[22:58:00][id:10,RB2110.SHF \\u5356\\u51fa\\u5e73\\u4eca 2@5402.0, MARKET]\"],[\"2021-04-26 00:00:00\",\"INFO\",\"order[21:01:00][id:7,RB2110.SHF \\u4e70\\u5165\\u5f00\\u4ed3 2@5297.0, MARKET]\"],[\"2021-04-26 00:00:00\",\"INFO\",\"order[21:02:00][id:8,RB2110.SHF \\u5356\\u51fa\\u5e73\\u4eca 2@5297.0, MARKET]\"],[\"2021-04-23 00:00:00\",\"INFO\",\"order[21:01:00][id:5,RB2110.SHF \\u4e70\\u5165\\u5f00\\u4ed3 2@5228.0, MARKET]\"],[\"2021-04-23 00:00:00\",\"INFO\",\"order[21:02:00][id:6,RB2110.SHF \\u5356\\u51fa\\u5e73\\u4eca 2@5222.0, MARKET]\"],[\"2021-04-22 00:00:00\",\"INFO\",\"order[21:01:00][id:3,RB2110.SHF \\u4e70\\u5165\\u5f00\\u4ed3 2@5184.0, MARKET]\"],[\"2021-04-22 00:00:00\",\"INFO\",\"order[21:17:00][id:4,RB2110.SHF \\u5356\\u51fa\\u5e73\\u4eca 2@5193.0, MARKET]\"],[\"2021-04-21 00:00:00\",\"INFO\",\"order[14:51:00][id:1,RB2110.SHF \\u4e70\\u5165\\u5f00\\u4ed3 2@5172.0, MARKET]\"],[\"2021-04-21 00:00:00\",\"INFO\",\"order[14:58:00][id:2,RB2110.SHF \\u5356\\u51fa\\u5e73\\u4eca 2@5183.0, MARKET]\"]],\"columns\":[{\"title\":\"\\u65f6\\u95f4\",\"orderable\":false},{\"title\":\"\\u7ea7\\u522b\",\"orderable\":false},{\"title\":\"\\u5185\\u5bb9\",\"orderable\":false}],\"searching\":false,\"info\":false,\"pageLength\":20,\"lengthChange\":false,\"order\":[],\"__type\":\"datatable\",\"__id\":\"bigchart-186fe4b80d224226aea53bd17aaa16d2\",\"language\":{\"sProcessing\":\"\\u5904\\u7406\\u4e2d...\",\"sLengthMenu\":\"\\u663e\\u793a _MENU_ \\u9879\\u7ed3\\u679c\",\"sZeroRecords\":\"\\u6ca1\\u6709\\u5339\\u914d\\u7ed3\\u679c\",\"sInfo\":\"\\u663e\\u793a\\u7b2c _START_ \\u81f3 _END_ \\u9879\\u7ed3\\u679c\\uff0c\\u5171 _TOTAL_ \\u9879\",\"sInfoEmpty\":\"\\u663e\\u793a\\u7b2c 0 \\u81f3 0 \\u9879\\u7ed3\\u679c\\uff0c\\u5171 0 \\u9879\",\"sInfoFiltered\":\"(\\u7531 _MAX_ \\u9879\\u7ed3\\u679c\\u8fc7\\u6ee4)\",\"sInfoPostFix\":\"\",\"sSearch\":\"\\u641c\\u7d22:\",\"sUrl\":\"\",\"sEmptyTable\":\"\\u8868\\u4e2d\\u6570\\u636e\\u4e3a\\u7a7a\",\"sLoadingRecords\":\"\\u8f7d\\u5165\\u4e2d...\",\"sInfoThousands\":\",\",\"oPaginate\":{\"sFirst\":\"\\u9996\\u9875\",\"sPrevious\":\"\\u4e0a\\u9875\",\"sNext\":\"\\u4e0b\\u9875\",\"sLast\":\"\\u672b\\u9875\"}},\"hasWholeData\":true}/bigcharts-data-end</pre></div></div></div></div><div class='bigchart-data'><pre style='display:none'>bigcharts-data-start/{\"__type\":\"tabs\",\"__id\":\"bigchart-3912d806186d435ea8de9c09f87e2790\"}/bigcharts-data-end</pre></div>"
      ],
      "text/plain": [
       "<IPython.core.display.HTML object>"
      ]
     },
     "metadata": {},
     "output_type": "display_data"
    },
    {
     "data": {
      "text/plain": [
       "[2021-05-20 13:40:53.164030] INFO: moduleinvoker: hfbacktest.v1 运行完成[7.340155s]."
      ]
     },
     "metadata": {
      "is_log": true,
      "status": "INFO"
     },
     "output_type": "display_data"
    }
   ],
   "source": [
    "import talib as ta\n",
    "from datetime import datetime\n",
    "from datetime import timedelta\n",
    "from bigtrader.constant import Direction, OrderType\n",
    "\n",
    "STRATEGY_NAME = \"STRATEGY_1m\"\n",
    "\n",
    "# def on_timer(context, data=None):\n",
    "#     \"\"\"定时器事件(每秒回调一次)\"\"\"\n",
    "#     context.counter += 1\n",
    "#     if context.counter == 15:\n",
    "#         rv = context.order(\"IF2106.CFX\", 1, 5054, order_type=\"MARKET\")\n",
    "#         print(\">>>>>>>>>>>>start order1\", rv)\n",
    "#         rv = context.order(\"P2109.DCE\", 2, 8000, order_type=\"MARKET\")\n",
    "#         print(\">>>>>>>>>>>>start order2\", rv)\n",
    "#         print(context.get_pending_order_reqs(context.get_custom_id()))\n",
    "        \n",
    "def initialize(context):\n",
    "    \"\"\"初始化\"\"\"\n",
    "    print(\"initialize\")  \n",
    "    context.symbol = instruments\n",
    "    context.my_instruments = context.get_conf_param(\"instruments\")#从传入参数中获取需要交易的合约\n",
    "    context.closetime_day = context.get_conf_param(\"closetime_day\")#日内策略白盘平仓时间，一般14:58\n",
    "    context.closetime_night = context.get_conf_param(\"closetime_night\")#日内策略夜盘平仓时间，一般22:58，注意有些商品夜盘收盘时间不一样\n",
    "    context.order_num = context.get_conf_param(\"order_num\")#下单手数\n",
    "    context.set_universe(context.my_instruments)#设置需要处理的合约\n",
    "\n",
    "#     # 如果是非交易时间段，等到上午9点或晚上21点再执行algo()\n",
    "#     schedule(schedule_func = algo, date_rule = '1d', time_rule = '09:00:00')\n",
    "#     schedule(schedule_func = algo, date_rule = '1d', time_rule = '21:00:00')\n",
    "        \n",
    "def before_trading(context, data):\n",
    "    \"\"\"盘前处理\"\"\"\n",
    "    #print(\"before_trading\")\n",
    "    context.subscribe(context.my_instruments) #注册合约\n",
    "    context.index = 0\n",
    "    context.current_instruments = []\n",
    "    context.flag = 0 #用于获取今开\n",
    "    context.count = 0\n",
    "#     print(context.current_instruments)\n",
    "#     context.history_data = data.history(context.current_instruments[0], [\"high\",\"low\",\"open\"], 2, \"1d\")\n",
    "\n",
    "    for instr in context.my_instruments:\n",
    "        index = instr.find('.')\n",
    "        #获取当前主力合约，如果含有.即指定某个具体合约，否则认为是需要处理主连合约\n",
    "        if index<=0:\n",
    "            context.current_instruments.append(data.current_dominant(instr))\n",
    "        else:#使用指定合约\n",
    "            context.current_instruments.append(instr)                                   \n",
    "    print(\"当前主力合约\", context.current_instruments)\n",
    "    context.flag = context.flag + 1\n",
    "    \n",
    "    \n",
    "def handle_data(context, data):\n",
    "    \"\"\"Bar行情推送\"\"\"\n",
    "    #print(\"handle_data:\", data.current_dt)\n",
    "    #获取当前时间\n",
    "    if context.flag == 1 :\n",
    "        context.history_data = data.history(context.current_instruments[0], [\"high\",\"low\",\"open\"], 1, \"1m\")\n",
    "        context.flag = context.flag + 1\n",
    "        context.today_open = context.history_data.iloc[-1]['open'] \n",
    "        \n",
    "    cur_date =  data.current_dt\n",
    "    cur_hm = cur_date.strftime('%H:%M')\n",
    "    time = cur_hm\n",
    "\n",
    "    #部分品种夜盘收盘时间不一样，此时间表示指定的尾盘平仓时间往后偏移30分钟，这段时间内不能开新仓，只能平仓。给30分钟是为了足够的冗余\n",
    "    closetime_nightshift = (datetime.strptime(context.closetime_night,'%H:%M') + timedelta(minutes = 30)).strftime('%H:%M')\n",
    "    \n",
    "    # 开盘价直接在data最后一个数据里取到,前一交易日的最高和最低价为history_data里面的倒数第二条中取到\n",
    "    context.history_data_2 = data.history(context.current_instruments[0], [\"high\",\"low\",\"open\"], 1, \"1d\")\n",
    "    context.high = context.history_data_2.iloc[0]['high']\n",
    "    context.low = context.history_data_2.iloc[0]['low']\n",
    "\n",
    "    for instr in context.current_instruments:\n",
    "        # 分别获取多头持仓，和空头持仓\n",
    "        position_long = context.get_position(instr, Direction.LONG)\n",
    "        position_short = context.get_position(instr, Direction.SHORT)\n",
    "        # 获取当前价格\n",
    "        price = data.current(instr, \"close\")\n",
    "        \n",
    "        #尾盘平仓\n",
    "        if((cur_hm>=context.closetime_day and cur_hm<=\"15:00\") or (cur_hm>=context.closetime_night and cur_hm<=closetime_nightshift)):\n",
    "            if(position_long.current_qty != 0):\n",
    "                rv = context.sell_close(instr, position_long.avail_qty, price, order_type=OrderType.MARKET)\n",
    "                msg = str(data.current_dt) +  \" 尾盘平多 for \" + instr + \" 最新价=\" + str(price) + \" rv:\" + str(rv)\n",
    "                context.write_log(msg, stdout=1) #输出关键日志\n",
    "            if(position_short.current_qty != 0):\n",
    "                rv = context.buy_close(instr, position_short.avail_qty, price, order_type=OrderType.MARKET)\n",
    "                msg = str(data.current_dt) +  \" 尾盘平空 for \" + instr + \" 最新价=\" + str(price) + \" rv:\" + str(rv)\n",
    "                context.write_log(msg, stdout=1) #输出关键日志\n",
    "            #尾盘不开新仓，直接返回\n",
    "            continue\n",
    "\n",
    "        # 多头持仓小于开盘价止损 平多\n",
    "        c1 = position_long.avail_qty != 0 and price < context.today_open\n",
    "        # 空头持仓大于开盘价止损 平空\n",
    "        c2 = position_short.avail_qty != 0 and price > context.today_open\n",
    "        # 当前的最新价大于了前一天的最高价且没有持仓 开多\n",
    "        c3 = (position_short.avail_qty == 0 and position_long.avail_qty == 0) and (price > context.high and not context.count)\n",
    "        # 当前最新价小于了前一天的最低价且没有持仓 开空\n",
    "        c4 = (position_short.avail_qty == 0 and position_long.avail_qty == 0) and (price < context.low and not context.count)\n",
    "\n",
    "        if c1:\n",
    "            rv = context.sell_close(instr, position_long.avail_qty, price, order_type=OrderType.MARKET)\n",
    "            msg = str(data.current_dt) +  \" 平多 for \" + instr + \" 最新价=\" + str(price) + \" rv:\" + str(rv)\n",
    "            context.write_log(msg, stdout=1) #输出关键日志\n",
    "            \n",
    "        if c2:\n",
    "            rv = context.buy_close(instr, position_short.avail_qty, price, order_type=OrderType.MARKET)\n",
    "            msg = str(data.current_dt) +  \" 平空 for \" + instr + \" 最新价=\" + str(price) + \" rv:\" + str(rv)\n",
    "            context.write_log(msg, stdout=1) #输出关键日志\n",
    "\n",
    "        if c3:\n",
    "            rv = context.buy_open(instr, context.order_num, price, order_type=OrderType.MARKET)\n",
    "            msg = str(data.current_dt) +  \" 开多 for \" + instr + \" 最新价=\" + str(price) + \" rv:\" + str(rv)\n",
    "            context.count = 1 #只开仓一次的判断\n",
    "            context.write_log(msg, stdout=1) #输出关键日志\n",
    "\n",
    "        if c4:\n",
    "            rv = context.sell_open(instr, context.order_num, price, order_type=OrderType.MARKET)\n",
    "            msg = str(data.current_dt) +  \" 开空 for \" + instr + \" 最新价=\" + str(price) + \" rv:\" + str(rv)\n",
    "            context.count = 1\n",
    "            context.write_log(msg, stdout=1) #输出关键日志\n",
    "                \n",
    "#             # 交易逻辑部分\n",
    "#             if position_long: 。\n",
    "#                 if price < open:\n",
    "#                     order_volume(symbol=context.symbol, volume=1, side=OrderSide_Sell,\n",
    "#                                  order_type=OrderType_Market, position_effect=PositionEffect_Close)\n",
    "#                     print('以市价单平多仓')\n",
    "#             elif position_short: # 空头持仓大于开盘价止损。\n",
    "#                 if bar.close > open:\n",
    "#                     order_volume(symbol=context.symbol, volume=1, side=OrderSide_Buy,\n",
    "#                                  order_type=OrderType_Market, position_effect=PositionEffect_Close)\n",
    "#                     print('以市价单平空仓')\n",
    "#             else:  # 没有持仓。\n",
    "#                 if bar.close > high and not context.count:  # 当前的最新价大于了前一天的最高价\n",
    "#                     # 开多\n",
    "#                     order_volume(symbol=context.symbol, volume=1, side=OrderSide_Buy,\n",
    "#                                  order_type=OrderType_Market, position_effect=PositionEffect_Open)\n",
    "#                     print('以市价单开多仓')\n",
    "#                     context.count = 1\n",
    "#                 elif bar.close < low and not context.count:  # 当前最新价小于了前一天的最低价\n",
    "#                     # 开空\n",
    "#                     order_volume(symbol=context.symbol, volume=1, side=OrderSide_Sell,\n",
    "#                                  order_type=OrderType_Market, position_effect=PositionEffect_Open)\n",
    "#                     print('以市价单开空仓')\n",
    "#                     context.count = 1\n",
    "\n",
    "            \n",
    "def handle_order(context, order):\n",
    "    \"\"\"委托回报推送\"\"\"\n",
    "    msg = \"handle_order:\" + order.log_str()\n",
    "    context.write_log(msg, stdout=1) #输出关键日志\n",
    "    \n",
    "        \n",
    "def handle_trade(context, trade):\n",
    "    \"\"\"成交回报推送\"\"\"\n",
    "    msg = \"handle_trade:\" + trade.log_str()\n",
    "    context.write_log(msg, stdout=1) #输出关键日志\n",
    "    \n",
    "    # 分别获取多头持仓，和空头持仓\n",
    "    position_long = context.get_position(trade.instrument, Direction.LONG)\n",
    "    position_short = context.get_position(trade.instrument, Direction.SHORT)\n",
    "    msg = \"当前多头持仓:\"+ str(position_long) + \"当前空头持仓:\"+ str(position_short)\n",
    "    context.write_log(msg, stdout=1) #输出关键日志\n",
    "    \n",
    "\n",
    "\n",
    "instruments = ['RB2110.SHF']#[\"RB2110.SHF\"] #[\"RB2110.SHF\"] [I2105.DCE\"] ['RB']# RB2101.SHF 如果想用主连合约，可以出入合约简码，例如RB,I,CF\n",
    "#需要交易者传入的参数\n",
    "strategy_setting = [\n",
    "    {\n",
    "        \"instruments\": instruments,\n",
    "        \"order_num\": 2,\n",
    "        \"closetime_day\": \"14:58\",\n",
    "        \"closetime_night\": \"22:58\"\n",
    "    }    \n",
    "    \n",
    "]\n",
    "start_date = \"2021-04-21\"\n",
    "end_date = \"2021-04-27\"\n",
    "md = M.hfbacktest.v1(start_date=start_date,\n",
    "                     end_date=end_date,\n",
    "                     instruments=instruments,\n",
    "                     capital_base=100000,\n",
    "                     product_type=Product.FUTURE,\n",
    "                     frequency=Frequency.MINUTE,\n",
    "                     initialize=initialize,\n",
    "                     before_trading_start=before_trading,\n",
    "                     handle_data=handle_data,\n",
    "                     handle_order=handle_order,\n",
    "                     handle_trade=handle_trade,\n",
    "                     plot_charts=True,\n",
    "                     volume_limit=1.0,\n",
    "                     disable_cache=0,\n",
    "                     show_debug_info=1,\n",
    "                     strategy_setting=strategy_setting,\n",
    "                     slippage_type=SlippageType.FIXED,#滑点固定模式\n",
    "                     slippage_value=1.0,#买卖双向各1个滑点\n",
    "                     m_deps=np.random.rand())"
   ]
  },
  {
   "cell_type": "code",
   "execution_count": null,
   "metadata": {},
   "outputs": [],
   "source": []
  }
 ],
 "metadata": {
  "is_mlstudio": "false",
  "kernelspec": {
   "display_name": "Python 3",
   "language": "python",
   "name": "python3"
  },
  "language_info": {
   "codemirror_mode": {
    "name": "ipython",
    "version": 3
   },
   "file_extension": ".py",
   "mimetype": "text/x-python",
   "name": "python",
   "nbconvert_exporter": "python",
   "pygments_lexer": "ipython3",
   "version": "3.8.7"
  }
 },
 "nbformat": 4,
 "nbformat_minor": 4
}
