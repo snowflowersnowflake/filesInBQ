{
 "cells": [
  {
   "cell_type": "markdown",
   "metadata": {},
   "source": [
    "## 理论介绍"
   ]
  },
  {
   "cell_type": "markdown",
   "metadata": {},
   "source": [
    "风险平价投资组合是一种资产配置，其重点是**配置风险**，而不是配置资产。例如，典型的债券40％、股票60％投资组合中，股票风险很大。风险平价（等同风险）是这样一种投资组合：**单个资产（在这种情况下为债券和股票）对整体投资组合总风险具有相同的风险贡献**。该理论在过去几十年中得到普及和发展，基于风险的资产配置理念已被用于许多策略，如管理期货策略和着名的桥水全天候基金。有研究表明，这种资产配置策略比基于资产的配置策略提供更好的风险调整回报。 "
   ]
  },
  {
   "cell_type": "code",
   "execution_count": null,
   "metadata": {},
   "outputs": [],
   "source": [
    "我将讨论风险平价的一个非常基本的例子，以及如何构建简单的风险平价（相等风险）投资组合，并将其扩展到风险预算组合（目标风险分配）的具体实现。"
   ]
  },
  {
   "cell_type": "code",
   "execution_count": null,
   "metadata": {},
   "outputs": [],
   "source": [
    "首先将资产j的**边际风险贡献（$MRC_j$）**定义为："
   ]
  },
  {
   "cell_type": "markdown",
   "metadata": {},
   "source": [
    "$$MRC_j = \\frac{\\partial \\sigma_p}{\\partial w_j} = \\frac{(V*w)_j}{\\sigma_p}$$\n",
    "\n",
    "其中：\n",
    "\n",
    "$w_j$表示第j个资产的权重\n",
    "\n",
    "$V$表示资产的协方差矩阵\n",
    "\n",
    "$\\sigma_p = \\sqrt{w*V*w^T}$ 表示组合风险"
   ]
  },
  {
   "cell_type": "code",
   "execution_count": null,
   "metadata": {},
   "outputs": [],
   "source": [
    "然后，资产j对总投资组合的**风险贡献($RC_j$)**为："
   ]
  },
  {
   "cell_type": "code",
   "execution_count": null,
   "metadata": {},
   "outputs": [],
   "source": [
    "$$RC_j = w*MRC_j = \\frac{{w_j(V*w)}_j}{\\sigma_p}$$"
   ]
  },
  {
   "cell_type": "code",
   "execution_count": null,
   "metadata": {},
   "outputs": [],
   "source": [
    "风险平价投资组合是所有资产中每个资产的$RC$相等的投资组合。"
   ]
  },
  {
   "cell_type": "code",
   "execution_count": null,
   "metadata": {},
   "outputs": [],
   "source": [
    "计算风险平价组合的权重，本质上属于一个**二次优化**问题。\n",
    "\n",
    "让投资组合资产$RC$的平方误差的总和为(优化问题的目标函数)："
   ]
  },
  {
   "cell_type": "code",
   "execution_count": null,
   "metadata": {},
   "outputs": [],
   "source": [
    "$$J(x)=(\\sum_{i=1}^n\\sum_{j=1}^n(w_i(V*w))_i-w_j(V*w)_j)^2$$"
   ]
  },
  {
   "cell_type": "code",
   "execution_count": null,
   "metadata": {},
   "outputs": [],
   "source": [
    "优化问题的约束条件为：\n",
    "\n",
    "$$minJ(x)$$\n",
    "\n",
    "$$s.t.\\sum_iw_i = 1 $$  \n",
    "\n",
    "$$1 \\geq wi \\geq 0$$"
   ]
  },
  {
   "cell_type": "markdown",
   "metadata": {},
   "source": [
    "## 代码实现"
   ]
  },
  {
   "cell_type": "markdown",
   "metadata": {},
   "source": [
    "- 假设组合有四项资产\n",
    "- 资产收益率为$R$\n",
    "- 资产协方差为$V$"
   ]
  },
  {
   "cell_type": "code",
   "execution_count": 15,
   "metadata": {},
   "outputs": [],
   "source": [
    "# 协方差矩阵和收益率向量\n",
    "from scipy.optimize import minimize\n",
    "V = V\n",
    "R = mu # return"
   ]
  },
  {
   "cell_type": "code",
   "execution_count": 16,
   "metadata": {},
   "outputs": [],
   "source": [
    " # 风险预算优化\n",
    "def calculate_portfolio_var(w,V):\n",
    "    # 计算组合风险的函数\n",
    "    w = np.matrix(w)\n",
    "    return (w*V*w.T)[0,0]\n",
    "\n",
    "def calculate_risk_contribution(w,V):\n",
    "    # 计算单个资产对总体风险贡献度的函数\n",
    "    w = np.matrix(w)\n",
    "    sigma = np.sqrt(calculate_portfolio_var(w,V))\n",
    "    # 边际风险贡献\n",
    "    MRC = V*w.T\n",
    "    # 风险贡献\n",
    "    RC = np.multiply(MRC,w.T)/sigma\n",
    "    return RC\n",
    "\n",
    "def risk_budget_objective(x,pars):\n",
    "    # 计算组合风险\n",
    "    V = pars[0]# 协方差矩阵\n",
    "    x_t = pars[1] # 组合中资产预期风险贡献度的目标向量\n",
    "    sig_p =  np.sqrt(calculate_portfolio_var(x,V)) # portfolio sigma\n",
    "    risk_target = np.asmatrix(np.multiply(sig_p,x_t))\n",
    "    asset_RC = calculate_risk_contribution(x,V)\n",
    "    J = sum(np.square(asset_RC-risk_target.T))[0,0] # sum of squared error\n",
    "    return J\n",
    "\n",
    "def total_weight_constraint(x):\n",
    "    return np.sum(x)-1.0\n",
    "\n",
    "def long_only_constraint(x):\n",
    "    return x\n"
   ]
  },
  {
   "cell_type": "code",
   "execution_count": 21,
   "metadata": {},
   "outputs": [],
   "source": [
    "# 根据资产预期目标风险贡献度来计算各资产的权重\n",
    "def calcu_w(x):\n",
    "    w0 = [0.2, 0.2, 0.2] \n",
    "#     x_t = [0.25, 0.25, 0.25, 0.25] # 目标是让四个资产风险贡献度相等，即都为25%\n",
    "    x_t = x \n",
    "    cons = ({'type': 'eq', 'fun': total_weight_constraint},\n",
    "    {'type': 'ineq', 'fun': long_only_constraint})\n",
    "    res= minimize(risk_budget_objective, w0, args=[V,x_t], method='SLSQP',constraints=cons, options={'disp': True})\n",
    "    w_rb = np.asmatrix(res.x)\n",
    "    return w_rb"
   ]
  },
  {
   "cell_type": "code",
   "execution_count": 24,
   "metadata": {},
   "outputs": [],
   "source": [
    "# 将各资产风险贡献度绘制成柱状图\n",
    "def plot_rc(w):\n",
    "    rc = calculate_risk_contribution(w, V)\n",
    "    rc = rc.tolist()\n",
    "    rc = [i[0] for i in rc]\n",
    "    rc = pd.DataFrame(rc,columns=['rick contribution'],index=[1,2,3])\n",
    "    T.plot(rc, chart_type='column', title = 'Contribution to risk')\n",
    "    "
   ]
  },
  {
   "cell_type": "code",
   "execution_count": 25,
   "metadata": {},
   "outputs": [
    {
     "name": "stdout",
     "output_type": "stream",
     "text": [
      "Optimization terminated successfully    (Exit mode 0)\n",
      "            Current function value: 0.0001314586611012819\n",
      "            Iterations: 5\n",
      "            Function evaluations: 20\n",
      "            Gradient evaluations: 5\n",
      "各资产权重： [[0.33679511 0.38700389 0.27620101]]\n"
     ]
    },
    {
     "data": {
      "text/html": [
       "<div id=\"bigchart-89d42d527e664d0b9ca1a80345a1f5ae\" class=\"bigchart\"></div><div class=\"bigchart-data\"><pre style=\"display:none\">bigcharts-data-start/{\"chart\":{\"height\":400,\"type\":\"column\",\"renderTo\":\"bigchart-89d42d527e664d0b9ca1a80345a1f5ae\"},\"legend\":{\"enabled\":true},\"title\":{\"text\":\"Contribution to risk\"},\"stock\":false,\"series\":[{\"name\":\"rick contribution\",\"yAxis\":0,\"data\":[[1,0.0271],[2,0.0264],[3,0.0257]]}],\"xAxis\":{}}/bigcharts-data-end</pre></div>"
      ],
      "text/plain": [
       "<IPython.core.display.HTML object>"
      ]
     },
     "metadata": {},
     "output_type": "display_data"
    }
   ],
   "source": [
    "# 假设四个资产的风险贡献度相等\n",
    "w_rb = calcu_w([0.25, 0.25, 0.25])\n",
    "print('各资产权重：', w_rb)\n",
    "plot_rc(w_rb)"
   ]
  },
  {
   "cell_type": "code",
   "execution_count": 26,
   "metadata": {},
   "outputs": [
    {
     "ename": "ValueError",
     "evalue": "operands could not be broadcast together with shapes (3,1) (4,1) ",
     "output_type": "error",
     "traceback": [
      "\u001b[0;31m---------------------------------------------------------------------------\u001b[0m",
      "\u001b[0;31mValueError\u001b[0m                                Traceback (most recent call last)",
      "\u001b[0;32m<ipython-input-26-d8095becf035>\u001b[0m in \u001b[0;36m<module>\u001b[0;34m\u001b[0m\n\u001b[1;32m      1\u001b[0m \u001b[0;31m# 假设风险贡献度依次为0.3,0.3,0.1,0.3\u001b[0m\u001b[0;34m\u001b[0m\u001b[0;34m\u001b[0m\u001b[0;34m\u001b[0m\u001b[0m\n\u001b[0;32m----> 2\u001b[0;31m \u001b[0mw\u001b[0m \u001b[0;34m=\u001b[0m \u001b[0mcalcu_w\u001b[0m\u001b[0;34m(\u001b[0m\u001b[0;34m[\u001b[0m\u001b[0;36m0.3\u001b[0m\u001b[0;34m,\u001b[0m \u001b[0;36m0.3\u001b[0m \u001b[0;34m,\u001b[0m\u001b[0;36m0.1\u001b[0m\u001b[0;34m,\u001b[0m\u001b[0;36m0.3\u001b[0m\u001b[0;34m]\u001b[0m\u001b[0;34m)\u001b[0m\u001b[0;34m\u001b[0m\u001b[0;34m\u001b[0m\u001b[0m\n\u001b[0m\u001b[1;32m      3\u001b[0m \u001b[0mprint\u001b[0m\u001b[0;34m(\u001b[0m\u001b[0;34m'各资产权重：'\u001b[0m\u001b[0;34m,\u001b[0m \u001b[0mw\u001b[0m\u001b[0;34m)\u001b[0m\u001b[0;34m\u001b[0m\u001b[0;34m\u001b[0m\u001b[0m\n\u001b[1;32m      4\u001b[0m \u001b[0mplot_rc\u001b[0m\u001b[0;34m(\u001b[0m\u001b[0mw\u001b[0m\u001b[0;34m)\u001b[0m\u001b[0;34m\u001b[0m\u001b[0;34m\u001b[0m\u001b[0m\n",
      "\u001b[0;32m<ipython-input-21-f7119e04761c>\u001b[0m in \u001b[0;36mcalcu_w\u001b[0;34m(x)\u001b[0m\n\u001b[1;32m      6\u001b[0m     cons = ({'type': 'eq', 'fun': total_weight_constraint},\n\u001b[1;32m      7\u001b[0m     {'type': 'ineq', 'fun': long_only_constraint})\n\u001b[0;32m----> 8\u001b[0;31m     \u001b[0mres\u001b[0m\u001b[0;34m=\u001b[0m \u001b[0mminimize\u001b[0m\u001b[0;34m(\u001b[0m\u001b[0mrisk_budget_objective\u001b[0m\u001b[0;34m,\u001b[0m \u001b[0mw0\u001b[0m\u001b[0;34m,\u001b[0m \u001b[0margs\u001b[0m\u001b[0;34m=\u001b[0m\u001b[0;34m[\u001b[0m\u001b[0mV\u001b[0m\u001b[0;34m,\u001b[0m\u001b[0mx_t\u001b[0m\u001b[0;34m]\u001b[0m\u001b[0;34m,\u001b[0m \u001b[0mmethod\u001b[0m\u001b[0;34m=\u001b[0m\u001b[0;34m'SLSQP'\u001b[0m\u001b[0;34m,\u001b[0m\u001b[0mconstraints\u001b[0m\u001b[0;34m=\u001b[0m\u001b[0mcons\u001b[0m\u001b[0;34m,\u001b[0m \u001b[0moptions\u001b[0m\u001b[0;34m=\u001b[0m\u001b[0;34m{\u001b[0m\u001b[0;34m'disp'\u001b[0m\u001b[0;34m:\u001b[0m \u001b[0;32mTrue\u001b[0m\u001b[0;34m}\u001b[0m\u001b[0;34m)\u001b[0m\u001b[0;34m\u001b[0m\u001b[0;34m\u001b[0m\u001b[0m\n\u001b[0m\u001b[1;32m      9\u001b[0m     \u001b[0mw_rb\u001b[0m \u001b[0;34m=\u001b[0m \u001b[0mnp\u001b[0m\u001b[0;34m.\u001b[0m\u001b[0masmatrix\u001b[0m\u001b[0;34m(\u001b[0m\u001b[0mres\u001b[0m\u001b[0;34m.\u001b[0m\u001b[0mx\u001b[0m\u001b[0;34m)\u001b[0m\u001b[0;34m\u001b[0m\u001b[0;34m\u001b[0m\u001b[0m\n\u001b[1;32m     10\u001b[0m     \u001b[0;32mreturn\u001b[0m \u001b[0mw_rb\u001b[0m\u001b[0;34m\u001b[0m\u001b[0;34m\u001b[0m\u001b[0m\n",
      "\u001b[0;32m<ipython-input-16-426ed8228448>\u001b[0m in \u001b[0;36mrisk_budget_objective\u001b[0;34m(x, pars)\u001b[0m\n\u001b[1;32m     22\u001b[0m    \u001b[0mrisk_target\u001b[0m \u001b[0;34m=\u001b[0m \u001b[0mnp\u001b[0m\u001b[0;34m.\u001b[0m\u001b[0masmatrix\u001b[0m\u001b[0;34m(\u001b[0m\u001b[0mnp\u001b[0m\u001b[0;34m.\u001b[0m\u001b[0mmultiply\u001b[0m\u001b[0;34m(\u001b[0m\u001b[0msig_p\u001b[0m\u001b[0;34m,\u001b[0m\u001b[0mx_t\u001b[0m\u001b[0;34m)\u001b[0m\u001b[0;34m)\u001b[0m\u001b[0;34m\u001b[0m\u001b[0;34m\u001b[0m\u001b[0m\n\u001b[1;32m     23\u001b[0m    \u001b[0masset_RC\u001b[0m \u001b[0;34m=\u001b[0m \u001b[0mcalculate_risk_contribution\u001b[0m\u001b[0;34m(\u001b[0m\u001b[0mx\u001b[0m\u001b[0;34m,\u001b[0m\u001b[0mV\u001b[0m\u001b[0;34m)\u001b[0m\u001b[0;34m\u001b[0m\u001b[0;34m\u001b[0m\u001b[0m\n\u001b[0;32m---> 24\u001b[0;31m    \u001b[0mJ\u001b[0m \u001b[0;34m=\u001b[0m \u001b[0msum\u001b[0m\u001b[0;34m(\u001b[0m\u001b[0mnp\u001b[0m\u001b[0;34m.\u001b[0m\u001b[0msquare\u001b[0m\u001b[0;34m(\u001b[0m\u001b[0masset_RC\u001b[0m\u001b[0;34m-\u001b[0m\u001b[0mrisk_target\u001b[0m\u001b[0;34m.\u001b[0m\u001b[0mT\u001b[0m\u001b[0;34m)\u001b[0m\u001b[0;34m)\u001b[0m\u001b[0;34m[\u001b[0m\u001b[0;36m0\u001b[0m\u001b[0;34m,\u001b[0m\u001b[0;36m0\u001b[0m\u001b[0;34m]\u001b[0m \u001b[0;31m# sum of squared error\u001b[0m\u001b[0;34m\u001b[0m\u001b[0;34m\u001b[0m\u001b[0m\n\u001b[0m\u001b[1;32m     25\u001b[0m    \u001b[0;32mreturn\u001b[0m \u001b[0mJ\u001b[0m\u001b[0;34m\u001b[0m\u001b[0;34m\u001b[0m\u001b[0m\n\u001b[1;32m     26\u001b[0m \u001b[0;34m\u001b[0m\u001b[0m\n",
      "\u001b[0;31mValueError\u001b[0m: operands could not be broadcast together with shapes (3,1) (4,1) "
     ]
    }
   ],
   "source": [
    "# 假设风险贡献度依次为0.3,0.3,0.1,0.3\n",
    "w = calcu_w([0.3, 0.3 ,0.1,0.3])\n",
    "print('各资产权重：', w)\n",
    "plot_rc(w)"
   ]
  },
  {
   "cell_type": "code",
   "execution_count": 33,
   "metadata": {},
   "outputs": [
    {
     "data": {
      "image/png": "[encoded data removed]",
      "text/plain": [
       "<Figure size 1080x648 with 1 Axes>"
      ]
     },
     "metadata": {
      "needs_background": "light"
     },
     "output_type": "display_data"
    }
   ],
   "source": [
    "import numpy as np\n",
    "import matplotlib.pyplot as plt\n",
    "import matplotlib as mpl\n",
    "\n",
    "rf = 0.05                 # 无风险利率\n",
    "mu = np.array([0.1,0.15,0.18]) # 预期收益率向量\n",
    "sigma = np.array([0.1,0.12,0.15])\n",
    "rou_ab, rou_ac, rou_bc = 0.2, 0.5, -0.2\n",
    "# 协方差矩阵\n",
    "C = np.array([[1,      rou_ab,  rou_ac],\n",
    "              [rou_ab, 1,       rou_bc],\n",
    "              [rou_ac, rou_bc,  1     ]])\n",
    "V = np.outer(sigma,sigma)*C\n",
    "\n",
    "# 前沿曲线绘图函数\n",
    "def plot_efficient_frontier(rf=rf,mu=mu,V=V,is_subplot=False,show_E=False,strategy=None):\n",
    "    f = mu-rf                 # 超额收益\n",
    "    N = len(mu)\n",
    "    e = np.ones(N)\n",
    "    sigma = np.sqrt(np.diag(V))\n",
    "    V_inverse = np.linalg.inv(V)\n",
    "    # 等权投资组合\n",
    "    w_E = e/N\n",
    "    sigma2_E = w_E.dot(V).dot(w_E)\n",
    "    sigma_E = np.sqrt(sigma2_E)\n",
    "    f_E = w_E.dot(f)\n",
    "    # 最小方差组合\n",
    "    w_C = V_inverse.dot(e)/e.T.dot(V_inverse).dot(e)\n",
    "    sigma2_C = w_C.dot(V).dot(w_C)\n",
    "    sigma_C = np.sqrt(sigma2_C)\n",
    "    f_C = w_C.dot(f)\n",
    "    # 夏普组合\n",
    "    w_Q = np.array([0.33679511,0.38700389,0.27620101])\n",
    "\n",
    "    sigma2_Q = w_Q.dot(V).dot(w_Q)\n",
    "    sigma_Q = np.sqrt(sigma2_Q)\n",
    "    f_Q = w_Q.dot(f)\n",
    "    \n",
    "    # 有效前沿曲线\n",
    "    f_P = np.linspace(f_C,1.5*np.max(mu)) # 只取上半部分抛物线\n",
    "    get_w_P = lambda fp: (f_Q-fp)/(f_Q-f_C)*w_C + (fp-f_C)/(f_Q-f_C)*w_Q\n",
    "    w_P = np.array([get_w_P(fp) for fp in f_P])\n",
    "    k = (sigma2_Q-sigma2_C)/(f_Q-f_C)**2\n",
    "    sigma2_P = sigma2_C + k*(f_P-f_C)**2\n",
    "    sigma_P = np.sqrt(sigma2_P)\n",
    "    r_P = rf + w_P.dot(f)\n",
    "    # 策略组合\n",
    "    if strategy is not None:\n",
    "        w_S,f_S,sigma_S = strategy(pred_ret,V)\n",
    "    # 资本市场曲线CML\n",
    "    # s = np.linspace(0,0.2)\n",
    "    # CML = rf + f_Q/sigma_Q * s\n",
    "    # 有效前沿曲线绘制\n",
    "    plt.plot(sigma_P,r_P)\n",
    "#     plt.title('efficient frontier',fontsize=20)\n",
    "    plt.title('efficient frontier',fontsize=10)\n",
    "    plt.xlabel('$\\sigma$',fontsize=20)\n",
    "    plt.ylabel('return of Portfolio',fontsize=20)\n",
    "    x_axis_low, x_axis_high = sigma_C-(sigma_P.max()-sigma_C)*0.1,sigma_P.max()\n",
    "    plt.xlim(x_axis_low, x_axis_high)\n",
    "    # 绘制风险资产\n",
    "    plt.plot(sigma,mu,'bo')\n",
    "    x_axis_length = x_axis_high-x_axis_low\n",
    "    text_margin_space = x_axis_length*0.03\n",
    "    for i in range(N):\n",
    "        plt.text(sigma[i]+text_margin_space,mu[i]-text_margin_space,'asset '+str(i+1),fontsize=10)\n",
    "\n",
    "\n",
    "    plt.plot(sigma_Q, rf+f_Q,'ro')\n",
    "    plt.text(sigma_Q-text_margin_space,rf+f_Q+text_margin_space,'Q',fontsize=15)\n",
    "#    plt.plot(0, rf,'yo')\n",
    "#    plt.text(0-0.005,rf+0.008,'$r_{f}$',fontsize=15)\n",
    "    # 绘制CML\n",
    "    # plt.plot(s, CML, 'r-')\n",
    "    # plt.text(0.15,0.28,'CML',fontsize=15)\n",
    "    if not is_subplot:\n",
    "        plt.show()\n",
    "plt.figure(figsize=(15,9))\n",
    "plot_efficient_frontier(show_E=True)"
   ]
  }
 ],
 "metadata": {
  "kernelspec": {
   "display_name": "Python 3",
   "language": "python",
   "name": "python3"
  },
  "language_info": {
   "codemirror_mode": {
    "name": "ipython",
    "version": 3
   },
   "file_extension": ".py",
   "mimetype": "text/x-python",
   "name": "python",
   "nbconvert_exporter": "python",
   "pygments_lexer": "ipython3",
   "version": "3.8.7"
  }
 },
 "nbformat": 4,
 "nbformat_minor": 4
}
