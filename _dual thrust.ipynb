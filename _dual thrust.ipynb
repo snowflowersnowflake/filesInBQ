{
 "cells": [
  {
   "cell_type": "code",
   "execution_count": 1,
   "metadata": {},
   "outputs": [
    {
     "data": {
      "text/plain": [
       "[2021-05-21 13:54:02.545793] INFO: moduleinvoker: hfbacktest.v1 开始运行.."
      ]
     },
     "metadata": {
      "is_log": true,
      "status": "INFO"
     },
     "output_type": "display_data"
    },
    {
     "data": {
      "text/plain": [
       "[2021-05-21 13:54:02.570978] INFO: hfbacktest: passed-in daily_data_ds:None"
      ]
     },
     "metadata": {
      "is_log": true,
      "status": "INFO"
     },
     "output_type": "display_data"
    },
    {
     "data": {
      "text/plain": [
       "[2021-05-21 13:54:02.572886] INFO: hfbacktest: passed-in minute_data_ds:None"
      ]
     },
     "metadata": {
      "is_log": true,
      "status": "INFO"
     },
     "output_type": "display_data"
    },
    {
     "data": {
      "text/plain": [
       "[2021-05-21 13:54:02.574588] INFO: hfbacktest: passed-in tick_data_ds:None"
      ]
     },
     "metadata": {
      "is_log": true,
      "status": "INFO"
     },
     "output_type": "display_data"
    },
    {
     "data": {
      "text/plain": [
       "[2021-05-21 13:54:02.575673] INFO: hfbacktest: passed-in each_data_ds:None"
      ]
     },
     "metadata": {
      "is_log": true,
      "status": "INFO"
     },
     "output_type": "display_data"
    },
    {
     "data": {
      "text/plain": [
       "[2021-05-21 13:54:02.576963] INFO: hfbacktest: passed-in dominant_data_ds:None"
      ]
     },
     "metadata": {
      "is_log": true,
      "status": "INFO"
     },
     "output_type": "display_data"
    },
    {
     "data": {
      "text/plain": [
       "[2021-05-21 13:54:02.578893] INFO: hfbacktest: passed-in benchmark_data_ds:None"
      ]
     },
     "metadata": {
      "is_log": true,
      "status": "INFO"
     },
     "output_type": "display_data"
    },
    {
     "data": {
      "text/plain": [
       "[2021-05-21 13:54:02.580883] INFO: hfbacktest: passed-in trading_calendar_ds:None"
      ]
     },
     "metadata": {
      "is_log": true,
      "status": "INFO"
     },
     "output_type": "display_data"
    },
    {
     "data": {
      "text/plain": [
       "[2021-05-21 13:54:02.583242] INFO: hfbacktest: biglearning V1.2.0"
      ]
     },
     "metadata": {
      "is_log": true,
      "status": "INFO"
     },
     "output_type": "display_data"
    },
    {
     "data": {
      "text/plain": [
       "[2021-05-21 13:54:02.584634] INFO: hfbacktest: bigtrader v1.7.6"
      ]
     },
     "metadata": {
      "is_log": true,
      "status": "INFO"
     },
     "output_type": "display_data"
    },
    {
     "data": {
      "text/plain": [
       "[2021-05-21 13:54:02.598931] INFO: hfbacktest: strategy callbacks:{'on_init': <function initialize at 0x7fdd432e19d0>, 'on_start': <function before_trading at 0x7fdd432e1f70>, 'handle_data': <function handle_data at 0x7fdd432e1790>, 'handle_trade': <function handle_trade at 0x7fdd43309280>, 'handle_order': <function handle_order at 0x7fdd43309160>}"
      ]
     },
     "metadata": {
      "is_log": true,
      "status": "INFO"
     },
     "output_type": "display_data"
    },
    {
     "data": {
      "text/plain": [
       "[2021-05-21 13:54:02.606451] INFO: hfbacktest: begin reading history data, 2021-04-21 00:00:00~2021-04-27, disable_cache:0"
      ]
     },
     "metadata": {
      "is_log": true,
      "status": "INFO"
     },
     "output_type": "display_data"
    },
    {
     "data": {
      "text/plain": [
       "[2021-05-21 13:54:02.607805] INFO: hfbacktest: reading benchmark data 2021-04-01 00:00:00~2021-04-27..."
      ]
     },
     "metadata": {
      "is_log": true,
      "status": "INFO"
     },
     "output_type": "display_data"
    },
    {
     "data": {
      "text/plain": [
       "[2021-05-21 13:54:02.624957] INFO: moduleinvoker: cached.v2 开始运行.."
      ]
     },
     "metadata": {
      "is_log": true,
      "status": "INFO"
     },
     "output_type": "display_data"
    },
    {
     "data": {
      "text/plain": [
       "[2021-05-21 13:54:02.645210] INFO: moduleinvoker: 命中缓存"
      ]
     },
     "metadata": {
      "is_log": true,
      "status": "INFO"
     },
     "output_type": "display_data"
    },
    {
     "data": {
      "text/plain": [
       "[2021-05-21 13:54:02.648525] INFO: moduleinvoker: cached.v2 运行完成[0.02357s]."
      ]
     },
     "metadata": {
      "is_log": true,
      "status": "INFO"
     },
     "output_type": "display_data"
    },
    {
     "data": {
      "text/plain": [
       "[2021-05-21 13:54:02.774022] INFO: hfbacktest: reading daily data 2019-10-22 00:00:00~2021-04-27..."
      ]
     },
     "metadata": {
      "is_log": true,
      "status": "INFO"
     },
     "output_type": "display_data"
    },
    {
     "data": {
      "text/plain": [
       "[2021-05-21 13:54:02.778679] INFO: moduleinvoker: cached.v2 开始运行.."
      ]
     },
     "metadata": {
      "is_log": true,
      "status": "INFO"
     },
     "output_type": "display_data"
    },
    {
     "data": {
      "text/plain": [
       "[2021-05-21 13:54:02.787571] INFO: moduleinvoker: 命中缓存"
      ]
     },
     "metadata": {
      "is_log": true,
      "status": "INFO"
     },
     "output_type": "display_data"
    },
    {
     "data": {
      "text/plain": [
       "[2021-05-21 13:54:02.789513] INFO: moduleinvoker: cached.v2 运行完成[0.01085s]."
      ]
     },
     "metadata": {
      "is_log": true,
      "status": "INFO"
     },
     "output_type": "display_data"
    },
    {
     "data": {
      "text/plain": [
       "[2021-05-21 13:54:02.859211] INFO: hfbacktest: reading minute data 2021-03-09 00:00:00~2021-04-27..."
      ]
     },
     "metadata": {
      "is_log": true,
      "status": "INFO"
     },
     "output_type": "display_data"
    },
    {
     "data": {
      "text/plain": [
       "[2021-05-21 13:54:02.863905] INFO: moduleinvoker: cached.v2 开始运行.."
      ]
     },
     "metadata": {
      "is_log": true,
      "status": "INFO"
     },
     "output_type": "display_data"
    },
    {
     "data": {
      "text/plain": [
       "[2021-05-21 13:54:02.873922] INFO: moduleinvoker: 命中缓存"
      ]
     },
     "metadata": {
      "is_log": true,
      "status": "INFO"
     },
     "output_type": "display_data"
    },
    {
     "data": {
      "text/plain": [
       "[2021-05-21 13:54:02.875982] INFO: moduleinvoker: cached.v2 运行完成[0.012099s]."
      ]
     },
     "metadata": {
      "is_log": true,
      "status": "INFO"
     },
     "output_type": "display_data"
    },
    {
     "data": {
      "text/plain": [
       "[2021-05-21 13:54:03.062264] INFO: hfbacktest: reading dominant data 2021-04-12 00:00:00~2021-04-27..."
      ]
     },
     "metadata": {
      "is_log": true,
      "status": "INFO"
     },
     "output_type": "display_data"
    },
    {
     "data": {
      "text/plain": [
       "[2021-05-21 13:54:03.068397] INFO: moduleinvoker: cached.v2 开始运行.."
      ]
     },
     "metadata": {
      "is_log": true,
      "status": "INFO"
     },
     "output_type": "display_data"
    },
    {
     "data": {
      "text/plain": [
       "[2021-05-21 13:54:03.098779] INFO: moduleinvoker: 命中缓存"
      ]
     },
     "metadata": {
      "is_log": true,
      "status": "INFO"
     },
     "output_type": "display_data"
    },
    {
     "data": {
      "text/plain": [
       "[2021-05-21 13:54:03.100335] INFO: moduleinvoker: cached.v2 运行完成[0.031982s]."
      ]
     },
     "metadata": {
      "is_log": true,
      "status": "INFO"
     },
     "output_type": "display_data"
    },
    {
     "data": {
      "text/plain": [
       "[2021-05-21 13:54:03.239101] INFO: hfbacktest: cached_benchmark_ds:DataSource(177b7a9305b04de29637aa7e4579de10T)"
      ]
     },
     "metadata": {
      "is_log": true,
      "status": "INFO"
     },
     "output_type": "display_data"
    },
    {
     "data": {
      "text/plain": [
       "[2021-05-21 13:54:03.241169] INFO: hfbacktest: cached_daily_ds:DataSource(034e158881124fa8849ddd9f01483fa6T)"
      ]
     },
     "metadata": {
      "is_log": true,
      "status": "INFO"
     },
     "output_type": "display_data"
    },
    {
     "data": {
      "text/plain": [
       "[2021-05-21 13:54:03.243309] INFO: hfbacktest: cached_minute_ds:DataSource(672b79aa4dfe4d33ae119887632594adT)"
      ]
     },
     "metadata": {
      "is_log": true,
      "status": "INFO"
     },
     "output_type": "display_data"
    },
    {
     "data": {
      "text/plain": [
       "[2021-05-21 13:54:03.245246] INFO: hfbacktest: cached_tick_ds:None"
      ]
     },
     "metadata": {
      "is_log": true,
      "status": "INFO"
     },
     "output_type": "display_data"
    },
    {
     "data": {
      "text/plain": [
       "[2021-05-21 13:54:03.246536] INFO: hfbacktest: cached_each_ds:None"
      ]
     },
     "metadata": {
      "is_log": true,
      "status": "INFO"
     },
     "output_type": "display_data"
    },
    {
     "data": {
      "text/plain": [
       "[2021-05-21 13:54:03.248886] INFO: hfbacktest: dominant_data_ds:DataSource(2fa10c710a3d427290191bfd3ed31759T)"
      ]
     },
     "metadata": {
      "is_log": true,
      "status": "INFO"
     },
     "output_type": "display_data"
    },
    {
     "data": {
      "text/plain": [
       "[2021-05-21 13:54:03.252466] INFO: hfbacktest: read history data done, call run_backtest()"
      ]
     },
     "metadata": {
      "is_log": true,
      "status": "INFO"
     },
     "output_type": "display_data"
    },
    {
     "name": "stdout",
     "output_type": "stream",
     "text": [
      "end_date= 2021-04-27\n",
      "2021-05-21 13:54:03.274848 run trading v1.7.6 \n",
      "2021-05-21 13:54:03.274967 init history datas... \n",
      "2021-05-21 13:54:03.291191 init trading env... \n",
      "2021-05-21 13:54:03.291488 run_backtest() capital:100000, frequency:1m, product_type:future, date:2021-04-21 00:00:00 ~ 2021-04-27 00:00:00 \n",
      "2021-05-21 13:54:03.291748 create_app app_name:Strategy already created! \n",
      "2021-05-21 13:54:03.291883 run_backtest() running... \n",
      "initialize\n",
      "2021-05-21 13:54:03.391848 backtest transforming 1m...\n"
     ]
    },
    {
     "name": "stdout",
     "output_type": "stream",
     "text": [
      "2021-05-21 13:54:03.510118 strategy_20210521(bkt999,): handle_order:[bkt999,1,RB2110.SHF,long,open,0,2,5170.0,pending,13:45:00,1] \n",
      "2021-05-21 13:54:03.510598 strategy_20210521(bkt999,): 2021-04-21 13:45:00 开多 for RB2110.SHF 最新价=5170.0 rv:0 \n",
      "2021-05-21 13:54:03.514221 strategy_20210521(bkt999,): handle_order:[bkt999,1,RB2110.SHF,long,open,2,2,5170.0,filled,13:45:00,1] \n",
      "2021-05-21 13:54:03.515000 strategy_20210521(bkt999,): handle_trade:[bkt999,1,RB2110.SHF,long,open,2,5172.0,SHFE.1,13:46:00.000000] \n",
      "2021-05-21 13:54:03.515339 strategy_20210521(bkt999,): 当前多头持仓:Position(bkt999,RB2110.SHF,long,current_qty:2,avail_qty:2,cost_price:5172.0,last_price:5172.0)当前空头持仓:Position(bkt999,RB2110.SHF,short,current_qty:0,avail_qty:0,cost_price:0.0,last_price:0.0) \n",
      "2021-05-21 13:54:03.577201 strategy_20210521(bkt999,): handle_order:[bkt999,2,RB2110.SHF,short,close_today,0,2,5183.0,pending,14:58:00,2] \n",
      "2021-05-21 13:54:03.577470 strategy_20210521(bkt999,): 2021-04-21 14:58:00 尾盘平多 for RB2110.SHF 最新价=5183.0 rv:0 \n",
      "2021-05-21 13:54:03.580501 strategy_20210521(bkt999,): handle_order:[bkt999,2,RB2110.SHF,short,close_today,2,2,5183.0,filled,14:58:00,2] \n",
      "2021-05-21 13:54:03.581671 strategy_20210521(bkt999,): handle_trade:[bkt999,2,RB2110.SHF,short,close_today,2,5183.0,SHFE.2,14:59:00.000000] \n",
      "2021-05-21 13:54:03.582144 strategy_20210521(bkt999,): 当前多头持仓:Position(bkt999,RB2110.SHF,long,current_qty:0,avail_qty:0,cost_price:5172.0,last_price:5183.0)当前空头持仓:Position(bkt999,RB2110.SHF,short,current_qty:0,avail_qty:0,cost_price:0.0,last_price:0.0) \n",
      "2021-05-21 13:54:03.647302 strategy_20210521(bkt999,): handle_order:[bkt999,3,RB2110.SHF,long,open,0,2,5223.0,pending,22:24:00,3] \n",
      "2021-05-21 13:54:03.647784 strategy_20210521(bkt999,): 2021-04-21 22:24:00 开多 for RB2110.SHF 最新价=5223.0 rv:0 \n",
      "2021-05-21 13:54:03.654100 strategy_20210521(bkt999,): handle_order:[bkt999,3,RB2110.SHF,long,open,2,2,5223.0,filled,22:24:00,3] \n",
      "2021-05-21 13:54:03.655008 strategy_20210521(bkt999,): handle_trade:[bkt999,3,RB2110.SHF,long,open,2,5225.0,SHFE.3,22:25:00.000000] \n",
      "2021-05-21 13:54:03.655262 strategy_20210521(bkt999,): 当前多头持仓:Position(bkt999,RB2110.SHF,long,current_qty:2,avail_qty:2,cost_price:5225.0,last_price:5225.0)当前空头持仓:Position(bkt999,RB2110.SHF,short,current_qty:0,avail_qty:0,cost_price:0.0,last_price:0.0) \n",
      "2021-05-21 13:54:03.684765 strategy_20210521(bkt999,): handle_order:[bkt999,4,RB2110.SHF,short,close_today,0,2,5215.0,pending,22:58:00,4] \n",
      "2021-05-21 13:54:03.685324 strategy_20210521(bkt999,): 2021-04-21 22:58:00 尾盘平多 for RB2110.SHF 最新价=5215.0 rv:0 \n",
      "2021-05-21 13:54:03.687765 strategy_20210521(bkt999,): handle_order:[bkt999,4,RB2110.SHF,short,close_today,2,2,5215.0,filled,22:58:00,4] \n",
      "2021-05-21 13:54:03.688799 strategy_20210521(bkt999,): handle_trade:[bkt999,4,RB2110.SHF,short,close_today,2,5214.0,SHFE.4,22:59:00.000000] \n",
      "2021-05-21 13:54:03.688917 strategy_20210521(bkt999,): 当前多头持仓:Position(bkt999,RB2110.SHF,long,current_qty:0,avail_qty:0,cost_price:5225.0,last_price:5214.0)当前空头持仓:Position(bkt999,RB2110.SHF,short,current_qty:0,avail_qty:0,cost_price:0.0,last_price:0.0) \n",
      "2021-05-21 13:54:03.694729 strategy_20210521(bkt999,): handle_order:[bkt999,5,RB2110.SHF,long,open,0,2,5222.0,pending,09:07:00,5] \n",
      "2021-05-21 13:54:03.694970 strategy_20210521(bkt999,): 2021-04-22 09:07:00 开多 for RB2110.SHF 最新价=5222.0 rv:0 \n",
      "2021-05-21 13:54:03.697278 strategy_20210521(bkt999,): handle_order:[bkt999,5,RB2110.SHF,long,open,2,2,5222.0,filled,09:07:00,5] \n",
      "2021-05-21 13:54:03.698013 strategy_20210521(bkt999,): handle_trade:[bkt999,5,RB2110.SHF,long,open,2,5224.0,SHFE.5,09:08:00.000000] \n",
      "2021-05-21 13:54:03.698298 strategy_20210521(bkt999,): 当前多头持仓:Position(bkt999,RB2110.SHF,long,current_qty:2,avail_qty:2,cost_price:5224.0,last_price:5224.0)当前空头持仓:Position(bkt999,RB2110.SHF,short,current_qty:0,avail_qty:0,cost_price:0.0,last_price:0.0) \n"
     ]
    },
    {
     "name": "stdout",
     "output_type": "stream",
     "text": [
      "2021-05-21 13:54:03.878515 strategy_20210521(bkt999,): handle_order:[bkt999,6,RB2110.SHF,short,close_today,0,2,5201.0,pending,14:58:00,6] \n",
      "2021-05-21 13:54:03.878985 strategy_20210521(bkt999,): 2021-04-22 14:58:00 尾盘平多 for RB2110.SHF 最新价=5201.0 rv:0 \n",
      "2021-05-21 13:54:03.882465 strategy_20210521(bkt999,): handle_order:[bkt999,6,RB2110.SHF,short,close_today,2,2,5201.0,filled,14:58:00,6] \n",
      "2021-05-21 13:54:03.883775 strategy_20210521(bkt999,): handle_trade:[bkt999,6,RB2110.SHF,short,close_today,2,5199.0,SHFE.6,14:59:00.000000] \n",
      "2021-05-21 13:54:03.884091 strategy_20210521(bkt999,): 当前多头持仓:Position(bkt999,RB2110.SHF,long,current_qty:0,avail_qty:0,cost_price:5224.0,last_price:5199.0)当前空头持仓:Position(bkt999,RB2110.SHF,short,current_qty:0,avail_qty:0,cost_price:0.0,last_price:0.0) \n"
     ]
    },
    {
     "name": "stdout",
     "output_type": "stream",
     "text": [
      "2021-05-21 13:54:04.085385 strategy_20210521(bkt999,): handle_order:[bkt999,7,RB2110.SHF,long,open,0,2,5258.0,pending,11:26:00,7] \n",
      "2021-05-21 13:54:04.086278 strategy_20210521(bkt999,): 2021-04-23 11:26:00 开多 for RB2110.SHF 最新价=5258.0 rv:0 \n",
      "2021-05-21 13:54:04.089356 strategy_20210521(bkt999,): handle_order:[bkt999,7,RB2110.SHF,long,open,2,2,5258.0,filled,11:26:00,7] \n",
      "2021-05-21 13:54:04.090179 strategy_20210521(bkt999,): handle_trade:[bkt999,7,RB2110.SHF,long,open,2,5259.0,SHFE.7,11:27:00.000000] \n",
      "2021-05-21 13:54:04.090376 strategy_20210521(bkt999,): 当前多头持仓:Position(bkt999,RB2110.SHF,long,current_qty:2,avail_qty:2,cost_price:5259.0,last_price:5259.0)当前空头持仓:Position(bkt999,RB2110.SHF,short,current_qty:0,avail_qty:0,cost_price:0.0,last_price:0.0) \n",
      "2021-05-21 13:54:04.159222 strategy_20210521(bkt999,): handle_order:[bkt999,8,RB2110.SHF,short,close_today,0,2,5291.0,pending,14:58:00,8] \n",
      "2021-05-21 13:54:04.159621 strategy_20210521(bkt999,): 2021-04-23 14:58:00 尾盘平多 for RB2110.SHF 最新价=5291.0 rv:0 \n",
      "2021-05-21 13:54:04.163015 strategy_20210521(bkt999,): handle_order:[bkt999,8,RB2110.SHF,short,close_today,2,2,5291.0,filled,14:58:00,8] \n",
      "2021-05-21 13:54:04.164303 strategy_20210521(bkt999,): handle_trade:[bkt999,8,RB2110.SHF,short,close_today,2,5290.0,SHFE.8,14:59:00.000000] \n",
      "2021-05-21 13:54:04.164583 strategy_20210521(bkt999,): 当前多头持仓:Position(bkt999,RB2110.SHF,long,current_qty:0,avail_qty:0,cost_price:5259.0,last_price:5290.0)当前空头持仓:Position(bkt999,RB2110.SHF,short,current_qty:0,avail_qty:0,cost_price:0.0,last_price:0.0) \n",
      "2021-05-21 13:54:04.207482 strategy_20210521(bkt999,): handle_order:[bkt999,9,RB2110.SHF,long,open,0,2,5349.0,pending,21:50:00,9] \n",
      "2021-05-21 13:54:04.207789 strategy_20210521(bkt999,): 2021-04-23 21:50:00 开多 for RB2110.SHF 最新价=5349.0 rv:0 \n",
      "2021-05-21 13:54:04.209965 strategy_20210521(bkt999,): handle_order:[bkt999,9,RB2110.SHF,long,open,2,2,5349.0,filled,21:50:00,9] \n",
      "2021-05-21 13:54:04.210846 strategy_20210521(bkt999,): handle_trade:[bkt999,9,RB2110.SHF,long,open,2,5350.0,SHFE.9,21:51:00.000000] \n",
      "2021-05-21 13:54:04.211098 strategy_20210521(bkt999,): 当前多头持仓:Position(bkt999,RB2110.SHF,long,current_qty:2,avail_qty:2,cost_price:5350.0,last_price:5350.0)当前空头持仓:Position(bkt999,RB2110.SHF,short,current_qty:0,avail_qty:0,cost_price:0.0,last_price:0.0) \n",
      "2021-05-21 13:54:04.254055 strategy_20210521(bkt999,): handle_order:[bkt999,10,RB2110.SHF,short,close_today,0,2,5370.0,pending,22:58:00,10] \n",
      "2021-05-21 13:54:04.254442 strategy_20210521(bkt999,): 2021-04-23 22:58:00 尾盘平多 for RB2110.SHF 最新价=5370.0 rv:0 \n",
      "2021-05-21 13:54:04.257903 strategy_20210521(bkt999,): handle_order:[bkt999,10,RB2110.SHF,short,close_today,2,2,5370.0,filled,22:58:00,10] \n",
      "2021-05-21 13:54:04.258650 strategy_20210521(bkt999,): handle_trade:[bkt999,10,RB2110.SHF,short,close_today,2,5369.0,SHFE.10,22:59:00.000000] \n",
      "2021-05-21 13:54:04.258844 strategy_20210521(bkt999,): 当前多头持仓:Position(bkt999,RB2110.SHF,long,current_qty:0,avail_qty:0,cost_price:5350.0,last_price:5369.0)当前空头持仓:Position(bkt999,RB2110.SHF,short,current_qty:0,avail_qty:0,cost_price:0.0,last_price:0.0) \n",
      "2021-05-21 13:54:04.264802 strategy_20210521(bkt999,): handle_order:[bkt999,11,RB2110.SHF,long,open,0,2,5415.0,pending,09:01:00,11] \n",
      "2021-05-21 13:54:04.265695 strategy_20210521(bkt999,): 2021-04-26 09:01:00 开多 for RB2110.SHF 最新价=5415.0 rv:0 \n",
      "2021-05-21 13:54:04.270577 strategy_20210521(bkt999,): handle_order:[bkt999,11,RB2110.SHF,long,open,2,2,5415.0,filled,09:01:00,11] \n",
      "2021-05-21 13:54:04.271422 strategy_20210521(bkt999,): handle_trade:[bkt999,11,RB2110.SHF,long,open,2,5416.0,SHFE.11,09:02:00.000000] \n",
      "2021-05-21 13:54:04.271591 strategy_20210521(bkt999,): 当前多头持仓:Position(bkt999,RB2110.SHF,long,current_qty:2,avail_qty:2,cost_price:5416.0,last_price:5416.0)当前空头持仓:Position(bkt999,RB2110.SHF,short,current_qty:0,avail_qty:0,cost_price:0.0,last_price:0.0) \n"
     ]
    },
    {
     "name": "stdout",
     "output_type": "stream",
     "text": [
      "2021-05-21 13:54:04.426476 strategy_20210521(bkt999,): handle_order:[bkt999,12,RB2110.SHF,short,close_today,0,2,5380.0,pending,14:58:00,12] \n",
      "2021-05-21 13:54:04.427507 strategy_20210521(bkt999,): 2021-04-26 14:58:00 尾盘平多 for RB2110.SHF 最新价=5380.0 rv:0 \n",
      "2021-05-21 13:54:04.431178 strategy_20210521(bkt999,): handle_order:[bkt999,12,RB2110.SHF,short,close_today,2,2,5380.0,filled,14:58:00,12] \n",
      "2021-05-21 13:54:04.432349 strategy_20210521(bkt999,): handle_trade:[bkt999,12,RB2110.SHF,short,close_today,2,5379.0,SHFE.12,14:59:00.000000] \n",
      "2021-05-21 13:54:04.432543 strategy_20210521(bkt999,): 当前多头持仓:Position(bkt999,RB2110.SHF,long,current_qty:0,avail_qty:0,cost_price:5416.0,last_price:5379.0)当前空头持仓:Position(bkt999,RB2110.SHF,short,current_qty:0,avail_qty:0,cost_price:0.0,last_price:0.0) \n"
     ]
    },
    {
     "name": "stdout",
     "output_type": "stream",
     "text": [
      "2021-05-21 13:54:04.754621 run_backtest() finished! time cost 1.463s! \n"
     ]
    },
    {
     "data": {
      "text/plain": [
       "[2021-05-21 13:54:05.822868] INFO: hfbacktest: backtest done, raw_perf_ds:DataSource(063a4b7bcf4d4216b10a4647ebdaf7b7T)"
      ]
     },
     "metadata": {
      "is_log": true,
      "status": "INFO"
     },
     "output_type": "display_data"
    },
    {
     "data": {
      "text/html": [
       "<div id='bigchart-86d44ab50c5e4628a7f262422d1b3d56' class='bigchart display' style='display:none'><ul class='nav nav-tabs' style='padding-left: 0;'><li class='tabtitle' style='margin: 0;'><span style='margin: 0;font-size: 1.2em;display: inline-block;padding: 10px 10px;'>Trade(回测/模拟)</span></li><li class='active'><a>收益概况</a></li><li><a>交易详情</a></li><li><a>每日持仓和收益</a></li><li><a>输出日志</a></li></ul><div class='tab-content' style='min-height: 100px;text-align: center;'><div class='tab-pane active' id='收益概况'>\n",
       "<div class='kpicontainer'>\n",
       "    <ul class='kpi'>\n",
       "        <li><span class='title'>收益率</span><span class='value'>-0.27%</span></li>\n",
       "        <li><span class='title'>年化收益率</span><span class='value'>-12.67%</span></li>\n",
       "        <li><span class='title'>基准收益率</span><span class='value'>-0.16%</span></li>\n",
       "        <li><span class='title'>阿尔法</span><span class='value'>-0.19</span></li>\n",
       "        <li><span class='title'>贝塔</span><span class='value'>0.52</span></li>\n",
       "        <li><span class='title'>夏普比率</span><span class='value'>-1.97</span></li>\n",
       "        <li><span class='title'>胜率</span><span class='value'>0.25</span></li>\n",
       "        <li><span class='title'>盈亏比</span><span class='value'>0.84</span></li>\n",
       "        <li><span class='title'>收益波动率</span><span class='value'>8.25%</span></li>\n",
       "        <li><span class='title'>信息比率</span><span class='value'>-0.17</span></li>\n",
       "        <li><span class='title'>最大回撤</span><span class='value'>0.73%</span></li>\n",
       "    </ul>\n",
       "</div>\n",
       "<div id=\"bigchart-98158764d8c047cba9774ff0970360a0\" class=\"bigchart\"></div><div class=\"bigchart-data\"><pre style=\"display:none\">bigcharts-data-start/{\"chart\":{\"height\":400,\"renderTo\":\"bigchart-98158764d8c047cba9774ff0970360a0\"},\"legend\":{\"enabled\":true},\"stock\":true,\"series\":[{\"name\":\"\\u7b56\\u7565\\u6536\\u76ca\\u7387\",\"yAxis\":0,\"data\":[[1618963200000,0.2154],[1619049600000,-0.514],[1619136000000,0.1012],[1619395200000,-0.2685],[1619481600000,-0.2685]],\"color\":\"#ff9900\",\"tooltip\":{\"valueDecimals\":2,\"valueSuffix\":\" %\"}},{\"name\":\"\\u57fa\\u51c6\\u6536\\u76ca\\u7387\",\"yAxis\":0,\"data\":[[1618963200000,0.0],[1619049600000,-0.1863],[1619136000000,0.72],[1619395200000,-0.4218],[1619481600000,-0.1613]],\"color\":\"#6699ff\",\"tooltip\":{\"valueDecimals\":2,\"valueSuffix\":\" %\"}},{\"name\":\"\\u76f8\\u5bf9\\u6536\\u76ca\\u7387\",\"yAxis\":0,\"data\":[[1618963200000,0.2154],[1619049600000,-0.3273],[1619136000000,-0.6159],[1619395200000,0.1437],[1619481600000,-0.1183]],\"color\":\"#994a4d\",\"tooltip\":{\"valueDecimals\":2,\"valueSuffix\":\" %\"},\"visible\":false},{\"name\":\"\\u98ce\\u9669\\u5ea6\",\"yAxis\":1,\"data\":[[1618963200000,0.0],[1619049600000,0.0],[1619136000000,0.0],[1619395200000,0.0],[1619481600000,0.0]],\"color\":\"#66ff99\",\"tooltip\":{\"valueDecimals\":2,\"valueSuffix\":\" %\"},\"visible\":false},{\"name\":\"long_margin\",\"yAxis\":2,\"data\":[[1618963200000,0.0],[1619049600000,0.0],[1619136000000,0.0],[1619395200000,0.0],[1619481600000,0.0]]},{\"name\":\"short_margin\",\"yAxis\":2,\"data\":[[1618963200000,0.0],[1619049600000,0.0],[1619136000000,0.0],[1619395200000,0.0],[1619481600000,0.0]]}],\"xAxis\":{\"title\":{\"text\":\"date\"},\"type\":\"datetime\"},\"yAxis\":[{\"labels\":{\"align\":\"right\",\"x\":-3,\"format\":\"{value}%\"},\"title\":{\"text\":\"\\u51c0\\u503c\\u66f2\\u7ebf\"},\"top\":\"0%\",\"height\":\"62%\",\"offset\":0,\"lineWidth\":2,\"gridLineColor\":\"#cfcfcf\",\"gridLineWidth\":1},{\"labels\":{\"align\":\"right\",\"x\":-3,\"format\":\"{value}%\"},\"title\":{\"text\":\"\\u98ce\\u9669\\u5ea6\"},\"top\":\"66%\",\"height\":\"15%\",\"offset\":0,\"lineWidth\":2,\"gridLineColor\":\"#cfcfcf\",\"gridLineWidth\":1},{\"labels\":{\"align\":\"right\",\"x\":-3},\"title\":{\"text\":\"\\u81ea\\u5b9a\\u4e49\\u6570\\u636e\"},\"top\":\"85%\",\"height\":\"15%\",\"offset\":0,\"lineWidth\":2,\"gridLineColor\":\"#cfcfcf\",\"gridLineWidth\":1}]}/bigcharts-data-end</pre></div></div><div class='tab-pane' id='交易详情'><table id=\"bigchart-0c66c56762c4407b925e4d30ecc7da3f\" width=\"100%\" class=\"display bigchart\"></table><div class=\"bigchart-data\"><pre style=\"display:none\">bigcharts-data-start/{\"deferRender\":true,\"data\":[[\"2021-04-26 14:59:00\",\"RB2110.SHF\",\"\\u87ba\\u7eb9\\u94a22110\",\"\\u5356\\u51fa\",\"\\u5e73\\u4eca\",2,5379.0,-107580.0,0.0],[\"2021-04-26 09:02:00\",\"RB2110.SHF\",\"\\u87ba\\u7eb9\\u94a22110\",\"\\u4e70\\u5165\",\"\\u5f00\\u4ed3\",2,5416.0,108320.0,4.87],[\"2021-04-23 22:59:00\",\"RB2110.SHF\",\"\\u87ba\\u7eb9\\u94a22110\",\"\\u5356\\u51fa\",\"\\u5e73\\u4eca\",2,5369.0,-107380.0,0.0],[\"2021-04-23 21:51:00\",\"RB2110.SHF\",\"\\u87ba\\u7eb9\\u94a22110\",\"\\u4e70\\u5165\",\"\\u5f00\\u4ed3\",2,5350.0,107000.0,4.82],[\"\",\"\",\"\",\"\",\"\",\"\\uff084 \\u7b14\\u4ea4\\u6613\",\"\\u4e70\\u5165 \\uffe5215320.0\",\"\\u5356\\u51fa \\uffe5-214960.0\\uff09\",\"\\u603b\\u4f63\\u91d1\\uffe59.69\\uff09\"],[\"2021-04-23 14:59:00\",\"RB2110.SHF\",\"\\u87ba\\u7eb9\\u94a22110\",\"\\u5356\\u51fa\",\"\\u5e73\\u4eca\",2,5290.0,-105800.0,0.0],[\"2021-04-23 11:27:00\",\"RB2110.SHF\",\"\\u87ba\\u7eb9\\u94a22110\",\"\\u4e70\\u5165\",\"\\u5f00\\u4ed3\",2,5259.0,105180.0,4.73],[\"\",\"\",\"\",\"\",\"\",\"\\uff082 \\u7b14\\u4ea4\\u6613\",\"\\u4e70\\u5165 \\uffe5105180.0\",\"\\u5356\\u51fa \\uffe5-105800.0\\uff09\",\"\\u603b\\u4f63\\u91d1\\uffe54.73\\uff09\"],[\"2021-04-22 14:59:00\",\"RB2110.SHF\",\"\\u87ba\\u7eb9\\u94a22110\",\"\\u5356\\u51fa\",\"\\u5e73\\u4eca\",2,5199.0,-103980.0,0.0],[\"2021-04-22 09:08:00\",\"RB2110.SHF\",\"\\u87ba\\u7eb9\\u94a22110\",\"\\u4e70\\u5165\",\"\\u5f00\\u4ed3\",2,5224.0,104480.0,4.7],[\"2021-04-21 22:59:00\",\"RB2110.SHF\",\"\\u87ba\\u7eb9\\u94a22110\",\"\\u5356\\u51fa\",\"\\u5e73\\u4eca\",2,5214.0,-104280.0,0.0],[\"2021-04-21 22:25:00\",\"RB2110.SHF\",\"\\u87ba\\u7eb9\\u94a22110\",\"\\u4e70\\u5165\",\"\\u5f00\\u4ed3\",2,5225.0,104500.0,4.7],[\"\",\"\",\"\",\"\",\"\",\"\\uff084 \\u7b14\\u4ea4\\u6613\",\"\\u4e70\\u5165 \\uffe5208980.0\",\"\\u5356\\u51fa \\uffe5-208260.0\\uff09\",\"\\u603b\\u4f63\\u91d1\\uffe59.4\\uff09\"],[\"2021-04-21 14:59:00\",\"RB2110.SHF\",\"\\u87ba\\u7eb9\\u94a22110\",\"\\u5356\\u51fa\",\"\\u5e73\\u4eca\",2,5183.0,-103660.0,0.0],[\"2021-04-21 13:46:00\",\"RB2110.SHF\",\"\\u87ba\\u7eb9\\u94a22110\",\"\\u4e70\\u5165\",\"\\u5f00\\u4ed3\",2,5172.0,103440.0,4.65],[\"\",\"\",\"\",\"\",\"\",\"\\uff082 \\u7b14\\u4ea4\\u6613\",\"\\u4e70\\u5165 \\uffe5103440.0\",\"\\u5356\\u51fa \\uffe5-103660.0\\uff09\",\"\\u603b\\u4f63\\u91d1\\uffe54.65\\uff09\"]],\"columns\":[{\"title\":\"\\u6210\\u4ea4\\u65f6\\u95f4\",\"orderable\":false},{\"title\":\"\\u5408\\u7ea6\\u4ee3\\u7801\",\"orderable\":false},{\"title\":\"\\u5408\\u7ea6\\u540d\\u79f0\",\"orderable\":false},{\"title\":\"\\u4e70\\/\\u5356\",\"orderable\":false},{\"title\":\"\\u5f00\\/\\u5e73\",\"orderable\":false},{\"title\":\"\\u6570\\u91cf\",\"orderable\":false},{\"title\":\"\\u6210\\u4ea4\\u4ef7\",\"orderable\":false},{\"title\":\"\\u4ea4\\u6613\\u91d1\\u989d\",\"orderable\":false},{\"title\":\"\\u4ea4\\u6613\\u4f63\\u91d1\",\"orderable\":false}],\"searching\":false,\"info\":false,\"pageLength\":20,\"lengthChange\":false,\"order\":[],\"__type\":\"datatable\",\"__id\":\"bigchart-0c66c56762c4407b925e4d30ecc7da3f\",\"language\":{\"sProcessing\":\"\\u5904\\u7406\\u4e2d...\",\"sLengthMenu\":\"\\u663e\\u793a _MENU_ \\u9879\\u7ed3\\u679c\",\"sZeroRecords\":\"\\u6ca1\\u6709\\u5339\\u914d\\u7ed3\\u679c\",\"sInfo\":\"\\u663e\\u793a\\u7b2c _START_ \\u81f3 _END_ \\u9879\\u7ed3\\u679c\\uff0c\\u5171 _TOTAL_ \\u9879\",\"sInfoEmpty\":\"\\u663e\\u793a\\u7b2c 0 \\u81f3 0 \\u9879\\u7ed3\\u679c\\uff0c\\u5171 0 \\u9879\",\"sInfoFiltered\":\"(\\u7531 _MAX_ \\u9879\\u7ed3\\u679c\\u8fc7\\u6ee4)\",\"sInfoPostFix\":\"\",\"sSearch\":\"\\u641c\\u7d22:\",\"sUrl\":\"\",\"sEmptyTable\":\"\\u8868\\u4e2d\\u6570\\u636e\\u4e3a\\u7a7a\",\"sLoadingRecords\":\"\\u8f7d\\u5165\\u4e2d...\",\"sInfoThousands\":\",\",\"oPaginate\":{\"sFirst\":\"\\u9996\\u9875\",\"sPrevious\":\"\\u4e0a\\u9875\",\"sNext\":\"\\u4e0b\\u9875\",\"sLast\":\"\\u672b\\u9875\"}},\"hasWholeData\":true}/bigcharts-data-end</pre></div></div><div class='tab-pane' id='每日持仓和收益'><table id=\"bigchart-9a4b653175714089976fe57db0a23c6a\" width=\"100%\" class=\"display bigchart\"></table><div class=\"bigchart-data\"><pre style=\"display:none\">bigcharts-data-start/{\"deferRender\":true,\"data\":[[\"2021-04-27\",\"--\",\"--\",\"--\",\"--\",\"--\",\"--\",null,null],[\"\",\"\",\"\",\"\\uff08\\u603b\\u8d44\\u4ea7\\uffe599731.53\",\"\\u5269\\u4f59\\u91d1\\u989d\\uffe599731.53\",\"\\u5f53\\u65e5\\u4ea4\\u6613\\u4f63\\u91d1\\uffe50.0\\uff09\",\"\\uffe50.0[\\u591a:0.0,\\u7a7a:0.0]\",\"\\uffe50.0\",\"\\uffe50.0\"],[\"2021-04-26\",\"RB2110.SHF\",\"\\u87ba\\u7eb92110\",\"[\\u591a:5416.0,\\u7a7a:0]\",5371.0,\"0[\\u591a:0,\\u7a7a:0]\",\"0.0[\\u591a:0.0,\\u7a7a:0]\",0.0,-360.0],[\"\",\"\",\"\",\"\\uff08\\u603b\\u8d44\\u4ea7\\uffe599731.53\",\"\\u5269\\u4f59\\u91d1\\u989d\\uffe599731.53\",\"\\u5f53\\u65e5\\u4ea4\\u6613\\u4f63\\u91d1\\uffe50.0\\uff09\",\"\\uffe50.0[\\u591a:0.0,\\u7a7a:0.0]\",\"\\uffe50.0\",\"\\uffe5-360.0\"],[\"2021-04-23\",\"RB2110.SHF\",\"\\u87ba\\u7eb92110\",\"[\\u591a:5259.0,\\u7a7a:0]\",5299.0,\"0[\\u591a:0,\\u7a7a:0]\",\"0.0[\\u591a:0.0,\\u7a7a:0]\",0.0,620.0],[\"\",\"\",\"\",\"\\uff08\\u603b\\u8d44\\u4ea7\\uffe5100101.22\",\"\\u5269\\u4f59\\u91d1\\u989d\\uffe5100101.22\",\"\\u5f53\\u65e5\\u4ea4\\u6613\\u4f63\\u91d1\\uffe50.0\\uff09\",\"\\uffe50.0[\\u591a:0.0,\\u7a7a:0.0]\",\"\\uffe50.0\",\"\\uffe5620.0\"],[\"2021-04-22\",\"RB2110.SHF\",\"\\u87ba\\u7eb92110\",\"[\\u591a:5224.0,\\u7a7a:0]\",5208.0,\"0[\\u591a:0,\\u7a7a:0]\",\"0.0[\\u591a:0.0,\\u7a7a:0]\",0.0,-720.0],[\"\",\"\",\"\",\"\\uff08\\u603b\\u8d44\\u4ea7\\uffe599485.95\",\"\\u5269\\u4f59\\u91d1\\u989d\\uffe599485.95\",\"\\u5f53\\u65e5\\u4ea4\\u6613\\u4f63\\u91d1\\uffe50.0\\uff09\",\"\\uffe50.0[\\u591a:0.0,\\u7a7a:0.0]\",\"\\uffe50.0\",\"\\uffe5-720.0\"],[\"2021-04-21\",\"RB2110.SHF\",\"\\u87ba\\u7eb92110\",\"[\\u591a:5172.0,\\u7a7a:0]\",5188.0,\"0[\\u591a:0,\\u7a7a:0]\",\"0.0[\\u591a:0.0,\\u7a7a:0]\",0.0,220.0],[\"\",\"\",\"\",\"\\uff08\\u603b\\u8d44\\u4ea7\\uffe5100215.35\",\"\\u5269\\u4f59\\u91d1\\u989d\\uffe5100215.35\",\"\\u5f53\\u65e5\\u4ea4\\u6613\\u4f63\\u91d1\\uffe50.0\\uff09\",\"\\uffe50.0[\\u591a:0.0,\\u7a7a:0.0]\",\"\\uffe50.0\",\"\\uffe5220.0\"]],\"columns\":[{\"title\":\"\\u65e5\\u671f\",\"orderable\":false},{\"title\":\"\\u5408\\u7ea6\\u4ee3\\u7801\",\"orderable\":false},{\"title\":\"\\u5408\\u7ea6\\u540d\\u79f0\",\"orderable\":false},{\"title\":\"\\u6301\\u4ed3\\u5747\\u4ef7\",\"orderable\":false},{\"title\":\"\\u6536\\u76d8\\u4ef7\",\"orderable\":false},{\"title\":\"\\u6570\\u91cf\",\"orderable\":false},{\"title\":\"\\u6301\\u4ed3\\u4fdd\\u8bc1\\u91d1\",\"orderable\":false},{\"title\":\"\\u6d6e\\u52a8\\u76c8\\u4e8f\",\"orderable\":false},{\"title\":\"\\u5e73\\u4ed3\\u76c8\\u4e8f\",\"orderable\":false}],\"searching\":false,\"info\":false,\"pageLength\":20,\"lengthChange\":false,\"order\":[],\"__type\":\"datatable\",\"__id\":\"bigchart-9a4b653175714089976fe57db0a23c6a\",\"language\":{\"sProcessing\":\"\\u5904\\u7406\\u4e2d...\",\"sLengthMenu\":\"\\u663e\\u793a _MENU_ \\u9879\\u7ed3\\u679c\",\"sZeroRecords\":\"\\u6ca1\\u6709\\u5339\\u914d\\u7ed3\\u679c\",\"sInfo\":\"\\u663e\\u793a\\u7b2c _START_ \\u81f3 _END_ \\u9879\\u7ed3\\u679c\\uff0c\\u5171 _TOTAL_ \\u9879\",\"sInfoEmpty\":\"\\u663e\\u793a\\u7b2c 0 \\u81f3 0 \\u9879\\u7ed3\\u679c\\uff0c\\u5171 0 \\u9879\",\"sInfoFiltered\":\"(\\u7531 _MAX_ \\u9879\\u7ed3\\u679c\\u8fc7\\u6ee4)\",\"sInfoPostFix\":\"\",\"sSearch\":\"\\u641c\\u7d22:\",\"sUrl\":\"\",\"sEmptyTable\":\"\\u8868\\u4e2d\\u6570\\u636e\\u4e3a\\u7a7a\",\"sLoadingRecords\":\"\\u8f7d\\u5165\\u4e2d...\",\"sInfoThousands\":\",\",\"oPaginate\":{\"sFirst\":\"\\u9996\\u9875\",\"sPrevious\":\"\\u4e0a\\u9875\",\"sNext\":\"\\u4e0b\\u9875\",\"sLast\":\"\\u672b\\u9875\"}},\"hasWholeData\":true}/bigcharts-data-end</pre></div></div><div class='tab-pane' id='输出日志'><table id=\"bigchart-897126c85eae4cb7ac3dde61c2d8dfc7\" width=\"100%\" class=\"display bigchart\"></table><div class=\"bigchart-data\"><pre style=\"display:none\">bigcharts-data-start/{\"deferRender\":true,\"data\":[[\"2021-04-26 00:00:00\",\"INFO\",\"order[21:50:00][id:9,RB2110.SHF \\u4e70\\u5165\\u5f00\\u4ed3 2@5349.0, MARKET]\"],[\"2021-04-26 00:00:00\",\"INFO\",\"order[22:58:00][id:10,RB2110.SHF \\u5356\\u51fa\\u5e73\\u4eca 2@5370.0, MARKET]\"],[\"2021-04-26 00:00:00\",\"INFO\",\"order[09:01:00][id:11,RB2110.SHF \\u4e70\\u5165\\u5f00\\u4ed3 2@5415.0, MARKET]\"],[\"2021-04-26 00:00:00\",\"INFO\",\"order[14:58:00][id:12,RB2110.SHF \\u5356\\u51fa\\u5e73\\u4eca 2@5380.0, MARKET]\"],[\"2021-04-23 00:00:00\",\"INFO\",\"order[11:26:00][id:7,RB2110.SHF \\u4e70\\u5165\\u5f00\\u4ed3 2@5258.0, MARKET]\"],[\"2021-04-23 00:00:00\",\"INFO\",\"order[14:58:00][id:8,RB2110.SHF \\u5356\\u51fa\\u5e73\\u4eca 2@5291.0, MARKET]\"],[\"2021-04-22 00:00:00\",\"INFO\",\"order[22:24:00][id:3,RB2110.SHF \\u4e70\\u5165\\u5f00\\u4ed3 2@5223.0, MARKET]\"],[\"2021-04-22 00:00:00\",\"INFO\",\"order[22:58:00][id:4,RB2110.SHF \\u5356\\u51fa\\u5e73\\u4eca 2@5215.0, MARKET]\"],[\"2021-04-22 00:00:00\",\"INFO\",\"order[09:07:00][id:5,RB2110.SHF \\u4e70\\u5165\\u5f00\\u4ed3 2@5222.0, MARKET]\"],[\"2021-04-22 00:00:00\",\"INFO\",\"order[14:58:00][id:6,RB2110.SHF \\u5356\\u51fa\\u5e73\\u4eca 2@5201.0, MARKET]\"],[\"2021-04-21 00:00:00\",\"INFO\",\"order[13:45:00][id:1,RB2110.SHF \\u4e70\\u5165\\u5f00\\u4ed3 2@5170.0, MARKET]\"],[\"2021-04-21 00:00:00\",\"INFO\",\"order[14:58:00][id:2,RB2110.SHF \\u5356\\u51fa\\u5e73\\u4eca 2@5183.0, MARKET]\"]],\"columns\":[{\"title\":\"\\u65f6\\u95f4\",\"orderable\":false},{\"title\":\"\\u7ea7\\u522b\",\"orderable\":false},{\"title\":\"\\u5185\\u5bb9\",\"orderable\":false}],\"searching\":false,\"info\":false,\"pageLength\":20,\"lengthChange\":false,\"order\":[],\"__type\":\"datatable\",\"__id\":\"bigchart-897126c85eae4cb7ac3dde61c2d8dfc7\",\"language\":{\"sProcessing\":\"\\u5904\\u7406\\u4e2d...\",\"sLengthMenu\":\"\\u663e\\u793a _MENU_ \\u9879\\u7ed3\\u679c\",\"sZeroRecords\":\"\\u6ca1\\u6709\\u5339\\u914d\\u7ed3\\u679c\",\"sInfo\":\"\\u663e\\u793a\\u7b2c _START_ \\u81f3 _END_ \\u9879\\u7ed3\\u679c\\uff0c\\u5171 _TOTAL_ \\u9879\",\"sInfoEmpty\":\"\\u663e\\u793a\\u7b2c 0 \\u81f3 0 \\u9879\\u7ed3\\u679c\\uff0c\\u5171 0 \\u9879\",\"sInfoFiltered\":\"(\\u7531 _MAX_ \\u9879\\u7ed3\\u679c\\u8fc7\\u6ee4)\",\"sInfoPostFix\":\"\",\"sSearch\":\"\\u641c\\u7d22:\",\"sUrl\":\"\",\"sEmptyTable\":\"\\u8868\\u4e2d\\u6570\\u636e\\u4e3a\\u7a7a\",\"sLoadingRecords\":\"\\u8f7d\\u5165\\u4e2d...\",\"sInfoThousands\":\",\",\"oPaginate\":{\"sFirst\":\"\\u9996\\u9875\",\"sPrevious\":\"\\u4e0a\\u9875\",\"sNext\":\"\\u4e0b\\u9875\",\"sLast\":\"\\u672b\\u9875\"}},\"hasWholeData\":true}/bigcharts-data-end</pre></div></div></div></div><div class='bigchart-data'><pre style='display:none'>bigcharts-data-start/{\"__type\":\"tabs\",\"__id\":\"bigchart-86d44ab50c5e4628a7f262422d1b3d56\"}/bigcharts-data-end</pre></div>"
      ],
      "text/plain": [
       "<IPython.core.display.HTML object>"
      ]
     },
     "metadata": {},
     "output_type": "display_data"
    },
    {
     "data": {
      "text/plain": [
       "[2021-05-21 13:54:06.307236] INFO: moduleinvoker: hfbacktest.v1 运行完成[3.761489s]."
      ]
     },
     "metadata": {
      "is_log": true,
      "status": "INFO"
     },
     "output_type": "display_data"
    }
   ],
   "source": [
    "import talib as ta\n",
    "from datetime import datetime\n",
    "from datetime import timedelta\n",
    "from bigtrader.constant import Direction, OrderType\n",
    "\n",
    "STRATEGY_NAME = \"STRATEGY_1m\"\n",
    "        \n",
    "def initialize(context):\n",
    "    \"\"\"初始化\"\"\"\n",
    "    print(\"initialize\")  \n",
    "#     context.symbol = instruments\n",
    "    context.my_instruments = context.get_conf_param(\"instruments\")#从传入参数中获取需要交易的合约\n",
    "    context.closetime_day = context.get_conf_param(\"closetime_day\")#日内策略白盘平仓时间，一般14:58\n",
    "    context.closetime_night = context.get_conf_param(\"closetime_night\")#日内策略夜盘平仓时间，一般22:58，注意有些商品夜盘收盘时间不一样\n",
    "    context.order_num = context.get_conf_param(\"order_num\")#下单手数\n",
    "    context.set_universe(context.my_instruments)#设置需要处理的合约\n",
    "    context.N = 5\n",
    "    context.k1 = 0.2\n",
    "    context.k2 = 0.2\n",
    "\n",
    "def before_trading(context, data):\n",
    "    \"\"\"盘前处理\"\"\"\n",
    "    #print(\"before_trading\")\n",
    "    context.subscribe(context.my_instruments) #注册合约\n",
    "    context.index = 0\n",
    "    context.flag = 1 #用于获取今开\n",
    "    # 取历史数据\n",
    "    history_data_for_thrust = data.history(context.my_instruments, [\"open\",\"high\",\"low\",\"close\"], context.N, \"1d\")\n",
    "    # 计算Dual Thrust 的上下轨\n",
    "    HH = history_data_for_thrust['high'].max()\n",
    "    HC = history_data_for_thrust['close'].max()\n",
    "    LC = history_data_for_thrust['close'].min()\n",
    "    LL = history_data_for_thrust['low'].min()\n",
    "    context.range = max(HH - LC, HC - LL)\n",
    "#     for instr in context.my_instruments:\n",
    "#         index = instr.find('.')\n",
    "#         #获取当前主力合约，如果含有.即指定某个具体合约，否则认为是需要处理主连合约\n",
    "#         if index<=0:\n",
    "#             context.current_instruments.append(data.current_dominant(instr))\n",
    "#         else:#使用指定合约\n",
    "#             context.current_instruments.append(instr)                                   \n",
    "#     print(\"当前主力合约\", context.current_instruments)\n",
    "    \n",
    "def handle_data(context, data):\n",
    "    \"\"\"Bar行情推送\"\"\"\n",
    "    #获取开盘时间\n",
    "    if context.flag == 1 :\n",
    "        context.history_data = data.history(context.my_instruments, [\"open\"], 1, \"1m\")\n",
    "        context.flag = context.flag + 1\n",
    "        context.today_open = context.history_data.iloc[-1]['open'] \n",
    "    cur_date = data.current_dt\n",
    "    cur_hm = cur_date.strftime('%H:%M') #time\n",
    "    current_open = context.today_open\n",
    "    context.buy_line = context.today_open + context.range * context.k1  # 上轨\n",
    "    context.sell_line = context.today_open - context.range * context.k2  # 下轨\n",
    "    # 分别获取多头持仓，和空头持仓\n",
    "    position_long = context.get_position(context.my_instruments, Direction.LONG)\n",
    "    position_short = context.get_position(context.my_instruments, Direction.SHORT)\n",
    "    # 获取当前价格\n",
    "    price = data.current(context.my_instruments, \"close\")    \n",
    "    #尾盘平仓\n",
    "    #部分品种夜盘收盘时间不一样，此时间表示指定的尾盘平仓时间往后偏移30分钟，这段时间内不能开新仓，只能平仓。给30分钟是为了足够的冗余\n",
    "    closetime_nightshift = (datetime.strptime(context.closetime_night,'%H:%M') + timedelta(minutes = 30)).strftime('%H:%M')\n",
    "    if((cur_hm>=context.closetime_day and cur_hm<=\"15:00\") or (cur_hm>=context.closetime_night and cur_hm<=closetime_nightshift)):\n",
    "        if(position_long.current_qty != 0):\n",
    "            rv = context.sell_close(context.my_instruments, position_long.avail_qty, price, order_type=OrderType.MARKET)\n",
    "            msg = str(data.current_dt) +  \" 尾盘平多 for \" + context.my_instruments + \" 最新价=\" + str(price) + \" rv:\" + str(rv)\n",
    "            context.write_log(msg, stdout=1) \n",
    "        if(position_short.current_qty != 0):\n",
    "            rv = context.buy_close(context.my_instruments, position_short.avail_qty, price, order_type=OrderType.MARKET)\n",
    "            msg = str(data.current_dt) +  \" 尾盘平空 for \" + context.my_instruments + \" 最新价=\" + str(price) + \" rv:\" + str(rv)\n",
    "            context.write_log(msg, stdout=1) \n",
    "        #尾盘不开新仓，直接返回\n",
    "        return\n",
    "    #交易逻辑\n",
    "    if price > context.buy_line:\n",
    "        if position_long.current_qty != 0:\n",
    "            return\n",
    "        elif position_short.current_qty != 0:\n",
    "            rv = context.buy_close(context.my_instruments, position_short.avail_qty, price, order_type=OrderType.MARKET)\n",
    "            msg = str(data.current_dt) +  \" 平空 for \" + context.my_instruments + \" 最新价=\" + str(price) + \" rv:\" + str(rv)\n",
    "            context.write_log(msg, stdout=1)\n",
    "            rv = context.buy_open(context.my_instruments, context.order_num, price, order_type=OrderType.MARKET)\n",
    "            msg = str(data.current_dt) +  \" 开多 for \" + context.my_instruments + \" 最新价=\" + str(price) + \" rv:\" + str(rv)\n",
    "            context.write_log(msg, stdout=1) \n",
    "        else:\n",
    "            rv = context.buy_open(context.my_instruments, context.order_num, price, order_type=OrderType.MARKET)\n",
    "            msg = str(data.current_dt) +  \" 开多 for \" + context.my_instruments + \" 最新价=\" + str(price) + \" rv:\" + str(rv)\n",
    "            context.write_log(msg, stdout=1)     \n",
    "    elif price < context.sell_line:\n",
    "        if position_short.current_qty != 0:\n",
    "            return\n",
    "        elif position_long.current_qty != 0:\n",
    "            rv = context.sell_close(context.my_instruments, position_long.avail_qty, price, order_type=OrderType.MARKET)\n",
    "            msg = str(data.current_dt) +  \" 平多 for \" + context.my_instruments + \" 最新价=\" + str(price) + \" rv:\" + str(rv)\n",
    "            context.write_log(msg, stdout=1) \n",
    "            rv = context.sell_open(context.my_instruments, context.order_num, price, order_type=OrderType.MARKET)\n",
    "            msg = str(data.current_dt) +  \" 开空 for \" + context.my_instruments + \" 最新价=\" + str(price) + \" rv:\" + str(rv)\n",
    "            context.write_log(msg, stdout=1)    \n",
    "        else:\n",
    "            rv = context.sell_open(context.my_instruments, context.order_num, price, order_type=OrderType.MARKET)\n",
    "            msg = str(data.current_dt) +  \" 开空 for \" + context.my_instruments + \" 最新价=\" + str(price) + \" rv:\" + str(rv)\n",
    "            context.write_log(msg, stdout=1)  \n",
    "\n",
    "            \n",
    "def handle_order(context, order):\n",
    "    \"\"\"委托回报推送\"\"\"\n",
    "    msg = \"handle_order:\" + order.log_str()\n",
    "    context.write_log(msg, stdout=1) \n",
    "         \n",
    "def handle_trade(context, trade):\n",
    "    \"\"\"成交回报推送\"\"\"\n",
    "    msg = \"handle_trade:\" + trade.log_str()\n",
    "    context.write_log(msg, stdout=1) \n",
    "    # 分别获取多头持仓，和空头持仓\n",
    "    position_long = context.get_position(trade.symbol, Direction.LONG)\n",
    "    position_short = context.get_position(trade.symbol, Direction.SHORT)\n",
    "    msg = \"当前多头持仓:\"+ str(position_long) + \"当前空头持仓:\"+ str(position_short)\n",
    "    context.write_log(msg, stdout=1) \n",
    "    \n",
    "\n",
    "instruments = \"RB2110.SHF\" #[\"RB2110.SHF\"] #[\"RB2110.SHF\"] [I2105.DCE\"] ['RB']# RB2101.SHF 如果想用主连合约，可以出入合约简码，例如RB,I,CF\n",
    "\n",
    "#需要交易者传入的参数\n",
    "strategy_setting = [\n",
    "    {\n",
    "        \"instruments\": instruments,\n",
    "        \"order_num\": 2,\n",
    "        \"closetime_day\": \"14:58\",\n",
    "        \"closetime_night\": \"22:58\"\n",
    "    }    \n",
    "    \n",
    "]\n",
    "start_date = \"2021-04-21\"\n",
    "end_date = \"2021-04-27\"\n",
    "md = M.hfbacktest.v1(start_date=start_date,\n",
    "                     end_date=end_date,\n",
    "                     instruments=[instruments], #只传入一个合约便于策略逻辑展示\n",
    "                     capital_base=100000,\n",
    "                     product_type=Product.FUTURE,\n",
    "                     frequency=Frequency.MINUTE,\n",
    "                     initialize=initialize,\n",
    "                     before_trading_start=before_trading,\n",
    "                     handle_data=handle_data,\n",
    "                     handle_order=handle_order,\n",
    "                     handle_trade=handle_trade,\n",
    "                     plot_charts=True,\n",
    "                     volume_limit=1.0,\n",
    "                     disable_cache=0,\n",
    "                     show_debug_info=1,\n",
    "                     strategy_setting=strategy_setting,\n",
    "                     slippage_type=SlippageType.FIXED,#滑点固定模式\n",
    "                     slippage_value=1.0,#买卖双向各1个滑点\n",
    "                     m_deps=np.random.rand())"
   ]
  },
  {
   "cell_type": "code",
   "execution_count": null,
   "metadata": {},
   "outputs": [],
   "source": []
  }
 ],
 "metadata": {
  "is_mlstudio": "false",
  "kernelspec": {
   "display_name": "Python 3",
   "language": "python",
   "name": "python3"
  },
  "language_info": {
   "codemirror_mode": {
    "name": "ipython",
    "version": 3
   },
   "file_extension": ".py",
   "mimetype": "text/x-python",
   "name": "python",
   "nbconvert_exporter": "python",
   "pygments_lexer": "ipython3",
   "version": "3.8.7"
  }
 },
 "nbformat": 4,
 "nbformat_minor": 4
}
