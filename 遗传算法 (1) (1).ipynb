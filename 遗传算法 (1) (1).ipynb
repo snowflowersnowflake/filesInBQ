{
 "cells": [
  {
   "cell_type": "markdown",
   "metadata": {},
   "source": [
    "## 定义挖掘过程中会使用的相关类和方法\n",
    "\n",
    "  - 如要修改相关参数可直接修改 Config 类中的配置项"
   ]
  },
  {
   "cell_type": "code",
   "execution_count": 4,
   "metadata": {},
   "outputs": [],
   "source": [
    "import inspect\n",
    "import multiprocessing\n",
    "import operator\n",
    "import random\n",
    "import time\n",
    "\n",
    "import bottleneck as bn\n",
    "import numpy as np\n",
    "import pandas as pd\n",
    "from deap import base, creator, gp, tools\n",
    "from numpy.lib.stride_tricks import as_strided\n",
    "import empyrical as em\n",
    "\n",
    "# 调用平台 log 对象，方便打印日志\n",
    "log = T.BigLogger()\n",
    "\n",
    "class Config:\n",
    "    # 设定短区间数据读取时间范围\n",
    "    start_date = '2017-01-01'\n",
    "    end_date = '2018-11-01'\n",
    "    # 设定全区间数据读取时间范围\n",
    "    all_start_date = '2016-10-01'  # 因子分析模块也会使用该配置进行分析\n",
    "    all_end_date = '2020-11-05'  # 因子分析模块也会使用该配置进行分析\n",
    "    # 以 bar1d_wap_CN_STOCK_A_adj 表什么字段计算收益，默认以全天 vwap 买入价格进行计算\n",
    "    return_field = 'wap_3_vwap_buy'\n",
    "    # 要读取的 barra 数据表名（建投内部使用 barra_factor_cne5 表）\n",
    "    barra_table_name = 'factor_data_CN_STOCK_A'   #'barra_factor_cne5'\n",
    "    # 收益计算周期（因子挖掘时也使用这个参数作为收益周期）\n",
    "    rebalance_period = 1  # 因子分析模块也会使用该配置进行分析\n",
    "    # 设定多进程会使用到的核数\n",
    "    pool_processes_limit = 12\n",
    "    # =========== 因子分析模块参数 ==========\n",
    "    # 股票池，可配置为【全市场 / 沪深 300 / 中证 500 / 中证 800】中的任一项\n",
    "    stock_pool = '全市场'  # 只有因子分析模块会使用该配置进行分析\n",
    "    # 分组数量\n",
    "    quantile_count = 5  # 只有因子分析模块会使用该配置进行分析\n",
    "    # 手续费及滑点\n",
    "    commission_rate = 0.0016  # 只有因子分析模块会使用该配置进行分析\n",
    "    # 移除涨跌停股票\n",
    "    drop_price_limit_stocks = True  # 只有因子分析模块会使用该配置进行分析\n",
    "    # 移除 ST 股票\n",
    "    drop_st_stocks = True  # 只有因子分析模块会使用该配置进行分析\n",
    "    # 移除新股\n",
    "    drop_new_stocks = True  # 只有因子分析模块会使用该配置进行分析\n",
    "    # 要计算的指标，只有因子分析模块会使用该配置进行分析\n",
    "    metrics = ['因子表现概览', '因子分布', '因子行业分布', '因子市值分布', 'IC分析', '买入信号重合分析', '因子估值分析', '因子拥挤度分析', '因子值最大/最小股票', '多因子相关性分析']\n",
    "    # =========== 因子分析模块参数 ==========\n",
    "\n",
    "    # =========== 因子挖掘相关参数 ==========\n",
    "    # 因子挖掘循环次数\n",
    "    mtime = 3\n",
    "    # 训练集：测试集\n",
    "    train_test_data_retio = 3/4\n",
    "    # 训练集：验证集（该处的训练集是从上面的训练集分出来的）\n",
    "    train_validate_data_ratio = 3/4\n",
    "    # 初始种群数量\n",
    "    init_ind_num = 20\n",
    "    # 种群代数\n",
    "    ngen = 2\n",
    "    # 短区间训练适应度标准\n",
    "    train_fitness = 5\n",
    "    # 全区间验证适应度标准\n",
    "    test_fitness = 3\n",
    "    # 适应度函数选取，可选\"icir\",\"mutual_info\",\"long_sharpe\",\"longshort_vol\", \"long_vol\", \"longshort_sharpe\"，\"long_return\",\"longshort_return\"\n",
    "    # 在设置该参数时，还需对上面的标准进行修改\n",
    "    fitness = \"icir\"\n",
    "    # IR 计算方式\n",
    "    # TODO：rank_ir也作为一种fitness进行设置\n",
    "    ir_type = 'ir'  # 可填写 ir 或者 rank_ir，只有当fitness选择iric才有效\n",
    "    # 交叉概率\n",
    "    cxpb = 0.8\n",
    "    # 子树变异概率\n",
    "    mutpb = 0.6\n",
    "    # 提升变异概率\n",
    "    mutspb = 0.6\n",
    "    # 点变异概率\n",
    "    mutnrpb = 0.6\n",
    "    # 常数项\n",
    "    constant_nums = list(range(1, 11))\n",
    "    # =========== 因子挖掘相关参数 ==========\n",
    "\n",
    "\n",
    "class StopWatch:\n",
    "    \"\"\"时间记录类\"\"\"\n",
    "    def __init__(self):\n",
    "        self._start = time.perf_counter()\n",
    "        self._end = None\n",
    "\n",
    "    @property\n",
    "    def duration(self):\n",
    "        return self._end - self._start if self._end else time.perf_counter() - self._start\n",
    "\n",
    "    @property\n",
    "    def running(self):\n",
    "        return not self._end\n",
    "\n",
    "    def restart(self):\n",
    "        self._start = time.perf_counter()\n",
    "        self._end = None\n",
    "\n",
    "    def reset(self):\n",
    "        self._start = time.perf_counter()\n",
    "        self._end = self._start\n",
    "\n",
    "    def start(self):\n",
    "        if not self.running:\n",
    "            self._start = time.perf_counter() - self.duration\n",
    "            self._end = None\n",
    "\n",
    "    def stop(self):\n",
    "        if self.running:\n",
    "            self._end = time.perf_counter()\n",
    "\n",
    "    def __str__(self):\n",
    "        time = self.duration * 1000\n",
    "        if time >= 1000:\n",
    "            return f'{time / 1000:.4f}s'\n",
    "        if time >= 1:\n",
    "            return f'{time:.4f}ms'\n",
    "        return '{time * 1000:.4f}μs'\n",
    "\n",
    "\n",
    "class Functions:\n",
    "    \"\"\" 设定在因子挖掘中会用到的所有函数\n",
    "    要添加相关函数实现可继续在此类中以静态方法的方式添加具体实现（'_'下划线开头的方法会被忽略，不会加入到遗传算法原语集中）\n",
    "    注意一定要加上对应的输入输出类型注解，否则 deap 包无法正常 compile 进行因子值的计算\n",
    "    \"\"\"\n",
    "    @staticmethod\n",
    "    def _rolling_window(data, window_size):\n",
    "        shape = (data.shape[0] - window_size + 1, window_size) + data.shape[1:]\n",
    "        strides = (data.strides[0],) + data.strides\n",
    "        return as_strided(data, shape=shape, strides=strides)\n",
    "\n",
    "    @staticmethod\n",
    "    def prod(x : np.ndarray, n : int) -> np.ndarray:\n",
    "        res = np.full(x.shape, np.nan)\n",
    "        rolling_data = Functions._rolling_window(x, window_size=n)\n",
    "        rolling_res = np.prod(rolling_data, axis=1)\n",
    "        res[n - 1:] = rolling_res\n",
    "        return res\n",
    "\n",
    "    @staticmethod\n",
    "    def rank(x: np.ndarray) -> np.ndarray:\n",
    "        res = bn.nanrankdata(x, axis=1)\n",
    "        return res\n",
    "\n",
    "    @staticmethod\n",
    "    def max(x: np.ndarray, y: np.ndarray) -> np.ndarray:\n",
    "        res = np.full(x.shape, np.nan)\n",
    "        bool_ = x >= y\n",
    "        res[bool_] = x[bool_]\n",
    "        res[~bool_] = y[~bool_]\n",
    "        return res\n",
    "\n",
    "    @staticmethod\n",
    "    def min(x: np.ndarray, y: np.ndarray) -> np.ndarray:\n",
    "        res = np.full(x.shape, np.nan)\n",
    "        bool_ = x >= y\n",
    "        res[~bool_] = x[~bool_]\n",
    "        res[bool_] = y[bool_]\n",
    "        return res\n",
    "\n",
    "    @staticmethod\n",
    "    def delay(x: np.ndarray, n: int) -> np.ndarray:\n",
    "        res = np.full(x.shape, np.nan)\n",
    "        res[n:] = x[:-n]\n",
    "        return res\n",
    "\n",
    "    @staticmethod\n",
    "    def stddev(x: np.ndarray, n: int) -> np.ndarray:\n",
    "        res = bn.move_std(x, n, min_count=max(1, n // 2), axis=0)\n",
    "        return res\n",
    "\n",
    "    @staticmethod\n",
    "    def corr(x: np.ndarray,y: np.ndarray, n: int) -> np.ndarray:\n",
    "        min_count = max(1, n // 2)\n",
    "\n",
    "        c = x * y\n",
    "        d_count = np.ones(c.shape)\n",
    "        d_count[np.isnan(c)] = np.nan\n",
    "        d_count = bn.move_sum(d_count, window=n, min_count=1, axis=0)\n",
    "\n",
    "        ab_sum = bn.move_sum((c), window=n, min_count=min_count, axis=0)\n",
    "        a_sum = bn.move_sum((x), window=n, min_count=min_count, axis=0)\n",
    "        b_sum = bn.move_sum((y), window=n, min_count=min_count, axis=0)\n",
    "        aa_sum = bn.move_sum((x * x), window=n, min_count=min_count, axis=0)\n",
    "        bb_sum = bn.move_sum((y * y), window=n, min_count=min_count, axis=0)\n",
    "\n",
    "        res = (ab_sum * d_count - a_sum * b_sum) / (np.sqrt(d_count * aa_sum - a_sum ** 2) * np.sqrt(d_count * bb_sum - b_sum ** 2))\n",
    "        return res\n",
    "\n",
    "    @staticmethod\n",
    "    def delta(x: np.ndarray, n: int) -> np.ndarray:\n",
    "        res = x - Functions.delay(x, n)\n",
    "        return res\n",
    "\n",
    "    @staticmethod\n",
    "    def vadd(x: np.ndarray, y: np.ndarray) -> np.ndarray:\n",
    "        res = x + y\n",
    "        return res\n",
    "\n",
    "    @staticmethod\n",
    "    def vsub(x: np.ndarray, y: np.ndarray) -> np.ndarray:\n",
    "        res = x - y\n",
    "        return res\n",
    "\n",
    "    @staticmethod\n",
    "    def vmul(x: np.ndarray, y: np.ndarray) -> np.ndarray:\n",
    "        res = x * y\n",
    "        return res\n",
    "\n",
    "    @staticmethod\n",
    "    def vdiv(x: np.ndarray, y: np.ndarray) -> np.ndarray:\n",
    "        res = x / y\n",
    "        res[np.isinf(res)] = np.nan\n",
    "        return res\n",
    "\n",
    "    @staticmethod\n",
    "    def log(x: np.ndarray) -> np.ndarray:\n",
    "        res = np.log(x + min(0,np.nanmin(x)) + 1e-20)\n",
    "        return res\n",
    "\n",
    "    @staticmethod\n",
    "    def abs(x: np.ndarray) -> np.ndarray:\n",
    "        res = np.abs(x)\n",
    "        return res\n",
    "\n",
    "    @staticmethod\n",
    "    def vneg(x: np.ndarray) -> np.ndarray:\n",
    "        res = x * -1\n",
    "        return res\n",
    "\n",
    "    @staticmethod\n",
    "    def sign(x: np.ndarray) -> np.ndarray:\n",
    "        res = np.sign(x)\n",
    "        return res\n",
    "    @staticmethod\n",
    "    # 反正切函数\n",
    "    def arctan(x : np.ndarray) -> np.ndarray:\n",
    "        res = np.arctan(x)\n",
    "        return res\n",
    "    \n",
    "#     @staticmethod\n",
    "#     # 工具函数，把数据转化为3d数据\n",
    "#     def rolling_to_3d(mat, window, chunk_num=1):\n",
    "#         s0, s1 = mat.strides\n",
    "#         r, c = mat.shape\n",
    "#         max_chunk_num = int(np.floor(r/window))\n",
    "#         chunk_num = min(max_chunk_num, chunk_num)\n",
    "\n",
    "#         def rolling(m):\n",
    "#             shape0 = m.shape[0]-window+1\n",
    "#             if shape0 <= 0:\n",
    "#                 shape0 = m.shape[0]\n",
    "#             return as_strided(m, shape=(shape0, window, c), strides=(s0, s0, s1), writeable=False)\n",
    "\n",
    "#         if chunk_num == 1:\n",
    "#             yield rolling(mat)\n",
    "#         else:\n",
    "#             chunk_size = r // chunk_num\n",
    "#             first_chunk = mat[:chunk_size]\n",
    "#             yield rolling(first_chunk)\n",
    "\n",
    "#             chunks = as_strided(\n",
    "#                             mat[chunk_size-window+1:], \n",
    "#                             shape=(chunk_num-1, chunk_size+window-1, c), \n",
    "#                             strides=(s0*chunk_size, s0, s1), \n",
    "#                             writeable=False\n",
    "#                             )\n",
    "#             for sub_mat in chunks:\n",
    "#                 yield rolling(sub_mat)\n",
    "\n",
    "#             left_rows = r % chunk_num\n",
    "#             if left_rows > 0:\n",
    "#                 sub_mat = mat[-(left_rows+window-1):]\n",
    "#                 yield rolling(sub_mat)\n",
    "    \n",
    "    \n",
    "    #@staticmethod\n",
    "    #  半衰加权平均，alpha参数为n/m 原函数wma含义不明确，改成半衰加权\n",
    "    #def wma(x : np.ndarray, n : int, m : int) -> np.ndarray:\n",
    "    #    res = np.full(x.shape, np.nan)\n",
    "    #    temp = np.array([[(1/2)**(i/m) for i in range(n - 1, -1, -1)]] * (x.shape[1] + x.shape[0] - 1))\n",
    "    #    temp3d = Functions.rolling_to_3d(temp, window = x.shape[0], chunk_num = 1)\n",
    "    #    temp = next(temp3d)\n",
    "    #    temp = temp.swapaxes(1,2)\n",
    "    #    temp = temp.swapaxes(0,2)\n",
    "    #    x3d = Functions.rolling_to_3d(x, window = n, chunk_num = max(1, n//10))\n",
    "    #    iv = []\n",
    "    #    while True:\n",
    "    #        try:\n",
    "    #            resid = next(x3d)\n",
    "    #            iv.append(resid)\n",
    "    #        except StopIteration:\n",
    "    #            break\n",
    "    #    iv = np.concatenate(iv, axis=0)\n",
    "    #    res[n - 1:] = np.sum(iv * temp[n - 1:], axis = 1)\n",
    "    #    return res\n",
    "\n",
    "    @staticmethod\n",
    "    def decay_linear(x: np.ndarray, n: int) -> np.ndarray:\n",
    "        res = bn.move_mean(x, window=n, min_count=max(1, n // 2), axis=0)\n",
    "        return res\n",
    "\n",
    "    @staticmethod\n",
    "    def cov(x: np.ndarray, y: np.ndarray, n: int) -> np.ndarray:\n",
    "        res = np.full(x.shape, np.nan)\n",
    "        min_count = max(1, n // 2)\n",
    "        a, b = x, y\n",
    "        c = a * b\n",
    "        d_count = np.ones(c.shape)\n",
    "        d_count[np.isnan(c)] = np.nan\n",
    "        d_count = bn.move_sum(d_count, window=n, min_count=1, axis=0)\n",
    "        ab_sum = bn.move_sum((c), window=n, min_count=min_count, axis=0)\n",
    "        a_sum = bn.move_sum(a, window=n, min_count=min_count, axis=0)\n",
    "        b_sum = bn.move_sum(b, window=n, min_count=min_count, axis=0)\n",
    "        res = (ab_sum * d_count - a_sum * b_sum) / ((d_count-1) * d_count)\n",
    "        return res\n",
    "\n",
    "    @staticmethod\n",
    "    def ts_sum(x: np.ndarray, n: int) -> np.ndarray:\n",
    "        res = bn.move_sum(x, window=n, min_count=max(1, n // 2), axis=0)\n",
    "        return res\n",
    "\n",
    "    @staticmethod\n",
    "    def sma(x: np.ndarray, n: int) -> np.ndarray:\n",
    "        res = bn.move_mean(x, window=n, min_count=max(1, n // 2), axis=0)\n",
    "        return res\n",
    "\n",
    "    @staticmethod\n",
    "    def ts_rank(x: np.ndarray, n: int) -> np.ndarray:\n",
    "        res = bn.move_rank(x, window=n, min_count=max(1, n // 2), axis=0)\n",
    "        return res\n",
    "\n",
    "    @staticmethod\n",
    "    def ts_min(x: np.ndarray, n: int) -> np.ndarray:\n",
    "        res = bn.move_min(x, window=n, min_count=max(1, n // 2), axis=0)\n",
    "        return res\n",
    "\n",
    "    @staticmethod\n",
    "    def ts_max(x: np.ndarray, n: int) -> np.ndarray:\n",
    "        res = bn.move_max(x, window=n, min_count=max(1, n // 2), axis=0)\n",
    "        return res\n",
    "\n",
    "    @staticmethod\n",
    "    def mean2(x: np.ndarray, y: np.ndarray) -> np.ndarray:\n",
    "        res = (x + y) / 2\n",
    "        return res\n",
    "\n",
    "    @staticmethod\n",
    "    def mean3(x: np.ndarray, y: np.ndarray, z: np.ndarray) -> np.ndarray:\n",
    "        res = (x + y + z) / 3\n",
    "        return res\n",
    "\n",
    "    @staticmethod\n",
    "    def argmax(x: np.ndarray, n: int) -> np.ndarray:\n",
    "        res = bn.move_argmax(x, window=n, min_count=max(1, n // 2), axis=0)\n",
    "        return res\n",
    "\n",
    "    @staticmethod\n",
    "    def argmin(x: np.ndarray, n: int) -> np.ndarray:\n",
    "        res = bn.move_argmin(x, window=n, min_count=max(1, n // 2), axis=0)\n",
    "        return res    \n",
    "    #@staticmethod\n",
    "    #def clear_by_cond(x: np.ndarray, y: np.ndarray, z: np.ndarray) -> np.ndarray:\n",
    "    #    res = np.full(x.shape, np.nan)\n",
    "    #    bool_ = x < y\n",
    "    #    x_10 = np.ceil(np.log10(x))\n",
    "    #    y_10 = np.ceil(np.log10(y))\n",
    "    #    x_10[np.isinf(x_10)] = np.nan\n",
    "    #    y_10[np.isinf(y_10)] = np.nan\n",
    "    #    if abs(bn.nanmean(x_10) - bn.nanmean(y_10)) > 2 or np.isnan(bool_).sum() == (bool_.shape[0] * bool_.shape[1]):\n",
    "    #        return res\n",
    "    #    res[bool_] = 0\n",
    "    #    res[~bool_] = z[~bool_]\n",
    "    #    return res\n",
    "\n",
    "    @staticmethod\n",
    "    def power(x: np.ndarray, y: np.ndarray) -> np.ndarray:\n",
    "        y_a_min, y_a_max = bn.nanmin(y, axis=1), bn.nanmax(y, axis=1)\n",
    "        z = ((y.T - y_a_min) / (y_a_max - y_a_min)).T\n",
    "        x_a_min, x_a_max = bn.nanmin(x, axis=1), bn.nanmax(x, axis=1)\n",
    "        x = ((x.T - x_a_min) / (x_a_max - x_a_min)).T + 1\n",
    "        res = x ** z\n",
    "        return res\n",
    "\n",
    "    #@staticmethod\n",
    "    #def if_then_else(x: np.ndarray, y: np.ndarray, z: np.ndarray, r : np.ndarray) -> np.ndarray:\n",
    "    #    res = np.full(x.shape, np.nan)\n",
    "    #    # TODO：讨论关于函数归一化的操作，是直接对基础因子进行归一化，还是在可能出现该情况的函数中进行归一化\n",
    "    #    bool_ = x < y\n",
    "    #    x_10 = np.ceil(np.log10(x))\n",
    "    #    y_10 = np.ceil(np.log10(y))\n",
    "    #    x_10[np.isinf(x_10)] = np.nan\n",
    "    #    y_10[np.isinf(y_10)] = np.nan\n",
    "    #    if abs(bn.nanmean(x_10) - bn.nanmean(y_10)) > 2 or np.isnan(bool_).sum() == (bool_.shape[0] * bool_.shape[1]):\n",
    "    #        return res\n",
    "    #    res[bool_] = z[bool_]\n",
    "    #    res[~bool_] = r[~bool_]\n",
    "    #    return res\n",
    "    \n",
    "    @staticmethod\n",
    "    def constant(type_int : int) -> int:\n",
    "        return type_int\n",
    "\n",
    "    @staticmethod\n",
    "    def standardation(x: np.ndarray) -> np.ndarray:\n",
    "        \"\"\"标准化算子\"\"\"\n",
    "        mean = bn.nanmean(x, axis=1).reshape(-1, 1)\n",
    "        std = bn.nanstd(x, axis=1, ddof=1).reshape(-1, 1)\n",
    "        with np.errstate(invalid='ignore'):\n",
    "            res = (x - mean) / std\n",
    "        return res\n",
    "\n",
    "    @staticmethod\n",
    "    def normalization(x: np.ndarray) -> np.ndarray:\n",
    "        \"\"\"归一化算子\"\"\"\n",
    "        x_min = bn.nanmin(x, axis=1).reshape(-1, 1)\n",
    "        x_max = bn.nanmax(x, axis=1).reshape(-1 ,1)\n",
    "        with np.errstate(invalid='ignore'):\n",
    "            res = (x - x_min) / (x_max - x_min)\n",
    "        return res\n",
    "    \n",
    "#     @staticmethod\n",
    "#     def delay(x: np.ndarray, n: int) -> np.ndarray:\n",
    "#         res = np.full(x.shape, np.nan)\n",
    "#         res[n:] = x[:-n]\n",
    "#         return res\n",
    "    \n",
    "#     @staticmethod\n",
    "#     def delta(x: np.ndarray, n: int) -> np.ndarray:\n",
    "#         res = x - Functions.delay(x, n)\n",
    "#         return res\n",
    "    \n",
    "    # @staticmethod\n",
    "    # 过去n天变化率\n",
    "    # def pctchange_ts(n : int, x : np.ndarray) -> np.ndarray:\n",
    "    #     res = Functions.delta(n, x) / x\n",
    "    #     return res\n",
    "    \n",
    "    @staticmethod\n",
    "    # 过去n天回归系数\n",
    "    def regbeta_ts(n : int, x : np.ndarray, y : np.ndarray) -> np.ndarray:\n",
    "        c = x * y\n",
    "        d_count = np.ones(c.shape)\n",
    "        d_count[np.isnan(c)] = np.nan\n",
    "        d_count = bn.move_sum(d_count, window=n, min_count=1, axis=0)\n",
    "        #bn.move_min(x_m, window=d, min_count=min_count, axis=0)\n",
    "        ab_sum = bn.move_sum((c), window=n, min_count=None, axis=0)\n",
    "        a_sum = bn.move_sum((x), window=n, min_count=None, axis=0)\n",
    "        b_sum = bn.move_sum((y), window=n, min_count=None, axis=0)\n",
    "        aa_sum = bn.move_sum((x * x), window=n, min_count=None, axis=0)\n",
    "\n",
    "        beta = (ab_sum * d_count - a_sum * b_sum) / \\\n",
    "                 (d_count * aa_sum - (a_sum) ** 2)\n",
    "        beta[np.isinf(beta)] = np.nan\n",
    "        return beta\n",
    "\n",
    "    # @staticmethod\n",
    "    # 过去n天回归残差\n",
    "    # def regresid_ts(n : int, x : np.ndarray, y : np.ndarray) -> np.ndarray:\n",
    "    #     beta = y - x * Functions.regbeta_ts(n, x, y)\n",
    "    #     return beta\n",
    "    \n",
    "\n",
    "\n",
    "class DataProcessor:\n",
    "    \"\"\"数据加载及处理类\"\"\"\n",
    "    def __init__(self, config, data_type):\n",
    "        # 数据开始日期\n",
    "        self.start_date = config.start_date\n",
    "        # 数据结束日期\n",
    "        self.end_date = config.end_date\n",
    "        if data_type == 'all':\n",
    "            # 数据开始日期\n",
    "            self.start_date = config.all_start_date\n",
    "            # 数据结束日期\n",
    "            self.end_date = config.all_end_date\n",
    "        # 整个数据中的训练集比例\n",
    "        self.train_test_data_retio = config.train_test_data_retio\n",
    "        self.train_validate_data_ratio = config.train_validate_data_ratio\n",
    "        self.config = config\n",
    "        # 键值对存储的基础因子数据\n",
    "        self.data = {}\n",
    "        # 数据的 index 和 columns，方便后续进行对齐操作\n",
    "        self.data_index = None\n",
    "        self.data_cols = None\n",
    "        # 键值对方式存储的 barra 数据\n",
    "        self.barra = {}\n",
    "        # 第一次加载完 barra 数据后有的数据字段\n",
    "        self._barra_cols = list(self.barra.keys())\n",
    "        # 原始收益率数据（dataframe 格式）\n",
    "        self.raw_ret = pd.DataFrame()\n",
    "        # np.ndarray 类型的收益率数据（正交后的）\n",
    "        self._ret = None\n",
    "        # 加载数据\n",
    "        self._load_data()\n",
    "        # 根据指定的训练集比例进行短区间内的训练集与测试集划分\n",
    "        self._split_train_and_test(self.raw_ret.shape[0], self.train_test_data_retio, self.train_validate_data_ratio)\n",
    "\n",
    "    def _split_train_and_test(self, length, train_test_ratio, train_validate_ratio):\n",
    "        full_list = list(range(length))\n",
    "        offset_train_test = int(length * train_test_ratio)\n",
    "        offset_train_validate = int(offset_train_test * train_validate_ratio)\n",
    "        if length == 0 or offset_train_test < 1:\n",
    "            return [], full_list\n",
    "        self.train_series = full_list[:offset_train_validate]\n",
    "        self.val_series = full_list[offset_train_validate:offset_train_test]\n",
    "        self.test_series = full_list[offset_train_test:]\n",
    "        self.full_series = full_list\n",
    "\n",
    "    @property\n",
    "    def industy_filter(self):\n",
    "        return (self.barra_values.sum(axis=2) != 0).T\n",
    "\n",
    "    @property\n",
    "    def train_data_values(self):\n",
    "        return np.array([value.values for key, value in self.data.items()]).astype(np.float64)\n",
    "\n",
    "    @property\n",
    "    def ret_values(self):\n",
    "        now_barra_cols = list(self.barra.keys())\n",
    "        if len(now_barra_cols) != len(self._barra_cols) or self._ret is None:\n",
    "            self._ret = self.neutralization(self.raw_ret.values.astype(np.float64))\n",
    "            self._barra_cols = now_barra_cols\n",
    "        return self._ret\n",
    "\n",
    "    @property\n",
    "    def barra_values(self):\n",
    "        return np.array([value.values for key, value in self.barra.items()]).astype(np.float64)\n",
    "\n",
    "    @property\n",
    "    def train_ret(self):\n",
    "        return self.ret_values[self.train_series]\n",
    "\n",
    "    @property\n",
    "    def train_barra(self):\n",
    "        return self.barra_values[:, self.train_series, :]\n",
    "\n",
    "    @property\n",
    "    def train_industy_filter(self):\n",
    "        return self.industy_filter[self.train_series]\n",
    "\n",
    "    @property\n",
    "    def validate_ret(self):\n",
    "        return self.ret_values[self.val_series]\n",
    "\n",
    "    @property\n",
    "    def validate_barra(self):\n",
    "        return self.barra_values[:, self.val_series, :]\n",
    "\n",
    "    @property\n",
    "    def validate_industy_filter(self):\n",
    "        return self.industy_filter[self.val_series]\n",
    "\n",
    "    @property\n",
    "    def test_ret(self):\n",
    "        return self.ret_values[self.test_series]\n",
    "\n",
    "    @property\n",
    "    def test_barra(self):\n",
    "        return self.barra_values[:, self.test_series, :]\n",
    "\n",
    "    @property\n",
    "    def test_industy_filter(self):\n",
    "        return self.industy_filter[self.test_series]\n",
    "\n",
    "    @property\n",
    "    def ret_values_for_count_nan(self):\n",
    "        now_barra_cols = list(self.barra.keys())\n",
    "        if len(now_barra_cols) != len(self._barra_cols) or self._ret is None:\n",
    "            self._barra_cols = now_barra_cols\n",
    "        return self._ret\n",
    "    \n",
    "    @property\n",
    "    def not_nan_num(self):\n",
    "        return pd.DataFrame(self.ret_values_for_count_nan).count(axis=1).values\n",
    "\n",
    "    def add_barra(self, new_barras):\n",
    "        # 加入传入的 barra_dict\n",
    "        if isinstance(new_barras, dict):\n",
    "            for name, data in new_barras.items():\n",
    "                if name in list(self.barra.keys()):\n",
    "                    continue\n",
    "                self.barra[name] = data\n",
    "        # 数据对齐\n",
    "        for name in list(self.barra.keys()):\n",
    "            self.barra[name] = self.barra[name].reindex(index=self.data_index, columns=self.data_cols)\n",
    "\n",
    "    # 这里面基本\n",
    "    def _load_data(self):\n",
    "        log.info(f'loading data from {self.start_date} to {self.end_date}...')\n",
    "        # 读取基础因子数据\n",
    "        bar1d_data_cols = ['close', 'high', 'low', 'open', 'volume', 'turn']\n",
    "        bar1d_data = DataSource('bar1d_CN_STOCK_A').read(start_date=self.start_date, end_date=self.end_date, fields=bar1d_data_cols)\n",
    "        # 读取A股每日时间/成交量加权平均价格行情数据(后复权)表\n",
    "        bar1d_wap_adj_data = DataSource('bar1d_wap_CN_STOCK_A_adj').read(start_date=self.start_date, end_date=self.end_date, fields=['wap_3_vwap_buy'] + [self.config.return_field])\n",
    "        # 将 vwap 数据加入基础训练数据中（以计算收益的字段所在 dataframe 为基准进行 merge）\n",
    "        merged_data = pd.merge(bar1d_wap_adj_data, bar1d_data, how='left', on=['date', 'instrument'])\n",
    "        # 过滤 ST、停牌、一字板\n",
    "        status_data = DataSource('stock_status_CN_STOCK_A').read(start_date=self.start_date, end_date=self.end_date, fields=['price_limit_status', 'st_status', 'suspended'])\n",
    "        merged_data = pd.merge(merged_data, status_data, how='left', on=['date', 'instrument'])\n",
    "        merged_data['return'] = merged_data.groupby('instrument')['wap_3_vwap_buy'].apply(lambda x: x.pct_change(self.config.rebalance_period).shift(-1 * (self.config.rebalance_period + 1)))\n",
    "        # TODO 暂时手动对数据做去除 NaN 值处理\n",
    "        merged_data.dropna(subset=['price_limit_status', 'st_status', 'suspended'], inplace=True)\n",
    "        merged_data['suspended'] = merged_data['suspended'].astype('bool')\n",
    "        condition = (merged_data['price_limit_status'] == 2) & (merged_data['st_status'] == 0) & (merged_data['suspended'] == False) & ~(merged_data['high'] == merged_data['low'])\n",
    "        merged_data.loc[~condition, 'return'] = np.nan\n",
    "        merged_data_pivot_table = merged_data.pivot_table(index='date', columns='instrument')\n",
    "        raw_ret = merged_data_pivot_table['return']\n",
    "        self.raw_ret = raw_ret.fillna(method=\"ffill\", axis=0)\n",
    "\n",
    "        # 判断是否已有 data_index 和 data_cols，没有则以收益数据的 index 和 columns 为标准，后续数据均以此进行 reindex\n",
    "        if self.data_index is None or self.data_cols is None:\n",
    "            self.data_index = self.raw_ret.index\n",
    "            self.data_cols = self.raw_ret.columns\n",
    "        # 将基础因子数据加入 data 中\n",
    "        data_cols = [*bar1d_data_cols, 'wap_3_vwap_buy']\n",
    "        for col in data_cols:\n",
    "            self.data[col] = merged_data_pivot_table[col]\n",
    "            self.data[col] = self.data[col].reindex(index=self.data_index, columns=self.data_cols)\n",
    "        # 读取 barra 数据\n",
    "        barra_data = DataSource(self.config.barra_table_name).read(start_date=self.start_date, end_date=self.end_date)\n",
    "        barra_cols = [i for i in barra_data.columns if not i.startswith('Rank_')]\n",
    "        barra_df = barra_data[barra_cols]\n",
    "        barra_cols_set = set(barra_cols) - {'date', 'instrument'}\n",
    "        for col in barra_cols_set:\n",
    "            one_barra = barra_df[['date', 'instrument', col]].pivot_table(index='date', columns='instrument', values=col)\n",
    "            one_barra = one_barra.reindex(index=self.data_index, columns=self.data_cols)\n",
    "            self.barra[col] = one_barra\n",
    "        log.info(f'loaded data from {self.start_date} to {self.end_date} successfully')\n",
    "\n",
    "    def neutralization(self, data, data_type='all'):\n",
    "        \n",
    "        def matrixMul(A, B):\n",
    "            try:\n",
    "                nshape = B.shape[1]\n",
    "            except IndexError as e:\n",
    "                B = B.reshape(len(B),1)\n",
    "    \n",
    "            if len(A[0]) == len(B):\n",
    "                res = [[0] * len(B[0]) for i in range(len(A))]\n",
    "                for i in range(len(A)):\n",
    "                    for j in range(len(B[0])):\n",
    "                        for k in range(len(B)):\n",
    "                            res[i][j] += A[i][k] * B[k][j]\n",
    "                return np.array(res).reshape(len(res))\n",
    "            return ('输入矩阵有误！')\n",
    "        \n",
    "        \"\"\"对传入数据进行中性化\"\"\"\n",
    "        barra_values = self.barra_values\n",
    "        industy_filter = self.industy_filter\n",
    "        if data_type == 'train':\n",
    "            barra_values = self.train_barra\n",
    "            industy_filter = self.train_industy_filter\n",
    "        elif data_type == 'val':\n",
    "            barra_values = self.validate_barra\n",
    "            industy_filter = self.validate_industy_filter\n",
    "        elif data_type == 'test':\n",
    "            barra_values = self.test_barra\n",
    "            industy_filter = self.test_industy_filter\n",
    "            \n",
    "        ret = np.full(data.shape, np.nan)\n",
    "        tmp = np.append(barra_values, data)\n",
    "        tmp = tmp.reshape(barra_values.shape[0] + 1, barra_values.shape[1], barra_values.shape[2]).swapaxes(0,1)\n",
    "        bool_ = np.isnan(tmp).sum(axis=1) == 0\n",
    "        time_dot = 0\n",
    "        time_lstsq = 0\n",
    "        \n",
    "        for i in range(data.shape[0]):\n",
    "            try:\n",
    "                Y = data[i, bool_[i]]\n",
    "                X = barra_values[industy_filter[i], i, :].T\n",
    "                \n",
    "#                 time1 = stop_watch.duration\n",
    "#                 x2 = np.linalg.lstsq(X[bool_[i], :], Y)[0]\n",
    "#                 time2 = stop_watch.duration\n",
    "#                 x1 = np.dot(X[bool_[i], :], x2)\n",
    "#                 time3 = stop_watch.duration\n",
    "#                 time_dot += time3 - time2\n",
    "#                 time_lstsq += time2 - time1\n",
    "#                 ret[i, bool_[i]] = Y - x1\n",
    "                \n",
    "                ret[i, bool_[i]] = Y - matrixMul(X[bool_[i], :], np.linalg.lstsq(X[bool_[i], :], Y)[0])\n",
    "            except:\n",
    "                pass\n",
    "        # print(f\"time_dot: {time_dot},  time_lstsq: {time_lstsq}\")\n",
    "        return ret\n",
    "\n",
    "    def outlier_limit(self, data, n_extremum=5):\n",
    "        \"\"\"对传入数据进行去极值\"\"\"\n",
    "        median = bn.nanmedian(data, axis=1).reshape(-1, 1)\n",
    "        Dmad = bn.nanmedian(abs(data - median), axis=1).reshape(-1, 1)\n",
    "        upper = (median + n_extremum * Dmad)\n",
    "        lower = (median - n_extremum * Dmad)\n",
    "        with np.errstate(invalid='ignore'):\n",
    "            res = np.clip(data, lower, upper)\n",
    "        return res\n",
    "\n",
    "    def normalize(self, data):\n",
    "        \"\"\"对传入数据进行标准化\"\"\"\n",
    "        mean = bn.nanmean(data, axis=1).reshape(-1, 1)\n",
    "        std = bn.nanstd(data, axis=1, ddof=1).reshape(-1, 1)\n",
    "        with np.errstate(invalid='ignore'):\n",
    "            res = (data - mean) / std\n",
    "        return res\n",
    "\n",
    "    def check_nan_num(self, df):\n",
    "        \"\"\"对传入的 dataframe 进行 NaN 值检查，NaN 值大于一定比例则返回 False\"\"\"\n",
    "        pos_num = np.argwhere(np.product(np.isnan(df.values), axis=1) == 0)  # 得到存在 nan 的时间截面的 index\n",
    "        if len(pos_num) == 0 or pos_num[0][0] > 200:   # if pos_num[0][0] > 200: \n",
    "            return False\n",
    "        not_na_df = df.count(axis = 1).values\n",
    "        percent = (1 - not_na_df / self.not_nan_num)[pos_num[0][0]:]\n",
    "        if 1 in percent:\n",
    "            return False\n",
    "        if (percent> 0.2).sum() / len(self.not_nan_num[pos_num[0][0]:]) > 0.05:\n",
    "            return False\n",
    "        return True\n",
    "\n",
    "\n",
    "class Fitnesses(object):\n",
    "    \"\"\"适应度函数类\"\"\"\n",
    "    _methods = [\"icir\", \"mutual_info\", \"long_sharpe\", \"long_vol\", \"longshort_vol\", \"longshort_sharpe\", \"long_return\",\"longshort_return\"]\n",
    "\n",
    "    def __init__(self, config):\n",
    "        # 适应度函数选取\n",
    "        self.fitness = config.fitness\n",
    "        if self.fitness not in self._methods:\n",
    "            raise Exception(\"请输入正确的适应度函数类型\")\n",
    "        self.ir_type = config.ir_type\n",
    "\n",
    "    def _nan_drop(self, x, y):\n",
    "        \"\"\"删除缺失值的处理方法\"\"\"\n",
    "        merged = np.vstack((x, y)).T\n",
    "        merged = merged[~np.isnan(merged).any(1)].T\n",
    "        if merged.size == 0:\n",
    "            return None\n",
    "        return merged\n",
    "\n",
    "    def _nan_fill(self, arr):\n",
    "        \"\"\"向前填充的处理方法\"\"\"\n",
    "        # TODO: 关于填充这块还要再作改进，1、这里是前向填充，如果开头为nan的是填充不到的，2、存在一列全为nan的情况，还是应该进行删除操作\n",
    "        arr = arr.T\n",
    "        mask = np.isnan(arr)\n",
    "        idx = np.where(~mask, np.arange(mask.shape[1]), 0)\n",
    "        return arr[np.arange(idx.shape[0])[:, None], idx].T\n",
    "\n",
    "    def _pct_change(self, x):\n",
    "        b = np.roll(x, 1)\n",
    "        try:\n",
    "            b[0] = np.nan\n",
    "        except:\n",
    "            return []        \n",
    "        return (x-b)/b\n",
    "\n",
    "    def _calculate_longshort_return(self, factor, ret_values):\n",
    "        \"\"\"计算每天的多空收益，返回列表\"\"\"\n",
    "        merged = self._nan_drop(factor, ret_values)\n",
    "        if merged is None:\n",
    "            return np.nan\n",
    "        merged = merged.T\n",
    "        sort = merged[merged[:,0].argsort()]  # 升序排列\n",
    "        amount = len(sort)\n",
    "        groups = int(np.ceil(amount/10)) # 10组\n",
    "        first_group = sort[-groups:]\n",
    "        last_group = sort[:groups]\n",
    "        longshort_ret = np.mean(first_group[:, 1]) - np.mean(last_group[:, 1])\n",
    "        return longshort_ret\n",
    "\n",
    "    def _calculate_long_return(self, factor, ret_values):\n",
    "        \"\"\"计算每天的多头收益，返回列表\"\"\"\n",
    "        merged = self._nan_drop(factor, ret_values)\n",
    "        if merged is None:\n",
    "            return np.nan\n",
    "        merged = merged.T\n",
    "        sort = merged[merged[:,0].argsort()]\n",
    "        amount = len(sort)\n",
    "        groups = int(np.ceil(amount/10))\n",
    "        first_group = sort[-groups:]\n",
    "        long_ret = np.mean(first_group[:, 1])\n",
    "        return long_ret\n",
    "\n",
    "    def calculate_longshort_index(self, factor, longshort=True, eval_type='all'):\n",
    "        \"\"\"计算多空收益、多头收益的sharpe、总收益、波动率指标\"\"\"\n",
    "        # TODO：将data作为一个参数传入，不用在每个函数中进行筛选\n",
    "        data = all_data_dp\n",
    "        ret_values = data.ret_values\n",
    "        if eval_type == 'train':\n",
    "            data = data_dp\n",
    "            ret_values = data.train_ret\n",
    "        elif eval_type == \"val\":\n",
    "            data = data_dp\n",
    "            ret_values = data.validate_ret\n",
    "        elif eval_type == 'test':\n",
    "            data = data_dp\n",
    "            ret_values = data.test_ret\n",
    "        if longshort:\n",
    "            returns = list(map(lambda x, y: self._calculate_longshort_return(x, y), factor, ret_values))\n",
    "        else:\n",
    "            returns = list(map(lambda x, y: self._calculate_long_return(x, y), factor, ret_values))     \n",
    "        returns = np.array(returns)\n",
    "        returns = returns[~np.isnan(returns)]\n",
    "        if returns.size == 0:\n",
    "            return np.nan\n",
    "        if self.fitness.endswith(\"sharpe\"):\n",
    "            fit = em.sharpe_ratio(returns, 0.035/252)\n",
    "        elif self.fitness.endswith(\"vol\"):\n",
    "            fit = em.annual_volatility(returns)\n",
    "        elif self.fitness.endswith(\"return\"):\n",
    "            fit = np.cumsum(returns)[-1]\n",
    "        return fit\n",
    "\n",
    "    def calculate_factor_ir(self, factor, eval_type='all'):\n",
    "        \"\"\"计算传入因子值的 IR 值\"\"\"\n",
    "        data = all_data_dp\n",
    "        ret_values = data.ret_values\n",
    "        if eval_type == 'train':\n",
    "            data = data_dp\n",
    "            ret_values = data.train_ret\n",
    "        elif eval_type == \"val\":\n",
    "            data = data_dp\n",
    "            ret_values = data.validate_ret\n",
    "        elif eval_type == 'test':\n",
    "            data = data_dp\n",
    "            ret_values = data.test_ret\n",
    "        IC = bn.nanmean((factor - bn.nanmean(factor, axis=1).reshape(-1, 1)) * (ret_values - bn.nanmean(ret_values, axis=1).reshape(-1, 1)), axis=1) / (bn.nanstd(factor, axis=1, ddof=1) * bn.nanstd(ret_values, axis=1, ddof=1))\n",
    "        IR = 0\n",
    "        try:\n",
    "            IR = np.abs(bn.nanmean(IC) / bn.nanstd(IC) * np.sqrt(250))\n",
    "            if np.isnan(IR):\n",
    "                IR = 0\n",
    "        except:\n",
    "            pass\n",
    "\n",
    "        return IR\n",
    "\n",
    "    def _entropy(self, c):\n",
    "        c_normalized = c / float(np.sum(c))\n",
    "        c_normalized = c_normalized[np.nonzero(c_normalized)]\n",
    "        entropy = -sum(c_normalized * np.log2(c_normalized))  \n",
    "        return entropy\n",
    "\n",
    "    def _cal_mutual_info(self, x, y):\n",
    "        merged = self._nan_drop(x, y)\n",
    "        if merged is None:\n",
    "            return np.nan\n",
    "        x = merged[0]\n",
    "        y = merged[1]\n",
    "\n",
    "        c_xy = np.histogram2d(x, y, 10)[0]\n",
    "        c_x = np.histogram(x, 10)[0]\n",
    "        c_y = np.histogram(y, 10)[0]\n",
    "\n",
    "        h_x = self._entropy(c_x)\n",
    "        h_y = self._entropy(c_y)\n",
    "        h_xy = self._entropy(c_xy)\n",
    "\n",
    "        mutual_info = h_x + h_y - h_xy\n",
    "        mutual_info = 2 * (mutual_info / (h_x + h_y))\n",
    "        return mutual_info\n",
    "\n",
    "    def calculate_factor_mutual_info(self, factor, eval_type='all'):\n",
    "        \"\"\"互信息计算\"\"\"\n",
    "        data = all_data_dp\n",
    "        ret_values = data.ret_values\n",
    "        if eval_type == 'train':\n",
    "            data = data_dp\n",
    "            ret_values = data.train_ret\n",
    "        elif eval_type == \"val\":\n",
    "            data = data_dp\n",
    "            ret_values = data.validate_ret\n",
    "        elif eval_type == 'test':\n",
    "            data = data_dp\n",
    "            ret_values = data.test_ret\n",
    "\n",
    "        mutual_info = list(map(lambda x, y: self._cal_mutual_info(x, y), factor, ret_values))\n",
    "        mean_mutual_info = bn.nanmean(mutual_info)\n",
    "        return mean_mutual_info\n",
    "\n",
    "    def fitness_choose(self, factor, eval_type='all'):\n",
    "        if self.fitness == \"icir\":\n",
    "            fit = self.calculate_factor_ir(factor=factor, eval_type=eval_type)\n",
    "        elif self.fitness == \"mutual_info\":\n",
    "            fit = self.calculate_factor_mutual_info(factor=factor, eval_type=eval_type)\n",
    "        elif self.fitness.startswith(\"longshort\"):\n",
    "            fit = self.calculate_longshort_index(factor=factor, longshort=True, eval_type=eval_type)\n",
    "        elif self.fitness.startswith(\"long\"):\n",
    "            fit = self.calculate_longshort_index(factor=factor, longshort=False, eval_type=eval_type)\n",
    "        else:\n",
    "            raise Exception(\"适应度函数名错误\")\n",
    "        return fit\n",
    "\n",
    "    def evaluate_fitness(self, individual, eval_type='all'):\n",
    "        \"\"\"计算传入个体的因子值并计算 IR 值\"\"\"\n",
    "        factor_result = self.evaluate_factor(individual=individual, eval_type=eval_type)\n",
    "        factor = factor_result[0]\n",
    "        if self.ir_type == 'rank_ir' and self.fitness == \"icir\":\n",
    "            factor = factor_result[1]\n",
    "        if isinstance(factor, float):\n",
    "            if factor != factor:\n",
    "                return factor, individual\n",
    "        factor = self._nan_fill(factor)\n",
    "        # 根据self.fitness的类型选择对应的适应度函数\n",
    "        fit = self.fitness_choose(factor, eval_type=eval_type)\n",
    "        return fit, individual\n",
    "    \n",
    "    def evaluate_factor(self, individual, eval_type='all'):\n",
    "        \"\"\"计算传入个体的因子值\"\"\"\n",
    "        data = all_data_dp\n",
    "        index_series = data.full_series\n",
    "        ret_values = data.ret_values\n",
    "        if eval_type == 'train':\n",
    "            data = data_dp\n",
    "            index_series = data.train_series\n",
    "            ret_values = data.train_ret\n",
    "        elif eval_type == \"val\":\n",
    "            data = data_dp\n",
    "            index_series = data.val_series\n",
    "            ret_values = data.validate_ret\n",
    "        elif eval_type == 'test':\n",
    "            data = data_dp\n",
    "            index_series = data.test_series\n",
    "            ret_values = data.test_ret\n",
    "        # 将个体转换为表达式函数\n",
    "        func = toolbox.compile(expr=individual)\n",
    "        # 获取不同函数的参数\n",
    "        func_names = list(inspect.signature(func).parameters.keys())\n",
    "        # 根据获取的函数参数构建对应的键值对\n",
    "        # 传入数据前记得转换数据类型为 np.float64\n",
    "        param = {i: data.data[i].values.astype(np.float64) for i in func_names}\n",
    "        # 将构建好的键值对解包传入 func 中，进行对应表达式的因子值计算\n",
    "        factor = func(**param)[index_series]\n",
    "        # 出现 np.inf 大部分是因为 float 类型的问题，numpy 默认转换出来的 float 是 float32，需要自行转换成 float64 避免溢出为 np.inf\n",
    "        factor[np.isinf(factor)] = np.nan\n",
    "        if (factor != factor).sum() == (factor.shape[0] * factor.shape[1]):\n",
    "            return np.nan, None\n",
    "        if len(np.unique(factor[~np.isnan(factor)])) < 10000:\n",
    "            factor = data.normalize(factor)\n",
    "        else:\n",
    "            factor = data.normalize(data.outlier_limit(factor))\n",
    "        factor = data.neutralization(factor, data_type=eval_type)\n",
    "        rank_factor = factor\n",
    "        if self.ir_type == 'rank_ir' and self.fitness == \"icir\":\n",
    "            rank_factor = (factor.argsort(1)).argsort(1) + 1\n",
    "            # factor_df = pd.DataFrame(factor)\n",
    "            # factor = factor_df.rank(axis=1).values.astype(np.float64)\n",
    "        return factor, rank_factor\n",
    "\n",
    "    def compare_fitness(self, Threshold, fit):\n",
    "        \"\"\"比较阈值和适应度值\"\"\"\n",
    "        if self.fitness.endswith(\"vol\"):\n",
    "            if Threshold > fit:\n",
    "                return True\n",
    "        elif Threshold < fit:\n",
    "                return True\n",
    "        else:\n",
    "            return False\n",
    "    \n",
    "def varAnd(population):\n",
    "    \"\"\"对传入的种群进行交叉、子树变异、提升变异以及点变异等操作\"\"\"\n",
    "    offspring = [toolbox.clone(ind) for ind in population]\n",
    "    # Apply crossover and mutation on the offspring\n",
    "    # 交叉\n",
    "    for i in range(1, len(offspring), 2):\n",
    "        if random.random() < config.cxpb:\n",
    "            offspring[i - 1], offspring[i] = toolbox.mate(offspring[i - 1], offspring[i])\n",
    "            del offspring[i - 1].fitness.values, offspring[i].fitness.values\n",
    "    # 变异\n",
    "    for i in range(len(offspring)):\n",
    "        if random.random() < config.mutpb:\n",
    "            offspring[i], = toolbox.mutate(offspring[i])\n",
    "            del offspring[i].fitness.values\n",
    "    # 提升变异\n",
    "    for i in range(len(offspring)):\n",
    "        if random.random() < config.mutspb:\n",
    "            offspring[i], = toolbox.mutate_shrink(offspring[i])\n",
    "            del offspring[i].fitness.values\n",
    "    # 点变异\n",
    "    for i in range(len(offspring)):\n",
    "        if random.random() < config.mutnrpb:\n",
    "            offspring[i], = toolbox.mutate_NodeReplacement(offspring[i])\n",
    "            del offspring[i].fitness.values\n",
    "    return offspring\n",
    "\n",
    "def drop_duplicates(individuals):\n",
    "    \"\"\"移除生成表达式相同的个体\"\"\"\n",
    "    ind_dict = {}\n",
    "    for ind in individuals:\n",
    "        expr = str(ind)\n",
    "        if expr in list(ind_dict.keys()):\n",
    "            continue\n",
    "        ind_dict[expr] = ind\n",
    "    return list(ind_dict.values())\n",
    "\n",
    "def check_average_fitness(average_fitness):\n",
    "    \"\"\"检查每代平均适应度是否明显收敛\"\"\"\n",
    "    # TODO：此处判断收敛的方法还有待考虑：是否去掉每代适应度值的一些噪声之类的\n",
    "    #       or： 进行归一化后求后面几个数的标准差，再进行标准差的判断\n",
    "    length = len(average_fitness)\n",
    "    cal_length = int(np.ceil(length/4))\n",
    "    compared = average_fitness[-cal_length]\n",
    "    for i in range(1, cal_length+1):\n",
    "        flag = (average_fitness[-i] - compared)/compared < 0.05\n",
    "        if ~flag:\n",
    "            return False\n",
    "    return True\n",
    "\n",
    "# def run_factorlens(factor):\n",
    "#     \"\"\" 根据传入的因子名（形如alpha000X）运行因子分析模块\"\"\"\n",
    "#     log.info(f'开始运行因子分析：{factor}')\n",
    "#     factor_df = saved_factor_values[factor].stack().reset_index(name=factor)\n",
    "#     factor_ds = DataSource.write_pickle(factor_df)\n",
    "#     factorlens_module = M.factorlens.v1(\n",
    "#         features=[factor],\n",
    "#         user_factor_data=factor_ds,\n",
    "#         title='因子分析: {factor_name}',\n",
    "#         start_date=all_data_dp.start_date,\n",
    "#         end_date=all_data_dp.end_date,\n",
    "#         rebalance_period=config.rebalance_period,\n",
    "#         stock_pool=config.stock_pool,\n",
    "#         quantile_count=config.quantile_count,\n",
    "#         commission_rate=config.commission_rate,\n",
    "#         drop_price_limit_stocks=config.drop_price_limit_stocks,\n",
    "#         drop_st_stocks=config.drop_st_stocks,\n",
    "#         drop_new_stocks=config.drop_new_stocks,\n",
    "#         # 标准化和中性化默认不启用，因为挖掘到的因子已经在计算因子值的过程中做了相应处理了\n",
    "#         normalization=False,\n",
    "#         neutralization=[],\n",
    "#         metrics=config.metrics\n",
    "#     )\n"
   ]
  },
  {
   "cell_type": "markdown",
   "metadata": {},
   "source": [
    "## 初始化相关类实例，定义遗传算法结构\n",
    "\n",
    "  - 实例化 Config 配置类\n",
    "  - 实例化数据读取处理类，加载短区间和全区间数据\n",
    "  - 定义遗传算法结构及相关工具方法"
   ]
  },
  {
   "cell_type": "code",
   "execution_count": 5,
   "metadata": {},
   "outputs": [
    {
     "data": {
      "text/plain": [
       "[2021-05-14 11:08:58.812465] INFO: : loading data from 2017-01-01 to 2018-11-01..."
      ]
     },
     "metadata": {
      "is_log": true,
      "status": "INFO"
     },
     "output_type": "display_data"
    },
    {
     "data": {
      "text/plain": [
       "[2021-05-14 11:09:37.040329] INFO: : loaded data from 2017-01-01 to 2018-11-01 successfully"
      ]
     },
     "metadata": {
      "is_log": true,
      "status": "INFO"
     },
     "output_type": "display_data"
    },
    {
     "data": {
      "text/plain": [
       "[2021-05-14 11:09:37.171658] INFO: : loading data from 2016-10-01 to 2020-11-05..."
      ]
     },
     "metadata": {
      "is_log": true,
      "status": "INFO"
     },
     "output_type": "display_data"
    },
    {
     "data": {
      "text/plain": [
       "[2021-05-14 11:10:56.016226] INFO: : loaded data from 2016-10-01 to 2020-11-05 successfully"
      ]
     },
     "metadata": {
      "is_log": true,
      "status": "INFO"
     },
     "output_type": "display_data"
    }
   ],
   "source": [
    "# 初始化相关实例，定义遗传算法结构\n",
    "# 设置随机数种子\n",
    "random.seed(101)\n",
    "# config 配置类，遗传算法运行中的相关参数均由该 config 实例控制\n",
    "config = Config()\n",
    "# 短区间的数据处理类\n",
    "data_dp = DataProcessor(config, data_type='short')\n",
    "# 全区间的数据处理类\n",
    "all_data_dp = DataProcessor(config, data_type='all')\n",
    "# 声明时间记录类实例\n",
    "stop_watch = StopWatch()\n",
    "# 适应度函数类\n",
    "fitness = Fitnesses(config)\n",
    "# 创建个体\n",
    "# 创建种群个体并设置适应度判定方式\n",
    "if config.fitness.endswith(\"vol\"):\n",
    "    creator.create(\"FitnessMin\", base.Fitness, weights=(-1.0,))\n",
    "    creator.create(\"Individual\", gp.PrimitiveTree, fitness=creator.FitnessMin)\n",
    "else:\n",
    "    creator.create(\"FitnessMax\", base.Fitness, weights=(1.0,))\n",
    "    creator.create(\"Individual\", gp.PrimitiveTree, fitness=creator.FitnessMax)\n",
    "# 构建原语集\n",
    "# 设置遗传算法原语集，将相关函数、常数项及待计算的基础因子注入到 pset 对象中\n",
    "pset = gp.PrimitiveSetTyped(\"MAIN\", (np.ndarray,) * len(list(data_dp.data.keys())), np.ndarray)\n",
    "funcs = inspect.getmembers(Functions)\n",
    "for name, func in funcs:\n",
    "    if not name.startswith('_'):\n",
    "        bool_ = True\n",
    "#         print(\"func,name:\",func,name)\n",
    "        sig = inspect.signature(func)\n",
    "        params=sig.parameters\n",
    "        pa = []\n",
    "        for param in list(params.keys()):\n",
    "            if params[param].annotation == inspect._empty:\n",
    "                bool_ = False\n",
    "            pa.append(params[param].annotation)\n",
    "        if bool_:\n",
    "            pset.addPrimitive(func, pa, sig.return_annotation)\n",
    "for i in config.constant_nums:\n",
    "    pset.addTerminal(i, int, str(i))\n",
    "args_dict = {f'ARG{index}': key_name for index, key_name in enumerate(list(data_dp.data.keys()))}\n",
    "pset.renameArguments(**args_dict)\n",
    "# 构建工具箱\n",
    "# 设置遗传算法中会用到的相关工具方法，注册到 toolbox 中，方便后续直接调用\n",
    "toolbox = base.Toolbox()\n",
    "toolbox.register(\"expr\", gp.genHalfAndHalf, pset=pset, min_=1, max_=2)\n",
    "toolbox.register(\"individual\", tools.initIterate, creator.Individual, toolbox.expr)\n",
    "toolbox.register(\"population\", tools.initRepeat, list, toolbox.individual)\n",
    "toolbox.register(\"compile\", gp.compile, pset=pset)\n",
    "toolbox.register(\"select\", tools.selTournament, tournsize=3)\n",
    "toolbox.register(\"mate\", gp.cxOnePoint)\n",
    "toolbox.register(\"expr_mut\", gp.genFull, min_=0, max_=2)\n",
    "toolbox.register(\"mutate\", gp.mutUniform, expr=toolbox.expr_mut, pset=pset)\n",
    "toolbox.register(\"mutate_shrink\", gp.mutShrink)\n",
    "toolbox.register(\"mutate_NodeReplacement\", gp.mutNodeReplacement, pset = pset)\n",
    "\n",
    "toolbox.decorate(\"mate\", gp.staticLimit(key=operator.attrgetter(\"height\"), max_value=10))\n",
    "toolbox.decorate(\"mutate\", gp.staticLimit(key=operator.attrgetter(\"height\"), max_value=10))\n",
    "toolbox.decorate(\"mutate_shrink\", gp.staticLimit(key=operator.attrgetter(\"height\"), max_value=10))\n",
    "toolbox.decorate(\"mutate_NodeReplacement\", gp.staticLimit(key=operator.attrgetter(\"height\"), max_value=10))\n",
    "\n",
    "toolbox.register(\"evaluate_train\", fitness.evaluate_fitness, eval_type='train')\n",
    "toolbox.register(\"evaluate_val\", fitness.evaluate_fitness, eval_type='val')\n",
    "toolbox.register(\"evaluate_test\", fitness.evaluate_fitness, eval_type='test')\n",
    "toolbox.register(\"evaluate_factor\", fitness.evaluate_factor, eval_type='all')\n",
    "# 声明多进程 pool 对象实例\n",
    "# pool = multiprocessing.Pool(processes=config.pool_processes_limit)\n",
    "# toolbox.register(\"map\", pool.map)\n",
    "\n",
    "\n"
   ]
  },
  {
   "cell_type": "markdown",
   "metadata": {},
   "source": [
    "## 开始使用定义的遗传算法进行因子挖掘"
   ]
  },
  {
   "cell_type": "code",
   "execution_count": 6,
   "metadata": {},
   "outputs": [
    {
     "data": {
      "text/plain": [
       "[2021-05-14 11:10:56.697633] INFO: : == 开始第「1」次因子挖掘 =="
      ]
     },
     "metadata": {
      "is_log": true,
      "status": "INFO"
     },
     "output_type": "display_data"
    },
    {
     "data": {
      "text/plain": [
       "[2021-05-14 11:10:56.699643] INFO: : -- 开始第「1」次循环第「1」代挖掘 --"
      ]
     },
     "metadata": {
      "is_log": true,
      "status": "INFO"
     },
     "output_type": "display_data"
    },
    {
     "name": "stdout",
     "output_type": "stream",
     "text": [
      "-- 开始第「1」次循环第「1」代挖掘 --\n"
     ]
    },
    {
     "data": {
      "text/plain": [
       "[2021-05-14 11:10:56.701789] INFO: : -- 开始使用训练数据计算表达式适应度··· --"
      ]
     },
     "metadata": {
      "is_log": true,
      "status": "INFO"
     },
     "output_type": "display_data"
    },
    {
     "name": "stdout",
     "output_type": "stream",
     "text": [
      "去重前的个体数20\n",
      "去重后的个体数19\n"
     ]
    },
    {
     "name": "stdout",
     "output_type": "stream",
     "text": [
      "每代的平均适应度：[3.939780349249654]\n"
     ]
    },
    {
     "data": {
      "text/plain": [
       "[2021-05-14 11:23:21.557794] INFO: : 因子适应度在训练数据上检测完成，共耗时 [744.8537080967799s]"
      ]
     },
     "metadata": {
      "is_log": true,
      "status": "INFO"
     },
     "output_type": "display_data"
    },
    {
     "data": {
      "text/plain": [
       "[2021-05-14 11:23:21.562934] INFO: : 共「6」个表达式：['standardation(turn)', 'ts_rank(turn, 6)', 'delta(mean3(turn, volume, open), constant(2))', 'standardation(argmin(volume, 9))', 'argmin(mean3(low, turn, wap_3_vwap_buy), constant(2))', 'argmax(standardation(high), constant(8))']通过训练数据检测"
      ]
     },
     "metadata": {
      "is_log": true,
      "status": "INFO"
     },
     "output_type": "display_data"
    },
    {
     "data": {
      "text/plain": [
       "[2021-05-14 11:23:21.564774] INFO: : -- 使用训练数据计算表达式适应度完成 --"
      ]
     },
     "metadata": {
      "is_log": true,
      "status": "INFO"
     },
     "output_type": "display_data"
    },
    {
     "data": {
      "text/plain": [
       "[2021-05-14 11:23:21.566611] INFO: : -- 开始使用测试数据计算表达式适应度··· --"
      ]
     },
     "metadata": {
      "is_log": true,
      "status": "INFO"
     },
     "output_type": "display_data"
    },
    {
     "name": "stdout",
     "output_type": "stream",
     "text": [
      "因子standardation(turn)在测试集适应度值为6.054938369502235\n",
      "因子ts_rank(turn, 6)在测试集适应度值为11.991338865535779\n",
      "因子delta(mean3(turn, volume, open), constant(2))在测试集适应度值为12.12722293507771\n",
      "因子standardation(argmin(volume, 9))在测试集适应度值为4.837533137447563\n",
      "因子argmin(mean3(low, turn, wap_3_vwap_buy), constant(2))在测试集适应度值为18.81557066210864\n",
      "因子argmax(standardation(high), constant(8))在测试集适应度值为8.444582103616625\n"
     ]
    },
    {
     "data": {
      "text/plain": [
       "[2021-05-14 11:26:32.050317] INFO: : 因子适应度在测试数据上检测完成，共耗时 [190.48139811865985s]"
      ]
     },
     "metadata": {
      "is_log": true,
      "status": "INFO"
     },
     "output_type": "display_data"
    },
    {
     "data": {
      "text/plain": [
       "[2021-05-14 11:26:32.054828] INFO: : 共「6」个表达式：['standardation(turn)', 'ts_rank(turn, 6)', 'delta(mean3(turn, volume, open), constant(2))', 'standardation(argmin(volume, 9))', 'argmin(mean3(low, turn, wap_3_vwap_buy), constant(2))', 'argmax(standardation(high), constant(8))']通过测试数据检测"
      ]
     },
     "metadata": {
      "is_log": true,
      "status": "INFO"
     },
     "output_type": "display_data"
    },
    {
     "data": {
      "text/plain": [
       "[2021-05-14 11:26:32.057135] INFO: : -- 使用测试数据计算表达式适应度完成 --"
      ]
     },
     "metadata": {
      "is_log": true,
      "status": "INFO"
     },
     "output_type": "display_data"
    },
    {
     "data": {
      "text/plain": [
       "[2021-05-14 11:26:32.059620] INFO: : -- 开始使用全区间数据计算表达式适应度 --"
      ]
     },
     "metadata": {
      "is_log": true,
      "status": "INFO"
     },
     "output_type": "display_data"
    },
    {
     "data": {
      "text/plain": [
       "[2021-05-14 11:29:04.319750] INFO: : 添加表达式[argmin(mean3(low, turn, wap_3_vwap_buy), constant(2))]至表达式保存列表中"
      ]
     },
     "metadata": {
      "is_log": true,
      "status": "INFO"
     },
     "output_type": "display_data"
    },
    {
     "data": {
      "text/plain": [
       "[2021-05-14 11:29:04.321139] INFO: : 因子适应度在全区间数据上检测完成，共耗时 [152.25981116481125s]"
      ]
     },
     "metadata": {
      "is_log": true,
      "status": "INFO"
     },
     "output_type": "display_data"
    },
    {
     "data": {
      "text/plain": [
       "[2021-05-14 11:29:04.322002] INFO: : -- 使用全区间数据计算表达式适应度完成 --"
      ]
     },
     "metadata": {
      "is_log": true,
      "status": "INFO"
     },
     "output_type": "display_data"
    },
    {
     "name": "stdout",
     "output_type": "stream",
     "text": [
      "pass:6, record:19, population: 6\n"
     ]
    },
    {
     "data": {
      "text/plain": [
       "[2021-05-14 11:29:04.530303] INFO: : 因子挖掘过程中相关指标：[{'gen': 1, 'nevals': 19, 'avg': 8.427380498335753, 'std': 2.724287768979169, 'min': 5.618257041631649, 'max': 12.720923746924477}]"
      ]
     },
     "metadata": {
      "is_log": true,
      "status": "INFO"
     },
     "output_type": "display_data"
    },
    {
     "data": {
      "text/plain": [
       "[2021-05-14 11:29:04.540162] INFO: : -- 开始进行下一代因子挖掘 --"
      ]
     },
     "metadata": {
      "is_log": true,
      "status": "INFO"
     },
     "output_type": "display_data"
    },
    {
     "name": "stdout",
     "output_type": "stream",
     "text": [
      "下一代挖掘的个体数：20\n"
     ]
    },
    {
     "data": {
      "text/plain": [
       "[2021-05-14 11:29:04.546369] INFO: : -- 开始第「1」次循环第「2」代挖掘 --"
      ]
     },
     "metadata": {
      "is_log": true,
      "status": "INFO"
     },
     "output_type": "display_data"
    },
    {
     "name": "stdout",
     "output_type": "stream",
     "text": [
      "-- 开始第「1」次循环第「2」代挖掘 --\n"
     ]
    },
    {
     "data": {
      "text/plain": [
       "[2021-05-14 11:29:04.550543] INFO: : -- 开始使用训练数据计算表达式适应度··· --"
      ]
     },
     "metadata": {
      "is_log": true,
      "status": "INFO"
     },
     "output_type": "display_data"
    },
    {
     "name": "stdout",
     "output_type": "stream",
     "text": [
      "去重前的个体数20\n",
      "去重后的个体数18\n"
     ]
    },
    {
     "name": "stdout",
     "output_type": "stream",
     "text": [
      "每代的平均适应度：[3.939780349249654, 8.234642500767869]\n"
     ]
    },
    {
     "data": {
      "text/plain": [
       "[2021-05-14 11:41:27.346737] INFO: : 因子适应度在训练数据上检测完成，共耗时 [742.7921564597636s]"
      ]
     },
     "metadata": {
      "is_log": true,
      "status": "INFO"
     },
     "output_type": "display_data"
    },
    {
     "data": {
      "text/plain": [
       "[2021-05-14 11:41:27.351308] INFO: : 共「14」个表达式：['delta(mean3(turn, volume, low), constant(2))', 'delta(mean3(mean3(turn, volume, open), volume, open), constant(constant(constant(3))))', 'delta(normalization(decay_linear(volume, 9)), constant(2))', 'delta(turn, constant(2))', 'standardation(turn)', 'ts_rank(turn, 6)', 'delta(mean3(turn, volume, high), constant(2))', 'ts_rank(turn, constant(constant(5)))', 'delta(high, 6)', 'ts_rank(vdiv(open, high), 2)', 'ts_rank(volume, 6)', 'delta(mean3(turn, turn, low), 2)', 'delta(mean3(mean3(turn, volume, open), volume, open), 2)', 'delta(volume, 10)']通过训练数据检测"
      ]
     },
     "metadata": {
      "is_log": true,
      "status": "INFO"
     },
     "output_type": "display_data"
    },
    {
     "data": {
      "text/plain": [
       "[2021-05-14 11:41:27.353369] INFO: : -- 使用训练数据计算表达式适应度完成 --"
      ]
     },
     "metadata": {
      "is_log": true,
      "status": "INFO"
     },
     "output_type": "display_data"
    },
    {
     "data": {
      "text/plain": [
       "[2021-05-14 11:41:27.356446] INFO: : -- 开始使用测试数据计算表达式适应度··· --"
      ]
     },
     "metadata": {
      "is_log": true,
      "status": "INFO"
     },
     "output_type": "display_data"
    },
    {
     "name": "stdout",
     "output_type": "stream",
     "text": [
      "因子delta(mean3(turn, volume, low), constant(2))在测试集适应度值为10.567466732289335\n",
      "因子delta(mean3(mean3(turn, volume, open), volume, open), constant(constant(constant(3))))在测试集适应度值为10.598379214626004\n",
      "因子delta(normalization(decay_linear(volume, 9)), constant(2))在测试集适应度值为9.131351231794627\n",
      "因子delta(turn, constant(2))在测试集适应度值为11.49694341323391\n",
      "因子standardation(turn)在测试集适应度值为7.649560496710479\n",
      "因子ts_rank(turn, 6)在测试集适应度值为10.229477196796596\n",
      "因子delta(mean3(turn, volume, high), constant(2))在测试集适应度值为10.56746510116417\n",
      "因子ts_rank(turn, constant(constant(5)))在测试集适应度值为10.127618209103764\n",
      "因子delta(high, 6)在测试集适应度值为12.221136927790834\n",
      "因子ts_rank(vdiv(open, high), 2)在测试集适应度值为10.952556517195317\n",
      "因子ts_rank(volume, 6)在测试集适应度值为10.076842836170739\n",
      "因子delta(mean3(turn, turn, low), 2)在测试集适应度值为15.113188619417809\n",
      "因子delta(mean3(mean3(turn, volume, open), volume, open), 2)在测试集适应度值为10.567460901276593\n",
      "因子delta(volume, 10)在测试集适应度值为10.923261511247638\n"
     ]
    },
    {
     "data": {
      "text/plain": [
       "[2021-05-14 11:46:49.092850] INFO: : 因子适应度在测试数据上检测完成，共耗时 [321.73382049798965s]"
      ]
     },
     "metadata": {
      "is_log": true,
      "status": "INFO"
     },
     "output_type": "display_data"
    },
    {
     "data": {
      "text/plain": [
       "[2021-05-14 11:46:49.095887] INFO: : 共「14」个表达式：['delta(mean3(turn, volume, low), constant(2))', 'delta(mean3(mean3(turn, volume, open), volume, open), constant(constant(constant(3))))', 'delta(normalization(decay_linear(volume, 9)), constant(2))', 'delta(turn, constant(2))', 'standardation(turn)', 'ts_rank(turn, 6)', 'delta(mean3(turn, volume, high), constant(2))', 'ts_rank(turn, constant(constant(5)))', 'delta(high, 6)', 'ts_rank(vdiv(open, high), 2)', 'ts_rank(volume, 6)', 'delta(mean3(turn, turn, low), 2)', 'delta(mean3(mean3(turn, volume, open), volume, open), 2)', 'delta(volume, 10)']通过测试数据检测"
      ]
     },
     "metadata": {
      "is_log": true,
      "status": "INFO"
     },
     "output_type": "display_data"
    },
    {
     "data": {
      "text/plain": [
       "[2021-05-14 11:46:49.097191] INFO: : -- 使用测试数据计算表达式适应度完成 --"
      ]
     },
     "metadata": {
      "is_log": true,
      "status": "INFO"
     },
     "output_type": "display_data"
    },
    {
     "data": {
      "text/plain": [
       "[2021-05-14 11:46:49.098533] INFO: : -- 开始使用全区间数据计算表达式适应度 --"
      ]
     },
     "metadata": {
      "is_log": true,
      "status": "INFO"
     },
     "output_type": "display_data"
    },
    {
     "data": {
      "text/plain": [
       "[2021-05-14 11:49:25.906404] INFO: : 添加表达式[delta(mean3(turn, turn, low), 2)]至表达式保存列表中"
      ]
     },
     "metadata": {
      "is_log": true,
      "status": "INFO"
     },
     "output_type": "display_data"
    },
    {
     "data": {
      "text/plain": [
       "[2021-05-14 11:49:25.908350] INFO: : 因子适应度在全区间数据上检测完成，共耗时 [156.80876073613763s]"
      ]
     },
     "metadata": {
      "is_log": true,
      "status": "INFO"
     },
     "output_type": "display_data"
    },
    {
     "data": {
      "text/plain": [
       "[2021-05-14 11:49:25.909345] INFO: : -- 使用全区间数据计算表达式适应度完成 --"
      ]
     },
     "metadata": {
      "is_log": true,
      "status": "INFO"
     },
     "output_type": "display_data"
    },
    {
     "name": "stdout",
     "output_type": "stream",
     "text": [
      "pass:14, record:18, population: 14\n"
     ]
    },
    {
     "data": {
      "text/plain": [
       "[2021-05-14 11:49:26.074006] INFO: : 因子挖掘过程中相关指标：[{'gen': 1, 'nevals': 19, 'avg': 8.427380498335753, 'std': 2.724287768979169, 'min': 5.618257041631649, 'max': 12.720923746924477}, {'gen': 2, 'nevals': 18, 'avg': 10.066762359692985, 'std': 2.478534520459629, 'min': 5.264795447027606, 'max': 12.501465657378377}]"
      ]
     },
     "metadata": {
      "is_log": true,
      "status": "INFO"
     },
     "output_type": "display_data"
    },
    {
     "data": {
      "text/plain": [
       "[2021-05-14 11:49:26.076288] INFO: : -- 开始进行下一代因子挖掘 --"
      ]
     },
     "metadata": {
      "is_log": true,
      "status": "INFO"
     },
     "output_type": "display_data"
    },
    {
     "name": "stdout",
     "output_type": "stream",
     "text": [
      "下一代挖掘的个体数：20\n"
     ]
    },
    {
     "data": {
      "text/html": [
       "<div id=\"bigchart-5640a706ba4948879833d4b28b3b4896\" class=\"bigchart\"></div><div class=\"bigchart-data\"><pre style=\"display:none\">bigcharts-data-start/{\"chart\":{\"height\":400,\"renderTo\":\"bigchart-5640a706ba4948879833d4b28b3b4896\"},\"legend\":{\"enabled\":true},\"stock\":false,\"series\":[{\"name\":\"nevals\",\"yAxis\":0,\"data\":[[1,19],[2,18]]},{\"name\":\"avg\",\"yAxis\":0,\"data\":[[1,8.4274],[2,10.0668]]},{\"name\":\"std\",\"yAxis\":0,\"data\":[[1,2.7243],[2,2.4785]]},{\"name\":\"min\",\"yAxis\":0,\"data\":[[1,5.6183],[2,5.2648]]},{\"name\":\"max\",\"yAxis\":0,\"data\":[[1,12.7209],[2,12.5015]]}],\"xAxis\":{\"title\":{\"text\":\"gen\"}}}/bigcharts-data-end</pre></div>"
      ],
      "text/plain": [
       "<IPython.core.display.HTML object>"
      ]
     },
     "metadata": {},
     "output_type": "display_data"
    },
    {
     "data": {
      "text/plain": [
       "[2021-05-14 11:49:26.192562] INFO: : == 第「1」次因子挖掘循环结束，共耗时 [2309.4949275748804s] =="
      ]
     },
     "metadata": {
      "is_log": true,
      "status": "INFO"
     },
     "output_type": "display_data"
    },
    {
     "data": {
      "text/plain": [
       "[2021-05-14 11:49:26.193839] INFO: : == 开始第「2」次因子挖掘 =="
      ]
     },
     "metadata": {
      "is_log": true,
      "status": "INFO"
     },
     "output_type": "display_data"
    },
    {
     "data": {
      "text/plain": [
       "[2021-05-14 11:49:26.195420] INFO: : -- 开始第「2」次循环第「1」代挖掘 --"
      ]
     },
     "metadata": {
      "is_log": true,
      "status": "INFO"
     },
     "output_type": "display_data"
    },
    {
     "name": "stdout",
     "output_type": "stream",
     "text": [
      "-- 开始第「2」次循环第「1」代挖掘 --\n"
     ]
    },
    {
     "data": {
      "text/plain": [
       "[2021-05-14 11:49:26.196693] INFO: : -- 开始使用训练数据计算表达式适应度··· --"
      ]
     },
     "metadata": {
      "is_log": true,
      "status": "INFO"
     },
     "output_type": "display_data"
    },
    {
     "name": "stdout",
     "output_type": "stream",
     "text": [
      "去重前的个体数20\n",
      "去重后的个体数20\n"
     ]
    },
    {
     "name": "stdout",
     "output_type": "stream",
     "text": [
      "每代的平均适应度：[3.050069923488978]\n"
     ]
    },
    {
     "data": {
      "text/plain": [
       "[2021-05-14 12:02:23.355457] INFO: : 因子适应度在训练数据上检测完成，共耗时 [777.1567080309615s]"
      ]
     },
     "metadata": {
      "is_log": true,
      "status": "INFO"
     },
     "output_type": "display_data"
    },
    {
     "data": {
      "text/plain": [
       "[2021-05-14 12:02:23.361395] INFO: : 共「1」个表达式：['corr(close, high, 10)']通过训练数据检测"
      ]
     },
     "metadata": {
      "is_log": true,
      "status": "INFO"
     },
     "output_type": "display_data"
    },
    {
     "data": {
      "text/plain": [
       "[2021-05-14 12:02:23.364598] INFO: : -- 使用训练数据计算表达式适应度完成 --"
      ]
     },
     "metadata": {
      "is_log": true,
      "status": "INFO"
     },
     "output_type": "display_data"
    },
    {
     "data": {
      "text/plain": [
       "[2021-05-14 12:02:23.366467] INFO: : -- 开始使用测试数据计算表达式适应度··· --"
      ]
     },
     "metadata": {
      "is_log": true,
      "status": "INFO"
     },
     "output_type": "display_data"
    },
    {
     "name": "stdout",
     "output_type": "stream",
     "text": [
      "因子corr(close, high, 10)在测试集适应度值为7.7327944594710765\n"
     ]
    },
    {
     "data": {
      "text/plain": [
       "[2021-05-14 12:04:05.661593] INFO: : 因子适应度在测试数据上检测完成，共耗时 [102.29391523078084s]"
      ]
     },
     "metadata": {
      "is_log": true,
      "status": "INFO"
     },
     "output_type": "display_data"
    },
    {
     "data": {
      "text/plain": [
       "[2021-05-14 12:04:05.665456] INFO: : 共「1」个表达式：['corr(close, high, 10)']通过测试数据检测"
      ]
     },
     "metadata": {
      "is_log": true,
      "status": "INFO"
     },
     "output_type": "display_data"
    },
    {
     "data": {
      "text/plain": [
       "[2021-05-14 12:04:05.668426] INFO: : -- 使用测试数据计算表达式适应度完成 --"
      ]
     },
     "metadata": {
      "is_log": true,
      "status": "INFO"
     },
     "output_type": "display_data"
    },
    {
     "data": {
      "text/plain": [
       "[2021-05-14 12:04:05.671413] INFO: : -- 开始使用全区间数据计算表达式适应度 --"
      ]
     },
     "metadata": {
      "is_log": true,
      "status": "INFO"
     },
     "output_type": "display_data"
    },
    {
     "data": {
      "text/plain": [
       "[2021-05-14 12:06:59.381744] INFO: : 添加表达式[corr(close, high, 10)]至表达式保存列表中"
      ]
     },
     "metadata": {
      "is_log": true,
      "status": "INFO"
     },
     "output_type": "display_data"
    },
    {
     "data": {
      "text/plain": [
       "[2021-05-14 12:06:59.383767] INFO: : 因子适应度在全区间数据上检测完成，共耗时 [173.7095200046897s]"
      ]
     },
     "metadata": {
      "is_log": true,
      "status": "INFO"
     },
     "output_type": "display_data"
    },
    {
     "data": {
      "text/plain": [
       "[2021-05-14 12:06:59.384873] INFO: : -- 使用全区间数据计算表达式适应度完成 --"
      ]
     },
     "metadata": {
      "is_log": true,
      "status": "INFO"
     },
     "output_type": "display_data"
    },
    {
     "name": "stdout",
     "output_type": "stream",
     "text": [
      "pass:1, record:20, population: 1\n"
     ]
    },
    {
     "data": {
      "text/plain": [
       "[2021-05-14 12:06:59.557403] INFO: : 因子挖掘过程中相关指标：[{'gen': 1, 'nevals': 20, 'avg': 5.5361709763315625, 'std': 0.0, 'min': 5.5361709763315625, 'max': 5.5361709763315625}]"
      ]
     },
     "metadata": {
      "is_log": true,
      "status": "INFO"
     },
     "output_type": "display_data"
    },
    {
     "data": {
      "text/plain": [
       "[2021-05-14 12:06:59.560698] INFO: : -- 开始进行下一代因子挖掘 --"
      ]
     },
     "metadata": {
      "is_log": true,
      "status": "INFO"
     },
     "output_type": "display_data"
    },
    {
     "name": "stdout",
     "output_type": "stream",
     "text": [
      "下一代挖掘的个体数：20\n"
     ]
    },
    {
     "data": {
      "text/plain": [
       "[2021-05-14 12:06:59.567635] INFO: : -- 开始第「2」次循环第「2」代挖掘 --"
      ]
     },
     "metadata": {
      "is_log": true,
      "status": "INFO"
     },
     "output_type": "display_data"
    },
    {
     "name": "stdout",
     "output_type": "stream",
     "text": [
      "-- 开始第「2」次循环第「2」代挖掘 --\n"
     ]
    },
    {
     "data": {
      "text/plain": [
       "[2021-05-14 12:06:59.569950] INFO: : -- 开始使用训练数据计算表达式适应度··· --"
      ]
     },
     "metadata": {
      "is_log": true,
      "status": "INFO"
     },
     "output_type": "display_data"
    },
    {
     "name": "stdout",
     "output_type": "stream",
     "text": [
      "去重前的个体数20\n",
      "去重后的个体数16\n"
     ]
    },
    {
     "name": "stdout",
     "output_type": "stream",
     "text": [
      "每代的平均适应度：[3.050069923488978, 2.489128389393789]\n"
     ]
    },
    {
     "data": {
      "text/plain": [
       "[2021-05-14 12:19:58.847405] INFO: : 因子适应度在训练数据上检测完成，共耗时 [779.2747653769329s]"
      ]
     },
     "metadata": {
      "is_log": true,
      "status": "INFO"
     },
     "output_type": "display_data"
    },
    {
     "data": {
      "text/plain": [
       "[2021-05-14 12:19:58.852629] INFO: : 共「1」个表达式：['corr(close, wap_3_vwap_buy, 10)']通过训练数据检测"
      ]
     },
     "metadata": {
      "is_log": true,
      "status": "INFO"
     },
     "output_type": "display_data"
    },
    {
     "data": {
      "text/plain": [
       "[2021-05-14 12:19:58.854891] INFO: : -- 使用训练数据计算表达式适应度完成 --"
      ]
     },
     "metadata": {
      "is_log": true,
      "status": "INFO"
     },
     "output_type": "display_data"
    },
    {
     "data": {
      "text/plain": [
       "[2021-05-14 12:19:58.857346] INFO: : -- 开始使用测试数据计算表达式适应度··· --"
      ]
     },
     "metadata": {
      "is_log": true,
      "status": "INFO"
     },
     "output_type": "display_data"
    },
    {
     "name": "stdout",
     "output_type": "stream",
     "text": [
      "因子corr(close, wap_3_vwap_buy, 10)在测试集适应度值为11.36495769484284\n"
     ]
    },
    {
     "data": {
      "text/plain": [
       "[2021-05-14 12:21:36.948224] INFO: : 因子适应度在测试数据上检测完成，共耗时 [98.08741973526776s]"
      ]
     },
     "metadata": {
      "is_log": true,
      "status": "INFO"
     },
     "output_type": "display_data"
    },
    {
     "data": {
      "text/plain": [
       "[2021-05-14 12:21:36.953626] INFO: : 共「1」个表达式：['corr(close, wap_3_vwap_buy, 10)']通过测试数据检测"
      ]
     },
     "metadata": {
      "is_log": true,
      "status": "INFO"
     },
     "output_type": "display_data"
    },
    {
     "data": {
      "text/plain": [
       "[2021-05-14 12:21:36.956294] INFO: : -- 使用测试数据计算表达式适应度完成 --"
      ]
     },
     "metadata": {
      "is_log": true,
      "status": "INFO"
     },
     "output_type": "display_data"
    },
    {
     "data": {
      "text/plain": [
       "[2021-05-14 12:21:36.958621] INFO: : -- 开始使用全区间数据计算表达式适应度 --"
      ]
     },
     "metadata": {
      "is_log": true,
      "status": "INFO"
     },
     "output_type": "display_data"
    },
    {
     "data": {
      "text/plain": [
       "[2021-05-14 12:24:26.484456] INFO: : 表达式[corr(close, wap_3_vwap_buy, 10)]因子值缺失值过多，跳过该因子..."
      ]
     },
     "metadata": {
      "is_log": true,
      "status": "INFO"
     },
     "output_type": "display_data"
    },
    {
     "data": {
      "text/plain": [
       "[2021-05-14 12:24:26.486680] INFO: : 因子适应度在全区间数据上检测完成，共耗时 [169.52576338034123s]"
      ]
     },
     "metadata": {
      "is_log": true,
      "status": "INFO"
     },
     "output_type": "display_data"
    },
    {
     "data": {
      "text/plain": [
       "[2021-05-14 12:24:26.487993] INFO: : -- 使用全区间数据计算表达式适应度完成 --"
      ]
     },
     "metadata": {
      "is_log": true,
      "status": "INFO"
     },
     "output_type": "display_data"
    },
    {
     "data": {
      "text/plain": [
       "[2021-05-14 12:24:26.489017] INFO: : 未找到适应度满足条件的表达式，故本代挖掘未添加任何表达式至表达式保存列表中"
      ]
     },
     "metadata": {
      "is_log": true,
      "status": "INFO"
     },
     "output_type": "display_data"
    },
    {
     "name": "stdout",
     "output_type": "stream",
     "text": [
      "pass:1, record:16, population: 1\n"
     ]
    },
    {
     "data": {
      "text/plain": [
       "[2021-05-14 12:24:26.648842] INFO: : 因子挖掘过程中相关指标：[{'gen': 1, 'nevals': 20, 'avg': 5.5361709763315625, 'std': 0.0, 'min': 5.5361709763315625, 'max': 5.5361709763315625}, {'gen': 2, 'nevals': 16, 'avg': 5.716971812006682, 'std': 0.0, 'min': 5.716971812006682, 'max': 5.716971812006682}]"
      ]
     },
     "metadata": {
      "is_log": true,
      "status": "INFO"
     },
     "output_type": "display_data"
    },
    {
     "data": {
      "text/plain": [
       "[2021-05-14 12:24:26.652599] INFO: : -- 开始进行下一代因子挖掘 --"
      ]
     },
     "metadata": {
      "is_log": true,
      "status": "INFO"
     },
     "output_type": "display_data"
    },
    {
     "name": "stdout",
     "output_type": "stream",
     "text": [
      "下一代挖掘的个体数：20\n"
     ]
    },
    {
     "data": {
      "text/html": [
       "<div id=\"bigchart-7243cdf37647492fb56308147be22ad7\" class=\"bigchart\"></div><div class=\"bigchart-data\"><pre style=\"display:none\">bigcharts-data-start/{\"chart\":{\"height\":400,\"renderTo\":\"bigchart-7243cdf37647492fb56308147be22ad7\"},\"legend\":{\"enabled\":true},\"stock\":false,\"series\":[{\"name\":\"nevals\",\"yAxis\":0,\"data\":[[1,20],[2,16]]},{\"name\":\"avg\",\"yAxis\":0,\"data\":[[1,5.5362],[2,5.717]]},{\"name\":\"std\",\"yAxis\":0,\"data\":[[1,0.0],[2,0.0]]},{\"name\":\"min\",\"yAxis\":0,\"data\":[[1,5.5362],[2,5.717]]},{\"name\":\"max\",\"yAxis\":0,\"data\":[[1,5.5362],[2,5.717]]}],\"xAxis\":{\"title\":{\"text\":\"gen\"}}}/bigcharts-data-end</pre></div>"
      ],
      "text/plain": [
       "<IPython.core.display.HTML object>"
      ]
     },
     "metadata": {},
     "output_type": "display_data"
    },
    {
     "data": {
      "text/plain": [
       "[2021-05-14 12:24:26.668015] INFO: : == 第「2」次因子挖掘循环结束，共耗时 [2100.474160777405s] =="
      ]
     },
     "metadata": {
      "is_log": true,
      "status": "INFO"
     },
     "output_type": "display_data"
    },
    {
     "data": {
      "text/plain": [
       "[2021-05-14 12:24:26.669372] INFO: : == 开始第「3」次因子挖掘 =="
      ]
     },
     "metadata": {
      "is_log": true,
      "status": "INFO"
     },
     "output_type": "display_data"
    },
    {
     "data": {
      "text/plain": [
       "[2021-05-14 12:24:26.671019] INFO: : -- 开始第「3」次循环第「1」代挖掘 --"
      ]
     },
     "metadata": {
      "is_log": true,
      "status": "INFO"
     },
     "output_type": "display_data"
    },
    {
     "name": "stdout",
     "output_type": "stream",
     "text": [
      "-- 开始第「3」次循环第「1」代挖掘 --\n"
     ]
    },
    {
     "data": {
      "text/plain": [
       "[2021-05-14 12:24:26.672144] INFO: : -- 开始使用训练数据计算表达式适应度··· --"
      ]
     },
     "metadata": {
      "is_log": true,
      "status": "INFO"
     },
     "output_type": "display_data"
    },
    {
     "name": "stdout",
     "output_type": "stream",
     "text": [
      "去重前的个体数20\n",
      "去重后的个体数20\n"
     ]
    },
    {
     "name": "stdout",
     "output_type": "stream",
     "text": [
      "每代的平均适应度：[3.7372960967246414]\n"
     ]
    },
    {
     "data": {
      "text/plain": [
       "[2021-05-14 12:27:06.894788] INFO: : 因子适应度在训练数据上检测完成，共耗时 [160.22106436546892s]"
      ]
     },
     "metadata": {
      "is_log": true,
      "status": "INFO"
     },
     "output_type": "display_data"
    },
    {
     "data": {
      "text/plain": [
       "[2021-05-14 12:27:06.898223] INFO: : 共「3」个表达式：['argmax(vmul(open, turn), constant(5))', 'argmax(volume, 3)', 'vneg(ts_rank(turn, 6))']通过训练数据检测"
      ]
     },
     "metadata": {
      "is_log": true,
      "status": "INFO"
     },
     "output_type": "display_data"
    },
    {
     "data": {
      "text/plain": [
       "[2021-05-14 12:27:06.900102] INFO: : -- 使用训练数据计算表达式适应度完成 --"
      ]
     },
     "metadata": {
      "is_log": true,
      "status": "INFO"
     },
     "output_type": "display_data"
    },
    {
     "data": {
      "text/plain": [
       "[2021-05-14 12:27:06.901399] INFO: : -- 开始使用测试数据计算表达式适应度··· --"
      ]
     },
     "metadata": {
      "is_log": true,
      "status": "INFO"
     },
     "output_type": "display_data"
    },
    {
     "name": "stdout",
     "output_type": "stream",
     "text": [
      "因子argmax(vmul(open, turn), constant(5))在测试集适应度值为6.443659948237765\n",
      "因子argmax(volume, 3)在测试集适应度值为3.4821561307868993\n",
      "因子vneg(ts_rank(turn, 6))在测试集适应度值为6.229283147695572\n"
     ]
    },
    {
     "data": {
      "text/plain": [
       "[2021-05-14 12:27:22.314170] INFO: : 因子适应度在测试数据上检测完成，共耗时 [15.411682927981019s]"
      ]
     },
     "metadata": {
      "is_log": true,
      "status": "INFO"
     },
     "output_type": "display_data"
    },
    {
     "data": {
      "text/plain": [
       "[2021-05-14 12:27:22.318358] INFO: : 共「3」个表达式：['argmax(vmul(open, turn), constant(5))', 'argmax(volume, 3)', 'vneg(ts_rank(turn, 6))']通过测试数据检测"
      ]
     },
     "metadata": {
      "is_log": true,
      "status": "INFO"
     },
     "output_type": "display_data"
    },
    {
     "data": {
      "text/plain": [
       "[2021-05-14 12:27:22.320412] INFO: : -- 使用测试数据计算表达式适应度完成 --"
      ]
     },
     "metadata": {
      "is_log": true,
      "status": "INFO"
     },
     "output_type": "display_data"
    },
    {
     "data": {
      "text/plain": [
       "[2021-05-14 12:27:22.322635] INFO: : -- 开始使用全区间数据计算表达式适应度 --"
      ]
     },
     "metadata": {
      "is_log": true,
      "status": "INFO"
     },
     "output_type": "display_data"
    },
    {
     "data": {
      "text/plain": [
       "[2021-05-14 12:28:51.752818] INFO: : 添加表达式[argmax(vmul(open, turn), constant(5))]至表达式保存列表中"
      ]
     },
     "metadata": {
      "is_log": true,
      "status": "INFO"
     },
     "output_type": "display_data"
    },
    {
     "data": {
      "text/plain": [
       "[2021-05-14 12:28:51.755819] INFO: : 因子适应度在全区间数据上检测完成，共耗时 [89.43127163592726s]"
      ]
     },
     "metadata": {
      "is_log": true,
      "status": "INFO"
     },
     "output_type": "display_data"
    },
    {
     "data": {
      "text/plain": [
       "[2021-05-14 12:28:51.757827] INFO: : -- 使用全区间数据计算表达式适应度完成 --"
      ]
     },
     "metadata": {
      "is_log": true,
      "status": "INFO"
     },
     "output_type": "display_data"
    },
    {
     "name": "stdout",
     "output_type": "stream",
     "text": [
      "pass:3, record:20, population: 3\n"
     ]
    },
    {
     "data": {
      "text/plain": [
       "[2021-05-14 12:28:51.969559] INFO: : 因子挖掘过程中相关指标：[{'gen': 1, 'nevals': 20, 'avg': 6.13449974001107, 'std': 0.8918504377500125, 'min': 5.40729277150386, 'max': 7.390556765737983}]"
      ]
     },
     "metadata": {
      "is_log": true,
      "status": "INFO"
     },
     "output_type": "display_data"
    },
    {
     "data": {
      "text/plain": [
       "[2021-05-14 12:28:51.973429] INFO: : -- 开始进行下一代因子挖掘 --"
      ]
     },
     "metadata": {
      "is_log": true,
      "status": "INFO"
     },
     "output_type": "display_data"
    },
    {
     "name": "stdout",
     "output_type": "stream",
     "text": [
      "下一代挖掘的个体数：20\n"
     ]
    },
    {
     "data": {
      "text/plain": [
       "[2021-05-14 12:28:51.979821] INFO: : -- 开始第「3」次循环第「2」代挖掘 --"
      ]
     },
     "metadata": {
      "is_log": true,
      "status": "INFO"
     },
     "output_type": "display_data"
    },
    {
     "name": "stdout",
     "output_type": "stream",
     "text": [
      "-- 开始第「3」次循环第「2」代挖掘 --\n"
     ]
    },
    {
     "data": {
      "text/plain": [
       "[2021-05-14 12:28:51.981966] INFO: : -- 开始使用训练数据计算表达式适应度··· --"
      ]
     },
     "metadata": {
      "is_log": true,
      "status": "INFO"
     },
     "output_type": "display_data"
    },
    {
     "name": "stdout",
     "output_type": "stream",
     "text": [
      "去重前的个体数20\n",
      "去重后的个体数18\n"
     ]
    },
    {
     "name": "stdout",
     "output_type": "stream",
     "text": [
      "每代的平均适应度：[3.7372960967246414, 2.735008714793727]\n"
     ]
    },
    {
     "data": {
      "text/plain": [
       "[2021-05-14 12:44:44.761925] INFO: : 因子适应度在训练数据上检测完成，共耗时 [952.7778451805934s]"
      ]
     },
     "metadata": {
      "is_log": true,
      "status": "INFO"
     },
     "output_type": "display_data"
    },
    {
     "data": {
      "text/plain": [
       "[2021-05-14 12:44:44.765748] INFO: : 共「1」个表达式：['vneg(ts_rank(turn, 2))']通过训练数据检测"
      ]
     },
     "metadata": {
      "is_log": true,
      "status": "INFO"
     },
     "output_type": "display_data"
    },
    {
     "data": {
      "text/plain": [
       "[2021-05-14 12:44:44.766812] INFO: : -- 使用训练数据计算表达式适应度完成 --"
      ]
     },
     "metadata": {
      "is_log": true,
      "status": "INFO"
     },
     "output_type": "display_data"
    },
    {
     "data": {
      "text/plain": [
       "[2021-05-14 12:44:44.769962] INFO: : -- 开始使用测试数据计算表达式适应度··· --"
      ]
     },
     "metadata": {
      "is_log": true,
      "status": "INFO"
     },
     "output_type": "display_data"
    },
    {
     "name": "stdout",
     "output_type": "stream",
     "text": [
      "因子vneg(ts_rank(turn, 2))在测试集适应度值为5.365488489614403\n"
     ]
    },
    {
     "data": {
      "text/plain": [
       "[2021-05-14 12:46:33.310612] INFO: : 因子适应度在测试数据上检测完成，共耗时 [108.53898783121258s]"
      ]
     },
     "metadata": {
      "is_log": true,
      "status": "INFO"
     },
     "output_type": "display_data"
    },
    {
     "data": {
      "text/plain": [
       "[2021-05-14 12:46:33.313925] INFO: : 共「1」个表达式：['vneg(ts_rank(turn, 2))']通过测试数据检测"
      ]
     },
     "metadata": {
      "is_log": true,
      "status": "INFO"
     },
     "output_type": "display_data"
    },
    {
     "data": {
      "text/plain": [
       "[2021-05-14 12:46:33.315182] INFO: : -- 使用测试数据计算表达式适应度完成 --"
      ]
     },
     "metadata": {
      "is_log": true,
      "status": "INFO"
     },
     "output_type": "display_data"
    },
    {
     "data": {
      "text/plain": [
       "[2021-05-14 12:46:33.316229] INFO: : -- 开始使用全区间数据计算表达式适应度 --"
      ]
     },
     "metadata": {
      "is_log": true,
      "status": "INFO"
     },
     "output_type": "display_data"
    },
    {
     "data": {
      "text/plain": [
       "[2021-05-14 12:49:45.660246] INFO: : 添加表达式[vneg(ts_rank(turn, 2))]至表达式保存列表中"
      ]
     },
     "metadata": {
      "is_log": true,
      "status": "INFO"
     },
     "output_type": "display_data"
    },
    {
     "data": {
      "text/plain": [
       "[2021-05-14 12:49:45.663260] INFO: : 因子适应度在全区间数据上检测完成，共耗时 [192.34616725426167s]"
      ]
     },
     "metadata": {
      "is_log": true,
      "status": "INFO"
     },
     "output_type": "display_data"
    },
    {
     "data": {
      "text/plain": [
       "[2021-05-14 12:49:45.665393] INFO: : -- 使用全区间数据计算表达式适应度完成 --"
      ]
     },
     "metadata": {
      "is_log": true,
      "status": "INFO"
     },
     "output_type": "display_data"
    },
    {
     "name": "stdout",
     "output_type": "stream",
     "text": [
      "pass:1, record:18, population: 1\n"
     ]
    },
    {
     "data": {
      "text/plain": [
       "[2021-05-14 12:49:45.895580] INFO: : 因子挖掘过程中相关指标：[{'gen': 1, 'nevals': 20, 'avg': 6.13449974001107, 'std': 0.8918504377500125, 'min': 5.40729277150386, 'max': 7.390556765737983}, {'gen': 2, 'nevals': 18, 'avg': 7.903748204572364, 'std': 0.0, 'min': 7.903748204572364, 'max': 7.903748204572364}]"
      ]
     },
     "metadata": {
      "is_log": true,
      "status": "INFO"
     },
     "output_type": "display_data"
    },
    {
     "data": {
      "text/plain": [
       "[2021-05-14 12:49:45.897826] INFO: : -- 开始进行下一代因子挖掘 --"
      ]
     },
     "metadata": {
      "is_log": true,
      "status": "INFO"
     },
     "output_type": "display_data"
    },
    {
     "name": "stdout",
     "output_type": "stream",
     "text": [
      "下一代挖掘的个体数：20\n"
     ]
    },
    {
     "data": {
      "text/html": [
       "<div id=\"bigchart-1ffae5544c244609a40251c568cc154c\" class=\"bigchart\"></div><div class=\"bigchart-data\"><pre style=\"display:none\">bigcharts-data-start/{\"chart\":{\"height\":400,\"renderTo\":\"bigchart-1ffae5544c244609a40251c568cc154c\"},\"legend\":{\"enabled\":true},\"stock\":false,\"series\":[{\"name\":\"nevals\",\"yAxis\":0,\"data\":[[1,20],[2,18]]},{\"name\":\"avg\",\"yAxis\":0,\"data\":[[1,6.1345],[2,7.9037]]},{\"name\":\"std\",\"yAxis\":0,\"data\":[[1,0.8919],[2,0.0]]},{\"name\":\"min\",\"yAxis\":0,\"data\":[[1,5.4073],[2,7.9037]]},{\"name\":\"max\",\"yAxis\":0,\"data\":[[1,7.3906],[2,7.9037]]}],\"xAxis\":{\"title\":{\"text\":\"gen\"}}}/bigcharts-data-end</pre></div>"
      ],
      "text/plain": [
       "<IPython.core.display.HTML object>"
      ]
     },
     "metadata": {},
     "output_type": "display_data"
    },
    {
     "data": {
      "text/plain": [
       "[2021-05-14 12:49:45.908280] INFO: : == 第「3」次因子挖掘循环结束，共耗时 [1519.2388978376985s] =="
      ]
     },
     "metadata": {
      "is_log": true,
      "status": "INFO"
     },
     "output_type": "display_data"
    },
    {
     "data": {
      "text/plain": [
       "[2021-05-14 12:49:45.909602] INFO: : 所有通过检验的因子共「5」个：{'alpha0001': 'argmin(mean3(low, turn, wap_3_vwap_buy), constant(2))', 'alpha0002': 'delta(mean3(turn, turn, low), 2)', 'alpha0003': 'corr(close, high, 10)', 'alpha0004': 'argmax(vmul(open, turn), constant(5))', 'alpha0005': 'vneg(ts_rank(turn, 2))'}"
      ]
     },
     "metadata": {
      "is_log": true,
      "status": "INFO"
     },
     "output_type": "display_data"
    },
    {
     "data": {
      "text/plain": [
       "[2021-05-14 12:49:45.910660] INFO: : 本次因子挖掘共循环「3」次，每次进行种群数量为「20」个的挖掘共「2」代，共耗时 [5929.5319s]"
      ]
     },
     "metadata": {
      "is_log": true,
      "status": "INFO"
     },
     "output_type": "display_data"
    }
   ],
   "source": [
    "# 开始使用定义的遗传算法进行因子挖掘\n",
    "# 保存符合条件的因子表达式\n",
    "saved_factor_exprs = {}\n",
    "# 保存因子表达式对应的因子值（中性化后的，中性化处理是在构建因子表达式计算的时候一起进行的），传入后续因子挖掘迭代中\n",
    "saved_factor_values = {}\n",
    "# 声明时间记录类实例\n",
    "# stop_watch = StopWatch()\n",
    "for mt in range(1, config.mtime + 1):\n",
    "    mt_duration = stop_watch.duration\n",
    "    log.info(f\"== 开始第「{mt}」次因子挖掘 ==\")\n",
    "\n",
    "    # 初始化种群\n",
    "    population = toolbox.population(n=config.init_ind_num)\n",
    "    \n",
    "    # 记录每一代的平均适应度\n",
    "    average_fitness = []\n",
    "\n",
    "    # 声明统计指标\n",
    "    stats = tools.Statistics(key=lambda ind: ind.fitness.values)\n",
    "    stats.register(\"avg\", bn.nanmean)\n",
    "    stats.register(\"std\", bn.nanstd)\n",
    "    stats.register(\"min\", bn.nanmin)\n",
    "    stats.register(\"max\", bn.nanmax)\n",
    "\n",
    "    # 日志记录，与指标记录一起使用，可方便打印指标相关记录\n",
    "    logbook = tools.Logbook()\n",
    "    logbook.header = ['gen', 'nevals'] + (stats.fields if stats else [])\n",
    "\n",
    "    # Begin the generational process\n",
    "    for gen in range(1, config.ngen + 1):\n",
    "        # 个体优选器（能自动按给定的最大长度将适应度最优的个体从大到小排序存放，根据你的目标进行判定）\n",
    "        pass_hall_of_fame = tools.HallOfFame(config.init_ind_num)\n",
    "        final_hall_of_fame = tools.HallOfFame(int(config.init_ind_num * 0.1))\n",
    "        log.info(f\"-- 开始第「{mt}」次循环第「{gen}」代挖掘 --\")\n",
    "        print(f\"-- 开始第「{mt}」次循环第「{gen}」代挖掘 --\")\n",
    "        # Evaluate the individuals with an invalid fitness\n",
    "        log.info('-- 开始使用训练数据计算表达式适应度··· --')\n",
    "        train_duration = stop_watch.duration\n",
    "        invalid_ind = [ind for ind in population if not ind.fitness.valid]\n",
    "        # 开始计算之前预先针对相同表达式去重，减少重复计算量\n",
    "        print(f\"去重前的个体数{len(invalid_ind)}\")\n",
    "        invalid_ind = drop_duplicates(invalid_ind)\n",
    "        print(f\"去重后的个体数{len(invalid_ind)}\")\n",
    "        # 开始计算因子在短区间上的适应度值\n",
    "        data_dp.train_ret\n",
    "        data_dp.validate_ret\n",
    "        data_dp.test_ret\n",
    "        with multiprocessing.Pool(processes=config.pool_processes_limit) as pool:\n",
    "            fitnesses = pool.map(toolbox.evaluate_train, invalid_ind)\n",
    "          \n",
    "        with multiprocessing.Pool(processes=config.pool_processes_limit) as pool:\n",
    "            fitnesses_val = pool.map(toolbox.evaluate_val, invalid_ind)\n",
    "        \n",
    "        average_fitness.append(bn.nanmean([fit for fit, ind in fitnesses_val]))\n",
    "        print(f\"每代的平均适应度：{average_fitness}\")\n",
    "\n",
    "        pass_population = []\n",
    "        record_population = []\n",
    "        # 根据指定的训练 IR 值筛选符合条件的个体并存入 pass_population 中\n",
    "        for fit, ind in fitnesses:\n",
    "            ind.fitness.values = (fit,)\n",
    "            record_population.append(ind)\n",
    "            # print(f\"因子{ind}在训练集适应度值为{fit}\")\n",
    "            if fitness.compare_fitness(config.train_fitness, fit):\n",
    "                pass_population.append(ind)\n",
    "        log.info(f'因子适应度在训练数据上检测完成，共耗时 [{stop_watch.duration - train_duration}s]')\n",
    "        log.info(f'共「{len(pass_population)}」个表达式：{[str(pop) for pop in pass_population]}通过训练数据检测')\n",
    "        log.info('-- 使用训练数据计算表达式适应度完成 --')\n",
    "\n",
    "        # Update the pass_hall_of_fame with the generated individuals\n",
    "        pass_hall_of_fame.update(pass_population)\n",
    "\n",
    "        log.info('-- 开始使用测试数据计算表达式适应度··· --')\n",
    "        test_duration = stop_watch.duration\n",
    "        # 开始计算通过训练数据的个体\n",
    "        with multiprocessing.Pool(processes=config.pool_processes_limit) as pool:\n",
    "            pass_fitnesses = pool.map(toolbox.evaluate_test, pass_population)\n",
    "        final_population = []\n",
    "        # 根据指定的测试 IR 值筛选符合条件的个体并存入 final_population 中\n",
    "        for fit, ind in pass_fitnesses:\n",
    "            ind.fitness.values = (fit,)\n",
    "            print(f\"因子{ind}在测试集适应度值为{fit}\")\n",
    "            if fitness.compare_fitness(config.test_fitness, fit):\n",
    "                final_population.append(ind)\n",
    "        log.info(f'因子适应度在测试数据上检测完成，共耗时 [{stop_watch.duration - test_duration}s]')\n",
    "        log.info(f'共「{len(final_population)}」个表达式：{[str(pop) for pop in final_population]}通过测试数据检测')\n",
    "        log.info('-- 使用测试数据计算表达式适应度完成 --')\n",
    "\n",
    "        # Update the final_hall_of_fame with the generated individuals\n",
    "        final_hall_of_fame.update(final_population)\n",
    "\n",
    "        log.info('-- 开始使用全区间数据计算表达式适应度 --')\n",
    "        all_duration = stop_watch.duration\n",
    "        # 是否保存了因子的标志\n",
    "        save_flag = False\n",
    "        # 遍历最终个体优选器，依次计算长时间全区间的因子值和 IR 值，找出符合条件的个体存入 saved_factor_values 和 saved_factor_exprs 中\n",
    "        # 若在最终优选器长度范围内没有满足条件的个体则进行下一代挖掘\n",
    "        for final_pop in final_hall_of_fame.items:\n",
    "            alpha_name = f\"alpha{len(saved_factor_exprs) + 1:0>4}\"\n",
    "            factor_expr = str(final_pop)\n",
    "            if factor_expr in saved_factor_exprs.values():\n",
    "                log.info(f'表达式[{factor_expr}]已在已保存表达式列表中，跳过该表达式...')\n",
    "                continue\n",
    "            fianl_factor_result = toolbox.evaluate_factor(final_pop)\n",
    "            fianl_factor = fianl_factor_result[0]\n",
    "            fianl_factor = pd.DataFrame(fianl_factor, index=all_data_dp.data_index, columns=all_data_dp.data_cols)\n",
    "            save_condition = all_data_dp.check_nan_num(fianl_factor)\n",
    "            if save_condition:\n",
    "                if fitness.ir_type == 'rank_ir' and fitness.fitness == \"icir\":\n",
    "                    fit_all = fitness.calculate_factor_ir(factor=fianl_factor_result[1], eval_type='all')\n",
    "                else:\n",
    "                    fit_all = fitness.fitness_choose(factor=fianl_factor.values.astype(np.float64), eval_type='all')\n",
    "                if fitness.compare_fitness(config.test_fitness, fit_all):\n",
    "                    saved_factor_values[alpha_name] = fianl_factor\n",
    "                    saved_factor_exprs[alpha_name] = factor_expr\n",
    "                    save_flag = True\n",
    "                    log.info(f'添加表达式[{factor_expr}]至表达式保存列表中')\n",
    "                    break\n",
    "            else:\n",
    "                log.info(f'表达式[{factor_expr}]因子值缺失值过多，跳过该因子...')\n",
    "        log.info(f'因子适应度在全区间数据上检测完成，共耗时 [{stop_watch.duration - all_duration}s]')\n",
    "        log.info('-- 使用全区间数据计算表达式适应度完成 --')\n",
    "        if not save_flag:\n",
    "            log.info('未找到适应度满足条件的表达式，故本代挖掘未添加任何表达式至表达式保存列表中')\n",
    "\n",
    "        data_dp.add_barra(saved_factor_values)\n",
    "        all_data_dp.add_barra(saved_factor_values)\n",
    "\n",
    "        # Replace the current population by the pass_population\n",
    "        # 使用通过训练集 IR 值检测的个体替换原有的随机个体\n",
    "        population = pass_population\n",
    "        # 判断当前种群是否为空，为空则拿到本代父代种群，进行交叉变异\n",
    "        if not population:\n",
    "            population = record_population\n",
    "        # 判断平均适应度是否明显收敛，若是，则跳出这次挖掘\n",
    "        if check_average_fitness(average_fitness):\n",
    "            log.info('种群平均适应度已明显收敛，跳出该次挖掘，进入下一次挖掘')\n",
    "            break\n",
    "        print(f\"pass:{len(pass_population)}, record:{len(record_population)}, population: {len(population)}\")\n",
    "        # Append the current generation statistics to the logbook\n",
    "        record = stats.compile(population) if stats else {}\n",
    "        logbook.record(gen=gen, nevals=len(invalid_ind), **record)\n",
    "        log.info(f'因子挖掘过程中相关指标：{repr(logbook)}')\n",
    "\n",
    "        log.info('-- 开始进行下一代因子挖掘 --')\n",
    "        # Select the next generation individuals\n",
    "        offspring = toolbox.select(population, config.init_ind_num)\n",
    "        # Vary the pool of individuals\n",
    "        offspring = varAnd(offspring)\n",
    "        # Replace the current population by the offspring\n",
    "        population[:] = offspring\n",
    "        print(f\"下一代挖掘的个体数：{len(offspring)}\")\n",
    "    \"\"\"绘制每代的统计指标折线图\"\"\"\n",
    "    df = pd.DataFrame(logbook)\n",
    "    df.set_index(\"gen\", inplace=True)\n",
    "    T.plot(df)\n",
    "    log.info(f'== 第「{mt}」次因子挖掘循环结束，共耗时 [{stop_watch.duration - mt_duration}s] ==')\n",
    "log.info(f'所有通过检验的因子共「{len(saved_factor_exprs)}」个：{saved_factor_exprs}')\n",
    "log.info(f'本次因子挖掘共循环「{config.mtime}」次，每次进行种群数量为「{config.init_ind_num}」个的挖掘共「{config.ngen}」代，共耗时 [{str(stop_watch)}]')\n"
   ]
  },
  {
   "cell_type": "code",
   "execution_count": 7,
   "metadata": {},
   "outputs": [],
   "source": [
    "# save data\n",
    "for key,values in saved_factor_values.items():\n",
    "    saved_factor_values_T = saved_factor_values[key].stack().reset_index(name=key)\n",
    "    saved_factor_values_T.to_csv(\"{}+{}.csv\".format(key,saved_factor_exprs[key]))"
   ]
  },
  {
   "cell_type": "code",
   "execution_count": 8,
   "metadata": {},
   "outputs": [
    {
     "data": {
      "text/plain": [
       "[2021-05-14 12:53:24.411355] INFO: : 开始运行因子分析：alpha0001"
      ]
     },
     "metadata": {
      "is_log": true,
      "status": "INFO"
     },
     "output_type": "display_data"
    },
    {
     "data": {
      "text/plain": [
       "[2021-05-14 12:53:26.051039] INFO: moduleinvoker: factorlens.v1 开始运行.."
      ]
     },
     "metadata": {
      "is_log": true,
      "status": "INFO"
     },
     "output_type": "display_data"
    },
    {
     "data": {
      "text/plain": [
       "[2021-05-14 12:53:28.271911] INFO: 因子分析: batch_process start"
      ]
     },
     "metadata": {
      "is_log": true,
      "status": "INFO"
     },
     "output_type": "display_data"
    },
    {
     "data": {
      "text/plain": [
       "[2021-05-14 12:53:28.274717] INFO: 因子分析: load_instruments 2016-10-01, 2020-11-05"
      ]
     },
     "metadata": {
      "is_log": true,
      "status": "INFO"
     },
     "output_type": "display_data"
    },
    {
     "data": {
      "text/plain": [
       "[2021-05-14 12:53:35.447801] INFO: 因子分析: load_instruments, 4113 rows."
      ]
     },
     "metadata": {
      "is_log": true,
      "status": "INFO"
     },
     "output_type": "display_data"
    },
    {
     "data": {
      "text/plain": [
       "[2021-05-14 12:53:35.450582] INFO: 因子分析: load_benchmark_data 2016-10-01, 2020-11-05"
      ]
     },
     "metadata": {
      "is_log": true,
      "status": "INFO"
     },
     "output_type": "display_data"
    },
    {
     "data": {
      "text/plain": [
       "[2021-05-14 12:53:35.789321] INFO: 因子分析: load_benchmark_data, 2982 rows."
      ]
     },
     "metadata": {
      "is_log": true,
      "status": "INFO"
     },
     "output_type": "display_data"
    },
    {
     "data": {
      "text/plain": [
       "[2021-05-14 12:53:35.790729] INFO: 因子分析: StockPool.before_load_general_feature_data"
      ]
     },
     "metadata": {
      "is_log": true,
      "status": "INFO"
     },
     "output_type": "display_data"
    },
    {
     "data": {
      "text/plain": [
       "[2021-05-14 12:53:35.791775] INFO: 因子分析: UserDataMerge.before_load_general_feature_data"
      ]
     },
     "metadata": {
      "is_log": true,
      "status": "INFO"
     },
     "output_type": "display_data"
    },
    {
     "data": {
      "text/plain": [
       "[2021-05-14 12:53:35.792907] INFO: 因子分析: DropSTStocks.before_load_general_feature_data"
      ]
     },
     "metadata": {
      "is_log": true,
      "status": "INFO"
     },
     "output_type": "display_data"
    },
    {
     "data": {
      "text/plain": [
       "[2021-05-14 12:53:35.793848] INFO: 因子分析: DropNewStocks.before_load_general_feature_data"
      ]
     },
     "metadata": {
      "is_log": true,
      "status": "INFO"
     },
     "output_type": "display_data"
    },
    {
     "data": {
      "text/plain": [
       "[2021-05-14 12:53:35.794638] INFO: 因子分析: Neutralization.before_load_general_feature_data"
      ]
     },
     "metadata": {
      "is_log": true,
      "status": "INFO"
     },
     "output_type": "display_data"
    },
    {
     "data": {
      "text/plain": [
       "[2021-05-14 12:53:35.795538] INFO: 因子分析: DelayRebalanceDays.before_load_general_feature_data"
      ]
     },
     "metadata": {
      "is_log": true,
      "status": "INFO"
     },
     "output_type": "display_data"
    },
    {
     "data": {
      "text/plain": [
       "[2021-05-14 12:53:35.796497] INFO: 因子分析: RebalancePeriod.before_load_general_feature_data"
      ]
     },
     "metadata": {
      "is_log": true,
      "status": "INFO"
     },
     "output_type": "display_data"
    },
    {
     "data": {
      "text/plain": [
       "[2021-05-14 12:53:35.798059] INFO: 因子分析: RebalancePrice.before_load_general_feature_data"
      ]
     },
     "metadata": {
      "is_log": true,
      "status": "INFO"
     },
     "output_type": "display_data"
    },
    {
     "data": {
      "text/plain": [
       "[2021-05-14 12:53:35.799036] INFO: 因子分析: FactorCoverage.before_load_general_feature_data"
      ]
     },
     "metadata": {
      "is_log": true,
      "status": "INFO"
     },
     "output_type": "display_data"
    },
    {
     "data": {
      "text/plain": [
       "[2021-05-14 12:53:35.799899] INFO: 因子分析: Industry.before_load_general_feature_data"
      ]
     },
     "metadata": {
      "is_log": true,
      "status": "INFO"
     },
     "output_type": "display_data"
    },
    {
     "data": {
      "text/plain": [
       "[2021-05-14 12:53:35.801280] INFO: 因子分析: PBRatio.before_load_general_feature_data"
      ]
     },
     "metadata": {
      "is_log": true,
      "status": "INFO"
     },
     "output_type": "display_data"
    },
    {
     "data": {
      "text/plain": [
       "[2021-05-14 12:53:35.802136] INFO: 因子分析: Turnover.before_load_general_feature_data"
      ]
     },
     "metadata": {
      "is_log": true,
      "status": "INFO"
     },
     "output_type": "display_data"
    },
    {
     "data": {
      "text/plain": [
       "[2021-05-14 12:53:35.802988] INFO: 因子分析: MarketCap.before_load_general_feature_data"
      ]
     },
     "metadata": {
      "is_log": true,
      "status": "INFO"
     },
     "output_type": "display_data"
    },
    {
     "data": {
      "text/plain": [
       "[2021-05-14 12:53:35.803896] INFO: 因子分析: load_general_feature_data, load data"
      ]
     },
     "metadata": {
      "is_log": true,
      "status": "INFO"
     },
     "output_type": "display_data"
    },
    {
     "data": {
      "text/plain": [
       "[2021-05-14 12:54:41.161715] INFO: 因子分析: RebalancePeriod.after_load_general_feature_data"
      ]
     },
     "metadata": {
      "is_log": true,
      "status": "INFO"
     },
     "output_type": "display_data"
    },
    {
     "data": {
      "text/plain": [
       "[2021-05-14 12:54:41.397253] INFO: 因子分析: RebalancePeriodsReturns.after_load_general_feature_data"
      ]
     },
     "metadata": {
      "is_log": true,
      "status": "INFO"
     },
     "output_type": "display_data"
    },
    {
     "data": {
      "text/plain": [
       "[2021-05-14 12:55:49.056904] INFO: 因子分析: RebalancePrice.after_load_general_feature_data"
      ]
     },
     "metadata": {
      "is_log": true,
      "status": "INFO"
     },
     "output_type": "display_data"
    },
    {
     "data": {
      "text/plain": [
       "[2021-05-14 12:55:49.059300] INFO: 因子分析: load_general_feature_data, 4017980 rows."
      ]
     },
     "metadata": {
      "is_log": true,
      "status": "INFO"
     },
     "output_type": "display_data"
    },
    {
     "data": {
      "text/plain": [
       "[2021-05-14 12:55:49.062792] INFO: 因子分析: load_derived_feature_data, 4017980 rows, 20 columns."
      ]
     },
     "metadata": {
      "is_log": true,
      "status": "INFO"
     },
     "output_type": "display_data"
    },
    {
     "data": {
      "text/plain": [
       "[2021-05-14 12:55:49.064959] INFO: 因子分析: process, alpha0001"
      ]
     },
     "metadata": {
      "is_log": true,
      "status": "INFO"
     },
     "output_type": "display_data"
    },
    {
     "data": {
      "text/plain": [
       "[2021-05-14 12:55:49.066449] INFO: 因子分析: calculate_factor, alpha0001"
      ]
     },
     "metadata": {
      "is_log": true,
      "status": "INFO"
     },
     "output_type": "display_data"
    },
    {
     "data": {
      "text/plain": [
       "[2021-05-14 12:55:50.198852] INFO: 因子分析: calculate_factor, done"
      ]
     },
     "metadata": {
      "is_log": true,
      "status": "INFO"
     },
     "output_type": "display_data"
    },
    {
     "data": {
      "text/plain": [
       "[2021-05-14 12:55:50.768405] INFO: 因子分析: QuantileReturns.before_process"
      ]
     },
     "metadata": {
      "is_log": true,
      "status": "INFO"
     },
     "output_type": "display_data"
    },
    {
     "data": {
      "text/plain": [
       "[2021-05-14 12:55:50.770347] INFO: 因子分析: IC.before_process"
      ]
     },
     "metadata": {
      "is_log": true,
      "status": "INFO"
     },
     "output_type": "display_data"
    },
    {
     "data": {
      "text/plain": [
       "[2021-05-14 12:55:50.773210] INFO: 因子分析: BasicDescription.before_process"
      ]
     },
     "metadata": {
      "is_log": true,
      "status": "INFO"
     },
     "output_type": "display_data"
    },
    {
     "data": {
      "text/plain": [
       "[2021-05-14 12:55:50.774964] INFO: 因子分析: Industry.before_process"
      ]
     },
     "metadata": {
      "is_log": true,
      "status": "INFO"
     },
     "output_type": "display_data"
    },
    {
     "data": {
      "text/plain": [
       "[2021-05-14 12:55:50.776731] INFO: 因子分析: RebalanceOverlap.before_process"
      ]
     },
     "metadata": {
      "is_log": true,
      "status": "INFO"
     },
     "output_type": "display_data"
    },
    {
     "data": {
      "text/plain": [
       "[2021-05-14 12:55:50.778237] INFO: 因子分析: PBRatio.before_process"
      ]
     },
     "metadata": {
      "is_log": true,
      "status": "INFO"
     },
     "output_type": "display_data"
    },
    {
     "data": {
      "text/plain": [
       "[2021-05-14 12:55:50.779336] INFO: 因子分析: Turnover.before_process"
      ]
     },
     "metadata": {
      "is_log": true,
      "status": "INFO"
     },
     "output_type": "display_data"
    },
    {
     "data": {
      "text/plain": [
       "[2021-05-14 12:55:50.780500] INFO: 因子分析: Stocks.before_process"
      ]
     },
     "metadata": {
      "is_log": true,
      "status": "INFO"
     },
     "output_type": "display_data"
    },
    {
     "data": {
      "text/plain": [
       "[2021-05-14 12:55:50.782095] INFO: 因子分析: MarketCap.before_process"
      ]
     },
     "metadata": {
      "is_log": true,
      "status": "INFO"
     },
     "output_type": "display_data"
    },
    {
     "data": {
      "text/plain": [
       "[2021-05-14 12:55:50.783163] INFO: 因子分析: FactorPairwiseCorrelationMerged.before_process"
      ]
     },
     "metadata": {
      "is_log": true,
      "status": "INFO"
     },
     "output_type": "display_data"
    },
    {
     "data": {
      "text/plain": [
       "[2021-05-14 12:55:51.082931] INFO: 因子分析: process metrics, start .."
      ]
     },
     "metadata": {
      "is_log": true,
      "status": "INFO"
     },
     "output_type": "display_data"
    },
    {
     "data": {
      "text/plain": [
       "[2021-05-14 12:55:52.131705] INFO: 因子分析: process, 3210889/3393687 rows .."
      ]
     },
     "metadata": {
      "is_log": true,
      "status": "INFO"
     },
     "output_type": "display_data"
    },
    {
     "data": {
      "text/plain": [
       "[2021-05-14 12:55:52.134310] INFO: 因子分析: BacktestInterval.process, 0.000s"
      ]
     },
     "metadata": {
      "is_log": true,
      "status": "INFO"
     },
     "output_type": "display_data"
    },
    {
     "data": {
      "text/plain": [
       "[2021-05-14 12:55:52.136905] INFO: 因子分析: Benchmark.process, 0.000s"
      ]
     },
     "metadata": {
      "is_log": true,
      "status": "INFO"
     },
     "output_type": "display_data"
    },
    {
     "data": {
      "text/plain": [
       "[2021-05-14 12:55:52.139275] INFO: 因子分析: StockPool.process, 0.000s"
      ]
     },
     "metadata": {
      "is_log": true,
      "status": "INFO"
     },
     "output_type": "display_data"
    },
    {
     "data": {
      "text/plain": [
       "[2021-05-14 12:55:52.141229] INFO: 因子分析: UserDataMerge.process, 0.000s"
      ]
     },
     "metadata": {
      "is_log": true,
      "status": "INFO"
     },
     "output_type": "display_data"
    },
    {
     "data": {
      "text/plain": [
       "[2021-05-14 12:55:52.143082] INFO: 因子分析: DropSTStocks.process, 0.000s"
      ]
     },
     "metadata": {
      "is_log": true,
      "status": "INFO"
     },
     "output_type": "display_data"
    },
    {
     "data": {
      "text/plain": [
       "[2021-05-14 12:55:52.145183] INFO: 因子分析: DropPriceLimitStocks.process, 0.000s"
      ]
     },
     "metadata": {
      "is_log": true,
      "status": "INFO"
     },
     "output_type": "display_data"
    },
    {
     "data": {
      "text/plain": [
       "[2021-05-14 12:55:52.147560] INFO: 因子分析: DropNewStocks.process, 0.000s"
      ]
     },
     "metadata": {
      "is_log": true,
      "status": "INFO"
     },
     "output_type": "display_data"
    },
    {
     "data": {
      "text/plain": [
       "[2021-05-14 12:55:52.149657] INFO: 因子分析: DropSuspendedStocks.process, 0.000s"
      ]
     },
     "metadata": {
      "is_log": true,
      "status": "INFO"
     },
     "output_type": "display_data"
    },
    {
     "data": {
      "text/plain": [
       "[2021-05-14 12:55:52.151203] INFO: 因子分析: QuantileCount.process, 0.000s"
      ]
     },
     "metadata": {
      "is_log": true,
      "status": "INFO"
     },
     "output_type": "display_data"
    },
    {
     "data": {
      "text/plain": [
       "[2021-05-14 12:55:52.153039] INFO: 因子分析: CommissionRates.process, 0.000s"
      ]
     },
     "metadata": {
      "is_log": true,
      "status": "INFO"
     },
     "output_type": "display_data"
    },
    {
     "data": {
      "text/plain": [
       "[2021-05-14 12:55:52.154602] INFO: 因子分析: Normalization.process, 0.000s"
      ]
     },
     "metadata": {
      "is_log": true,
      "status": "INFO"
     },
     "output_type": "display_data"
    },
    {
     "data": {
      "text/plain": [
       "[2021-05-14 12:55:52.156001] INFO: 因子分析: Neutralization.process, 0.000s"
      ]
     },
     "metadata": {
      "is_log": true,
      "status": "INFO"
     },
     "output_type": "display_data"
    },
    {
     "data": {
      "text/plain": [
       "[2021-05-14 12:55:52.157559] INFO: 因子分析: DelayRebalanceDays.process, 0.000s"
      ]
     },
     "metadata": {
      "is_log": true,
      "status": "INFO"
     },
     "output_type": "display_data"
    },
    {
     "data": {
      "text/plain": [
       "[2021-05-14 12:57:03.323161] INFO: 因子分析: RebalancePeriod.process, 71.164s"
      ]
     },
     "metadata": {
      "is_log": true,
      "status": "INFO"
     },
     "output_type": "display_data"
    },
    {
     "data": {
      "text/plain": [
       "[2021-05-14 12:57:03.326126] INFO: 因子分析: RebalancePeriodsReturns.process, 0.000s"
      ]
     },
     "metadata": {
      "is_log": true,
      "status": "INFO"
     },
     "output_type": "display_data"
    },
    {
     "data": {
      "text/plain": [
       "[2021-05-14 12:57:03.327517] INFO: 因子分析: RebalancePrice.process, 0.000s"
      ]
     },
     "metadata": {
      "is_log": true,
      "status": "INFO"
     },
     "output_type": "display_data"
    },
    {
     "data": {
      "text/plain": [
       "[2021-05-14 12:57:03.329221] INFO: 因子分析: ReturnsCalculationMethod.process, 0.000s"
      ]
     },
     "metadata": {
      "is_log": true,
      "status": "INFO"
     },
     "output_type": "display_data"
    },
    {
     "data": {
      "text/plain": [
       "[2021-05-14 12:57:03.331587] INFO: 因子分析: FactorCoverage.process, 0.000s"
      ]
     },
     "metadata": {
      "is_log": true,
      "status": "INFO"
     },
     "output_type": "display_data"
    },
    {
     "data": {
      "text/plain": [
       "[2021-05-14 12:57:03.553702] INFO: 因子分析: QuantileReturns.process, 0.220s"
      ]
     },
     "metadata": {
      "is_log": true,
      "status": "INFO"
     },
     "output_type": "display_data"
    },
    {
     "data": {
      "text/plain": [
       "[2021-05-14 12:57:27.865370] INFO: 因子分析: IC.process, 24.309s"
      ]
     },
     "metadata": {
      "is_log": true,
      "status": "INFO"
     },
     "output_type": "display_data"
    },
    {
     "data": {
      "text/plain": [
       "[2021-05-14 12:57:28.778781] INFO: 因子分析: BasicDescription.process, 0.911s"
      ]
     },
     "metadata": {
      "is_log": true,
      "status": "INFO"
     },
     "output_type": "display_data"
    },
    {
     "data": {
      "text/plain": [
       "[2021-05-14 12:57:30.164541] INFO: 因子分析: Industry.process, 1.384s"
      ]
     },
     "metadata": {
      "is_log": true,
      "status": "INFO"
     },
     "output_type": "display_data"
    },
    {
     "data": {
      "text/plain": [
       "[2021-05-14 12:57:34.146014] INFO: 因子分析: RebalanceOverlap.process, 3.980s"
      ]
     },
     "metadata": {
      "is_log": true,
      "status": "INFO"
     },
     "output_type": "display_data"
    },
    {
     "data": {
      "text/plain": [
       "[2021-05-14 12:57:34.475657] INFO: 因子分析: PBRatio.process, 0.327s"
      ]
     },
     "metadata": {
      "is_log": true,
      "status": "INFO"
     },
     "output_type": "display_data"
    },
    {
     "data": {
      "text/plain": [
       "[2021-05-14 12:57:34.670180] INFO: 因子分析: Turnover.process, 0.193s"
      ]
     },
     "metadata": {
      "is_log": true,
      "status": "INFO"
     },
     "output_type": "display_data"
    },
    {
     "data": {
      "text/plain": [
       "[2021-05-14 12:57:34.715758] INFO: 因子分析: Stocks.process, 0.044s"
      ]
     },
     "metadata": {
      "is_log": true,
      "status": "INFO"
     },
     "output_type": "display_data"
    },
    {
     "data": {
      "text/plain": [
       "[2021-05-14 12:57:37.633993] INFO: 因子分析: MarketCap.process, 2.916s"
      ]
     },
     "metadata": {
      "is_log": true,
      "status": "INFO"
     },
     "output_type": "display_data"
    },
    {
     "data": {
      "text/plain": [
       "[2021-05-14 12:57:38.562642] INFO: 因子分析: process metrics, 107.480s"
      ]
     },
     "metadata": {
      "is_log": true,
      "status": "INFO"
     },
     "output_type": "display_data"
    },
    {
     "data": {
      "text/plain": [
       "[2021-05-14 12:57:38.686085] INFO: 因子分析: QuantileReturns.after_process"
      ]
     },
     "metadata": {
      "is_log": true,
      "status": "INFO"
     },
     "output_type": "display_data"
    },
    {
     "data": {
      "text/plain": [
       "[2021-05-14 12:57:38.688348] INFO: 因子分析: IC.after_process"
      ]
     },
     "metadata": {
      "is_log": true,
      "status": "INFO"
     },
     "output_type": "display_data"
    },
    {
     "data": {
      "text/plain": [
       "[2021-05-14 12:57:38.689906] INFO: 因子分析: BasicDescription.after_process"
      ]
     },
     "metadata": {
      "is_log": true,
      "status": "INFO"
     },
     "output_type": "display_data"
    },
    {
     "data": {
      "text/plain": [
       "[2021-05-14 12:57:38.691428] INFO: 因子分析: Industry.after_process"
      ]
     },
     "metadata": {
      "is_log": true,
      "status": "INFO"
     },
     "output_type": "display_data"
    },
    {
     "data": {
      "text/plain": [
       "[2021-05-14 12:57:38.692690] INFO: 因子分析: RebalanceOverlap.after_process"
      ]
     },
     "metadata": {
      "is_log": true,
      "status": "INFO"
     },
     "output_type": "display_data"
    },
    {
     "data": {
      "text/plain": [
       "[2021-05-14 12:57:38.693786] INFO: 因子分析: PBRatio.after_process"
      ]
     },
     "metadata": {
      "is_log": true,
      "status": "INFO"
     },
     "output_type": "display_data"
    },
    {
     "data": {
      "text/plain": [
       "[2021-05-14 12:57:38.695164] INFO: 因子分析: Turnover.after_process"
      ]
     },
     "metadata": {
      "is_log": true,
      "status": "INFO"
     },
     "output_type": "display_data"
    },
    {
     "data": {
      "text/plain": [
       "[2021-05-14 12:57:38.696248] INFO: 因子分析: Stocks.after_process"
      ]
     },
     "metadata": {
      "is_log": true,
      "status": "INFO"
     },
     "output_type": "display_data"
    },
    {
     "data": {
      "text/plain": [
       "[2021-05-14 12:57:38.697220] INFO: 因子分析: MarketCap.after_process"
      ]
     },
     "metadata": {
      "is_log": true,
      "status": "INFO"
     },
     "output_type": "display_data"
    },
    {
     "data": {
      "text/plain": [
       "[2021-05-14 12:57:38.698663] INFO: 因子分析: FactorPairwiseCorrelationMerged.after_process"
      ]
     },
     "metadata": {
      "is_log": true,
      "status": "INFO"
     },
     "output_type": "display_data"
    },
    {
     "data": {
      "text/plain": [
       "[2021-05-14 12:57:38.700147] INFO: 因子分析: QuantileReturns.before_merged_process"
      ]
     },
     "metadata": {
      "is_log": true,
      "status": "INFO"
     },
     "output_type": "display_data"
    },
    {
     "data": {
      "text/plain": [
       "[2021-05-14 12:57:38.701378] INFO: 因子分析: IC.before_merged_process"
      ]
     },
     "metadata": {
      "is_log": true,
      "status": "INFO"
     },
     "output_type": "display_data"
    },
    {
     "data": {
      "text/plain": [
       "[2021-05-14 12:57:38.702601] INFO: 因子分析: BasicDescription.before_merged_process"
      ]
     },
     "metadata": {
      "is_log": true,
      "status": "INFO"
     },
     "output_type": "display_data"
    },
    {
     "data": {
      "text/plain": [
       "[2021-05-14 12:57:38.703510] INFO: 因子分析: Industry.before_merged_process"
      ]
     },
     "metadata": {
      "is_log": true,
      "status": "INFO"
     },
     "output_type": "display_data"
    },
    {
     "data": {
      "text/plain": [
       "[2021-05-14 12:57:38.704367] INFO: 因子分析: RebalanceOverlap.before_merged_process"
      ]
     },
     "metadata": {
      "is_log": true,
      "status": "INFO"
     },
     "output_type": "display_data"
    },
    {
     "data": {
      "text/plain": [
       "[2021-05-14 12:57:38.705468] INFO: 因子分析: PBRatio.before_merged_process"
      ]
     },
     "metadata": {
      "is_log": true,
      "status": "INFO"
     },
     "output_type": "display_data"
    },
    {
     "data": {
      "text/plain": [
       "[2021-05-14 12:57:38.706592] INFO: 因子分析: Turnover.before_merged_process"
      ]
     },
     "metadata": {
      "is_log": true,
      "status": "INFO"
     },
     "output_type": "display_data"
    },
    {
     "data": {
      "text/plain": [
       "[2021-05-14 12:57:38.707468] INFO: 因子分析: Stocks.before_merged_process"
      ]
     },
     "metadata": {
      "is_log": true,
      "status": "INFO"
     },
     "output_type": "display_data"
    },
    {
     "data": {
      "text/plain": [
       "[2021-05-14 12:57:38.708267] INFO: 因子分析: MarketCap.before_merged_process"
      ]
     },
     "metadata": {
      "is_log": true,
      "status": "INFO"
     },
     "output_type": "display_data"
    },
    {
     "data": {
      "text/plain": [
       "[2021-05-14 12:57:38.709287] INFO: 因子分析: FactorPairwiseCorrelationMerged.before_merged_process"
      ]
     },
     "metadata": {
      "is_log": true,
      "status": "INFO"
     },
     "output_type": "display_data"
    },
    {
     "data": {
      "text/plain": [
       "[2021-05-14 12:57:38.710348] INFO: 因子分析: QuantileReturns.after_merged_process"
      ]
     },
     "metadata": {
      "is_log": true,
      "status": "INFO"
     },
     "output_type": "display_data"
    },
    {
     "data": {
      "text/plain": [
       "[2021-05-14 12:57:38.711189] INFO: 因子分析: IC.after_merged_process"
      ]
     },
     "metadata": {
      "is_log": true,
      "status": "INFO"
     },
     "output_type": "display_data"
    },
    {
     "data": {
      "text/plain": [
       "[2021-05-14 12:57:38.712057] INFO: 因子分析: BasicDescription.after_merged_process"
      ]
     },
     "metadata": {
      "is_log": true,
      "status": "INFO"
     },
     "output_type": "display_data"
    },
    {
     "data": {
      "text/plain": [
       "[2021-05-14 12:57:38.713287] INFO: 因子分析: Industry.after_merged_process"
      ]
     },
     "metadata": {
      "is_log": true,
      "status": "INFO"
     },
     "output_type": "display_data"
    },
    {
     "data": {
      "text/plain": [
       "[2021-05-14 12:57:38.714134] INFO: 因子分析: RebalanceOverlap.after_merged_process"
      ]
     },
     "metadata": {
      "is_log": true,
      "status": "INFO"
     },
     "output_type": "display_data"
    },
    {
     "data": {
      "text/plain": [
       "[2021-05-14 12:57:38.714966] INFO: 因子分析: PBRatio.after_merged_process"
      ]
     },
     "metadata": {
      "is_log": true,
      "status": "INFO"
     },
     "output_type": "display_data"
    },
    {
     "data": {
      "text/plain": [
       "[2021-05-14 12:57:38.716166] INFO: 因子分析: Turnover.after_merged_process"
      ]
     },
     "metadata": {
      "is_log": true,
      "status": "INFO"
     },
     "output_type": "display_data"
    },
    {
     "data": {
      "text/plain": [
       "[2021-05-14 12:57:38.717069] INFO: 因子分析: Stocks.after_merged_process"
      ]
     },
     "metadata": {
      "is_log": true,
      "status": "INFO"
     },
     "output_type": "display_data"
    },
    {
     "data": {
      "text/plain": [
       "[2021-05-14 12:57:38.717901] INFO: 因子分析: MarketCap.after_merged_process"
      ]
     },
     "metadata": {
      "is_log": true,
      "status": "INFO"
     },
     "output_type": "display_data"
    },
    {
     "data": {
      "text/plain": [
       "[2021-05-14 12:57:38.718829] INFO: 因子分析: FactorPairwiseCorrelationMerged.after_merged_process"
      ]
     },
     "metadata": {
      "is_log": true,
      "status": "INFO"
     },
     "output_type": "display_data"
    },
    {
     "data": {
      "text/plain": [
       "[2021-05-14 12:57:38.825083] INFO: 因子分析: batch_process ended, 250.553s"
      ]
     },
     "metadata": {
      "is_log": true,
      "status": "INFO"
     },
     "output_type": "display_data"
    },
    {
     "data": {
      "text/html": [
       "<div class=\"factorlens-container\">\n",
       "            <div style=\"display:flex\">\n",
       "                <div style=\"flex:1\">\n",
       "                    \n",
       "                    <h2 class=\"factorlens-title\">因子分析: alpha0001</h2>\n",
       "                    \n",
       "                </div>\n",
       "                <div style=\"width:180px;\">\n",
       "                    \n",
       "                    <code style=\"display:none\" class=\"bq-template-label-inject\">\n",
       "                    {\n",
       "                        \"type\": \"factor-track\",\n",
       "                        \"data\": {\n",
       "                            \"exprs\": [\"alpha0001\"],\n",
       "                            \"options\": {\"BacktestInterval\": [\"2016-10-01\", \"2020-11-05\"], \"Benchmark\": \"none\", \"StockPool\": \"all\", \"UserDataMerge\": \"left\", \"DropSTStocks\": 1, \"DropPriceLimitStocks\": 1, \"DropNewStocks\": 1, \"DropSuspendedStocks\": 1, \"QuantileCount\": 5, \"CommissionRates\": 0.0016, \"Normalization\": 0, \"Neutralization\": \"\", \"DelayRebalanceDays\": 0, \"RebalancePeriod\": 1, \"RebalancePeriodsReturns\": 0, \"RebalancePrice\": \"close_0\", \"ReturnsCalculationMethod\": \"cumprod\", \"FactorCoverage\": 0.2, \"_HASH\": \"038fc5ccf2d8519d3270b41fa9aa7ce1\"}\n",
       "                        }\n",
       "                    }\n",
       "                    </code>\n",
       "                    \n",
       "                </div>\n",
       "            </div>\n",
       "            <div class=\"type_title_left\"><p>因子表现概览<i class=\"fa fa-question-circle-o\" title=\"按因子值升序排列将股票分组，1分位组对应最小因子分组。多空组合表示做多最小分位组，做空最大分位组。\"></i></p></div><table class=\"factor_table\">\n",
       "            <thead>\n",
       "                <tr>\n",
       "                    <th>&nbsp;</th>\n",
       "                    <th>累计收益</th>\n",
       "                    <th>近1年收益</th>\n",
       "                    <th>近3月收益</th>\n",
       "                    <th>近1月收益</th>\n",
       "                    <th>近1周收益</th>\n",
       "                    <th>昨日收益</th>\n",
       "                    <th>最大回撤</th>\n",
       "                    <th>盈亏比</th>\n",
       "                    <th>胜率</th>\n",
       "                    <th>夏普比率</th>\n",
       "                    <th>收益波动率</th>\n",
       "                </tr>\n",
       "            </thead>\n",
       "            <tbody>\n",
       "                \n",
       "                    <tr>\n",
       "                    <th>最小分位</th>\n",
       "                        \n",
       "                            <td><span class=\"pct down\">-89.92%</span></td>\n",
       "                        \n",
       "                            <td><span class=\"pct down\">-32.85%</span></td>\n",
       "                        \n",
       "                            <td><span class=\"pct down\">-13.19%</span></td>\n",
       "                        \n",
       "                            <td><span class=\"pct down\">-4.07%</span></td>\n",
       "                        \n",
       "                            <td><span class=\"pct down\">-2.56%</span></td>\n",
       "                        \n",
       "                            <td><span class=\"pct down\">-0.56%</span></td>\n",
       "                        \n",
       "                            <td>90.07%</td>\n",
       "                        \n",
       "                            <td>0.80</td>\n",
       "                        \n",
       "                            <td>0.44</td>\n",
       "                        \n",
       "                            <td><span class=\"pct down\">-2.72</span></td>\n",
       "                        \n",
       "                            <td>21.83%</td>\n",
       "                        \n",
       "                    </tr>\n",
       "                \n",
       "                    <tr>\n",
       "                    <th>最大分位</th>\n",
       "                        \n",
       "                            <td><span class=\"pct down\">-96.47%</span></td>\n",
       "                        \n",
       "                            <td><span class=\"pct down\">-48.25%</span></td>\n",
       "                        \n",
       "                            <td><span class=\"pct down\">-17.92%</span></td>\n",
       "                        \n",
       "                            <td><span class=\"pct down\">-5.07%</span></td>\n",
       "                        \n",
       "                            <td><span class=\"pct down\">-3.30%</span></td>\n",
       "                        \n",
       "                            <td><span class=\"pct down\">-0.46%</span></td>\n",
       "                        \n",
       "                            <td>96.50%</td>\n",
       "                        \n",
       "                            <td>0.77</td>\n",
       "                        \n",
       "                            <td>0.40</td>\n",
       "                        \n",
       "                            <td><span class=\"pct down\">-3.88</span></td>\n",
       "                        \n",
       "                            <td>22.13%</td>\n",
       "                        \n",
       "                    </tr>\n",
       "                \n",
       "                    <tr>\n",
       "                    <th>多空组合</th>\n",
       "                        \n",
       "                            <td><span class=\"pct up\">68.24%</span></td>\n",
       "                        \n",
       "                            <td><span class=\"pct up\">13.73%</span></td>\n",
       "                        \n",
       "                            <td><span class=\"pct up\">2.85%</span></td>\n",
       "                        \n",
       "                            <td><span class=\"pct up\">0.54%</span></td>\n",
       "                        \n",
       "                            <td><span class=\"pct up\">0.38%</span></td>\n",
       "                        \n",
       "                            <td><span class=\"pct down\">-0.05%</span></td>\n",
       "                        \n",
       "                            <td>2.38%</td>\n",
       "                        \n",
       "                            <td>1.28</td>\n",
       "                        \n",
       "                            <td>0.62</td>\n",
       "                        \n",
       "                            <td><span class=\"pct up\">3.13</span></td>\n",
       "                        \n",
       "                            <td>3.12%</td>\n",
       "                        \n",
       "                    </tr>\n",
       "                \n",
       "            </tbody>\n",
       "        </table><div id=\"bigchart-6b042c51f95f407fa07cbd72a96ceb9b\" class=\"bigchart\"></div><div class=\"bigchart-data\"><pre style=\"display:none\">bigcharts-data-start/{\"chart\":{\"height\":500,\"renderTo\":\"bigchart-6b042c51f95f407fa07cbd72a96ceb9b\"},\"legend\":{\"enabled\":true},\"stock\":true,\"series\":[{\"name\":\"1\\u5206\\u4f4d\\u6570\",\"yAxis\":0,\"data\":[[1476144000000,1.0],[1476230400000,0.9976],[1476316800000,0.9971],[1476403200000,0.9947],[1476662400000,0.982],[1476748800000,0.9944],[1476835200000,0.9926],[1476921600000,0.9936],[1477008000000,0.9897],[1477267200000,0.9974],[1477353600000,0.9988],[1477440000000,0.9926],[1477526400000,0.9932],[1477612800000,0.9805],[1477872000000,0.9791],[1477958400000,0.9893],[1478044800000,0.9813],[1478131200000,0.9862],[1478217600000,0.9855],[1478476800000,0.9853],[1478563200000,0.9915],[1478649600000,0.9811],[1478736000000,0.9961],[1478822400000,0.9965],[1479081600000,0.9989],[1479168000000,1.0027],[1479254400000,1.003],[1479340800000,1.0017],[1479427200000,0.9967],[1479686400000,0.9996],[1479772800000,1.0081],[1479859200000,0.9984],[1479945600000,0.9943],[1480032000000,0.9962],[1480291200000,0.9961],[1480377600000,0.9802],[1480464000000,0.9729],[1480550400000,0.9784],[1480636800000,0.9577],[1480896000000,0.948],[1480982400000,0.9516],[1481068800000,0.9613],[1481155200000,0.9542],[1481241600000,0.948],[1481500800000,0.9077],[1481587200000,0.9102],[1481673600000,0.9046],[1481760000000,0.9106],[1481846400000,0.9207],[1482105600000,0.9181],[1482192000000,0.9154],[1482278400000,0.9218],[1482364800000,0.9192],[1482451200000,0.906],[1482710400000,0.9079],[1482796800000,0.9095],[1482883200000,0.9025],[1482969600000,0.8994],[1483056000000,0.8978],[1483401600000,0.9062],[1483488000000,0.9149],[1483574400000,0.9105],[1483660800000,0.8975],[1483920000000,0.9002],[1484006400000,0.8943],[1484092800000,0.8831],[1484179200000,0.8731],[1484265600000,0.8532],[1484524800000,0.8278],[1484611200000,0.8335],[1484697600000,0.8307],[1484784000000,0.8264],[1484870400000,0.8357],[1485129600000,0.8423],[1485216000000,0.8333],[1485302400000,0.8349],[1485388800000,0.8381],[1486080000000,0.8345],[1486339200000,0.8416],[1486425600000,0.8404],[1486512000000,0.8465],[1486598400000,0.8509],[1486684800000,0.8441],[1486944000000,0.8485],[1487030400000,0.8477],[1487116800000,0.8386],[1487203200000,0.8429],[1487289600000,0.8334],[1487548800000,0.84],[1487635200000,0.8442],[1487721600000,0.8443],[1487808000000,0.8428],[1487894400000,0.8465],[1488153600000,0.8387],[1488240000000,0.8405],[1488326400000,0.8403],[1488412800000,0.834],[1488499200000,0.8334],[1488758400000,0.8438],[1488844800000,0.8434],[1488931200000,0.8395],[1489017600000,0.8311],[1489104000000,0.8304],[1489363200000,0.837],[1489449600000,0.8341],[1489536000000,0.832],[1489622400000,0.8411],[1489708800000,0.8318],[1489968000000,0.8351],[1490054400000,0.8385],[1490140800000,0.8318],[1490227200000,0.8295],[1490313600000,0.8325],[1490572800000,0.8284],[1490659200000,0.824],[1490745600000,0.8118],[1490832000000,0.7966],[1490918400000,0.798],[1491350400000,0.8108],[1491436800000,0.8132],[1491523200000,0.8105],[1491782400000,0.8026],[1491868800000,0.8064],[1491955200000,0.8],[1492041600000,0.8031],[1492128000000,0.7909],[1492387200000,0.7785],[1492473600000,0.7738],[1492560000000,0.765],[1492646400000,0.7598],[1492732800000,0.7544],[1492992000000,0.7332],[1493078400000,0.7367],[1493164800000,0.7384],[1493251200000,0.745],[1493337600000,0.7476],[1493683200000,0.7443],[1493769600000,0.7428],[1493856000000,0.7385],[1493942400000,0.7269],[1494201600000,0.7095],[1494288000000,0.7115],[1494374400000,0.7001],[1494460800000,0.6917],[1494547200000,0.6927],[1494806400000,0.6937],[1494892800000,0.7077],[1494979200000,0.7086],[1495065600000,0.7006],[1495152000000,0.6966],[1495411200000,0.6863],[1495497600000,0.673],[1495584000000,0.6762],[1495670400000,0.6815],[1495756800000,0.6804],[1496188800000,0.6783],[1496275200000,0.6568],[1496361600000,0.6622],[1496620800000,0.6648],[1496707200000,0.6674],[1496793600000,0.6819],[1496880000000,0.6783],[1496966400000,0.6776],[1497225600000,0.6679],[1497312000000,0.6752],[1497398400000,0.6696],[1497484800000,0.6761],[1497571200000,0.6735],[1497830400000,0.6772],[1497916800000,0.6765],[1498003200000,0.6757],[1498089600000,0.6644],[1498176000000,0.6634],[1498435200000,0.672],[1498521600000,0.6723],[1498608000000,0.6654],[1498694400000,0.667],[1498780800000,0.6687],[1499040000000,0.6728],[1499126400000,0.6697],[1499212800000,0.6747],[1499299200000,0.6735],[1499385600000,0.6747],[1499644800000,0.6668],[1499731200000,0.6619],[1499817600000,0.6616],[1499904000000,0.6593],[1499990400000,0.6563],[1500249600000,0.6294],[1500336000000,0.6378],[1500422400000,0.6479],[1500508800000,0.6487],[1500595200000,0.6449],[1500854400000,0.647],[1500940800000,0.6432],[1501027200000,0.6409],[1501113600000,0.6479],[1501200000000,0.6472],[1501459200000,0.6516],[1501545600000,0.6505],[1501632000000,0.6422],[1501718400000,0.642],[1501804800000,0.6338],[1502064000000,0.6369],[1502150400000,0.6387],[1502236800000,0.6385],[1502323200000,0.631],[1502409600000,0.6181],[1502668800000,0.6296],[1502755200000,0.6312],[1502841600000,0.6316],[1502928000000,0.6359],[1503014400000,0.6324],[1503273600000,0.6359],[1503360000000,0.6299],[1503446400000,0.6257],[1503532800000,0.6203],[1503619200000,0.6263],[1503878400000,0.6334],[1503964800000,0.6312],[1504051200000,0.6312],[1504137600000,0.6309],[1504224000000,0.633],[1504483200000,0.6329],[1504569600000,0.633],[1504656000000,0.6348],[1504742400000,0.6302],[1504828800000,0.6302],[1505088000000,0.6339],[1505174400000,0.6287],[1505260800000,0.6311],[1505347200000,0.628],[1505433600000,0.6239],[1505692800000,0.6265],[1505779200000,0.6227],[1505865600000,0.6266],[1505952000000,0.6173],[1506038400000,0.6143],[1506297600000,0.6067],[1506384000000,0.6044],[1506470400000,0.6097],[1506556800000,0.6055],[1506643200000,0.6088],[1507507200000,0.6148],[1507593600000,0.6185],[1507680000000,0.6135],[1507766400000,0.6123],[1507852800000,0.6143],[1508112000000,0.5996],[1508198400000,0.5999],[1508284800000,0.5948],[1508371200000,0.5891],[1508457600000,0.594],[1508716800000,0.5986],[1508803200000,0.5924],[1508889600000,0.5971],[1508976000000,0.5988],[1509062400000,0.5937],[1509321600000,0.5812],[1509408000000,0.5864],[1509494400000,0.5867],[1509580800000,0.5769],[1509667200000,0.5724],[1509926400000,0.5776],[1510012800000,0.5794],[1510099200000,0.5807],[1510185600000,0.5818],[1510272000000,0.5809],[1510531200000,0.5807],[1510617600000,0.5753],[1510704000000,0.5688],[1510790400000,0.5662],[1510876800000,0.5484],[1511136000000,0.5525],[1511222400000,0.5544],[1511308800000,0.5519],[1511395200000,0.5363],[1511481600000,0.5344],[1511740800000,0.5262],[1511827200000,0.5314],[1511913600000,0.53],[1512000000000,0.5268],[1512086400000,0.5291],[1512345600000,0.5187],[1512432000000,0.508],[1512518400000,0.5114],[1512604800000,0.5081],[1512691200000,0.5137],[1512950400000,0.5168],[1513036800000,0.5077],[1513123200000,0.51],[1513209600000,0.5097],[1513296000000,0.5069],[1513555200000,0.5025],[1513641600000,0.504],[1513728000000,0.4982],[1513814400000,0.5005],[1513900800000,0.4988],[1514160000000,0.4918],[1514246400000,0.4941],[1514332800000,0.4903],[1514419200000,0.4903],[1514505600000,0.4924],[1514851200000,0.4968],[1514937600000,0.4992],[1515024000000,0.4981],[1515110400000,0.4982],[1515369600000,0.4984],[1515456000000,0.4976],[1515542400000,0.4934],[1515628800000,0.4934],[1515715200000,0.4894],[1515974400000,0.4761],[1516060800000,0.4801],[1516147200000,0.478],[1516233600000,0.4784],[1516320000000,0.4766],[1516579200000,0.4794],[1516665600000,0.4802],[1516752000000,0.482],[1516838400000,0.4799],[1516924800000,0.4775],[1517184000000,0.4728],[1517270400000,0.4707],[1517356800000,0.4611],[1517443200000,0.4464],[1517529600000,0.4468],[1517788800000,0.4443],[1517875200000,0.4228],[1517961600000,0.4234],[1518048000000,0.4262],[1518134400000,0.4115],[1518393600000,0.4217],[1518480000000,0.4209],[1518566400000,0.4204],[1519257600000,0.428],[1519344000000,0.4293],[1519603200000,0.4389],[1519689600000,0.4385],[1519776000000,0.4367],[1519862400000,0.442],[1519948800000,0.4391],[1520208000000,0.4416],[1520294400000,0.446],[1520380800000,0.4423],[1520467200000,0.4439],[1520553600000,0.4516],[1520812800000,0.4577],[1520899200000,0.4533],[1520985600000,0.4468],[1521072000000,0.4433],[1521158400000,0.4399],[1521417600000,0.4395],[1521504000000,0.4401],[1521590400000,0.4362],[1521676800000,0.4347],[1521763200000,0.4124],[1522022400000,0.4184],[1522108800000,0.4273],[1522195200000,0.4237],[1522281600000,0.4267],[1522368000000,0.4308],[1522627200000,0.4313],[1522713600000,0.4262],[1522800000000,0.421],[1523232000000,0.4214],[1523318400000,0.4207],[1523404800000,0.4237],[1523491200000,0.4204],[1523577600000,0.4187],[1523836800000,0.4175],[1523923200000,0.4065],[1524009600000,0.4106],[1524096000000,0.4102],[1524182400000,0.3979],[1524441600000,0.3922],[1524528000000,0.4021],[1524614400000,0.4034],[1524700800000,0.3944],[1524787200000,0.394],[1525219200000,0.3922],[1525305600000,0.3952],[1525392000000,0.3933],[1525651200000,0.3998],[1525737600000,0.4016],[1525824000000,0.4006],[1525910400000,0.4029],[1525996800000,0.3979],[1526256000000,0.3963],[1526342400000,0.4007],[1526428800000,0.3971],[1526515200000,0.3958],[1526601600000,0.3965],[1526860800000,0.4011],[1526947200000,0.4023],[1527033600000,0.3969],[1527120000000,0.3956],[1527206400000,0.3916],[1527465600000,0.3863],[1527552000000,0.3811],[1527638400000,0.3684],[1527724800000,0.3741],[1527811200000,0.369],[1528070400000,0.3679],[1528156800000,0.3725],[1528243200000,0.3732],[1528329600000,0.3691],[1528416000000,0.3641],[1528675200000,0.3593],[1528761600000,0.3621],[1528848000000,0.354],[1528934400000,0.3513],[1529020800000,0.3439],[1529366400000,0.3224],[1529452800000,0.3264],[1529539200000,0.318],[1529625600000,0.3223],[1529884800000,0.3216],[1529971200000,0.3241],[1530057600000,0.3211],[1530144000000,0.3156],[1530230400000,0.3249],[1530489600000,0.3194],[1530576000000,0.3232],[1530662400000,0.3133],[1530748800000,0.3053],[1530835200000,0.3054],[1531094400000,0.3139],[1531180800000,0.316],[1531267200000,0.3061],[1531353600000,0.3133],[1531440000000,0.3132],[1531699200000,0.3121],[1531785600000,0.3114],[1531872000000,0.3091],[1531958400000,0.3053],[1532044800000,0.3077],[1532304000000,0.3087],[1532390400000,0.3135],[1532476800000,0.3128],[1532563200000,0.3119],[1532649600000,0.3099],[1532908800000,0.305],[1532995200000,0.3045],[1533081600000,0.2999],[1533168000000,0.2914],[1533254400000,0.286],[1533513600000,0.2806],[1533600000000,0.2865],[1533686400000,0.2814],[1533772800000,0.2877],[1533859200000,0.2889],[1534118400000,0.2878],[1534204800000,0.2868],[1534291200000,0.2806],[1534377600000,0.2763],[1534464000000,0.2695],[1534723200000,0.2705],[1534809600000,0.2737],[1534896000000,0.2693],[1534982400000,0.2705],[1535068800000,0.2689],[1535328000000,0.2747],[1535414400000,0.2745],[1535500800000,0.2723],[1535587200000,0.2678],[1535673600000,0.2649],[1535932800000,0.2649],[1536019200000,0.2671],[1536105600000,0.2625],[1536192000000,0.2611],[1536278400000,0.2605],[1536537600000,0.2543],[1536624000000,0.2551],[1536710400000,0.2536],[1536796800000,0.2553],[1536883200000,0.2519],[1537142400000,0.248],[1537228800000,0.251],[1537315200000,0.2538],[1537401600000,0.2524],[1537488000000,0.255],[1537833600000,0.2534],[1537920000000,0.2537],[1538006400000,0.2487],[1538092800000,0.2508],[1538956800000,0.2426],[1539043200000,0.2427],[1539129600000,0.2429],[1539216000000,0.2248],[1539302400000,0.2257],[1539561600000,0.2222],[1539648000000,0.2178],[1539734400000,0.2183],[1539820800000,0.2103],[1539907200000,0.2154],[1540166400000,0.226],[1540252800000,0.2212],[1540339200000,0.2207],[1540425600000,0.2184],[1540512000000,0.2169],[1540771200000,0.2131],[1540857600000,0.2145],[1540944000000,0.217],[1541030400000,0.2176],[1541116800000,0.2236],[1541376000000,0.2245],[1541462400000,0.223],[1541548800000,0.222],[1541635200000,0.2214],[1541721600000,0.2207],[1541980800000,0.2261],[1542067200000,0.2296],[1542153600000,0.2289],[1542240000000,0.2331],[1542326400000,0.2342],[1542585600000,0.2341],[1542672000000,0.2277],[1542758400000,0.2285],[1542844800000,0.2277],[1542931200000,0.2169],[1543190400000,0.2149],[1543276800000,0.2158],[1543363200000,0.2179],[1543449600000,0.2115],[1543536000000,0.2128],[1543795200000,0.218],[1543881600000,0.2191],[1543968000000,0.2164],[1544054400000,0.2121],[1544140800000,0.2117],[1544400000000,0.2094],[1544486400000,0.2107],[1544572800000,0.2108],[1544659200000,0.2127],[1544745600000,0.2072],[1545004800000,0.2066],[1545091200000,0.205],[1545177600000,0.2018],[1545264000000,0.2027],[1545350400000,0.2011],[1545609600000,0.2028],[1545696000000,0.1998],[1545782400000,0.1992],[1545868800000,0.1959],[1545955200000,0.1961],[1546387200000,0.1946],[1546473600000,0.1929],[1546560000000,0.1969],[1546819200000,0.2004],[1546905600000,0.1996],[1546992000000,0.1997],[1547078400000,0.1989],[1547164800000,0.1999],[1547424000000,0.1985],[1547510400000,0.2],[1547596800000,0.1992],[1547683200000,0.197],[1547769600000,0.1973],[1548028800000,0.198],[1548115200000,0.1957],[1548201600000,0.1957],[1548288000000,0.196],[1548374400000,0.1937],[1548633600000,0.1921],[1548720000000,0.1893],[1548806400000,0.1864],[1548892800000,0.1851],[1548979200000,0.1895],[1549843200000,0.194],[1549929600000,0.1964],[1550016000000,0.2],[1550102400000,0.2007],[1550188800000,0.2001],[1550448000000,0.2062],[1550534400000,0.206],[1550620800000,0.2061],[1550707200000,0.2051],[1550793600000,0.208],[1551052800000,0.2177],[1551139200000,0.2177],[1551225600000,0.216],[1551312000000,0.2167],[1551398400000,0.2179],[1551657600000,0.2212],[1551744000000,0.2249],[1551830400000,0.2294],[1551916800000,0.231],[1552003200000,0.2198],[1552262400000,0.2276],[1552348800000,0.231],[1552435200000,0.2258],[1552521600000,0.2186],[1552608000000,0.2207],[1552867200000,0.2254],[1552953600000,0.2253],[1553040000000,0.2247],[1553126400000,0.2268],[1553212800000,0.2263],[1553472000000,0.224],[1553558400000,0.2187],[1553644800000,0.219],[1553731200000,0.2158],[1553817600000,0.2217],[1554076800000,0.229],[1554163200000,0.2291],[1554249600000,0.2302],[1554336000000,0.2308],[1554681600000,0.2275],[1554768000000,0.2279],[1554854400000,0.2263],[1554940800000,0.2219],[1555027200000,0.2213],[1555286400000,0.2189],[1555372800000,0.222],[1555459200000,0.2227],[1555545600000,0.2206],[1555632000000,0.2212],[1555891200000,0.2174],[1555977600000,0.2136],[1556064000000,0.215],[1556150400000,0.2068],[1556236800000,0.204],[1556496000000,0.1975],[1556582400000,0.199],[1557100800000,0.186],[1557187200000,0.1889],[1557273600000,0.1879],[1557360000000,0.1859],[1557446400000,0.192],[1557705600000,0.1901],[1557792000000,0.1882],[1557878400000,0.192],[1557964800000,0.1925],[1558051200000,0.1853],[1558310400000,0.1835],[1558396800000,0.1857],[1558483200000,0.1846],[1558569600000,0.1802],[1558656000000,0.1789],[1558915200000,0.1831],[1559001600000,0.1827],[1559088000000,0.1827],[1559174400000,0.1807],[1559260800000,0.1808],[1559520000000,0.1784],[1559606400000,0.1753],[1559692800000,0.1744],[1559779200000,0.1706],[1560124800000,0.1721],[1560211200000,0.1779],[1560297600000,0.1766],[1560384000000,0.1772],[1560470400000,0.1722],[1560729600000,0.1721],[1560816000000,0.1714],[1560902400000,0.1729],[1560988800000,0.1758],[1561075200000,0.1786],[1561334400000,0.1781],[1561420800000,0.1763],[1561507200000,0.1759],[1561593600000,0.1766],[1561680000000,0.1736],[1561939200000,0.1778],[1562025600000,0.1771],[1562112000000,0.1751],[1562198400000,0.174],[1562284800000,0.1745],[1562544000000,0.1689],[1562630400000,0.1693],[1562716800000,0.1678],[1562803200000,0.1676],[1562889600000,0.1679],[1563148800000,0.1693],[1563235200000,0.1693],[1563321600000,0.1689],[1563408000000,0.1654],[1563494400000,0.1659],[1563753600000,0.1621],[1563840000000,0.1636],[1563926400000,0.165],[1564012800000,0.165],[1564099200000,0.1648],[1564358400000,0.165],[1564444800000,0.1657],[1564531200000,0.1642],[1564617600000,0.1634],[1564704000000,0.1612],[1564963200000,0.1593],[1565049600000,0.1553],[1565136000000,0.1541],[1565222400000,0.1544],[1565308800000,0.1523],[1565568000000,0.1549],[1565654400000,0.1538],[1565740800000,0.1545],[1565827200000,0.1544],[1565913600000,0.1548],[1566172800000,0.1594],[1566259200000,0.1594],[1566345600000,0.1587],[1566432000000,0.1588],[1566518400000,0.1579],[1566777600000,0.1563],[1566864000000,0.1581],[1566950400000,0.157],[1567036800000,0.1566],[1567123200000,0.1537],[1567382400000,0.1569],[1567468800000,0.1575],[1567555200000,0.158],[1567641600000,0.1592],[1567728000000,0.1588],[1567987200000,0.162],[1568073600000,0.162],[1568160000000,0.1608],[1568246400000,0.1616],[1568592000000,0.1616],[1568678400000,0.1574],[1568764800000,0.1575],[1568851200000,0.1588],[1568937600000,0.1586],[1569196800000,0.1568],[1569283200000,0.157],[1569369600000,0.1534],[1569456000000,0.1488],[1569542400000,0.1496],[1569801600000,0.1478],[1570492800000,0.1479],[1570579200000,0.149],[1570665600000,0.1509],[1570752000000,0.151],[1571011200000,0.153],[1571097600000,0.1509],[1571184000000,0.1501],[1571270400000,0.1496],[1571356800000,0.1473],[1571616000000,0.1463],[1571702400000,0.148],[1571788800000,0.147],[1571875200000,0.1469],[1571961600000,0.1475],[1572220800000,0.1492],[1572307200000,0.1466],[1572393600000,0.1448],[1572480000000,0.1435],[1572566400000,0.1444],[1572825600000,0.1454],[1572912000000,0.1453],[1572998400000,0.1438],[1573084800000,0.1445],[1573171200000,0.144],[1573430400000,0.1399],[1573516800000,0.1402],[1573603200000,0.14],[1573689600000,0.1405],[1573776000000,0.1379],[1574035200000,0.1387],[1574121600000,0.141],[1574208000000,0.1395],[1574294400000,0.139],[1574380800000,0.137],[1574640000000,0.1363],[1574726400000,0.1361],[1574812800000,0.1357],[1574899200000,0.1351],[1574985600000,0.135],[1575244800000,0.1347],[1575331200000,0.135],[1575417600000,0.1348],[1575504000000,0.1358],[1575590400000,0.1362],[1575849600000,0.1363],[1575936000000,0.1365],[1576022400000,0.1358],[1576108800000,0.1352],[1576195200000,0.1365],[1576454400000,0.1384],[1576540800000,0.1399],[1576627200000,0.1401],[1576713600000,0.1406],[1576800000000,0.1389],[1577059200000,0.136],[1577145600000,0.1377],[1577232000000,0.138],[1577318400000,0.1391],[1577404800000,0.1384],[1577664000000,0.1388],[1577750400000,0.1392],[1577923200000,0.1417],[1578009600000,0.1418],[1578268800000,0.1419],[1578355200000,0.1435],[1578441600000,0.1412],[1578528000000,0.1428],[1578614400000,0.142],[1578873600000,0.1436],[1578960000000,0.1429],[1579046400000,0.1422],[1579132800000,0.1423],[1579219200000,0.1416],[1579478400000,0.1428],[1579564800000,0.1404],[1579651200000,0.1407],[1579737600000,0.1354],[1580688000000,0.1291],[1580774400000,0.1327],[1580860800000,0.1358],[1580947200000,0.1385],[1581033600000,0.1395],[1581292800000,0.142],[1581379200000,0.1407],[1581465600000,0.1424],[1581552000000,0.1404],[1581638400000,0.14],[1581897600000,0.1436],[1581984000000,0.1445],[1582070400000,0.1429],[1582156800000,0.1449],[1582243200000,0.146],[1582502400000,0.1467],[1582588800000,0.1452],[1582675200000,0.1403],[1582761600000,0.1405],[1582848000000,0.1347],[1583107200000,0.1388],[1583193600000,0.1399],[1583280000000,0.1409],[1583452800000,0.1409],[1583712000000,0.1363],[1583798400000,0.1379],[1583884800000,0.1354],[1583971200000,0.1324],[1584057600000,0.1302],[1584316800000,0.1247],[1584403200000,0.1234],[1584489600000,0.1214],[1584576000000,0.1216],[1584662400000,0.1228],[1584921600000,0.1171],[1585008000000,0.1188],[1585094400000,0.1211],[1585180800000,0.1187],[1585267200000,0.1181],[1585526400000,0.1144],[1585612800000,0.1142],[1585699200000,0.1132],[1585785600000,0.1159],[1585872000000,0.1146],[1586217600000,0.1177],[1586304000000,0.1175],[1586390400000,0.1183],[1586476800000,0.1155],[1586736000000,0.1147],[1586822400000,0.116],[1586908800000,0.1147],[1586995200000,0.1146],[1587081600000,0.1142],[1587340800000,0.115],[1587427200000,0.114],[1587513600000,0.1149],[1587600000000,0.114],[1587686400000,0.1119],[1587945600000,0.1114],[1588032000000,0.1094],[1588118400000,0.1093],[1588204800000,0.1113],[1588723200000,0.1129],[1588809600000,0.1124],[1588896000000,0.1133],[1589155200000,0.1131],[1589241600000,0.113],[1589328000000,0.1136],[1589414400000,0.1124],[1589500800000,0.1123],[1589760000000,0.112],[1589846400000,0.113],[1589932800000,0.1119],[1590019200000,0.1101],[1590105600000,0.1084],[1590364800000,0.1086],[1590451200000,0.1107],[1590537600000,0.1102],[1590624000000,0.1097],[1590710400000,0.1104],[1590969600000,0.1135],[1591056000000,0.1137],[1591142400000,0.1132],[1591228800000,0.1136],[1591315200000,0.1133],[1591574400000,0.1127],[1591660800000,0.1132],[1591747200000,0.1131],[1591833600000,0.1123],[1591920000000,0.112],[1592179200000,0.1118],[1592265600000,0.1135],[1592352000000,0.1136],[1592438400000,0.1134],[1592524800000,0.1141],[1592784000000,0.114],[1592870400000,0.1137],[1592956800000,0.1132],[1593388800000,0.1122],[1593475200000,0.1138],[1593561600000,0.114],[1593648000000,0.1159],[1593734400000,0.1167],[1593993600000,0.1213],[1594080000000,0.1216],[1594166400000,0.1239],[1594252800000,0.1267],[1594339200000,0.1251],[1594598400000,0.1286],[1594684800000,0.1275],[1594771200000,0.1246],[1594857600000,0.119],[1594944000000,0.1198],[1595203200000,0.1223],[1595289600000,0.1229],[1595376000000,0.1231],[1595462400000,0.1224],[1595548800000,0.116],[1595808000000,0.1161],[1595894400000,0.1173],[1595980800000,0.12],[1596067200000,0.1192],[1596153600000,0.1203],[1596412800000,0.1236],[1596499200000,0.1224],[1596585600000,0.1232],[1596672000000,0.1221],[1596758400000,0.1204],[1597017600000,0.12],[1597104000000,0.1176],[1597190400000,0.1163],[1597276800000,0.1164],[1597363200000,0.1173],[1597622400000,0.1192],[1597708800000,0.1199],[1597795200000,0.1176],[1597881600000,0.116],[1597968000000,0.1166],[1598227200000,0.1175],[1598313600000,0.117],[1598400000000,0.114],[1598486400000,0.1155],[1598572800000,0.1165],[1598832000000,0.1165],[1598918400000,0.1172],[1599004800000,0.1181],[1599091200000,0.1166],[1599177600000,0.1163],[1599436800000,0.1149],[1599523200000,0.1149],[1599609600000,0.1118],[1599696000000,0.1078],[1599782400000,0.1091],[1600041600000,0.1108],[1600128000000,0.1111],[1600214400000,0.1101],[1600300800000,0.11],[1600387200000,0.1111],[1600646400000,0.1104],[1600732800000,0.1084],[1600819200000,0.1094],[1600905600000,0.1057],[1600992000000,0.105],[1601251200000,0.1035],[1601337600000,0.104],[1601424000000,0.1037],[1602201600000,0.107],[1602460800000,0.1102],[1602547200000,0.1103],[1602633600000,0.1095],[1602720000000,0.1081],[1602806400000,0.1079],[1603065600000,0.1071],[1603152000000,0.108],[1603238400000,0.1059],[1603324800000,0.1055],[1603411200000,0.1037],[1603670400000,0.1035],[1603756800000,0.1034],[1603843200000,0.1034],[1603929600000,0.103],[1604016000000,0.1001],[1604275200000,0.1003],[1604361600000,0.1013],[1604448000000,0.1008]],\"color\":\"#F08B55\"},{\"name\":\"2\\u5206\\u4f4d\\u6570\",\"yAxis\":0,\"data\":[[1476144000000,1.0],[1476230400000,1.0011],[1476316800000,1.0013],[1476403200000,0.9994],[1476662400000,0.9877],[1476748800000,1.0019],[1476835200000,0.9996],[1476921600000,1.0009],[1477008000000,0.9949],[1477267200000,1.0021],[1477353600000,1.0055],[1477440000000,0.9979],[1477526400000,0.9978],[1477612800000,0.9873],[1477872000000,0.9854],[1477958400000,0.9969],[1478044800000,0.9888],[1478131200000,0.9922],[1478217600000,0.9891],[1478476800000,0.9878],[1478563200000,0.9931],[1478649600000,0.9864],[1478736000000,1.0002],[1478822400000,1.0064],[1479081600000,1.0065],[1479168000000,1.008],[1479254400000,1.0063],[1479340800000,1.002],[1479427200000,0.9969],[1479686400000,0.998],[1479772800000,1.0064],[1479859200000,0.998],[1479945600000,0.9878],[1480032000000,0.9883],[1480291200000,0.9842],[1480377600000,0.9712],[1480464000000,0.9676],[1480550400000,0.9721],[1480636800000,0.9511],[1480896000000,0.9454],[1480982400000,0.9461],[1481068800000,0.9544],[1481155200000,0.9451],[1481241600000,0.9408],[1481500800000,0.8909],[1481587200000,0.8935],[1481673600000,0.8875],[1481760000000,0.8952],[1481846400000,0.9032],[1482105600000,0.8998],[1482192000000,0.8969],[1482278400000,0.903],[1482364800000,0.8994],[1482451200000,0.8872],[1482710400000,0.8894],[1482796800000,0.8908],[1482883200000,0.8861],[1482969600000,0.8813],[1483056000000,0.881],[1483401600000,0.8899],[1483488000000,0.8976],[1483574400000,0.8952],[1483660800000,0.8862],[1483920000000,0.8885],[1484006400000,0.8856],[1484092800000,0.8689],[1484179200000,0.8592],[1484265600000,0.8431],[1484524800000,0.8132],[1484611200000,0.8212],[1484697600000,0.8157],[1484784000000,0.8111],[1484870400000,0.8229],[1485129600000,0.8301],[1485216000000,0.8244],[1485302400000,0.8266],[1485388800000,0.8301],[1486080000000,0.8263],[1486339200000,0.8376],[1486425600000,0.8365],[1486512000000,0.8413],[1486598400000,0.8479],[1486684800000,0.8462],[1486944000000,0.8549],[1487030400000,0.8529],[1487116800000,0.8436],[1487203200000,0.8479],[1487289600000,0.8382],[1487548800000,0.8417],[1487635200000,0.8492],[1487721600000,0.8512],[1487808000000,0.8494],[1487894400000,0.8523],[1488153600000,0.8423],[1488240000000,0.8458],[1488326400000,0.8471],[1488412800000,0.8402],[1488499200000,0.8411],[1488758400000,0.8502],[1488844800000,0.8527],[1488931200000,0.8474],[1489017600000,0.8393],[1489104000000,0.8367],[1489363200000,0.8425],[1489449600000,0.8398],[1489536000000,0.8377],[1489622400000,0.8469],[1489708800000,0.8375],[1489968000000,0.8382],[1490054400000,0.8388],[1490140800000,0.8302],[1490227200000,0.8289],[1490313600000,0.8307],[1490572800000,0.8271],[1490659200000,0.8201],[1490745600000,0.8067],[1490832000000,0.7867],[1490918400000,0.7884],[1491350400000,0.8038],[1491436800000,0.8054],[1491523200000,0.801],[1491782400000,0.7866],[1491868800000,0.7916],[1491955200000,0.7841],[1492041600000,0.7871],[1492128000000,0.7725],[1492387200000,0.7598],[1492473600000,0.7523],[1492560000000,0.7418],[1492646400000,0.7379],[1492732800000,0.7351],[1492992000000,0.7085],[1493078400000,0.7106],[1493164800000,0.7119],[1493251200000,0.7132],[1493337600000,0.7167],[1493683200000,0.7169],[1493769600000,0.7157],[1493856000000,0.7119],[1493942400000,0.7008],[1494201600000,0.685],[1494288000000,0.6898],[1494374400000,0.6746],[1494460800000,0.6744],[1494547200000,0.6731],[1494806400000,0.6728],[1494892800000,0.6891],[1494979200000,0.6911],[1495065600000,0.6863],[1495152000000,0.6838],[1495411200000,0.6677],[1495497600000,0.6455],[1495584000000,0.6494],[1495670400000,0.6542],[1495756800000,0.6529],[1496188800000,0.6513],[1496275200000,0.6291],[1496361600000,0.6352],[1496620800000,0.6404],[1496707200000,0.6431],[1496793600000,0.6582],[1496880000000,0.6551],[1496966400000,0.6551],[1497225600000,0.6422],[1497312000000,0.6509],[1497398400000,0.649],[1497484800000,0.6586],[1497571200000,0.6563],[1497830400000,0.6581],[1497916800000,0.6575],[1498003200000,0.657],[1498089600000,0.644],[1498176000000,0.6425],[1498435200000,0.6492],[1498521600000,0.6488],[1498608000000,0.6414],[1498694400000,0.6445],[1498780800000,0.6456],[1499040000000,0.651],[1499126400000,0.6491],[1499212800000,0.6539],[1499299200000,0.6526],[1499385600000,0.6545],[1499644800000,0.65],[1499731200000,0.6405],[1499817600000,0.6381],[1499904000000,0.6382],[1499990400000,0.6339],[1500249600000,0.595],[1500336000000,0.6006],[1500422400000,0.6077],[1500508800000,0.6085],[1500595200000,0.6078],[1500854400000,0.6115],[1500940800000,0.61],[1501027200000,0.6101],[1501113600000,0.6203],[1501200000000,0.6207],[1501459200000,0.6253],[1501545600000,0.6253],[1501632000000,0.6176],[1501718400000,0.6197],[1501804800000,0.6157],[1502064000000,0.6191],[1502150400000,0.6195],[1502236800000,0.6199],[1502323200000,0.6136],[1502409600000,0.6037],[1502668800000,0.6143],[1502755200000,0.6168],[1502841600000,0.6232],[1502928000000,0.6274],[1503014400000,0.623],[1503273600000,0.6289],[1503360000000,0.6241],[1503446400000,0.6212],[1503532800000,0.6157],[1503619200000,0.6219],[1503878400000,0.6307],[1503964800000,0.6289],[1504051200000,0.6289],[1504137600000,0.6311],[1504224000000,0.6332],[1504483200000,0.634],[1504569600000,0.6348],[1504656000000,0.6365],[1504742400000,0.6333],[1504828800000,0.6333],[1505088000000,0.6385],[1505174400000,0.6341],[1505260800000,0.6356],[1505347200000,0.6347],[1505433600000,0.63],[1505692800000,0.6334],[1505779200000,0.63],[1505865600000,0.6335],[1505952000000,0.6266],[1506038400000,0.6226],[1506297600000,0.6144],[1506384000000,0.6126],[1506470400000,0.6164],[1506556800000,0.6118],[1506643200000,0.6148],[1507507200000,0.621],[1507593600000,0.626],[1507680000000,0.6218],[1507766400000,0.6193],[1507852800000,0.6212],[1508112000000,0.6061],[1508198400000,0.6065],[1508284800000,0.5995],[1508371200000,0.59],[1508457600000,0.5961],[1508716800000,0.5993],[1508803200000,0.5946],[1508889600000,0.599],[1508976000000,0.6003],[1509062400000,0.5945],[1509321600000,0.5748],[1509408000000,0.579],[1509494400000,0.5788],[1509580800000,0.573],[1509667200000,0.5674],[1509926400000,0.5716],[1510012800000,0.5731],[1510099200000,0.5732],[1510185600000,0.5758],[1510272000000,0.5769],[1510531200000,0.5746],[1510617600000,0.5685],[1510704000000,0.5642],[1510790400000,0.5606],[1510876800000,0.5399],[1511136000000,0.541],[1511222400000,0.539],[1511308800000,0.5376],[1511395200000,0.5249],[1511481600000,0.5239],[1511740800000,0.518],[1511827200000,0.5247],[1511913600000,0.5242],[1512000000000,0.5205],[1512086400000,0.5248],[1512345600000,0.5139],[1512432000000,0.4982],[1512518400000,0.5027],[1512604800000,0.5008],[1512691200000,0.5063],[1512950400000,0.5116],[1513036800000,0.5041],[1513123200000,0.5071],[1513209600000,0.5068],[1513296000000,0.5038],[1513555200000,0.5004],[1513641600000,0.5034],[1513728000000,0.4954],[1513814400000,0.4942],[1513900800000,0.4926],[1514160000000,0.4835],[1514246400000,0.487],[1514332800000,0.484],[1514419200000,0.4839],[1514505600000,0.4865],[1514851200000,0.4901],[1514937600000,0.4924],[1515024000000,0.4926],[1515110400000,0.4917],[1515369600000,0.49],[1515456000000,0.4891],[1515542400000,0.4832],[1515628800000,0.486],[1515715200000,0.4834],[1515974400000,0.4698],[1516060800000,0.4721],[1516147200000,0.4728],[1516233600000,0.4721],[1516320000000,0.4691],[1516579200000,0.4709],[1516665600000,0.4709],[1516752000000,0.4742],[1516838400000,0.4736],[1516924800000,0.4726],[1517184000000,0.4658],[1517270400000,0.4651],[1517356800000,0.4533],[1517443200000,0.4345],[1517529600000,0.4324],[1517788800000,0.4289],[1517875200000,0.4024],[1517961600000,0.4036],[1518048000000,0.4085],[1518134400000,0.3915],[1518393600000,0.4014],[1518480000000,0.4015],[1518566400000,0.4028],[1519257600000,0.4086],[1519344000000,0.4097],[1519603200000,0.4191],[1519689600000,0.4195],[1519776000000,0.4193],[1519862400000,0.4252],[1519948800000,0.4215],[1520208000000,0.4224],[1520294400000,0.4263],[1520380800000,0.4245],[1520467200000,0.4285],[1520553600000,0.4355],[1520812800000,0.4413],[1520899200000,0.4388],[1520985600000,0.4339],[1521072000000,0.4293],[1521158400000,0.4278],[1521417600000,0.4282],[1521504000000,0.4283],[1521590400000,0.426],[1521676800000,0.4273],[1521763200000,0.4022],[1522022400000,0.4077],[1522108800000,0.4178],[1522195200000,0.4162],[1522281600000,0.421],[1522368000000,0.4264],[1522627200000,0.427],[1522713600000,0.4217],[1522800000000,0.4192],[1523232000000,0.419],[1523318400000,0.4181],[1523404800000,0.42],[1523491200000,0.4156],[1523577600000,0.4143],[1523836800000,0.4094],[1523923200000,0.3999],[1524009600000,0.4035],[1524096000000,0.4038],[1524182400000,0.3931],[1524441600000,0.3899],[1524528000000,0.3984],[1524614400000,0.3987],[1524700800000,0.3897],[1524787200000,0.3905],[1525219200000,0.3883],[1525305600000,0.3927],[1525392000000,0.3908],[1525651200000,0.398],[1525737600000,0.4002],[1525824000000,0.3999],[1525910400000,0.401],[1525996800000,0.3951],[1526256000000,0.3917],[1526342400000,0.3953],[1526428800000,0.3926],[1526515200000,0.3921],[1526601600000,0.3935],[1526860800000,0.3981],[1526947200000,0.3985],[1527033600000,0.3929],[1527120000000,0.3916],[1527206400000,0.3873],[1527465600000,0.3826],[1527552000000,0.38],[1527638400000,0.3633],[1527724800000,0.3694],[1527811200000,0.3661],[1528070400000,0.3645],[1528156800000,0.3708],[1528243200000,0.3702],[1528329600000,0.3655],[1528416000000,0.3604],[1528675200000,0.357],[1528761600000,0.3592],[1528848000000,0.3513],[1528934400000,0.3493],[1529020800000,0.3408],[1529366400000,0.3186],[1529452800000,0.323],[1529539200000,0.3136],[1529625600000,0.3188],[1529884800000,0.3165],[1529971200000,0.32],[1530057600000,0.3172],[1530144000000,0.3136],[1530230400000,0.3232],[1530489600000,0.3176],[1530576000000,0.3213],[1530662400000,0.3147],[1530748800000,0.3049],[1530835200000,0.3057],[1531094400000,0.3119],[1531180800000,0.3142],[1531267200000,0.3061],[1531353600000,0.3139],[1531440000000,0.3149],[1531699200000,0.3144],[1531785600000,0.3148],[1531872000000,0.3129],[1531958400000,0.3083],[1532044800000,0.3112],[1532304000000,0.3135],[1532390400000,0.3193],[1532476800000,0.3193],[1532563200000,0.3184],[1532649600000,0.3159],[1532908800000,0.3103],[1532995200000,0.3106],[1533081600000,0.3055],[1533168000000,0.2959],[1533254400000,0.2921],[1533513600000,0.2867],[1533600000000,0.2939],[1533686400000,0.288],[1533772800000,0.2932],[1533859200000,0.2944],[1534118400000,0.2962],[1534204800000,0.2957],[1534291200000,0.289],[1534377600000,0.2856],[1534464000000,0.2799],[1534723200000,0.2802],[1534809600000,0.2828],[1534896000000,0.2785],[1534982400000,0.2799],[1535068800000,0.2785],[1535328000000,0.2836],[1535414400000,0.2836],[1535500800000,0.2816],[1535587200000,0.2771],[1535673600000,0.2738],[1535932800000,0.2729],[1536019200000,0.2757],[1536105600000,0.2707],[1536192000000,0.269],[1536278400000,0.2694],[1536537600000,0.2641],[1536624000000,0.264],[1536710400000,0.2639],[1536796800000,0.2653],[1536883200000,0.2622],[1537142400000,0.2567],[1537228800000,0.2605],[1537315200000,0.2632],[1537401600000,0.262],[1537488000000,0.2654],[1537833600000,0.2646],[1537920000000,0.2644],[1538006400000,0.2588],[1538092800000,0.261],[1538956800000,0.2523],[1539043200000,0.2525],[1539129600000,0.253],[1539216000000,0.2351],[1539302400000,0.2356],[1539561600000,0.2324],[1539648000000,0.2274],[1539734400000,0.229],[1539820800000,0.222],[1539907200000,0.2266],[1540166400000,0.2371],[1540252800000,0.2329],[1540339200000,0.2322],[1540425600000,0.2301],[1540512000000,0.2307],[1540771200000,0.2275],[1540857600000,0.2299],[1540944000000,0.2329],[1541030400000,0.2337],[1541116800000,0.2405],[1541376000000,0.2416],[1541462400000,0.2404],[1541548800000,0.2396],[1541635200000,0.2387],[1541721600000,0.2381],[1541980800000,0.2448],[1542067200000,0.249],[1542153600000,0.2485],[1542240000000,0.2517],[1542326400000,0.2535],[1542585600000,0.2547],[1542672000000,0.2478],[1542758400000,0.2497],[1542844800000,0.2495],[1542931200000,0.2371],[1543190400000,0.2365],[1543276800000,0.2378],[1543363200000,0.24],[1543449600000,0.2342],[1543536000000,0.2352],[1543795200000,0.2416],[1543881600000,0.2433],[1543968000000,0.2412],[1544054400000,0.2367],[1544140800000,0.2368],[1544400000000,0.2339],[1544486400000,0.2355],[1544572800000,0.2359],[1544659200000,0.2378],[1544745600000,0.2304],[1545004800000,0.2302],[1545091200000,0.228],[1545177600000,0.2246],[1545264000000,0.2252],[1545350400000,0.2233],[1545609600000,0.2248],[1545696000000,0.2207],[1545782400000,0.2203],[1545868800000,0.2162],[1545955200000,0.2158],[1546387200000,0.2147],[1546473600000,0.2136],[1546560000000,0.2183],[1546819200000,0.2223],[1546905600000,0.2217],[1546992000000,0.2222],[1547078400000,0.2211],[1547164800000,0.223],[1547424000000,0.2213],[1547510400000,0.224],[1547596800000,0.2236],[1547683200000,0.2209],[1547769600000,0.2222],[1548028800000,0.2231],[1548115200000,0.2207],[1548201600000,0.2206],[1548288000000,0.2216],[1548374400000,0.219],[1548633600000,0.2166],[1548720000000,0.2113],[1548806400000,0.2084],[1548892800000,0.2052],[1548979200000,0.2107],[1549843200000,0.2163],[1549929600000,0.2192],[1550016000000,0.223],[1550102400000,0.2233],[1550188800000,0.2222],[1550448000000,0.2287],[1550534400000,0.2289],[1550620800000,0.2292],[1550707200000,0.2279],[1550793600000,0.2313],[1551052800000,0.2416],[1551139200000,0.2415],[1551225600000,0.2407],[1551312000000,0.2421],[1551398400000,0.2428],[1551657600000,0.2458],[1551744000000,0.2512],[1551830400000,0.2554],[1551916800000,0.2597],[1552003200000,0.2485],[1552262400000,0.2587],[1552348800000,0.2621],[1552435200000,0.2578],[1552521600000,0.2505],[1552608000000,0.2536],[1552867200000,0.2589],[1552953600000,0.2596],[1553040000000,0.259],[1553126400000,0.2612],[1553212800000,0.2613],[1553472000000,0.2579],[1553558400000,0.2514],[1553644800000,0.2523],[1553731200000,0.2493],[1553817600000,0.2558],[1554076800000,0.2641],[1554163200000,0.2647],[1554249600000,0.267],[1554336000000,0.2669],[1554681600000,0.2637],[1554768000000,0.2641],[1554854400000,0.2635],[1554940800000,0.2581],[1555027200000,0.2579],[1555286400000,0.2557],[1555372800000,0.2601],[1555459200000,0.2612],[1555545600000,0.259],[1555632000000,0.2608],[1555891200000,0.2572],[1555977600000,0.2524],[1556064000000,0.2546],[1556150400000,0.2435],[1556236800000,0.2404],[1556496000000,0.2326],[1556582400000,0.2353],[1557100800000,0.2186],[1557187200000,0.2221],[1557273600000,0.2216],[1557360000000,0.2201],[1557446400000,0.2271],[1557705600000,0.2259],[1557792000000,0.2242],[1557878400000,0.2284],[1557964800000,0.2302],[1558051200000,0.2213],[1558310400000,0.2206],[1558396800000,0.224],[1558483200000,0.2217],[1558569600000,0.2162],[1558656000000,0.2146],[1558915200000,0.2205],[1559001600000,0.2207],[1559088000000,0.2209],[1559174400000,0.2188],[1559260800000,0.2185],[1559520000000,0.2134],[1559606400000,0.2101],[1559692800000,0.2098],[1559779200000,0.2036],[1560124800000,0.2056],[1560211200000,0.2125],[1560297600000,0.2111],[1560384000000,0.212],[1560470400000,0.2067],[1560729600000,0.2068],[1560816000000,0.2062],[1560902400000,0.2087],[1560988800000,0.2121],[1561075200000,0.2154],[1561334400000,0.2147],[1561420800000,0.2122],[1561507200000,0.2121],[1561593600000,0.2131],[1561680000000,0.2106],[1561939200000,0.2158],[1562025600000,0.2156],[1562112000000,0.213],[1562198400000,0.2124],[1562284800000,0.2129],[1562544000000,0.2049],[1562630400000,0.2052],[1562716800000,0.2035],[1562803200000,0.203],[1562889600000,0.2033],[1563148800000,0.2049],[1563235200000,0.2051],[1563321600000,0.2047],[1563408000000,0.2005],[1563494400000,0.2013],[1563753600000,0.1947],[1563840000000,0.1964],[1563926400000,0.1987],[1564012800000,0.1989],[1564099200000,0.1985],[1564358400000,0.1979],[1564444800000,0.1987],[1564531200000,0.1971],[1564617600000,0.1961],[1564704000000,0.1924],[1564963200000,0.1899],[1565049600000,0.183],[1565136000000,0.1824],[1565222400000,0.183],[1565308800000,0.1805],[1565568000000,0.1825],[1565654400000,0.1813],[1565740800000,0.1821],[1565827200000,0.1824],[1565913600000,0.1827],[1566172800000,0.1879],[1566259200000,0.1879],[1566345600000,0.1879],[1566432000000,0.1882],[1566518400000,0.1874],[1566777600000,0.1853],[1566864000000,0.1882],[1566950400000,0.188],[1567036800000,0.1875],[1567123200000,0.1841],[1567382400000,0.188],[1567468800000,0.1887],[1567555200000,0.1899],[1567641600000,0.1908],[1567728000000,0.1915],[1567987200000,0.1948],[1568073600000,0.1949],[1568160000000,0.1939],[1568246400000,0.1948],[1568592000000,0.195],[1568678400000,0.1903],[1568764800000,0.1904],[1568851200000,0.1925],[1568937600000,0.1922],[1569196800000,0.19],[1569283200000,0.1901],[1569369600000,0.1867],[1569456000000,0.1814],[1569542400000,0.183],[1569801600000,0.1807],[1570492800000,0.1805],[1570579200000,0.1819],[1570665600000,0.1839],[1570752000000,0.1841],[1571011200000,0.1866],[1571097600000,0.1845],[1571184000000,0.1831],[1571270400000,0.1824],[1571356800000,0.1796],[1571616000000,0.179],[1571702400000,0.181],[1571788800000,0.1791],[1571875200000,0.1785],[1571961600000,0.1793],[1572220800000,0.1826],[1572307200000,0.179],[1572393600000,0.1763],[1572480000000,0.1743],[1572566400000,0.1757],[1572825600000,0.1756],[1572912000000,0.1756],[1572998400000,0.1739],[1573084800000,0.1749],[1573171200000,0.1743],[1573430400000,0.1692],[1573516800000,0.1694],[1573603200000,0.1685],[1573689600000,0.169],[1573776000000,0.1666],[1574035200000,0.1677],[1574121600000,0.1704],[1574208000000,0.1688],[1574294400000,0.1685],[1574380800000,0.1665],[1574640000000,0.1655],[1574726400000,0.1655],[1574812800000,0.1652],[1574899200000,0.1642],[1574985600000,0.1642],[1575244800000,0.164],[1575331200000,0.1646],[1575417600000,0.1645],[1575504000000,0.1658],[1575590400000,0.1666],[1575849600000,0.1669],[1575936000000,0.1673],[1576022400000,0.1666],[1576108800000,0.1656],[1576195200000,0.1671],[1576454400000,0.1692],[1576540800000,0.1708],[1576627200000,0.1708],[1576713600000,0.1717],[1576800000000,0.1696],[1577059200000,0.166],[1577145600000,0.1682],[1577232000000,0.1684],[1577318400000,0.1695],[1577404800000,0.1681],[1577664000000,0.1688],[1577750400000,0.1695],[1577923200000,0.1719],[1578009600000,0.1723],[1578268800000,0.1723],[1578355200000,0.1743],[1578441600000,0.1712],[1578528000000,0.1739],[1578614400000,0.1731],[1578873600000,0.1744],[1578960000000,0.1742],[1579046400000,0.173],[1579132800000,0.1719],[1579219200000,0.1709],[1579478400000,0.172],[1579564800000,0.1692],[1579651200000,0.1689],[1579737600000,0.1626],[1580688000000,0.1537],[1580774400000,0.1605],[1580860800000,0.1636],[1580947200000,0.1674],[1581033600000,0.1689],[1581292800000,0.1693],[1581379200000,0.1681],[1581465600000,0.1705],[1581552000000,0.1682],[1581638400000,0.1688],[1581897600000,0.1742],[1581984000000,0.176],[1582070400000,0.1748],[1582156800000,0.1765],[1582243200000,0.1781],[1582502400000,0.1786],[1582588800000,0.1759],[1582675200000,0.1744],[1582761600000,0.1747],[1582848000000,0.1656],[1583107200000,0.1718],[1583193600000,0.1735],[1583280000000,0.1754],[1583452800000,0.1754],[1583712000000,0.1687],[1583798400000,0.1721],[1583884800000,0.1696],[1583971200000,0.166],[1584057600000,0.1639],[1584316800000,0.1571],[1584403200000,0.1562],[1584489600000,0.1532],[1584576000000,0.1533],[1584662400000,0.1551],[1584921600000,0.1487],[1585008000000,0.1515],[1585094400000,0.1549],[1585180800000,0.153],[1585267200000,0.1522],[1585526400000,0.1503],[1585612800000,0.1499],[1585699200000,0.149],[1585785600000,0.1519],[1585872000000,0.1509],[1586217600000,0.1549],[1586304000000,0.1554],[1586390400000,0.156],[1586476800000,0.1519],[1586736000000,0.1505],[1586822400000,0.1525],[1586908800000,0.1511],[1586995200000,0.1514],[1587081600000,0.1512],[1587340800000,0.1528],[1587427200000,0.1516],[1587513600000,0.1528],[1587600000000,0.1518],[1587686400000,0.1495],[1587945600000,0.1483],[1588032000000,0.1455],[1588118400000,0.1454],[1588204800000,0.1486],[1588723200000,0.151],[1588809600000,0.1501],[1588896000000,0.1512],[1589155200000,0.151],[1589241600000,0.1507],[1589328000000,0.1511],[1589414400000,0.1494],[1589500800000,0.1494],[1589760000000,0.1484],[1589846400000,0.15],[1589932800000,0.1483],[1590019200000,0.1472],[1590105600000,0.1445],[1590364800000,0.1444],[1590451200000,0.147],[1590537600000,0.146],[1590624000000,0.1455],[1590710400000,0.1466],[1590969600000,0.1501],[1591056000000,0.1505],[1591142400000,0.1504],[1591228800000,0.1504],[1591315200000,0.15],[1591574400000,0.1497],[1591660800000,0.15],[1591747200000,0.149],[1591833600000,0.1481],[1591920000000,0.1476],[1592179200000,0.1468],[1592265600000,0.1488],[1592352000000,0.1492],[1592438400000,0.1495],[1592524800000,0.15],[1592784000000,0.1499],[1592870400000,0.1489],[1592956800000,0.1483],[1593388800000,0.1469],[1593475200000,0.1486],[1593561600000,0.1483],[1593648000000,0.1499],[1593734400000,0.1515],[1593993600000,0.1572],[1594080000000,0.157],[1594166400000,0.16],[1594252800000,0.1635],[1594339200000,0.1608],[1594598400000,0.1655],[1594684800000,0.1642],[1594771200000,0.1597],[1594857600000,0.1534],[1594944000000,0.1537],[1595203200000,0.1585],[1595289600000,0.1585],[1595376000000,0.1589],[1595462400000,0.157],[1595548800000,0.1503],[1595808000000,0.15],[1595894400000,0.1511],[1595980800000,0.1546],[1596067200000,0.1541],[1596153600000,0.1555],[1596412800000,0.1597],[1596499200000,0.1583],[1596585600000,0.1592],[1596672000000,0.1582],[1596758400000,0.1553],[1597017600000,0.1566],[1597104000000,0.1531],[1597190400000,0.1516],[1597276800000,0.1521],[1597363200000,0.1534],[1597622400000,0.1558],[1597708800000,0.1557],[1597795200000,0.1523],[1597881600000,0.1504],[1597968000000,0.1512],[1598227200000,0.1512],[1598313600000,0.1506],[1598400000000,0.1469],[1598486400000,0.1484],[1598572800000,0.1496],[1598832000000,0.1496],[1598918400000,0.1503],[1599004800000,0.1512],[1599091200000,0.1495],[1599177600000,0.1497],[1599436800000,0.1471],[1599523200000,0.1483],[1599609600000,0.1446],[1599696000000,0.1405],[1599782400000,0.1426],[1600041600000,0.1451],[1600128000000,0.1451],[1600214400000,0.1438],[1600300800000,0.1441],[1600387200000,0.1457],[1600646400000,0.1453],[1600732800000,0.1425],[1600819200000,0.1432],[1600905600000,0.1391],[1600992000000,0.1382],[1601251200000,0.1357],[1601337600000,0.1366],[1601424000000,0.1358],[1602201600000,0.1397],[1602460800000,0.1437],[1602547200000,0.1434],[1602633600000,0.1422],[1602720000000,0.141],[1602806400000,0.1411],[1603065600000,0.1401],[1603152000000,0.1419],[1603238400000,0.1397],[1603324800000,0.139],[1603411200000,0.1369],[1603670400000,0.1368],[1603756800000,0.1367],[1603843200000,0.1365],[1603929600000,0.1357],[1604016000000,0.132],[1604275200000,0.1316],[1604361600000,0.1341],[1604448000000,0.1333]],\"color\":\"#648FD5\"},{\"name\":\"3\\u5206\\u4f4d\\u6570\",\"yAxis\":0,\"data\":[[1476144000000,1.0],[1476230400000,0.999],[1476316800000,1.0],[1476403200000,0.9963],[1476662400000,0.9861],[1476748800000,1.0016],[1476835200000,0.9994],[1476921600000,1.0008],[1477008000000,0.9963],[1477267200000,1.0039],[1477353600000,1.0071],[1477440000000,1.0012],[1477526400000,1.0014],[1477612800000,0.9898],[1477872000000,0.9865],[1477958400000,0.9969],[1478044800000,0.9889],[1478131200000,0.9941],[1478217600000,0.9899],[1478476800000,0.9909],[1478563200000,0.9965],[1478649600000,0.9864],[1478736000000,0.9991],[1478822400000,1.0047],[1479081600000,1.0064],[1479168000000,1.0075],[1479254400000,0.9991],[1479340800000,0.9935],[1479427200000,0.9904],[1479686400000,0.9901],[1479772800000,0.999],[1479859200000,0.9886],[1479945600000,0.9817],[1480032000000,0.9826],[1480291200000,0.9781],[1480377600000,0.9692],[1480464000000,0.9679],[1480550400000,0.9716],[1480636800000,0.949],[1480896000000,0.9436],[1480982400000,0.9452],[1481068800000,0.9539],[1481155200000,0.9444],[1481241600000,0.9414],[1481500800000,0.8827],[1481587200000,0.8852],[1481673600000,0.8783],[1481760000000,0.886],[1481846400000,0.8901],[1482105600000,0.8869],[1482192000000,0.8847],[1482278400000,0.8933],[1482364800000,0.8919],[1482451200000,0.8741],[1482710400000,0.8791],[1482796800000,0.8784],[1482883200000,0.8729],[1482969600000,0.8679],[1483056000000,0.8667],[1483401600000,0.8755],[1483488000000,0.8828],[1483574400000,0.8817],[1483660800000,0.8766],[1483920000000,0.8779],[1484006400000,0.875],[1484092800000,0.8644],[1484179200000,0.8548],[1484265600000,0.8378],[1484524800000,0.8013],[1484611200000,0.8102],[1484697600000,0.8019],[1484784000000,0.7971],[1484870400000,0.8113],[1485129600000,0.8188],[1485216000000,0.8141],[1485302400000,0.819],[1485388800000,0.8244],[1486080000000,0.8189],[1486339200000,0.8301],[1486425600000,0.8291],[1486512000000,0.8356],[1486598400000,0.8412],[1486684800000,0.8391],[1486944000000,0.8436],[1487030400000,0.8402],[1487116800000,0.831],[1487203200000,0.8338],[1487289600000,0.8249],[1487548800000,0.8313],[1487635200000,0.8424],[1487721600000,0.8449],[1487808000000,0.8447],[1487894400000,0.8466],[1488153600000,0.8372],[1488240000000,0.8407],[1488326400000,0.8423],[1488412800000,0.8347],[1488499200000,0.8363],[1488758400000,0.8461],[1488844800000,0.848],[1488931200000,0.8415],[1489017600000,0.8336],[1489104000000,0.8324],[1489363200000,0.8369],[1489449600000,0.8346],[1489536000000,0.8325],[1489622400000,0.8416],[1489708800000,0.8321],[1489968000000,0.8355],[1490054400000,0.8359],[1490140800000,0.8349],[1490227200000,0.8326],[1490313600000,0.8338],[1490572800000,0.8313],[1490659200000,0.8261],[1490745600000,0.8156],[1490832000000,0.7907],[1490918400000,0.7905],[1491350400000,0.8063],[1491436800000,0.806],[1491523200000,0.8028],[1491782400000,0.7778],[1491868800000,0.7837],[1491955200000,0.7739],[1492041600000,0.7755],[1492128000000,0.7608],[1492387200000,0.7448],[1492473600000,0.7346],[1492560000000,0.7259],[1492646400000,0.7195],[1492732800000,0.7152],[1492992000000,0.6883],[1493078400000,0.6898],[1493164800000,0.6904],[1493251200000,0.6962],[1493337600000,0.6993],[1493683200000,0.6978],[1493769600000,0.6964],[1493856000000,0.6911],[1493942400000,0.6805],[1494201600000,0.6656],[1494288000000,0.6719],[1494374400000,0.6552],[1494460800000,0.6522],[1494547200000,0.6493],[1494806400000,0.6492],[1494892800000,0.6592],[1494979200000,0.6608],[1495065600000,0.656],[1495152000000,0.6542],[1495411200000,0.6296],[1495497600000,0.6034],[1495584000000,0.6072],[1495670400000,0.6111],[1495756800000,0.6113],[1496188800000,0.6093],[1496275200000,0.5873],[1496361600000,0.5958],[1496620800000,0.6008],[1496707200000,0.6031],[1496793600000,0.6193],[1496880000000,0.6172],[1496966400000,0.6163],[1497225600000,0.5999],[1497312000000,0.6109],[1497398400000,0.6129],[1497484800000,0.6224],[1497571200000,0.6192],[1497830400000,0.6221],[1497916800000,0.6197],[1498003200000,0.6186],[1498089600000,0.6028],[1498176000000,0.6024],[1498435200000,0.6087],[1498521600000,0.609],[1498608000000,0.6029],[1498694400000,0.6054],[1498780800000,0.606],[1499040000000,0.6116],[1499126400000,0.6089],[1499212800000,0.6138],[1499299200000,0.6143],[1499385600000,0.6162],[1499644800000,0.6113],[1499731200000,0.5994],[1499817600000,0.5979],[1499904000000,0.5959],[1499990400000,0.5901],[1500249600000,0.5491],[1500336000000,0.5539],[1500422400000,0.5595],[1500508800000,0.5617],[1500595200000,0.5606],[1500854400000,0.5648],[1500940800000,0.5651],[1501027200000,0.5629],[1501113600000,0.5736],[1501200000000,0.5671],[1501459200000,0.568],[1501545600000,0.5695],[1501632000000,0.5633],[1501718400000,0.566],[1501804800000,0.5645],[1502064000000,0.5681],[1502150400000,0.5675],[1502236800000,0.5694],[1502323200000,0.5616],[1502409600000,0.5534],[1502668800000,0.5638],[1502755200000,0.5641],[1502841600000,0.5688],[1502928000000,0.5724],[1503014400000,0.57],[1503273600000,0.5772],[1503360000000,0.5729],[1503446400000,0.5694],[1503532800000,0.5649],[1503619200000,0.571],[1503878400000,0.577],[1503964800000,0.5749],[1504051200000,0.5741],[1504137600000,0.5808],[1504224000000,0.5829],[1504483200000,0.5838],[1504569600000,0.583],[1504656000000,0.5822],[1504742400000,0.5812],[1504828800000,0.5811],[1505088000000,0.5872],[1505174400000,0.5829],[1505260800000,0.5845],[1505347200000,0.583],[1505433600000,0.5777],[1505692800000,0.5818],[1505779200000,0.5804],[1505865600000,0.5843],[1505952000000,0.5794],[1506038400000,0.5763],[1506297600000,0.5665],[1506384000000,0.5662],[1506470400000,0.5694],[1506556800000,0.5661],[1506643200000,0.5694],[1507507200000,0.5765],[1507593600000,0.5807],[1507680000000,0.5771],[1507766400000,0.5751],[1507852800000,0.5785],[1508112000000,0.5657],[1508198400000,0.5662],[1508284800000,0.5593],[1508371200000,0.5533],[1508457600000,0.56],[1508716800000,0.563],[1508803200000,0.5588],[1508889600000,0.5617],[1508976000000,0.5626],[1509062400000,0.5574],[1509321600000,0.5366],[1509408000000,0.5404],[1509494400000,0.5397],[1509580800000,0.5319],[1509667200000,0.5265],[1509926400000,0.5309],[1510012800000,0.5328],[1510099200000,0.5341],[1510185600000,0.5363],[1510272000000,0.5363],[1510531200000,0.5381],[1510617600000,0.5318],[1510704000000,0.5282],[1510790400000,0.525],[1510876800000,0.5003],[1511136000000,0.4996],[1511222400000,0.4963],[1511308800000,0.4962],[1511395200000,0.4841],[1511481600000,0.4832],[1511740800000,0.4776],[1511827200000,0.486],[1511913600000,0.4845],[1512000000000,0.4821],[1512086400000,0.4861],[1512345600000,0.4797],[1512432000000,0.4648],[1512518400000,0.4692],[1512604800000,0.4674],[1512691200000,0.4712],[1512950400000,0.4747],[1513036800000,0.4685],[1513123200000,0.473],[1513209600000,0.4724],[1513296000000,0.4696],[1513555200000,0.4679],[1513641600000,0.4723],[1513728000000,0.4672],[1513814400000,0.4651],[1513900800000,0.4634],[1514160000000,0.4571],[1514246400000,0.4625],[1514332800000,0.4599],[1514419200000,0.4615],[1514505600000,0.4655],[1514851200000,0.4699],[1514937600000,0.473],[1515024000000,0.4732],[1515110400000,0.4729],[1515369600000,0.4726],[1515456000000,0.472],[1515542400000,0.4669],[1515628800000,0.47],[1515715200000,0.4675],[1515974400000,0.4537],[1516060800000,0.456],[1516147200000,0.4566],[1516233600000,0.4562],[1516320000000,0.4556],[1516579200000,0.4579],[1516665600000,0.4583],[1516752000000,0.461],[1516838400000,0.4584],[1516924800000,0.4561],[1517184000000,0.4485],[1517270400000,0.4474],[1517356800000,0.4345],[1517443200000,0.4153],[1517529600000,0.4105],[1517788800000,0.4069],[1517875200000,0.3814],[1517961600000,0.3836],[1518048000000,0.3894],[1518134400000,0.3741],[1518393600000,0.3839],[1518480000000,0.3829],[1518566400000,0.3836],[1519257600000,0.3897],[1519344000000,0.3902],[1519603200000,0.4],[1519689600000,0.4004],[1519776000000,0.4006],[1519862400000,0.4054],[1519948800000,0.4028],[1520208000000,0.4046],[1520294400000,0.4088],[1520380800000,0.4053],[1520467200000,0.4094],[1520553600000,0.4152],[1520812800000,0.4204],[1520899200000,0.4177],[1520985600000,0.4137],[1521072000000,0.4087],[1521158400000,0.4082],[1521417600000,0.4129],[1521504000000,0.4126],[1521590400000,0.4107],[1521676800000,0.4117],[1521763200000,0.3872],[1522022400000,0.3929],[1522108800000,0.4028],[1522195200000,0.4004],[1522281600000,0.4052],[1522368000000,0.4109],[1522627200000,0.4113],[1522713600000,0.4065],[1522800000000,0.4044],[1523232000000,0.4043],[1523318400000,0.406],[1523404800000,0.4076],[1523491200000,0.4045],[1523577600000,0.4027],[1523836800000,0.3962],[1523923200000,0.3871],[1524009600000,0.3908],[1524096000000,0.3913],[1524182400000,0.3815],[1524441600000,0.3794],[1524528000000,0.3878],[1524614400000,0.388],[1524700800000,0.3794],[1524787200000,0.3802],[1525219200000,0.3769],[1525305600000,0.3824],[1525392000000,0.381],[1525651200000,0.387],[1525737600000,0.3891],[1525824000000,0.3892],[1525910400000,0.3902],[1525996800000,0.3852],[1526256000000,0.3816],[1526342400000,0.3858],[1526428800000,0.3834],[1526515200000,0.3805],[1526601600000,0.3824],[1526860800000,0.387],[1526947200000,0.3883],[1527033600000,0.3834],[1527120000000,0.3819],[1527206400000,0.3781],[1527465600000,0.3741],[1527552000000,0.3715],[1527638400000,0.352],[1527724800000,0.3576],[1527811200000,0.3538],[1528070400000,0.3532],[1528156800000,0.3612],[1528243200000,0.3627],[1528329600000,0.3578],[1528416000000,0.3541],[1528675200000,0.3514],[1528761600000,0.3536],[1528848000000,0.3467],[1528934400000,0.3457],[1529020800000,0.3362],[1529366400000,0.3116],[1529452800000,0.3166],[1529539200000,0.3071],[1529625600000,0.3109],[1529884800000,0.3093],[1529971200000,0.3125],[1530057600000,0.3102],[1530144000000,0.3065],[1530230400000,0.3155],[1530489600000,0.3102],[1530576000000,0.3153],[1530662400000,0.3098],[1530748800000,0.3019],[1530835200000,0.3028],[1531094400000,0.3085],[1531180800000,0.3104],[1531267200000,0.3015],[1531353600000,0.309],[1531440000000,0.3088],[1531699200000,0.3082],[1531785600000,0.3092],[1531872000000,0.3067],[1531958400000,0.3026],[1532044800000,0.306],[1532304000000,0.3083],[1532390400000,0.3138],[1532476800000,0.3139],[1532563200000,0.3144],[1532649600000,0.3114],[1532908800000,0.3057],[1532995200000,0.3065],[1533081600000,0.3005],[1533168000000,0.2921],[1533254400000,0.2889],[1533513600000,0.2826],[1533600000000,0.2902],[1533686400000,0.2847],[1533772800000,0.2902],[1533859200000,0.2917],[1534118400000,0.2921],[1534204800000,0.2919],[1534291200000,0.2854],[1534377600000,0.2827],[1534464000000,0.2775],[1534723200000,0.2791],[1534809600000,0.2813],[1534896000000,0.2779],[1534982400000,0.2805],[1535068800000,0.2792],[1535328000000,0.2843],[1535414400000,0.2844],[1535500800000,0.2826],[1535587200000,0.2778],[1535673600000,0.2746],[1535932800000,0.2735],[1536019200000,0.2764],[1536105600000,0.272],[1536192000000,0.2701],[1536278400000,0.2703],[1536537600000,0.2635],[1536624000000,0.264],[1536710400000,0.2641],[1536796800000,0.2666],[1536883200000,0.2642],[1537142400000,0.2591],[1537228800000,0.2636],[1537315200000,0.2662],[1537401600000,0.265],[1537488000000,0.2687],[1537833600000,0.2674],[1537920000000,0.2687],[1538006400000,0.2647],[1538092800000,0.2669],[1538956800000,0.257],[1539043200000,0.2572],[1539129600000,0.2578],[1539216000000,0.2395],[1539302400000,0.2383],[1539561600000,0.2349],[1539648000000,0.2298],[1539734400000,0.2323],[1539820800000,0.2253],[1539907200000,0.2297],[1540166400000,0.2401],[1540252800000,0.236],[1540339200000,0.2364],[1540425600000,0.2343],[1540512000000,0.2356],[1540771200000,0.232],[1540857600000,0.2345],[1540944000000,0.2377],[1541030400000,0.2384],[1541116800000,0.2445],[1541376000000,0.2458],[1541462400000,0.2448],[1541548800000,0.244],[1541635200000,0.2431],[1541721600000,0.2421],[1541980800000,0.2488],[1542067200000,0.2537],[1542153600000,0.253],[1542240000000,0.2569],[1542326400000,0.2572],[1542585600000,0.2576],[1542672000000,0.2508],[1542758400000,0.2532],[1542844800000,0.2533],[1542931200000,0.2412],[1543190400000,0.241],[1543276800000,0.2426],[1543363200000,0.2445],[1543449600000,0.2382],[1543536000000,0.2396],[1543795200000,0.2469],[1543881600000,0.2482],[1543968000000,0.2449],[1544054400000,0.2402],[1544140800000,0.2407],[1544400000000,0.2366],[1544486400000,0.2386],[1544572800000,0.2382],[1544659200000,0.2402],[1544745600000,0.2338],[1545004800000,0.2341],[1545091200000,0.2324],[1545177600000,0.2294],[1545264000000,0.2301],[1545350400000,0.2284],[1545609600000,0.2296],[1545696000000,0.2263],[1545782400000,0.2256],[1545868800000,0.222],[1545955200000,0.2214],[1546387200000,0.2206],[1546473600000,0.2179],[1546560000000,0.2227],[1546819200000,0.2263],[1546905600000,0.2256],[1546992000000,0.2254],[1547078400000,0.2249],[1547164800000,0.2268],[1547424000000,0.2247],[1547510400000,0.2272],[1547596800000,0.2268],[1547683200000,0.224],[1547769600000,0.2254],[1548028800000,0.2265],[1548115200000,0.2232],[1548201600000,0.2232],[1548288000000,0.2241],[1548374400000,0.2216],[1548633600000,0.2205],[1548720000000,0.2141],[1548806400000,0.211],[1548892800000,0.2061],[1548979200000,0.2122],[1549843200000,0.218],[1549929600000,0.2206],[1550016000000,0.224],[1550102400000,0.2244],[1550188800000,0.2232],[1550448000000,0.2299],[1550534400000,0.2303],[1550620800000,0.2302],[1550707200000,0.2289],[1550793600000,0.2333],[1551052800000,0.2435],[1551139200000,0.2426],[1551225600000,0.2422],[1551312000000,0.2437],[1551398400000,0.2448],[1551657600000,0.2484],[1551744000000,0.2538],[1551830400000,0.2578],[1551916800000,0.261],[1552003200000,0.2467],[1552262400000,0.2571],[1552348800000,0.2605],[1552435200000,0.2554],[1552521600000,0.2488],[1552608000000,0.2522],[1552867200000,0.2577],[1552953600000,0.2576],[1553040000000,0.2573],[1553126400000,0.2594],[1553212800000,0.2606],[1553472000000,0.2564],[1553558400000,0.2491],[1553644800000,0.2504],[1553731200000,0.2466],[1553817600000,0.253],[1554076800000,0.2611],[1554163200000,0.2615],[1554249600000,0.2643],[1554336000000,0.2636],[1554681600000,0.2612],[1554768000000,0.2614],[1554854400000,0.2603],[1554940800000,0.2555],[1555027200000,0.2553],[1555286400000,0.2532],[1555372800000,0.2573],[1555459200000,0.2585],[1555545600000,0.2565],[1555632000000,0.2584],[1555891200000,0.2545],[1555977600000,0.2497],[1556064000000,0.2518],[1556150400000,0.2406],[1556236800000,0.2374],[1556496000000,0.2284],[1556582400000,0.2315],[1557100800000,0.2144],[1557187200000,0.2183],[1557273600000,0.2179],[1557360000000,0.2167],[1557446400000,0.2235],[1557705600000,0.2217],[1557792000000,0.2196],[1557878400000,0.2238],[1557964800000,0.225],[1558051200000,0.2165],[1558310400000,0.2163],[1558396800000,0.2198],[1558483200000,0.2179],[1558569600000,0.2127],[1558656000000,0.2113],[1558915200000,0.2169],[1559001600000,0.216],[1559088000000,0.216],[1559174400000,0.2144],[1559260800000,0.2138],[1559520000000,0.212],[1559606400000,0.2087],[1559692800000,0.2084],[1559779200000,0.2019],[1560124800000,0.2039],[1560211200000,0.211],[1560297600000,0.2095],[1560384000000,0.2104],[1560470400000,0.2058],[1560729600000,0.2059],[1560816000000,0.2055],[1560902400000,0.2084],[1560988800000,0.2112],[1561075200000,0.2142],[1561334400000,0.2137],[1561420800000,0.2112],[1561507200000,0.211],[1561593600000,0.2118],[1561680000000,0.209],[1561939200000,0.2145],[1562025600000,0.2141],[1562112000000,0.2113],[1562198400000,0.2107],[1562284800000,0.2116],[1562544000000,0.2029],[1562630400000,0.2034],[1562716800000,0.202],[1562803200000,0.2016],[1562889600000,0.2016],[1563148800000,0.2031],[1563235200000,0.2034],[1563321600000,0.2028],[1563408000000,0.1989],[1563494400000,0.1998],[1563753600000,0.1915],[1563840000000,0.1935],[1563926400000,0.1958],[1564012800000,0.196],[1564099200000,0.1956],[1564358400000,0.1948],[1564444800000,0.1953],[1564531200000,0.194],[1564617600000,0.193],[1564704000000,0.1887],[1564963200000,0.1859],[1565049600000,0.1787],[1565136000000,0.1779],[1565222400000,0.1789],[1565308800000,0.1761],[1565568000000,0.1784],[1565654400000,0.177],[1565740800000,0.1776],[1565827200000,0.1781],[1565913600000,0.1785],[1566172800000,0.1834],[1566259200000,0.1833],[1566345600000,0.1832],[1566432000000,0.1838],[1566518400000,0.1824],[1566777600000,0.1809],[1566864000000,0.1841],[1566950400000,0.1836],[1567036800000,0.1829],[1567123200000,0.1805],[1567382400000,0.1846],[1567468800000,0.1857],[1567555200000,0.1869],[1567641600000,0.1882],[1567728000000,0.1889],[1567987200000,0.1916],[1568073600000,0.1917],[1568160000000,0.1893],[1568246400000,0.1903],[1568592000000,0.1909],[1568678400000,0.1862],[1568764800000,0.1861],[1568851200000,0.1878],[1568937600000,0.1875],[1569196800000,0.1853],[1569283200000,0.1855],[1569369600000,0.1811],[1569456000000,0.1761],[1569542400000,0.1779],[1569801600000,0.1756],[1570492800000,0.1752],[1570579200000,0.1769],[1570665600000,0.1786],[1570752000000,0.1786],[1571011200000,0.1807],[1571097600000,0.1788],[1571184000000,0.1774],[1571270400000,0.177],[1571356800000,0.1745],[1571616000000,0.1739],[1571702400000,0.1757],[1571788800000,0.1742],[1571875200000,0.1739],[1571961600000,0.1747],[1572220800000,0.1769],[1572307200000,0.1739],[1572393600000,0.1716],[1572480000000,0.1694],[1572566400000,0.1708],[1572825600000,0.1706],[1572912000000,0.1704],[1572998400000,0.1681],[1573084800000,0.1691],[1573171200000,0.1685],[1573430400000,0.1635],[1573516800000,0.1638],[1573603200000,0.1627],[1573689600000,0.1637],[1573776000000,0.1614],[1574035200000,0.162],[1574121600000,0.1644],[1574208000000,0.1629],[1574294400000,0.1626],[1574380800000,0.1609],[1574640000000,0.1616],[1574726400000,0.1613],[1574812800000,0.1606],[1574899200000,0.1598],[1574985600000,0.1595],[1575244800000,0.1595],[1575331200000,0.1601],[1575417600000,0.1601],[1575504000000,0.1613],[1575590400000,0.1619],[1575849600000,0.162],[1575936000000,0.1626],[1576022400000,0.1618],[1576108800000,0.1609],[1576195200000,0.1622],[1576454400000,0.1643],[1576540800000,0.166],[1576627200000,0.1661],[1576713600000,0.1667],[1576800000000,0.1645],[1577059200000,0.1609],[1577145600000,0.1631],[1577232000000,0.1632],[1577318400000,0.1641],[1577404800000,0.1625],[1577664000000,0.1638],[1577750400000,0.1645],[1577923200000,0.1665],[1578009600000,0.1672],[1578268800000,0.1682],[1578355200000,0.1702],[1578441600000,0.1672],[1578528000000,0.1695],[1578614400000,0.1684],[1578873600000,0.169],[1578960000000,0.1691],[1579046400000,0.168],[1579132800000,0.1667],[1579219200000,0.1657],[1579478400000,0.1665],[1579564800000,0.1633],[1579651200000,0.1634],[1579737600000,0.1577],[1580688000000,0.1476],[1580774400000,0.1547],[1580860800000,0.1578],[1580947200000,0.1608],[1581033600000,0.1616],[1581292800000,0.1636],[1581379200000,0.1626],[1581465600000,0.1648],[1581552000000,0.1627],[1581638400000,0.1628],[1581897600000,0.1671],[1581984000000,0.1694],[1582070400000,0.1681],[1582156800000,0.1705],[1582243200000,0.1719],[1582502400000,0.1729],[1582588800000,0.1719],[1582675200000,0.172],[1582761600000,0.1727],[1582848000000,0.1629],[1583107200000,0.1695],[1583193600000,0.1714],[1583280000000,0.173],[1583452800000,0.173],[1583712000000,0.1656],[1583798400000,0.1697],[1583884800000,0.1682],[1583971200000,0.1646],[1584057600000,0.1625],[1584316800000,0.1567],[1584403200000,0.1557],[1584489600000,0.1528],[1584576000000,0.1549],[1584662400000,0.1567],[1584921600000,0.1504],[1585008000000,0.1536],[1585094400000,0.1574],[1585180800000,0.1554],[1585267200000,0.1545],[1585526400000,0.1511],[1585612800000,0.1507],[1585699200000,0.1494],[1585785600000,0.1519],[1585872000000,0.1512],[1586217600000,0.1552],[1586304000000,0.1558],[1586390400000,0.1563],[1586476800000,0.1534],[1586736000000,0.1513],[1586822400000,0.1537],[1586908800000,0.1525],[1586995200000,0.1531],[1587081600000,0.1531],[1587340800000,0.1544],[1587427200000,0.1529],[1587513600000,0.1537],[1587600000000,0.1529],[1587686400000,0.1505],[1587945600000,0.1492],[1588032000000,0.1454],[1588118400000,0.1452],[1588204800000,0.148],[1588723200000,0.1505],[1588809600000,0.1499],[1588896000000,0.1513],[1589155200000,0.1508],[1589241600000,0.1501],[1589328000000,0.1503],[1589414400000,0.1486],[1589500800000,0.1486],[1589760000000,0.1476],[1589846400000,0.1492],[1589932800000,0.1476],[1590019200000,0.1467],[1590105600000,0.1442],[1590364800000,0.1434],[1590451200000,0.1459],[1590537600000,0.1454],[1590624000000,0.1445],[1590710400000,0.1452],[1590969600000,0.1486],[1591056000000,0.1493],[1591142400000,0.1487],[1591228800000,0.1486],[1591315200000,0.1485],[1591574400000,0.1485],[1591660800000,0.1489],[1591747200000,0.1484],[1591833600000,0.1477],[1591920000000,0.1477],[1592179200000,0.1469],[1592265600000,0.1486],[1592352000000,0.1487],[1592438400000,0.1472],[1592524800000,0.1472],[1592784000000,0.1475],[1592870400000,0.1478],[1592956800000,0.1471],[1593388800000,0.1458],[1593475200000,0.1477],[1593561600000,0.148],[1593648000000,0.1492],[1593734400000,0.1512],[1593993600000,0.1551],[1594080000000,0.1556],[1594166400000,0.1585],[1594252800000,0.1617],[1594339200000,0.1595],[1594598400000,0.1638],[1594684800000,0.1616],[1594771200000,0.1574],[1594857600000,0.151],[1594944000000,0.1511],[1595203200000,0.1566],[1595289600000,0.1563],[1595376000000,0.1564],[1595462400000,0.1561],[1595548800000,0.1504],[1595808000000,0.1501],[1595894400000,0.1513],[1595980800000,0.154],[1596067200000,0.1526],[1596153600000,0.1539],[1596412800000,0.1577],[1596499200000,0.1566],[1596585600000,0.1573],[1596672000000,0.1565],[1596758400000,0.1538],[1597017600000,0.1556],[1597104000000,0.152],[1597190400000,0.1508],[1597276800000,0.1515],[1597363200000,0.1522],[1597622400000,0.1548],[1597708800000,0.1552],[1597795200000,0.1522],[1597881600000,0.1507],[1597968000000,0.1514],[1598227200000,0.1521],[1598313600000,0.1513],[1598400000000,0.1474],[1598486400000,0.1489],[1598572800000,0.1502],[1598832000000,0.1497],[1598918400000,0.15],[1599004800000,0.1502],[1599091200000,0.1484],[1599177600000,0.1485],[1599436800000,0.1461],[1599523200000,0.1482],[1599609600000,0.144],[1599696000000,0.1404],[1599782400000,0.1424],[1600041600000,0.1443],[1600128000000,0.1442],[1600214400000,0.1435],[1600300800000,0.1442],[1600387200000,0.146],[1600646400000,0.1453],[1600732800000,0.1426],[1600819200000,0.1432],[1600905600000,0.1392],[1600992000000,0.1384],[1601251200000,0.1362],[1601337600000,0.1374],[1601424000000,0.1368],[1602201600000,0.1402],[1602460800000,0.1438],[1602547200000,0.1436],[1602633600000,0.1423],[1602720000000,0.1413],[1602806400000,0.1412],[1603065600000,0.1403],[1603152000000,0.1411],[1603238400000,0.1391],[1603324800000,0.1385],[1603411200000,0.1365],[1603670400000,0.1367],[1603756800000,0.1366],[1603843200000,0.1371],[1603929600000,0.1362],[1604016000000,0.1323],[1604275200000,0.1324],[1604361600000,0.1354],[1604448000000,0.1348]],\"color\":\"#E06681\"},{\"name\":\"4\\u5206\\u4f4d\\u6570\",\"yAxis\":0,\"data\":[[1476144000000,1.0],[1476230400000,0.9997],[1476316800000,0.9973],[1476403200000,0.994],[1476662400000,0.9827],[1476748800000,0.9961],[1476835200000,0.9946],[1476921600000,0.9943],[1477008000000,0.9873],[1477267200000,0.9939],[1477353600000,0.9955],[1477440000000,0.9898],[1477526400000,0.987],[1477612800000,0.9753],[1477872000000,0.9741],[1477958400000,0.9841],[1478044800000,0.9751],[1478131200000,0.9796],[1478217600000,0.9773],[1478476800000,0.977],[1478563200000,0.981],[1478649600000,0.97],[1478736000000,0.985],[1478822400000,0.9884],[1479081600000,0.9913],[1479168000000,0.9932],[1479254400000,0.9916],[1479340800000,0.9846],[1479427200000,0.9851],[1479686400000,0.994],[1479772800000,1.0004],[1479859200000,0.9922],[1479945600000,0.9858],[1480032000000,0.9851],[1480291200000,0.9797],[1480377600000,0.9666],[1480464000000,0.9598],[1480550400000,0.9632],[1480636800000,0.9423],[1480896000000,0.9329],[1480982400000,0.9328],[1481068800000,0.9415],[1481155200000,0.9342],[1481241600000,0.9282],[1481500800000,0.8638],[1481587200000,0.8644],[1481673600000,0.8561],[1481760000000,0.8612],[1481846400000,0.8687],[1482105600000,0.8676],[1482192000000,0.8658],[1482278400000,0.8718],[1482364800000,0.8697],[1482451200000,0.8574],[1482710400000,0.8619],[1482796800000,0.8605],[1482883200000,0.8553],[1482969600000,0.8508],[1483056000000,0.8484],[1483401600000,0.855],[1483488000000,0.8625],[1483574400000,0.8601],[1483660800000,0.8525],[1483920000000,0.8543],[1484006400000,0.8489],[1484092800000,0.8383],[1484179200000,0.8284],[1484265600000,0.812],[1484524800000,0.7683],[1484611200000,0.7787],[1484697600000,0.7689],[1484784000000,0.7643],[1484870400000,0.7788],[1485129600000,0.7848],[1485216000000,0.7807],[1485302400000,0.7796],[1485388800000,0.7818],[1486080000000,0.7771],[1486339200000,0.7834],[1486425600000,0.7807],[1486512000000,0.7861],[1486598400000,0.7883],[1486684800000,0.7849],[1486944000000,0.7885],[1487030400000,0.788],[1487116800000,0.7806],[1487203200000,0.7819],[1487289600000,0.7715],[1487548800000,0.7779],[1487635200000,0.7846],[1487721600000,0.7864],[1487808000000,0.7863],[1487894400000,0.7888],[1488153600000,0.783],[1488240000000,0.7835],[1488326400000,0.7843],[1488412800000,0.7771],[1488499200000,0.7759],[1488758400000,0.7849],[1488844800000,0.7868],[1488931200000,0.7826],[1489017600000,0.7748],[1489104000000,0.774],[1489363200000,0.7778],[1489449600000,0.7754],[1489536000000,0.773],[1489622400000,0.781],[1489708800000,0.7707],[1489968000000,0.7754],[1490054400000,0.7758],[1490140800000,0.7716],[1490227200000,0.768],[1490313600000,0.7679],[1490572800000,0.7641],[1490659200000,0.7598],[1490745600000,0.7526],[1490832000000,0.7335],[1490918400000,0.7345],[1491350400000,0.7498],[1491436800000,0.7499],[1491523200000,0.7468],[1491782400000,0.7408],[1491868800000,0.7462],[1491955200000,0.7311],[1492041600000,0.7306],[1492128000000,0.7186],[1492387200000,0.7017],[1492473600000,0.6909],[1492560000000,0.6856],[1492646400000,0.6796],[1492732800000,0.6739],[1492992000000,0.6557],[1493078400000,0.6573],[1493164800000,0.6598],[1493251200000,0.6659],[1493337600000,0.6684],[1493683200000,0.6662],[1493769600000,0.6642],[1493856000000,0.6591],[1493942400000,0.6477],[1494201600000,0.6331],[1494288000000,0.6397],[1494374400000,0.6233],[1494460800000,0.618],[1494547200000,0.615],[1494806400000,0.6148],[1494892800000,0.6272],[1494979200000,0.6269],[1495065600000,0.6217],[1495152000000,0.6197],[1495411200000,0.605],[1495497600000,0.5808],[1495584000000,0.5842],[1495670400000,0.5873],[1495756800000,0.5882],[1496188800000,0.5865],[1496275200000,0.5686],[1496361600000,0.5781],[1496620800000,0.5836],[1496707200000,0.5842],[1496793600000,0.5964],[1496880000000,0.5946],[1496966400000,0.5946],[1497225600000,0.5795],[1497312000000,0.5917],[1497398400000,0.5904],[1497484800000,0.5976],[1497571200000,0.5948],[1497830400000,0.5984],[1497916800000,0.5978],[1498003200000,0.5969],[1498089600000,0.5836],[1498176000000,0.5856],[1498435200000,0.5927],[1498521600000,0.5928],[1498608000000,0.5874],[1498694400000,0.5894],[1498780800000,0.5893],[1499040000000,0.5912],[1499126400000,0.5882],[1499212800000,0.592],[1499299200000,0.5923],[1499385600000,0.5953],[1499644800000,0.5843],[1499731200000,0.576],[1499817600000,0.576],[1499904000000,0.575],[1499990400000,0.5716],[1500249600000,0.5489],[1500336000000,0.5531],[1500422400000,0.5562],[1500508800000,0.5582],[1500595200000,0.5563],[1500854400000,0.5585],[1500940800000,0.5543],[1501027200000,0.5525],[1501113600000,0.5565],[1501200000000,0.5537],[1501459200000,0.5549],[1501545600000,0.5512],[1501632000000,0.5442],[1501718400000,0.5452],[1501804800000,0.5431],[1502064000000,0.5466],[1502150400000,0.5464],[1502236800000,0.5465],[1502323200000,0.5413],[1502409600000,0.5302],[1502668800000,0.5404],[1502755200000,0.5424],[1502841600000,0.5457],[1502928000000,0.5487],[1503014400000,0.5457],[1503273600000,0.5477],[1503360000000,0.5433],[1503446400000,0.5393],[1503532800000,0.5346],[1503619200000,0.5416],[1503878400000,0.5486],[1503964800000,0.547],[1504051200000,0.5465],[1504137600000,0.55],[1504224000000,0.5522],[1504483200000,0.5555],[1504569600000,0.5539],[1504656000000,0.5547],[1504742400000,0.5495],[1504828800000,0.5497],[1505088000000,0.5548],[1505174400000,0.5502],[1505260800000,0.5515],[1505347200000,0.5491],[1505433600000,0.5457],[1505692800000,0.5484],[1505779200000,0.5449],[1505865600000,0.5487],[1505952000000,0.5397],[1506038400000,0.538],[1506297600000,0.529],[1506384000000,0.5258],[1506470400000,0.5292],[1506556800000,0.526],[1506643200000,0.5298],[1507507200000,0.5331],[1507593600000,0.5375],[1507680000000,0.5344],[1507766400000,0.5315],[1507852800000,0.5348],[1508112000000,0.5229],[1508198400000,0.521],[1508284800000,0.5138],[1508371200000,0.5072],[1508457600000,0.5135],[1508716800000,0.5158],[1508803200000,0.5118],[1508889600000,0.5146],[1508976000000,0.5151],[1509062400000,0.5113],[1509321600000,0.5001],[1509408000000,0.5034],[1509494400000,0.503],[1509580800000,0.4963],[1509667200000,0.4906],[1509926400000,0.4963],[1510012800000,0.4978],[1510099200000,0.4983],[1510185600000,0.4998],[1510272000000,0.498],[1510531200000,0.4974],[1510617600000,0.4928],[1510704000000,0.4854],[1510790400000,0.4816],[1510876800000,0.4586],[1511136000000,0.4576],[1511222400000,0.4545],[1511308800000,0.4534],[1511395200000,0.4401],[1511481600000,0.4397],[1511740800000,0.435],[1511827200000,0.4405],[1511913600000,0.44],[1512000000000,0.4382],[1512086400000,0.4399],[1512345600000,0.4307],[1512432000000,0.4196],[1512518400000,0.4252],[1512604800000,0.4244],[1512691200000,0.4284],[1512950400000,0.4315],[1513036800000,0.4257],[1513123200000,0.428],[1513209600000,0.4275],[1513296000000,0.4256],[1513555200000,0.4208],[1513641600000,0.4231],[1513728000000,0.4179],[1513814400000,0.4199],[1513900800000,0.4182],[1514160000000,0.4129],[1514246400000,0.4159],[1514332800000,0.413],[1514419200000,0.4143],[1514505600000,0.4164],[1514851200000,0.4194],[1514937600000,0.4225],[1515024000000,0.4219],[1515110400000,0.4218],[1515369600000,0.4225],[1515456000000,0.421],[1515542400000,0.4167],[1515628800000,0.4187],[1515715200000,0.4159],[1515974400000,0.404],[1516060800000,0.4053],[1516147200000,0.4063],[1516233600000,0.4068],[1516320000000,0.4059],[1516579200000,0.407],[1516665600000,0.4075],[1516752000000,0.4095],[1516838400000,0.4076],[1516924800000,0.4047],[1517184000000,0.3985],[1517270400000,0.3961],[1517356800000,0.3839],[1517443200000,0.3672],[1517529600000,0.362],[1517788800000,0.3588],[1517875200000,0.3427],[1517961600000,0.3456],[1518048000000,0.3518],[1518134400000,0.3421],[1518393600000,0.35],[1518480000000,0.3496],[1518566400000,0.3498],[1519257600000,0.3574],[1519344000000,0.3582],[1519603200000,0.366],[1519689600000,0.3659],[1519776000000,0.3653],[1519862400000,0.3683],[1519948800000,0.3657],[1520208000000,0.368],[1520294400000,0.3708],[1520380800000,0.3672],[1520467200000,0.3695],[1520553600000,0.3747],[1520812800000,0.3783],[1520899200000,0.3753],[1520985600000,0.3693],[1521072000000,0.3643],[1521158400000,0.365],[1521417600000,0.3652],[1521504000000,0.3666],[1521590400000,0.3612],[1521676800000,0.3607],[1521763200000,0.3394],[1522022400000,0.344],[1522108800000,0.353],[1522195200000,0.3497],[1522281600000,0.3509],[1522368000000,0.3554],[1522627200000,0.3555],[1522713600000,0.352],[1522800000000,0.3501],[1523232000000,0.3511],[1523318400000,0.3537],[1523404800000,0.3556],[1523491200000,0.3534],[1523577600000,0.3511],[1523836800000,0.3495],[1523923200000,0.3417],[1524009600000,0.3454],[1524096000000,0.3463],[1524182400000,0.3375],[1524441600000,0.3354],[1524528000000,0.3427],[1524614400000,0.3435],[1524700800000,0.3348],[1524787200000,0.3353],[1525219200000,0.3319],[1525305600000,0.3339],[1525392000000,0.3326],[1525651200000,0.3377],[1525737600000,0.3393],[1525824000000,0.3393],[1525910400000,0.3407],[1525996800000,0.3358],[1526256000000,0.3341],[1526342400000,0.3388],[1526428800000,0.3369],[1526515200000,0.3356],[1526601600000,0.3362],[1526860800000,0.3401],[1526947200000,0.3412],[1527033600000,0.3371],[1527120000000,0.3356],[1527206400000,0.3316],[1527465600000,0.3278],[1527552000000,0.3254],[1527638400000,0.3162],[1527724800000,0.3215],[1527811200000,0.3157],[1528070400000,0.3148],[1528156800000,0.3186],[1528243200000,0.3184],[1528329600000,0.3151],[1528416000000,0.311],[1528675200000,0.309],[1528761600000,0.3107],[1528848000000,0.3048],[1528934400000,0.3032],[1529020800000,0.2933],[1529366400000,0.272],[1529452800000,0.2762],[1529539200000,0.2673],[1529625600000,0.2712],[1529884800000,0.2698],[1529971200000,0.2723],[1530057600000,0.2704],[1530144000000,0.2671],[1530230400000,0.2737],[1530489600000,0.269],[1530576000000,0.2727],[1530662400000,0.2676],[1530748800000,0.26],[1530835200000,0.2618],[1531094400000,0.2666],[1531180800000,0.2678],[1531267200000,0.2604],[1531353600000,0.2676],[1531440000000,0.2675],[1531699200000,0.2672],[1531785600000,0.2668],[1531872000000,0.2647],[1531958400000,0.2611],[1532044800000,0.2645],[1532304000000,0.2656],[1532390400000,0.2694],[1532476800000,0.269],[1532563200000,0.2676],[1532649600000,0.2649],[1532908800000,0.2599],[1532995200000,0.2608],[1533081600000,0.2549],[1533168000000,0.2471],[1533254400000,0.2446],[1533513600000,0.2376],[1533600000000,0.2444],[1533686400000,0.2405],[1533772800000,0.2457],[1533859200000,0.2465],[1534118400000,0.2463],[1534204800000,0.2458],[1534291200000,0.2404],[1534377600000,0.2379],[1534464000000,0.2336],[1534723200000,0.2351],[1534809600000,0.237],[1534896000000,0.2339],[1534982400000,0.234],[1535068800000,0.233],[1535328000000,0.2374],[1535414400000,0.2375],[1535500800000,0.2359],[1535587200000,0.2309],[1535673600000,0.2275],[1535932800000,0.2266],[1536019200000,0.2296],[1536105600000,0.2262],[1536192000000,0.2256],[1536278400000,0.2261],[1536537600000,0.2211],[1536624000000,0.2217],[1536710400000,0.2223],[1536796800000,0.224],[1536883200000,0.2217],[1537142400000,0.2186],[1537228800000,0.2226],[1537315200000,0.2239],[1537401600000,0.2229],[1537488000000,0.2252],[1537833600000,0.2237],[1537920000000,0.2243],[1538006400000,0.2199],[1538092800000,0.2216],[1538956800000,0.2118],[1539043200000,0.2121],[1539129600000,0.2126],[1539216000000,0.1973],[1539302400000,0.1958],[1539561600000,0.1928],[1539648000000,0.1888],[1539734400000,0.1911],[1539820800000,0.1849],[1539907200000,0.1883],[1540166400000,0.1969],[1540252800000,0.1936],[1540339200000,0.1938],[1540425600000,0.1922],[1540512000000,0.1935],[1540771200000,0.1904],[1540857600000,0.1926],[1540944000000,0.1952],[1541030400000,0.1957],[1541116800000,0.2003],[1541376000000,0.2011],[1541462400000,0.2004],[1541548800000,0.1997],[1541635200000,0.1984],[1541721600000,0.1967],[1541980800000,0.2019],[1542067200000,0.2052],[1542153600000,0.2047],[1542240000000,0.2083],[1542326400000,0.2098],[1542585600000,0.21],[1542672000000,0.2029],[1542758400000,0.2039],[1542844800000,0.204],[1542931200000,0.1951],[1543190400000,0.1949],[1543276800000,0.1965],[1543363200000,0.1987],[1543449600000,0.1923],[1543536000000,0.1935],[1543795200000,0.1998],[1543881600000,0.201],[1543968000000,0.1993],[1544054400000,0.1957],[1544140800000,0.1954],[1544400000000,0.1917],[1544486400000,0.1934],[1544572800000,0.1923],[1544659200000,0.1934],[1544745600000,0.1885],[1545004800000,0.1881],[1545091200000,0.1866],[1545177600000,0.1839],[1545264000000,0.1845],[1545350400000,0.1829],[1545609600000,0.1849],[1545696000000,0.1833],[1545782400000,0.1821],[1545868800000,0.1789],[1545955200000,0.1792],[1546387200000,0.1788],[1546473600000,0.1778],[1546560000000,0.1819],[1546819200000,0.1849],[1546905600000,0.184],[1546992000000,0.184],[1547078400000,0.1833],[1547164800000,0.1844],[1547424000000,0.1828],[1547510400000,0.184],[1547596800000,0.1826],[1547683200000,0.18],[1547769600000,0.1808],[1548028800000,0.1813],[1548115200000,0.1792],[1548201600000,0.1791],[1548288000000,0.1798],[1548374400000,0.1782],[1548633600000,0.1767],[1548720000000,0.1734],[1548806400000,0.1707],[1548892800000,0.1654],[1548979200000,0.1698],[1549843200000,0.1736],[1549929600000,0.1754],[1550016000000,0.1779],[1550102400000,0.1784],[1550188800000,0.1776],[1550448000000,0.183],[1550534400000,0.1832],[1550620800000,0.1829],[1550707200000,0.1817],[1550793600000,0.1852],[1551052800000,0.1933],[1551139200000,0.1919],[1551225600000,0.1912],[1551312000000,0.1913],[1551398400000,0.192],[1551657600000,0.1945],[1551744000000,0.1987],[1551830400000,0.2014],[1551916800000,0.2035],[1552003200000,0.1929],[1552262400000,0.2004],[1552348800000,0.203],[1552435200000,0.1987],[1552521600000,0.1928],[1552608000000,0.1959],[1552867200000,0.2002],[1552953600000,0.2],[1553040000000,0.1994],[1553126400000,0.2007],[1553212800000,0.2011],[1553472000000,0.1985],[1553558400000,0.1924],[1553644800000,0.1931],[1553731200000,0.1904],[1553817600000,0.1944],[1554076800000,0.2001],[1554163200000,0.2006],[1554249600000,0.2024],[1554336000000,0.2029],[1554681600000,0.202],[1554768000000,0.2024],[1554854400000,0.2018],[1554940800000,0.197],[1555027200000,0.1965],[1555286400000,0.1946],[1555372800000,0.198],[1555459200000,0.1992],[1555545600000,0.1975],[1555632000000,0.198],[1555891200000,0.195],[1555977600000,0.1903],[1556064000000,0.1923],[1556150400000,0.1838],[1556236800000,0.1809],[1556496000000,0.174],[1556582400000,0.1768],[1557100800000,0.1633],[1557187200000,0.1665],[1557273600000,0.1664],[1557360000000,0.1645],[1557446400000,0.1698],[1557705600000,0.1682],[1557792000000,0.1665],[1557878400000,0.1697],[1557964800000,0.1705],[1558051200000,0.164],[1558310400000,0.1633],[1558396800000,0.1661],[1558483200000,0.1645],[1558569600000,0.1608],[1558656000000,0.1601],[1558915200000,0.1645],[1559001600000,0.1638],[1559088000000,0.1641],[1559174400000,0.1629],[1559260800000,0.1624],[1559520000000,0.1599],[1559606400000,0.157],[1559692800000,0.157],[1559779200000,0.1543],[1560124800000,0.1558],[1560211200000,0.1613],[1560297600000,0.16],[1560384000000,0.1607],[1560470400000,0.1575],[1560729600000,0.1571],[1560816000000,0.157],[1560902400000,0.1583],[1560988800000,0.1601],[1561075200000,0.1622],[1561334400000,0.1616],[1561420800000,0.1596],[1561507200000,0.1594],[1561593600000,0.16],[1561680000000,0.1575],[1561939200000,0.162],[1562025600000,0.162],[1562112000000,0.1603],[1562198400000,0.1591],[1562284800000,0.1589],[1562544000000,0.1528],[1562630400000,0.1531],[1562716800000,0.1517],[1562803200000,0.1514],[1562889600000,0.1518],[1563148800000,0.1528],[1563235200000,0.1527],[1563321600000,0.1523],[1563408000000,0.1492],[1563494400000,0.15],[1563753600000,0.1467],[1563840000000,0.1482],[1563926400000,0.1498],[1564012800000,0.15],[1564099200000,0.1497],[1564358400000,0.1497],[1564444800000,0.15],[1564531200000,0.1488],[1564617600000,0.1479],[1564704000000,0.1448],[1564963200000,0.1426],[1565049600000,0.1391],[1565136000000,0.1386],[1565222400000,0.1391],[1565308800000,0.1374],[1565568000000,0.1398],[1565654400000,0.1384],[1565740800000,0.1389],[1565827200000,0.1392],[1565913600000,0.1395],[1566172800000,0.1431],[1566259200000,0.143],[1566345600000,0.143],[1566432000000,0.1433],[1566518400000,0.1423],[1566777600000,0.141],[1566864000000,0.1438],[1566950400000,0.1435],[1567036800000,0.1429],[1567123200000,0.1403],[1567382400000,0.1433],[1567468800000,0.1438],[1567555200000,0.1448],[1567641600000,0.1455],[1567728000000,0.146],[1567987200000,0.1486],[1568073600000,0.1484],[1568160000000,0.1472],[1568246400000,0.1476],[1568592000000,0.1478],[1568678400000,0.1438],[1568764800000,0.1435],[1568851200000,0.1447],[1568937600000,0.1445],[1569196800000,0.143],[1569283200000,0.143],[1569369600000,0.1399],[1569456000000,0.1364],[1569542400000,0.1379],[1569801600000,0.1363],[1570492800000,0.1364],[1570579200000,0.1371],[1570665600000,0.1384],[1570752000000,0.1381],[1571011200000,0.1396],[1571097600000,0.1378],[1571184000000,0.1366],[1571270400000,0.1359],[1571356800000,0.1341],[1571616000000,0.1331],[1571702400000,0.1342],[1571788800000,0.1333],[1571875200000,0.1331],[1571961600000,0.1338],[1572220800000,0.1352],[1572307200000,0.1331],[1572393600000,0.1311],[1572480000000,0.129],[1572566400000,0.1301],[1572825600000,0.1297],[1572912000000,0.1295],[1572998400000,0.1281],[1573084800000,0.1283],[1573171200000,0.1276],[1573430400000,0.1244],[1573516800000,0.1245],[1573603200000,0.1235],[1573689600000,0.1237],[1573776000000,0.1219],[1574035200000,0.1225],[1574121600000,0.1243],[1574208000000,0.1232],[1574294400000,0.1229],[1574380800000,0.1219],[1574640000000,0.1214],[1574726400000,0.1211],[1574812800000,0.1206],[1574899200000,0.1201],[1574985600000,0.12],[1575244800000,0.1201],[1575331200000,0.1206],[1575417600000,0.1204],[1575504000000,0.1214],[1575590400000,0.1219],[1575849600000,0.1219],[1575936000000,0.1222],[1576022400000,0.1216],[1576108800000,0.1211],[1576195200000,0.1223],[1576454400000,0.1241],[1576540800000,0.1254],[1576627200000,0.1252],[1576713600000,0.1255],[1576800000000,0.124],[1577059200000,0.1209],[1577145600000,0.1227],[1577232000000,0.1227],[1577318400000,0.1233],[1577404800000,0.1219],[1577664000000,0.1225],[1577750400000,0.1228],[1577923200000,0.1246],[1578009600000,0.1249],[1578268800000,0.1258],[1578355200000,0.1267],[1578441600000,0.1245],[1578528000000,0.1255],[1578614400000,0.1251],[1578873600000,0.1264],[1578960000000,0.1259],[1579046400000,0.1248],[1579132800000,0.1237],[1579219200000,0.1234],[1579478400000,0.1242],[1579564800000,0.1224],[1579651200000,0.1221],[1579737600000,0.1176],[1580688000000,0.1115],[1580774400000,0.1178],[1580860800000,0.1206],[1580947200000,0.1229],[1581033600000,0.1235],[1581292800000,0.1253],[1581379200000,0.1245],[1581465600000,0.1264],[1581552000000,0.125],[1581638400000,0.1251],[1581897600000,0.1281],[1581984000000,0.1303],[1582070400000,0.1288],[1582156800000,0.1308],[1582243200000,0.1311],[1582502400000,0.132],[1582588800000,0.1317],[1582675200000,0.1293],[1582761600000,0.1293],[1582848000000,0.121],[1583107200000,0.1261],[1583193600000,0.127],[1583280000000,0.1281],[1583452800000,0.1281],[1583712000000,0.1236],[1583798400000,0.1264],[1583884800000,0.1254],[1583971200000,0.1225],[1584057600000,0.1205],[1584316800000,0.1163],[1584403200000,0.1158],[1584489600000,0.1136],[1584576000000,0.1146],[1584662400000,0.1159],[1584921600000,0.1114],[1585008000000,0.1139],[1585094400000,0.1159],[1585180800000,0.1144],[1585267200000,0.1134],[1585526400000,0.1105],[1585612800000,0.1101],[1585699200000,0.109],[1585785600000,0.1108],[1585872000000,0.1094],[1586217600000,0.1123],[1586304000000,0.1127],[1586390400000,0.1133],[1586476800000,0.1106],[1586736000000,0.1092],[1586822400000,0.1116],[1586908800000,0.1105],[1586995200000,0.1106],[1587081600000,0.1107],[1587340800000,0.1114],[1587427200000,0.1106],[1587513600000,0.111],[1587600000000,0.1102],[1587686400000,0.108],[1587945600000,0.1069],[1588032000000,0.1043],[1588118400000,0.1039],[1588204800000,0.1059],[1588723200000,0.1076],[1588809600000,0.1072],[1588896000000,0.1081],[1589155200000,0.1078],[1589241600000,0.1075],[1589328000000,0.1076],[1589414400000,0.1065],[1589500800000,0.1064],[1589760000000,0.1055],[1589846400000,0.1062],[1589932800000,0.1052],[1590019200000,0.103],[1590105600000,0.101],[1590364800000,0.1003],[1590451200000,0.102],[1590537600000,0.1015],[1590624000000,0.1007],[1590710400000,0.1007],[1590969600000,0.1031],[1591056000000,0.1034],[1591142400000,0.103],[1591228800000,0.1032],[1591315200000,0.1029],[1591574400000,0.1025],[1591660800000,0.1026],[1591747200000,0.1023],[1591833600000,0.1017],[1591920000000,0.1014],[1592179200000,0.1008],[1592265600000,0.1023],[1592352000000,0.1024],[1592438400000,0.1019],[1592524800000,0.1022],[1592784000000,0.1021],[1592870400000,0.1016],[1592956800000,0.1012],[1593388800000,0.1007],[1593475200000,0.102],[1593561600000,0.1024],[1593648000000,0.1031],[1593734400000,0.1039],[1593993600000,0.1079],[1594080000000,0.1089],[1594166400000,0.1106],[1594252800000,0.1129],[1594339200000,0.1111],[1594598400000,0.1143],[1594684800000,0.1132],[1594771200000,0.1096],[1594857600000,0.1042],[1594944000000,0.1039],[1595203200000,0.1076],[1595289600000,0.1077],[1595376000000,0.1077],[1595462400000,0.1072],[1595548800000,0.1024],[1595808000000,0.1021],[1595894400000,0.1032],[1595980800000,0.1051],[1596067200000,0.1045],[1596153600000,0.1052],[1596412800000,0.1075],[1596499200000,0.1068],[1596585600000,0.1074],[1596672000000,0.1069],[1596758400000,0.1053],[1597017600000,0.1063],[1597104000000,0.1042],[1597190400000,0.1033],[1597276800000,0.1037],[1597363200000,0.1042],[1597622400000,0.1059],[1597708800000,0.1064],[1597795200000,0.1047],[1597881600000,0.103],[1597968000000,0.1035],[1598227200000,0.104],[1598313600000,0.1036],[1598400000000,0.1014],[1598486400000,0.1024],[1598572800000,0.1034],[1598832000000,0.1032],[1598918400000,0.1033],[1599004800000,0.1033],[1599091200000,0.102],[1599177600000,0.1018],[1599436800000,0.1002],[1599523200000,0.1013],[1599609600000,0.0977],[1599696000000,0.0931],[1599782400000,0.0946],[1600041600000,0.0956],[1600128000000,0.0956],[1600214400000,0.0944],[1600300800000,0.0944],[1600387200000,0.0955],[1600646400000,0.0951],[1600732800000,0.0935],[1600819200000,0.0937],[1600905600000,0.091],[1600992000000,0.0904],[1601251200000,0.089],[1601337600000,0.0897],[1601424000000,0.0893],[1602201600000,0.0917],[1602460800000,0.0941],[1602547200000,0.0942],[1602633600000,0.0934],[1602720000000,0.0923],[1602806400000,0.0919],[1603065600000,0.0912],[1603152000000,0.0917],[1603238400000,0.0907],[1603324800000,0.0901],[1603411200000,0.0887],[1603670400000,0.0887],[1603756800000,0.0886],[1603843200000,0.0884],[1603929600000,0.0882],[1604016000000,0.0856],[1604275200000,0.0858],[1604361600000,0.0882],[1604448000000,0.088]],\"color\":\"#E2D269\"},{\"name\":\"5\\u5206\\u4f4d\\u6570\",\"yAxis\":0,\"data\":[[1476144000000,1.0],[1476230400000,0.9975],[1476316800000,0.9958],[1476403200000,0.9921],[1476662400000,0.978],[1476748800000,0.9934],[1476835200000,0.9906],[1476921600000,0.9884],[1477008000000,0.98],[1477267200000,0.9847],[1477353600000,0.987],[1477440000000,0.9812],[1477526400000,0.9763],[1477612800000,0.964],[1477872000000,0.959],[1477958400000,0.9665],[1478044800000,0.959],[1478131200000,0.9635],[1478217600000,0.9593],[1478476800000,0.9571],[1478563200000,0.9579],[1478649600000,0.9484],[1478736000000,0.9617],[1478822400000,0.9604],[1479081600000,0.9601],[1479168000000,0.9608],[1479254400000,0.9566],[1479340800000,0.9494],[1479427200000,0.9404],[1479686400000,0.9429],[1479772800000,0.9492],[1479859200000,0.9394],[1479945600000,0.9279],[1480032000000,0.9265],[1480291200000,0.9227],[1480377600000,0.906],[1480464000000,0.9002],[1480550400000,0.9015],[1480636800000,0.8834],[1480896000000,0.8765],[1480982400000,0.8751],[1481068800000,0.8838],[1481155200000,0.8756],[1481241600000,0.868],[1481500800000,0.8292],[1481587200000,0.8355],[1481673600000,0.8247],[1481760000000,0.8305],[1481846400000,0.8347],[1482105600000,0.8309],[1482192000000,0.8281],[1482278400000,0.8337],[1482364800000,0.83],[1482451200000,0.8145],[1482710400000,0.8153],[1482796800000,0.8136],[1482883200000,0.8095],[1482969600000,0.8057],[1483056000000,0.8057],[1483401600000,0.8121],[1483488000000,0.8202],[1483574400000,0.8183],[1483660800000,0.8048],[1483920000000,0.8086],[1484006400000,0.8017],[1484092800000,0.788],[1484179200000,0.7774],[1484265600000,0.7616],[1484524800000,0.7277],[1484611200000,0.7368],[1484697600000,0.7315],[1484784000000,0.7263],[1484870400000,0.7356],[1485129600000,0.7399],[1485216000000,0.7343],[1485302400000,0.7355],[1485388800000,0.7393],[1486080000000,0.7349],[1486339200000,0.7423],[1486425600000,0.7399],[1486512000000,0.7431],[1486598400000,0.7469],[1486684800000,0.7407],[1486944000000,0.7439],[1487030400000,0.7414],[1487116800000,0.733],[1487203200000,0.7349],[1487289600000,0.7233],[1487548800000,0.7239],[1487635200000,0.7272],[1487721600000,0.7279],[1487808000000,0.7242],[1487894400000,0.7237],[1488153600000,0.7168],[1488240000000,0.7193],[1488326400000,0.7169],[1488412800000,0.7117],[1488499200000,0.7113],[1488758400000,0.7169],[1488844800000,0.7185],[1488931200000,0.7156],[1489017600000,0.7073],[1489104000000,0.7062],[1489363200000,0.711],[1489449600000,0.7079],[1489536000000,0.7044],[1489622400000,0.7095],[1489708800000,0.7019],[1489968000000,0.7036],[1490054400000,0.7025],[1490140800000,0.6958],[1490227200000,0.6946],[1490313600000,0.6949],[1490572800000,0.6912],[1490659200000,0.6855],[1490745600000,0.6756],[1490832000000,0.6558],[1490918400000,0.6523],[1491350400000,0.6604],[1491436800000,0.6603],[1491523200000,0.6586],[1491782400000,0.6465],[1491868800000,0.6503],[1491955200000,0.6414],[1492041600000,0.6401],[1492128000000,0.6291],[1492387200000,0.6148],[1492473600000,0.607],[1492560000000,0.5999],[1492646400000,0.5969],[1492732800000,0.5931],[1492992000000,0.5754],[1493078400000,0.577],[1493164800000,0.5779],[1493251200000,0.5805],[1493337600000,0.5823],[1493683200000,0.5813],[1493769600000,0.5793],[1493856000000,0.5753],[1493942400000,0.5657],[1494201600000,0.553],[1494288000000,0.556],[1494374400000,0.5459],[1494460800000,0.5416],[1494547200000,0.5397],[1494806400000,0.54],[1494892800000,0.5514],[1494979200000,0.5524],[1495065600000,0.5467],[1495152000000,0.5442],[1495411200000,0.5295],[1495497600000,0.5121],[1495584000000,0.513],[1495670400000,0.5152],[1495756800000,0.5157],[1496188800000,0.5126],[1496275200000,0.5],[1496361600000,0.5053],[1496620800000,0.5084],[1496707200000,0.5091],[1496793600000,0.5195],[1496880000000,0.5185],[1496966400000,0.5177],[1497225600000,0.5086],[1497312000000,0.5134],[1497398400000,0.5138],[1497484800000,0.5172],[1497571200000,0.5146],[1497830400000,0.5168],[1497916800000,0.5157],[1498003200000,0.5162],[1498089600000,0.5058],[1498176000000,0.5039],[1498435200000,0.5089],[1498521600000,0.5088],[1498608000000,0.5031],[1498694400000,0.5036],[1498780800000,0.5035],[1499040000000,0.5076],[1499126400000,0.5052],[1499212800000,0.5086],[1499299200000,0.5089],[1499385600000,0.5108],[1499644800000,0.5076],[1499731200000,0.498],[1499817600000,0.495],[1499904000000,0.4931],[1499990400000,0.488],[1500249600000,0.4606],[1500336000000,0.4643],[1500422400000,0.4711],[1500508800000,0.4709],[1500595200000,0.469],[1500854400000,0.4712],[1500940800000,0.4682],[1501027200000,0.4665],[1501113600000,0.4747],[1501200000000,0.4732],[1501459200000,0.4754],[1501545600000,0.4752],[1501632000000,0.4685],[1501718400000,0.4699],[1501804800000,0.4648],[1502064000000,0.4678],[1502150400000,0.4685],[1502236800000,0.4688],[1502323200000,0.463],[1502409600000,0.4559],[1502668800000,0.464],[1502755200000,0.4655],[1502841600000,0.4656],[1502928000000,0.468],[1503014400000,0.4633],[1503273600000,0.4654],[1503360000000,0.4618],[1503446400000,0.4591],[1503532800000,0.4533],[1503619200000,0.458],[1503878400000,0.4636],[1503964800000,0.4624],[1504051200000,0.462],[1504137600000,0.4625],[1504224000000,0.4635],[1504483200000,0.4644],[1504569600000,0.4629],[1504656000000,0.4629],[1504742400000,0.4611],[1504828800000,0.4607],[1505088000000,0.4627],[1505174400000,0.4598],[1505260800000,0.4605],[1505347200000,0.459],[1505433600000,0.4563],[1505692800000,0.4573],[1505779200000,0.4544],[1505865600000,0.4576],[1505952000000,0.4526],[1506038400000,0.4499],[1506297600000,0.4429],[1506384000000,0.4388],[1506470400000,0.4395],[1506556800000,0.4359],[1506643200000,0.4389],[1507507200000,0.4424],[1507593600000,0.446],[1507680000000,0.4442],[1507766400000,0.4413],[1507852800000,0.4409],[1508112000000,0.4304],[1508198400000,0.4288],[1508284800000,0.4233],[1508371200000,0.4161],[1508457600000,0.4179],[1508716800000,0.4181],[1508803200000,0.4157],[1508889600000,0.4183],[1508976000000,0.4194],[1509062400000,0.416],[1509321600000,0.4022],[1509408000000,0.4047],[1509494400000,0.405],[1509580800000,0.4015],[1509667200000,0.3969],[1509926400000,0.4002],[1510012800000,0.4011],[1510099200000,0.4016],[1510185600000,0.4024],[1510272000000,0.4021],[1510531200000,0.4001],[1510617600000,0.3957],[1510704000000,0.39],[1510790400000,0.3864],[1510876800000,0.3725],[1511136000000,0.3728],[1511222400000,0.3711],[1511308800000,0.37],[1511395200000,0.3618],[1511481600000,0.3627],[1511740800000,0.3572],[1511827200000,0.3614],[1511913600000,0.3601],[1512000000000,0.3575],[1512086400000,0.3602],[1512345600000,0.3545],[1512432000000,0.3422],[1512518400000,0.3441],[1512604800000,0.3435],[1512691200000,0.3472],[1512950400000,0.3507],[1513036800000,0.3451],[1513123200000,0.3467],[1513209600000,0.3464],[1513296000000,0.345],[1513555200000,0.3413],[1513641600000,0.3427],[1513728000000,0.3373],[1513814400000,0.3359],[1513900800000,0.3344],[1514160000000,0.3293],[1514246400000,0.3327],[1514332800000,0.3301],[1514419200000,0.3309],[1514505600000,0.3319],[1514851200000,0.3341],[1514937600000,0.336],[1515024000000,0.335],[1515110400000,0.3335],[1515369600000,0.3328],[1515456000000,0.3317],[1515542400000,0.3271],[1515628800000,0.3285],[1515715200000,0.3253],[1515974400000,0.3166],[1516060800000,0.3191],[1516147200000,0.3181],[1516233600000,0.3176],[1516320000000,0.3158],[1516579200000,0.3164],[1516665600000,0.3151],[1516752000000,0.3166],[1516838400000,0.3153],[1516924800000,0.3135],[1517184000000,0.309],[1517270400000,0.3079],[1517356800000,0.3008],[1517443200000,0.2887],[1517529600000,0.287],[1517788800000,0.2843],[1517875200000,0.2683],[1517961600000,0.2698],[1518048000000,0.2717],[1518134400000,0.2631],[1518393600000,0.2697],[1518480000000,0.2697],[1518566400000,0.2691],[1519257600000,0.2726],[1519344000000,0.2733],[1519603200000,0.2787],[1519689600000,0.2783],[1519776000000,0.2774],[1519862400000,0.2811],[1519948800000,0.2783],[1520208000000,0.28],[1520294400000,0.2821],[1520380800000,0.2793],[1520467200000,0.2817],[1520553600000,0.2843],[1520812800000,0.2882],[1520899200000,0.2847],[1520985600000,0.2812],[1521072000000,0.2778],[1521158400000,0.2761],[1521417600000,0.2765],[1521504000000,0.2768],[1521590400000,0.2744],[1521676800000,0.2732],[1521763200000,0.2592],[1522022400000,0.2612],[1522108800000,0.267],[1522195200000,0.2638],[1522281600000,0.2655],[1522368000000,0.2693],[1522627200000,0.2701],[1522713600000,0.2672],[1522800000000,0.2647],[1523232000000,0.2645],[1523318400000,0.2629],[1523404800000,0.2642],[1523491200000,0.2623],[1523577600000,0.2607],[1523836800000,0.2573],[1523923200000,0.2496],[1524009600000,0.252],[1524096000000,0.2522],[1524182400000,0.245],[1524441600000,0.2428],[1524528000000,0.2469],[1524614400000,0.2479],[1524700800000,0.2419],[1524787200000,0.2417],[1525219200000,0.2415],[1525305600000,0.2433],[1525392000000,0.2426],[1525651200000,0.247],[1525737600000,0.2482],[1525824000000,0.2477],[1525910400000,0.248],[1525996800000,0.2439],[1526256000000,0.2407],[1526342400000,0.2415],[1526428800000,0.2398],[1526515200000,0.2392],[1526601600000,0.2398],[1526860800000,0.2424],[1526947200000,0.244],[1527033600000,0.2407],[1527120000000,0.2394],[1527206400000,0.237],[1527465600000,0.2351],[1527552000000,0.2308],[1527638400000,0.2209],[1527724800000,0.2245],[1527811200000,0.2225],[1528070400000,0.2215],[1528156800000,0.2245],[1528243200000,0.2241],[1528329600000,0.2224],[1528416000000,0.2189],[1528675200000,0.2166],[1528761600000,0.2169],[1528848000000,0.2123],[1528934400000,0.2113],[1529020800000,0.2063],[1529366400000,0.1934],[1529452800000,0.1962],[1529539200000,0.1905],[1529625600000,0.1939],[1529884800000,0.1927],[1529971200000,0.1942],[1530057600000,0.1924],[1530144000000,0.1899],[1530230400000,0.1949],[1530489600000,0.1917],[1530576000000,0.1945],[1530662400000,0.1902],[1530748800000,0.1835],[1530835200000,0.1841],[1531094400000,0.1875],[1531180800000,0.189],[1531267200000,0.1841],[1531353600000,0.1881],[1531440000000,0.1882],[1531699200000,0.1877],[1531785600000,0.1877],[1531872000000,0.1862],[1531958400000,0.183],[1532044800000,0.1843],[1532304000000,0.1851],[1532390400000,0.1867],[1532476800000,0.1859],[1532563200000,0.1826],[1532649600000,0.1812],[1532908800000,0.1785],[1532995200000,0.1774],[1533081600000,0.1735],[1533168000000,0.168],[1533254400000,0.1652],[1533513600000,0.1622],[1533600000000,0.1664],[1533686400000,0.1636],[1533772800000,0.1669],[1533859200000,0.1674],[1534118400000,0.1674],[1534204800000,0.1661],[1534291200000,0.1626],[1534377600000,0.1604],[1534464000000,0.157],[1534723200000,0.1575],[1534809600000,0.1585],[1534896000000,0.1562],[1534982400000,0.1569],[1535068800000,0.156],[1535328000000,0.1584],[1535414400000,0.158],[1535500800000,0.1564],[1535587200000,0.1535],[1535673600000,0.151],[1535932800000,0.1501],[1536019200000,0.1512],[1536105600000,0.149],[1536192000000,0.1482],[1536278400000,0.148],[1536537600000,0.1455],[1536624000000,0.1452],[1536710400000,0.145],[1536796800000,0.1459],[1536883200000,0.1436],[1537142400000,0.1402],[1537228800000,0.1424],[1537315200000,0.1434],[1537401600000,0.1427],[1537488000000,0.1438],[1537833600000,0.1431],[1537920000000,0.1431],[1538006400000,0.1396],[1538092800000,0.1404],[1538956800000,0.1358],[1539043200000,0.1366],[1539129600000,0.1365],[1539216000000,0.1281],[1539302400000,0.1274],[1539561600000,0.1255],[1539648000000,0.1232],[1539734400000,0.1242],[1539820800000,0.1207],[1539907200000,0.1231],[1540166400000,0.1286],[1540252800000,0.1269],[1540339200000,0.1265],[1540425600000,0.1254],[1540512000000,0.1257],[1540771200000,0.1235],[1540857600000,0.1247],[1540944000000,0.1261],[1541030400000,0.1265],[1541116800000,0.1291],[1541376000000,0.1299],[1541462400000,0.1289],[1541548800000,0.1275],[1541635200000,0.1266],[1541721600000,0.1259],[1541980800000,0.1289],[1542067200000,0.1305],[1542153600000,0.1301],[1542240000000,0.1325],[1542326400000,0.1339],[1542585600000,0.1336],[1542672000000,0.1292],[1542758400000,0.1298],[1542844800000,0.1293],[1542931200000,0.1239],[1543190400000,0.123],[1543276800000,0.1235],[1543363200000,0.1247],[1543449600000,0.1215],[1543536000000,0.1218],[1543795200000,0.1257],[1543881600000,0.1266],[1543968000000,0.1256],[1544054400000,0.1229],[1544140800000,0.1227],[1544400000000,0.121],[1544486400000,0.1216],[1544572800000,0.1215],[1544659200000,0.1218],[1544745600000,0.1182],[1545004800000,0.1181],[1545091200000,0.1168],[1545177600000,0.1152],[1545264000000,0.1155],[1545350400000,0.1146],[1545609600000,0.1152],[1545696000000,0.1137],[1545782400000,0.1132],[1545868800000,0.1108],[1545955200000,0.1101],[1546387200000,0.1095],[1546473600000,0.1087],[1546560000000,0.1114],[1546819200000,0.113],[1546905600000,0.1127],[1546992000000,0.1125],[1547078400000,0.1119],[1547164800000,0.1123],[1547424000000,0.1113],[1547510400000,0.1123],[1547596800000,0.1117],[1547683200000,0.1102],[1547769600000,0.1106],[1548028800000,0.1109],[1548115200000,0.1098],[1548201600000,0.1096],[1548288000000,0.1095],[1548374400000,0.1084],[1548633600000,0.1071],[1548720000000,0.1047],[1548806400000,0.1027],[1548892800000,0.1016],[1548979200000,0.1042],[1549843200000,0.1065],[1549929600000,0.1074],[1550016000000,0.1084],[1550102400000,0.1088],[1550188800000,0.1084],[1550448000000,0.1118],[1550534400000,0.1116],[1550620800000,0.1113],[1550707200000,0.1102],[1550793600000,0.1124],[1551052800000,0.1176],[1551139200000,0.116],[1551225600000,0.1153],[1551312000000,0.1152],[1551398400000,0.1151],[1551657600000,0.1164],[1551744000000,0.1189],[1551830400000,0.1204],[1551916800000,0.1207],[1552003200000,0.1153],[1552262400000,0.1195],[1552348800000,0.1212],[1552435200000,0.1178],[1552521600000,0.1141],[1552608000000,0.1159],[1552867200000,0.1178],[1552953600000,0.1181],[1553040000000,0.1176],[1553126400000,0.1182],[1553212800000,0.1182],[1553472000000,0.1165],[1553558400000,0.1129],[1553644800000,0.1132],[1553731200000,0.1109],[1553817600000,0.1135],[1554076800000,0.117],[1554163200000,0.1172],[1554249600000,0.1177],[1554336000000,0.1176],[1554681600000,0.1174],[1554768000000,0.1176],[1554854400000,0.1168],[1554940800000,0.1142],[1555027200000,0.1136],[1555286400000,0.112],[1555372800000,0.114],[1555459200000,0.1145],[1555545600000,0.1132],[1555632000000,0.1135],[1555891200000,0.1118],[1555977600000,0.1096],[1556064000000,0.1099],[1556150400000,0.1057],[1556236800000,0.1044],[1556496000000,0.1003],[1556582400000,0.1007],[1557100800000,0.0948],[1557187200000,0.0967],[1557273600000,0.096],[1557360000000,0.0946],[1557446400000,0.0977],[1557705600000,0.0967],[1557792000000,0.0956],[1557878400000,0.0972],[1557964800000,0.0973],[1558051200000,0.0932],[1558310400000,0.0929],[1558396800000,0.0943],[1558483200000,0.0936],[1558569600000,0.0912],[1558656000000,0.0902],[1558915200000,0.0918],[1559001600000,0.0918],[1559088000000,0.0922],[1559174400000,0.0917],[1559260800000,0.0914],[1559520000000,0.0896],[1559606400000,0.0879],[1559692800000,0.0882],[1559779200000,0.0857],[1560124800000,0.0865],[1560211200000,0.0889],[1560297600000,0.0881],[1560384000000,0.0884],[1560470400000,0.0863],[1560729600000,0.0861],[1560816000000,0.0857],[1560902400000,0.0867],[1560988800000,0.0876],[1561075200000,0.0886],[1561334400000,0.0882],[1561420800000,0.087],[1561507200000,0.0864],[1561593600000,0.0867],[1561680000000,0.085],[1561939200000,0.0869],[1562025600000,0.0866],[1562112000000,0.0857],[1562198400000,0.085],[1562284800000,0.0849],[1562544000000,0.082],[1562630400000,0.082],[1562716800000,0.0812],[1562803200000,0.0811],[1562889600000,0.081],[1563148800000,0.0814],[1563235200000,0.0815],[1563321600000,0.0814],[1563408000000,0.0798],[1563494400000,0.0799],[1563753600000,0.0773],[1563840000000,0.0781],[1563926400000,0.0789],[1564012800000,0.079],[1564099200000,0.0789],[1564358400000,0.0786],[1564444800000,0.0788],[1564531200000,0.0781],[1564617600000,0.0776],[1564704000000,0.0765],[1564963200000,0.0758],[1565049600000,0.0736],[1565136000000,0.0731],[1565222400000,0.0734],[1565308800000,0.0724],[1565568000000,0.0732],[1565654400000,0.0727],[1565740800000,0.0729],[1565827200000,0.0729],[1565913600000,0.0729],[1566172800000,0.0746],[1566259200000,0.0745],[1566345600000,0.0741],[1566432000000,0.074],[1566518400000,0.0737],[1566777600000,0.073],[1566864000000,0.074],[1566950400000,0.0739],[1567036800000,0.0737],[1567123200000,0.0724],[1567382400000,0.0738],[1567468800000,0.0741],[1567555200000,0.0744],[1567641600000,0.0748],[1567728000000,0.0748],[1567987200000,0.076],[1568073600000,0.0759],[1568160000000,0.0753],[1568246400000,0.0754],[1568592000000,0.0754],[1568678400000,0.0736],[1568764800000,0.0734],[1568851200000,0.0737],[1568937600000,0.0735],[1569196800000,0.0727],[1569283200000,0.0725],[1569369600000,0.0711],[1569456000000,0.0691],[1569542400000,0.0692],[1569801600000,0.0683],[1570492800000,0.0682],[1570579200000,0.0688],[1570665600000,0.0692],[1570752000000,0.069],[1571011200000,0.0698],[1571097600000,0.0688],[1571184000000,0.0681],[1571270400000,0.0678],[1571356800000,0.0667],[1571616000000,0.0662],[1571702400000,0.0664],[1571788800000,0.0661],[1571875200000,0.0658],[1571961600000,0.0658],[1572220800000,0.0667],[1572307200000,0.0656],[1572393600000,0.0646],[1572480000000,0.0636],[1572566400000,0.0642],[1572825600000,0.0643],[1572912000000,0.0642],[1572998400000,0.0635],[1573084800000,0.0637],[1573171200000,0.0633],[1573430400000,0.0617],[1573516800000,0.0618],[1573603200000,0.0613],[1573689600000,0.0614],[1573776000000,0.0606],[1574035200000,0.0608],[1574121600000,0.0615],[1574208000000,0.0611],[1574294400000,0.0609],[1574380800000,0.0604],[1574640000000,0.0596],[1574726400000,0.059],[1574812800000,0.0588],[1574899200000,0.0585],[1574985600000,0.0584],[1575244800000,0.0584],[1575331200000,0.0586],[1575417600000,0.0586],[1575504000000,0.059],[1575590400000,0.0592],[1575849600000,0.0594],[1575936000000,0.0596],[1576022400000,0.0594],[1576108800000,0.0591],[1576195200000,0.0596],[1576454400000,0.0604],[1576540800000,0.0609],[1576627200000,0.0607],[1576713600000,0.0607],[1576800000000,0.0602],[1577059200000,0.0586],[1577145600000,0.0593],[1577232000000,0.0593],[1577318400000,0.0596],[1577404800000,0.0589],[1577664000000,0.0587],[1577750400000,0.0588],[1577923200000,0.0599],[1578009600000,0.0599],[1578268800000,0.0601],[1578355200000,0.0606],[1578441600000,0.0597],[1578528000000,0.0605],[1578614400000,0.0602],[1578873600000,0.0605],[1578960000000,0.0604],[1579046400000,0.0597],[1579132800000,0.0593],[1579219200000,0.0591],[1579478400000,0.0594],[1579564800000,0.0589],[1579651200000,0.0587],[1579737600000,0.0567],[1580688000000,0.0534],[1580774400000,0.0556],[1580860800000,0.0568],[1580947200000,0.0578],[1581033600000,0.0582],[1581292800000,0.059],[1581379200000,0.0585],[1581465600000,0.0591],[1581552000000,0.0584],[1581638400000,0.0584],[1581897600000,0.0601],[1581984000000,0.0611],[1582070400000,0.0605],[1582156800000,0.0616],[1582243200000,0.0618],[1582502400000,0.0628],[1582588800000,0.0622],[1582675200000,0.0606],[1582761600000,0.0603],[1582848000000,0.0568],[1583107200000,0.059],[1583193600000,0.0592],[1583280000000,0.0589],[1583452800000,0.0589],[1583712000000,0.0569],[1583798400000,0.0577],[1583884800000,0.057],[1583971200000,0.0557],[1584057600000,0.0547],[1584316800000,0.0524],[1584403200000,0.0525],[1584489600000,0.0515],[1584576000000,0.0514],[1584662400000,0.052],[1584921600000,0.0501],[1585008000000,0.0509],[1585094400000,0.0518],[1585180800000,0.0514],[1585267200000,0.0511],[1585526400000,0.0496],[1585612800000,0.0493],[1585699200000,0.049],[1585785600000,0.0498],[1585872000000,0.0494],[1586217600000,0.0509],[1586304000000,0.0507],[1586390400000,0.0509],[1586476800000,0.0492],[1586736000000,0.0486],[1586822400000,0.0493],[1586908800000,0.0488],[1586995200000,0.0488],[1587081600000,0.0484],[1587340800000,0.0487],[1587427200000,0.0483],[1587513600000,0.0485],[1587600000000,0.0481],[1587686400000,0.0469],[1587945600000,0.0464],[1588032000000,0.0452],[1588118400000,0.0449],[1588204800000,0.0458],[1588723200000,0.0465],[1588809600000,0.0463],[1588896000000,0.0466],[1589155200000,0.0466],[1589241600000,0.0464],[1589328000000,0.0465],[1589414400000,0.046],[1589500800000,0.046],[1589760000000,0.0456],[1589846400000,0.0459],[1589932800000,0.0453],[1590019200000,0.0449],[1590105600000,0.0439],[1590364800000,0.0436],[1590451200000,0.0444],[1590537600000,0.044],[1590624000000,0.0437],[1590710400000,0.0438],[1590969600000,0.0448],[1591056000000,0.0447],[1591142400000,0.0446],[1591228800000,0.0445],[1591315200000,0.0442],[1591574400000,0.0439],[1591660800000,0.0439],[1591747200000,0.0435],[1591833600000,0.0432],[1591920000000,0.0431],[1592179200000,0.0428],[1592265600000,0.0435],[1592352000000,0.0436],[1592438400000,0.0435],[1592524800000,0.0435],[1592784000000,0.0435],[1592870400000,0.0432],[1592956800000,0.0429],[1593388800000,0.0425],[1593475200000,0.0429],[1593561600000,0.0432],[1593648000000,0.0437],[1593734400000,0.0439],[1593993600000,0.0455],[1594080000000,0.0462],[1594166400000,0.0467],[1594252800000,0.0476],[1594339200000,0.0474],[1594598400000,0.0487],[1594684800000,0.0481],[1594771200000,0.0462],[1594857600000,0.0439],[1594944000000,0.0438],[1595203200000,0.0453],[1595289600000,0.0453],[1595376000000,0.0455],[1595462400000,0.0451],[1595548800000,0.043],[1595808000000,0.0429],[1595894400000,0.0433],[1595980800000,0.0443],[1596067200000,0.0443],[1596153600000,0.0446],[1596412800000,0.0455],[1596499200000,0.0449],[1596585600000,0.0452],[1596672000000,0.045],[1596758400000,0.0441],[1597017600000,0.0441],[1597104000000,0.0431],[1597190400000,0.0428],[1597276800000,0.0429],[1597363200000,0.0431],[1597622400000,0.0436],[1597708800000,0.0438],[1597795200000,0.0432],[1597881600000,0.0426],[1597968000000,0.0426],[1598227200000,0.0427],[1598313600000,0.0428],[1598400000000,0.042],[1598486400000,0.0424],[1598572800000,0.0424],[1598832000000,0.0423],[1598918400000,0.0424],[1599004800000,0.0424],[1599091200000,0.042],[1599177600000,0.0419],[1599436800000,0.0415],[1599523200000,0.0415],[1599609600000,0.0403],[1599696000000,0.0381],[1599782400000,0.0385],[1600041600000,0.0388],[1600128000000,0.0389],[1600214400000,0.0385],[1600300800000,0.0386],[1600387200000,0.0389],[1600646400000,0.0389],[1600732800000,0.0383],[1600819200000,0.0385],[1600905600000,0.0375],[1600992000000,0.0371],[1601251200000,0.0366],[1601337600000,0.0366],[1601424000000,0.0365],[1602201600000,0.0374],[1602460800000,0.0384],[1602547200000,0.0386],[1602633600000,0.0383],[1602720000000,0.038],[1602806400000,0.0379],[1603065600000,0.0376],[1603152000000,0.0379],[1603238400000,0.0376],[1603324800000,0.0373],[1603411200000,0.0367],[1603670400000,0.0367],[1603756800000,0.0365],[1603843200000,0.0365],[1603929600000,0.0363],[1604016000000,0.0352],[1604275200000,0.035],[1604361600000,0.0354],[1604448000000,0.0353]],\"color\":\"#4A8E8E\"},{\"name\":\"\\u6700\\u5c0f-\\u6700\\u5927\\u5206\\u4f4d\",\"yAxis\":0,\"data\":[[1476144000000,1.0],[1476230400000,1.0],[1476316800000,1.0006],[1476403200000,1.0013],[1476662400000,1.002],[1476748800000,1.0005],[1476835200000,1.001],[1476921600000,1.0026],[1477008000000,1.0049],[1477267200000,1.0063],[1477353600000,1.0059],[1477440000000,1.0057],[1477526400000,1.0086],[1477612800000,1.0085],[1477872000000,1.0103],[1477958400000,1.0116],[1478044800000,1.0115],[1478131200000,1.0117],[1478217600000,1.0135],[1478476800000,1.0146],[1478563200000,1.0174],[1478649600000,1.0171],[1478736000000,1.0177],[1478822400000,1.0186],[1479081600000,1.0199],[1479168000000,1.0215],[1479254400000,1.0239],[1479340800000,1.0271],[1479427200000,1.0294],[1479686400000,1.0295],[1479772800000,1.0305],[1479859200000,1.0308],[1479945600000,1.035],[1480032000000,1.0368],[1480291200000,1.0389],[1480377600000,1.04],[1480464000000,1.0394],[1480550400000,1.0416],[1480636800000,1.041],[1480896000000,1.0399],[1480982400000,1.0427],[1481068800000,1.0428],[1481155200000,1.0438],[1481241600000,1.0449],[1481500800000,1.046],[1481587200000,1.0435],[1481673600000,1.0471],[1481760000000,1.0468],[1481846400000,1.05],[1482105600000,1.0509],[1482192000000,1.0511],[1482278400000,1.0512],[1482364800000,1.0521],[1482451200000,1.0544],[1482710400000,1.055],[1482796800000,1.057],[1482883200000,1.0556],[1482969600000,1.0563],[1483056000000,1.0554],[1483401600000,1.0561],[1483488000000,1.0559],[1483574400000,1.0545],[1483660800000,1.0558],[1483920000000,1.0549],[1484006400000,1.0559],[1484092800000,1.0583],[1484179200000,1.0594],[1484265600000,1.0581],[1484524800000,1.0659],[1484611200000,1.0629],[1484697600000,1.0649],[1484784000000,1.0659],[1484870400000,1.0651],[1485129600000,1.0662],[1485216000000,1.0646],[1485302400000,1.0647],[1485388800000,1.064],[1486080000000,1.0649],[1486339200000,1.0641],[1486425600000,1.0651],[1486512000000,1.0666],[1486598400000,1.0666],[1486684800000,1.0668],[1486944000000,1.0673],[1487030400000,1.0685],[1487116800000,1.0689],[1487203200000,1.0702],[1487289600000,1.0727],[1487548800000,1.0765],[1487635200000,1.0767],[1487721600000,1.0763],[1487808000000,1.078],[1487894400000,1.0808],[1488153600000,1.0809],[1488240000000,1.0802],[1488326400000,1.0819],[1488412800000,1.0817],[1488499200000,1.0817],[1488758400000,1.0842],[1488844800000,1.0827],[1488931200000,1.0824],[1489017600000,1.0832],[1489104000000,1.0836],[1489363200000,1.0842],[1489449600000,1.0847],[1489536000000,1.086],[1489622400000,1.0881],[1489708800000,1.0879],[1489968000000,1.0887],[1490054400000,1.0918],[1490140800000,1.0926],[1490227200000,1.0921],[1490313600000,1.0938],[1490572800000,1.094],[1490659200000,1.0956],[1490745600000,1.0955],[1490832000000,1.1012],[1490918400000,1.1051],[1491350400000,1.1071],[1491436800000,1.1088],[1491523200000,1.1084],[1491782400000,1.1132],[1491868800000,1.1126],[1491955200000,1.1157],[1492041600000,1.1191],[1492128000000,1.1202],[1492387200000,1.1241],[1492473600000,1.1279],[1492560000000,1.128],[1492646400000,1.127],[1492732800000,1.1266],[1492992000000,1.1276],[1493078400000,1.1287],[1493164800000,1.1291],[1493251200000,1.1316],[1493337600000,1.1319],[1493683200000,1.1303],[1493769600000,1.1311],[1493856000000,1.1318],[1493942400000,1.1323],[1494201600000,1.1315],[1494288000000,1.13],[1494374400000,1.1312],[1494460800000,1.129],[1494547200000,1.1317],[1494806400000,1.1322],[1494892800000,1.1317],[1494979200000,1.1314],[1495065600000,1.1308],[1495152000000,1.1302],[1495411200000,1.1371],[1495497600000,1.1448],[1495584000000,1.1464],[1495670400000,1.1485],[1495756800000,1.1469],[1496188800000,1.1486],[1496275200000,1.1445],[1496361600000,1.1433],[1496620800000,1.142],[1496707200000,1.1434],[1496793600000,1.1441],[1496880000000,1.1423],[1496966400000,1.1425],[1497225600000,1.1444],[1497312000000,1.1453],[1497398400000,1.14],[1497484800000,1.1418],[1497571200000,1.1425],[1497830400000,1.1432],[1497916800000,1.1439],[1498003200000,1.1426],[1498089600000,1.1445],[1498176000000,1.1459],[1498435200000,1.1476],[1498521600000,1.148],[1498608000000,1.1485],[1498694400000,1.1494],[1498780800000,1.1509],[1499040000000,1.1497],[1499126400000,1.1498],[1499212800000,1.1502],[1499299200000,1.1489],[1499385600000,1.1477],[1499644800000,1.1446],[1499731200000,1.1512],[1499817600000,1.1544],[1499904000000,1.1547],[1499990400000,1.158],[1500249600000,1.1668],[1500336000000,1.1698],[1500422400000,1.1706],[1500508800000,1.1715],[1500595200000,1.1704],[1500854400000,1.1697],[1500940800000,1.1699],[1501027200000,1.1699],[1501113600000,1.1661],[1501200000000,1.1673],[1501459200000,1.1686],[1501545600000,1.1678],[1501632000000,1.1685],[1501718400000,1.1666],[1501804800000,1.1655],[1502064000000,1.1647],[1502150400000,1.1654],[1502236800000,1.1649],[1502323200000,1.1652],[1502409600000,1.1622],[1502668800000,1.1627],[1502755200000,1.1623],[1502841600000,1.1625],[1502928000000,1.1635],[1503014400000,1.1661],[1503273600000,1.1667],[1503360000000,1.1656],[1503446400000,1.1652],[1503532800000,1.1676],[1503619200000,1.1671],[1503878400000,1.1666],[1503964800000,1.1661],[1504051200000,1.1666],[1504137600000,1.1657],[1504224000000,1.1664],[1504483200000,1.1652],[1504569600000,1.1672],[1504656000000,1.1688],[1504742400000,1.167],[1504828800000,1.1674],[1505088000000,1.1682],[1505174400000,1.1671],[1505260800000,1.1685],[1505347200000,1.1675],[1505433600000,1.1672],[1505692800000,1.1682],[1505779200000,1.1684],[1505865600000,1.1679],[1505952000000,1.1657],[1506038400000,1.1663],[1506297600000,1.1681],[1506384000000,1.1713],[1506470400000,1.1756],[1506556800000,1.1763],[1506643200000,1.1755],[1507507200000,1.1767],[1507593600000,1.1753],[1507680000000,1.1729],[1507766400000,1.1756],[1507852800000,1.1781],[1508112000000,1.1781],[1508198400000,1.1805],[1508284800000,1.1831],[1508371200000,1.1875],[1508457600000,1.1898],[1508716800000,1.1942],[1508803200000,1.1915],[1508889600000,1.1923],[1508976000000,1.1926],[1509062400000,1.1923],[1509321600000,1.1995],[1509408000000,1.2012],[1509494400000,1.201],[1509580800000,1.1962],[1509667200000,1.1984],[1509926400000,1.1988],[1510012800000,1.1994],[1510099200000,1.1999],[1510185600000,1.1999],[1510272000000,1.1995],[1510531200000,1.2022],[1510617600000,1.2032],[1510704000000,1.205],[1510790400000,1.208],[1510876800000,1.2106],[1511136000000,1.2148],[1511222400000,1.2196],[1511308800000,1.2186],[1511395200000,1.2149],[1511481600000,1.2112],[1511740800000,1.2112],[1511827200000,1.21],[1511913600000,1.2106],[1512000000000,1.2113],[1512086400000,1.2094],[1512345600000,1.2071],[1512432000000,1.2156],[1512518400000,1.2162],[1512604800000,1.2134],[1512691200000,1.2135],[1512950400000,1.2111],[1513036800000,1.2101],[1513123200000,1.21],[1513209600000,1.2101],[1513296000000,1.2092],[1513555200000,1.2105],[1513641600000,1.2098],[1513728000000,1.2123],[1513814400000,1.2177],[1513900800000,1.2184],[1514160000000,1.2192],[1514246400000,1.2156],[1514332800000,1.2156],[1514419200000,1.2142],[1514505600000,1.215],[1514851200000,1.2164],[1514937600000,1.216],[1515024000000,1.2165],[1515110400000,1.2192],[1515369600000,1.2206],[1515456000000,1.2218],[1515542400000,1.2252],[1515628800000,1.2225],[1515715200000,1.2235],[1515974400000,1.2232],[1516060800000,1.2236],[1516147200000,1.2227],[1516233600000,1.2242],[1516320000000,1.2254],[1516579200000,1.2279],[1516665600000,1.2314],[1516752000000,1.2306],[1516838400000,1.2307],[1516924800000,1.2311],[1517184000000,1.2338],[1517270400000,1.2333],[1517356800000,1.2349],[1517443200000,1.24],[1517529600000,1.2442],[1517788800000,1.2466],[1517875200000,1.2516],[1517961600000,1.2489],[1518048000000,1.2486],[1518134400000,1.2468],[1518393600000,1.2468],[1518480000000,1.2456],[1518566400000,1.2463],[1519257600000,1.2493],[1519344000000,1.2496],[1519603200000,1.2511],[1519689600000,1.2515],[1519776000000,1.2509],[1519862400000,1.2504],[1519948800000,1.2524],[1520208000000,1.2522],[1520294400000,1.2536],[1520380800000,1.2546],[1520467200000,1.2517],[1520553600000,1.2567],[1520812800000,1.2564],[1520899200000,1.2582],[1520985600000,1.2568],[1521072000000,1.2595],[1521158400000,1.2585],[1521417600000,1.2571],[1521504000000,1.2573],[1521590400000,1.2572],[1521676800000,1.2578],[1521763200000,1.2577],[1522022400000,1.262],[1522108800000,1.2613],[1522195200000,1.2635],[1522281600000,1.264],[1522368000000,1.2611],[1522627200000,1.26],[1522713600000,1.2591],[1522800000000,1.2574],[1523232000000,1.2586],[1523318400000,1.2612],[1523404800000,1.2626],[1523491200000,1.2623],[1523577600000,1.2635],[1523836800000,1.2699],[1523923200000,1.2722],[1524009600000,1.2726],[1524096000000,1.2713],[1524182400000,1.2704],[1524441600000,1.267],[1524528000000,1.2724],[1524614400000,1.2719],[1524700800000,1.2733],[1524787200000,1.2729],[1525219200000,1.2706],[1525305600000,1.2707],[1525392000000,1.2696],[1525651200000,1.2686],[1525737600000,1.2683],[1525824000000,1.268],[1525910400000,1.2709],[1525996800000,1.2734],[1526256000000,1.2792],[1526342400000,1.2843],[1526428800000,1.283],[1526515200000,1.2826],[1526601600000,1.2819],[1526860800000,1.2826],[1526947200000,1.2801],[1527033600000,1.2801],[1527120000000,1.2816],[1527206400000,1.2815],[1527465600000,1.2781],[1527552000000,1.2811],[1527638400000,1.2872],[1527724800000,1.2866],[1527811200000,1.2836],[1528070400000,1.2846],[1528156800000,1.2841],[1528243200000,1.2864],[1528329600000,1.2841],[1528416000000,1.2854],[1528675200000,1.2837],[1528761600000,1.2878],[1528848000000,1.2871],[1528934400000,1.2854],[1529020800000,1.287],[1529366400000,1.287],[1529452800000,1.2859],[1529539200000,1.2877],[1529625600000,1.2849],[1529884800000,1.2876],[1529971200000,1.2877],[1530057600000,1.2877],[1530144000000,1.2849],[1530230400000,1.2871],[1530489600000,1.2868],[1530576000000,1.285],[1530662400000,1.2794],[1530748800000,1.2856],[1530835200000,1.2837],[1531094400000,1.2897],[1531180800000,1.289],[1531267200000,1.2856],[1531353600000,1.2864],[1531440000000,1.2859],[1531699200000,1.2854],[1531785600000,1.284],[1531872000000,1.2844],[1531958400000,1.2876],[1532044800000,1.2882],[1532304000000,1.2875],[1532390400000,1.2917],[1532476800000,1.2932],[1532563200000,1.3027],[1532649600000,1.3035],[1532908800000,1.303],[1532995200000,1.3061],[1533081600000,1.3103],[1533168000000,1.3127],[1533254400000,1.3114],[1533513600000,1.3108],[1533600000000,1.3079],[1533686400000,1.3073],[1533772800000,1.3086],[1533859200000,1.3095],[1534118400000,1.307],[1534204800000,1.3096],[1534291200000,1.3093],[1534377600000,1.3082],[1534464000000,1.3061],[1534723200000,1.3063],[1534809600000,1.3098],[1534896000000,1.3088],[1534982400000,1.3088],[1535068800000,1.3085],[1535328000000,1.3127],[1535414400000,1.3138],[1535500800000,1.3152],[1535587200000,1.3164],[1535673600000,1.3203],[1535932800000,1.3241],[1536019200000,1.3248],[1536105600000,1.323],[1536192000000,1.3229],[1536278400000,1.3225],[1536537600000,1.3178],[1536624000000,1.3211],[1536710400000,1.3182],[1536796800000,1.3186],[1536883200000,1.3202],[1537142400000,1.3254],[1537228800000,1.3232],[1537315200000,1.3259],[1537401600000,1.3256],[1537488000000,1.3273],[1537833600000,1.3263],[1537920000000,1.3268],[1538006400000,1.3304],[1538092800000,1.3319],[1538956800000,1.3319],[1539043200000,1.3286],[1539129600000,1.3294],[1539216000000,1.3209],[1539302400000,1.3269],[1539561600000,1.3266],[1539648000000,1.3255],[1539734400000,1.3217],[1539820800000,1.3164],[1539907200000,1.319],[1540166400000,1.3221],[1540252800000,1.3167],[1540339200000,1.3172],[1540425600000,1.3164],[1540512000000,1.3103],[1540771200000,1.3103],[1540857600000,1.3082],[1540944000000,1.3082],[1541030400000,1.308],[1541116800000,1.3125],[1541376000000,1.3114],[1541462400000,1.3119],[1541548800000,1.3163],[1541635200000,1.319],[1541721600000,1.3202],[1541980800000,1.3208],[1542067200000,1.3231],[1542153600000,1.3232],[1542240000000,1.3228],[1542326400000,1.3193],[1542585600000,1.3205],[1542672000000,1.3239],[1542758400000,1.3232],[1542844800000,1.3235],[1542931200000,1.3197],[1543190400000,1.3183],[1543276800000,1.3187],[1543363200000,1.3185],[1543449600000,1.3162],[1543536000000,1.3183],[1543795200000,1.3136],[1543881600000,1.312],[1543968000000,1.3094],[1544054400000,1.3102],[1544140800000,1.31],[1544400000000,1.3123],[1544486400000,1.3127],[1544572800000,1.3139],[1544659200000,1.318],[1544745600000,1.3205],[1545004800000,1.3193],[1545091200000,1.3209],[1545177600000,1.3199],[1545264000000,1.3209],[1545350400000,1.3214],[1545609600000,1.3235],[1545696000000,1.3223],[1545782400000,1.3228],[1545868800000,1.3263],[1545955200000,1.331],[1546387200000,1.3292],[1546473600000,1.3288],[1546560000000,1.3258],[1546819200000,1.328],[1546905600000,1.3275],[1546992000000,1.3287],[1547078400000,1.3294],[1547164800000,1.3301],[1547424000000,1.332],[1547510400000,1.3307],[1547596800000,1.3316],[1547683200000,1.3333],[1547769600000,1.3321],[1548028800000,1.3327],[1548115200000,1.3316],[1548201600000,1.3326],[1548288000000,1.334],[1548374400000,1.3331],[1548633600000,1.3358],[1548720000000,1.3406],[1548806400000,1.3434],[1548892800000,1.3461],[1548979200000,1.3447],[1549843200000,1.3461],[1549929600000,1.3485],[1550016000000,1.3543],[1550102400000,1.3543],[1550188800000,1.3546],[1550448000000,1.3539],[1550534400000,1.3549],[1550620800000,1.3566],[1550707200000,1.3601],[1550793600000,1.3564],[1551052800000,1.3569],[1551139200000,1.3656],[1551225600000,1.3644],[1551312000000,1.3674],[1551398400000,1.3715],[1551657600000,1.3744],[1551744000000,1.3713],[1551830400000,1.3761],[1551916800000,1.3789],[1552003200000,1.3769],[1552262400000,1.376],[1552348800000,1.3762],[1552435200000,1.3803],[1552521600000,1.3798],[1552608000000,1.3756],[1552867200000,1.3792],[1552953600000,1.3775],[1553040000000,1.378],[1553126400000,1.3811],[1553212800000,1.3795],[1553472000000,1.3826],[1553558400000,1.3876],[1553644800000,1.3869],[1553731200000,1.3908],[1553817600000,1.3933],[1554076800000,1.3948],[1554163200000,1.3937],[1554249600000,1.3941],[1554336000000,1.3966],[1554681600000,1.3879],[1554768000000,1.3879],[1554854400000,1.3877],[1554940800000,1.3893],[1555027200000,1.391],[1555286400000,1.3935],[1555372800000,1.3912],[1555459200000,1.3902],[1555545600000,1.3915],[1555632000000,1.3915],[1555891200000,1.39],[1555977600000,1.3914],[1556064000000,1.394],[1556150400000,1.3942],[1556236800000,1.3938],[1556496000000,1.3987],[1556582400000,1.401],[1557100800000,1.3964],[1557187200000,1.3931],[1557273600000,1.3949],[1557360000000,1.3976],[1557446400000,1.3973],[1557705600000,1.3977],[1557792000000,1.3987],[1557878400000,1.4015],[1557964800000,1.4021],[1558051200000,1.4053],[1558310400000,1.4009],[1558396800000,1.3988],[1558483200000,1.3999],[1558569600000,1.4008],[1558656000000,1.404],[1558915200000,1.4074],[1559001600000,1.4061],[1559088000000,1.4029],[1559174400000,1.399],[1559260800000,1.4016],[1559520000000,1.406],[1559606400000,1.4079],[1559692800000,1.4011],[1559779200000,1.4061],[1560124800000,1.4059],[1560211200000,1.41],[1560297600000,1.4107],[1560384000000,1.4113],[1560470400000,1.4077],[1560729600000,1.4091],[1560816000000,1.4096],[1560902400000,1.4074],[1560988800000,1.4122],[1561075200000,1.4148],[1561334400000,1.4166],[1561420800000,1.4192],[1561507200000,1.4219],[1561593600000,1.422],[1561680000000,1.4247],[1561939200000,1.4255],[1562025600000,1.4253],[1562112000000,1.4246],[1562198400000,1.4258],[1562284800000,1.4286],[1562544000000,1.4299],[1562630400000,1.4317],[1562716800000,1.4329],[1562803200000,1.4334],[1562889600000,1.4349],[1563148800000,1.4375],[1563235200000,1.4367],[1563321600000,1.4358],[1563408000000,1.4352],[1563494400000,1.4364],[1563753600000,1.4429],[1563840000000,1.4421],[1563926400000,1.4417],[1564012800000,1.4401],[1564099200000,1.4405],[1564358400000,1.444],[1564444800000,1.4452],[1564531200000,1.4452],[1564617600000,1.4457],[1564704000000,1.446],[1564963200000,1.4449],[1565049600000,1.4476],[1565136000000,1.4464],[1565222400000,1.4455],[1565308800000,1.4451],[1565568000000,1.4492],[1565654400000,1.449],[1565740800000,1.4507],[1565827200000,1.4496],[1565913600000,1.4518],[1566172800000,1.4562],[1566259200000,1.458],[1566345600000,1.4583],[1566432000000,1.4592],[1566518400000,1.459],[1566777600000,1.458],[1566864000000,1.4562],[1566950400000,1.4523],[1567036800000,1.4528],[1567123200000,1.4518],[1567382400000,1.4527],[1567468800000,1.4535],[1567555200000,1.4526],[1567641600000,1.4538],[1567728000000,1.452],[1567987200000,1.4549],[1568073600000,1.4561],[1568160000000,1.4568],[1568246400000,1.4591],[1568592000000,1.4587],[1568678400000,1.4571],[1568764800000,1.4601],[1568851200000,1.4634],[1568937600000,1.464],[1569196800000,1.4639],[1569283200000,1.466],[1569369600000,1.4637],[1569456000000,1.4623],[1569542400000,1.4652],[1569801600000,1.4666],[1570492800000,1.4675],[1570579200000,1.4676],[1570665600000,1.4721],[1570752000000,1.4746],[1571011200000,1.475],[1571097600000,1.4765],[1571184000000,1.4793],[1571270400000,1.4809],[1571356800000,1.481],[1571616000000,1.4821],[1571702400000,1.4875],[1571788800000,1.4868],[1571875200000,1.4896],[1571961600000,1.4924],[1572220800000,1.4908],[1572307200000,1.49],[1572393600000,1.4924],[1572480000000,1.4964],[1572566400000,1.4954],[1572825600000,1.4984],[1572912000000,1.4989],[1572998400000,1.4996],[1573084800000,1.5016],[1573171200000,1.5034],[1573430400000,1.5007],[1573516800000,1.5018],[1573603200000,1.5067],[1573689600000,1.5073],[1573776000000,1.5041],[1574035200000,1.5052],[1574121600000,1.509],[1574208000000,1.5056],[1574294400000,1.5062],[1574380800000,1.5011],[1574640000000,1.5075],[1574726400000,1.5132],[1574812800000,1.5147],[1574899200000,1.5153],[1574985600000,1.5146],[1575244800000,1.5142],[1575331200000,1.5128],[1575417600000,1.5117],[1575504000000,1.5122],[1575590400000,1.5114],[1575849600000,1.5106],[1575936000000,1.5077],[1576022400000,1.5074],[1576108800000,1.5078],[1576195200000,1.5091],[1576454400000,1.5095],[1576540800000,1.5109],[1576627200000,1.5146],[1576713600000,1.5168],[1576800000000,1.5139],[1577059200000,1.5181],[1577145600000,1.5192],[1577232000000,1.521],[1577318400000,1.5231],[1577404800000,1.528],[1577664000000,1.532],[1577750400000,1.5335],[1577923200000,1.5333],[1578009600000,1.5333],[1578268800000,1.5313],[1578355200000,1.5334],[1578441600000,1.5331],[1578528000000,1.5317],[1578614400000,1.5306],[1578873600000,1.5352],[1578960000000,1.5334],[1579046400000,1.5374],[1579132800000,1.5436],[1579219200000,1.543],[1579478400000,1.5458],[1579564800000,1.5393],[1579651200000,1.5435],[1579737600000,1.54],[1580688000000,1.5497],[1580774400000,1.5395],[1580860800000,1.5398],[1580947200000,1.5419],[1581033600000,1.5417],[1581292800000,1.5458],[1581379200000,1.5448],[1581465600000,1.5466],[1581552000000,1.5446],[1581638400000,1.5419],[1581897600000,1.5394],[1581984000000,1.5321],[1582070400000,1.5304],[1582156800000,1.528],[1582243200000,1.5304],[1582502400000,1.523],[1582588800000,1.522],[1582675200000,1.5161],[1582761600000,1.5201],[1582848000000,1.5332],[1583107200000,1.5274],[1583193600000,1.5305],[1583280000000,1.5395],[1583452800000,1.5395],[1583712000000,1.5411],[1583798400000,1.5392],[1583884800000,1.535],[1583971200000,1.5345],[1584057600000,1.5356],[1584316800000,1.5355],[1584403200000,1.5262],[1584489600000,1.5289],[1584576000000,1.5308],[1584662400000,1.5296],[1584921600000,1.5219],[1585008000000,1.5205],[1585094400000,1.5215],[1585180800000,1.5128],[1585267200000,1.5138],[1585526400000,1.513],[1585612800000,1.5147],[1585699200000,1.5131],[1585785600000,1.519],[1585872000000,1.517],[1586217600000,1.5154],[1586304000000,1.5164],[1586390400000,1.5184],[1586476800000,1.526],[1586736000000,1.5292],[1586822400000,1.5269],[1586908800000,1.5259],[1586995200000,1.5255],[1587081600000,1.5295],[1587340800000,1.53],[1587427200000,1.5293],[1587513600000,1.5325],[1587600000000,1.5326],[1587686400000,1.5384],[1587945600000,1.5423],[1588032000000,1.5485],[1588118400000,1.5524],[1588204800000,1.551],[1588723200000,1.5517],[1588809600000,1.5517],[1588896000000,1.5516],[1589155200000,1.5519],[1589241600000,1.5541],[1589328000000,1.5567],[1589414400000,1.5564],[1589500800000,1.556],[1589760000000,1.56],[1589846400000,1.5625],[1589932800000,1.5643],[1590019200000,1.5593],[1590105600000,1.5631],[1590364800000,1.5705],[1590451200000,1.5724],[1590537600000,1.5763],[1590624000000,1.5774],[1590710400000,1.5803],[1590969600000,1.5846],[1591056000000,1.5869],[1591142400000,1.5869],[1591228800000,1.591],[1591315200000,1.5942],[1591574400000,1.5942],[1591660800000,1.5975],[1591747200000,1.6047],[1591833600000,1.6048],[1591920000000,1.6057],[1592179200000,1.6081],[1592265600000,1.6072],[1592352000000,1.6059],[1592438400000,1.607],[1592524800000,1.6125],[1592784000000,1.6121],[1592870400000,1.6149],[1592956800000,1.617],[1593388800000,1.617],[1593475200000,1.6204],[1593561600000,1.617],[1593648000000,1.6207],[1593734400000,1.6232],[1593993600000,1.625],[1594080000000,1.6158],[1594166400000,1.6216],[1594252800000,1.6245],[1594339200000,1.617],[1594598400000,1.6169],[1594684800000,1.6205],[1594771200000,1.6336],[1594857600000,1.6386],[1594944000000,1.6451],[1595203200000,1.635],[1595289600000,1.6381],[1595376000000,1.6374],[1595462400000,1.6392],[1595548800000,1.6338],[1595808000000,1.6358],[1595894400000,1.6376],[1595980800000,1.6373],[1596067200000,1.6324],[1596153600000,1.6338],[1596412800000,1.6401],[1596499200000,1.6426],[1596585600000,1.6434],[1596672000000,1.639],[1596758400000,1.6435],[1597017600000,1.6408],[1597104000000,1.6428],[1597190400000,1.6402],[1597276800000,1.6401],[1597363200000,1.6421],[1597622400000,1.6456],[1597708800000,1.6454],[1597795200000,1.6415],[1597881600000,1.643],[1597968000000,1.6464],[1598227200000,1.6518],[1598313600000,1.6457],[1598400000000,1.6402],[1598486400000,1.6431],[1598572800000,1.6491],[1598832000000,1.6507],[1598918400000,1.6545],[1599004800000,1.6598],[1599091200000,1.6589],[1599177600000,1.6574],[1599436800000,1.6556],[1599523200000,1.6561],[1599609600000,1.6578],[1599696000000,1.673],[1599782400000,1.6749],[1600041600000,1.6815],[1600128000000,1.6819],[1600214400000,1.6811],[1600300800000,1.6785],[1600387200000,1.6805],[1600646400000,1.6765],[1600732800000,1.6736],[1600819200000,1.6762],[1600905600000,1.6699],[1600992000000,1.6733],[1601251200000,1.674],[1601337600000,1.6768],[1601424000000,1.6779],[1602201600000,1.6835],[1602460800000,1.6867],[1602547200000,1.6827],[1602633600000,1.6825],[1602720000000,1.6777],[1602806400000,1.6786],[1603065600000,1.6795],[1603152000000,1.6796],[1603238400000,1.6705],[1603324800000,1.6733],[1603411200000,1.6728],[1603670400000,1.6721],[1603756800000,1.6745],[1603843200000,1.6761],[1603929600000,1.6776],[1604016000000,1.6785],[1604275200000,1.6834],[1604361600000,1.6832],[1604448000000,1.6824]]}],\"xAxis\":{\"title\":{\"text\":\"date\"},\"type\":\"datetime\"},\"plotOptions\":{\"series\":{\"compare\":\"percent\"}}}/bigcharts-data-end</pre></div><div class=\"type_title_left\"><p>基本特征分析<i class=\"fa fa-question-circle-o\" title=\"处理后因子表示对因子做去极值、标准化和中性化(如果启用的话)等处理后的因子值。\"></i></p></div><div class=\"cols\">\n",
       "            \n",
       "                \n",
       "                <div class=\"col\"><div id=\"bigchart-8ce610b2713c4c6fb3f8d4f76e2051f9\" class=\"bigchart\"></div><div class=\"bigchart-data\"><pre style=\"display:none\">bigcharts-data-start/{\"chart\":{\"height\":500,\"type\":\"column\",\"renderTo\":\"bigchart-8ce610b2713c4c6fb3f8d4f76e2051f9\"},\"legend\":{\"enabled\":true},\"title\":{\"text\":\"\\u56e0\\u5b50\\u5206\\u5e03\"},\"stock\":false,\"series\":[{\"name\":\"count\",\"yAxis\":0,\"data\":[[-9.3657,0.0],[-9.1897,0.0],[-9.0137,0.0],[-8.8377,0.0],[-8.6616,0.0],[-8.4856,0.0],[-8.3096,0.0],[-8.1336,0.0],[-7.9576,0.0],[-7.7816,0.0],[-7.6056,0.0],[-7.4296,0.0],[-7.2536,0.0],[-7.0776,0.0],[-6.9015,0.0],[-6.7255,0.0],[-6.5495,0.0],[-6.3735,0.0],[-6.1975,0.0],[-6.0215,0.0],[-5.8455,0.0],[-5.6695,0.0],[-5.4935,0.0],[-5.3175,0.0],[-5.1415,0.0],[-4.9654,0.0],[-4.7894,0.0],[-4.6134,0.0],[-4.4374,0.0],[-4.2614,0.0],[-4.0854,0.0],[-3.9094,0.0001],[-3.7334,0.0001],[-3.5574,0.0003],[-3.3814,0.0004],[-3.2053,0.0006],[-3.0293,0.0007],[-2.8533,0.0007],[-2.6773,0.0009],[-2.5013,0.0013],[-2.3253,0.0016],[-2.1493,0.0026],[-1.9733,0.0041],[-1.7973,0.006],[-1.6213,0.0091],[-1.4452,0.0138],[-1.2692,0.0205],[-1.0932,0.033],[-0.9172,0.0519],[-0.7412,0.0756],[-0.5652,0.0914],[-0.3892,0.0958],[-0.2132,0.0777],[-0.0372,0.0463],[0.1388,0.0347],[0.3148,0.0475],[0.4909,0.0616],[0.6669,0.063],[0.8429,0.0586],[1.0189,0.0512],[1.1949,0.0432],[1.3709,0.0324],[1.5469,0.0223],[1.7229,0.0162],[1.8989,0.0109],[2.0749,0.0074],[2.251,0.0049],[2.427,0.0034],[2.603,0.0024],[2.779,0.0017],[2.955,0.0011],[3.131,0.0007],[3.307,0.0006],[3.483,0.0004],[3.659,0.0003],[3.835,0.0002],[4.0111,0.0001],[4.1871,0.0],[4.3631,0.0],[4.5391,0.0],[4.7151,0.0],[4.8911,0.0],[5.0671,0.0],[5.2431,0.0],[5.4191,0.0],[5.5951,0.0],[5.7711,0.0],[5.9472,0.0],[6.1232,0.0],[6.2992,0.0],[6.4752,0.0],[6.6512,0.0],[6.8272,0.0],[7.0032,0.0],[7.1792,0.0],[7.3552,0.0],[7.5312,0.0],[7.7073,0.0],[7.8833,0.0],[8.0593,0.0]],\"color\":\"#F08B55\"}],\"xAxis\":{\"title\":{\"text\":\"value\"}}}/bigcharts-data-end</pre></div></div>\n",
       "                \n",
       "            \n",
       "                \n",
       "                <div class=\"col\"><div id=\"bigchart-553f2bfb3ef74920bf45f3e039d04f3f\" class=\"bigchart\"></div><div class=\"bigchart-data\"><pre style=\"display:none\">bigcharts-data-start/{\"chart\":{\"height\":500,\"type\":\"column\",\"renderTo\":\"bigchart-553f2bfb3ef74920bf45f3e039d04f3f\"},\"legend\":{\"enabled\":true},\"title\":{\"text\":\"\\u5904\\u7406\\u540e\\u56e0\\u5b50\\u5206\\u5e03\"},\"stock\":false,\"series\":[{\"name\":\"count\",\"yAxis\":0,\"data\":[[-9.3657,0.0],[-9.1897,0.0],[-9.0137,0.0],[-8.8377,0.0],[-8.6616,0.0],[-8.4856,0.0],[-8.3096,0.0],[-8.1336,0.0],[-7.9576,0.0],[-7.7816,0.0],[-7.6056,0.0],[-7.4296,0.0],[-7.2536,0.0],[-7.0776,0.0],[-6.9015,0.0],[-6.7255,0.0],[-6.5495,0.0],[-6.3735,0.0],[-6.1975,0.0],[-6.0215,0.0],[-5.8455,0.0],[-5.6695,0.0],[-5.4935,0.0],[-5.3175,0.0],[-5.1415,0.0],[-4.9654,0.0],[-4.7894,0.0],[-4.6134,0.0],[-4.4374,0.0],[-4.2614,0.0],[-4.0854,0.0],[-3.9094,0.0001],[-3.7334,0.0001],[-3.5574,0.0003],[-3.3814,0.0004],[-3.2053,0.0006],[-3.0293,0.0007],[-2.8533,0.0007],[-2.6773,0.0009],[-2.5013,0.0013],[-2.3253,0.0016],[-2.1493,0.0026],[-1.9733,0.0041],[-1.7973,0.006],[-1.6213,0.0091],[-1.4452,0.0138],[-1.2692,0.0205],[-1.0932,0.033],[-0.9172,0.0519],[-0.7412,0.0756],[-0.5652,0.0914],[-0.3892,0.0958],[-0.2132,0.0777],[-0.0372,0.0463],[0.1388,0.0347],[0.3148,0.0475],[0.4909,0.0616],[0.6669,0.063],[0.8429,0.0586],[1.0189,0.0512],[1.1949,0.0432],[1.3709,0.0324],[1.5469,0.0223],[1.7229,0.0162],[1.8989,0.0109],[2.0749,0.0074],[2.251,0.0049],[2.427,0.0034],[2.603,0.0024],[2.779,0.0017],[2.955,0.0011],[3.131,0.0007],[3.307,0.0006],[3.483,0.0004],[3.659,0.0003],[3.835,0.0002],[4.0111,0.0001],[4.1871,0.0],[4.3631,0.0],[4.5391,0.0],[4.7151,0.0],[4.8911,0.0],[5.0671,0.0],[5.2431,0.0],[5.4191,0.0],[5.5951,0.0],[5.7711,0.0],[5.9472,0.0],[6.1232,0.0],[6.2992,0.0],[6.4752,0.0],[6.6512,0.0],[6.8272,0.0],[7.0032,0.0],[7.1792,0.0],[7.3552,0.0],[7.5312,0.0],[7.7073,0.0],[7.8833,0.0],[8.0593,0.0]],\"color\":\"#F08B55\"}],\"xAxis\":{\"title\":{\"text\":\"value\"}}}/bigcharts-data-end</pre></div></div>\n",
       "                \n",
       "            \n",
       "            </div><div class=\"cols\">\n",
       "            \n",
       "                \n",
       "                <div class=\"col\"><div id=\"bigchart-3b9f944318c84745b763323c9aa11aa8\" class=\"bigchart\"></div><div class=\"bigchart-data\"><pre style=\"display:none\">bigcharts-data-start/{\"chart\":{\"height\":500,\"type\":\"boxplot\",\"renderTo\":\"bigchart-3b9f944318c84745b763323c9aa11aa8\"},\"legend\":{\"enabled\":true},\"title\":{\"text\":\"\\u5904\\u7406\\u540e\\u56e0\\u5b50\\u884c\\u4e1a\\u5206\\u5e03\"},\"stock\":false,\"series\":[{\"name\":\"\\u5904\\u7406\\u540e\\u56e0\\u5b50\",\"data\":[[-6.3146,-0.7498,-0.2433,0.7503,8.0593],[-6.067,-0.6687,-0.1783,0.6371,5.7026],[-9.5374,-0.6875,-0.1882,0.6861,7.9175],[-9.1739,-0.6575,-0.1708,0.6134,5.833],[-9.2731,-0.6953,-0.1695,0.7162,5.7997],[-9.5017,-0.6815,-0.1444,0.7053,8.0015],[-9.411,-0.6741,-0.1757,0.6952,7.999],[-9.3463,-0.6868,-0.1569,0.6925,4.8534],[-9.3836,-0.7455,-0.183,0.7229,7.8746],[-8.5696,-0.7092,-0.2194,0.7132,5.6582],[-9.5071,-0.7056,-0.1953,0.7075,5.7063],[-9.3975,-0.7091,-0.1811,0.7161,7.8691],[-9.391,-0.6985,-0.2174,0.6828,7.921],[-9.4594,-0.7011,-0.2009,0.6687,7.8454],[-9.5198,-0.6719,-0.1592,0.6694,8.0527],[-9.3901,-0.6656,-0.1661,0.6807,7.9489],[-9.4804,-0.7044,-0.2066,0.6802,5.7553],[-8.5104,-0.7721,-0.2481,0.7257,5.7611],[-8.2419,-0.6905,-0.1628,0.5974,8.0024],[-8.391,-0.675,-0.1795,0.6833,7.8691],[-9.2674,-0.6994,-0.1973,0.6691,7.8847],[-8.4616,-0.6636,-0.1881,0.6648,7.898],[-9.5417,-0.6822,-0.1876,0.6822,5.8098],[-9.3927,-0.6882,-0.1859,0.6847,7.824],[-5.7283,-0.695,-0.203,0.736,4.9633],[-8.2117,-0.6505,-0.1327,0.673,5.6673],[-8.4587,-0.6624,-0.1686,0.6844,7.8976],[-8.4916,-0.6657,-0.1646,0.6932,7.875],[-3.009,-0.9253,-0.485,0.9506,3.6187]],\"color\":\"#F08B55\"}],\"xAxis\":{\"categories\":[\"\\u519c\\u6797\\u7267\\u6e14\",\"\\u91c7\\u6398\",\"\\u5316\\u5de5\",\"\\u94a2\\u94c1\",\"\\u6709\\u8272\\u91d1\\u5c5e\",\"\\u7535\\u5b50\",\"\\u6c7d\\u8f66\",\"\\u5bb6\\u7528\\u7535\\u5668\",\"\\u98df\\u54c1\\u996e\\u6599\",\"\\u7eba\\u7ec7\\u670d\\u88c5\",\"\\u8f7b\\u5de5\\u5236\\u9020\",\"\\u533b\\u836f\\u751f\\u7269\",\"\\u516c\\u7528\\u4e8b\\u4e1a\",\"\\u4ea4\\u901a\\u8fd0\\u8f93\",\"\\u623f\\u5730\\u4ea7\",\"\\u5546\\u4e1a\\u8d38\\u6613\",\"\\u4f11\\u95f2\\u670d\\u52a1\",\"\\u94f6\\u884c\",\"\\u975e\\u94f6\\u91d1\\u878d\",\"\\u7efc\\u5408\",\"\\u5efa\\u7b51\\u6750\\u6599\",\"\\u5efa\\u7b51\\u88c5\\u9970\",\"\\u7535\\u6c14\\u8bbe\\u5907\",\"\\u673a\\u68b0\\u8bbe\\u5907\",\"\\u56fd\\u9632\\u519b\\u5de5\",\"\\u8ba1\\u7b97\\u673a\",\"\\u4f20\\u5a92\",\"\\u901a\\u4fe1\",\"\\u5176\\u4ed6\"]}}/bigcharts-data-end</pre></div></div>\n",
       "                \n",
       "            \n",
       "                \n",
       "                <div class=\"col\"><div id=\"bigchart-b588e1b6f7584a08afd4ee3728ae790d\" class=\"bigchart\"></div><div class=\"bigchart-data\"><pre style=\"display:none\">bigcharts-data-start/{\"chart\":{\"height\":500,\"type\":\"boxplot\",\"renderTo\":\"bigchart-b588e1b6f7584a08afd4ee3728ae790d\"},\"legend\":{\"enabled\":true},\"title\":{\"text\":\"\\u5904\\u7406\\u540e\\u56e0\\u5b50\\u5e02\\u503c\\u5206\\u5e03\"},\"stock\":false,\"series\":[{\"name\":\"\\u5904\\u7406\\u540e\\u56e0\\u5b50\",\"data\":[[-9.5417,-0.6479,-0.1803,0.6444,8.0593],[-9.4594,-0.6736,-0.1958,0.6644,8.0527],[-9.5374,-0.6857,-0.1946,0.6869,8.0024],[-9.5071,-0.6989,-0.1744,0.7173,7.9489],[-9.411,-0.7345,-0.1404,0.7357,8.0015]],\"color\":\"#F08B55\"}],\"xAxis\":{\"categories\":[\"\\u8d85\\u5c0f\\u578b\",\"\\u5c0f\\u578b\",\"\\u4e2d\\u578b\",\"\\u5927\\u578b\",\"\\u8d85\\u5927\\u578b\"]}}/bigcharts-data-end</pre></div></div>\n",
       "                \n",
       "            \n",
       "            </div><div class=\"type_title_left\"><p>IC分析<i class=\"fa fa-question-circle-o\" title=\"期初因子值与因子当期收益相关性分析，绝对值越大越好。以及因子值与滞后n期因子收益的相关性分析。\"></i></p></div>\n",
       "        <div class=\"ic_summary\">\n",
       "          <div class=\"item ic_mean\"><label>IC均值</label><p>-0.03</p></div>\n",
       "          <div class=\"item ic_std\"><label>IC标准差</label><p>0.07</p></div>\n",
       "          <div class=\"item ir\"><label>IR值</label><p>-0.37</p></div>\n",
       "          <div class=\"item ic_significance_ratio\"><label>|IC| > 0.02比率</label><p>76.29%</p></div>\n",
       "        </div>\n",
       "        <div class=\"cols\">\n",
       "            \n",
       "                \n",
       "                <div class=\"col\"><div id=\"bigchart-4d29e76fdbd84ac085d2ca00223cd673\" class=\"bigchart\"></div><div class=\"bigchart-data\"><pre style=\"display:none\">bigcharts-data-start/{\"chart\":{\"height\":500,\"type\":\"column\",\"renderTo\":\"bigchart-4d29e76fdbd84ac085d2ca00223cd673\"},\"legend\":{\"enabled\":true},\"title\":{\"text\":\"IC\\u65f6\\u5e8f\\u56fe\"},\"stock\":true,\"series\":[{\"name\":\"IC\",\"yAxis\":0,\"data\":[[1476144000000,-0.0151],[1476230400000,-0.0538],[1476316800000,-0.055],[1476403200000,-0.0241],[1476662400000,0.0346],[1476748800000,-0.0313],[1476835200000,-0.0905],[1476921600000,-0.0868],[1477008000000,-0.0781],[1477267200000,-0.019],[1477353600000,-0.0063],[1477440000000,-0.1704],[1477526400000,-0.0296],[1477612800000,-0.0633],[1477872000000,-0.0584],[1477958400000,-0.0064],[1478044800000,0.0134],[1478131200000,-0.0589],[1478217600000,-0.0478],[1478476800000,-0.167],[1478563200000,-0.0284],[1478649600000,-0.023],[1478736000000,-0.0556],[1478822400000,0.0007],[1479081600000,-0.0712],[1479168000000,-0.1293],[1479254400000,-0.1501],[1479340800000,-0.0611],[1479427200000,0.0126],[1479686400000,-0.0949],[1479772800000,-0.0175],[1479859200000,-0.1327],[1479945600000,-0.101],[1480032000000,-0.0911],[1480291200000,-0.0549],[1480377600000,-0.0019],[1480464000000,-0.0898],[1480550400000,0.0098],[1480636800000,-0.0143],[1480896000000,-0.1062],[1480982400000,-0.0092],[1481068800000,-0.0152],[1481155200000,-0.0744],[1481241600000,-0.1575],[1481500800000,0.0385],[1481587200000,-0.1249],[1481673600000,-0.0122],[1481760000000,-0.1607],[1481846400000,-0.0121],[1482105600000,-0.0311],[1482192000000,-0.0454],[1482278400000,0.0028],[1482364800000,-0.0812],[1482451200000,0.0084],[1482710400000,-0.0858],[1482796800000,0.0338],[1482883200000,-0.0311],[1482969600000,-0.014],[1483056000000,-0.0651],[1483401600000,-0.0276],[1483488000000,0.0355],[1483574400000,-0.0348],[1483660800000,0.0085],[1483920000000,-0.0867],[1484006400000,-0.0476],[1484092800000,-0.0755],[1484179200000,0.0139],[1484265600000,-0.2371],[1484524800000,0.1353],[1484611200000,-0.119],[1484697600000,-0.0362],[1484784000000,0.0919],[1484870400000,-0.0794],[1485129600000,0.0553],[1485216000000,-0.0413],[1485302400000,0.0059],[1485388800000,-0.0456],[1486080000000,-0.0106],[1486339200000,-0.074],[1486425600000,-0.0803],[1486512000000,-0.0553],[1486598400000,-0.0568],[1486684800000,-0.0617],[1486944000000,-0.0486],[1487030400000,0.0048],[1487116800000,-0.087],[1487203200000,-0.118],[1487289600000,-0.083],[1487548800000,-0.0251],[1487635200000,-0.0159],[1487721600000,-0.0359],[1487808000000,-0.1332],[1487894400000,0.0025],[1488153600000,-0.0058],[1488240000000,-0.0823],[1488326400000,-0.0233],[1488412800000,-0.0325],[1488499200000,-0.0675],[1488758400000,0.017],[1488844800000,0.001],[1488931200000,-0.0384],[1489017600000,-0.0095],[1489104000000,-0.0433],[1489363200000,-0.051],[1489449600000,-0.0909],[1489536000000,-0.0946],[1489622400000,-0.0269],[1489708800000,0.0213],[1489968000000,-0.1219],[1490054400000,-0.0072],[1490140800000,-0.0287],[1490227200000,-0.0894],[1490313600000,-0.0245],[1490572800000,-0.0436],[1490659200000,0.0212],[1490745600000,-0.1538],[1490832000000,-0.1154],[1490918400000,-0.0258],[1491350400000,-0.0969],[1491436800000,0.03],[1491523200000,-0.0629],[1491782400000,0.019],[1491868800000,-0.1694],[1491955200000,-0.1427],[1492041600000,-0.0277],[1492128000000,-0.1474],[1492387200000,-0.1486],[1492473600000,0.0392],[1492560000000,-0.0197],[1492646400000,-0.0343],[1492732800000,0.0379],[1492992000000,-0.0246],[1493078400000,-0.0046],[1493164800000,-0.0116],[1493251200000,-0.0547],[1493337600000,0.0071],[1493683200000,-0.0399],[1493769600000,-0.0401],[1493856000000,-0.0328],[1493942400000,0.0135],[1494201600000,0.1005],[1494288000000,-0.0859],[1494374400000,0.0032],[1494460800000,-0.1336],[1494547200000,-0.0092],[1494806400000,0.0054],[1494892800000,-0.0344],[1494979200000,0.0054],[1495065600000,-0.0077],[1495152000000,-0.1772],[1495411200000,-0.1874],[1495497600000,-0.0428],[1495584000000,-0.0898],[1495670400000,0.0831],[1495756800000,-0.077],[1496188800000,0.0871],[1496275200000,0.1095],[1496361600000,0.0853],[1496620800000,-0.1034],[1496707200000,-0.0615],[1496793600000,0.0809],[1496880000000,-0.0231],[1496966400000,-0.1198],[1497225600000,0.0644],[1497312000000,0.1569],[1497398400000,-0.0973],[1497484800000,-0.0384],[1497571200000,-0.0216],[1497830400000,-0.0713],[1497916800000,0.012],[1498003200000,-0.0961],[1498089600000,-0.0301],[1498176000000,-0.0115],[1498435200000,-0.0049],[1498521600000,-0.021],[1498608000000,-0.0559],[1498694400000,-0.0935],[1498780800000,-0.0063],[1499040000000,-0.0544],[1499126400000,-0.0183],[1499212800000,0.0596],[1499299200000,0.0409],[1499385600000,-0.0103],[1499644800000,-0.1861],[1499731200000,-0.082],[1499817600000,-0.0246],[1499904000000,-0.1158],[1499990400000,-0.1343],[1500249600000,-0.0763],[1500336000000,-0.0941],[1500422400000,-0.0116],[1500508800000,-0.0199],[1500595200000,0.0089],[1500854400000,-0.0568],[1500940800000,-0.0305],[1501027200000,0.041],[1501113600000,-0.068],[1501200000000,-0.0705],[1501459200000,-0.0458],[1501545600000,-0.0407],[1501632000000,0.0381],[1501718400000,0.0312],[1501804800000,0.0016],[1502064000000,-0.0405],[1502150400000,0.0066],[1502236800000,-0.0268],[1502323200000,0.0001],[1502409600000,0.0048],[1502668800000,-0.0147],[1502755200000,-0.0567],[1502841600000,-0.0571],[1502928000000,-0.0657],[1503014400000,-0.0786],[1503273600000,0.0112],[1503360000000,-0.0365],[1503446400000,-0.0899],[1503532800000,0.0122],[1503619200000,0.0072],[1503878400000,0.002],[1503964800000,-0.0274],[1504051200000,0.0385],[1504137600000,-0.0391],[1504224000000,0.0661],[1504483200000,-0.1158],[1504569600000,-0.0669],[1504656000000,0.0285],[1504742400000,-0.0255],[1504828800000,-0.0031],[1505088000000,-0.008],[1505174400000,-0.0706],[1505260800000,-0.0229],[1505347200000,-0.014],[1505433600000,-0.0399],[1505692800000,-0.0345],[1505779200000,-0.0118],[1505865600000,0.0257],[1505952000000,-0.0069],[1506038400000,-0.0904],[1506297600000,-0.1054],[1506384000000,-0.1022],[1506470400000,-0.0273],[1506556800000,0.0279],[1506643200000,-0.0702],[1507507200000,0.035],[1507593600000,0.0634],[1507680000000,-0.1217],[1507766400000,-0.0539],[1507852800000,-0.0055],[1508112000000,-0.1163],[1508198400000,-0.0994],[1508284800000,-0.0952],[1508371200000,-0.0051],[1508457600000,-0.1539],[1508716800000,0.0644],[1508803200000,-0.0532],[1508889600000,-0.0314],[1508976000000,0.0211],[1509062400000,-0.0957],[1509321600000,-0.0156],[1509408000000,-0.0035],[1509494400000,0.1224],[1509580800000,-0.0779],[1509667200000,0.0266],[1509926400000,0.0031],[1510012800000,-0.0042],[1510099200000,-0.024],[1510185600000,-0.0283],[1510272000000,-0.0576],[1510531200000,-0.0269],[1510617600000,-0.1046],[1510704000000,-0.0842],[1510790400000,-0.1071],[1510876800000,-0.1561],[1511136000000,-0.1441],[1511222400000,0.0131],[1511308800000,0.0598],[1511395200000,0.1121],[1511481600000,-0.011],[1511740800000,0.052],[1511827200000,-0.0284],[1511913600000,-0.0256],[1512000000000,0.0263],[1512086400000,0.0553],[1512345600000,-0.1493],[1512432000000,0.0271],[1512518400000,0.0974],[1512604800000,-0.0071],[1512691200000,0.0421],[1512950400000,0.0173],[1513036800000,0.0055],[1513123200000,-0.0075],[1513209600000,0.0219],[1513296000000,-0.0689],[1513555200000,-0.0076],[1513641600000,-0.054],[1513728000000,-0.1318],[1513814400000,-0.0352],[1513900800000,-0.0013],[1514160000000,0.1011],[1514246400000,-0.0222],[1514332800000,0.075],[1514419200000,-0.0503],[1514505600000,-0.0841],[1514851200000,0.0291],[1514937600000,-0.0443],[1515024000000,-0.068],[1515110400000,-0.0154],[1515369600000,-0.0686],[1515456000000,-0.1123],[1515542400000,0.0606],[1515628800000,-0.0457],[1515715200000,0.0025],[1515974400000,-0.0056],[1516060800000,0.0172],[1516147200000,-0.0466],[1516233600000,-0.0127],[1516320000000,-0.0753],[1516579200000,-0.1089],[1516665600000,0.0189],[1516752000000,-0.0497],[1516838400000,-0.0728],[1516924800000,-0.0754],[1517184000000,-0.0509],[1517270400000,-0.0487],[1517356800000,-0.1043],[1517443200000,-0.1533],[1517529600000,-0.0479],[1517788800000,-0.0106],[1517875200000,0.1101],[1517961600000,0.0583],[1518048000000,0.129],[1518134400000,-0.0466],[1518393600000,-0.013],[1518480000000,-0.0372],[1518566400000,-0.0266],[1519257600000,-0.0126],[1519344000000,-0.0714],[1519603200000,-0.0062],[1519689600000,-0.0003],[1519776000000,-0.0561],[1519862400000,-0.0346],[1519948800000,0.0394],[1520208000000,-0.0515],[1520294400000,-0.0632],[1520380800000,0.0428],[1520467200000,-0.1888],[1520553600000,-0.0372],[1520812800000,-0.0939],[1520899200000,-0.0132],[1520985600000,-0.1014],[1521072000000,0.0999],[1521158400000,0.0345],[1521417600000,0.005],[1521504000000,-0.0652],[1521590400000,-0.0617],[1521676800000,0.0016],[1521763200000,-0.036],[1522022400000,0.0306],[1522108800000,-0.1061],[1522195200000,-0.0874],[1522281600000,0.0699],[1522368000000,0.0152],[1522627200000,0.0181],[1522713600000,0.0426],[1522800000000,-0.023],[1523232000000,0.0298],[1523318400000,-0.0373],[1523404800000,0.0225],[1523491200000,-0.0687],[1523577600000,-0.1063],[1523836800000,-0.0259],[1523923200000,0.0017],[1524009600000,0.0144],[1524096000000,0.0209],[1524182400000,0.0645],[1524441600000,-0.1448],[1524528000000,0.0259],[1524614400000,-0.048],[1524700800000,0.0102],[1524787200000,0.017],[1525219200000,-0.045],[1525305600000,0.0539],[1525392000000,0.015],[1525651200000,0.0105],[1525737600000,0.0204],[1525824000000,-0.0876],[1525910400000,-0.06],[1525996800000,-0.1217],[1526256000000,-0.0879],[1526342400000,0.0456],[1526428800000,-0.0198],[1526515200000,-0.009],[1526601600000,-0.0477],[1526860800000,0.0864],[1526947200000,0.0178],[1527033600000,-0.0603],[1527120000000,-0.0266],[1527206400000,0.0438],[1527465600000,-0.047],[1527552000000,-0.0701],[1527638400000,0.0502],[1527724800000,-0.0025],[1527811200000,-0.0243],[1528070400000,-0.0265],[1528156800000,-0.0622],[1528243200000,0.0871],[1528329600000,-0.0354],[1528416000000,0.083],[1528675200000,-0.108],[1528761600000,0.0449],[1528848000000,0.0623],[1528934400000,-0.0654],[1529020800000,-0.0724],[1529366400000,0.0494],[1529452800000,-0.0444],[1529539200000,0.0706],[1529625600000,-0.0685],[1529884800000,-0.0373],[1529971200000,0.0108],[1530057600000,0.019],[1530144000000,-0.1562],[1530230400000,0.003],[1530489600000,0.0401],[1530576000000,0.1674],[1530662400000,-0.1122],[1530748800000,0.0799],[1530835200000,-0.1854],[1531094400000,-0.0115],[1531180800000,0.0696],[1531267200000,-0.0002],[1531353600000,-0.012],[1531440000000,0.0257],[1531699200000,0.0047],[1531785600000,-0.0272],[1531872000000,-0.0972],[1531958400000,0.0331],[1532044800000,-0.0331],[1532304000000,-0.1653],[1532390400000,-0.0642],[1532476800000,-0.2118],[1532563200000,-0.0346],[1532649600000,-0.0214],[1532908800000,-0.0586],[1532995200000,-0.1788],[1533081600000,-0.0454],[1533168000000,0.0424],[1533254400000,-0.0519],[1533513600000,0.1469],[1533600000000,0.044],[1533686400000,0.0249],[1533772800000,-0.0503],[1533859200000,0.0042],[1534118400000,-0.0614],[1534204800000,0.0062],[1534291200000,0.0264],[1534377600000,0.0551],[1534464000000,0.0302],[1534723200000,-0.0769],[1534809600000,0.0366],[1534896000000,-0.0371],[1534982400000,0.0215],[1535068800000,-0.1382],[1535328000000,-0.022],[1535414400000,-0.0577],[1535500800000,-0.0905],[1535587200000,-0.1215],[1535673600000,-0.0911],[1535932800000,0.0317],[1536019200000,0.0956],[1536105600000,0.0363],[1536192000000,0.018],[1536278400000,0.1059],[1536537600000,-0.0679],[1536624000000,0.1288],[1536710400000,-0.0094],[1536796800000,-0.0184],[1536883200000,-0.0592],[1537142400000,0.0927],[1537228800000,-0.1393],[1537315200000,-0.0055],[1537401600000,-0.064],[1537488000000,-0.0164],[1537833600000,0.0116],[1537920000000,-0.0947],[1538006400000,-0.0455],[1538092800000,-0.0905],[1538956800000,0.0581],[1539043200000,-0.0298],[1539129600000,0.1311],[1539216000000,-0.1537],[1539302400000,-0.0046],[1539561600000,0.0509],[1539648000000,0.1037],[1539734400000,0.1126],[1539820800000,-0.0866],[1539907200000,-0.1084],[1540166400000,0.135],[1540252800000,0.0184],[1540339200000,0.0376],[1540425600000,0.1756],[1540512000000,-0.0152],[1540771200000,0.0743],[1540857600000,-0.0151],[1540944000000,-0.0284],[1541030400000,-0.1531],[1541116800000,0.0129],[1541376000000,0.0011],[1541462400000,-0.1285],[1541548800000,-0.1207],[1541635200000,-0.1057],[1541721600000,-0.0233],[1541980800000,-0.0695],[1542067200000,-0.0004],[1542153600000,0.0555],[1542240000000,0.0558],[1542326400000,-0.0784],[1542585600000,-0.143],[1542672000000,0.0053],[1542758400000,0.0146],[1542844800000,0.0936],[1542931200000,0.0445],[1543190400000,0.043],[1543276800000,0.0143],[1543363200000,-0.0043],[1543449600000,-0.0167],[1543536000000,0.2148],[1543795200000,0.0077],[1543881600000,0.069],[1543968000000,-0.0138],[1544054400000,-0.0135],[1544140800000,-0.135],[1544400000000,0.0117],[1544486400000,-0.1198],[1544572800000,-0.1625],[1544659200000,-0.0208],[1544745600000,0.0097],[1545004800000,-0.0315],[1545091200000,0.0341],[1545177600000,-0.0049],[1545264000000,-0.0219],[1545350400000,-0.0311],[1545609600000,0.1035],[1545696000000,-0.0446],[1545782400000,-0.0757],[1546819200000,-0.0265],[1546905600000,-0.0544],[1546992000000,-0.0327],[1547078400000,-0.035],[1547164800000,-0.0628],[1547424000000,-0.0378],[1547510400000,-0.0595],[1547596800000,-0.0998],[1547683200000,0.0091],[1547769600000,-0.0519],[1548028800000,0.0115],[1548115200000,-0.0399],[1548201600000,-0.054],[1548288000000,0.0443],[1548374400000,-0.0661],[1548633600000,-0.0628],[1548720000000,-0.0644],[1548806400000,-0.1519],[1548892800000,0.0328],[1548979200000,-0.092],[1549843200000,-0.1279],[1549929600000,-0.2347],[1550016000000,-0.008],[1550102400000,-0.0136],[1550188800000,0.0311],[1550448000000,-0.0542],[1550534400000,-0.073],[1550620800000,-0.1128],[1550707200000,0.111],[1550793600000,0.0046],[1551052800000,-0.2006],[1551139200000,0.0095],[1551225600000,-0.0872],[1551312000000,-0.1237],[1551398400000,-0.0756],[1551657600000,0.079],[1551744000000,-0.1258],[1551830400000,-0.0883],[1551916800000,-0.0868],[1552003200000,0.0014],[1552262400000,-0.0049],[1552348800000,-0.0937],[1552435200000,-0.0246],[1552521600000,0.1206],[1552608000000,-0.0861],[1552867200000,-0.0149],[1552953600000,-0.0189],[1553040000000,-0.0965],[1553126400000,0.0213],[1553212800000,-0.0862],[1553472000000,-0.1602],[1553558400000,0.0297],[1553644800000,-0.0868],[1553731200000,-0.0744],[1553817600000,-0.0612],[1554076800000,0.0126],[1554163200000,-0.0234],[1554249600000,-0.0559],[1554336000000,0.2112],[1554681600000,0.0077],[1554768000000,-0.0015],[1554854400000,-0.0666],[1554940800000,-0.0632],[1555027200000,-0.0728],[1555286400000,0.0579],[1555372800000,0.0396],[1555459200000,-0.0384],[1555545600000,-0.0266],[1555632000000,-0.0135],[1555891200000,-0.0692],[1555977600000,-0.0285],[1556064000000,-0.031],[1556150400000,-0.0169],[1556236800000,-0.0776],[1556496000000,0.0328],[1556582400000,0.0368],[1557100800000,0.11],[1557187200000,-0.0011],[1557273600000,-0.0953],[1557360000000,0.0028],[1557446400000,-0.0603],[1557705600000,-0.06],[1557792000000,-0.0614],[1557878400000,-0.0517],[1557964800000,-0.0643],[1558051200000,0.0477],[1558310400000,0.0999],[1558396800000,-0.0082],[1558483200000,-0.0137],[1558569600000,-0.0539],[1558656000000,-0.0508],[1558915200000,-0.0228],[1559001600000,0.0993],[1559088000000,0.083],[1559174400000,-0.0968],[1559260800000,-0.0761],[1559520000000,-0.0601],[1559606400000,0.149],[1559692800000,-0.0348],[1559779200000,0.0244],[1560124800000,-0.0857],[1560211200000,-0.0351],[1560297600000,-0.0143],[1560384000000,0.1114],[1560470400000,-0.0444],[1560729600000,-0.0019],[1560816000000,0.0154],[1560902400000,-0.1896],[1560988800000,-0.1147],[1561075200000,-0.0503],[1561334400000,-0.0666],[1561420800000,-0.0445],[1561507200000,-0.0332],[1561593600000,-0.1243],[1561680000000,0.0457],[1561939200000,-0.0129],[1562025600000,0.0274],[1562112000000,-0.0736],[1562198400000,-0.1277],[1562284800000,-0.0651],[1562544000000,-0.0283],[1562630400000,-0.0406],[1562716800000,-0.0277],[1562803200000,-0.0285],[1562889600000,-0.0517],[1563148800000,0.0324],[1563235200000,-0.0126],[1563321600000,-0.0046],[1563408000000,0.0306],[1563494400000,-0.0705],[1563753600000,0.0231],[1563840000000,0.038],[1563926400000,0.0376],[1564012800000,0.0071],[1564099200000,-0.0432],[1564358400000,-0.0596],[1564444800000,-0.0129],[1564531200000,-0.0322],[1564617600000,-0.0667],[1564704000000,-0.039],[1564963200000,0.0135],[1565049600000,0.0176],[1565136000000,-0.0003],[1565222400000,0.0189],[1565308800000,-0.1],[1565568000000,-0.0134],[1565654400000,-0.0354],[1565740800000,0.0348],[1565827200000,-0.0112],[1565913600000,-0.1129],[1566172800000,-0.055],[1566259200000,-0.0465],[1566345600000,-0.0205],[1566432000000,-0.0275],[1566518400000,0.0221],[1566777600000,0.12],[1566864000000,0.0607],[1566950400000,-0.046],[1567036800000,0.0162],[1567123200000,-0.0008],[1567382400000,-0.0142],[1567468800000,0.0177],[1567555200000,-0.0652],[1567641600000,-0.0141],[1567728000000,-0.0791],[1567987200000,-0.0599],[1568073600000,-0.0411],[1568160000000,-0.1031],[1568246400000,0.0124],[1568592000000,-0.0096],[1568678400000,-0.0771],[1568764800000,-0.1167],[1568851200000,-0.0022],[1568937600000,-0.0217],[1569196800000,-0.0474],[1569283200000,0.026],[1569369600000,0.0275],[1569456000000,0.0242],[1569542400000,-0.0186],[1569801600000,-0.0157],[1570492800000,-0.0169],[1570579200000,-0.1426],[1570665600000,-0.1063],[1570752000000,-0.0408],[1571011200000,-0.0578],[1571097600000,-0.0726],[1571184000000,-0.0714],[1571270400000,0.0137],[1571356800000,-0.056],[1571616000000,-0.1417],[1571702400000,0.0257],[1571788800000,-0.0468],[1571875200000,-0.0669],[1571961600000,0.0201],[1572220800000,0.0575],[1572307200000,-0.0538],[1572393600000,-0.1149],[1572480000000,0.0228],[1572566400000,-0.0973],[1572825600000,-0.0359],[1572912000000,-0.0325],[1572998400000,-0.0636],[1573084800000,-0.0473],[1573171200000,0.0995],[1573430400000,-0.021],[1573516800000,-0.1343],[1573603200000,-0.0369],[1573689600000,0.0632],[1573776000000,-0.0559],[1574035200000,-0.1209],[1574121600000,0.0767],[1574208000000,-0.029],[1574294400000,0.1574],[1574380800000,-0.089],[1574640000000,-0.1825],[1574726400000,-0.0715],[1574812800000,-0.0147],[1574899200000,0.0018],[1574985600000,0.0218],[1575244800000,0.0434],[1575331200000,-0.0169],[1575417600000,-0.0213],[1575504000000,0.0227],[1575590400000,-0.0056],[1575849600000,0.0339],[1575936000000,-0.001],[1576022400000,0.0008],[1576108800000,-0.0245],[1576195200000,-0.0024],[1576454400000,-0.0203],[1576540800000,-0.1468],[1576627200000,-0.0533],[1576713600000,0.0783],[1576800000000,-0.1497],[1577059200000,0.027],[1577145600000,-0.0769],[1577232000000,-0.0697],[1577318400000,-0.1579],[1577404800000,-0.0757],[1577664000000,-0.0714],[1577750400000,0.0343],[1577923200000,-0.0124],[1578009600000,0.106],[1578268800000,-0.1057],[1578355200000,0.0265],[1578441600000,-0.0415],[1578528000000,0.027],[1578614400000,-0.1237],[1578873600000,0.0053],[1578960000000,-0.1141],[1579046400000,-0.1407],[1579132800000,0.0],[1579219200000,-0.0687],[1579478400000,0.084],[1579564800000,-0.0695],[1579651200000,-0.0458],[1579737600000,0.0435],[1580774400000,0.0318],[1580860800000,-0.0384],[1580947200000,-0.004],[1581033600000,-0.0176],[1581292800000,0.0428],[1581379200000,-0.0967],[1581465600000,0.0747],[1581552000000,-0.0476],[1581638400000,0.0418],[1581897600000,0.1811],[1581984000000,-0.0076],[1582070400000,0.0699],[1582156800000,-0.092],[1582243200000,0.1588],[1582502400000,0.0768],[1582588800000,0.0351],[1582675200000,-0.0777],[1582761600000,-0.3163],[1582848000000,0.168],[1583107200000,-0.0941],[1583193600000,-0.1516],[1583280000000,-0.0355],[1583452800000,-0.0145],[1583712000000,0.0998],[1583798400000,0.1364],[1583884800000,-0.0151],[1583971200000,-0.0156],[1584057600000,0.05],[1584316800000,0.1446],[1584403200000,-0.0483],[1584489600000,0.0015],[1584576000000,0.0056],[1584662400000,0.1204],[1584921600000,0.0642],[1585008000000,-0.0596],[1585094400000,0.1276],[1585180800000,-0.0705],[1585267200000,-0.1154],[1585526400000,-0.0255],[1585612800000,0.0054],[1585699200000,-0.1247],[1585785600000,-0.015],[1585872000000,0.0588],[1586217600000,0.0243],[1586304000000,-0.0388],[1586390400000,-0.1281],[1586476800000,-0.1021],[1586736000000,0.1676],[1586822400000,0.0205],[1586908800000,-0.0083],[1586995200000,-0.0385],[1587081600000,-0.0275],[1587340800000,0.0091],[1587427200000,-0.1241],[1587513600000,0.0027],[1587600000000,-0.1514],[1587686400000,-0.0822],[1587945600000,-0.0853],[1588032000000,-0.0922],[1588118400000,-0.0003],[1588204800000,-0.0122],[1588723200000,0.0116],[1588809600000,0.022],[1588896000000,-0.0197],[1589155200000,-0.0553],[1589241600000,-0.1179],[1589328000000,0.0186],[1589414400000,0.0002],[1589500800000,-0.0732],[1589760000000,-0.0964],[1589846400000,-0.0189],[1589932800000,0.0189],[1590019200000,-0.1081],[1590105600000,-0.1597],[1590364800000,-0.0709],[1590451200000,-0.0396],[1590537600000,-0.0466],[1590624000000,-0.1206],[1590710400000,-0.0892],[1590969600000,-0.0106],[1591056000000,-0.0107],[1591142400000,-0.0541],[1591228800000,-0.0828],[1591315200000,-0.0152],[1591574400000,-0.0919],[1591660800000,-0.1244],[1591747200000,0.0086],[1591833600000,-0.0288],[1591920000000,-0.0304],[1592179200000,0.0279],[1592265600000,0.0296],[1592352000000,-0.0774],[1592438400000,-0.1339],[1592524800000,-0.0138],[1592784000000,-0.0631],[1592870400000,-0.0198],[1592956800000,0.0203],[1593388800000,-0.0512],[1593475200000,0.1431],[1593561600000,-0.1222],[1593648000000,-0.0544],[1593734400000,0.0057],[1594080000000,-0.1248],[1594166400000,-0.0862],[1594252800000,0.0905],[1594598400000,-0.0696],[1594684800000,-0.2115],[1594771200000,-0.1452],[1594857600000,-0.1302],[1594944000000,0.1406],[1595203200000,-0.0454],[1595289600000,-0.0222],[1595376000000,0.0385],[1595462400000,0.0743],[1595548800000,-0.0456],[1595808000000,0.0228],[1595894400000,-0.0452],[1595980800000,0.0753],[1596067200000,-0.0185],[1596153600000,-0.14],[1596412800000,-0.052],[1596499200000,-0.0167],[1596585600000,0.0779],[1596672000000,-0.0699],[1596758400000,0.0636],[1597017600000,-0.0416],[1597104000000,0.0212],[1597190400000,-0.0057],[1597276800000,-0.0855],[1597363200000,-0.0609],[1597622400000,0.0508],[1597708800000,0.1006],[1597795200000,-0.0636],[1597881600000,-0.0634],[1597968000000,-0.045],[1598227200000,0.0654],[1598313600000,0.0823],[1598400000000,-0.0518],[1598486400000,-0.079],[1598572800000,-0.0277],[1598832000000,-0.0793],[1598918400000,-0.098],[1599004800000,0.0103],[1599091200000,-0.0059],[1599177600000,0.045],[1599436800000,-0.0103],[1599523200000,-0.0607],[1599609600000,-0.1932],[1599696000000,-0.0058],[1599782400000,-0.0523],[1600041600000,0.0076],[1600128000000,0.0233],[1600214400000,0.0293],[1600300800000,-0.0583],[1600387200000,0.0729],[1600646400000,0.0332],[1600732800000,-0.0543],[1600819200000,0.1242],[1600905600000,-0.0585],[1600992000000,-0.0103],[1601251200000,-0.0083],[1601337600000,-0.0001],[1601424000000,-0.0918],[1602201600000,-0.0942],[1602460800000,0.0782],[1602547200000,0.0241],[1602633600000,0.0318],[1602720000000,-0.0667],[1602806400000,-0.0364],[1603065600000,-0.0545],[1603152000000,0.2014],[1603238400000,-0.0786],[1603324800000,-0.0204],[1603411200000,0.0032],[1603670400000,-0.0201],[1603756800000,-0.0315],[1603843200000,-0.004],[1603929600000,-0.021],[1604016000000,-0.0123],[1604275200000,0.0788],[1604361600000,0.0431],[1604448000000,-0.1285],[1580688000000,0.1571],[1593993600000,0.1938],[1594339200000,-0.0246],[1545868800000,-0.0814],[1545955200000,0.0728],[1546387200000,-0.015],[1546473600000,0.0897],[1546560000000,-0.098]],\"color\":\"#F08B55\"}],\"xAxis\":{\"title\":{\"text\":\"date\"},\"type\":\"datetime\"}}/bigcharts-data-end</pre></div></div>\n",
       "                \n",
       "            \n",
       "                \n",
       "                <div class=\"col\"><div id=\"bigchart-9a866f66a47b4702b98be019923e39a7\" class=\"bigchart\"></div><div class=\"bigchart-data\"><pre style=\"display:none\">bigcharts-data-start/{\"chart\":{\"height\":500,\"type\":\"column\",\"renderTo\":\"bigchart-9a866f66a47b4702b98be019923e39a7\"},\"legend\":{\"enabled\":true},\"title\":{\"text\":\"IC\\u4fe1\\u53f7\\u8870\\u51cf\"},\"stock\":false,\"series\":[{\"name\":\"IC\",\"yAxis\":0,\"data\":[[\"\\u6ede\\u540e0\\u671f\",-0.0258],[\"\\u6ede\\u540e1\\u671f\",0.2026],[\"\\u6ede\\u540e2\\u671f\",0.1361],[\"\\u6ede\\u540e3\\u671f\",-0.0412],[\"\\u6ede\\u540e4\\u671f\",-0.0338]],\"color\":\"#F08B55\"}],\"xAxis\":{\"categories\":[\"\\u6ede\\u540e0\\u671f\",\"\\u6ede\\u540e1\\u671f\",\"\\u6ede\\u540e2\\u671f\",\"\\u6ede\\u540e3\\u671f\",\"\\u6ede\\u540e4\\u671f\"]}}/bigcharts-data-end</pre></div></div>\n",
       "                \n",
       "            \n",
       "            </div><div class=\"type_title_left\"><p>买入信号重合分析<i class=\"fa fa-question-circle-o\" title=\"分布对最小和最大分位组，计算当期和滞后n期所选股票的重合度。\"></i></p></div><div id=\"bigchart-29f58abb3e2f48fdafe1d08151050201\" class=\"bigchart\"></div><div class=\"bigchart-data\"><pre style=\"display:none\">bigcharts-data-start/{\"chart\":{\"height\":500,\"type\":\"column\",\"renderTo\":\"bigchart-29f58abb3e2f48fdafe1d08151050201\"},\"legend\":{\"enabled\":true},\"title\":{\"text\":\"\\u4e70\\u5165\\u4fe1\\u53f7\\u91cd\\u5408\\u5ea6\"},\"stock\":false,\"series\":[{\"name\":\"\\u6700\\u5c0f\\u5206\\u4f4d\",\"yAxis\":0,\"data\":[[\"\\u6ede\\u540e1\\u671f\",0.2511],[\"\\u6ede\\u540e2\\u671f\",0.2345],[\"\\u6ede\\u540e3\\u671f\",0.2281],[\"\\u6ede\\u540e4\\u671f\",0.2208],[\"\\u6ede\\u540e5\\u671f\",0.2187],[\"\\u6ede\\u540e6\\u671f\",0.2151],[\"\\u6ede\\u540e7\\u671f\",0.2099],[\"\\u6ede\\u540e8\\u671f\",0.2087],[\"\\u6ede\\u540e9\\u671f\",0.2048],[\"\\u6ede\\u540e10\\u671f\",0.2056]],\"color\":\"#F08B55\"},{\"name\":\"\\u6700\\u5927\\u5206\\u4f4d\",\"yAxis\":0,\"data\":[[\"\\u6ede\\u540e1\\u671f\",0.223],[\"\\u6ede\\u540e2\\u671f\",0.2165],[\"\\u6ede\\u540e3\\u671f\",0.2095],[\"\\u6ede\\u540e4\\u671f\",0.2066],[\"\\u6ede\\u540e5\\u671f\",0.2028],[\"\\u6ede\\u540e6\\u671f\",0.2029],[\"\\u6ede\\u540e7\\u671f\",0.199],[\"\\u6ede\\u540e8\\u671f\",0.1979],[\"\\u6ede\\u540e9\\u671f\",0.1949],[\"\\u6ede\\u540e10\\u671f\",0.1939]],\"color\":\"#648FD5\"}],\"xAxis\":{\"categories\":[\"\\u6ede\\u540e1\\u671f\",\"\\u6ede\\u540e2\\u671f\",\"\\u6ede\\u540e3\\u671f\",\"\\u6ede\\u540e4\\u671f\",\"\\u6ede\\u540e5\\u671f\",\"\\u6ede\\u540e6\\u671f\",\"\\u6ede\\u540e7\\u671f\",\"\\u6ede\\u540e8\\u671f\",\"\\u6ede\\u540e9\\u671f\",\"\\u6ede\\u540e10\\u671f\"]}}/bigcharts-data-end</pre></div><div class=\"type_title_left\"><p>因子估值分析<i class=\"fa fa-question-circle-o\" title=\"衡量因子估值高低，估值越低，该因子越可以加大配置。\"></i></p></div><div id=\"bigchart-dd3405722d0c4b898f387b0834ba753e\" class=\"bigchart\"></div><div class=\"bigchart-data\"><pre style=\"display:none\">bigcharts-data-start/{\"chart\":{\"height\":500,\"renderTo\":\"bigchart-dd3405722d0c4b898f387b0834ba753e\"},\"legend\":{\"enabled\":true},\"title\":{\"text\":\"PB\\u4f30\\u503c\\u5206\\u6790\"},\"stock\":true,\"series\":[{\"name\":\"1\\u5206\\u4f4d\\u6570\",\"yAxis\":0,\"data\":[[1476144000000,null],[1476230400000,4.6711],[1476316800000,5.0406],[1476403200000,4.0942],[1476662400000,4.8731],[1476748800000,3.5964],[1476835200000,4.8877],[1476921600000,4.9831],[1477008000000,6.3198],[1477267200000,4.1834],[1477353600000,3.6522],[1477440000000,3.7128],[1477526400000,4.4118],[1477612800000,5.0851],[1477872000000,3.8746],[1477958400000,4.7064],[1478044800000,4.3052],[1478131200000,5.0854],[1478217600000,5.0243],[1478476800000,3.5618],[1478563200000,4.6088],[1478649600000,3.7417],[1478736000000,5.3095],[1478822400000,4.9097],[1479081600000,4.2909],[1479168000000,3.8031],[1479254400000,3.8884],[1479340800000,4.1095],[1479427200000,3.4393],[1479686400000,3.9099],[1479772800000,4.0511],[1479859200000,4.0962],[1479945600000,3.1784],[1480032000000,3.0947],[1480291200000,2.8715],[1480377600000,4.1218],[1480464000000,2.991],[1480550400000,4.0854],[1480636800000,5.209],[1480896000000,3.8703],[1480982400000,4.8605],[1481068800000,4.3777],[1481155200000,4.4911],[1481241600000,4.412],[1481500800000,2.7725],[1481587200000,3.0789],[1481673600000,4.7197],[1481760000000,3.8006],[1481846400000,5.3011],[1482105600000,4.2663],[1482192000000,3.8464],[1482278400000,4.1461],[1482364800000,3.856],[1482451200000,2.7516],[1482710400000,3.8314],[1482796800000,5.5475],[1482883200000,4.2149],[1482969600000,4.5096],[1483056000000,5.2482],[1483401600000,3.1203],[1483488000000,4.2175],[1483574400000,4.5613],[1483660800000,4.2741],[1483920000000,3.5692],[1484006400000,2.8925],[1484092800000,3.3078],[1484179200000,4.4907],[1484265600000,5.4838],[1484524800000,3.722],[1484611200000,2.9141],[1484697600000,2.9807],[1484784000000,4.2912],[1484870400000,2.9856],[1485129600000,3.8527],[1485216000000,4.306],[1485302400000,3.1652],[1485388800000,3.0704],[1486080000000,3.7102],[1486339200000,4.323],[1486425600000,4.1367],[1486512000000,4.4588],[1486598400000,4.702],[1486684800000,4.3772],[1486944000000,3.8602],[1487030400000,3.1904],[1487116800000,5.0565],[1487203200000,3.3335],[1487289600000,3.6428],[1487548800000,3.5623],[1487635200000,2.8197],[1487721600000,4.364],[1487808000000,4.2571],[1487894400000,5.2303],[1488153600000,5.5893],[1488240000000,4.7851],[1488326400000,4.7455],[1488412800000,4.092],[1488499200000,4.1907],[1488758400000,5.8276],[1488844800000,3.8095],[1488931200000,4.0603],[1489017600000,3.9982],[1489104000000,5.402],[1489363200000,5.4946],[1489449600000,4.2463],[1489536000000,4.1484],[1489622400000,4.3181],[1489708800000,4.0485],[1489968000000,4.9545],[1490054400000,5.1681],[1490140800000,3.7379],[1490227200000,4.2353],[1490313600000,4.6819],[1490572800000,3.6163],[1490659200000,3.2685],[1490745600000,5.5968],[1490832000000,3.8721],[1490918400000,3.185],[1491350400000,3.427],[1491436800000,4.2719],[1491523200000,4.0645],[1491782400000,3.5816],[1491868800000,3.0413],[1491955200000,3.3633],[1492041600000,3.2602],[1492128000000,3.5375],[1492387200000,3.8693],[1492473600000,4.5715],[1492560000000,3.2696],[1492646400000,4.8592],[1492732800000,4.0109],[1492992000000,2.9018],[1493078400000,4.572],[1493164800000,3.969],[1493251200000,3.991],[1493337600000,4.9118],[1493683200000,3.6725],[1493769600000,3.6764],[1493856000000,5.1771],[1493942400000,5.1466],[1494201600000,4.7997],[1494288000000,3.8669],[1494374400000,3.5336],[1494460800000,3.2919],[1494547200000,4.8224],[1494806400000,3.2224],[1494892800000,3.057],[1494979200000,5.1799],[1495065600000,3.711],[1495152000000,4.9572],[1495411200000,3.152],[1495497600000,3.1482],[1495584000000,3.1934],[1495670400000,3.1494],[1495756800000,3.0848],[1496188800000,4.2697],[1496275200000,3.135],[1496361600000,3.2079],[1496620800000,3.2904],[1496707200000,3.6403],[1496793600000,3.2629],[1496880000000,3.2841],[1496966400000,3.7304],[1497225600000,2.925],[1497312000000,3.2493],[1497398400000,3.7],[1497484800000,3.7201],[1497571200000,3.563],[1497830400000,3.3073],[1497916800000,2.7658],[1498003200000,3.6839],[1498089600000,3.2742],[1498176000000,3.0414],[1498435200000,4.2902],[1498521600000,3.5409],[1498608000000,3.6826],[1498694400000,3.218],[1498780800000,3.0731],[1499040000000,4.2169],[1499126400000,3.4551],[1499212800000,4.1435],[1499299200000,4.4313],[1499385600000,3.6185],[1499644800000,4.5302],[1499731200000,3.0615],[1499817600000,2.5808],[1499904000000,3.9642],[1499990400000,3.519],[1500249600000,2.6522],[1500336000000,3.1298],[1500422400000,3.5649],[1500508800000,3.8532],[1500595200000,3.599],[1500854400000,2.809],[1500940800000,2.7271],[1501027200000,3.8239],[1501113600000,4.2861],[1501200000000,3.6974],[1501459200000,3.2935],[1501545600000,3.0151],[1501632000000,3.2383],[1501718400000,3.7166],[1501804800000,4.8073],[1502064000000,3.566],[1502150400000,3.6997],[1502236800000,3.2713],[1502323200000,3.9633],[1502409600000,4.2169],[1502668800000,4.7086],[1502755200000,4.1958],[1502841600000,3.5353],[1502928000000,3.8993],[1503014400000,3.5165],[1503273600000,2.9064],[1503360000000,2.8249],[1503446400000,4.0056],[1503532800000,4.3465],[1503619200000,4.4853],[1503878400000,2.6803],[1503964800000,3.3038],[1504051200000,3.6032],[1504137600000,2.9585],[1504224000000,4.3043],[1504483200000,3.8892],[1504569600000,3.7923],[1504656000000,3.2279],[1504742400000,4.872],[1504828800000,3.8272],[1505088000000,3.9673],[1505174400000,3.5632],[1505260800000,3.5596],[1505347200000,3.5123],[1505433600000,3.3733],[1505692800000,3.3705],[1505779200000,3.2743],[1505865600000,3.8027],[1505952000000,4.818],[1506038400000,4.096],[1506297600000,4.9973],[1506384000000,4.7425],[1506470400000,4.5275],[1506556800000,3.0684],[1506643200000,4.2207],[1507507200000,3.4747],[1507593600000,4.1656],[1507680000000,3.8948],[1507766400000,3.7684],[1507852800000,3.427],[1508112000000,4.8224],[1508198400000,3.8685],[1508284800000,4.963],[1508371200000,3.6974],[1508457600000,3.8529],[1508716800000,4.6771],[1508803200000,3.8317],[1508889600000,3.1775],[1508976000000,3.1219],[1509062400000,3.5813],[1509321600000,2.9113],[1509408000000,4.6694],[1509494400000,4.1989],[1509580800000,3.4183],[1509667200000,4.6719],[1509926400000,4.4495],[1510012800000,4.8809],[1510099200000,3.8878],[1510185600000,3.4387],[1510272000000,2.7112],[1510531200000,3.8953],[1510617600000,3.4555],[1510704000000,4.5856],[1510790400000,4.1992],[1510876800000,3.405],[1511136000000,3.8282],[1511222400000,4.0157],[1511308800000,3.1477],[1511395200000,3.0415],[1511481600000,3.7451],[1511740800000,3.8758],[1511827200000,2.4455],[1511913600000,2.9776],[1512000000000,3.1588],[1512086400000,2.3343],[1512345600000,3.7968],[1512432000000,2.6288],[1512518400000,3.5783],[1512604800000,4.1817],[1512691200000,3.2641],[1512950400000,3.3624],[1513036800000,3.1876],[1513123200000,3.1288],[1513209600000,4.3992],[1513296000000,3.46],[1513555200000,4.0448],[1513641600000,2.6765],[1513728000000,2.5437],[1513814400000,3.8621],[1513900800000,4.3007],[1514160000000,2.702],[1514246400000,2.9649],[1514332800000,4.2272],[1514419200000,2.8424],[1514505600000,2.5191],[1514851200000,2.8211],[1514937600000,3.691],[1515024000000,3.9058],[1515110400000,2.8521],[1515369600000,2.3988],[1515456000000,2.5636],[1515542400000,2.9393],[1515628800000,4.251],[1515715200000,4.4277],[1515974400000,3.0555],[1516060800000,3.9192],[1516147200000,4.183],[1516233600000,2.952],[1516320000000,2.6095],[1516579200000,2.622],[1516665600000,2.7243],[1516752000000,3.1883],[1516838400000,3.1647],[1516924800000,3.3586],[1517184000000,2.6654],[1517270400000,2.6796],[1517356800000,3.4863],[1517443200000,4.135],[1517529600000,3.1416],[1517788800000,3.9296],[1517875200000,2.278],[1517961600000,2.6851],[1518048000000,3.1565],[1518134400000,2.7331],[1518393600000,3.5953],[1518480000000,2.673],[1518566400000,3.0609],[1519257600000,3.1111],[1519344000000,2.9067],[1519603200000,2.786],[1519689600000,3.3887],[1519776000000,2.8578],[1519862400000,3.7458],[1519948800000,2.874],[1520208000000,3.1318],[1520294400000,3.1535],[1520380800000,2.8264],[1520467200000,2.4884],[1520553600000,3.9259],[1520812800000,3.1685],[1520899200000,3.359],[1520985600000,2.5516],[1521072000000,3.7862],[1521158400000,4.0542],[1521417600000,2.848],[1521504000000,3.8266],[1521590400000,4.0709],[1521676800000,3.2402],[1521763200000,2.7673],[1522022400000,3.2874],[1522108800000,3.7582],[1522195200000,3.0696],[1522281600000,3.8289],[1522368000000,2.6387],[1522627200000,3.1631],[1522713600000,3.1528],[1522800000000,4.8595],[1523232000000,3.0711],[1523318400000,4.9441],[1523404800000,2.979],[1523491200000,3.0468],[1523577600000,4.1237],[1523836800000,3.6746],[1523923200000,3.9423],[1524009600000,4.3818],[1524096000000,3.5852],[1524182400000,3.0901],[1524441600000,3.7238],[1524528000000,3.9853],[1524614400000,2.6494],[1524700800000,2.5612],[1524787200000,3.5207],[1525219200000,3.5252],[1525305600000,2.4693],[1525392000000,3.8456],[1525651200000,2.9281],[1525737600000,2.9521],[1525824000000,2.9939],[1525910400000,2.3132],[1525996800000,2.5859],[1526256000000,2.7584],[1526342400000,3.223],[1526428800000,3.9415],[1526515200000,3.1096],[1526601600000,2.9674],[1526860800000,2.4221],[1526947200000,2.9856],[1527033600000,3.781],[1527120000000,3.7821],[1527206400000,4.0264],[1527465600000,4.2967],[1527552000000,4.1393],[1527638400000,2.5244],[1527724800000,3.1155],[1527811200000,2.7427],[1528070400000,2.1643],[1528156800000,1.9026],[1528243200000,2.7178],[1528329600000,2.5359],[1528416000000,2.4155],[1528675200000,4.2992],[1528761600000,4.6628],[1528848000000,2.1051],[1528934400000,2.7315],[1529020800000,3.5481],[1529366400000,2.1158],[1529452800000,2.9874],[1529539200000,3.5718],[1529625600000,2.2718],[1529884800000,4.0403],[1529971200000,2.4828],[1530057600000,4.1125],[1530144000000,2.6499],[1530230400000,3.3007],[1530489600000,2.8695],[1530576000000,2.416],[1530662400000,3.6274],[1530748800000,1.8386],[1530835200000,3.0863],[1531094400000,4.1606],[1531180800000,2.8962],[1531267200000,2.4338],[1531353600000,3.8047],[1531440000000,2.3326],[1531699200000,3.0094],[1531785600000,2.8446],[1531872000000,2.7563],[1531958400000,2.3878],[1532044800000,2.5378],[1532304000000,3.2824],[1532390400000,3.1264],[1532476800000,3.1405],[1532563200000,2.3862],[1532649600000,2.1528],[1532908800000,1.9091],[1532995200000,2.8136],[1533081600000,2.3309],[1533168000000,2.1918],[1533254400000,3.5686],[1533513600000,2.1915],[1533600000000,2.1047],[1533686400000,2.2427],[1533772800000,2.7761],[1533859200000,2.7153],[1534118400000,2.3834],[1534204800000,3.5147],[1534291200000,2.3764],[1534377600000,2.3393],[1534464000000,3.5078],[1534723200000,2.222],[1534809600000,3.5525],[1534896000000,2.4579],[1534982400000,2.2738],[1535068800000,3.1906],[1535328000000,3.0804],[1535414400000,2.4906],[1535500800000,2.5133],[1535587200000,2.2635],[1535673600000,2.3105],[1535932800000,2.9939],[1536019200000,2.1995],[1536105600000,2.3398],[1536192000000,2.2124],[1536278400000,3.2768],[1536537600000,2.1225],[1536624000000,2.653],[1536710400000,2.77],[1536796800000,2.5355],[1536883200000,2.4549],[1537142400000,1.7252],[1537228800000,2.6812],[1537315200000,2.4535],[1537401600000,2.1374],[1537488000000,1.8767],[1537833600000,1.8725],[1537920000000,1.9572],[1538006400000,1.9921],[1538092800000,2.5996],[1538956800000,2.0475],[1539043200000,2.4791],[1539129600000,2.631],[1539216000000,1.8561],[1539302400000,2.53],[1539561600000,2.558],[1539648000000,1.811],[1539734400000,2.7577],[1539820800000,2.7047],[1539907200000,2.8476],[1540166400000,3.0764],[1540252800000,1.6776],[1540339200000,2.1262],[1540425600000,2.5927],[1540512000000,2.4844],[1540771200000,1.3716],[1540857600000,1.8367],[1540944000000,2.6692],[1541030400000,1.8406],[1541116800000,2.1931],[1541376000000,2.1352],[1541462400000,2.2386],[1541548800000,1.6017],[1541635200000,1.7538],[1541721600000,2.2979],[1541980800000,2.5928],[1542067200000,2.2516],[1542153600000,2.223],[1542240000000,2.511],[1542326400000,2.5954],[1542585600000,2.621],[1542672000000,1.6848],[1542758400000,2.654],[1542844800000,2.722],[1542931200000,2.0392],[1543190400000,2.9278],[1543276800000,2.4648],[1543363200000,2.0712],[1543449600000,2.8612],[1543536000000,2.1135],[1543795200000,2.9736],[1543881600000,1.9406],[1543968000000,1.8064],[1544054400000,2.607],[1544140800000,2.4189],[1544400000000,2.4947],[1544486400000,2.391],[1544572800000,2.4627],[1544659200000,1.8836],[1544745600000,1.8567],[1545004800000,1.8942],[1545091200000,2.8665],[1545177600000,2.5335],[1545264000000,2.5638],[1545350400000,2.9492],[1545609600000,2.7639],[1545696000000,2.3171],[1545782400000,2.869],[1545868800000,1.7583],[1545955200000,1.7035],[1546387200000,2.7946],[1546473600000,1.9573],[1546560000000,2.2897],[1546819200000,1.9264],[1546905600000,2.1758],[1546992000000,2.0192],[1547078400000,2.2838],[1547164800000,2.6223],[1547424000000,2.0844],[1547510400000,1.6329],[1547596800000,2.3725],[1547683200000,1.9166],[1547769600000,1.8435],[1548028800000,1.704],[1548115200000,2.0235],[1548201600000,2.8777],[1548288000000,2.9514],[1548374400000,2.3408],[1548633600000,1.6873],[1548720000000,1.8754],[1548806400000,2.3501],[1548892800000,1.8586],[1548979200000,2.241],[1549843200000,1.7129],[1549929600000,2.3041],[1550016000000,2.2403],[1550102400000,1.9102],[1550188800000,1.9703],[1550448000000,2.3644],[1550534400000,2.3178],[1550620800000,2.1883],[1550707200000,2.0338],[1550793600000,2.3522],[1551052800000,3.0452],[1551139200000,2.2768],[1551225600000,2.5553],[1551312000000,2.0299],[1551398400000,2.4976],[1551657600000,2.6867],[1551744000000,1.5904],[1551830400000,2.9197],[1551916800000,2.3913],[1552003200000,2.5774],[1552262400000,3.1696],[1552348800000,3.079],[1552435200000,2.4147],[1552521600000,2.7823],[1552608000000,2.3978],[1552867200000,2.4323],[1552953600000,2.6579],[1553040000000,2.5762],[1553126400000,3.1243],[1553212800000,2.7241],[1553472000000,2.754],[1553558400000,2.4634],[1553644800000,3.2124],[1553731200000,3.4097],[1553817600000,2.8365],[1554076800000,2.6175],[1554163200000,2.3756],[1554249600000,2.8013],[1554336000000,2.1862],[1554681600000,3.9208],[1554768000000,2.322],[1554854400000,3.0579],[1554940800000,3.2404],[1555027200000,2.4509],[1555286400000,3.273],[1555372800000,2.7458],[1555459200000,3.6812],[1555545600000,2.7555],[1555632000000,2.8573],[1555891200000,3.1054],[1555977600000,2.7567],[1556064000000,3.5312],[1556150400000,3.5378],[1556236800000,3.2567],[1556496000000,3.4221],[1556582400000,3.138],[1557100800000,2.1263],[1557187200000,2.5397],[1557273600000,2.8721],[1557360000000,3.1034],[1557446400000,2.2088],[1557705600000,2.4963],[1557792000000,2.0172],[1557878400000,3.3032],[1557964800000,2.515],[1558051200000,2.2128],[1558310400000,3.1744],[1558396800000,3.2832],[1558483200000,2.591],[1558569600000,2.1261],[1558656000000,3.2932],[1558915200000,2.6735],[1559001600000,2.1591],[1559088000000,1.7678],[1559174400000,3.4004],[1559260800000,3.0],[1559520000000,2.2558],[1559606400000,3.0415],[1559692800000,3.6999],[1559779200000,2.0226],[1560124800000,3.0389],[1560211200000,2.5528],[1560297600000,1.955],[1560384000000,2.4553],[1560470400000,3.1646],[1560729600000,2.0041],[1560816000000,2.939],[1560902400000,2.4253],[1560988800000,2.1439],[1561075200000,2.42],[1561334400000,2.0156],[1561420800000,2.5195],[1561507200000,3.2233],[1561593600000,3.1401],[1561680000000,2.4879],[1561939200000,3.1833],[1562025600000,2.436],[1562112000000,2.0895],[1562198400000,2.6125],[1562284800000,1.9388],[1562544000000,3.0352],[1562630400000,3.4144],[1562716800000,3.2837],[1562803200000,2.9311],[1562889600000,2.5833],[1563148800000,2.5309],[1563235200000,2.8012],[1563321600000,2.5581],[1563408000000,1.7598],[1563494400000,3.2482],[1563753600000,2.0771],[1563840000000,3.3949],[1563926400000,2.6519],[1564012800000,2.3243],[1564099200000,2.9657],[1564358400000,2.4282],[1564444800000,2.1537],[1564531200000,2.0576],[1564617600000,3.2121],[1564704000000,3.149],[1564963200000,3.2909],[1565049600000,2.9517],[1565136000000,3.1465],[1565222400000,2.0273],[1565308800000,2.0797],[1565568000000,2.9689],[1565654400000,3.258],[1565740800000,2.2313],[1565827200000,2.0931],[1565913600000,3.4262],[1566172800000,2.0713],[1566259200000,2.3095],[1566345600000,2.4084],[1566432000000,3.0897],[1566518400000,2.626],[1566777600000,2.0772],[1566864000000,3.2321],[1566950400000,1.922],[1567036800000,1.8111],[1567123200000,2.6142],[1567382400000,3.1475],[1567468800000,2.7054],[1567555200000,2.4634],[1567641600000,1.9848],[1567728000000,2.0349],[1567987200000,3.1494],[1568073600000,2.8553],[1568160000000,2.4791],[1568246400000,1.7995],[1568592000000,1.5839],[1568678400000,2.2561],[1568764800000,3.5274],[1568851200000,3.8589],[1568937600000,2.8917],[1569196800000,2.1973],[1569283200000,3.4559],[1569369600000,2.6972],[1569456000000,3.3267],[1569542400000,2.8432],[1569801600000,3.397],[1570492800000,2.0638],[1570579200000,2.4197],[1570665600000,2.1525],[1570752000000,2.1139],[1571011200000,2.3318],[1571097600000,2.7392],[1571184000000,2.8737],[1571270400000,2.4791],[1571356800000,3.5456],[1571616000000,3.0256],[1571702400000,3.1031],[1571788800000,2.2987],[1571875200000,1.8575],[1571961600000,3.1541],[1572220800000,1.8502],[1572307200000,2.5352],[1572393600000,2.5236],[1572480000000,3.1003],[1572566400000,2.5452],[1572825600000,2.9212],[1572912000000,2.4445],[1572998400000,2.6548],[1573084800000,2.3538],[1573171200000,3.3517],[1573430400000,2.1756],[1573516800000,3.3566],[1573603200000,3.6037],[1573689600000,2.5763],[1573776000000,2.8521],[1574035200000,3.4601],[1574121600000,3.6634],[1574208000000,2.0965],[1574294400000,2.3436],[1574380800000,3.2512],[1574640000000,2.1209],[1574726400000,1.4518],[1574812800000,1.8916],[1574899200000,3.0884],[1574985600000,2.9972],[1575244800000,3.4439],[1575331200000,1.9653],[1575417600000,3.1966],[1575504000000,2.0767],[1575590400000,2.335],[1575849600000,2.2735],[1575936000000,1.8415],[1576022400000,2.5668],[1576108800000,2.387],[1576195200000,2.1431],[1576454400000,2.1192],[1576540800000,2.4663],[1576627200000,2.7295],[1576713600000,1.2237],[1576800000000,3.2881],[1577059200000,1.1841],[1577145600000,2.9375],[1577232000000,3.1588],[1577318400000,3.1496],[1577404800000,1.2315],[1577664000000,2.654],[1577750400000,2.1693],[1577923200000,2.5957],[1578009600000,1.9068],[1578268800000,2.838],[1578355200000,2.0697],[1578441600000,2.2026],[1578528000000,3.0156],[1578614400000,2.519],[1578873600000,2.9345],[1578960000000,3.2203],[1579046400000,2.9012],[1579132800000,4.0336],[1579219200000,3.3333],[1579478400000,3.4431],[1579564800000,3.1522],[1579651200000,2.9366],[1579737600000,3.886],[1580688000000,3.0432],[1580774400000,4.1691],[1580860800000,3.0936],[1580947200000,2.456],[1581033600000,1.8495],[1581292800000,1.9838],[1581379200000,2.6026],[1581465600000,2.2131],[1581552000000,3.2404],[1581638400000,1.9582],[1581897600000,1.7027],[1581984000000,1.315],[1582070400000,2.4036],[1582156800000,2.4798],[1582243200000,2.0202],[1582502400000,2.8364],[1582588800000,3.5775],[1582675200000,3.9176],[1582761600000,3.1965],[1582848000000,1.2376],[1583107200000,3.0513],[1583193600000,2.0385],[1583280000000,2.5821],[1583452800000,null],[1583712000000,1.912],[1583798400000,2.5407],[1583884800000,4.0397],[1583971200000,2.6183],[1584057600000,3.0931],[1584316800000,3.527],[1584403200000,2.4231],[1584489600000,3.0207],[1584576000000,2.0206],[1584662400000,3.226],[1584921600000,1.927],[1585008000000,2.3862],[1585094400000,1.9003],[1585180800000,2.2937],[1585267200000,2.5071],[1585526400000,2.1877],[1585612800000,2.8976],[1585699200000,1.8321],[1585785600000,3.0816],[1585872000000,3.1718],[1586217600000,2.4859],[1586304000000,1.481],[1586390400000,2.5882],[1586476800000,2.3207],[1586736000000,2.6796],[1586822400000,2.5402],[1586908800000,2.304],[1586995200000,2.4422],[1587081600000,3.5442],[1587340800000,2.2571],[1587427200000,2.5964],[1587513600000,3.1263],[1587600000000,3.247],[1587686400000,2.4119],[1587945600000,2.5923],[1588032000000,3.4402],[1588118400000,2.8944],[1588204800000,2.1113],[1588723200000,2.3536],[1588809600000,2.7688],[1588896000000,1.8521],[1589155200000,2.084],[1589241600000,1.7431],[1589328000000,3.2729],[1589414400000,3.4458],[1589500800000,3.2401],[1589760000000,3.1552],[1589846400000,2.5414],[1589932800000,1.9265],[1590019200000,3.8793],[1590105600000,1.9271],[1590364800000,2.7096],[1590451200000,3.212],[1590537600000,2.1101],[1590624000000,2.422],[1590710400000,1.6355],[1590969600000,2.7938],[1591056000000,2.8207],[1591142400000,2.3861],[1591228800000,1.8154],[1591315200000,3.3749],[1591574400000,3.6442],[1591660800000,2.2039],[1591747200000,2.0746],[1591833600000,4.2552],[1591920000000,3.5714],[1592179200000,3.873],[1592265600000,2.2844],[1592352000000,2.1122],[1592438400000,2.1599],[1592524800000,1.8526],[1592784000000,2.1393],[1592870400000,2.9254],[1592956800000,4.1345],[1593388800000,2.9345],[1593475200000,3.6205],[1593561600000,3.5265],[1593648000000,1.4459],[1593734400000,3.4178],[1593993600000,2.2693],[1594080000000,2.217],[1594166400000,3.0496],[1594252800000,4.0152],[1594339200000,2.2247],[1594598400000,3.1897],[1594684800000,3.1216],[1594771200000,2.4478],[1594857600000,3.1477],[1594944000000,3.5784],[1595203200000,4.0518],[1595289600000,3.7538],[1595376000000,2.8034],[1595462400000,3.7164],[1595548800000,3.8311],[1595808000000,2.7929],[1595894400000,4.5463],[1595980800000,2.4143],[1596067200000,3.61],[1596153600000,2.7362],[1596412800000,3.9522],[1596499200000,3.0261],[1596585600000,2.715],[1596672000000,4.1003],[1596758400000,2.7337],[1597017600000,4.2099],[1597104000000,2.0365],[1597190400000,2.2832],[1597276800000,3.576],[1597363200000,2.4717],[1597622400000,3.6523],[1597708800000,3.2957],[1597795200000,2.7682],[1597881600000,2.4867],[1597968000000,2.9516],[1598227200000,3.9911],[1598313600000,3.0942],[1598400000000,3.0638],[1598486400000,3.4774],[1598572800000,3.4881],[1598832000000,2.7923],[1598918400000,2.9929],[1599004800000,4.0924],[1599091200000,3.2494],[1599177600000,2.7146],[1599436800000,4.2351],[1599523200000,3.0303],[1599609600000,2.2352],[1599696000000,2.492],[1599782400000,2.9104],[1600041600000,4.2059],[1600128000000,2.88],[1600214400000,4.3267],[1600300800000,2.9594],[1600387200000,2.2138],[1600646400000,2.8035],[1600732800000,2.8427],[1600819200000,4.1119],[1600905600000,4.3122],[1600992000000,4.018],[1601251200000,4.2404],[1601337600000,2.3142],[1601424000000,3.46],[1602201600000,3.8137],[1602460800000,3.3053],[1602547200000,3.3651],[1602633600000,3.1046],[1602720000000,3.8408],[1602806400000,3.0273],[1603065600000,2.007],[1603152000000,2.2819],[1603238400000,4.1842],[1603324800000,3.6612],[1603411200000,3.5727],[1603670400000,2.1768],[1603756800000,3.1876],[1603843200000,3.5797],[1603929600000,3.377],[1604016000000,3.4139],[1604275200000,2.6784],[1604361600000,3.419],[1604448000000,2.7657]],\"color\":\"#F08B55\"},{\"name\":\"2\\u5206\\u4f4d\\u6570\",\"yAxis\":0,\"data\":[[1476144000000,null],[1476230400000,4.9563],[1476316800000,4.0123],[1476403200000,4.5928],[1476662400000,3.5791],[1476748800000,4.1795],[1476835200000,3.7807],[1476921600000,3.6577],[1477008000000,4.2936],[1477267200000,3.9698],[1477353600000,5.5805],[1477440000000,5.0095],[1477526400000,3.8903],[1477612800000,4.043],[1477872000000,3.8214],[1477958400000,3.8449],[1478044800000,5.2251],[1478131200000,3.4938],[1478217600000,4.1898],[1478476800000,5.0581],[1478563200000,4.1223],[1478649600000,5.2868],[1478736000000,3.7012],[1478822400000,2.7681],[1479081600000,5.8392],[1479168000000,6.5042],[1479254400000,3.7862],[1479340800000,3.7257],[1479427200000,3.7129],[1479686400000,4.1483],[1479772800000,3.8434],[1479859200000,5.2989],[1479945600000,6.0484],[1480032000000,3.8643],[1480291200000,4.0007],[1480377600000,5.1231],[1480464000000,4.1686],[1480550400000,4.0901],[1480636800000,3.3017],[1480896000000,3.6908],[1480982400000,4.0324],[1481068800000,3.2303],[1481155200000,4.426],[1481241600000,3.3443],[1481500800000,3.3904],[1481587200000,3.4117],[1481673600000,3.6569],[1481760000000,4.6977],[1481846400000,3.8906],[1482105600000,4.5599],[1482192000000,4.3132],[1482278400000,4.2297],[1482364800000,4.8388],[1482451200000,4.3111],[1482710400000,3.7853],[1482796800000,4.1532],[1482883200000,3.8032],[1482969600000,4.0034],[1483056000000,3.9212],[1483401600000,4.8429],[1483488000000,3.569],[1483574400000,3.8278],[1483660800000,3.6151],[1483920000000,3.6785],[1484006400000,4.2206],[1484092800000,5.7002],[1484179200000,3.7499],[1484265600000,3.8253],[1484524800000,3.1556],[1484611200000,3.4366],[1484697600000,3.3409],[1484784000000,2.6533],[1484870400000,3.4877],[1485129600000,4.7391],[1485216000000,3.4277],[1485302400000,4.0798],[1485388800000,3.8888],[1486080000000,3.3606],[1486339200000,3.8282],[1486425600000,4.0748],[1486512000000,4.2523],[1486598400000,3.93],[1486684800000,3.3317],[1486944000000,6.1146],[1487030400000,4.6196],[1487116800000,2.5774],[1487203200000,3.7225],[1487289600000,3.3974],[1487548800000,4.7386],[1487635200000,3.9629],[1487721600000,3.0809],[1487808000000,4.0636],[1487894400000,3.4736],[1488153600000,3.1908],[1488240000000,3.7556],[1488326400000,3.9068],[1488412800000,4.1447],[1488499200000,3.7374],[1488758400000,4.4772],[1488844800000,4.3794],[1488931200000,4.4699],[1489017600000,3.708],[1489104000000,4.131],[1489363200000,3.7221],[1489449600000,3.5081],[1489536000000,2.7616],[1489622400000,3.7479],[1489708800000,2.7341],[1489968000000,3.6632],[1490054400000,3.7661],[1490140800000,3.7534],[1490227200000,3.425],[1490313600000,3.3936],[1490572800000,4.0516],[1490659200000,5.7758],[1490745600000,4.1672],[1490832000000,3.4625],[1490918400000,3.4905],[1491350400000,3.5946],[1491436800000,4.3754],[1491523200000,4.7626],[1491782400000,3.5323],[1491868800000,3.9661],[1491955200000,3.5599],[1492041600000,3.9328],[1492128000000,3.2838],[1492387200000,3.3377],[1492473600000,3.5578],[1492560000000,3.3271],[1492646400000,3.3292],[1492732800000,3.1861],[1492992000000,3.202],[1493078400000,3.3657],[1493164800000,2.9702],[1493251200000,3.0596],[1493337600000,3.1296],[1493683200000,3.7844],[1493769600000,3.8471],[1493856000000,3.2484],[1493942400000,3.5706],[1494201600000,3.5112],[1494288000000,3.2589],[1494374400000,3.0945],[1494460800000,4.2268],[1494547200000,3.4852],[1494806400000,3.067],[1494892800000,4.9112],[1494979200000,3.1909],[1495065600000,3.3093],[1495152000000,3.5412],[1495411200000,2.9194],[1495497600000,2.9513],[1495584000000,3.0669],[1495670400000,3.1089],[1495756800000,2.5512],[1496188800000,2.2497],[1496275200000,2.776],[1496361600000,3.0715],[1496620800000,3.1979],[1496707200000,3.5666],[1496793600000,3.501],[1496880000000,2.7674],[1496966400000,3.2228],[1497225600000,3.1613],[1497312000000,3.1364],[1497398400000,3.3765],[1497484800000,3.5915],[1497571200000,3.622],[1497830400000,4.2573],[1497916800000,3.9384],[1498003200000,2.8678],[1498089600000,3.3493],[1498176000000,3.5147],[1498435200000,3.4518],[1498521600000,4.6985],[1498608000000,3.0398],[1498694400000,3.2667],[1498780800000,3.5013],[1499040000000,3.2896],[1499126400000,3.8834],[1499212800000,3.3649],[1499299200000,3.348],[1499385600000,2.7486],[1499644800000,3.1207],[1499731200000,4.4098],[1499817600000,3.272],[1499904000000,3.436],[1499990400000,3.1954],[1500249600000,3.1996],[1500336000000,2.9913],[1500422400000,3.1265],[1500508800000,2.9861],[1500595200000,2.9723],[1500854400000,3.2997],[1500940800000,3.8908],[1501027200000,2.8844],[1501113600000,3.2173],[1501200000000,3.1455],[1501459200000,4.1257],[1501545600000,3.6287],[1501632000000,4.1655],[1501718400000,3.3716],[1501804800000,3.7034],[1502064000000,3.8438],[1502150400000,3.1106],[1502236800000,4.1697],[1502323200000,3.0541],[1502409600000,3.1885],[1502668800000,3.5975],[1502755200000,2.9121],[1502841600000,3.3929],[1502928000000,2.6826],[1503014400000,3.886],[1503273600000,3.3464],[1503360000000,4.9472],[1503446400000,2.9765],[1503532800000,3.4203],[1503619200000,3.2525],[1503878400000,3.6803],[1503964800000,3.135],[1504051200000,3.5327],[1504137600000,3.2152],[1504224000000,3.1252],[1504483200000,3.5088],[1504569600000,3.3571],[1504656000000,3.3404],[1504742400000,3.5863],[1504828800000,3.6043],[1505088000000,3.1882],[1505174400000,3.6666],[1505260800000,4.1862],[1505347200000,3.1028],[1505433600000,3.6851],[1505692800000,3.3198],[1505779200000,3.4511],[1505865600000,3.5947],[1505952000000,3.3673],[1506038400000,3.2949],[1506297600000,3.5242],[1506384000000,3.208],[1506470400000,3.3097],[1506556800000,3.9745],[1506643200000,2.806],[1507507200000,3.2849],[1507593600000,2.5035],[1507680000000,3.1002],[1507766400000,3.676],[1507852800000,3.1377],[1508112000000,3.0727],[1508198400000,3.5179],[1508284800000,3.711],[1508371200000,3.0659],[1508457600000,3.3406],[1508716800000,3.4228],[1508803200000,2.9554],[1508889600000,3.4784],[1508976000000,3.6462],[1509062400000,3.6102],[1509321600000,3.2991],[1509408000000,3.3463],[1509494400000,3.0657],[1509580800000,4.7197],[1509667200000,3.0795],[1509926400000,3.1686],[1510012800000,3.0231],[1510099200000,3.0309],[1510185600000,3.7984],[1510272000000,3.8941],[1510531200000,2.7562],[1510617600000,3.0806],[1510704000000,2.9883],[1510790400000,3.2365],[1510876800000,2.6614],[1511136000000,3.0174],[1511222400000,2.911],[1511308800000,3.0822],[1511395200000,2.9258],[1511481600000,2.8793],[1511740800000,3.0536],[1511827200000,3.3283],[1511913600000,3.4131],[1512000000000,3.2513],[1512086400000,3.7388],[1512345600000,2.8886],[1512432000000,3.0952],[1512518400000,2.9327],[1512604800000,3.237],[1512691200000,3.3472],[1512950400000,3.0223],[1513036800000,3.3586],[1513123200000,2.9874],[1513209600000,3.3358],[1513296000000,3.1651],[1513555200000,2.9124],[1513641600000,2.8858],[1513728000000,3.7082],[1513814400000,2.827],[1513900800000,3.0997],[1514160000000,3.2761],[1514246400000,2.8963],[1514332800000,2.738],[1514419200000,3.92],[1514505600000,3.044],[1514851200000,4.0464],[1514937600000,2.008],[1515024000000,2.1488],[1515110400000,4.0792],[1515369600000,3.6268],[1515456000000,3.3672],[1515542400000,3.0322],[1515628800000,3.1612],[1515715200000,3.2458],[1515974400000,3.5815],[1516060800000,2.7865],[1516147200000,2.9544],[1516233600000,3.0327],[1516320000000,4.113],[1516579200000,3.5901],[1516665600000,2.7784],[1516752000000,3.7644],[1516838400000,3.1118],[1516924800000,3.2163],[1517184000000,2.593],[1517270400000,2.8298],[1517356800000,2.6978],[1517443200000,2.5894],[1517529600000,2.6942],[1517788800000,2.9327],[1517875200000,2.5181],[1517961600000,2.4252],[1518048000000,2.6715],[1518134400000,2.5758],[1518393600000,2.8685],[1518480000000,2.4282],[1518566400000,2.0815],[1519257600000,2.2997],[1519344000000,2.0821],[1519603200000,2.9455],[1519689600000,2.6306],[1519776000000,2.965],[1519862400000,2.9691],[1519948800000,2.8349],[1520208000000,2.6172],[1520294400000,2.5084],[1520380800000,3.5963],[1520467200000,3.3947],[1520553600000,2.5861],[1520812800000,2.8117],[1520899200000,2.7955],[1520985600000,2.9482],[1521072000000,3.0016],[1521158400000,2.7032],[1521417600000,2.4451],[1521504000000,2.5949],[1521590400000,2.6226],[1521676800000,1.9089],[1521763200000,2.503],[1522022400000,2.3852],[1522108800000,2.759],[1522195200000,2.7895],[1522281600000,2.5718],[1522368000000,4.0449],[1522627200000,2.3494],[1522713600000,3.6569],[1522800000000,3.1508],[1523232000000,2.7191],[1523318400000,3.0977],[1523404800000,3.4517],[1523491200000,2.7939],[1523577600000,2.868],[1523836800000,2.4716],[1523923200000,2.7612],[1524009600000,2.8762],[1524096000000,2.8215],[1524182400000,3.063],[1524441600000,2.7505],[1524528000000,2.7184],[1524614400000,3.0619],[1524700800000,3.6347],[1524787200000,2.3501],[1525219200000,2.4514],[1525305600000,2.7204],[1525392000000,2.5156],[1525651200000,2.9552],[1525737600000,2.6856],[1525824000000,1.9131],[1525910400000,3.1244],[1525996800000,3.5118],[1526256000000,2.4506],[1526342400000,2.7712],[1526428800000,2.5958],[1526515200000,2.4154],[1526601600000,2.7699],[1526860800000,3.0981],[1526947200000,2.0189],[1527033600000,2.212],[1527120000000,2.5449],[1527206400000,2.9316],[1527465600000,2.623],[1527552000000,3.0012],[1527638400000,2.3092],[1527724800000,2.4687],[1527811200000,2.374],[1528070400000,2.8192],[1528156800000,2.9416],[1528243200000,2.2613],[1528329600000,3.7598],[1528416000000,2.6194],[1528675200000,2.6997],[1528761600000,2.7789],[1528848000000,2.8323],[1528934400000,2.3801],[1529020800000,2.3947],[1529366400000,2.406],[1529452800000,2.1887],[1529539200000,2.4208],[1529625600000,2.3497],[1529884800000,2.7574],[1529971200000,2.1567],[1530057600000,2.8535],[1530144000000,2.3431],[1530230400000,2.8048],[1530489600000,2.0241],[1530576000000,3.1396],[1530662400000,2.5357],[1530748800000,2.6759],[1530835200000,2.2723],[1531094400000,2.5704],[1531180800000,1.9019],[1531267200000,2.5227],[1531353600000,2.6643],[1531440000000,3.1658],[1531699200000,1.8616],[1531785600000,1.9651],[1531872000000,2.4918],[1531958400000,2.0747],[1532044800000,2.0192],[1532304000000,2.2041],[1532390400000,1.5236],[1532476800000,1.5287],[1532563200000,2.865],[1532649600000,2.7523],[1532908800000,2.4758],[1532995200000,2.1109],[1533081600000,2.0368],[1533168000000,2.4857],[1533254400000,2.4461],[1533513600000,1.8847],[1533600000000,2.0904],[1533686400000,2.4251],[1533772800000,1.4758],[1533859200000,2.3194],[1534118400000,2.8698],[1534204800000,2.5872],[1534291200000,2.4357],[1534377600000,2.092],[1534464000000,2.3295],[1534723200000,2.3421],[1534809600000,2.3717],[1534896000000,2.2962],[1534982400000,1.8223],[1535068800000,2.1423],[1535328000000,1.9975],[1535414400000,1.5641],[1535500800000,2.1277],[1535587200000,1.9083],[1535673600000,2.0586],[1535932800000,1.9997],[1536019200000,2.0067],[1536105600000,2.705],[1536192000000,2.3635],[1536278400000,2.3123],[1536537600000,2.2694],[1536624000000,1.9567],[1536710400000,1.9354],[1536796800000,1.7252],[1536883200000,1.6648],[1537142400000,2.531],[1537228800000,1.9865],[1537315200000,2.0622],[1537401600000,1.8709],[1537488000000,3.0864],[1537833600000,3.2884],[1537920000000,2.0488],[1538006400000,2.1635],[1538092800000,2.0826],[1538956800000,1.8339],[1539043200000,1.8063],[1539129600000,1.9953],[1539216000000,1.7986],[1539302400000,1.7472],[1539561600000,1.9695],[1539648000000,1.4672],[1539734400000,2.0585],[1539820800000,1.7976],[1539907200000,2.1117],[1540166400000,2.0808],[1540252800000,1.8015],[1540339200000,1.5443],[1540425600000,2.0531],[1540512000000,1.7939],[1540771200000,1.3582],[1540857600000,1.6057],[1540944000000,1.8054],[1541030400000,1.642],[1541116800000,1.6902],[1541376000000,1.9595],[1541462400000,2.0371],[1541548800000,1.8095],[1541635200000,2.4215],[1541721600000,1.8188],[1541980800000,1.9654],[1542067200000,2.1094],[1542153600000,1.8514],[1542240000000,1.4206],[1542326400000,1.6242],[1542585600000,1.3926],[1542672000000,2.1881],[1542758400000,2.0748],[1542844800000,2.355],[1542931200000,1.9143],[1543190400000,1.9668],[1543276800000,2.0267],[1543363200000,2.0242],[1543449600000,1.8602],[1543536000000,1.662],[1543795200000,2.202],[1543881600000,1.9066],[1543968000000,2.3756],[1544054400000,2.0793],[1544140800000,1.9975],[1544400000000,1.8992],[1544486400000,2.0686],[1544572800000,1.9167],[1544659200000,2.2485],[1544745600000,2.2505],[1545004800000,1.9404],[1545091200000,2.0375],[1545177600000,1.954],[1545264000000,1.872],[1545350400000,2.0242],[1545609600000,1.7178],[1545696000000,1.5309],[1545782400000,1.9702],[1545868800000,2.42],[1545955200000,2.2636],[1546387200000,2.1023],[1546473600000,1.7655],[1546560000000,1.8317],[1546819200000,2.2248],[1546905600000,1.9551],[1546992000000,2.0916],[1547078400000,1.2636],[1547164800000,2.0825],[1547424000000,1.9978],[1547510400000,2.339],[1547596800000,1.9086],[1547683200000,2.5414],[1547769600000,1.843],[1548028800000,1.9701],[1548115200000,2.2335],[1548201600000,1.8783],[1548288000000,1.9993],[1548374400000,1.5957],[1548633600000,2.3818],[1548720000000,1.7563],[1548806400000,1.8413],[1548892800000,1.6591],[1548979200000,1.8613],[1549843200000,1.9478],[1549929600000,2.05],[1550016000000,1.9441],[1550102400000,1.7205],[1550188800000,2.3584],[1550448000000,2.1766],[1550534400000,2.066],[1550620800000,1.6325],[1550707200000,1.8495],[1550793600000,2.3349],[1551052800000,2.272],[1551139200000,2.0823],[1551225600000,1.6145],[1551312000000,2.0088],[1551398400000,2.0733],[1551657600000,1.9628],[1551744000000,2.042],[1551830400000,2.278],[1551916800000,2.0728],[1552003200000,2.4723],[1552262400000,2.5528],[1552348800000,2.4083],[1552435200000,2.1347],[1552521600000,2.1042],[1552608000000,2.3518],[1552867200000,2.2212],[1552953600000,2.8056],[1553040000000,2.44],[1553126400000,2.5142],[1553212800000,1.9507],[1553472000000,2.3498],[1553558400000,2.5689],[1553644800000,2.5007],[1553731200000,2.3747],[1553817600000,2.1705],[1554076800000,2.5542],[1554163200000,2.2083],[1554249600000,2.3588],[1554336000000,2.7364],[1554681600000,3.1262],[1554768000000,2.4169],[1554854400000,2.4386],[1554940800000,2.6693],[1555027200000,2.6512],[1555286400000,2.661],[1555372800000,2.5706],[1555459200000,2.7486],[1555545600000,2.3735],[1555632000000,2.6334],[1555891200000,2.3979],[1555977600000,2.6378],[1556064000000,2.7856],[1556150400000,2.5596],[1556236800000,2.1592],[1556496000000,2.6907],[1556582400000,2.3695],[1557100800000,1.923],[1557187200000,2.0885],[1557273600000,2.3208],[1557360000000,2.3189],[1557446400000,2.5759],[1557705600000,2.2879],[1557792000000,2.3293],[1557878400000,2.4322],[1557964800000,1.6243],[1558051200000,1.7528],[1558310400000,2.401],[1558396800000,2.5431],[1558483200000,1.6905],[1558569600000,2.4514],[1558656000000,2.4569],[1558915200000,2.2932],[1559001600000,2.7996],[1559088000000,1.7496],[1559174400000,2.3209],[1559260800000,2.1114],[1559520000000,2.1935],[1559606400000,2.1828],[1559692800000,2.5128],[1559779200000,2.1858],[1560124800000,2.4134],[1560211200000,2.232],[1560297600000,1.8575],[1560384000000,1.9085],[1560470400000,2.3591],[1560729600000,2.1755],[1560816000000,2.2107],[1560902400000,2.1699],[1560988800000,1.9475],[1561075200000,2.2652],[1561334400000,1.9627],[1561420800000,1.9567],[1561507200000,2.3732],[1561593600000,2.3655],[1561680000000,2.1111],[1561939200000,2.4427],[1562025600000,1.7736],[1562112000000,2.3261],[1562198400000,2.1584],[1562284800000,2.5187],[1562544000000,2.1951],[1562630400000,2.4077],[1562716800000,2.3861],[1562803200000,1.9816],[1562889600000,2.1633],[1563148800000,1.9583],[1563235200000,2.0864],[1563321600000,1.5688],[1563408000000,2.6684],[1563494400000,2.3884],[1563753600000,2.1267],[1563840000000,2.2812],[1563926400000,2.1611],[1564012800000,2.122],[1564099200000,1.9224],[1564358400000,2.054],[1564444800000,2.2218],[1564531200000,2.4366],[1564617600000,2.1956],[1564704000000,2.2442],[1564963200000,2.3187],[1565049600000,1.9716],[1565136000000,2.351],[1565222400000,1.8439],[1565308800000,1.9881],[1565568000000,1.9661],[1565654400000,2.2413],[1565740800000,1.8474],[1565827200000,1.6318],[1565913600000,2.3983],[1566172800000,1.6735],[1566259200000,1.7982],[1566345600000,1.5391],[1566432000000,1.9884],[1566518400000,2.129],[1566777600000,2.1115],[1566864000000,2.3107],[1566950400000,1.8079],[1567036800000,2.9288],[1567123200000,1.9691],[1567382400000,2.178],[1567468800000,1.9868],[1567555200000,2.1949],[1567641600000,3.2396],[1567728000000,1.8285],[1567987200000,2.2933],[1568073600000,1.6066],[1568160000000,2.035],[1568246400000,2.7826],[1568592000000,2.445],[1568678400000,2.5058],[1568764800000,2.4305],[1568851200000,2.5512],[1568937600000,1.8991],[1569196800000,2.6759],[1569283200000,2.5854],[1569369600000,1.677],[1569456000000,2.4732],[1569542400000,2.2334],[1569801600000,2.2516],[1570492800000,2.0406],[1570579200000,1.9754],[1570665600000,2.2837],[1570752000000,1.8306],[1571011200000,3.1634],[1571097600000,1.5027],[1571184000000,2.0448],[1571270400000,2.1136],[1571356800000,2.3726],[1571616000000,2.1582],[1571702400000,2.4813],[1571788800000,1.9607],[1571875200000,2.6236],[1571961600000,2.3043],[1572220800000,2.7214],[1572307200000,1.9237],[1572393600000,1.9863],[1572480000000,2.1669],[1572566400000,2.077],[1572825600000,2.153],[1572912000000,1.7467],[1572998400000,2.0121],[1573084800000,2.0649],[1573171200000,2.2703],[1573430400000,2.1186],[1573516800000,2.4172],[1573603200000,2.415],[1573689600000,1.7737],[1573776000000,1.8547],[1574035200000,2.1779],[1574121600000,2.4096],[1574208000000,1.5325],[1574294400000,1.4426],[1574380800000,2.3122],[1574640000000,2.7493],[1574726400000,2.251],[1574812800000,2.9929],[1574899200000,2.0575],[1574985600000,1.851],[1575244800000,2.2235],[1575331200000,1.9108],[1575417600000,2.2228],[1575504000000,2.352],[1575590400000,2.1],[1575849600000,1.8241],[1575936000000,2.8678],[1576022400000,1.9489],[1576108800000,1.9581],[1576195200000,2.2318],[1576454400000,2.0674],[1576540800000,2.1736],[1576627200000,2.0563],[1576713600000,1.9045],[1576800000000,3.1901],[1577059200000,1.8867],[1577145600000,2.2184],[1577232000000,2.3402],[1577318400000,2.6875],[1577404800000,1.842],[1577664000000,1.2835],[1577750400000,1.9869],[1577923200000,1.8208],[1578009600000,1.7113],[1578268800000,1.4674],[1578355200000,2.6105],[1578441600000,2.453],[1578528000000,2.199],[1578614400000,2.0868],[1578873600000,2.0288],[1578960000000,2.1791],[1579046400000,1.3955],[1579132800000,2.6288],[1579219200000,2.3141],[1579478400000,2.4226],[1579564800000,2.2439],[1579651200000,2.0512],[1579737600000,2.5462],[1580688000000,2.3864],[1580774400000,3.4275],[1580860800000,1.7909],[1580947200000,2.4607],[1581033600000,2.2033],[1581292800000,3.3225],[1581379200000,1.9729],[1581465600000,2.2242],[1581552000000,1.9184],[1581638400000,2.5416],[1581897600000,1.8559],[1581984000000,1.825],[1582070400000,2.0122],[1582156800000,2.5327],[1582243200000,2.9646],[1582502400000,1.5878],[1582588800000,1.7898],[1582675200000,2.3813],[1582761600000,2.9447],[1582848000000,1.9964],[1583107200000,2.184],[1583193600000,2.2198],[1583280000000,2.2355],[1583452800000,null],[1583712000000,2.3401],[1583798400000,2.2766],[1583884800000,2.6998],[1583971200000,2.2297],[1584057600000,2.3303],[1584316800000,2.3892],[1584403200000,1.3621],[1584489600000,2.1763],[1584576000000,2.5263],[1584662400000,2.1567],[1584921600000,2.7432],[1585008000000,2.109],[1585094400000,2.7291],[1585180800000,1.7257],[1585267200000,1.9794],[1585526400000,1.6821],[1585612800000,1.9317],[1585699200000,2.4924],[1585785600000,2.1905],[1585872000000,2.1306],[1586217600000,2.0494],[1586304000000,1.7815],[1586390400000,2.3301],[1586476800000,1.9847],[1586736000000,2.1367],[1586822400000,1.9099],[1586908800000,2.4196],[1586995200000,2.9176],[1587081600000,2.4568],[1587340800000,2.7527],[1587427200000,1.8927],[1587513600000,2.1662],[1587600000000,2.2157],[1587686400000,1.7284],[1587945600000,2.0953],[1588032000000,3.3602],[1588118400000,1.8577],[1588204800000,2.0646],[1588723200000,2.5857],[1588809600000,3.0693],[1588896000000,1.8158],[1589155200000,2.6496],[1589241600000,2.9605],[1589328000000,2.3456],[1589414400000,1.9464],[1589500800000,2.0597],[1589760000000,2.2603],[1589846400000,2.0372],[1589932800000,3.1234],[1590019200000,2.2361],[1590105600000,1.9921],[1590364800000,2.1048],[1590451200000,2.1885],[1590537600000,2.7536],[1590624000000,2.2103],[1590710400000,2.6054],[1590969600000,1.9021],[1591056000000,2.3546],[1591142400000,2.6837],[1591228800000,3.5077],[1591315200000,2.3705],[1591574400000,2.3758],[1591660800000,2.472],[1591747200000,3.0633],[1591833600000,2.5503],[1591920000000,1.9066],[1592179200000,2.5845],[1592265600000,2.7198],[1592352000000,2.7347],[1592438400000,2.9848],[1592524800000,2.8013],[1592784000000,2.7966],[1592870400000,1.6482],[1592956800000,2.6322],[1593388800000,2.0074],[1593475200000,2.169],[1593561600000,3.7664],[1593648000000,2.3731],[1593734400000,1.7054],[1593993600000,3.0406],[1594080000000,1.975],[1594166400000,2.2053],[1594252800000,2.3799],[1594339200000,2.067],[1594598400000,2.1708],[1594684800000,2.6542],[1594771200000,3.9141],[1594857600000,2.1364],[1594944000000,2.3549],[1595203200000,2.601],[1595289600000,1.7089],[1595376000000,2.7532],[1595462400000,2.1652],[1595548800000,2.532],[1595808000000,2.6413],[1595894400000,2.6033],[1595980800000,3.1266],[1596067200000,1.7029],[1596153600000,2.2909],[1596412800000,2.55],[1596499200000,2.3465],[1596585600000,2.9096],[1596672000000,3.0731],[1596758400000,2.8042],[1597017600000,2.5746],[1597104000000,3.1542],[1597190400000,3.3387],[1597276800000,2.7455],[1597363200000,5.0316],[1597622400000,2.5567],[1597708800000,2.5338],[1597795200000,3.6879],[1597881600000,2.6468],[1597968000000,2.3353],[1598227200000,2.0693],[1598313600000,2.6534],[1598400000000,2.3778],[1598486400000,2.7646],[1598572800000,2.7613],[1598832000000,3.1326],[1598918400000,3.0548],[1599004800000,2.7877],[1599091200000,2.5579],[1599177600000,2.8018],[1599436800000,3.6186],[1599523200000,3.2012],[1599609600000,2.4821],[1599696000000,3.9527],[1599782400000,2.6018],[1600041600000,2.7741],[1600128000000,3.8628],[1600214400000,2.5516],[1600300800000,2.5364],[1600387200000,2.5995],[1600646400000,3.3683],[1600732800000,3.1231],[1600819200000,2.8131],[1600905600000,2.8006],[1600992000000,2.8253],[1601251200000,2.8592],[1601337600000,2.374],[1601424000000,2.4001],[1602201600000,2.2456],[1602460800000,2.5769],[1602547200000,2.4794],[1602633600000,3.053],[1602720000000,2.3319],[1602806400000,2.5262],[1603065600000,2.9074],[1603152000000,4.7293],[1603238400000,2.9413],[1603324800000,2.222],[1603411200000,2.4349],[1603670400000,4.0684],[1603756800000,2.349],[1603843200000,1.6343],[1603929600000,2.2895],[1604016000000,2.2388],[1604275200000,2.6361],[1604361600000,2.4336],[1604448000000,2.9249]],\"color\":\"#648FD5\"},{\"name\":\"3\\u5206\\u4f4d\\u6570\",\"yAxis\":0,\"data\":[[1476144000000,null],[1476230400000,3.9965],[1476316800000,3.7177],[1476403200000,4.5351],[1476662400000,3.7598],[1476748800000,5.3592],[1476835200000,4.0554],[1476921600000,3.5894],[1477008000000,3.0588],[1477267200000,4.447],[1477353600000,3.9754],[1477440000000,3.641],[1477526400000,4.3559],[1477612800000,3.6746],[1477872000000,4.6913],[1477958400000,3.6709],[1478044800000,3.541],[1478131200000,5.8988],[1478217600000,3.4122],[1478476800000,3.424],[1478563200000,4.1898],[1478649600000,2.899],[1478736000000,3.6523],[1478822400000,3.7137],[1479081600000,3.0574],[1479168000000,3.3085],[1479254400000,6.9244],[1479340800000,5.474],[1479427200000,4.4362],[1479686400000,5.2947],[1479772800000,4.7373],[1479859200000,3.5662],[1479945600000,3.3469],[1480032000000,4.7364],[1480291200000,5.0706],[1480377600000,3.4268],[1480464000000,5.5761],[1480550400000,4.5826],[1480636800000,6.0825],[1480896000000,5.0276],[1480982400000,4.0127],[1481068800000,5.7465],[1481155200000,4.5598],[1481241600000,3.4475],[1481500800000,4.1937],[1481587200000,4.0391],[1481673600000,3.4827],[1481760000000,4.1169],[1481846400000,2.6831],[1482105600000,4.1805],[1482192000000,3.7517],[1482278400000,3.9039],[1482364800000,4.0227],[1482451200000,5.5539],[1482710400000,3.6867],[1482796800000,3.7712],[1482883200000,3.6623],[1482969600000,3.4913],[1483056000000,3.6159],[1483401600000,4.6841],[1483488000000,3.148],[1483574400000,3.6176],[1483660800000,3.3276],[1483920000000,4.613],[1484006400000,5.2408],[1484092800000,2.4454],[1484179200000,3.795],[1484265600000,3.4313],[1484524800000,3.4046],[1484611200000,3.7292],[1484697600000,3.8397],[1484784000000,3.1705],[1484870400000,4.0229],[1485129600000,3.9657],[1485216000000,3.2028],[1485302400000,5.3122],[1485388800000,4.6444],[1486080000000,3.2935],[1486339200000,3.0876],[1486425600000,4.0136],[1486512000000,4.2791],[1486598400000,3.4936],[1486684800000,3.4573],[1486944000000,2.2843],[1487030400000,5.939],[1487116800000,5.963],[1487203200000,4.6381],[1487289600000,3.9165],[1487548800000,3.8779],[1487635200000,5.3702],[1487721600000,3.4301],[1487808000000,4.6255],[1487894400000,3.5729],[1488153600000,2.3682],[1488240000000,3.2745],[1488326400000,3.5129],[1488412800000,3.4251],[1488499200000,4.2127],[1488758400000,3.6876],[1488844800000,3.8978],[1488931200000,4.2787],[1489017600000,4.1467],[1489104000000,3.5382],[1489363200000,3.3062],[1489449600000,4.0324],[1489536000000,3.721],[1489622400000,3.9415],[1489708800000,3.8629],[1489968000000,4.377],[1490054400000,3.4955],[1490140800000,5.1797],[1490227200000,4.032],[1490313600000,3.7874],[1490572800000,5.2159],[1490659200000,2.7762],[1490745600000,3.3711],[1490832000000,4.5988],[1490918400000,4.0633],[1491350400000,4.0009],[1491436800000,3.163],[1491523200000,4.1801],[1491782400000,5.0247],[1491868800000,4.788],[1491955200000,4.5709],[1492041600000,5.6832],[1492128000000,4.5396],[1492387200000,3.7781],[1492473600000,3.323],[1492560000000,3.672],[1492646400000,3.2132],[1492732800000,3.2123],[1492992000000,4.454],[1493078400000,3.21],[1493164800000,2.9271],[1493251200000,4.5892],[1493337600000,2.6954],[1493683200000,3.2578],[1493769600000,4.1366],[1493856000000,2.5372],[1493942400000,2.8875],[1494201600000,2.9743],[1494288000000,3.3703],[1494374400000,3.4124],[1494460800000,4.4824],[1494547200000,3.2177],[1494806400000,3.8763],[1494892800000,2.6943],[1494979200000,2.3475],[1495065600000,3.1946],[1495152000000,3.2142],[1495411200000,4.1102],[1495497600000,3.2614],[1495584000000,3.2345],[1495670400000,3.2624],[1495756800000,3.1816],[1496188800000,2.937],[1496275200000,3.2478],[1496361600000,3.1495],[1496620800000,3.1305],[1496707200000,3.2879],[1496793600000,4.4371],[1496880000000,3.266],[1496966400000,3.1054],[1497225600000,3.4826],[1497312000000,3.412],[1497398400000,3.0105],[1497484800000,3.567],[1497571200000,4.0168],[1497830400000,3.8307],[1497916800000,5.1331],[1498003200000,3.0981],[1498089600000,3.6175],[1498176000000,4.2632],[1498435200000,3.1544],[1498521600000,2.6049],[1498608000000,3.3169],[1498694400000,3.4774],[1498780800000,4.5497],[1499040000000,2.8326],[1499126400000,2.7629],[1499212800000,4.0349],[1499299200000,3.8297],[1499385600000,3.0566],[1499644800000,2.9936],[1499731200000,4.3959],[1499817600000,4.1206],[1499904000000,3.2935],[1499990400000,4.2921],[1500249600000,4.0252],[1500336000000,3.0676],[1500422400000,3.0972],[1500508800000,2.693],[1500595200000,3.2208],[1500854400000,4.3868],[1500940800000,4.4438],[1501027200000,3.8003],[1501113600000,3.1622],[1501200000000,4.3668],[1501459200000,3.6929],[1501545600000,4.3868],[1501632000000,2.3689],[1501718400000,3.3972],[1501804800000,2.8512],[1502064000000,3.5199],[1502150400000,3.3679],[1502236800000,2.8772],[1502323200000,3.6792],[1502409600000,2.5818],[1502668800000,3.1175],[1502755200000,2.6018],[1502841600000,3.5087],[1502928000000,4.57],[1503014400000,2.7759],[1503273600000,4.798],[1503360000000,2.1344],[1503446400000,3.8112],[1503532800000,3.0788],[1503619200000,2.9042],[1503878400000,3.8549],[1503964800000,3.3141],[1504051200000,4.3607],[1504137600000,4.2667],[1504224000000,3.385],[1504483200000,3.8659],[1504569600000,4.3142],[1504656000000,4.6843],[1504742400000,2.6405],[1504828800000,4.4874],[1505088000000,3.7458],[1505174400000,3.6967],[1505260800000,3.3203],[1505347200000,3.2535],[1505433600000,3.7628],[1505692800000,3.6567],[1505779200000,4.7746],[1505865600000,3.8476],[1505952000000,2.8362],[1506038400000,4.0307],[1506297600000,2.9842],[1506384000000,2.6339],[1506470400000,3.1875],[1506556800000,4.4154],[1506643200000,4.5912],[1507507200000,4.7323],[1507593600000,3.2335],[1507680000000,4.227],[1507766400000,3.0469],[1507852800000,3.5011],[1508112000000,2.8247],[1508198400000,3.635],[1508284800000,3.2246],[1508371200000,4.445],[1508457600000,3.3042],[1508716800000,2.9107],[1508803200000,3.1048],[1508889600000,4.0234],[1508976000000,4.1248],[1509062400000,3.3699],[1509321600000,4.4469],[1509408000000,3.0611],[1509494400000,3.0813],[1509580800000,3.534],[1509667200000,2.6886],[1509926400000,3.0777],[1510012800000,2.5129],[1510099200000,2.8253],[1510185600000,3.0796],[1510272000000,4.7898],[1510531200000,4.578],[1510617600000,3.9451],[1510704000000,2.829],[1510790400000,3.1228],[1510876800000,3.2249],[1511136000000,2.9633],[1511222400000,3.0637],[1511308800000,3.1391],[1511395200000,3.7494],[1511481600000,2.9074],[1511740800000,2.881],[1511827200000,4.5741],[1511913600000,3.4479],[1512000000000,2.8582],[1512086400000,4.2966],[1512345600000,2.3701],[1512432000000,3.7094],[1512518400000,2.7802],[1512604800000,2.9039],[1512691200000,3.0896],[1512950400000,3.8349],[1513036800000,2.6271],[1513123200000,3.4869],[1513209600000,2.7887],[1513296000000,3.4329],[1513555200000,2.2883],[1513641600000,3.7705],[1513728000000,2.8434],[1513814400000,2.9877],[1513900800000,2.5518],[1514160000000,3.4879],[1514246400000,3.2088],[1514332800000,2.2491],[1514419200000,2.4983],[1514505600000,4.1091],[1514851200000,2.6156],[1514937600000,2.5155],[1515024000000,2.5898],[1515110400000,3.3192],[1515369600000,4.2308],[1515456000000,4.3033],[1515542400000,3.7496],[1515628800000,2.603],[1515715200000,2.539],[1515974400000,2.6875],[1516060800000,2.9013],[1516147200000,2.7101],[1516233600000,3.683],[1516320000000,2.5243],[1516579200000,2.7262],[1516665600000,3.6184],[1516752000000,2.717],[1516838400000,4.047],[1516924800000,2.6571],[1517184000000,3.4414],[1517270400000,3.3959],[1517356800000,2.6644],[1517443200000,2.2079],[1517529600000,2.8113],[1517788800000,2.7871],[1517875200000,3.048],[1517961600000,2.5233],[1518048000000,2.4814],[1518134400000,2.5853],[1518393600000,2.3751],[1518480000000,2.9705],[1518566400000,2.2632],[1519257600000,2.4732],[1519344000000,2.4138],[1519603200000,2.6163],[1519689600000,2.4382],[1519776000000,2.6703],[1519862400000,2.5319],[1519948800000,2.6066],[1520208000000,2.9943],[1520294400000,2.9918],[1520380800000,2.5863],[1520467200000,2.7071],[1520553600000,2.3162],[1520812800000,2.7481],[1520899200000,2.7279],[1520985600000,4.0228],[1521072000000,2.5179],[1521158400000,2.4805],[1521417600000,3.9502],[1521504000000,2.4145],[1521590400000,1.735],[1521676800000,2.6342],[1521763200000,2.5705],[1522022400000,2.4571],[1522108800000,2.5409],[1522195200000,2.6067],[1522281600000,1.8349],[1522368000000,2.7447],[1522627200000,2.4497],[1522713600000,3.2629],[1522800000000,2.3734],[1523232000000,3.5524],[1523318400000,2.3084],[1523404800000,2.0866],[1523491200000,2.1461],[1523577600000,1.9132],[1523836800000,2.2907],[1523923200000,2.4298],[1524009600000,2.1665],[1524096000000,2.6778],[1524182400000,2.4938],[1524441600000,2.3914],[1524528000000,2.4606],[1524614400000,2.2842],[1524700800000,2.9157],[1524787200000,2.3781],[1525219200000,2.4291],[1525305600000,3.8072],[1525392000000,2.4083],[1525651200000,2.4235],[1525737600000,2.6591],[1525824000000,2.4152],[1525910400000,3.1484],[1525996800000,2.4637],[1526256000000,3.0981],[1526342400000,2.7116],[1526428800000,1.8926],[1526515200000,3.5621],[1526601600000,2.9004],[1526860800000,3.6768],[1526947200000,2.5572],[1527033600000,3.9371],[1527120000000,1.9666],[1527206400000,2.4263],[1527465600000,2.1002],[1527552000000,2.2408],[1527638400000,3.0521],[1527724800000,2.5376],[1527811200000,2.6008],[1528070400000,3.5474],[1528156800000,4.0568],[1528243200000,4.109],[1528329600000,3.3143],[1528416000000,3.5865],[1528675200000,2.4225],[1528761600000,2.1648],[1528848000000,3.5374],[1528934400000,2.7399],[1529020800000,2.4247],[1529366400000,2.3997],[1529452800000,2.1475],[1529539200000,2.0687],[1529625600000,2.6655],[1529884800000,2.2152],[1529971200000,2.1274],[1530057600000,2.1919],[1530144000000,2.1864],[1530230400000,2.0774],[1530489600000,2.763],[1530576000000,2.2884],[1530662400000,1.8724],[1530748800000,2.3679],[1530835200000,2.0191],[1531094400000,1.9588],[1531180800000,1.9422],[1531267200000,2.0909],[1531353600000,2.1597],[1531440000000,2.6407],[1531699200000,1.8746],[1531785600000,1.9804],[1531872000000,1.8565],[1531958400000,1.8288],[1532044800000,2.3353],[1532304000000,2.1289],[1532390400000,1.912],[1532476800000,2.1469],[1532563200000,2.0943],[1532649600000,3.9481],[1532908800000,3.1165],[1532995200000,2.4789],[1533081600000,2.3501],[1533168000000,2.5832],[1533254400000,2.1026],[1533513600000,2.1813],[1533600000000,2.4107],[1533686400000,2.4671],[1533772800000,1.9678],[1533859200000,2.241],[1534118400000,2.3437],[1534204800000,1.9312],[1534291200000,2.1879],[1534377600000,2.2287],[1534464000000,2.0906],[1534723200000,2.2975],[1534809600000,1.9692],[1534896000000,1.9697],[1534982400000,2.8353],[1535068800000,1.7125],[1535328000000,1.8893],[1535414400000,2.1702],[1535500800000,1.812],[1535587200000,2.0278],[1535673600000,2.094],[1535932800000,1.9317],[1536019200000,2.0155],[1536105600000,2.024],[1536192000000,2.2505],[1536278400000,1.9301],[1536537600000,2.1476],[1536624000000,1.8268],[1536710400000,1.9183],[1536796800000,2.5604],[1536883200000,1.8876],[1537142400000,2.1248],[1537228800000,1.8516],[1537315200000,2.2241],[1537401600000,2.0477],[1537488000000,1.9955],[1537833600000,1.338],[1537920000000,2.9322],[1538006400000,2.0888],[1538092800000,1.8974],[1538956800000,1.9777],[1539043200000,1.9343],[1539129600000,1.9098],[1539216000000,2.4528],[1539302400000,1.6589],[1539561600000,1.7348],[1539648000000,2.6344],[1539734400000,1.6901],[1539820800000,1.3369],[1539907200000,1.7325],[1540166400000,1.6328],[1540252800000,1.8946],[1540339200000,1.4618],[1540425600000,1.6776],[1540512000000,1.5733],[1540771200000,1.7728],[1540857600000,1.812],[1540944000000,1.5006],[1541030400000,1.7203],[1541116800000,1.7439],[1541376000000,1.6782],[1541462400000,1.8427],[1541548800000,2.2163],[1541635200000,1.703],[1541721600000,1.8937],[1541980800000,1.8958],[1542067200000,1.936],[1542153600000,1.8991],[1542240000000,1.7815],[1542326400000,2.7039],[1542585600000,1.9243],[1542672000000,2.9265],[1542758400000,1.8267],[1542844800000,2.0688],[1542931200000,1.8571],[1543190400000,1.6508],[1543276800000,1.7982],[1543363200000,2.3129],[1543449600000,1.4377],[1543536000000,1.873],[1543795200000,1.895],[1543881600000,1.9739],[1543968000000,1.9678],[1544054400000,1.8547],[1544140800000,1.7684],[1544400000000,1.867],[1544486400000,1.8929],[1544572800000,1.6413],[1544659200000,1.6417],[1544745600000,1.7132],[1545004800000,2.2455],[1545091200000,1.8315],[1545177600000,1.6435],[1545264000000,1.6092],[1545350400000,1.7089],[1545609600000,1.2385],[1545696000000,2.2155],[1545782400000,1.547],[1545868800000,2.2171],[1545955200000,2.1453],[1546387200000,1.926],[1546473600000,2.4033],[1546560000000,2.3947],[1546819200000,2.621],[1546905600000,1.9354],[1546992000000,2.2889],[1547078400000,1.6955],[1547164800000,1.7965],[1547424000000,2.1775],[1547510400000,2.4784],[1547596800000,1.7646],[1547683200000,1.733],[1547769600000,2.0563],[1548028800000,2.6075],[1548115200000,1.7357],[1548201600000,1.5065],[1548288000000,1.7721],[1548374400000,2.536],[1548633600000,2.2353],[1548720000000,2.0053],[1548806400000,1.7767],[1548892800000,1.8427],[1548979200000,1.9714],[1549843200000,2.7304],[1549929600000,1.8835],[1550016000000,2.0172],[1550102400000,1.9425],[1550188800000,1.6691],[1550448000000,1.9211],[1550534400000,2.0325],[1550620800000,1.7548],[1550707200000,2.1716],[1550793600000,2.4875],[1551052800000,1.9368],[1551139200000,2.1004],[1551225600000,1.8942],[1551312000000,2.5519],[1551398400000,2.1723],[1551657600000,2.2555],[1551744000000,2.4829],[1551830400000,2.0955],[1551916800000,2.3812],[1552003200000,2.0591],[1552262400000,2.2308],[1552348800000,2.0649],[1552435200000,2.2724],[1552521600000,2.2093],[1552608000000,2.3793],[1552867200000,2.7852],[1552953600000,1.8557],[1553040000000,2.1614],[1553126400000,2.4534],[1553212800000,2.1276],[1553472000000,2.4327],[1553558400000,2.5153],[1553644800000,2.0776],[1553731200000,2.1748],[1553817600000,2.2738],[1554076800000,2.7809],[1554163200000,2.3221],[1554249600000,2.304],[1554336000000,3.4949],[1554681600000,2.6813],[1554768000000,2.5219],[1554854400000,2.4985],[1554940800000,1.8499],[1555027200000,3.4081],[1555286400000,2.4047],[1555372800000,2.5289],[1555459200000,2.3636],[1555545600000,2.3929],[1555632000000,2.7199],[1555891200000,2.5607],[1555977600000,2.7244],[1556064000000,2.3936],[1556150400000,2.194],[1556236800000,1.753],[1556496000000,2.1898],[1556582400000,2.1252],[1557100800000,1.8139],[1557187200000,2.085],[1557273600000,2.0648],[1557360000000,1.994],[1557446400000,2.3136],[1557705600000,2.1974],[1557792000000,3.0063],[1557878400000,2.0012],[1557964800000,2.1848],[1558051200000,1.7993],[1558310400000,1.8361],[1558396800000,2.2377],[1558483200000,2.0065],[1558569600000,2.3113],[1558656000000,1.982],[1558915200000,2.1347],[1559001600000,2.3973],[1559088000000,2.1345],[1559174400000,1.8053],[1559260800000,2.0855],[1559520000000,2.5719],[1559606400000,2.003],[1559692800000,2.0158],[1559779200000,2.495],[1560124800000,1.9794],[1560211200000,2.1903],[1560297600000,2.1754],[1560384000000,1.9889],[1560470400000,1.9122],[1560729600000,2.9411],[1560816000000,1.9337],[1560902400000,2.3322],[1560988800000,2.075],[1561075200000,2.507],[1561334400000,2.069],[1561420800000,2.3776],[1561507200000,2.0692],[1561593600000,1.9553],[1561680000000,1.877],[1561939200000,2.1113],[1562025600000,2.0311],[1562112000000,2.9111],[1562198400000,2.3456],[1562284800000,2.9471],[1562544000000,2.0031],[1562630400000,1.8948],[1562716800000,2.0931],[1562803200000,1.6674],[1562889600000,2.6078],[1563148800000,2.362],[1563235200000,2.0233],[1563321600000,1.929],[1563408000000,1.9503],[1563494400000,2.0523],[1563753600000,2.7823],[1563840000000,2.1776],[1563926400000,2.0741],[1564012800000,2.1047],[1564099200000,1.8126],[1564358400000,2.1996],[1564444800000,2.9182],[1564531200000,1.8155],[1564617600000,2.0341],[1564704000000,1.8568],[1564963200000,1.93],[1565049600000,1.5691],[1565136000000,1.9206],[1565222400000,2.5181],[1565308800000,2.6133],[1565568000000,1.4368],[1565654400000,1.8697],[1565740800000,3.1554],[1565827200000,1.9484],[1565913600000,1.9424],[1566172800000,1.931],[1566259200000,1.9737],[1566345600000,1.872],[1566432000000,1.8905],[1566518400000,2.0422],[1566777600000,2.7905],[1566864000000,1.9946],[1566950400000,2.0898],[1567036800000,1.6118],[1567123200000,1.8031],[1567382400000,1.583],[1567468800000,2.1781],[1567555200000,1.9713],[1567641600000,1.5674],[1567728000000,2.0122],[1567987200000,1.9475],[1568073600000,2.0452],[1568160000000,2.7759],[1568246400000,3.4537],[1568592000000,3.1447],[1568678400000,1.9296],[1568764800000,1.9699],[1568851200000,2.0382],[1568937600000,2.0423],[1569196800000,2.1375],[1569283200000,2.0655],[1569369600000,3.4735],[1569456000000,1.892],[1569542400000,2.1213],[1569801600000,1.9396],[1570492800000,2.99],[1570579200000,2.0602],[1570665600000,2.4439],[1570752000000,1.9996],[1571011200000,1.7602],[1571097600000,1.9457],[1571184000000,2.026],[1571270400000,2.4036],[1571356800000,1.9279],[1571616000000,1.678],[1571702400000,2.1215],[1571788800000,1.8762],[1571875200000,2.2837],[1571961600000,1.9512],[1572220800000,2.2423],[1572307200000,1.9463],[1572393600000,2.5177],[1572480000000,1.9304],[1572566400000,1.8338],[1572825600000,1.8838],[1572912000000,1.8159],[1572998400000,1.9843],[1573084800000,2.3212],[1573171200000,1.7958],[1573430400000,1.9038],[1573516800000,1.8953],[1573603200000,1.887],[1573689600000,2.3558],[1573776000000,1.5745],[1574035200000,1.3837],[1574121600000,1.8107],[1574208000000,1.8561],[1574294400000,1.7361],[1574380800000,2.0228],[1574640000000,1.5404],[1574726400000,2.697],[1574812800000,1.6207],[1574899200000,1.752],[1574985600000,1.5874],[1575244800000,1.7676],[1575331200000,1.5996],[1575417600000,1.6005],[1575504000000,2.014],[1575590400000,2.0246],[1575849600000,2.6889],[1575936000000,1.5521],[1576022400000,2.7798],[1576108800000,2.335],[1576195200000,2.4596],[1576454400000,2.5311],[1576540800000,1.9277],[1576627200000,2.0019],[1576713600000,2.6714],[1576800000000,2.5074],[1577059200000,2.5063],[1577145600000,1.9895],[1577232000000,1.9116],[1577318400000,2.1894],[1577404800000,2.6316],[1577664000000,1.706],[1577750400000,2.3106],[1577923200000,1.7948],[1578009600000,2.2117],[1578268800000,3.8887],[1578355200000,3.4154],[1578441600000,1.8762],[1578528000000,1.7368],[1578614400000,2.2391],[1578873600000,1.6617],[1578960000000,1.7289],[1579046400000,1.9982],[1579132800000,2.0333],[1579219200000,1.5396],[1579478400000,1.7918],[1579564800000,1.8256],[1579651200000,2.3404],[1579737600000,2.0648],[1580688000000,1.9515],[1580774400000,2.7354],[1580860800000,1.2573],[1580947200000,1.7267],[1581033600000,1.6481],[1581292800000,2.12],[1581379200000,1.9595],[1581465600000,2.2525],[1581552000000,1.332],[1581638400000,1.9685],[1581897600000,1.908],[1581984000000,2.5388],[1582070400000,2.2346],[1582156800000,2.2662],[1582243200000,2.8353],[1582502400000,2.0139],[1582588800000,1.673],[1582675200000,1.6159],[1582761600000,2.1472],[1582848000000,2.75],[1583107200000,2.1742],[1583193600000,2.7059],[1583280000000,2.1748],[1583452800000,null],[1583712000000,3.3784],[1583798400000,2.3602],[1583884800000,2.0379],[1583971200000,2.2215],[1584057600000,2.2061],[1584316800000,1.8339],[1584403200000,1.9188],[1584489600000,2.0449],[1584576000000,2.7728],[1584662400000,1.9378],[1584921600000,2.0522],[1585008000000,2.0685],[1585094400000,2.693],[1585180800000,1.9833],[1585267200000,2.1026],[1585526400000,2.1459],[1585612800000,1.7885],[1585699200000,2.4345],[1585785600000,1.7706],[1585872000000,1.586],[1586217600000,1.8299],[1586304000000,2.2271],[1586390400000,2.2644],[1586476800000,1.7025],[1586736000000,1.9595],[1586822400000,2.0003],[1586908800000,2.1441],[1586995200000,3.2108],[1587081600000,1.9957],[1587340800000,2.2263],[1587427200000,2.1249],[1587513600000,1.3918],[1587600000000,1.7689],[1587686400000,1.8523],[1587945600000,2.1676],[1588032000000,2.4006],[1588118400000,1.9829],[1588204800000,2.9964],[1588723200000,2.1109],[1588809600000,2.1749],[1588896000000,2.8093],[1589155200000,2.1523],[1589241600000,1.7397],[1589328000000,2.0276],[1589414400000,1.1372],[1589500800000,1.719],[1589760000000,1.6358],[1589846400000,2.4824],[1589932800000,2.3182],[1590019200000,1.2601],[1590105600000,2.6609],[1590364800000,2.0104],[1590451200000,1.9393],[1590537600000,1.6153],[1590624000000,2.38],[1590710400000,3.4229],[1590969600000,2.6788],[1591056000000,1.9706],[1591142400000,1.628],[1591228800000,1.611],[1591315200000,1.8327],[1591574400000,1.741],[1591660800000,2.0648],[1591747200000,1.5826],[1591833600000,1.9942],[1591920000000,1.9434],[1592179200000,2.0255],[1592265600000,2.2658],[1592352000000,2.502],[1592438400000,2.3666],[1592524800000,2.7932],[1592784000000,3.1319],[1592870400000,4.5195],[1592956800000,1.7138],[1593388800000,1.8492],[1593475200000,2.0289],[1593561600000,2.5322],[1593648000000,3.1398],[1593734400000,1.6655],[1593993600000,3.6838],[1594080000000,2.5233],[1594166400000,2.2357],[1594252800000,1.391],[1594339200000,2.5574],[1594598400000,3.9949],[1594684800000,3.7109],[1594771200000,1.9288],[1594857600000,2.3158],[1594944000000,2.2623],[1595203200000,2.4363],[1595289600000,2.1566],[1595376000000,2.4314],[1595462400000,3.0729],[1595548800000,1.9479],[1595808000000,2.5985],[1595894400000,2.0822],[1595980800000,2.091],[1596067200000,4.8455],[1596153600000,2.4659],[1596412800000,2.9048],[1596499200000,2.5249],[1596585600000,3.54],[1596672000000,2.4765],[1596758400000,4.2506],[1597017600000,2.4098],[1597104000000,4.6227],[1597190400000,2.743],[1597276800000,2.5091],[1597363200000,1.6631],[1597622400000,2.2863],[1597708800000,2.4872],[1597795200000,3.0371],[1597881600000,3.2661],[1597968000000,2.7863],[1598227200000,3.1475],[1598313600000,2.6987],[1598400000000,3.795],[1598486400000,2.7285],[1598572800000,2.5109],[1598832000000,2.5913],[1598918400000,3.0704],[1599004800000,2.2651],[1599091200000,3.314],[1599177600000,3.2746],[1599436800000,2.6922],[1599523200000,2.4804],[1599609600000,3.4732],[1599696000000,3.6835],[1599782400000,2.3628],[1600041600000,2.3702],[1600128000000,3.1803],[1600214400000,1.3311],[1600300800000,2.988],[1600387200000,3.5359],[1600646400000,2.4319],[1600732800000,1.9789],[1600819200000,2.3504],[1600905600000,1.886],[1600992000000,2.1913],[1601251200000,2.3361],[1601337600000,2.8447],[1601424000000,2.3332],[1602201600000,2.3121],[1602460800000,2.5176],[1602547200000,2.3456],[1602633600000,3.7355],[1602720000000,2.0276],[1602806400000,2.8336],[1603065600000,3.684],[1603152000000,1.6499],[1603238400000,2.3223],[1603324800000,3.7851],[1603411200000,2.5337],[1603670400000,2.1711],[1603756800000,2.5685],[1603843200000,4.9638],[1603929600000,2.0205],[1604016000000,2.2901],[1604275200000,2.9185],[1604361600000,2.3351],[1604448000000,2.9709]],\"color\":\"#E06681\"},{\"name\":\"4\\u5206\\u4f4d\\u6570\",\"yAxis\":0,\"data\":[[1476144000000,null],[1476230400000,3.8149],[1476316800000,4.8933],[1476403200000,3.7235],[1476662400000,5.0661],[1476748800000,3.7617],[1476835200000,5.2025],[1476921600000,4.0501],[1477008000000,4.7233],[1477267200000,4.5155],[1477353600000,3.2692],[1477440000000,3.8277],[1477526400000,4.5985],[1477612800000,4.2545],[1477872000000,4.18],[1477958400000,4.3189],[1478044800000,3.8665],[1478131200000,4.5778],[1478217600000,5.4104],[1478476800000,3.6664],[1478563200000,4.3814],[1478649600000,4.1878],[1478736000000,5.3994],[1478822400000,4.5826],[1479081600000,3.6365],[1479168000000,3.7553],[1479254400000,3.6988],[1479340800000,4.3196],[1479427200000,6.6714],[1479686400000,4.1842],[1479772800000,5.348],[1479859200000,4.055],[1479945600000,4.0687],[1480032000000,6.0284],[1480291200000,6.5362],[1480377600000,3.987],[1480464000000,4.41],[1480550400000,4.2736],[1480636800000,4.4763],[1480896000000,4.5235],[1480982400000,3.8339],[1481068800000,4.5492],[1481155200000,3.8041],[1481241600000,4.5986],[1481500800000,5.2893],[1481587200000,5.0366],[1481673600000,3.754],[1481760000000,3.6389],[1481846400000,5.7899],[1482105600000,3.8218],[1482192000000,3.9513],[1482278400000,4.2026],[1482364800000,3.5434],[1482451200000,2.7866],[1482710400000,4.9175],[1482796800000,3.4887],[1482883200000,4.0243],[1482969600000,4.501],[1483056000000,3.9022],[1483401600000,3.1564],[1483488000000,4.2385],[1483574400000,3.9527],[1483660800000,3.7422],[1483920000000,5.1731],[1484006400000,4.7929],[1484092800000,4.1728],[1484179200000,3.8203],[1484265600000,3.2239],[1484524800000,4.16],[1484611200000,4.4522],[1484697600000,4.7273],[1484784000000,3.7975],[1484870400000,5.0347],[1485129600000,3.5739],[1485216000000,3.7346],[1485302400000,2.8944],[1485388800000,3.8045],[1486080000000,3.9955],[1486339200000,4.5898],[1486425600000,3.8943],[1486512000000,3.8191],[1486598400000,4.4438],[1486684800000,4.0528],[1486944000000,3.5123],[1487030400000,2.303],[1487116800000,4.5704],[1487203200000,3.8183],[1487289600000,5.1561],[1487548800000,3.4284],[1487635200000,4.6351],[1487721600000,3.8819],[1487808000000,3.942],[1487894400000,4.7908],[1488153600000,5.21],[1488240000000,4.7954],[1488326400000,4.4074],[1488412800000,3.9437],[1488499200000,4.1997],[1488758400000,2.6146],[1488844800000,4.0232],[1488931200000,4.0352],[1489017600000,4.4307],[1489104000000,3.2222],[1489363200000,4.5935],[1489449600000,4.7995],[1489536000000,4.5895],[1489622400000,4.8368],[1489708800000,4.8565],[1489968000000,4.2801],[1490054400000,4.1678],[1490140800000,4.0284],[1490227200000,5.1126],[1490313600000,5.3154],[1490572800000,3.4791],[1490659200000,3.4387],[1490745600000,2.9631],[1490832000000,4.304],[1490918400000,5.1273],[1491350400000,5.1179],[1491436800000,3.7144],[1491523200000,3.8379],[1491782400000,3.7755],[1491868800000,4.4865],[1491955200000,4.9893],[1492041600000,3.2139],[1492128000000,4.9041],[1492387200000,4.5367],[1492473600000,3.4455],[1492560000000,4.7155],[1492646400000,3.2029],[1492732800000,4.6398],[1492992000000,4.0157],[1493078400000,3.2595],[1493164800000,4.9118],[1493251200000,3.4362],[1493337600000,5.01],[1493683200000,3.3178],[1493769600000,3.0896],[1493856000000,4.605],[1493942400000,3.2909],[1494201600000,3.2176],[1494288000000,3.5016],[1494374400000,3.7496],[1494460800000,3.3334],[1494547200000,3.0163],[1494806400000,3.7124],[1494892800000,2.9195],[1494979200000,5.2218],[1495065600000,3.4202],[1495152000000,2.4109],[1495411200000,3.9104],[1495497600000,3.9767],[1495584000000,3.4066],[1495670400000,3.6086],[1495756800000,3.8897],[1496188800000,3.4448],[1496275200000,3.4453],[1496361600000,3.456],[1496620800000,3.5264],[1496707200000,3.3759],[1496793600000,3.0142],[1496880000000,3.6444],[1496966400000,3.1955],[1497225600000,4.2022],[1497312000000,4.3506],[1497398400000,3.9887],[1497484800000,3.4353],[1497571200000,3.4228],[1497830400000,3.0627],[1497916800000,2.6556],[1498003200000,3.8407],[1498089600000,4.226],[1498176000000,2.8458],[1498435200000,3.1541],[1498521600000,3.0387],[1498608000000,3.5527],[1498694400000,4.4408],[1498780800000,2.9007],[1499040000000,4.4973],[1499126400000,3.5183],[1499212800000,3.5264],[1499299200000,3.741],[1499385600000,4.0163],[1499644800000,4.7579],[1499731200000,2.4452],[1499817600000,5.0243],[1499904000000,3.305],[1499990400000,3.1429],[1500249600000,2.588],[1500336000000,3.0269],[1500422400000,3.6796],[1500508800000,3.2234],[1500595200000,3.4201],[1500854400000,3.2046],[1500940800000,2.3277],[1501027200000,3.5639],[1501113600000,3.7038],[1501200000000,3.1502],[1501459200000,3.1683],[1501545600000,2.9213],[1501632000000,3.522],[1501718400000,3.4467],[1501804800000,2.7872],[1502064000000,3.006],[1502150400000,4.5243],[1502236800000,3.3555],[1502323200000,3.8084],[1502409600000,4.5623],[1502668800000,2.9495],[1502755200000,4.5692],[1502841600000,3.5763],[1502928000000,3.5256],[1503014400000,3.389],[1503273600000,2.912],[1503360000000,3.3835],[1503446400000,3.8845],[1503532800000,2.8768],[1503619200000,3.4067],[1503878400000,3.1588],[1503964800000,3.7544],[1504051200000,3.106],[1504137600000,3.8326],[1504224000000,4.3257],[1504483200000,3.239],[1504569600000,3.4365],[1504656000000,3.2915],[1504742400000,4.2675],[1504828800000,3.378],[1505088000000,4.0321],[1505174400000,3.5032],[1505260800000,3.4902],[1505347200000,4.8925],[1505433600000,3.5785],[1505692800000,4.3155],[1505779200000,3.2699],[1505865600000,3.5904],[1505952000000,4.563],[1506038400000,3.5057],[1506297600000,2.9043],[1506384000000,4.2726],[1506470400000,3.3205],[1506556800000,3.0216],[1506643200000,3.8799],[1507507200000,3.3997],[1507593600000,3.9886],[1507680000000,3.6113],[1507766400000,3.6189],[1507852800000,4.832],[1508112000000,4.7015],[1508198400000,3.7404],[1508284800000,2.9971],[1508371200000,3.8138],[1508457600000,3.6841],[1508716800000,3.6618],[1508803200000,3.6492],[1508889600000,3.1993],[1508976000000,3.1867],[1509062400000,3.4453],[1509321600000,2.8657],[1509408000000,2.9208],[1509494400000,3.3906],[1509580800000,3.13],[1509667200000,3.2337],[1509926400000,3.0431],[1510012800000,4.2971],[1510099200000,3.3676],[1510185600000,3.182],[1510272000000,2.7594],[1510531200000,3.6607],[1510617600000,3.7657],[1510704000000,4.2957],[1510790400000,3.2334],[1510876800000,4.0632],[1511136000000,3.5268],[1511222400000,3.2282],[1511308800000,3.2183],[1511395200000,3.0107],[1511481600000,3.7589],[1511740800000,2.99],[1511827200000,2.3702],[1511913600000,2.7619],[1512000000000,3.1936],[1512086400000,2.6066],[1512345600000,3.62],[1512432000000,2.6554],[1512518400000,3.2017],[1512604800000,2.6357],[1512691200000,3.0039],[1512950400000,2.9458],[1513036800000,2.9228],[1513123200000,3.3265],[1513209600000,2.2021],[1513296000000,3.1304],[1513555200000,3.7673],[1513641600000,3.712],[1513728000000,2.8662],[1513814400000,3.6241],[1513900800000,2.4662],[1514160000000,2.7585],[1514246400000,3.5169],[1514332800000,3.798],[1514419200000,2.9115],[1514505600000,2.7355],[1514851200000,2.7006],[1514937600000,3.3024],[1515024000000,3.37],[1515110400000,2.694],[1515369600000,2.4693],[1515456000000,2.3167],[1515542400000,2.8451],[1515628800000,3.1901],[1515715200000,2.5765],[1515974400000,2.9224],[1516060800000,2.8382],[1516147200000,2.6279],[1516233600000,2.8093],[1516320000000,2.7293],[1516579200000,2.815],[1516665600000,3.9794],[1516752000000,2.7932],[1516838400000,2.7016],[1516924800000,3.186],[1517184000000,4.1823],[1517270400000,3.6484],[1517356800000,3.144],[1517443200000,2.4028],[1517529600000,2.7178],[1517788800000,2.4784],[1517875200000,2.2353],[1517961600000,2.7117],[1518048000000,2.381],[1518134400000,2.4876],[1518393600000,1.9106],[1518480000000,2.7797],[1518566400000,2.6242],[1519257600000,3.2115],[1519344000000,2.9678],[1519603200000,2.6178],[1519689600000,2.5815],[1519776000000,2.7898],[1519862400000,2.1609],[1519948800000,2.7993],[1520208000000,2.8839],[1520294400000,3.162],[1520380800000,2.4864],[1520467200000,2.367],[1520553600000,3.6739],[1520812800000,2.7952],[1520899200000,2.9707],[1520985600000,2.4345],[1521072000000,2.6357],[1521158400000,2.756],[1521417600000,3.0994],[1521504000000,3.4006],[1521590400000,4.3335],[1521676800000,3.0642],[1521763200000,2.6873],[1522022400000,2.4753],[1522108800000,2.5005],[1522195200000,2.7652],[1522281600000,3.9225],[1522368000000,2.6085],[1522627200000,2.9249],[1522713600000,2.6884],[1522800000000,1.8455],[1523232000000,2.7817],[1523318400000,1.9548],[1523404800000,2.8411],[1523491200000,2.8803],[1523577600000,3.6954],[1523836800000,3.8326],[1523923200000,2.2258],[1524009600000,2.0289],[1524096000000,2.7911],[1524182400000,2.4316],[1524441600000,2.4393],[1524528000000,2.4173],[1524614400000,2.7637],[1524700800000,2.7527],[1524787200000,3.5292],[1525219200000,2.6118],[1525305600000,2.4003],[1525392000000,3.1786],[1525651200000,2.5414],[1525737600000,2.9296],[1525824000000,3.133],[1525910400000,2.6592],[1525996800000,2.706],[1526256000000,3.4678],[1526342400000,2.8377],[1526428800000,3.9872],[1526515200000,2.7628],[1526601600000,2.9497],[1526860800000,2.4485],[1526947200000,3.2598],[1527033600000,3.4465],[1527120000000,4.141],[1527206400000,2.0825],[1527465600000,2.9618],[1527552000000,1.8218],[1527638400000,2.9565],[1527724800000,2.6885],[1527811200000,3.7592],[1528070400000,2.2423],[1528156800000,1.899],[1528243200000,2.7223],[1528329600000,2.5107],[1528416000000,2.1382],[1528675200000,2.1024],[1528761600000,1.5847],[1528848000000,2.1817],[1528934400000,3.0461],[1529020800000,2.3929],[1529366400000,2.4167],[1529452800000,2.1391],[1529539200000,1.8517],[1529625600000,2.3139],[1529884800000,1.8044],[1529971200000,2.3785],[1530057600000,1.5493],[1530144000000,2.1765],[1530230400000,1.7964],[1530489600000,2.4882],[1530576000000,2.0852],[1530662400000,1.459],[1530748800000,1.9916],[1530835200000,2.1617],[1531094400000,1.456],[1531180800000,2.2595],[1531267200000,2.1956],[1531353600000,1.8466],[1531440000000,2.1476],[1531699200000,2.2571],[1531785600000,3.7225],[1531872000000,2.5703],[1531958400000,2.3044],[1532044800000,2.7891],[1532304000000,2.5302],[1532390400000,2.696],[1532476800000,2.9154],[1532563200000,2.3101],[1532649600000,1.7145],[1532908800000,3.142],[1532995200000,2.5231],[1533081600000,2.9468],[1533168000000,2.2691],[1533254400000,1.8727],[1533513600000,2.743],[1533600000000,2.6359],[1533686400000,2.1295],[1533772800000,2.5056],[1533859200000,2.5074],[1534118400000,1.9176],[1534204800000,1.394],[1534291200000,2.0817],[1534377600000,2.7662],[1534464000000,1.8362],[1534723200000,2.1787],[1534809600000,1.9133],[1534896000000,2.0551],[1534982400000,2.2506],[1535068800000,2.8584],[1535328000000,2.6917],[1535414400000,2.4494],[1535500800000,2.1604],[1535587200000,2.8347],[1535673600000,2.3753],[1535932800000,2.0545],[1536019200000,2.5006],[1536105600000,1.8036],[1536192000000,1.9715],[1536278400000,1.7763],[1536537600000,2.0383],[1536624000000,2.2803],[1536710400000,2.0238],[1536796800000,2.1783],[1536883200000,2.1151],[1537142400000,1.7087],[1537228800000,1.9707],[1537315200000,2.2916],[1537401600000,2.1955],[1537488000000,1.8608],[1537833600000,1.9791],[1537920000000,2.1411],[1538006400000,2.1104],[1538092800000,2.4732],[1538956800000,2.4781],[1539043200000,2.084],[1539129600000,1.8338],[1539216000000,1.8169],[1539302400000,1.7926],[1539561600000,1.6449],[1539648000000,1.9507],[1539734400000,1.3767],[1539820800000,2.0799],[1539907200000,1.3492],[1540166400000,1.184],[1540252800000,1.9185],[1540339200000,1.8038],[1540425600000,1.5161],[1540512000000,1.7029],[1540771200000,2.3253],[1540857600000,2.1845],[1540944000000,2.3499],[1541030400000,2.0091],[1541116800000,1.9229],[1541376000000,1.8262],[1541462400000,1.8391],[1541548800000,2.6913],[1541635200000,1.82],[1541721600000,2.2446],[1541980800000,1.8228],[1542067200000,2.0122],[1542153600000,2.1908],[1542240000000,2.2534],[1542326400000,2.466],[1542585600000,2.2808],[1542672000000,1.4273],[1542758400000,2.1162],[1542844800000,1.7502],[1542931200000,1.9948],[1543190400000,1.604],[1543276800000,1.9808],[1543363200000,1.8887],[1543449600000,2.6227],[1543536000000,2.1766],[1543795200000,1.9224],[1543881600000,2.329],[1543968000000,1.8592],[1544054400000,1.7046],[1544140800000,2.1743],[1544400000000,1.9111],[1544486400000,1.9567],[1544572800000,2.5751],[1544659200000,2.0616],[1544745600000,2.0795],[1545004800000,1.9461],[1545091200000,1.6328],[1545177600000,2.3937],[1545264000000,1.9974],[1545350400000,1.4653],[1545609600000,2.9509],[1545696000000,2.399],[1545782400000,1.4572],[1545868800000,1.7715],[1545955200000,1.5331],[1546387200000,1.7304],[1546473600000,1.9048],[1546560000000,2.0138],[1546819200000,1.597],[1546905600000,1.9865],[1546992000000,1.7414],[1547078400000,2.3314],[1547164800000,1.7333],[1547424000000,1.9969],[1547510400000,1.6379],[1547596800000,2.271],[1547683200000,1.8595],[1547769600000,2.4131],[1548028800000,1.8423],[1548115200000,1.8166],[1548201600000,2.1951],[1548288000000,1.5833],[1548374400000,1.9508],[1548633600000,1.763],[1548720000000,2.2708],[1548806400000,1.9386],[1548892800000,2.2756],[1548979200000,1.9593],[1549843200000,1.8764],[1549929600000,1.9335],[1550016000000,1.8983],[1550102400000,2.315],[1550188800000,1.8474],[1550448000000,2.2017],[1550534400000,1.9391],[1550620800000,2.3323],[1550707200000,2.8218],[1550793600000,1.9154],[1551052800000,2.3912],[1551139200000,2.3543],[1551225600000,2.5014],[1551312000000,2.7771],[1551398400000,2.8629],[1551657600000,2.9612],[1551744000000,2.7933],[1551830400000,2.9637],[1551916800000,2.716],[1552003200000,2.3239],[1552262400000,1.8446],[1552348800000,2.3142],[1552435200000,2.5682],[1552521600000,2.7353],[1552608000000,2.6524],[1552867200000,3.02],[1552953600000,2.6632],[1553040000000,2.476],[1553126400000,2.6573],[1553212800000,2.7386],[1553472000000,3.0632],[1553558400000,2.7232],[1553644800000,2.1175],[1553731200000,2.1487],[1553817600000,3.0778],[1554076800000,2.5398],[1554163200000,2.91],[1554249600000,2.5438],[1554336000000,2.36],[1554681600000,2.3689],[1554768000000,2.7152],[1554854400000,2.6446],[1554940800000,3.1968],[1555027200000,2.1698],[1555286400000,2.2947],[1555372800000,2.6622],[1555459200000,2.1825],[1555545600000,2.5754],[1555632000000,2.8869],[1555891200000,2.8795],[1555977600000,2.6927],[1556064000000,2.2002],[1556150400000,1.8204],[1556236800000,3.4768],[1556496000000,1.9423],[1556582400000,2.0018],[1557100800000,2.3625],[1557187200000,1.8713],[1557273600000,1.9274],[1557360000000,1.5601],[1557446400000,2.2391],[1557705600000,2.2659],[1557792000000,2.1531],[1557878400000,1.7974],[1557964800000,2.5888],[1558051200000,2.3737],[1558310400000,1.6726],[1558396800000,1.8879],[1558483200000,2.3824],[1558569600000,2.1972],[1558656000000,1.7278],[1558915200000,2.2552],[1559001600000,2.1446],[1559088000000,2.6722],[1559174400000,2.001],[1559260800000,2.2079],[1559520000000,2.2279],[1559606400000,2.0139],[1559692800000,1.561],[1559779200000,1.6412],[1560124800000,1.8134],[1560211200000,2.2722],[1560297600000,2.4799],[1560384000000,2.222],[1560470400000,1.6092],[1560729600000,1.9211],[1560816000000,2.1584],[1560902400000,2.19],[1560988800000,2.4792],[1561075200000,2.347],[1561334400000,2.5061],[1561420800000,2.9655],[1561507200000,1.8249],[1561593600000,1.9541],[1561680000000,2.3286],[1561939200000,1.6941],[1562025600000,2.5148],[1562112000000,2.1952],[1562198400000,2.4966],[1562284800000,1.9212],[1562544000000,2.0331],[1562630400000,1.6492],[1562716800000,1.8664],[1562803200000,2.7776],[1562889600000,2.248],[1563148800000,2.809],[1563235200000,2.745],[1563321600000,2.4595],[1563408000000,2.15],[1563494400000,1.849],[1563753600000,1.9202],[1563840000000,1.9822],[1563926400000,2.3139],[1564012800000,2.2869],[1564099200000,2.9261],[1564358400000,2.837],[1564444800000,2.2171],[1564531200000,2.3489],[1564617600000,1.9897],[1564704000000,1.9421],[1564963200000,1.536],[1565049600000,2.5254],[1565136000000,1.5904],[1565222400000,2.4345],[1565308800000,1.9424],[1565568000000,2.8762],[1565654400000,1.6465],[1565740800000,1.9941],[1565827200000,2.2814],[1565913600000,1.6986],[1566172800000,2.4119],[1566259200000,2.27],[1566345600000,2.4601],[1566432000000,2.488],[1566518400000,2.2903],[1566777600000,1.8376],[1566864000000,1.8093],[1566950400000,2.7384],[1567036800000,1.9306],[1567123200000,2.5204],[1567382400000,3.273],[1567468800000,2.6416],[1567555200000,2.2348],[1567641600000,2.0139],[1567728000000,2.6808],[1567987200000,2.2745],[1568073600000,2.6288],[1568160000000,2.2753],[1568246400000,1.8227],[1568592000000,2.5738],[1568678400000,2.2318],[1568764800000,1.6646],[1568851200000,1.5949],[1568937600000,3.1499],[1569196800000,2.1203],[1569283200000,1.6329],[1569369600000,2.6528],[1569456000000,1.3728],[1569542400000,2.0348],[1569801600000,1.8239],[1570492800000,2.193],[1570579200000,2.9414],[1570665600000,2.3869],[1570752000000,2.5265],[1571011200000,1.976],[1571097600000,2.6128],[1571184000000,2.5989],[1571270400000,2.3199],[1571356800000,1.478],[1571616000000,2.7641],[1571702400000,1.6954],[1571788800000,2.3317],[1571875200000,1.9378],[1571961600000,2.0962],[1572220800000,1.909],[1572307200000,2.1861],[1572393600000,2.3685],[1572480000000,1.826],[1572566400000,2.6278],[1572825600000,2.029],[1572912000000,2.2506],[1572998400000,2.3685],[1573084800000,2.3474],[1573171200000,1.6914],[1573430400000,1.9725],[1573516800000,1.6389],[1573603200000,1.5219],[1573689600000,2.4731],[1573776000000,2.8847],[1574035200000,3.2401],[1574121600000,1.4604],[1574208000000,2.4109],[1574294400000,2.3905],[1574380800000,1.6615],[1574640000000,2.0736],[1574726400000,3.5186],[1574812800000,1.7165],[1574899200000,2.0126],[1574985600000,2.8744],[1575244800000,1.8315],[1575331200000,2.2702],[1575417600000,1.5147],[1575504000000,1.9835],[1575590400000,2.0619],[1575849600000,2.1967],[1575936000000,1.984],[1576022400000,2.1614],[1576108800000,2.5295],[1576195200000,2.2027],[1576454400000,2.545],[1576540800000,2.2648],[1576627200000,2.0983],[1576713600000,3.3961],[1576800000000,1.8509],[1577059200000,3.4627],[1577145600000,1.9333],[1577232000000,1.5099],[1577318400000,1.9724],[1577404800000,3.2883],[1577664000000,2.5709],[1577750400000,2.9233],[1577923200000,2.4405],[1578009600000,2.7506],[1578268800000,2.6346],[1578355200000,1.9407],[1578441600000,2.3767],[1578528000000,3.1196],[1578614400000,3.1691],[1578873600000,3.4481],[1578960000000,3.1466],[1579046400000,2.786],[1579132800000,1.4386],[1579219200000,3.5562],[1579478400000,2.4133],[1579564800000,3.0777],[1579651200000,2.8023],[1579737600000,1.5103],[1580688000000,4.4845],[1580774400000,3.0492],[1580860800000,3.4284],[1580947200000,1.8453],[1581033600000,2.2751],[1581292800000,1.8766],[1581379200000,1.8786],[1581465600000,2.5556],[1581552000000,3.3509],[1581638400000,1.4365],[1581897600000,1.5932],[1581984000000,3.4221],[1582070400000,2.5467],[1582156800000,2.4121],[1582243200000,1.7643],[1582502400000,2.6471],[1582588800000,3.5335],[1582675200000,1.8211],[1582761600000,1.8574],[1582848000000,3.3538],[1583107200000,2.1026],[1583193600000,2.7726],[1583280000000,2.452],[1583452800000,null],[1583712000000,2.6154],[1583798400000,2.6829],[1583884800000,1.8806],[1583971200000,2.3814],[1584057600000,2.2785],[1584316800000,1.7229],[1584403200000,2.4464],[1584489600000,2.0514],[1584576000000,2.3861],[1584662400000,2.0601],[1584921600000,2.1674],[1585008000000,2.2343],[1585094400000,1.8547],[1585180800000,2.5403],[1585267200000,2.8617],[1585526400000,2.5421],[1585612800000,2.1583],[1585699200000,1.7811],[1585785600000,2.5069],[1585872000000,2.7068],[1586217600000,2.2175],[1586304000000,2.7848],[1586390400000,2.3934],[1586476800000,2.404],[1586736000000,2.2716],[1586822400000,2.7235],[1586908800000,2.1235],[1586995200000,2.2172],[1587081600000,1.5286],[1587340800000,2.1195],[1587427200000,3.1531],[1587513600000,3.3025],[1587600000000,2.4622],[1587686400000,2.365],[1587945600000,2.3589],[1588032000000,1.7736],[1588118400000,2.1883],[1588204800000,2.3784],[1588723200000,2.0093],[1588809600000,1.7698],[1588896000000,3.3859],[1589155200000,2.1198],[1589241600000,2.0328],[1589328000000,1.7883],[1589414400000,4.543],[1589500800000,3.2093],[1589760000000,3.3065],[1589846400000,2.8519],[1589932800000,1.8725],[1590019200000,3.9794],[1590105600000,3.0582],[1590364800000,2.2459],[1590451200000,1.9338],[1590537600000,2.1489],[1590624000000,2.3611],[1590710400000,1.5703],[1590969600000,2.8919],[1591056000000,2.3402],[1591142400000,2.3935],[1591228800000,2.0616],[1591315200000,2.7309],[1591574400000,3.0399],[1591660800000,2.4326],[1591747200000,2.1982],[1591833600000,1.2765],[1591920000000,3.4892],[1592179200000,1.8266],[1592265600000,2.3826],[1592352000000,2.2579],[1592438400000,2.1531],[1592524800000,1.7239],[1592784000000,1.8849],[1592870400000,2.7417],[1592956800000,1.5031],[1593388800000,4.6468],[1593475200000,2.527],[1593561600000,1.8169],[1593648000000,4.0111],[1593734400000,2.6063],[1593993600000,2.1921],[1594080000000,3.0923],[1594166400000,2.8148],[1594252800000,5.4174],[1594339200000,3.3475],[1594598400000,3.3595],[1594684800000,2.6282],[1594771200000,2.6924],[1594857600000,2.8654],[1594944000000,2.5817],[1595203200000,2.5909],[1595289600000,2.8356],[1595376000000,2.6856],[1595462400000,3.7033],[1595548800000,2.869],[1595808000000,3.3428],[1595894400000,2.284],[1595980800000,2.7269],[1596067200000,3.7588],[1596153600000,2.9992],[1596412800000,3.5033],[1596499200000,2.9284],[1596585600000,2.5829],[1596672000000,1.7894],[1596758400000,2.3598],[1597017600000,2.7242],[1597104000000,1.8447],[1597190400000,2.4676],[1597276800000,2.7799],[1597363200000,2.5556],[1597622400000,4.3432],[1597708800000,2.9181],[1597795200000,2.7078],[1597881600000,3.8162],[1597968000000,3.5233],[1598227200000,3.7044],[1598313600000,3.7108],[1598400000000,2.9409],[1598486400000,2.7786],[1598572800000,2.8998],[1598832000000,2.7861],[1598918400000,2.67],[1599004800000,2.5228],[1599091200000,3.2673],[1599177600000,3.2015],[1599436800000,1.7045],[1599523200000,2.8628],[1599609600000,4.2137],[1599696000000,1.8964],[1599782400000,2.9667],[1600041600000,2.4273],[1600128000000,2.5083],[1600214400000,4.475],[1600300800000,3.1063],[1600387200000,3.0165],[1600646400000,2.6215],[1600732800000,2.7435],[1600819200000,2.3532],[1600905600000,2.1281],[1600992000000,1.7477],[1601251200000,2.1618],[1601337600000,3.866],[1601424000000,3.8532],[1602201600000,3.8723],[1602460800000,2.782],[1602547200000,2.828],[1602633600000,2.5763],[1602720000000,4.5079],[1602806400000,3.6785],[1603065600000,2.8797],[1603152000000,2.4468],[1603238400000,1.7034],[1603324800000,2.8332],[1603411200000,2.9193],[1603670400000,2.5177],[1603756800000,2.8998],[1603843200000,3.6134],[1603929600000,4.424],[1604016000000,3.57],[1604275200000,2.6684],[1604361600000,2.6576],[1604448000000,2.4406]],\"color\":\"#E2D269\"},{\"name\":\"5\\u5206\\u4f4d\\u6570\",\"yAxis\":0,\"data\":[[1476144000000,null],[1476230400000,4.4182],[1476316800000,3.789],[1476403200000,4.8244],[1476662400000,4.1062],[1476748800000,5.0145],[1476835200000,4.2006],[1476921600000,5.9439],[1477008000000,3.7022],[1477267200000,4.6159],[1477353600000,5.5699],[1477440000000,5.7766],[1477526400000,4.3073],[1477612800000,4.157],[1477872000000,4.5188],[1477958400000,4.7112],[1478044800000,4.3858],[1478131200000,3.1307],[1478217600000,3.6757],[1478476800000,5.6692],[1478563200000,4.2323],[1478649600000,6.2966],[1478736000000,3.8123],[1478822400000,6.4677],[1479081600000,5.2559],[1479168000000,5.6839],[1479254400000,4.5774],[1479340800000,4.1171],[1479427200000,3.9712],[1479686400000,4.4038],[1479772800000,4.3472],[1479859200000,5.3162],[1479945600000,6.3812],[1480032000000,3.8333],[1480291200000,3.6142],[1480377600000,5.9114],[1480464000000,4.4918],[1480550400000,4.7892],[1480636800000,3.2914],[1480896000000,4.1905],[1480982400000,4.5166],[1481068800000,3.7097],[1481155200000,4.12],[1481241600000,5.6319],[1481500800000,3.8737],[1481587200000,3.7632],[1481673600000,4.6584],[1481760000000,4.2301],[1481846400000,3.5779],[1482105600000,3.4459],[1482192000000,4.5216],[1482278400000,4.0787],[1482364800000,4.3644],[1482451200000,5.3106],[1482710400000,4.0767],[1482796800000,3.662],[1482883200000,4.7778],[1482969600000,3.7758],[1483056000000,3.8684],[1483401600000,5.1123],[1483488000000,5.8437],[1483574400000,4.8387],[1483660800000,6.1494],[1483920000000,3.8616],[1484006400000,4.0178],[1484092800000,5.9014],[1484179200000,4.3475],[1484265600000,4.2692],[1484524800000,4.3281],[1484611200000,4.2659],[1484697600000,4.1015],[1484784000000,5.6376],[1484870400000,3.625],[1485129600000,3.1767],[1485216000000,5.0244],[1485302400000,4.0213],[1485388800000,4.0844],[1486080000000,5.3383],[1486339200000,3.6826],[1486425600000,3.5833],[1486512000000,3.1139],[1486598400000,3.6606],[1486684800000,5.4628],[1486944000000,5.2365],[1487030400000,4.3368],[1487116800000,2.8272],[1487203200000,4.4818],[1487289600000,3.7902],[1487548800000,4.7086],[1487635200000,3.9777],[1487721600000,5.8274],[1487808000000,3.3851],[1487894400000,3.4579],[1488153600000,3.569],[1488240000000,3.381],[1488326400000,4.1237],[1488412800000,4.8159],[1488499200000,4.1017],[1488758400000,4.5241],[1488844800000,4.6968],[1488931200000,3.5941],[1489017600000,4.2782],[1489104000000,4.4335],[1489363200000,4.1136],[1489449600000,4.1812],[1489536000000,6.268],[1489622400000,4.0401],[1489708800000,6.0337],[1489968000000,3.436],[1490054400000,4.2461],[1490140800000,4.3179],[1490227200000,4.0554],[1490313600000,3.9193],[1490572800000,4.194],[1490659200000,5.5852],[1490745600000,4.1252],[1490832000000,3.6317],[1490918400000,3.9115],[1491350400000,4.1423],[1491436800000,5.3629],[1491523200000,3.2327],[1491782400000,4.067],[1491868800000,3.8793],[1491955200000,3.6266],[1492041600000,4.6483],[1492128000000,3.7185],[1492387200000,3.4739],[1492473600000,4.0231],[1492560000000,3.9401],[1492646400000,4.682],[1492732800000,3.9285],[1492992000000,3.5748],[1493078400000,3.8643],[1493164800000,3.9223],[1493251200000,3.6031],[1493337600000,3.4704],[1493683200000,4.443],[1493769600000,3.7658],[1493856000000,2.7813],[1493942400000,3.2511],[1494201600000,3.4364],[1494288000000,3.7927],[1494374400000,3.675],[1494460800000,2.3535],[1494547200000,3.1841],[1494806400000,3.5471],[1494892800000,4.3327],[1494979200000,2.8142],[1495065600000,4.481],[1495152000000,3.7649],[1495411200000,3.4046],[1495497600000,3.2007],[1495584000000,3.9151],[1495670400000,4.0067],[1495756800000,4.6242],[1496188800000,4.9309],[1496275200000,3.7056],[1496361600000,3.6034],[1496620800000,3.672],[1496707200000,3.0733],[1496793600000,3.4044],[1496880000000,4.5441],[1496966400000,4.6181],[1497225600000,3.4473],[1497312000000,3.3581],[1497398400000,3.3584],[1497484800000,3.4966],[1497571200000,3.2079],[1497830400000,3.6247],[1497916800000,3.7763],[1498003200000,4.6197],[1498089600000,3.4062],[1498176000000,3.9796],[1498435200000,4.186],[1498521600000,4.6921],[1498608000000,4.7225],[1498694400000,3.5225],[1498780800000,4.1794],[1499040000000,3.5458],[1499126400000,4.8383],[1499212800000,3.363],[1499299200000,3.0734],[1499385600000,4.8518],[1499644800000,3.0369],[1499731200000,4.2935],[1499817600000,2.9874],[1499904000000,4.1484],[1499990400000,3.7644],[1500249600000,3.1764],[1500336000000,3.3451],[1500422400000,3.7307],[1500508800000,4.3225],[1500595200000,4.3798],[1500854400000,3.3679],[1500940800000,3.8174],[1501027200000,3.0232],[1501113600000,3.3231],[1501200000000,2.9335],[1501459200000,3.5436],[1501545600000,3.4953],[1501632000000,4.7124],[1501718400000,3.5277],[1501804800000,3.5026],[1502064000000,3.7029],[1502150400000,3.1663],[1502236800000,4.1778],[1502323200000,3.0913],[1502409600000,3.2429],[1502668800000,3.573],[1502755200000,3.1976],[1502841600000,3.8863],[1502928000000,3.1416],[1503014400000,4.5586],[1503273600000,4.0541],[1503360000000,4.9042],[1503446400000,3.1858],[1503532800000,3.7623],[1503619200000,3.754],[1503878400000,4.3991],[1503964800000,4.445],[1504051200000,3.2808],[1504137600000,3.5909],[1504224000000,2.9631],[1504483200000,3.6876],[1504569600000,3.0517],[1504656000000,3.8052],[1504742400000,3.2552],[1504828800000,3.0163],[1505088000000,3.5352],[1505174400000,3.7439],[1505260800000,3.7862],[1505347200000,3.6768],[1505433600000,3.8529],[1505692800000,3.7601],[1505779200000,3.562],[1505865600000,3.6814],[1505952000000,3.1553],[1506038400000,3.3887],[1506297600000,3.8339],[1506384000000,3.5762],[1506470400000,3.9796],[1506556800000,3.9068],[1506643200000,2.9592],[1507507200000,3.7242],[1507593600000,5.5051],[1507680000000,3.7117],[1507766400000,4.828],[1507852800000,3.6574],[1508112000000,2.9902],[1508198400000,3.4783],[1508284800000,3.6215],[1508371200000,3.2865],[1508457600000,4.1531],[1508716800000,3.7424],[1508803200000,5.1613],[1508889600000,4.0644],[1508976000000,3.996],[1509062400000,4.1565],[1509321600000,4.0508],[1509408000000,3.992],[1509494400000,4.0191],[1509580800000,2.8569],[1509667200000,3.6824],[1509926400000,3.8626],[1510012800000,3.3011],[1510099200000,4.6527],[1510185600000,4.0761],[1510272000000,4.3335],[1510531200000,2.9518],[1510617600000,3.2849],[1510704000000,3.3537],[1510790400000,3.5274],[1510876800000,3.006],[1511136000000,3.2476],[1511222400000,3.5741],[1511308800000,4.0084],[1511395200000,3.3975],[1511481600000,3.1088],[1511740800000,3.107],[1511827200000,3.5226],[1511913600000,3.7715],[1512000000000,3.7471],[1512086400000,3.9945],[1512345600000,3.0014],[1512432000000,3.4244],[1512518400000,3.4037],[1512604800000,3.1534],[1512691200000,3.1078],[1512950400000,2.7304],[1513036800000,3.9899],[1513123200000,3.049],[1513209600000,3.5001],[1513296000000,2.7868],[1513555200000,2.8579],[1513641600000,3.1064],[1513728000000,3.9209],[1513814400000,3.0044],[1513900800000,3.8908],[1514160000000,3.4279],[1514246400000,3.1494],[1514332800000,3.1043],[1514419200000,3.9111],[1514505600000,3.5377],[1514851200000,3.9324],[1514937600000,4.6015],[1515024000000,4.6651],[1515110400000,3.5115],[1515369600000,4.0062],[1515456000000,3.6264],[1515542400000,3.4401],[1515628800000,3.1475],[1515715200000,3.3082],[1515974400000,3.7343],[1516060800000,3.6033],[1516147200000,3.6568],[1516233600000,3.273],[1516320000000,4.1773],[1516579200000,3.8732],[1516665600000,3.0772],[1516752000000,3.8145],[1516838400000,3.2042],[1516924800000,3.6684],[1517184000000,2.8989],[1517270400000,3.0877],[1517356800000,3.3282],[1517443200000,3.1553],[1517529600000,3.1061],[1517788800000,2.3038],[1517875200000,2.7469],[1517961600000,2.517],[1518048000000,3.1978],[1518134400000,2.7404],[1518393600000,2.9134],[1518480000000,2.4955],[1518566400000,3.5118],[1519257600000,2.801],[1519344000000,3.658],[1519603200000,3.1687],[1519689600000,3.4645],[1519776000000,3.0955],[1519862400000,3.0618],[1519948800000,3.5401],[1520208000000,2.7689],[1520294400000,2.9489],[1520380800000,3.1298],[1520467200000,3.6823],[1520553600000,2.6752],[1520812800000,3.8416],[1520899200000,3.6115],[1520985600000,3.0933],[1521072000000,3.1591],[1521158400000,3.2027],[1521417600000,2.587],[1521504000000,2.8245],[1521590400000,2.4545],[1521676800000,4.4919],[1521763200000,2.7284],[1522022400000,2.8834],[1522108800000,3.0743],[1522195200000,3.2567],[1522281600000,2.5497],[1522368000000,3.1617],[1522627200000,4.0789],[1522713600000,2.1632],[1522800000000,3.2301],[1523232000000,2.7248],[1523318400000,3.0695],[1523404800000,3.848],[1523491200000,4.0723],[1523577600000,2.5436],[1523836800000,2.6293],[1523923200000,3.2529],[1524009600000,3.3687],[1524096000000,2.9625],[1524182400000,3.2816],[1524441600000,2.7218],[1524528000000,2.8501],[1524614400000,3.6339],[1524700800000,2.0331],[1524787200000,2.48],[1525219200000,3.0086],[1525305600000,2.8138],[1525392000000,2.6073],[1525651200000,3.5257],[1525737600000,3.5008],[1525824000000,4.7028],[1525910400000,3.6281],[1525996800000,3.2592],[1526256000000,2.8191],[1526342400000,3.0807],[1526428800000,2.5666],[1526515200000,2.524],[1526601600000,2.9997],[1526860800000,3.0675],[1526947200000,4.4169],[1527033600000,2.0395],[1527120000000,2.7871],[1527206400000,3.1854],[1527465600000,2.7976],[1527552000000,3.5218],[1527638400000,2.4983],[1527724800000,2.6818],[1527811200000,2.5113],[1528070400000,3.0523],[1528156800000,3.3042],[1528243200000,2.172],[1528329600000,1.988],[1528416000000,2.9832],[1528675200000,2.655],[1528761600000,3.6169],[1528848000000,3.0419],[1528934400000,2.5943],[1529020800000,2.6893],[1529366400000,2.057],[1529452800000,2.3526],[1529539200000,2.2314],[1529625600000,2.3779],[1529884800000,1.7894],[1529971200000,3.2273],[1530057600000,1.8978],[1530144000000,2.6102],[1530230400000,2.277],[1530489600000,1.9053],[1530576000000,2.3111],[1530662400000,2.4557],[1530748800000,2.7464],[1530835200000,2.442],[1531094400000,2.9331],[1531180800000,3.1208],[1531267200000,2.594],[1531353600000,2.1147],[1531440000000,2.184],[1531699200000,3.2083],[1531785600000,2.0081],[1531872000000,2.3766],[1531958400000,3.7816],[1532044800000,2.5312],[1532304000000,2.4509],[1532390400000,3.79],[1532476800000,3.9718],[1532563200000,3.5279],[1532649600000,2.2793],[1532908800000,2.1454],[1532995200000,2.543],[1533081600000,2.4623],[1533168000000,2.2947],[1533254400000,2.0446],[1533513600000,2.2447],[1533600000000,2.3071],[1533686400000,2.2769],[1533772800000,3.3578],[1533859200000,1.9649],[1534118400000,2.3028],[1534204800000,2.9096],[1534291200000,2.7078],[1534377600000,2.1418],[1534464000000,1.948],[1534723200000,2.2901],[1534809600000,2.0137],[1534896000000,2.4328],[1534982400000,2.0589],[1535068800000,1.8818],[1535328000000,1.7141],[1535414400000,3.0922],[1535500800000,2.9684],[1535587200000,2.1031],[1535673600000,2.2348],[1535932800000,2.3239],[1536019200000,2.2739],[1536105600000,2.2428],[1536192000000,2.2209],[1536278400000,2.1906],[1536537600000,2.3403],[1536624000000,2.1888],[1536710400000,2.4005],[1536796800000,1.7473],[1536883200000,2.8156],[1537142400000,2.4464],[1537228800000,2.4739],[1537315200000,2.051],[1537401600000,2.7864],[1537488000000,2.4009],[1537833600000,3.1767],[1537920000000,2.3059],[1538006400000,2.461],[1538092800000,2.1853],[1538956800000,2.1385],[1539043200000,2.3032],[1539129600000,2.4008],[1539216000000,1.7864],[1539302400000,2.0865],[1539561600000,1.7387],[1539648000000,1.7081],[1539734400000,1.8528],[1539820800000,1.5242],[1539907200000,1.6788],[1540166400000,2.408],[1540252800000,2.3085],[1540339200000,2.6875],[1540425600000,1.8639],[1540512000000,2.271],[1540771200000,2.8927],[1540857600000,1.9731],[1540944000000,1.5919],[1541030400000,2.8148],[1541116800000,2.5331],[1541376000000,2.5367],[1541462400000,2.269],[1541548800000,1.7345],[1541635200000,2.552],[1541721600000,1.7686],[1541980800000,2.1093],[1542067200000,2.23],[1542153600000,2.6512],[1542240000000,2.9416],[1542326400000,1.6454],[1542585600000,2.9096],[1542672000000,2.4567],[1542758400000,2.227],[1542844800000,1.9675],[1542931200000,2.6689],[1543190400000,2.363],[1543276800000,2.1359],[1543363200000,2.1208],[1543449600000,1.7239],[1543536000000,2.4797],[1543795200000,1.8164],[1543881600000,2.6225],[1543968000000,2.7226],[1544054400000,2.2716],[1544140800000,2.0605],[1544400000000,2.2107],[1544486400000,2.2449],[1544572800000,1.7986],[1544659200000,2.6971],[1544745600000,2.3148],[1545004800000,2.172],[1545091200000,1.9435],[1545177600000,1.616],[1545264000000,2.065],[1545350400000,2.1867],[1545609600000,1.5857],[1545696000000,1.5653],[1545782400000,2.2644],[1545868800000,1.8537],[1545955200000,2.2599],[1546387200000,1.6141],[1546473600000,1.8707],[1546560000000,1.7905],[1546819200000,2.0444],[1546905600000,2.142],[1546992000000,2.2423],[1547078400000,3.0375],[1547164800000,2.0807],[1547424000000,1.9737],[1547510400000,2.5808],[1547596800000,1.8905],[1547683200000,2.3636],[1547769600000,1.9953],[1548028800000,2.1071],[1548115200000,2.5102],[1548201600000,2.0091],[1548288000000,2.3408],[1548374400000,1.7348],[1548633600000,2.2366],[1548720000000,1.9832],[1548806400000,1.9673],[1548892800000,2.0214],[1548979200000,1.9923],[1549843200000,1.9684],[1549929600000,1.9202],[1550016000000,2.2875],[1550102400000,2.7858],[1550188800000,2.697],[1550448000000,2.0317],[1550534400000,2.5213],[1550620800000,3.1695],[1550707200000,2.0368],[1550793600000,1.8784],[1551052800000,2.0965],[1551139200000,2.8671],[1551225600000,3.2979],[1551312000000,2.2873],[1551398400000,2.2447],[1551657600000,2.1624],[1551744000000,3.2948],[1551830400000,2.1698],[1551916800000,3.3735],[1552003200000,2.6873],[1552262400000,2.7876],[1552348800000,2.9935],[1552435200000,3.3593],[1552521600000,2.4432],[1552608000000,2.766],[1552867200000,2.4131],[1552953600000,3.3194],[1553040000000,3.4239],[1553126400000,2.3891],[1553212800000,3.7329],[1553472000000,2.4571],[1553558400000,2.4419],[1553644800000,2.6772],[1553731200000,2.6474],[1553817600000,2.5505],[1554076800000,2.7582],[1554163200000,3.578],[1554249600000,3.7036],[1554336000000,2.9563],[1554681600000,1.7694],[1554768000000,3.8044],[1554854400000,3.0471],[1554940800000,2.3714],[1555027200000,2.8657],[1555286400000,2.6312],[1555372800000,2.9869],[1555459200000,2.643],[1555545600000,3.6204],[1555632000000,2.6603],[1555891200000,2.6211],[1555977600000,2.3701],[1556064000000,2.712],[1556150400000,3.0742],[1556236800000,2.1727],[1556496000000,1.9907],[1556582400000,2.8998],[1557100800000,2.4096],[1557187200000,2.2118],[1557273600000,2.3678],[1557360000000,2.4049],[1557446400000,2.4033],[1557705600000,2.3191],[1557792000000,2.2178],[1557878400000,2.3988],[1557964800000,3.4175],[1558051200000,3.2448],[1558310400000,2.3267],[1558396800000,1.7441],[1558483200000,3.2117],[1558569600000,2.2823],[1558656000000,2.0268],[1558915200000,2.3499],[1559001600000,2.2655],[1559088000000,3.641],[1559174400000,2.222],[1559260800000,2.3624],[1559520000000,2.1755],[1559606400000,2.2112],[1559692800000,1.9047],[1559779200000,2.5635],[1560124800000,2.0265],[1560211200000,2.363],[1560297600000,3.1818],[1560384000000,3.3472],[1560470400000,2.1666],[1560729600000,2.371],[1560816000000,2.3057],[1560902400000,2.3538],[1560988800000,3.1438],[1561075200000,2.4401],[1561334400000,3.5523],[1561420800000,2.1536],[1561507200000,2.6588],[1561593600000,2.514],[1561680000000,3.0375],[1561939200000,2.8777],[1562025600000,3.2992],[1562112000000,2.6122],[1562198400000,2.4882],[1562284800000,2.5083],[1562544000000,2.3948],[1562630400000,2.6662],[1562716800000,2.2336],[1562803200000,1.9776],[1562889600000,2.0642],[1563148800000,2.1166],[1563235200000,1.9603],[1563321600000,3.4082],[1563408000000,3.033],[1563494400000,2.384],[1563753600000,2.2831],[1563840000000,2.0192],[1563926400000,2.4078],[1564012800000,2.9633],[1564099200000,1.9206],[1564358400000,2.1986],[1564444800000,2.3087],[1564531200000,3.0673],[1564617600000,2.3963],[1564704000000,2.3227],[1564963200000,2.3859],[1565049600000,2.3461],[1565136000000,1.9546],[1565222400000,2.0793],[1565308800000,1.9875],[1565568000000,1.6486],[1565654400000,2.2834],[1565740800000,1.9074],[1565827200000,3.3622],[1565913600000,1.8629],[1566172800000,3.3202],[1566259200000,3.2078],[1566345600000,3.5232],[1566432000000,2.1653],[1566518400000,1.9692],[1566777600000,2.5666],[1566864000000,2.4835],[1566950400000,3.3719],[1567036800000,3.2939],[1567123200000,2.0559],[1567382400000,1.9907],[1567468800000,2.1715],[1567555200000,2.9691],[1567641600000,3.068],[1567728000000,3.5787],[1567987200000,2.4099],[1568073600000,3.6256],[1568160000000,2.2357],[1568246400000,2.7943],[1568592000000,2.6062],[1568678400000,3.161],[1568764800000,2.7973],[1568851200000,2.6664],[1568937600000,2.0332],[1569196800000,2.957],[1569283200000,2.3848],[1569369600000,1.7761],[1569456000000,2.8176],[1569542400000,2.1936],[1569801600000,2.0596],[1570492800000,2.2687],[1570579200000,2.1119],[1570665600000,2.2716],[1570752000000,3.396],[1571011200000,2.856],[1571097600000,3.6028],[1571184000000,2.2431],[1571270400000,2.3173],[1571356800000,2.5752],[1571616000000,2.0477],[1571702400000,2.0667],[1571788800000,3.0919],[1571875200000,2.9178],[1571961600000,2.111],[1572220800000,2.9769],[1572307200000,3.0557],[1572393600000,1.9297],[1572480000000,2.3742],[1572566400000,2.2354],[1572825600000,2.4163],[1572912000000,3.27],[1572998400000,2.293],[1573084800000,2.2193],[1573171200000,2.3203],[1573430400000,2.92],[1573516800000,2.0267],[1573603200000,2.0321],[1573689600000,1.8024],[1573776000000,1.5703],[1574035200000,1.8701],[1574121600000,2.2036],[1574208000000,3.62],[1574294400000,3.4403],[1574380800000,1.8369],[1574640000000,3.2375],[1574726400000,1.427],[1574812800000,2.4914],[1574899200000,2.1627],[1574985600000,1.6466],[1575244800000,2.0349],[1575331200000,3.2658],[1575417600000,2.2827],[1575504000000,2.7198],[1575590400000,2.6751],[1575849600000,2.0513],[1575936000000,3.1],[1576022400000,2.0935],[1576108800000,1.9918],[1576195200000,2.2149],[1576454400000,2.1804],[1576540800000,2.9942],[1576627200000,2.8597],[1576713600000,3.3205],[1576800000000,1.2338],[1577059200000,3.2944],[1577145600000,2.5006],[1577232000000,2.7506],[1577318400000,1.5532],[1577404800000,3.4115],[1577664000000,3.9715],[1577750400000,2.2689],[1577923200000,3.3877],[1578009600000,3.5854],[1578268800000,1.607],[1578355200000,2.7122],[1578441600000,3.6665],[1578528000000,2.2473],[1578614400000,2.2342],[1578873600000,2.211],[1578960000000,2.4064],[1579046400000,3.466],[1579132800000,2.8377],[1579219200000,2.5122],[1579478400000,2.501],[1579564800000,2.2616],[1579651200000,1.8761],[1579737600000,2.0172],[1580688000000,3.192],[1580774400000,2.9549],[1580860800000,1.6858],[1580947200000,2.5552],[1581033600000,3.5312],[1581292800000,2.3402],[1581379200000,2.966],[1581465600000,2.0798],[1581552000000,1.8478],[1581638400000,1.478],[1581897600000,2.2701],[1581984000000,3.2186],[1582070400000,2.9805],[1582156800000,2.3871],[1582243200000,2.7944],[1582502400000,3.6412],[1582588800000,1.8996],[1582675200000,2.532],[1582761600000,1.9438],[1582848000000,2.9117],[1583107200000,2.556],[1583193600000,2.4768],[1583280000000,3.4844],[1583452800000,null],[1583712000000,2.3993],[1583798400000,2.4141],[1583884800000,2.2082],[1583971200000,3.0582],[1584057600000,2.2318],[1584316800000,2.0552],[1584403200000,3.8601],[1584489600000,2.1717],[1584576000000,1.7879],[1584662400000,2.2642],[1584921600000,2.0596],[1585008000000,2.4565],[1585094400000,2.6158],[1585180800000,3.2974],[1585267200000,2.2719],[1585526400000,2.7718],[1585612800000,2.6246],[1585699200000,2.6799],[1585785600000,2.1117],[1585872000000,2.228],[1586217600000,3.0827],[1586304000000,3.4123],[1586390400000,2.2637],[1586476800000,3.5087],[1586736000000,2.6012],[1586822400000,2.7026],[1586908800000,2.6251],[1586995200000,1.4004],[1587081600000,2.5533],[1587340800000,2.6063],[1587427200000,2.2161],[1587513600000,1.9146],[1587600000000,2.199],[1587686400000,3.1833],[1587945600000,2.2235],[1588032000000,1.1457],[1588118400000,2.5356],[1588204800000,2.0692],[1588723200000,2.5907],[1588809600000,2.0242],[1588896000000,2.144],[1589155200000,2.7261],[1589241600000,3.0003],[1589328000000,2.7434],[1589414400000,2.1327],[1589500800000,1.6475],[1589760000000,1.8275],[1589846400000,2.1015],[1589932800000,2.6096],[1590019200000,1.9724],[1590105600000,2.1762],[1590364800000,2.4099],[1590451200000,2.5015],[1590537600000,3.2408],[1590624000000,2.2856],[1590710400000,2.4928],[1590969600000,1.9062],[1591056000000,2.74],[1591142400000,3.5068],[1591228800000,3.8609],[1591315200000,2.1979],[1591574400000,2.0317],[1591660800000,2.8572],[1591747200000,3.1118],[1591833600000,2.9808],[1591920000000,1.6969],[1592179200000,2.4872],[1592265600000,2.7552],[1592352000000,2.7363],[1592438400000,2.8696],[1592524800000,3.0978],[1592784000000,2.6313],[1592870400000,1.7475],[1592956800000,2.7313],[1593388800000,2.2268],[1593475200000,2.537],[1593561600000,1.6011],[1593648000000,2.0333],[1593734400000,3.744],[1593993600000,2.9458],[1594080000000,4.4923],[1594166400000,4.0407],[1594252800000,2.4178],[1594339200000,5.0028],[1594598400000,2.4726],[1594684800000,2.7764],[1594771200000,4.671],[1594857600000,3.0204],[1594944000000,3.0679],[1595203200000,3.0549],[1595289600000,4.4556],[1595376000000,3.7016],[1595462400000,2.0618],[1595548800000,2.9012],[1595808000000,2.463],[1595894400000,2.8785],[1595980800000,4.416],[1596067200000,1.8511],[1596153600000,4.0224],[1596412800000,2.0842],[1596499200000,4.1986],[1596585600000,3.2593],[1596672000000,3.0556],[1596758400000,2.8817],[1597017600000,3.3267],[1597104000000,3.283],[1597190400000,3.5918],[1597276800000,3.2105],[1597363200000,4.6842],[1597622400000,2.5945],[1597708800000,3.9402],[1597795200000,2.7828],[1597881600000,2.7941],[1597968000000,3.3179],[1598227200000,2.1245],[1598313600000,2.845],[1598400000000,1.8959],[1598486400000,2.8762],[1598572800000,3.2252],[1598832000000,3.5876],[1598918400000,3.3027],[1599004800000,3.3273],[1599091200000,2.4642],[1599177600000,3.0716],[1599436800000,2.5749],[1599523200000,3.8208],[1599609600000,2.5918],[1599696000000,2.68],[1599782400000,3.7182],[1600041600000,3.0522],[1600128000000,1.8445],[1600214400000,2.458],[1600300800000,2.9574],[1600387200000,3.4156],[1600646400000,3.4623],[1600732800000,3.8612],[1600819200000,3.3671],[1600905600000,3.0383],[1600992000000,3.6029],[1601251200000,2.7956],[1601337600000,2.4845],[1601424000000,2.4295],[1602201600000,2.0409],[1602460800000,3.7804],[1602547200000,4.0483],[1602633600000,2.4706],[1602720000000,2.6546],[1602806400000,2.8695],[1603065600000,2.9471],[1603152000000,4.1014],[1603238400000,3.3042],[1603324800000,1.9669],[1603411200000,2.8514],[1603670400000,3.8017],[1603756800000,3.2089],[1603843200000,2.0396],[1603929600000,2.3951],[1604016000000,2.2707],[1604275200000,2.6423],[1604361600000,3.2584],[1604448000000,2.6741]],\"color\":\"#4A8E8E\"},{\"name\":\"\\u6700\\u5c0f\\/\\u6700\\u5927\\u5206\\u4f4d\",\"yAxis\":0,\"data\":[[1476144000000,null],[1476230400000,1.0572],[1476316800000,1.3303],[1476403200000,0.8486],[1476662400000,1.1868],[1476748800000,0.7172],[1476835200000,1.1636],[1476921600000,0.8384],[1477008000000,1.707],[1477267200000,0.9063],[1477353600000,0.6557],[1477440000000,0.6427],[1477526400000,1.0243],[1477612800000,1.2233],[1477872000000,0.8574],[1477958400000,0.999],[1478044800000,0.9816],[1478131200000,1.6243],[1478217600000,1.3669],[1478476800000,0.6283],[1478563200000,1.089],[1478649600000,0.5942],[1478736000000,1.3927],[1478822400000,0.7591],[1479081600000,0.8164],[1479168000000,0.6691],[1479254400000,0.8495],[1479340800000,0.9982],[1479427200000,0.8661],[1479686400000,0.8878],[1479772800000,0.9319],[1479859200000,0.7705],[1479945600000,0.4981],[1480032000000,0.8073],[1480291200000,0.7945],[1480377600000,0.6973],[1480464000000,0.6659],[1480550400000,0.8531],[1480636800000,1.5826],[1480896000000,0.9236],[1480982400000,1.0762],[1481068800000,1.1801],[1481155200000,1.0901],[1481241600000,0.7834],[1481500800000,0.7157],[1481587200000,0.8182],[1481673600000,1.0132],[1481760000000,0.8985],[1481846400000,1.4816],[1482105600000,1.2381],[1482192000000,0.8507],[1482278400000,1.0165],[1482364800000,0.8835],[1482451200000,0.5181],[1482710400000,0.9398],[1482796800000,1.5149],[1482883200000,0.8822],[1482969600000,1.1943],[1483056000000,1.3567],[1483401600000,0.6103],[1483488000000,0.7217],[1483574400000,0.9427],[1483660800000,0.695],[1483920000000,0.9243],[1484006400000,0.7199],[1484092800000,0.5605],[1484179200000,1.0329],[1484265600000,1.2845],[1484524800000,0.8599],[1484611200000,0.6831],[1484697600000,0.7267],[1484784000000,0.7612],[1484870400000,0.8236],[1485129600000,1.2128],[1485216000000,0.857],[1485302400000,0.7871],[1485388800000,0.7517],[1486080000000,0.695],[1486339200000,1.1739],[1486425600000,1.1544],[1486512000000,1.4319],[1486598400000,1.2845],[1486684800000,0.8013],[1486944000000,0.7372],[1487030400000,0.7357],[1487116800000,1.7885],[1487203200000,0.7438],[1487289600000,0.9611],[1487548800000,0.7565],[1487635200000,0.7089],[1487721600000,0.7489],[1487808000000,1.2576],[1487894400000,1.5126],[1488153600000,1.5661],[1488240000000,1.4153],[1488326400000,1.1508],[1488412800000,0.8497],[1488499200000,1.0217],[1488758400000,1.2881],[1488844800000,0.8111],[1488931200000,1.1297],[1489017600000,0.9346],[1489104000000,1.2185],[1489363200000,1.3357],[1489449600000,1.0156],[1489536000000,0.6618],[1489622400000,1.0688],[1489708800000,0.671],[1489968000000,1.4419],[1490054400000,1.2171],[1490140800000,0.8657],[1490227200000,1.0444],[1490313600000,1.1946],[1490572800000,0.8623],[1490659200000,0.5852],[1490745600000,1.3567],[1490832000000,1.0662],[1490918400000,0.8143],[1491350400000,0.8273],[1491436800000,0.7966],[1491523200000,1.2573],[1491782400000,0.8807],[1491868800000,0.784],[1491955200000,0.9274],[1492041600000,0.7014],[1492128000000,0.9513],[1492387200000,1.1138],[1492473600000,1.1363],[1492560000000,0.8298],[1492646400000,1.0379],[1492732800000,1.021],[1492992000000,0.8117],[1493078400000,1.1831],[1493164800000,1.0119],[1493251200000,1.1076],[1493337600000,1.4154],[1493683200000,0.8266],[1493769600000,0.9763],[1493856000000,1.8614],[1493942400000,1.583],[1494201600000,1.3967],[1494288000000,1.0196],[1494374400000,0.9615],[1494460800000,1.3987],[1494547200000,1.5145],[1494806400000,0.9085],[1494892800000,0.7056],[1494979200000,1.8406],[1495065600000,0.8282],[1495152000000,1.3167],[1495411200000,0.9258],[1495497600000,0.9836],[1495584000000,0.8157],[1495670400000,0.786],[1495756800000,0.6671],[1496188800000,0.8659],[1496275200000,0.846],[1496361600000,0.8902],[1496620800000,0.8961],[1496707200000,1.1845],[1496793600000,0.9584],[1496880000000,0.7227],[1496966400000,0.8078],[1497225600000,0.8485],[1497312000000,0.9676],[1497398400000,1.1017],[1497484800000,1.0639],[1497571200000,1.1107],[1497830400000,0.9124],[1497916800000,0.7324],[1498003200000,0.7974],[1498089600000,0.9612],[1498176000000,0.7643],[1498435200000,1.0249],[1498521600000,0.7547],[1498608000000,0.7798],[1498694400000,0.9136],[1498780800000,0.7353],[1499040000000,1.1893],[1499126400000,0.7141],[1499212800000,1.2321],[1499299200000,1.4418],[1499385600000,0.7458],[1499644800000,1.4917],[1499731200000,0.7131],[1499817600000,0.8639],[1499904000000,0.9556],[1499990400000,0.9348],[1500249600000,0.835],[1500336000000,0.9356],[1500422400000,0.9555],[1500508800000,0.8914],[1500595200000,0.8217],[1500854400000,0.8341],[1500940800000,0.7144],[1501027200000,1.2649],[1501113600000,1.2898],[1501200000000,1.2604],[1501459200000,0.9294],[1501545600000,0.8626],[1501632000000,0.6872],[1501718400000,1.0536],[1501804800000,1.3725],[1502064000000,0.963],[1502150400000,1.1684],[1502236800000,0.783],[1502323200000,1.2821],[1502409600000,1.3003],[1502668800000,1.3178],[1502755200000,1.3122],[1502841600000,0.9097],[1502928000000,1.2412],[1503014400000,0.7714],[1503273600000,0.7169],[1503360000000,0.576],[1503446400000,1.2573],[1503532800000,1.1553],[1503619200000,1.1948],[1503878400000,0.6093],[1503964800000,0.7433],[1504051200000,1.0983],[1504137600000,0.8239],[1504224000000,1.4526],[1504483200000,1.0547],[1504569600000,1.2427],[1504656000000,0.8483],[1504742400000,1.4967],[1504828800000,1.2689],[1505088000000,1.1222],[1505174400000,0.9517],[1505260800000,0.9402],[1505347200000,0.9553],[1505433600000,0.8755],[1505692800000,0.8964],[1505779200000,0.9192],[1505865600000,1.0329],[1505952000000,1.527],[1506038400000,1.2087],[1506297600000,1.3035],[1506384000000,1.3261],[1506470400000,1.1377],[1506556800000,0.7854],[1506643200000,1.4263],[1507507200000,0.933],[1507593600000,0.7567],[1507680000000,1.0493],[1507766400000,0.7805],[1507852800000,0.937],[1508112000000,1.6127],[1508198400000,1.1122],[1508284800000,1.3704],[1508371200000,1.125],[1508457600000,0.9277],[1508716800000,1.2498],[1508803200000,0.7424],[1508889600000,0.7818],[1508976000000,0.7813],[1509062400000,0.8616],[1509321600000,0.7187],[1509408000000,1.1697],[1509494400000,1.0447],[1509580800000,1.1965],[1509667200000,1.2687],[1509926400000,1.1519],[1510012800000,1.4786],[1510099200000,0.8356],[1510185600000,0.8436],[1510272000000,0.6256],[1510531200000,1.3196],[1510617600000,1.0519],[1510704000000,1.3673],[1510790400000,1.1904],[1510876800000,1.1327],[1511136000000,1.1788],[1511222400000,1.1236],[1511308800000,0.7853],[1511395200000,0.8952],[1511481600000,1.2047],[1511740800000,1.2474],[1511827200000,0.6942],[1511913600000,0.7895],[1512000000000,0.843],[1512086400000,0.5844],[1512345600000,1.265],[1512432000000,0.7677],[1512518400000,1.0513],[1512604800000,1.3261],[1512691200000,1.0503],[1512950400000,1.2314],[1513036800000,0.7989],[1513123200000,1.0262],[1513209600000,1.2569],[1513296000000,1.2416],[1513555200000,1.4153],[1513641600000,0.8616],[1513728000000,0.6488],[1513814400000,1.2855],[1513900800000,1.1053],[1514160000000,0.7882],[1514246400000,0.9414],[1514332800000,1.3617],[1514419200000,0.7268],[1514505600000,0.7121],[1514851200000,0.7174],[1514937600000,0.8021],[1515024000000,0.8372],[1515110400000,0.8122],[1515369600000,0.5988],[1515456000000,0.7069],[1515542400000,0.8544],[1515628800000,1.3506],[1515715200000,1.3384],[1515974400000,0.8182],[1516060800000,1.0877],[1516147200000,1.1439],[1516233600000,0.9019],[1516320000000,0.6247],[1516579200000,0.677],[1516665600000,0.8853],[1516752000000,0.8358],[1516838400000,0.9877],[1516924800000,0.9155],[1517184000000,0.9195],[1517270400000,0.8678],[1517356800000,1.0475],[1517443200000,1.3105],[1517529600000,1.0114],[1517788800000,1.7057],[1517875200000,0.8293],[1517961600000,1.0668],[1518048000000,0.9871],[1518134400000,0.9974],[1518393600000,1.2341],[1518480000000,1.0711],[1518566400000,0.8716],[1519257600000,1.1107],[1519344000000,0.7946],[1519603200000,0.8792],[1519689600000,0.9781],[1519776000000,0.9232],[1519862400000,1.2234],[1519948800000,0.8118],[1520208000000,1.1311],[1520294400000,1.0694],[1520380800000,0.9031],[1520467200000,0.6758],[1520553600000,1.4675],[1520812800000,0.8248],[1520899200000,0.9301],[1520985600000,0.8249],[1521072000000,1.1985],[1521158400000,1.2659],[1521417600000,1.1009],[1521504000000,1.3548],[1521590400000,1.6585],[1521676800000,0.7213],[1521763200000,1.0143],[1522022400000,1.1401],[1522108800000,1.2224],[1522195200000,0.9425],[1522281600000,1.5017],[1522368000000,0.8346],[1522627200000,0.7755],[1522713600000,1.4574],[1522800000000,1.5044],[1523232000000,1.1271],[1523318400000,1.6107],[1523404800000,0.7742],[1523491200000,0.7482],[1523577600000,1.6212],[1523836800000,1.3976],[1523923200000,1.2119],[1524009600000,1.3007],[1524096000000,1.2102],[1524182400000,0.9417],[1524441600000,1.3681],[1524528000000,1.3983],[1524614400000,0.7291],[1524700800000,1.2598],[1524787200000,1.4197],[1525219200000,1.1717],[1525305600000,0.8775],[1525392000000,1.4749],[1525651200000,0.8305],[1525737600000,0.8433],[1525824000000,0.6366],[1525910400000,0.6376],[1525996800000,0.7934],[1526256000000,0.9785],[1526342400000,1.0462],[1526428800000,1.5356],[1526515200000,1.232],[1526601600000,0.9892],[1526860800000,0.7896],[1526947200000,0.676],[1527033600000,1.8539],[1527120000000,1.357],[1527206400000,1.264],[1527465600000,1.5358],[1527552000000,1.1753],[1527638400000,1.0104],[1527724800000,1.1617],[1527811200000,1.0921],[1528070400000,0.7091],[1528156800000,0.5758],[1528243200000,1.2513],[1528329600000,1.2756],[1528416000000,0.8097],[1528675200000,1.6193],[1528761600000,1.2892],[1528848000000,0.692],[1528934400000,1.0529],[1529020800000,1.3193],[1529366400000,1.0286],[1529452800000,1.2698],[1529539200000,1.6007],[1529625600000,0.9554],[1529884800000,2.258],[1529971200000,0.7693],[1530057600000,2.167],[1530144000000,1.0152],[1530230400000,1.4496],[1530489600000,1.5061],[1530576000000,1.0454],[1530662400000,1.4771],[1530748800000,0.6695],[1530835200000,1.2638],[1531094400000,1.4185],[1531180800000,0.928],[1531267200000,0.9382],[1531353600000,1.7992],[1531440000000,1.0681],[1531699200000,0.938],[1531785600000,1.4165],[1531872000000,1.1598],[1531958400000,0.6314],[1532044800000,1.0026],[1532304000000,1.3392],[1532390400000,0.8249],[1532476800000,0.7907],[1532563200000,0.6764],[1532649600000,0.9445],[1532908800000,0.8899],[1532995200000,1.1064],[1533081600000,0.9466],[1533168000000,0.9552],[1533254400000,1.7454],[1533513600000,0.9763],[1533600000000,0.9123],[1533686400000,0.985],[1533772800000,0.8267],[1533859200000,1.3819],[1534118400000,1.035],[1534204800000,1.208],[1534291200000,0.8776],[1534377600000,1.0922],[1534464000000,1.8007],[1534723200000,0.9703],[1534809600000,1.7641],[1534896000000,1.0103],[1534982400000,1.1044],[1535068800000,1.6955],[1535328000000,1.7971],[1535414400000,0.8054],[1535500800000,0.8467],[1535587200000,1.0762],[1535673600000,1.0339],[1535932800000,1.2883],[1536019200000,0.9673],[1536105600000,1.0433],[1536192000000,0.9962],[1536278400000,1.4958],[1536537600000,0.9069],[1536624000000,1.212],[1536710400000,1.1539],[1536796800000,1.4511],[1536883200000,0.8719],[1537142400000,0.7052],[1537228800000,1.0838],[1537315200000,1.1962],[1537401600000,0.7671],[1537488000000,0.7817],[1537833600000,0.5895],[1537920000000,0.8488],[1538006400000,0.8095],[1538092800000,1.1896],[1538956800000,0.9575],[1539043200000,1.0764],[1539129600000,1.0958],[1539216000000,1.039],[1539302400000,1.2126],[1539561600000,1.4713],[1539648000000,1.0602],[1539734400000,1.4884],[1539820800000,1.7745],[1539907200000,1.6962],[1540166400000,1.2776],[1540252800000,0.7267],[1540339200000,0.7911],[1540425600000,1.391],[1540512000000,1.094],[1540771200000,0.4742],[1540857600000,0.9309],[1540944000000,1.6767],[1541030400000,0.6539],[1541116800000,0.8658],[1541376000000,0.8417],[1541462400000,0.9866],[1541548800000,0.9234],[1541635200000,0.6872],[1541721600000,1.2993],[1541980800000,1.2292],[1542067200000,1.0097],[1542153600000,0.8385],[1542240000000,0.8536],[1542326400000,1.5774],[1542585600000,0.9008],[1542672000000,0.6858],[1542758400000,1.1917],[1542844800000,1.3835],[1542931200000,0.7641],[1543190400000,1.239],[1543276800000,1.154],[1543363200000,0.9766],[1543449600000,1.6597],[1543536000000,0.8523],[1543795200000,1.6371],[1543881600000,0.74],[1543968000000,0.6635],[1544054400000,1.1476],[1544140800000,1.1739],[1544400000000,1.1285],[1544486400000,1.0651],[1544572800000,1.3692],[1544659200000,0.6984],[1544745600000,0.8021],[1545004800000,0.8721],[1545091200000,1.4749],[1545177600000,1.5678],[1545264000000,1.2416],[1545350400000,1.3487],[1545609600000,1.743],[1545696000000,1.4803],[1545782400000,1.267],[1545868800000,0.9485],[1545955200000,0.7538],[1546387200000,1.7313],[1546473600000,1.0463],[1546560000000,1.2788],[1546819200000,0.9423],[1546905600000,1.0158],[1546992000000,0.9005],[1547078400000,0.7519],[1547164800000,1.2603],[1547424000000,1.0561],[1547510400000,0.6327],[1547596800000,1.255],[1547683200000,0.8109],[1547769600000,0.9239],[1548028800000,0.8087],[1548115200000,0.8061],[1548201600000,1.4323],[1548288000000,1.2608],[1548374400000,1.3493],[1548633600000,0.7544],[1548720000000,0.9457],[1548806400000,1.1946],[1548892800000,0.9195],[1548979200000,1.1248],[1549843200000,0.8702],[1549929600000,1.1999],[1550016000000,0.9794],[1550102400000,0.6857],[1550188800000,0.7306],[1550448000000,1.1637],[1550534400000,0.9193],[1550620800000,0.6904],[1550707200000,0.9985],[1550793600000,1.2522],[1551052800000,1.4526],[1551139200000,0.7941],[1551225600000,0.7748],[1551312000000,0.8875],[1551398400000,1.1127],[1551657600000,1.2424],[1551744000000,0.4827],[1551830400000,1.3456],[1551916800000,0.7088],[1552003200000,0.9591],[1552262400000,1.1371],[1552348800000,1.0286],[1552435200000,0.7188],[1552521600000,1.1388],[1552608000000,0.8669],[1552867200000,1.008],[1552953600000,0.8007],[1553040000000,0.7524],[1553126400000,1.3077],[1553212800000,0.7297],[1553472000000,1.1208],[1553558400000,1.0088],[1553644800000,1.1999],[1553731200000,1.2879],[1553817600000,1.1121],[1554076800000,0.949],[1554163200000,0.6639],[1554249600000,0.7564],[1554336000000,0.7395],[1554681600000,2.2159],[1554768000000,0.6104],[1554854400000,1.0036],[1554940800000,1.3664],[1555027200000,0.8553],[1555286400000,1.2439],[1555372800000,0.9193],[1555459200000,1.3928],[1555545600000,0.7611],[1555632000000,1.074],[1555891200000,1.1848],[1555977600000,1.1631],[1556064000000,1.3021],[1556150400000,1.1508],[1556236800000,1.499],[1556496000000,1.7191],[1556582400000,1.0821],[1557100800000,0.8824],[1557187200000,1.1483],[1557273600000,1.213],[1557360000000,1.2904],[1557446400000,0.9191],[1557705600000,1.0764],[1557792000000,0.9096],[1557878400000,1.377],[1557964800000,0.7359],[1558051200000,0.6819],[1558310400000,1.3644],[1558396800000,1.8825],[1558483200000,0.8067],[1558569600000,0.9316],[1558656000000,1.6248],[1558915200000,1.1377],[1559001600000,0.953],[1559088000000,0.4855],[1559174400000,1.5303],[1559260800000,1.2699],[1559520000000,1.0369],[1559606400000,1.3755],[1559692800000,1.9425],[1559779200000,0.789],[1560124800000,1.4996],[1560211200000,1.0803],[1560297600000,0.6144],[1560384000000,0.7335],[1560470400000,1.4606],[1560729600000,0.8453],[1560816000000,1.2747],[1560902400000,1.0304],[1560988800000,0.682],[1561075200000,0.9918],[1561334400000,0.5674],[1561420800000,1.1699],[1561507200000,1.2123],[1561593600000,1.2491],[1561680000000,0.8191],[1561939200000,1.1062],[1562025600000,0.7384],[1562112000000,0.7999],[1562198400000,1.0499],[1562284800000,0.7729],[1562544000000,1.2674],[1562630400000,1.2806],[1562716800000,1.4701],[1562803200000,1.4822],[1562889600000,1.2515],[1563148800000,1.1958],[1563235200000,1.429],[1563321600000,0.7506],[1563408000000,0.5802],[1563494400000,1.3625],[1563753600000,0.9097],[1563840000000,1.6813],[1563926400000,1.1014],[1564012800000,0.7843],[1564099200000,1.5442],[1564358400000,1.1045],[1564444800000,0.9328],[1564531200000,0.6708],[1564617600000,1.3405],[1564704000000,1.3558],[1564963200000,1.3793],[1565049600000,1.2581],[1565136000000,1.6098],[1565222400000,0.975],[1565308800000,1.0464],[1565568000000,1.8008],[1565654400000,1.4268],[1565740800000,1.1698],[1565827200000,0.6225],[1565913600000,1.8391],[1566172800000,0.6238],[1566259200000,0.72],[1566345600000,0.6836],[1566432000000,1.4269],[1566518400000,1.3335],[1566777600000,0.8093],[1566864000000,1.3014],[1566950400000,0.57],[1567036800000,0.5498],[1567123200000,1.2716],[1567382400000,1.5811],[1567468800000,1.2458],[1567555200000,0.8297],[1567641600000,0.647],[1567728000000,0.5686],[1567987200000,1.3068],[1568073600000,0.7875],[1568160000000,1.1089],[1568246400000,0.644],[1568592000000,0.6077],[1568678400000,0.7137],[1568764800000,1.261],[1568851200000,1.4472],[1568937600000,1.4223],[1569196800000,0.7431],[1569283200000,1.4492],[1569369600000,1.5186],[1569456000000,1.1807],[1569542400000,1.2961],[1569801600000,1.6494],[1570492800000,0.9097],[1570579200000,1.1457],[1570665600000,0.9476],[1570752000000,0.6225],[1571011200000,0.8165],[1571097600000,0.7603],[1571184000000,1.2811],[1571270400000,1.0698],[1571356800000,1.3768],[1571616000000,1.4775],[1571702400000,1.5015],[1571788800000,0.7435],[1571875200000,0.6366],[1571961600000,1.4941],[1572220800000,0.6215],[1572307200000,0.8297],[1572393600000,1.3078],[1572480000000,1.3058],[1572566400000,1.1386],[1572825600000,1.2089],[1572912000000,0.7476],[1572998400000,1.1578],[1573084800000,1.0606],[1573171200000,1.4446],[1573430400000,0.7451],[1573516800000,1.6562],[1573603200000,1.7734],[1573689600000,1.4294],[1573776000000,1.8163],[1574035200000,1.8502],[1574121600000,1.6625],[1574208000000,0.5792],[1574294400000,0.6812],[1574380800000,1.7699],[1574640000000,0.6551],[1574726400000,1.0174],[1574812800000,0.7592],[1574899200000,1.428],[1574985600000,1.8202],[1575244800000,1.6924],[1575331200000,0.6018],[1575417600000,1.4003],[1575504000000,0.7635],[1575590400000,0.8728],[1575849600000,1.1083],[1575936000000,0.594],[1576022400000,1.2261],[1576108800000,1.1984],[1576195200000,0.9676],[1576454400000,0.9719],[1576540800000,0.8237],[1576627200000,0.9545],[1576713600000,0.3685],[1576800000000,2.6651],[1577059200000,0.3594],[1577145600000,1.1747],[1577232000000,1.1484],[1577318400000,2.0277],[1577404800000,0.361],[1577664000000,0.6683],[1577750400000,0.9561],[1577923200000,0.7662],[1578009600000,0.5318],[1578268800000,1.766],[1578355200000,0.7631],[1578441600000,0.6007],[1578528000000,1.3419],[1578614400000,1.1275],[1578873600000,1.3272],[1578960000000,1.3382],[1579046400000,0.8371],[1579132800000,1.4214],[1579219200000,1.3269],[1579478400000,1.3767],[1579564800000,1.3938],[1579651200000,1.5652],[1579737600000,1.9264],[1580688000000,0.9534],[1580774400000,1.4109],[1580860800000,1.8351],[1580947200000,0.9612],[1581033600000,0.5237],[1581292800000,0.8477],[1581379200000,0.8775],[1581465600000,1.0641],[1581552000000,1.7537],[1581638400000,1.3249],[1581897600000,0.75],[1581984000000,0.4085],[1582070400000,0.8064],[1582156800000,1.0388],[1582243200000,0.7229],[1582502400000,0.779],[1582588800000,1.8834],[1582675200000,1.5472],[1582761600000,1.6445],[1582848000000,0.425],[1583107200000,1.1938],[1583193600000,0.823],[1583280000000,0.741],[1583452800000,null],[1583712000000,0.7969],[1583798400000,1.0524],[1583884800000,1.8294],[1583971200000,0.8561],[1584057600000,1.3859],[1584316800000,1.7161],[1584403200000,0.6277],[1584489600000,1.3909],[1584576000000,1.1302],[1584662400000,1.4248],[1584921600000,0.9356],[1585008000000,0.9714],[1585094400000,0.7265],[1585180800000,0.6956],[1585267200000,1.1035],[1585526400000,0.7893],[1585612800000,1.104],[1585699200000,0.6837],[1585785600000,1.4593],[1585872000000,1.4236],[1586217600000,0.8064],[1586304000000,0.434],[1586390400000,1.1434],[1586476800000,0.6614],[1586736000000,1.0302],[1586822400000,0.9399],[1586908800000,0.8777],[1586995200000,1.744],[1587081600000,1.3881],[1587340800000,0.866],[1587427200000,1.1716],[1587513600000,1.6329],[1587600000000,1.4766],[1587686400000,0.7577],[1587945600000,1.1659],[1588032000000,3.0027],[1588118400000,1.1415],[1588204800000,1.0204],[1588723200000,0.9085],[1588809600000,1.3678],[1588896000000,0.8638],[1589155200000,0.7645],[1589241600000,0.581],[1589328000000,1.193],[1589414400000,1.6157],[1589500800000,1.9667],[1589760000000,1.7265],[1589846400000,1.2093],[1589932800000,0.7382],[1590019200000,1.9668],[1590105600000,0.8856],[1590364800000,1.1244],[1590451200000,1.284],[1590537600000,0.6511],[1590624000000,1.0597],[1590710400000,0.6561],[1590969600000,1.4657],[1591056000000,1.0295],[1591142400000,0.6804],[1591228800000,0.4702],[1591315200000,1.5355],[1591574400000,1.7937],[1591660800000,0.7713],[1591747200000,0.6667],[1591833600000,1.4275],[1591920000000,2.1046],[1592179200000,1.5572],[1592265600000,0.8291],[1592352000000,0.7719],[1592438400000,0.7527],[1592524800000,0.598],[1592784000000,0.813],[1592870400000,1.674],[1592956800000,1.5137],[1593388800000,1.3178],[1593475200000,1.4271],[1593561600000,2.2025],[1593648000000,0.7111],[1593734400000,0.9129],[1593993600000,0.7703],[1594080000000,0.4935],[1594166400000,0.7547],[1594252800000,1.6607],[1594339200000,0.4447],[1594598400000,1.29],[1594684800000,1.1244],[1594771200000,0.524],[1594857600000,1.0421],[1594944000000,1.1664],[1595203200000,1.3263],[1595289600000,0.8425],[1595376000000,0.7573],[1595462400000,1.8025],[1595548800000,1.3205],[1595808000000,1.1339],[1595894400000,1.5794],[1595980800000,0.5467],[1596067200000,1.9502],[1596153600000,0.6803],[1596412800000,1.8963],[1596499200000,0.7207],[1596585600000,0.833],[1596672000000,1.3419],[1596758400000,0.9487],[1597017600000,1.2655],[1597104000000,0.6203],[1597190400000,0.6357],[1597276800000,1.1138],[1597363200000,0.5277],[1597622400000,1.4077],[1597708800000,0.8364],[1597795200000,0.9947],[1597881600000,0.89],[1597968000000,0.8896],[1598227200000,1.8786],[1598313600000,1.0876],[1598400000000,1.616],[1598486400000,1.209],[1598572800000,1.0815],[1598832000000,0.7783],[1598918400000,0.9062],[1599004800000,1.2299],[1599091200000,1.3186],[1599177600000,0.8838],[1599436800000,1.6448],[1599523200000,0.7931],[1599609600000,0.8624],[1599696000000,0.9299],[1599782400000,0.7827],[1600041600000,1.378],[1600128000000,1.5614],[1600214400000,1.7602],[1600300800000,1.0007],[1600387200000,0.6481],[1600646400000,0.8097],[1600732800000,0.7362],[1600819200000,1.2212],[1600905600000,1.4193],[1600992000000,1.1152],[1601251200000,1.5168],[1601337600000,0.9315],[1601424000000,1.4241],[1602201600000,1.8687],[1602460800000,0.8743],[1602547200000,0.8312],[1602633600000,1.2566],[1602720000000,1.4469],[1602806400000,1.055],[1603065600000,0.681],[1603152000000,0.5564],[1603238400000,1.2663],[1603324800000,1.8614],[1603411200000,1.253],[1603670400000,0.5726],[1603756800000,0.9934],[1603843200000,1.7551],[1603929600000,1.41],[1604016000000,1.5034],[1604275200000,1.0137],[1604361600000,1.0493],[1604448000000,1.0342]]}],\"xAxis\":{\"title\":{\"text\":\"date\"},\"type\":\"datetime\"},\"plotOptions\":{\"series\":{\"compare\":\"percent\"}}}/bigcharts-data-end</pre></div><div class=\"type_title_left\"><p>因子拥挤度分析<i class=\"fa fa-question-circle-o\" title=\"衡量因子拥挤度。使用换手率衡量，换手率越高，拥挤度越高。\"></i></p></div><div id=\"bigchart-cf379919d606448e9782e83d241bf781\" class=\"bigchart\"></div><div class=\"bigchart-data\"><pre style=\"display:none\">bigcharts-data-start/{\"chart\":{\"height\":500,\"renderTo\":\"bigchart-cf379919d606448e9782e83d241bf781\"},\"legend\":{\"enabled\":true},\"title\":{\"text\":\"\\u6362\\u624b\\u7387\\u5206\\u6790\"},\"stock\":true,\"series\":[{\"name\":\"1\\u5206\\u4f4d\\u6570\",\"yAxis\":0,\"data\":[[1476144000000,null],[1476230400000,2.6309],[1476316800000,3.7206],[1476403200000,1.6375],[1476662400000,3.7041],[1476748800000,2.2982],[1476835200000,4.0625],[1476921600000,2.9994],[1477008000000,4.8128],[1477267200000,3.5754],[1477353600000,1.8429],[1477440000000,2.4712],[1477526400000,2.3313],[1477612800000,2.997],[1477872000000,2.3881],[1477958400000,3.4667],[1478044800000,3.7027],[1478131200000,4.0701],[1478217600000,4.7682],[1478476800000,1.8465],[1478563200000,3.7449],[1478649600000,2.5085],[1478736000000,4.9249],[1478822400000,3.7656],[1479081600000,3.12],[1479168000000,2.6799],[1479254400000,1.7264],[1479340800000,2.5959],[1479427200000,1.8346],[1479686400000,2.9774],[1479772800000,4.0893],[1479859200000,3.404],[1479945600000,1.6895],[1480032000000,3.0536],[1480291200000,2.4728],[1480377600000,2.7562],[1480464000000,2.1304],[1480550400000,2.6714],[1480636800000,3.2084],[1480896000000,2.8603],[1480982400000,2.4987],[1481068800000,2.5663],[1481155200000,2.1876],[1481241600000,2.1961],[1481500800000,2.5465],[1481587200000,2.1205],[1481673600000,3.3678],[1481760000000,2.4075],[1481846400000,3.3174],[1482105600000,2.4439],[1482192000000,1.7251],[1482278400000,2.6282],[1482364800000,2.5644],[1482451200000,1.5019],[1482710400000,1.7117],[1482796800000,3.1829],[1482883200000,2.3455],[1482969600000,2.6466],[1483056000000,3.086],[1483401600000,1.4545],[1483488000000,2.4671],[1483574400000,3.0732],[1483660800000,3.0452],[1483920000000,1.9181],[1484006400000,1.7675],[1484092800000,1.6512],[1484179200000,2.74],[1484265600000,3.3809],[1484524800000,3.3827],[1484611200000,1.5155],[1484697600000,1.5505],[1484784000000,3.2588],[1484870400000,1.8139],[1485129600000,2.1827],[1485216000000,2.5744],[1485302400000,2.1986],[1485388800000,1.2633],[1486080000000,1.9477],[1486339200000,1.7038],[1486425600000,2.0257],[1486512000000,3.6771],[1486598400000,3.9979],[1486684800000,3.6095],[1486944000000,2.1438],[1487030400000,2.2124],[1487116800000,3.4828],[1487203200000,2.6395],[1487289600000,2.9421],[1487548800000,1.8591],[1487635200000,2.2667],[1487721600000,3.8174],[1487808000000,3.3812],[1487894400000,3.1531],[1488153600000,3.016],[1488240000000,2.6179],[1488326400000,3.7472],[1488412800000,2.9635],[1488499200000,2.2511],[1488758400000,4.777],[1488844800000,3.7517],[1488931200000,2.7712],[1489017600000,2.8399],[1489104000000,4.2226],[1489363200000,4.6588],[1489449600000,3.1232],[1489536000000,3.5087],[1489622400000,3.8046],[1489708800000,3.3116],[1489968000000,3.5932],[1490054400000,3.6824],[1490140800000,3.1342],[1490227200000,5.3712],[1490313600000,4.9173],[1490572800000,2.2829],[1490659200000,1.6774],[1490745600000,4.5736],[1490832000000,3.0823],[1490918400000,2.4397],[1491350400000,2.4097],[1491436800000,2.8243],[1491523200000,2.9208],[1491782400000,2.0447],[1491868800000,2.6072],[1491955200000,2.0931],[1492041600000,1.186],[1492128000000,1.3149],[1492387200000,2.4961],[1492473600000,2.2829],[1492560000000,2.5349],[1492646400000,3.4206],[1492732800000,2.5829],[1492992000000,1.3736],[1493078400000,2.8532],[1493164800000,2.6542],[1493251200000,3.4988],[1493337600000,2.6299],[1493683200000,3.6307],[1493769600000,2.3698],[1493856000000,3.1673],[1493942400000,3.4028],[1494201600000,2.9678],[1494288000000,1.6581],[1494374400000,1.665],[1494460800000,2.3131],[1494547200000,4.1528],[1494806400000,2.057],[1494892800000,1.8306],[1494979200000,4.6793],[1495065600000,2.4245],[1495152000000,2.906],[1495411200000,0.8347],[1495497600000,2.0295],[1495584000000,1.921],[1495670400000,1.931],[1495756800000,2.9639],[1496188800000,3.7706],[1496275200000,1.8903],[1496361600000,1.8961],[1496620800000,2.2498],[1496707200000,2.0658],[1496793600000,1.477],[1496880000000,2.8745],[1496966400000,3.7237],[1497225600000,2.4018],[1497312000000,2.616],[1497398400000,3.1981],[1497484800000,3.6025],[1497571200000,2.8152],[1497830400000,0.9712],[1497916800000,1.3036],[1498003200000,2.307],[1498089600000,2.3562],[1498176000000,2.2965],[1498435200000,2.314],[1498521600000,1.7646],[1498608000000,2.9577],[1498694400000,1.6459],[1498780800000,1.5027],[1499040000000,1.9336],[1499126400000,2.0915],[1499212800000,3.0101],[1499299200000,3.3256],[1499385600000,3.3074],[1499644800000,4.141],[1499731200000,1.2849],[1499817600000,1.8251],[1499904000000,3.2047],[1499990400000,2.225],[1500249600000,1.7845],[1500336000000,2.5621],[1500422400000,2.4512],[1500508800000,2.7631],[1500595200000,2.7645],[1500854400000,1.4537],[1500940800000,2.01],[1501027200000,2.0647],[1501113600000,3.7325],[1501200000000,2.2648],[1501459200000,2.3449],[1501545600000,1.8346],[1501632000000,2.4076],[1501718400000,2.8252],[1501804800000,4.1686],[1502064000000,1.5498],[1502150400000,1.1233],[1502236800000,2.3563],[1502323200000,1.5074],[1502409600000,3.3889],[1502668800000,2.544],[1502755200000,2.2158],[1502841600000,2.8312],[1502928000000,2.5799],[1503014400000,2.2696],[1503273600000,0.9961],[1503360000000,1.3833],[1503446400000,3.137],[1503532800000,2.6246],[1503619200000,2.9843],[1503878400000,2.8201],[1503964800000,3.7583],[1504051200000,2.9006],[1504137600000,1.9192],[1504224000000,4.2214],[1504483200000,3.3758],[1504569600000,1.9532],[1504656000000,1.2293],[1504742400000,4.1841],[1504828800000,3.3396],[1505088000000,2.4414],[1505174400000,3.2401],[1505260800000,2.4408],[1505347200000,2.6119],[1505433600000,2.5649],[1505692800000,2.0398],[1505779200000,1.4617],[1505865600000,2.8952],[1505952000000,4.6858],[1506038400000,2.9451],[1506297600000,4.251],[1506384000000,3.0851],[1506470400000,2.8177],[1506556800000,1.7708],[1506643200000,2.9637],[1507507200000,1.8294],[1507593600000,4.2216],[1507680000000,3.0265],[1507766400000,2.2125],[1507852800000,1.8935],[1508112000000,4.4493],[1508198400000,2.2958],[1508284800000,3.9598],[1508371200000,3.106],[1508457600000,2.0185],[1508716800000,2.8196],[1508803200000,3.4883],[1508889600000,2.6572],[1508976000000,2.5717],[1509062400000,2.639],[1509321600000,1.5856],[1509408000000,3.1191],[1509494400000,2.9428],[1509580800000,2.6402],[1509667200000,3.6845],[1509926400000,3.0343],[1510012800000,4.4069],[1510099200000,3.4976],[1510185600000,2.4719],[1510272000000,1.2814],[1510531200000,3.1963],[1510617600000,3.9376],[1510704000000,3.978],[1510790400000,2.4375],[1510876800000,2.2372],[1511136000000,2.5167],[1511222400000,2.4879],[1511308800000,3.0094],[1511395200000,2.1824],[1511481600000,2.1013],[1511740800000,2.0432],[1511827200000,1.046],[1511913600000,1.3195],[1512000000000,2.2271],[1512086400000,1.1521],[1512345600000,1.914],[1512432000000,1.5232],[1512518400000,1.9274],[1512604800000,1.8368],[1512691200000,2.3555],[1512950400000,1.8543],[1513036800000,2.5084],[1513123200000,1.7517],[1513209600000,1.8599],[1513296000000,2.0758],[1513555200000,2.3482],[1513641600000,0.7901],[1513728000000,1.2544],[1513814400000,2.4649],[1513900800000,2.2973],[1514160000000,1.4406],[1514246400000,1.9314],[1514332800000,2.7779],[1514419200000,2.2161],[1514505600000,1.8597],[1514851200000,1.1626],[1514937600000,2.7203],[1515024000000,2.8321],[1515110400000,1.3275],[1515369600000,1.1576],[1515456000000,1.718],[1515542400000,2.1176],[1515628800000,3.3754],[1515715200000,3.3248],[1515974400000,1.889],[1516060800000,3.3797],[1516147200000,3.4436],[1516233600000,2.4513],[1516320000000,1.1093],[1516579200000,1.5869],[1516665600000,1.2586],[1516752000000,2.8808],[1516838400000,2.9339],[1516924800000,2.4046],[1517184000000,1.6552],[1517270400000,1.8249],[1517356800000,2.9769],[1517443200000,3.8219],[1517529600000,2.4538],[1517788800000,2.2068],[1517875200000,1.6986],[1517961600000,2.544],[1518048000000,2.0799],[1518134400000,1.6547],[1518393600000,2.2668],[1518480000000,1.6947],[1518566400000,1.8561],[1519257600000,1.1411],[1519344000000,2.6637],[1519603200000,2.0999],[1519689600000,3.5454],[1519776000000,2.1494],[1519862400000,2.1566],[1519948800000,2.1071],[1520208000000,1.7714],[1520294400000,2.4859],[1520380800000,1.8428],[1520467200000,1.3725],[1520553600000,3.9469],[1520812800000,3.5136],[1520899200000,3.6147],[1520985600000,1.5923],[1521072000000,3.3802],[1521158400000,3.6469],[1521417600000,1.311],[1521504000000,3.0472],[1521590400000,4.6106],[1521676800000,2.5796],[1521763200000,2.6777],[1522022400000,2.5878],[1522108800000,3.8129],[1522195200000,2.6795],[1522281600000,3.3754],[1522368000000,2.5075],[1522627200000,4.5097],[1522713600000,2.5938],[1522800000000,5.6762],[1523232000000,2.2431],[1523318400000,6.445],[1523404800000,2.7967],[1523491200000,2.6518],[1523577600000,3.2322],[1523836800000,2.1735],[1523923200000,3.2982],[1524009600000,4.3217],[1524096000000,4.2483],[1524182400000,3.6125],[1524441600000,2.1496],[1524528000000,2.579],[1524614400000,2.072],[1524700800000,2.4626],[1524787200000,2.3497],[1525219200000,2.3239],[1525305600000,1.6665],[1525392000000,3.1544],[1525651200000,3.615],[1525737600000,2.6894],[1525824000000,3.0858],[1525910400000,1.998],[1525996800000,1.7474],[1526256000000,1.1902],[1526342400000,1.7867],[1526428800000,3.2857],[1526515200000,2.0612],[1526601600000,2.8625],[1526860800000,3.2669],[1526947200000,3.4997],[1527033600000,3.9375],[1527120000000,3.2722],[1527206400000,3.6779],[1527465600000,4.1994],[1527552000000,3.7179],[1527638400000,1.6267],[1527724800000,2.8177],[1527811200000,1.8042],[1528070400000,1.3637],[1528156800000,0.833],[1528243200000,2.5094],[1528329600000,2.6597],[1528416000000,1.3963],[1528675200000,3.8161],[1528761600000,4.6057],[1528848000000,1.299],[1528934400000,1.6631],[1529020800000,3.1148],[1529366400000,2.8032],[1529452800000,2.4562],[1529539200000,3.6163],[1529625600000,2.0304],[1529884800000,3.3326],[1529971200000,2.3504],[1530057600000,4.1071],[1530144000000,2.4883],[1530230400000,4.8387],[1530489600000,3.1195],[1530576000000,3.6742],[1530662400000,4.3151],[1530748800000,0.94],[1530835200000,3.0257],[1531094400000,3.8292],[1531180800000,4.1049],[1531267200000,2.9447],[1531353600000,4.7163],[1531440000000,2.6666],[1531699200000,3.582],[1531785600000,1.527],[1531872000000,1.9692],[1531958400000,1.3349],[1532044800000,2.0028],[1532304000000,2.2964],[1532390400000,3.0681],[1532476800000,3.1838],[1532563200000,1.9032],[1532649600000,1.1701],[1532908800000,1.114],[1532995200000,1.8487],[1533081600000,1.5809],[1533168000000,2.6896],[1533254400000,3.0596],[1533513600000,1.4468],[1533600000000,1.5448],[1533686400000,2.0191],[1533772800000,2.527],[1533859200000,2.1847],[1534118400000,2.5765],[1534204800000,2.9068],[1534291200000,1.629],[1534377600000,1.9866],[1534464000000,3.3746],[1534723200000,1.2058],[1534809600000,2.8672],[1534896000000,2.135],[1534982400000,1.2375],[1535068800000,2.1873],[1535328000000,1.8827],[1535414400000,2.4587],[1535500800000,2.3868],[1535587200000,1.4984],[1535673600000,1.7895],[1535932800000,2.6221],[1536019200000,1.6884],[1536105600000,1.4819],[1536192000000,1.4606],[1536278400000,2.8245],[1536537600000,1.4608],[1536624000000,2.0813],[1536710400000,2.0499],[1536796800000,1.557],[1536883200000,1.6736],[1537142400000,0.6382],[1537228800000,1.5662],[1537315200000,2.3008],[1537401600000,1.9722],[1537488000000,1.2832],[1537833600000,0.7],[1537920000000,1.4523],[1538006400000,1.7354],[1538092800000,1.8674],[1538956800000,1.2609],[1539043200000,1.9978],[1539129600000,2.2389],[1539216000000,2.3319],[1539302400000,2.9691],[1539561600000,2.1825],[1539648000000,1.4186],[1539734400000,3.2531],[1539820800000,2.4129],[1539907200000,2.4198],[1540166400000,3.8439],[1540252800000,1.8807],[1540339200000,1.7848],[1540425600000,2.378],[1540512000000,2.2383],[1540771200000,2.0586],[1540857600000,1.709],[1540944000000,3.2606],[1541030400000,2.5411],[1541116800000,3.2767],[1541376000000,3.7943],[1541462400000,2.0303],[1541548800000,1.6118],[1541635200000,1.423],[1541721600000,1.5942],[1541980800000,3.0084],[1542067200000,3.1981],[1542153600000,2.8387],[1542240000000,3.9919],[1542326400000,3.1029],[1542585600000,4.3081],[1542672000000,1.4423],[1542758400000,2.9703],[1542844800000,3.1055],[1542931200000,2.9956],[1543190400000,2.9772],[1543276800000,2.0693],[1543363200000,1.3009],[1543449600000,2.7721],[1543536000000,2.0372],[1543795200000,3.2746],[1543881600000,2.0774],[1543968000000,1.4003],[1544054400000,1.8952],[1544140800000,1.4224],[1544400000000,1.6504],[1544486400000,1.8213],[1544572800000,2.1193],[1544659200000,1.5253],[1544745600000,1.9827],[1545004800000,1.4498],[1545091200000,2.7337],[1545177600000,2.4861],[1545264000000,2.262],[1545350400000,2.7985],[1545609600000,2.5836],[1545696000000,2.101],[1545782400000,3.1463],[1545868800000,1.3226],[1545955200000,0.8586],[1546387200000,2.0403],[1546473600000,1.1841],[1546560000000,2.3763],[1546819200000,2.0494],[1546905600000,2.1367],[1546992000000,1.6839],[1547078400000,2.3005],[1547164800000,2.2944],[1547424000000,1.5407],[1547510400000,1.0404],[1547596800000,1.7249],[1547683200000,1.6174],[1547769600000,1.8977],[1548028800000,1.0002],[1548115200000,1.547],[1548201600000,2.4007],[1548288000000,3.4153],[1548374400000,2.1858],[1548633600000,1.103],[1548720000000,1.4991],[1548806400000,2.2948],[1548892800000,1.3881],[1548979200000,1.8511],[1549843200000,1.4119],[1549929600000,2.2648],[1550016000000,2.7387],[1550102400000,3.0461],[1550188800000,2.1423],[1550448000000,3.1202],[1550534400000,3.2855],[1550620800000,3.4548],[1550707200000,3.527],[1550793600000,3.7265],[1551052800000,5.602],[1551139200000,4.4394],[1551225600000,4.787],[1551312000000,2.0368],[1551398400000,1.8491],[1551657600000,3.2131],[1551744000000,3.1275],[1551830400000,5.4101],[1551916800000,4.9521],[1552003200000,4.6412],[1552262400000,4.5262],[1552348800000,5.0773],[1552435200000,4.7772],[1552521600000,3.1706],[1552608000000,2.4328],[1552867200000,2.618],[1552953600000,2.8563],[1553040000000,4.4443],[1553126400000,4.43],[1553212800000,3.0893],[1553472000000,2.6889],[1553558400000,2.8083],[1553644800000,3.8273],[1553731200000,3.9325],[1553817600000,3.3828],[1554076800000,4.2575],[1554163200000,4.0093],[1554249600000,4.0104],[1554336000000,2.9612],[1554681600000,7.9501],[1554768000000,2.5015],[1554854400000,4.1957],[1554940800000,3.1982],[1555027200000,1.9721],[1555286400000,3.3924],[1555372800000,2.8401],[1555459200000,5.5618],[1555545600000,3.3931],[1555632000000,2.6329],[1555891200000,3.0777],[1555977600000,2.8821],[1556064000000,3.4159],[1556150400000,3.392],[1556236800000,3.148],[1556496000000,4.1523],[1556582400000,2.5828],[1557100800000,2.0225],[1557187200000,2.405],[1557273600000,2.7561],[1557360000000,2.7104],[1557446400000,3.0019],[1557705600000,2.6608],[1557792000000,1.6194],[1557878400000,3.2212],[1557964800000,2.9911],[1558051200000,2.1423],[1558310400000,2.7945],[1558396800000,3.438],[1558483200000,3.6234],[1558569600000,1.4798],[1558656000000,2.9315],[1558915200000,2.424],[1559001600000,2.1834],[1559088000000,2.2421],[1559174400000,3.0054],[1559260800000,3.1823],[1559520000000,1.5957],[1559606400000,2.8252],[1559692800000,3.9118],[1559779200000,1.1748],[1560124800000,2.9019],[1560211200000,2.8106],[1560297600000,2.2879],[1560384000000,3.1482],[1560470400000,3.5511],[1560729600000,0.8077],[1560816000000,1.8553],[1560902400000,1.9496],[1560988800000,2.9246],[1561075200000,3.043],[1561334400000,2.8499],[1561420800000,1.9372],[1561507200000,2.8449],[1561593600000,2.2399],[1561680000000,3.1904],[1561939200000,3.6822],[1562025600000,3.1206],[1562112000000,1.2883],[1562198400000,1.9855],[1562284800000,1.042],[1562544000000,2.9431],[1562630400000,2.8651],[1562716800000,2.3576],[1562803200000,2.0123],[1562889600000,1.315],[1563148800000,1.4268],[1563235200000,2.7148],[1563321600000,2.7037],[1563408000000,1.737],[1563494400000,2.9426],[1563753600000,1.3725],[1563840000000,3.0335],[1563926400000,2.8759],[1564012800000,2.0906],[1564099200000,1.823],[1564358400000,2.3031],[1564444800000,1.7736],[1564531200000,1.1777],[1564617600000,2.7296],[1564704000000,2.9871],[1564963200000,3.3296],[1565049600000,4.4578],[1565136000000,3.5569],[1565222400000,2.4847],[1565308800000,1.6587],[1565568000000,2.7061],[1565654400000,2.6616],[1565740800000,1.7285],[1565827200000,2.5926],[1565913600000,4.2097],[1566172800000,3.2463],[1566259200000,3.6702],[1566345600000,3.8376],[1566432000000,2.8697],[1566518400000,2.2091],[1566777600000,1.1825],[1566864000000,3.3917],[1566950400000,2.6426],[1567036800000,1.1268],[1567123200000,2.6946],[1567382400000,3.5201],[1567468800000,2.3188],[1567555200000,3.2597],[1567641600000,2.8548],[1567728000000,3.1894],[1567987200000,4.3155],[1568073600000,4.5371],[1568160000000,2.4174],[1568246400000,1.1416],[1568592000000,1.4449],[1568678400000,2.0872],[1568764800000,3.7336],[1568851200000,3.7239],[1568937600000,3.1167],[1569196800000,1.722],[1569283200000,3.2255],[1569369600000,2.9489],[1569456000000,3.6192],[1569542400000,1.9216],[1569801600000,2.3857],[1570492800000,1.192],[1570579200000,1.6076],[1570665600000,2.2306],[1570752000000,2.7113],[1571011200000,1.8131],[1571097600000,3.2116],[1571184000000,2.402],[1571270400000,1.5458],[1571356800000,2.7968],[1571616000000,2.5073],[1571702400000,2.4037],[1571788800000,2.0268],[1571875200000,1.0856],[1571961600000,2.958],[1572220800000,1.5321],[1572307200000,3.3302],[1572393600000,2.318],[1572480000000,2.4984],[1572566400000,2.1502],[1572825600000,2.397],[1572912000000,2.8435],[1572998400000,2.5857],[1573084800000,1.8685],[1573171200000,2.8165],[1573430400000,2.2339],[1573516800000,3.004],[1573603200000,3.0615],[1573689600000,2.2564],[1573776000000,3.0366],[1574035200000,2.8651],[1574121600000,3.0595],[1574208000000,2.5169],[1574294400000,1.9538],[1574380800000,3.1622],[1574640000000,1.499],[1574726400000,0.6282],[1574812800000,1.0447],[1574899200000,2.1683],[1574985600000,2.3363],[1575244800000,2.5599],[1575331200000,1.2047],[1575417600000,3.0687],[1575504000000,2.0356],[1575590400000,2.6102],[1575849600000,1.855],[1575936000000,1.7278],[1576022400000,2.2172],[1576108800000,2.3779],[1576195200000,2.1497],[1576454400000,1.8319],[1576540800000,4.0216],[1576627200000,5.1203],[1576713600000,0.8513],[1576800000000,5.1209],[1577059200000,0.8561],[1577145600000,2.4309],[1577232000000,3.1925],[1577318400000,4.3027],[1577404800000,1.2597],[1577664000000,2.3738],[1577750400000,1.6971],[1577923200000,4.0845],[1578009600000,2.9211],[1578268800000,3.5906],[1578355200000,2.0278],[1578441600000,3.1662],[1578528000000,3.1634],[1578614400000,2.1945],[1578873600000,2.8443],[1578960000000,3.6095],[1579046400000,2.931],[1579132800000,4.0702],[1579219200000,3.558],[1579478400000,3.5554],[1579564800000,2.7346],[1579651200000,3.3269],[1579737600000,4.7939],[1580688000000,5.4363],[1580774400000,3.5492],[1580860800000,4.0239],[1580947200000,3.9697],[1581033600000,2.3985],[1581292800000,2.8948],[1581379200000,3.9825],[1581465600000,2.4784],[1581552000000,4.5338],[1581638400000,2.2437],[1581897600000,2.1199],[1581984000000,1.466],[1582070400000,4.1729],[1582156800000,3.7629],[1582243200000,2.582],[1582502400000,5.7911],[1582588800000,6.4946],[1582675200000,6.314],[1582761600000,4.9661],[1582848000000,1.4975],[1583107200000,3.6406],[1583193600000,3.2397],[1583280000000,4.3015],[1583452800000,null],[1583712000000,2.6129],[1583798400000,3.3262],[1583884800000,5.1705],[1583971200000,4.0309],[1584057600000,4.3941],[1584316800000,5.9593],[1584403200000,3.3298],[1584489600000,5.1921],[1584576000000,3.3293],[1584662400000,4.3355],[1584921600000,2.8263],[1585008000000,2.8383],[1585094400000,2.2044],[1585180800000,3.2705],[1585267200000,2.6848],[1585526400000,2.719],[1585612800000,3.5133],[1585699200000,1.6569],[1585785600000,3.3122],[1585872000000,3.5603],[1586217600000,3.3482],[1586304000000,2.305],[1586390400000,2.7529],[1586476800000,2.597],[1586736000000,2.3644],[1586822400000,2.4052],[1586908800000,2.4796],[1586995200000,2.514],[1587081600000,4.3192],[1587340800000,2.5026],[1587427200000,2.3565],[1587513600000,3.6325],[1587600000000,3.4839],[1587686400000,2.6504],[1587945600000,2.2864],[1588032000000,4.0086],[1588118400000,1.5541],[1588204800000,2.3076],[1588723200000,2.5013],[1588809600000,3.8366],[1588896000000,1.8877],[1589155200000,2.1244],[1589241600000,1.2752],[1589328000000,3.2361],[1589414400000,3.8758],[1589500800000,2.9348],[1589760000000,2.868],[1589846400000,2.3206],[1589932800000,2.0661],[1590019200000,3.5237],[1590105600000,1.5159],[1590364800000,2.4176],[1590451200000,3.0523],[1590537600000,2.4848],[1590624000000,2.6105],[1590710400000,0.9876],[1590969600000,2.9047],[1591056000000,3.4872],[1591142400000,3.4112],[1591228800000,1.9473],[1591315200000,2.6381],[1591574400000,2.7075],[1591660800000,2.3021],[1591747200000,1.8406],[1591833600000,4.0868],[1591920000000,3.5529],[1592179200000,4.17],[1592265600000,2.5723],[1592352000000,1.9869],[1592438400000,2.1577],[1592524800000,1.6831],[1592784000000,2.2013],[1592870400000,3.0129],[1592956800000,3.8012],[1593388800000,2.8908],[1593475200000,3.2545],[1593561600000,4.6572],[1593648000000,1.8067],[1593734400000,3.3902],[1593993600000,4.4075],[1594080000000,5.5227],[1594166400000,5.7921],[1594252800000,6.3458],[1594339200000,4.5506],[1594598400000,4.8781],[1594684800000,5.1594],[1594771200000,3.3527],[1594857600000,3.6138],[1594944000000,2.9897],[1595203200000,3.5178],[1595289600000,3.651],[1595376000000,4.1912],[1595462400000,4.6142],[1595548800000,4.6517],[1595808000000,2.509],[1595894400000,3.277],[1595980800000,2.3179],[1596067200000,4.5481],[1596153600000,3.3874],[1596412800000,4.2944],[1596499200000,4.3705],[1596585600000,2.5906],[1596672000000,3.4375],[1596758400000,2.5958],[1597017600000,3.3638],[1597104000000,1.9998],[1597190400000,2.751],[1597276800000,3.1901],[1597363200000,2.1106],[1597622400000,2.6007],[1597708800000,4.4304],[1597795200000,3.4479],[1597881600000,2.3545],[1597968000000,2.3657],[1598227200000,3.294],[1598313600000,2.8445],[1598400000000,3.6443],[1598486400000,3.4512],[1598572800000,3.7115],[1598832000000,2.9229],[1598918400000,4.2948],[1599004800000,4.6214],[1599091200000,3.2044],[1599177600000,2.2499],[1599436800000,6.0778],[1599523200000,2.7478],[1599609600000,4.5982],[1599696000000,3.5402],[1599782400000,2.0001],[1600041600000,3.5196],[1600128000000,3.101],[1600214400000,3.2669],[1600300800000,2.2102],[1600387200000,3.1204],[1600646400000,2.8123],[1600732800000,1.9429],[1600819200000,3.3722],[1600905600000,3.7709],[1600992000000,3.2197],[1601251200000,2.5489],[1601337600000,1.4301],[1601424000000,2.1021],[1602201600000,3.1006],[1602460800000,3.9359],[1602547200000,3.7327],[1602633600000,3.3866],[1602720000000,3.9501],[1602806400000,2.6816],[1603065600000,1.8641],[1603152000000,2.5115],[1603238400000,4.8294],[1603324800000,2.5982],[1603411200000,3.9784],[1603670400000,2.5327],[1603756800000,3.5869],[1603843200000,4.22],[1603929600000,2.9509],[1604016000000,3.6278],[1604275200000,2.7492],[1604361600000,3.093],[1604448000000,2.2815]],\"color\":\"#F08B55\"},{\"name\":\"2\\u5206\\u4f4d\\u6570\",\"yAxis\":0,\"data\":[[1476144000000,null],[1476230400000,2.5915],[1476316800000,1.9251],[1476403200000,2.9293],[1476662400000,2.1593],[1476748800000,2.4022],[1476835200000,2.2748],[1476921600000,1.7837],[1477008000000,2.2771],[1477267200000,2.2868],[1477353600000,3.1077],[1477440000000,3.0465],[1477526400000,2.1707],[1477612800000,2.4439],[1477872000000,1.8781],[1477958400000,2.6868],[1478044800000,3.7301],[1478131200000,1.6257],[1478217600000,1.7999],[1478476800000,3.7775],[1478563200000,2.2419],[1478649600000,6.0377],[1478736000000,2.3574],[1478822400000,2.2974],[1479081600000,4.7411],[1479168000000,5.3682],[1479254400000,2.7624],[1479340800000,4.4899],[1479427200000,2.172],[1479686400000,2.346],[1479772800000,2.4919],[1479859200000,4.0676],[1479945600000,5.3568],[1480032000000,2.3182],[1480291200000,2.578],[1480377600000,4.3984],[1480464000000,2.105],[1480550400000,2.2442],[1480636800000,1.805],[1480896000000,1.548],[1480982400000,1.8465],[1481068800000,2.0471],[1481155200000,2.0439],[1481241600000,2.275],[1481500800000,2.4985],[1481587200000,1.9454],[1481673600000,2.3707],[1481760000000,2.691],[1481846400000,1.6266],[1482105600000,1.5727],[1482192000000,2.3098],[1482278400000,2.1551],[1482364800000,2.2039],[1482451200000,1.7382],[1482710400000,1.6792],[1482796800000,2.0293],[1482883200000,1.3346],[1482969600000,1.5206],[1483056000000,1.618],[1483401600000,2.4229],[1483488000000,2.8757],[1483574400000,2.4671],[1483660800000,2.1026],[1483920000000,1.8795],[1484006400000,2.1604],[1484092800000,3.299],[1484179200000,1.6191],[1484265600000,2.0202],[1484524800000,2.3385],[1484611200000,1.7978],[1484697600000,1.5765],[1484784000000,0.8622],[1484870400000,1.7212],[1485129600000,2.3306],[1485216000000,0.9241],[1485302400000,1.4946],[1485388800000,1.8888],[1486080000000,1.3476],[1486339200000,2.1514],[1486425600000,2.5395],[1486512000000,1.9167],[1486598400000,2.0564],[1486684800000,1.4209],[1486944000000,4.1722],[1487030400000,2.213],[1487116800000,2.3933],[1487203200000,1.5054],[1487289600000,2.765],[1487548800000,3.3723],[1487635200000,2.4755],[1487721600000,2.4626],[1487808000000,3.1924],[1487894400000,2.0367],[1488153600000,2.1503],[1488240000000,3.131],[1488326400000,2.2719],[1488412800000,3.2598],[1488499200000,2.5543],[1488758400000,2.5741],[1488844800000,2.3314],[1488931200000,2.4669],[1489017600000,2.7371],[1489104000000,2.4012],[1489363200000,2.4307],[1489449600000,2.3724],[1489536000000,1.1268],[1489622400000,3.0426],[1489708800000,1.6168],[1489968000000,1.8029],[1490054400000,2.1019],[1490140800000,2.1284],[1490227200000,1.961],[1490313600000,1.6353],[1490572800000,2.5035],[1490659200000,4.2019],[1490745600000,3.3031],[1490832000000,2.6617],[1490918400000,2.2535],[1491350400000,2.6011],[1491436800000,4.5614],[1491523200000,2.8475],[1491782400000,3.0564],[1491868800000,2.7926],[1491955200000,2.2438],[1492041600000,2.0753],[1492128000000,2.4892],[1492387200000,1.8906],[1492473600000,1.7786],[1492560000000,2.4602],[1492646400000,1.6467],[1492732800000,1.4861],[1492992000000,2.0291],[1493078400000,1.8766],[1493164800000,1.4268],[1493251200000,1.6575],[1493337600000,1.1676],[1493683200000,1.2866],[1493769600000,2.2971],[1493856000000,1.2396],[1493942400000,2.019],[1494201600000,2.1405],[1494288000000,2.011],[1494374400000,2.169],[1494460800000,4.8623],[1494547200000,1.9953],[1494806400000,1.5786],[1494892800000,5.0184],[1494979200000,1.5742],[1495065600000,1.4221],[1495152000000,1.8401],[1495411200000,1.5079],[1495497600000,1.9156],[1495584000000,1.8635],[1495670400000,2.1978],[1495756800000,1.5889],[1496188800000,0.8995],[1496275200000,2.3359],[1496361600000,1.9746],[1496620800000,2.1842],[1496707200000,1.8137],[1496793600000,3.7705],[1496880000000,2.3197],[1496966400000,1.2517],[1497225600000,1.7679],[1497312000000,1.8346],[1497398400000,2.068],[1497484800000,2.482],[1497571200000,2.6407],[1497830400000,3.3852],[1497916800000,2.3283],[1498003200000,2.0761],[1498089600000,2.238],[1498176000000,2.2592],[1498435200000,2.0824],[1498521600000,3.5087],[1498608000000,1.0738],[1498694400000,1.7237],[1498780800000,2.0294],[1499040000000,1.6166],[1499126400000,2.9112],[1499212800000,2.076],[1499299200000,1.8603],[1499385600000,2.325],[1499644800000,1.4023],[1499731200000,2.8318],[1499817600000,1.9655],[1499904000000,1.9377],[1499990400000,1.5093],[1500249600000,2.3606],[1500336000000,1.2783],[1500422400000,2.2922],[1500508800000,3.3251],[1500595200000,1.2888],[1500854400000,1.9117],[1500940800000,1.8517],[1501027200000,2.4343],[1501113600000,2.3676],[1501200000000,1.8966],[1501459200000,3.7193],[1501545600000,2.2494],[1501632000000,2.8577],[1501718400000,2.2106],[1501804800000,2.2968],[1502064000000,2.0943],[1502150400000,1.9535],[1502236800000,2.5189],[1502323200000,2.8031],[1502409600000,1.7853],[1502668800000,2.0053],[1502755200000,2.7248],[1502841600000,2.3047],[1502928000000,2.0341],[1503014400000,3.099],[1503273600000,2.1367],[1503360000000,3.4996],[1503446400000,1.034],[1503532800000,2.6911],[1503619200000,1.6227],[1503878400000,3.4852],[1503964800000,4.4746],[1504051200000,3.0346],[1504137600000,2.5635],[1504224000000,1.8988],[1504483200000,2.8558],[1504569600000,3.3463],[1504656000000,3.2331],[1504742400000,3.5136],[1504828800000,2.9008],[1505088000000,2.3061],[1505174400000,3.336],[1505260800000,3.1099],[1505347200000,2.1501],[1505433600000,2.2994],[1505692800000,2.2998],[1505779200000,2.4437],[1505865600000,2.9706],[1505952000000,1.9265],[1506038400000,1.9751],[1506297600000,2.0237],[1506384000000,1.97],[1506470400000,2.2576],[1506556800000,2.8203],[1506643200000,1.0793],[1507507200000,2.7364],[1507593600000,1.2802],[1507680000000,2.1899],[1507766400000,3.5938],[1507852800000,2.2502],[1508112000000,1.9351],[1508198400000,2.1957],[1508284800000,2.4883],[1508371200000,1.5398],[1508457600000,2.1903],[1508716800000,1.9895],[1508803200000,0.8184],[1508889600000,2.2376],[1508976000000,2.581],[1509062400000,2.5515],[1509321600000,2.6706],[1509408000000,2.4036],[1509494400000,2.4971],[1509580800000,5.6317],[1509667200000,1.6112],[1509926400000,2.3844],[1510012800000,1.4302],[1510099200000,2.5582],[1510185600000,2.0446],[1510272000000,2.4656],[1510531200000,2.0767],[1510617600000,2.2385],[1510704000000,1.5595],[1510790400000,1.9746],[1510876800000,2.1256],[1511136000000,2.0506],[1511222400000,2.4407],[1511308800000,2.2436],[1511395200000,2.2543],[1511481600000,1.8637],[1511740800000,1.7064],[1511827200000,1.6985],[1511913600000,2.558],[1512000000000,2.0881],[1512086400000,1.7111],[1512345600000,2.0136],[1512432000000,2.1984],[1512518400000,1.6991],[1512604800000,1.7123],[1512691200000,2.2352],[1512950400000,2.0271],[1513036800000,2.3173],[1513123200000,1.4538],[1513209600000,1.9437],[1513296000000,1.8761],[1513555200000,1.4293],[1513641600000,1.1453],[1513728000000,2.2369],[1513814400000,1.6869],[1513900800000,1.5875],[1514160000000,2.4667],[1514246400000,1.8376],[1514332800000,0.9524],[1514419200000,2.3459],[1514505600000,1.7685],[1514851200000,3.3768],[1514937600000,3.1999],[1515024000000,1.7201],[1515110400000,4.4722],[1515369600000,2.0034],[1515456000000,1.8377],[1515542400000,2.0689],[1515628800000,2.1708],[1515715200000,1.5192],[1515974400000,3.7934],[1516060800000,1.898],[1516147200000,2.1207],[1516233600000,1.2399],[1516320000000,5.3962],[1516579200000,2.3438],[1516665600000,1.4033],[1516752000000,3.4661],[1516838400000,1.5158],[1516924800000,1.973],[1517184000000,1.4699],[1517270400000,1.7949],[1517356800000,1.9524],[1517443200000,1.6198],[1517529600000,1.7844],[1517788800000,1.5989],[1517875200000,2.04],[1517961600000,1.4748],[1518048000000,1.4382],[1518134400000,2.5477],[1518393600000,1.4828],[1518480000000,1.9267],[1518566400000,0.5519],[1519257600000,1.0785],[1519344000000,0.7242],[1519603200000,3.3066],[1519689600000,2.2689],[1519776000000,1.6638],[1519862400000,1.906],[1519948800000,2.5727],[1520208000000,2.5086],[1520294400000,2.4487],[1520380800000,4.5931],[1520467200000,2.5027],[1520553600000,1.7611],[1520812800000,2.0629],[1520899200000,1.2572],[1520985600000,1.9958],[1521072000000,2.346],[1521158400000,1.8868],[1521417600000,1.4124],[1521504000000,1.437],[1521590400000,1.542],[1521676800000,1.1703],[1521763200000,2.5113],[1522022400000,1.4629],[1522108800000,3.092],[1522195200000,2.2475],[1522281600000,2.1547],[1522368000000,4.433],[1522627200000,1.9052],[1522713600000,3.2654],[1522800000000,2.2213],[1523232000000,2.9196],[1523318400000,2.2305],[1523404800000,3.7885],[1523491200000,4.0287],[1523577600000,2.6],[1523836800000,1.8847],[1523923200000,2.3305],[1524009600000,1.9898],[1524096000000,2.7878],[1524182400000,1.9089],[1524441600000,1.8223],[1524528000000,2.2299],[1524614400000,2.7013],[1524700800000,3.1756],[1524787200000,1.4105],[1525219200000,1.6867],[1525305600000,2.0696],[1525392000000,1.3815],[1525651200000,1.5127],[1525737600000,2.6976],[1525824000000,1.1914],[1525910400000,2.4574],[1525996800000,3.1195],[1526256000000,1.2954],[1526342400000,2.2494],[1526428800000,1.5994],[1526515200000,2.6645],[1526601600000,1.7309],[1526860800000,2.4586],[1526947200000,1.2052],[1527033600000,1.351],[1527120000000,1.8577],[1527206400000,2.7491],[1527465600000,1.3269],[1527552000000,2.695],[1527638400000,1.9365],[1527724800000,1.7097],[1527811200000,1.5925],[1528070400000,1.3668],[1528156800000,1.6041],[1528243200000,2.3904],[1528329600000,3.7273],[1528416000000,1.7676],[1528675200000,1.8299],[1528761600000,1.4286],[1528848000000,1.8984],[1528934400000,1.6255],[1529020800000,2.1692],[1529366400000,1.7328],[1529452800000,1.3104],[1529539200000,1.949],[1529625600000,1.6839],[1529884800000,1.7687],[1529971200000,1.2106],[1530057600000,1.288],[1530144000000,1.2598],[1530230400000,1.6308],[1530489600000,1.5597],[1530576000000,1.5997],[1530662400000,1.1355],[1530748800000,2.454],[1530835200000,2.0022],[1531094400000,1.0834],[1531180800000,1.2041],[1531267200000,1.9797],[1531353600000,2.4566],[1531440000000,2.5884],[1531699200000,0.9267],[1531785600000,1.0849],[1531872000000,1.9272],[1531958400000,3.2633],[1532044800000,1.8326],[1532304000000,1.7754],[1532390400000,2.7494],[1532476800000,1.1074],[1532563200000,3.3917],[1532649600000,1.4969],[1532908800000,1.4093],[1532995200000,1.2859],[1533081600000,1.2644],[1533168000000,1.8521],[1533254400000,1.3196],[1533513600000,1.0836],[1533600000000,1.2965],[1533686400000,1.3711],[1533772800000,1.4733],[1533859200000,1.6939],[1534118400000,1.4203],[1534204800000,1.5023],[1534291200000,1.461],[1534377600000,0.977],[1534464000000,1.2275],[1534723200000,1.9422],[1534809600000,1.4659],[1534896000000,1.0819],[1534982400000,0.9672],[1535068800000,1.0195],[1535328000000,1.5842],[1535414400000,0.6908],[1535500800000,0.7426],[1535587200000,1.1124],[1535673600000,1.093],[1535932800000,1.1146],[1536019200000,1.3961],[1536105600000,2.0217],[1536192000000,1.3438],[1536278400000,1.2691],[1536537600000,1.5104],[1536624000000,1.1859],[1536710400000,1.0829],[1536796800000,1.7957],[1536883200000,1.3578],[1537142400000,1.148],[1537228800000,1.1674],[1537315200000,1.3818],[1537401600000,0.9347],[1537488000000,3.1875],[1537833600000,2.0519],[1537920000000,1.6029],[1538006400000,2.2177],[1538092800000,1.0843],[1538956800000,1.4371],[1539043200000,1.1033],[1539129600000,0.9767],[1539216000000,1.2084],[1539302400000,1.1626],[1539561600000,1.556],[1539648000000,1.8033],[1539734400000,1.2458],[1539820800000,1.0895],[1539907200000,1.8151],[1540166400000,2.5707],[1540252800000,1.5074],[1540339200000,1.9026],[1540425600000,1.566],[1540512000000,1.3928],[1540771200000,0.5125],[1540857600000,1.4183],[1540944000000,1.1666],[1541030400000,1.421],[1541116800000,1.8523],[1541376000000,1.6782],[1541462400000,2.0587],[1541548800000,1.7184],[1541635200000,3.3762],[1541721600000,1.3446],[1541980800000,2.0291],[1542067200000,2.7118],[1542153600000,2.1936],[1542240000000,2.1627],[1542326400000,1.7938],[1542585600000,1.1265],[1542672000000,2.0066],[1542758400000,1.8973],[1542844800000,1.8807],[1542931200000,2.2967],[1543190400000,1.2454],[1543276800000,1.4779],[1543363200000,2.1195],[1543449600000,1.2754],[1543536000000,1.4564],[1543795200000,2.2877],[1543881600000,1.522],[1543968000000,2.0975],[1544054400000,1.4461],[1544140800000,1.4386],[1544400000000,1.2304],[1544486400000,1.2202],[1544572800000,1.0109],[1544659200000,2.3384],[1544745600000,1.8934],[1545004800000,1.4411],[1545091200000,1.3594],[1545177600000,0.8181],[1545264000000,1.1332],[1545350400000,1.0571],[1545609600000,0.752],[1545696000000,1.1857],[1545782400000,1.154],[1545868800000,2.5955],[1545955200000,1.7854],[1546387200000,1.5648],[1546473600000,1.2],[1546560000000,1.2857],[1546819200000,2.0162],[1546905600000,1.3427],[1546992000000,2.5383],[1547078400000,1.5855],[1547164800000,1.585],[1547424000000,1.3292],[1547510400000,2.0046],[1547596800000,1.6096],[1547683200000,2.6899],[1547769600000,1.473],[1548028800000,1.4711],[1548115200000,3.0025],[1548201600000,0.9531],[1548288000000,1.3586],[1548374400000,1.6985],[1548633600000,2.3243],[1548720000000,1.6936],[1548806400000,1.2764],[1548892800000,1.4687],[1548979200000,1.1218],[1549843200000,1.6462],[1549929600000,1.9039],[1550016000000,2.1591],[1550102400000,1.684],[1550188800000,3.3108],[1550448000000,3.1047],[1550534400000,2.982],[1550620800000,1.5051],[1550707200000,2.5498],[1550793600000,2.7398],[1551052800000,4.7691],[1551139200000,3.8446],[1551225600000,1.6128],[1551312000000,2.4428],[1551398400000,2.0765],[1551657600000,3.9479],[1551744000000,3.9153],[1551830400000,4.2255],[1551916800000,4.7748],[1552003200000,3.7399],[1552262400000,3.2977],[1552348800000,4.9572],[1552435200000,3.4087],[1552521600000,2.7242],[1552608000000,2.8964],[1552867200000,2.8453],[1552953600000,4.5165],[1553040000000,1.9072],[1553126400000,3.649],[1553212800000,3.5627],[1553472000000,2.8327],[1553558400000,3.2114],[1553644800000,2.4544],[1553731200000,2.4622],[1553817600000,2.7493],[1554076800000,3.9561],[1554163200000,3.2016],[1554249600000,3.6646],[1554336000000,3.3514],[1554681600000,4.2921],[1554768000000,2.4364],[1554854400000,3.1026],[1554940800000,3.2687],[1555027200000,2.349],[1555286400000,2.7838],[1555372800000,3.4073],[1555459200000,2.8817],[1555545600000,1.914],[1555632000000,2.3282],[1555891200000,2.4651],[1555977600000,2.5972],[1556064000000,2.1618],[1556150400000,2.6566],[1556236800000,1.6504],[1556496000000,2.5863],[1556582400000,1.7716],[1557100800000,2.2448],[1557187200000,1.5954],[1557273600000,1.8356],[1557360000000,1.61],[1557446400000,2.5503],[1557705600000,2.2423],[1557792000000,2.6648],[1557878400000,1.8529],[1557964800000,1.5443],[1558051200000,3.7044],[1558310400000,1.6275],[1558396800000,2.0237],[1558483200000,1.1827],[1558569600000,2.928],[1558656000000,1.5686],[1558915200000,2.0414],[1559001600000,2.8593],[1559088000000,0.9704],[1559174400000,1.6487],[1559260800000,1.7193],[1559520000000,3.1493],[1559606400000,1.5678],[1559692800000,1.6464],[1559779200000,2.207],[1560124800000,1.5302],[1560211200000,2.6539],[1560297600000,1.9789],[1560384000000,1.0307],[1560470400000,2.484],[1560729600000,1.462],[1560816000000,1.245],[1560902400000,2.0867],[1560988800000,1.7359],[1561075200000,2.9307],[1561334400000,1.1196],[1561420800000,1.6959],[1561507200000,1.6753],[1561593600000,2.0912],[1561680000000,1.1858],[1561939200000,2.6167],[1562025600000,1.0957],[1562112000000,2.1954],[1562198400000,1.7807],[1562284800000,1.5032],[1562544000000,2.2935],[1562630400000,1.084],[1562716800000,1.6048],[1562803200000,1.5813],[1562889600000,1.6661],[1563148800000,1.4109],[1563235200000,1.1292],[1563321600000,0.9293],[1563408000000,2.3216],[1563494400000,1.5408],[1563753600000,1.5635],[1563840000000,2.0148],[1563926400000,1.8612],[1564012800000,1.5779],[1564099200000,1.6914],[1564358400000,1.4125],[1564444800000,1.8928],[1564531200000,2.789],[1564617600000,1.7629],[1564704000000,1.773],[1564963200000,1.1947],[1565049600000,2.1406],[1565136000000,1.2654],[1565222400000,1.2855],[1565308800000,1.8319],[1565568000000,1.8607],[1565654400000,1.9976],[1565740800000,2.2868],[1565827200000,1.0615],[1565913600000,2.0378],[1566172800000,1.5292],[1566259200000,1.6783],[1566345600000,0.9853],[1566432000000,1.8354],[1566518400000,2.1316],[1566777600000,1.9404],[1566864000000,2.3303],[1566950400000,1.214],[1567036800000,2.7113],[1567123200000,2.4586],[1567382400000,1.7474],[1567468800000,1.9737],[1567555200000,2.2888],[1567641600000,4.4592],[1567728000000,1.6773],[1567987200000,3.1296],[1568073600000,1.5078],[1568160000000,3.3591],[1568246400000,2.4186],[1568592000000,2.0298],[1568678400000,3.5987],[1568764800000,1.9153],[1568851200000,2.3146],[1568937600000,2.0561],[1569196800000,3.2481],[1569283200000,2.5634],[1569369600000,1.4782],[1569456000000,2.7256],[1569542400000,1.8442],[1569801600000,1.464],[1570492800000,1.3775],[1570579200000,1.3627],[1570665600000,1.927],[1570752000000,1.5379],[1571011200000,3.8353],[1571097600000,1.0307],[1571184000000,1.4384],[1571270400000,1.5404],[1571356800000,1.9676],[1571616000000,1.3131],[1571702400000,1.7022],[1571788800000,1.7604],[1571875200000,2.0099],[1571961600000,1.4324],[1572220800000,2.5795],[1572307200000,1.6261],[1572393600000,1.7239],[1572480000000,1.7687],[1572566400000,1.5123],[1572825600000,1.8828],[1572912000000,1.1582],[1572998400000,1.8952],[1573084800000,1.8919],[1573171200000,1.6976],[1573430400000,1.9264],[1573516800000,1.505],[1573603200000,1.49],[1573689600000,1.2138],[1573776000000,0.9347],[1574035200000,1.0463],[1574121600000,2.023],[1574208000000,0.9918],[1574294400000,0.4774],[1574380800000,1.9899],[1574640000000,2.165],[1574726400000,1.2602],[1574812800000,2.1717],[1574899200000,1.1557],[1574985600000,0.8976],[1575244800000,1.2199],[1575331200000,2.3574],[1575417600000,1.3626],[1575504000000,2.4465],[1575590400000,1.7992],[1575849600000,2.4108],[1575936000000,3.2582],[1576022400000,1.3761],[1576108800000,1.9357],[1576195200000,2.6303],[1576454400000,2.2387],[1576540800000,2.8049],[1576627200000,2.7323],[1576713600000,1.5351],[1576800000000,3.5777],[1577059200000,1.3183],[1577145600000,1.7675],[1577232000000,2.1295],[1577318400000,2.5405],[1577404800000,1.6046],[1577664000000,2.2895],[1577750400000,1.8083],[1577923200000,2.6212],[1578009600000,1.9487],[1578268800000,2.9702],[1578355200000,3.1519],[1578441600000,3.947],[1578528000000,2.4182],[1578614400000,2.6606],[1578873600000,2.4248],[1578960000000,2.546],[1579046400000,1.4905],[1579132800000,2.4139],[1579219200000,1.873],[1579478400000,2.1783],[1579564800000,2.3998],[1579651200000,1.999],[1579737600000,3.2489],[1580688000000,3.3751],[1580774400000,2.4694],[1580860800000,1.605],[1580947200000,3.4338],[1581033600000,3.7442],[1581292800000,5.0445],[1581379200000,2.3272],[1581465600000,3.0156],[1581552000000,2.5609],[1581638400000,3.7222],[1581897600000,2.834],[1581984000000,2.1617],[1582070400000,3.1091],[1582156800000,3.6806],[1582243200000,4.6178],[1582502400000,2.2187],[1582588800000,2.6171],[1582675200000,3.2384],[1582761600000,4.5935],[1582848000000,2.3895],[1583107200000,2.7598],[1583193600000,3.3875],[1583280000000,2.8501],[1583452800000,null],[1583712000000,3.3505],[1583798400000,3.2312],[1583884800000,3.4781],[1583971200000,2.335],[1584057600000,3.4257],[1584316800000,3.2451],[1584403200000,1.8277],[1584489600000,2.8665],[1584576000000,3.5576],[1584662400000,2.2326],[1584921600000,3.1462],[1585008000000,2.1537],[1585094400000,3.1214],[1585180800000,1.3724],[1585267200000,2.1565],[1585526400000,1.727],[1585612800000,2.3099],[1585699200000,2.6832],[1585785600000,2.0282],[1585872000000,1.8846],[1586217600000,1.6339],[1586304000000,1.5114],[1586390400000,2.7033],[1586476800000,3.6571],[1586736000000,1.6284],[1586822400000,1.6943],[1586908800000,2.805],[1586995200000,2.4927],[1587081600000,2.4552],[1587340800000,2.7224],[1587427200000,2.0504],[1587513600000,1.6502],[1587600000000,2.3962],[1587686400000,2.047],[1587945600000,1.9796],[1588032000000,3.6873],[1588118400000,1.7513],[1588204800000,2.2073],[1588723200000,2.9795],[1588809600000,3.6123],[1588896000000,1.7753],[1589155200000,3.9809],[1589241600000,2.8496],[1589328000000,2.1416],[1589414400000,1.5478],[1589500800000,2.0344],[1589760000000,2.6725],[1589846400000,2.1301],[1589932800000,4.0896],[1590019200000,1.748],[1590105600000,2.1841],[1590364800000,1.7803],[1590451200000,1.8649],[1590537600000,3.7018],[1590624000000,2.3722],[1590710400000,2.2522],[1590969600000,2.6142],[1591056000000,2.6879],[1591142400000,3.4697],[1591228800000,3.6068],[1591315200000,2.1577],[1591574400000,2.4679],[1591660800000,2.7294],[1591747200000,2.9087],[1591833600000,2.7999],[1591920000000,1.2566],[1592179200000,2.5451],[1592265600000,2.5813],[1592352000000,4.2236],[1592438400000,3.5478],[1592524800000,2.6929],[1592784000000,3.479],[1592870400000,1.8759],[1592956800000,2.3577],[1593388800000,1.9441],[1593475200000,2.0895],[1593561600000,3.9384],[1593648000000,2.3891],[1593734400000,3.6316],[1593993600000,5.6005],[1594080000000,4.8405],[1594166400000,4.5994],[1594252800000,5.0884],[1594339200000,3.6433],[1594598400000,4.757],[1594684800000,5.1196],[1594771200000,5.5454],[1594857600000,3.2042],[1594944000000,2.4194],[1595203200000,2.8947],[1595289600000,2.7421],[1595376000000,2.3335],[1595462400000,2.8509],[1595548800000,3.2027],[1595808000000,2.2144],[1595894400000,2.3372],[1595980800000,3.9864],[1596067200000,1.5249],[1596153600000,2.5486],[1596412800000,3.3479],[1596499200000,3.5307],[1596585600000,4.185],[1596672000000,3.78],[1596758400000,3.2986],[1597017600000,2.9623],[1597104000000,3.3693],[1597190400000,3.3427],[1597276800000,2.6375],[1597363200000,3.6903],[1597622400000,2.8672],[1597708800000,2.3075],[1597795200000,3.6137],[1597881600000,2.4735],[1597968000000,2.3603],[1598227200000,2.2409],[1598313600000,2.9241],[1598400000000,3.0206],[1598486400000,2.4831],[1598572800000,2.8902],[1598832000000,3.8677],[1598918400000,1.9218],[1599004800000,3.1651],[1599091200000,2.8418],[1599177600000,2.989],[1599436800000,3.5383],[1599523200000,3.5889],[1599609600000,3.4992],[1599696000000,3.0765],[1599782400000,2.5644],[1600041600000,3.3753],[1600128000000,3.5327],[1600214400000,1.6743],[1600300800000,2.8983],[1600387200000,2.2657],[1600646400000,3.4113],[1600732800000,4.1882],[1600819200000,2.3122],[1600905600000,2.2417],[1600992000000,1.7815],[1601251200000,2.4762],[1601337600000,1.866],[1601424000000,1.7365],[1602201600000,2.0656],[1602460800000,2.5186],[1602547200000,2.323],[1602633600000,3.6094],[1602720000000,1.4471],[1602806400000,2.4129],[1603065600000,2.7591],[1603152000000,3.274],[1603238400000,1.9524],[1603324800000,2.2915],[1603411200000,2.2801],[1603670400000,2.4833],[1603756800000,2.239],[1603843200000,1.6451],[1603929600000,2.3169],[1604016000000,2.4947],[1604275200000,2.7517],[1604361600000,2.2806],[1604448000000,3.2852]],\"color\":\"#648FD5\"},{\"name\":\"3\\u5206\\u4f4d\\u6570\",\"yAxis\":0,\"data\":[[1476144000000,null],[1476230400000,2.3348],[1476316800000,1.7145],[1476403200000,2.3881],[1476662400000,1.6477],[1476748800000,2.9208],[1476835200000,1.7403],[1476921600000,1.9912],[1477008000000,1.3011],[1477267200000,2.0616],[1477353600000,3.5847],[1477440000000,2.1079],[1477526400000,2.8933],[1477612800000,2.3326],[1477872000000,2.6406],[1477958400000,2.3632],[1478044800000,2.4465],[1478131200000,5.8459],[1478217600000,1.3899],[1478476800000,2.3719],[1478563200000,2.1614],[1478649600000,1.655],[1478736000000,1.6948],[1478822400000,2.3795],[1479081600000,3.2162],[1479168000000,1.9102],[1479254400000,6.1051],[1479340800000,1.632],[1479427200000,2.9536],[1479686400000,2.6473],[1479772800000,2.1088],[1479859200000,3.3772],[1479945600000,2.6985],[1480032000000,2.8652],[1480291200000,2.6005],[1480377600000,1.7112],[1480464000000,2.8702],[1480550400000,2.5037],[1480636800000,4.9602],[1480896000000,1.6498],[1480982400000,1.6624],[1481068800000,2.421],[1481155200000,2.5873],[1481241600000,1.6045],[1481500800000,2.8596],[1481587200000,1.8819],[1481673600000,1.6833],[1481760000000,2.4308],[1481846400000,1.0568],[1482105600000,1.6109],[1482192000000,2.1468],[1482278400000,1.9363],[1482364800000,1.6953],[1482451200000,3.571],[1482710400000,1.7133],[1482796800000,1.3497],[1482883200000,1.1899],[1482969600000,1.4732],[1483056000000,1.1483],[1483401600000,2.449],[1483488000000,1.4223],[1483574400000,1.9611],[1483660800000,1.266],[1483920000000,1.8429],[1484006400000,2.1559],[1484092800000,1.1507],[1484179200000,1.7647],[1484265600000,1.6838],[1484524800000,2.5066],[1484611200000,2.5856],[1484697600000,1.6704],[1484784000000,0.8646],[1484870400000,2.0814],[1485129600000,1.4151],[1485216000000,0.9914],[1485302400000,2.4644],[1485388800000,1.4577],[1486080000000,0.7811],[1486339200000,2.2954],[1486425600000,2.4708],[1486512000000,2.4558],[1486598400000,1.3291],[1486684800000,1.6183],[1486944000000,2.1151],[1487030400000,2.7946],[1487116800000,3.2918],[1487203200000,1.6416],[1487289600000,2.1856],[1487548800000,2.3836],[1487635200000,3.3536],[1487721600000,1.6172],[1487808000000,2.2975],[1487894400000,2.8566],[1488153600000,2.2233],[1488240000000,2.4371],[1488326400000,1.8166],[1488412800000,2.1565],[1488499200000,2.7817],[1488758400000,1.9563],[1488844800000,2.2216],[1488931200000,2.6467],[1489017600000,2.5888],[1489104000000,1.6904],[1489363200000,1.356],[1489449600000,2.7915],[1489536000000,1.5698],[1489622400000,2.9564],[1489708800000,3.1667],[1489968000000,3.3638],[1490054400000,2.8757],[1490140800000,6.4594],[1490227200000,1.7803],[1490313600000,1.4766],[1490572800000,3.9733],[1490659200000,2.3501],[1490745600000,2.1289],[1490832000000,3.2038],[1490918400000,2.4101],[1491350400000,2.7304],[1491436800000,1.3019],[1491523200000,2.8505],[1491782400000,4.6829],[1491868800000,2.7618],[1491955200000,2.3814],[1492041600000,3.5732],[1492128000000,3.2585],[1492387200000,1.7597],[1492473600000,1.7871],[1492560000000,2.7311],[1492646400000,1.3026],[1492732800000,1.4483],[1492992000000,3.1433],[1493078400000,1.7721],[1493164800000,1.1944],[1493251200000,4.9836],[1493337600000,0.8521],[1493683200000,1.1743],[1493769600000,3.1278],[1493856000000,3.0911],[1493942400000,1.4528],[1494201600000,1.4624],[1494288000000,2.352],[1494374400000,2.6189],[1494460800000,3.2353],[1494547200000,1.834],[1494806400000,3.0187],[1494892800000,1.4184],[1494979200000,1.0422],[1495065600000,1.6658],[1495152000000,1.8636],[1495411200000,3.5076],[1495497600000,2.6639],[1495584000000,2.1463],[1495670400000,2.3344],[1495756800000,1.946],[1496188800000,1.1877],[1496275200000,2.0972],[1496361600000,2.1032],[1496620800000,2.1218],[1496707200000,1.8081],[1496793600000,4.8384],[1496880000000,2.3742],[1496966400000,1.5194],[1497225600000,2.525],[1497312000000,1.859],[1497398400000,1.616],[1497484800000,2.4545],[1497571200000,2.622],[1497830400000,2.0266],[1497916800000,5.3491],[1498003200000,1.7939],[1498089600000,2.634],[1498176000000,2.1215],[1498435200000,1.5604],[1498521600000,1.345],[1498608000000,1.3734],[1498694400000,1.9786],[1498780800000,3.3345],[1499040000000,1.5957],[1499126400000,0.9245],[1499212800000,2.8583],[1499299200000,4.2668],[1499385600000,2.7812],[1499644800000,2.3571],[1499731200000,3.7237],[1499817600000,2.7945],[1499904000000,1.9029],[1499990400000,2.4284],[1500249600000,4.0602],[1500336000000,1.2706],[1500422400000,1.9538],[1500508800000,1.8159],[1500595200000,1.6119],[1500854400000,3.6801],[1500940800000,2.4079],[1501027200000,2.0027],[1501113600000,1.9736],[1501200000000,3.5519],[1501459200000,1.054],[1501545600000,3.0643],[1501632000000,1.7107],[1501718400000,1.6534],[1501804800000,1.2849],[1502064000000,2.2949],[1502150400000,2.8106],[1502236800000,2.3983],[1502323200000,3.2342],[1502409600000,1.2698],[1502668800000,1.8475],[1502755200000,1.8896],[1502841600000,2.9841],[1502928000000,3.8014],[1503014400000,1.2166],[1503273600000,4.1317],[1503360000000,1.4825],[1503446400000,2.7076],[1503532800000,1.8799],[1503619200000,1.3434],[1503878400000,2.9895],[1503964800000,3.5456],[1504051200000,6.3688],[1504137600000,4.39],[1504224000000,3.9904],[1504483200000,4.1331],[1504569600000,3.7623],[1504656000000,5.2209],[1504742400000,2.8193],[1504828800000,4.1561],[1505088000000,3.516],[1505174400000,3.5332],[1505260800000,3.0674],[1505347200000,2.4403],[1505433600000,3.6975],[1505692800000,2.2857],[1505779200000,4.2043],[1505865600000,2.2431],[1505952000000,1.1212],[1506038400000,3.5637],[1506297600000,1.4071],[1506384000000,1.2699],[1506470400000,1.6335],[1506556800000,3.3165],[1506643200000,4.0799],[1507507200000,3.083],[1507593600000,1.5713],[1507680000000,4.1037],[1507766400000,1.2784],[1507852800000,2.7643],[1508112000000,2.0751],[1508198400000,1.3968],[1508284800000,2.0669],[1508371200000,3.5099],[1508457600000,1.9621],[1508716800000,1.4025],[1508803200000,1.3384],[1508889600000,1.9976],[1508976000000,2.6937],[1509062400000,2.1122],[1509321600000,4.9259],[1509408000000,1.6171],[1509494400000,1.8535],[1509580800000,2.7079],[1509667200000,0.9616],[1509926400000,1.9099],[1510012800000,1.1532],[1510099200000,1.828],[1510185600000,2.6366],[1510272000000,5.8699],[1510531200000,4.1329],[1510617600000,2.75],[1510704000000,0.9412],[1510790400000,2.2191],[1510876800000,3.1262],[1511136000000,1.6582],[1511222400000,2.6463],[1511308800000,2.3312],[1511395200000,2.6469],[1511481600000,1.3782],[1511740800000,1.5183],[1511827200000,2.5485],[1511913600000,2.7043],[1512000000000,2.5466],[1512086400000,2.8326],[1512345600000,1.7585],[1512432000000,2.463],[1512518400000,1.8772],[1512604800000,1.6339],[1512691200000,1.2303],[1512950400000,2.2748],[1513036800000,1.0502],[1513123200000,1.6787],[1513209600000,1.6507],[1513296000000,2.205],[1513555200000,1.2324],[1513641600000,2.3139],[1513728000000,1.983],[1513814400000,1.3435],[1513900800000,0.818],[1514160000000,2.0537],[1514246400000,2.1678],[1514332800000,0.8093],[1514419200000,2.4306],[1514505600000,2.0006],[1514851200000,1.4123],[1514937600000,1.0407],[1515024000000,1.6918],[1515110400000,1.0786],[1515369600000,4.132],[1515456000000,2.1565],[1515542400000,2.2769],[1515628800000,1.2154],[1515715200000,1.3191],[1515974400000,1.1831],[1516060800000,1.5043],[1516147200000,1.3494],[1516233600000,2.5006],[1516320000000,0.8499],[1516579200000,2.4667],[1516665600000,2.2008],[1516752000000,1.185],[1516838400000,4.4184],[1516924800000,1.4766],[1517184000000,2.5149],[1517270400000,1.371],[1517356800000,1.6734],[1517443200000,1.3811],[1517529600000,1.654],[1517788800000,1.3764],[1517875200000,3.0988],[1517961600000,1.3187],[1518048000000,1.2087],[1518134400000,2.2263],[1518393600000,0.9654],[1518480000000,1.1786],[1518566400000,0.5583],[1519257600000,1.1027],[1519344000000,0.8616],[1519603200000,2.6009],[1519689600000,1.8359],[1519776000000,1.5212],[1519862400000,1.8789],[1519948800000,1.3735],[1520208000000,1.3516],[1520294400000,2.6668],[1520380800000,1.8242],[1520467200000,3.5446],[1520553600000,1.4987],[1520812800000,2.4964],[1520899200000,1.7815],[1520985600000,5.1011],[1521072000000,2.1275],[1521158400000,1.1869],[1521417600000,4.5886],[1521504000000,1.2175],[1521590400000,1.2142],[1521676800000,1.6733],[1521763200000,2.6435],[1522022400000,1.3476],[1522108800000,2.3128],[1522195200000,2.3105],[1522281600000,1.9197],[1522368000000,2.3579],[1522627200000,2.3028],[1522713600000,2.4984],[1522800000000,1.3407],[1523232000000,2.257],[1523318400000,1.455],[1523404800000,2.5712],[1523491200000,1.0477],[1523577600000,1.4252],[1523836800000,2.4552],[1523923200000,2.4028],[1524009600000,1.1508],[1524096000000,2.162],[1524182400000,1.5894],[1524441600000,1.8729],[1524528000000,2.0132],[1524614400000,2.2562],[1524700800000,2.0408],[1524787200000,1.9573],[1525219200000,1.5951],[1525305600000,3.6311],[1525392000000,0.9584],[1525651200000,1.3664],[1525737600000,1.9877],[1525824000000,1.6255],[1525910400000,3.0586],[1525996800000,2.4409],[1526256000000,2.8457],[1526342400000,2.2387],[1526428800000,1.1002],[1526515200000,2.3271],[1526601600000,1.7516],[1526860800000,2.2356],[1526947200000,1.837],[1527033600000,6.2594],[1527120000000,1.4002],[1527206400000,2.1383],[1527465600000,0.8923],[1527552000000,1.2992],[1527638400000,4.1092],[1527724800000,1.4173],[1527811200000,2.7393],[1528070400000,2.952],[1528156800000,3.6922],[1528243200000,4.1402],[1528329600000,2.5278],[1528416000000,3.9414],[1528675200000,1.1185],[1528761600000,0.7743],[1528848000000,3.2655],[1528934400000,2.6134],[1529020800000,1.6337],[1529366400000,1.5458],[1529452800000,1.3775],[1529539200000,1.4915],[1529625600000,2.003],[1529884800000,1.2919],[1529971200000,1.313],[1530057600000,0.8939],[1530144000000,1.6036],[1530230400000,1.0676],[1530489600000,3.0002],[1530576000000,1.332],[1530662400000,0.7779],[1530748800000,2.5232],[1530835200000,1.7976],[1531094400000,0.7925],[1531180800000,0.9948],[1531267200000,1.6146],[1531353600000,1.6032],[1531440000000,2.8374],[1531699200000,0.8874],[1531785600000,2.0336],[1531872000000,2.5752],[1531958400000,0.75],[1532044800000,1.6865],[1532304000000,1.64],[1532390400000,1.5781],[1532476800000,1.4749],[1532563200000,1.4584],[1532649600000,3.1772],[1532908800000,2.0306],[1532995200000,1.1276],[1533081600000,1.5093],[1533168000000,3.0276],[1533254400000,1.0039],[1533513600000,1.5428],[1533600000000,1.5916],[1533686400000,2.6121],[1533772800000,0.9933],[1533859200000,1.4973],[1534118400000,1.2055],[1534204800000,0.8876],[1534291200000,1.0967],[1534377600000,1.3935],[1534464000000,1.0397],[1534723200000,1.6388],[1534809600000,0.9439],[1534896000000,0.8549],[1534982400000,2.5937],[1535068800000,0.7564],[1535328000000,2.1109],[1535414400000,0.9809],[1535500800000,0.6334],[1535587200000,1.0692],[1535673600000,1.0008],[1535932800000,0.9035],[1536019200000,1.2253],[1536105600000,0.9773],[1536192000000,1.4702],[1536278400000,0.8491],[1536537600000,1.5936],[1536624000000,0.8941],[1536710400000,0.8767],[1536796800000,1.4557],[1536883200000,0.9962],[1537142400000,2.3136],[1537228800000,1.1133],[1537315200000,1.6396],[1537401600000,1.0507],[1537488000000,0.9984],[1537833600000,1.5705],[1537920000000,2.4006],[1538006400000,1.6902],[1538092800000,0.7756],[1538956800000,1.3493],[1539043200000,0.8061],[1539129600000,0.8116],[1539216000000,3.3478],[1539302400000,1.0541],[1539561600000,1.1818],[1539648000000,1.8909],[1539734400000,0.8587],[1539820800000,0.7183],[1539907200000,1.2146],[1540166400000,1.6237],[1540252800000,1.645],[1540339200000,0.7276],[1540425600000,1.3184],[1540512000000,1.1551],[1540771200000,0.7299],[1540857600000,1.5382],[1540944000000,0.9797],[1541030400000,1.6643],[1541116800000,1.9209],[1541376000000,1.6728],[1541462400000,1.6638],[1541548800000,2.0693],[1541635200000,1.0357],[1541721600000,1.7757],[1541980800000,1.9542],[1542067200000,3.1332],[1542153600000,2.1519],[1542240000000,1.1559],[1542326400000,5.7044],[1542585600000,1.5998],[1542672000000,5.3707],[1542758400000,1.5809],[1542844800000,1.6671],[1542931200000,1.5263],[1543190400000,0.9051],[1543276800000,1.3981],[1543363200000,2.5242],[1543449600000,1.5211],[1543536000000,1.2234],[1543795200000,2.0957],[1543881600000,1.5802],[1543968000000,2.473],[1544054400000,1.4927],[1544140800000,1.5211],[1544400000000,1.1726],[1544486400000,1.1321],[1544572800000,1.4641],[1544659200000,1.0537],[1544745600000,2.3162],[1545004800000,1.5936],[1545091200000,0.9671],[1545177600000,1.8009],[1545264000000,0.8506],[1545350400000,0.7311],[1545609600000,1.5178],[1545696000000,3.8295],[1545782400000,0.6055],[1545868800000,1.221],[1545955200000,2.6051],[1546387200000,1.2021],[1546473600000,3.279],[1546560000000,2.17],[1546819200000,2.363],[1546905600000,1.5901],[1546992000000,3.3148],[1547078400000,1.5467],[1547164800000,1.4051],[1547424000000,2.6411],[1547510400000,2.9357],[1547596800000,2.7248],[1547683200000,0.832],[1547769600000,1.8029],[1548028800000,2.1416],[1548115200000,0.8431],[1548201600000,0.7487],[1548288000000,1.0525],[1548374400000,2.3496],[1548633600000,2.0115],[1548720000000,2.171],[1548806400000,0.9485],[1548892800000,1.6736],[1548979200000,0.9369],[1549843200000,2.5547],[1549929600000,1.7325],[1550016000000,2.1807],[1550102400000,1.7492],[1550188800000,1.1842],[1550448000000,3.1265],[1550534400000,3.4589],[1550620800000,1.6831],[1550707200000,3.0373],[1550793600000,3.8798],[1551052800000,4.2069],[1551139200000,4.1097],[1551225600000,2.3848],[1551312000000,3.6799],[1551398400000,3.2416],[1551657600000,7.0171],[1551744000000,4.1452],[1551830400000,6.1888],[1551916800000,4.9604],[1552003200000,4.1655],[1552262400000,2.9292],[1552348800000,5.2361],[1552435200000,3.707],[1552521600000,3.7658],[1552608000000,3.1349],[1552867200000,3.9391],[1552953600000,2.2766],[1553040000000,2.1863],[1553126400000,3.0807],[1553212800000,3.0033],[1553472000000,4.0767],[1553558400000,3.8017],[1553644800000,2.2372],[1553731200000,2.0546],[1553817600000,3.2862],[1554076800000,4.7423],[1554163200000,3.2323],[1554249600000,3.1922],[1554336000000,4.7836],[1554681600000,3.2955],[1554768000000,2.662],[1554854400000,3.2229],[1554940800000,2.7884],[1555027200000,3.2134],[1555286400000,2.5862],[1555372800000,2.8633],[1555459200000,2.0529],[1555545600000,2.3064],[1555632000000,2.7675],[1555891200000,2.8299],[1555977600000,3.3241],[1556064000000,1.749],[1556150400000,2.7892],[1556236800000,1.3908],[1556496000000,2.1983],[1556582400000,1.6007],[1557100800000,2.4624],[1557187200000,1.3208],[1557273600000,1.6514],[1557360000000,1.366],[1557446400000,2.3827],[1557705600000,1.818],[1557792000000,2.1111],[1557878400000,1.5142],[1557964800000,1.674],[1558051200000,1.3764],[1558310400000,1.3519],[1558396800000,1.6372],[1558483200000,1.3539],[1558569600000,1.5015],[1558656000000,1.0602],[1558915200000,1.7921],[1559001600000,2.5376],[1559088000000,1.1303],[1559174400000,1.2544],[1559260800000,1.3603],[1559520000000,1.5768],[1559606400000,1.5108],[1559692800000,1.0324],[1559779200000,2.8194],[1560124800000,1.1353],[1560211200000,2.1833],[1560297600000,2.2898],[1560384000000,1.2406],[1560470400000,1.3625],[1560729600000,3.2899],[1560816000000,1.3053],[1560902400000,2.7336],[1560988800000,1.9959],[1561075200000,2.7996],[1561334400000,1.4563],[1561420800000,2.5145],[1561507200000,1.3402],[1561593600000,2.1299],[1561680000000,1.1016],[1561939200000,1.9919],[1562025600000,1.4025],[1562112000000,2.7451],[1562198400000,2.0588],[1562284800000,2.4772],[1562544000000,1.8199],[1562630400000,0.8312],[1562716800000,1.3105],[1562803200000,1.7955],[1562889600000,2.1834],[1563148800000,2.048],[1563235200000,1.6785],[1563321600000,0.9687],[1563408000000,1.5403],[1563494400000,0.9957],[1563753600000,3.4493],[1563840000000,1.1638],[1563926400000,1.5415],[1564012800000,1.8637],[1564099200000,1.6057],[1564358400000,1.9166],[1564444800000,2.406],[1564531200000,0.9287],[1564617600000,1.278],[1564704000000,1.215],[1564963200000,0.881],[1565049600000,1.5679],[1565136000000,0.9512],[1565222400000,2.2296],[1565308800000,3.2329],[1565568000000,1.8836],[1565654400000,1.3388],[1565740800000,2.9145],[1565827200000,1.3252],[1565913600000,1.451],[1566172800000,1.5674],[1566259200000,1.9643],[1566345600000,1.1133],[1566432000000,1.7472],[1566518400000,3.4359],[1566777600000,3.4729],[1566864000000,1.9442],[1566950400000,1.4943],[1567036800000,2.4704],[1567123200000,2.7005],[1567382400000,1.2563],[1567468800000,2.6747],[1567555200000,1.9998],[1567641600000,2.9605],[1567728000000,2.1523],[1567987200000,2.2599],[1568073600000,2.0352],[1568160000000,2.8821],[1568246400000,4.4677],[1568592000000,3.3076],[1568678400000,1.9011],[1568764800000,1.2241],[1568851200000,1.4776],[1568937600000,2.4227],[1569196800000,1.4569],[1569283200000,2.1257],[1569369600000,3.8214],[1569456000000,1.6045],[1569542400000,1.7249],[1569801600000,1.2889],[1570492800000,3.2065],[1570579200000,1.6405],[1570665600000,1.5846],[1570752000000,1.5667],[1571011200000,1.5164],[1571097600000,1.2706],[1571184000000,1.4702],[1571270400000,2.0177],[1571356800000,1.5409],[1571616000000,1.1206],[1571702400000,1.4454],[1571788800000,1.3613],[1571875200000,2.4855],[1571961600000,1.1606],[1572220800000,3.017],[1572307200000,1.5351],[1572393600000,2.5419],[1572480000000,1.5523],[1572566400000,1.4142],[1572825600000,1.432],[1572912000000,1.2295],[1572998400000,1.2507],[1573084800000,1.7033],[1573171200000,1.1938],[1573430400000,1.4567],[1573516800000,1.1116],[1573603200000,0.9022],[1573689600000,2.3829],[1573776000000,2.2895],[1574035200000,0.5605],[1574121600000,1.1207],[1574208000000,1.1983],[1574294400000,0.7316],[1574380800000,1.6314],[1574640000000,1.0492],[1574726400000,1.5548],[1574812800000,1.868],[1574899200000,0.9081],[1574985600000,1.7329],[1575244800000,0.8263],[1575331200000,0.734],[1575417600000,0.7294],[1575504000000,1.213],[1575590400000,1.3842],[1575849600000,2.0814],[1575936000000,1.4882],[1576022400000,3.5895],[1576108800000,2.2155],[1576195200000,2.2512],[1576454400000,3.4641],[1576540800000,2.4941],[1576627200000,2.8854],[1576713600000,2.3854],[1576800000000,2.1734],[1577059200000,2.1636],[1577145600000,1.5085],[1577232000000,1.5597],[1577318400000,2.0111],[1577404800000,2.3257],[1577664000000,1.3061],[1577750400000,2.0756],[1577923200000,1.6016],[1578009600000,2.5507],[1578268800000,5.0367],[1578355200000,4.5264],[1578441600000,2.2417],[1578528000000,2.6454],[1578614400000,3.3375],[1578873600000,2.3435],[1578960000000,2.1611],[1579046400000,2.1146],[1579132800000,1.851],[1579219200000,1.1662],[1579478400000,1.4673],[1579564800000,2.0555],[1579651200000,2.8813],[1579737600000,2.0987],[1580688000000,3.233],[1580774400000,3.1283],[1580860800000,2.0899],[1580947200000,2.5548],[1581033600000,2.2381],[1581292800000,2.6921],[1581379200000,2.3427],[1581465600000,3.4985],[1581552000000,2.5218],[1581638400000,2.1877],[1581897600000,2.6367],[1581984000000,3.5986],[1582070400000,3.765],[1582156800000,3.7044],[1582243200000,6.1391],[1582502400000,2.7136],[1582588800000,4.7496],[1582675200000,2.1238],[1582761600000,3.2556],[1582848000000,3.9869],[1583107200000,2.6891],[1583193600000,4.2203],[1583280000000,2.6923],[1583452800000,null],[1583712000000,4.7059],[1583798400000,3.2894],[1583884800000,2.6733],[1583971200000,2.4859],[1584057600000,3.2413],[1584316800000,2.2694],[1584403200000,1.9082],[1584489600000,2.5643],[1584576000000,3.3943],[1584662400000,1.9968],[1584921600000,2.3186],[1585008000000,2.0917],[1585094400000,3.9409],[1585180800000,1.8245],[1585267200000,2.1871],[1585526400000,2.5578],[1585612800000,1.7273],[1585699200000,2.504],[1585785600000,1.4019],[1585872000000,0.9924],[1586217600000,1.8359],[1586304000000,2.1104],[1586390400000,2.856],[1586476800000,1.1735],[1586736000000,1.6244],[1586822400000,1.8524],[1586908800000,1.8771],[1586995200000,2.9974],[1587081600000,1.7481],[1587340800000,2.0131],[1587427200000,2.4443],[1587513600000,1.357],[1587600000000,1.786],[1587686400000,1.469],[1587945600000,1.8323],[1588032000000,2.9158],[1588118400000,2.1364],[1588204800000,3.1658],[1588723200000,2.3967],[1588809600000,2.1771],[1588896000000,3.0291],[1589155200000,1.3055],[1589241600000,2.3047],[1589328000000,1.7165],[1589414400000,0.9978],[1589500800000,2.1503],[1589760000000,2.3268],[1589846400000,2.1817],[1589932800000,2.0867],[1590019200000,0.722],[1590105600000,2.8541],[1590364800000,1.8634],[1590451200000,1.4455],[1590537600000,1.1117],[1590624000000,2.6809],[1590710400000,3.2231],[1590969600000,3.7064],[1591056000000,2.4655],[1591142400000,1.6648],[1591228800000,2.127],[1591315200000,2.2886],[1591574400000,2.4659],[1591660800000,1.9532],[1591747200000,1.2499],[1591833600000,2.0562],[1591920000000,2.7255],[1592179200000,1.7665],[1592265600000,2.2827],[1592352000000,2.8604],[1592438400000,2.088],[1592524800000,3.5184],[1592784000000,3.1182],[1592870400000,3.4311],[1592956800000,1.5771],[1593388800000,1.5477],[1593475200000,1.8208],[1593561600000,2.4038],[1593648000000,3.4267],[1593734400000,1.9562],[1593993600000,5.1694],[1594080000000,5.1198],[1594166400000,3.5592],[1594252800000,4.5499],[1594339200000,4.6203],[1594598400000,4.6658],[1594684800000,4.8616],[1594771200000,2.5883],[1594857600000,3.9877],[1594944000000,2.5365],[1595203200000,3.1079],[1595289600000,2.1173],[1595376000000,2.3565],[1595462400000,3.1162],[1595548800000,2.72],[1595808000000,2.1805],[1595894400000,2.0571],[1595980800000,1.7698],[1596067200000,4.694],[1596153600000,2.5425],[1596412800000,3.9406],[1596499200000,3.32],[1596585600000,2.1947],[1596672000000,3.5773],[1596758400000,3.9151],[1597017600000,2.4388],[1597104000000,4.0985],[1597190400000,2.4567],[1597276800000,2.0506],[1597363200000,1.2973],[1597622400000,3.4071],[1597708800000,2.3838],[1597795200000,2.7],[1597881600000,2.3963],[1597968000000,2.5832],[1598227200000,3.0951],[1598313600000,2.9919],[1598400000000,4.3571],[1598486400000,2.0012],[1598572800000,2.1059],[1598832000000,2.3625],[1598918400000,2.1096],[1599004800000,2.1062],[1599091200000,4.7799],[1599177600000,2.7285],[1599436800000,2.0639],[1599523200000,3.7422],[1599609600000,2.9625],[1599696000000,2.4346],[1599782400000,2.4806],[1600041600000,2.5139],[1600128000000,2.9516],[1600214400000,1.2088],[1600300800000,3.1093],[1600387200000,1.6389],[1600646400000,1.4785],[1600732800000,0.9391],[1600819200000,1.4338],[1600905600000,1.1359],[1600992000000,1.1051],[1601251200000,1.5273],[1601337600000,1.9612],[1601424000000,1.6102],[1602201600000,2.1534],[1602460800000,2.8851],[1602547200000,2.7125],[1602633600000,2.7947],[1602720000000,1.2423],[1602806400000,1.7491],[1603065600000,2.632],[1603152000000,1.3267],[1603238400000,1.209],[1603324800000,3.022],[1603411200000,1.9112],[1603670400000,2.0837],[1603756800000,1.796],[1603843200000,3.0024],[1603929600000,2.387],[1604016000000,2.9082],[1604275200000,2.7631],[1604361600000,2.2932],[1604448000000,2.6952]],\"color\":\"#E06681\"},{\"name\":\"4\\u5206\\u4f4d\\u6570\",\"yAxis\":0,\"data\":[[1476144000000,null],[1476230400000,2.4427],[1476316800000,3.5107],[1476403200000,1.7466],[1476662400000,3.1001],[1476748800000,2.6588],[1476835200000,3.4742],[1476921600000,2.3597],[1477008000000,4.0033],[1477267200000,3.8991],[1477353600000,2.0469],[1477440000000,2.627],[1477526400000,2.6723],[1477612800000,3.4803],[1477872000000,2.9398],[1477958400000,2.4457],[1478044800000,2.2155],[1478131200000,3.6926],[1478217600000,5.4592],[1478476800000,2.2474],[1478563200000,3.2538],[1478649600000,2.4208],[1478736000000,6.8221],[1478822400000,3.5574],[1479081600000,2.8685],[1479168000000,2.249],[1479254400000,1.9325],[1479340800000,2.2484],[1479427200000,5.0577],[1479686400000,5.0835],[1479772800000,6.4299],[1479859200000,3.4142],[1479945600000,1.9534],[1480032000000,3.7945],[1480291200000,3.4534],[1480377600000,2.0884],[1480464000000,2.8959],[1480550400000,2.2186],[1480636800000,2.5566],[1480896000000,2.7208],[1480982400000,1.4193],[1481068800000,2.0365],[1481155200000,2.0822],[1481241600000,2.0893],[1481500800000,4.257],[1481587200000,1.8828],[1481673600000,1.7103],[1481760000000,1.8504],[1481846400000,3.5438],[1482105600000,2.1285],[1482192000000,1.3412],[1482278400000,2.2346],[1482364800000,1.5814],[1482451200000,1.4441],[1482710400000,2.8418],[1482796800000,1.1809],[1482883200000,1.5746],[1482969600000,2.4595],[1483056000000,2.0614],[1483401600000,1.4275],[1483488000000,1.9176],[1483574400000,2.1366],[1483660800000,1.9328],[1483920000000,2.8746],[1484006400000,2.5579],[1484092800000,1.7074],[1484179200000,1.9704],[1484265600000,1.5076],[1484524800000,2.6342],[1484611200000,2.5527],[1484697600000,1.8287],[1484784000000,1.3],[1484870400000,2.382],[1485129600000,1.7692],[1485216000000,1.6416],[1485302400000,1.0832],[1485388800000,1.5286],[1486080000000,1.0909],[1486339200000,1.8169],[1486425600000,1.8744],[1486512000000,2.2244],[1486598400000,4.1398],[1486684800000,2.3662],[1486944000000,1.5553],[1487030400000,1.7835],[1487116800000,3.8467],[1487203200000,4.7648],[1487289600000,2.7249],[1487548800000,2.1968],[1487635200000,2.9846],[1487721600000,2.0134],[1487808000000,2.6961],[1487894400000,4.7141],[1488153600000,3.5166],[1488240000000,2.3591],[1488326400000,3.0265],[1488412800000,2.3082],[1488499200000,2.8953],[1488758400000,1.5135],[1488844800000,2.674],[1488931200000,2.8904],[1489017600000,3.1102],[1489104000000,1.6519],[1489363200000,3.4506],[1489449600000,3.8091],[1489536000000,2.4411],[1489622400000,3.2752],[1489708800000,4.5525],[1489968000000,3.7447],[1490054400000,3.3462],[1490140800000,2.833],[1490227200000,5.5087],[1490313600000,5.2412],[1490572800000,2.7808],[1490659200000,1.4779],[1490745600000,2.8711],[1490832000000,4.0874],[1490918400000,2.123],[1491350400000,2.7544],[1491436800000,1.6004],[1491523200000,2.5521],[1491782400000,2.2538],[1491868800000,3.7168],[1491955200000,3.2669],[1492041600000,1.2092],[1492128000000,2.6753],[1492387200000,2.8095],[1492473600000,1.7108],[1492560000000,2.4559],[1492646400000,1.2749],[1492732800000,2.309],[1492992000000,2.2304],[1493078400000,1.3296],[1493164800000,3.591],[1493251200000,2.5948],[1493337600000,4.6342],[1493683200000,1.5869],[1493769600000,1.3277],[1493856000000,3.2655],[1493942400000,2.7017],[1494201600000,2.1976],[1494288000000,2.105],[1494374400000,2.8608],[1494460800000,1.5449],[1494547200000,1.1132],[1494806400000,2.1238],[1494892800000,1.513],[1494979200000,5.2627],[1495065600000,2.2863],[1495152000000,1.6908],[1495411200000,3.4526],[1495497600000,2.7217],[1495584000000,1.9003],[1495670400000,2.6396],[1495756800000,2.4078],[1496188800000,2.0278],[1496275200000,2.1703],[1496361600000,1.8989],[1496620800000,1.6258],[1496707200000,1.8862],[1496793600000,1.3729],[1496880000000,2.5622],[1496966400000,1.6563],[1497225600000,2.9775],[1497312000000,2.6545],[1497398400000,2.5905],[1497484800000,2.6877],[1497571200000,1.9476],[1497830400000,1.008],[1497916800000,1.0044],[1498003200000,2.1268],[1498089600000,3.4102],[1498176000000,2.1708],[1498435200000,1.6144],[1498521600000,1.1825],[1498608000000,1.7954],[1498694400000,2.1874],[1498780800000,1.3351],[1499040000000,3.1684],[1499126400000,1.5631],[1499212800000,2.1363],[1499299200000,3.2385],[1499385600000,3.2249],[1499644800000,5.0587],[1499731200000,1.4584],[1499817600000,3.8955],[1499904000000,1.2562],[1499990400000,2.0007],[1500249600000,2.3902],[1500336000000,1.0647],[1500422400000,2.2748],[1500508800000,1.7962],[1500595200000,1.8663],[1500854400000,2.7068],[1500940800000,1.9591],[1501027200000,1.5989],[1501113600000,3.8739],[1501200000000,2.1954],[1501459200000,1.5509],[1501545600000,3.0923],[1501632000000,2.5898],[1501718400000,3.0443],[1501804800000,2.2903],[1502064000000,1.611],[1502150400000,3.5646],[1502236800000,1.9391],[1502323200000,2.0191],[1502409600000,3.4647],[1502668800000,1.5721],[1502755200000,2.3221],[1502841600000,2.7649],[1502928000000,3.15],[1503014400000,1.8115],[1503273600000,1.3863],[1503360000000,2.0411],[1503446400000,3.9251],[1503532800000,2.1575],[1503619200000,3.6451],[1503878400000,3.3772],[1503964800000,2.7381],[1504051200000,2.0234],[1504137600000,4.03],[1504224000000,4.1679],[1504483200000,2.847],[1504569600000,2.0773],[1504656000000,1.558],[1504742400000,3.7106],[1504828800000,3.0027],[1505088000000,3.5628],[1505174400000,4.1287],[1505260800000,2.7127],[1505347200000,4.2042],[1505433600000,2.8097],[1505692800000,2.4858],[1505779200000,1.4802],[1505865600000,2.7853],[1505952000000,5.114],[1506038400000,3.1648],[1506297600000,1.3082],[1506384000000,2.9733],[1506470400000,1.3366],[1506556800000,1.6715],[1506643200000,2.1459],[1507507200000,1.8597],[1507593600000,2.3501],[1507680000000,3.3074],[1507766400000,2.1732],[1507852800000,3.7959],[1508112000000,4.118],[1508198400000,2.9891],[1508284800000,1.477],[1508371200000,2.6081],[1508457600000,1.7361],[1508716800000,2.0785],[1508803200000,2.023],[1508889600000,2.4564],[1508976000000,2.8703],[1509062400000,2.3605],[1509321600000,1.7712],[1509408000000,1.0978],[1509494400000,1.9433],[1509580800000,1.4551],[1509667200000,3.4471],[1509926400000,1.7203],[1510012800000,3.7466],[1510099200000,3.1192],[1510185600000,2.4343],[1510272000000,1.1757],[1510531200000,2.712],[1510617600000,3.5934],[1510704000000,3.9406],[1510790400000,2.2178],[1510876800000,4.3964],[1511136000000,1.6583],[1511222400000,1.7481],[1511308800000,2.0567],[1511395200000,2.2613],[1511481600000,2.5569],[1511740800000,1.5624],[1511827200000,1.6124],[1511913600000,1.3116],[1512000000000,1.573],[1512086400000,1.3916],[1512345600000,1.7678],[1512432000000,1.4767],[1512518400000,2.1118],[1512604800000,1.2221],[1512691200000,1.7097],[1512950400000,1.674],[1513036800000,1.2207],[1513123200000,1.7945],[1513209600000,1.3332],[1513296000000,1.8631],[1513555200000,1.9487],[1513641600000,2.1392],[1513728000000,1.3616],[1513814400000,2.1338],[1513900800000,1.1737],[1514160000000,1.4888],[1514246400000,1.7801],[1514332800000,4.4885],[1514419200000,2.2246],[1514505600000,1.8573],[1514851200000,1.0347],[1514937600000,1.416],[1515024000000,2.403],[1515110400000,1.2951],[1515369600000,1.3633],[1515456000000,1.9438],[1515542400000,2.5616],[1515628800000,2.2112],[1515715200000,2.4677],[1515974400000,1.8498],[1516060800000,1.2357],[1516147200000,1.2438],[1516233600000,2.8499],[1516320000000,1.0406],[1516579200000,1.7636],[1516665600000,3.0009],[1516752000000,1.4127],[1516838400000,2.2241],[1516924800000,2.4565],[1517184000000,3.6694],[1517270400000,2.2379],[1517356800000,2.0709],[1517443200000,2.4617],[1517529600000,1.4013],[1517788800000,1.1959],[1517875200000,1.4166],[1517961600000,1.6229],[1518048000000,1.1165],[1518134400000,1.2847],[1518393600000,0.8878],[1518480000000,1.4656],[1518566400000,0.9387],[1519257600000,2.8485],[1519344000000,1.3622],[1519603200000,1.72],[1519689600000,1.6664],[1519776000000,1.9578],[1519862400000,2.8293],[1519948800000,1.5889],[1520208000000,1.7011],[1520294400000,2.2456],[1520380800000,1.503],[1520467200000,0.9782],[1520553600000,5.645],[1520812800000,2.9765],[1520899200000,2.4465],[1520985600000,1.5207],[1521072000000,2.3779],[1521158400000,1.0738],[1521417600000,1.7488],[1521504000000,4.0866],[1521590400000,4.866],[1521676800000,2.4078],[1521763200000,2.5614],[1522022400000,1.2457],[1522108800000,2.3386],[1522195200000,3.0419],[1522281600000,3.441],[1522368000000,2.6429],[1522627200000,3.1331],[1522713600000,2.5716],[1522800000000,1.0117],[1523232000000,3.1737],[1523318400000,1.1429],[1523404800000,3.0025],[1523491200000,1.8131],[1523577600000,2.8607],[1523836800000,3.5151],[1523923200000,2.4145],[1524009600000,2.7452],[1524096000000,1.448],[1524182400000,1.6678],[1524441600000,2.1916],[1524528000000,2.2066],[1524614400000,2.2805],[1524700800000,2.0736],[1524787200000,3.1253],[1525219200000,2.0484],[1525305600000,1.2722],[1525392000000,3.0331],[1525651200000,1.5875],[1525737600000,2.5791],[1525824000000,2.2834],[1525910400000,2.2159],[1525996800000,2.1198],[1526256000000,2.9811],[1526342400000,2.2496],[1526428800000,3.8538],[1526515200000,1.8045],[1526601600000,3.0865],[1526860800000,3.3787],[1526947200000,2.7253],[1527033600000,2.4196],[1527120000000,3.61],[1527206400000,1.6573],[1527465600000,4.2856],[1527552000000,0.976],[1527638400000,1.8439],[1527724800000,1.4487],[1527811200000,3.0486],[1528070400000,1.5455],[1528156800000,2.3577],[1528243200000,1.5665],[1528329600000,1.3407],[1528416000000,1.4122],[1528675200000,0.8089],[1528761600000,1.0266],[1528848000000,1.6138],[1528934400000,1.6011],[1529020800000,1.5605],[1529366400000,2.7133],[1529452800000,1.1752],[1529539200000,1.2225],[1529625600000,1.7445],[1529884800000,0.9027],[1529971200000,1.5346],[1530057600000,0.6232],[1530144000000,2.0382],[1530230400000,2.6047],[1530489600000,1.969],[1530576000000,1.4773],[1530662400000,2.535],[1530748800000,0.8593],[1530835200000,1.8228],[1531094400000,0.6623],[1531180800000,1.1789],[1531267200000,1.9668],[1531353600000,1.5901],[1531440000000,1.8369],[1531699200000,1.1237],[1531785600000,3.1564],[1531872000000,1.9737],[1531958400000,1.1663],[1532044800000,1.862],[1532304000000,2.8569],[1532390400000,1.8483],[1532476800000,2.0231],[1532563200000,1.4017],[1532649600000,1.637],[1532908800000,3.1688],[1532995200000,1.5275],[1533081600000,3.0631],[1533168000000,2.0424],[1533254400000,0.7909],[1533513600000,2.4345],[1533600000000,2.0007],[1533686400000,1.6656],[1533772800000,1.3094],[1533859200000,1.9873],[1534118400000,1.191],[1534204800000,0.8314],[1534291200000,1.2596],[1534377600000,2.0619],[1534464000000,0.8514],[1534723200000,1.3602],[1534809600000,1.0252],[1534896000000,1.001],[1534982400000,0.9728],[1535068800000,2.2445],[1535328000000,1.684],[1535414400000,1.3535],[1535500800000,1.0062],[1535587200000,2.4739],[1535673600000,1.5362],[1535932800000,1.0514],[1536019200000,1.6518],[1536105600000,0.8563],[1536192000000,1.4533],[1536278400000,0.8244],[1536537600000,1.4095],[1536624000000,0.879],[1536710400000,1.0285],[1536796800000,1.2543],[1536883200000,1.3536],[1537142400000,0.6951],[1537228800000,1.5143],[1537315200000,2.4782],[1537401600000,1.3041],[1537488000000,1.1024],[1537833600000,0.7895],[1537920000000,1.077],[1538006400000,1.5846],[1538092800000,1.9104],[1538956800000,2.2093],[1539043200000,0.8668],[1539129600000,0.8816],[1539216000000,1.9449],[1539302400000,1.0768],[1539561600000,1.1383],[1539648000000,1.1714],[1539734400000,0.7852],[1539820800000,2.2519],[1539907200000,0.9675],[1540166400000,1.3795],[1540252800000,2.0164],[1540339200000,0.8973],[1540425600000,1.5542],[1540512000000,1.1945],[1540771200000,1.0694],[1540857600000,2.263],[1540944000000,3.3565],[1541030400000,1.9846],[1541116800000,2.3001],[1541376000000,2.0799],[1541462400000,1.8109],[1541548800000,3.6477],[1541635200000,1.2529],[1541721600000,2.3906],[1541980800000,1.6844],[1542067200000,3.4619],[1542153600000,2.5798],[1542240000000,1.9213],[1542326400000,2.8625],[1542585600000,2.1377],[1542672000000,1.4508],[1542758400000,2.6169],[1542844800000,1.2346],[1542931200000,1.7778],[1543190400000,0.8454],[1543276800000,1.3996],[1543363200000,1.4638],[1543449600000,3.0509],[1543536000000,1.7117],[1543795200000,2.099],[1543881600000,2.01],[1543968000000,1.5669],[1544054400000,2.0614],[1544140800000,1.5218],[1544400000000,1.7394],[1544486400000,1.1554],[1544572800000,1.8447],[1544659200000,1.4094],[1544745600000,1.7885],[1545004800000,1.4239],[1545091200000,0.8436],[1545177600000,1.6757],[1545264000000,1.6736],[1545350400000,0.583],[1545609600000,2.7817],[1545696000000,2.0686],[1545782400000,2.1942],[1545868800000,1.3057],[1545955200000,0.7386],[1546387200000,0.9611],[1546473600000,1.0834],[1546560000000,2.3308],[1546819200000,2.3162],[1546905600000,1.7109],[1546992000000,1.3817],[1547078400000,1.7812],[1547164800000,2.6169],[1547424000000,1.8259],[1547510400000,1.063],[1547596800000,1.8639],[1547683200000,1.1674],[1547769600000,2.0977],[1548028800000,1.7453],[1548115200000,1.0833],[1548201600000,2.9613],[1548288000000,1.1722],[1548374400000,1.9092],[1548633600000,1.0946],[1548720000000,2.1057],[1548806400000,0.9861],[1548892800000,2.4856],[1548979200000,1.7269],[1549843200000,1.4659],[1549929600000,1.9179],[1550016000000,2.3317],[1550102400000,2.1526],[1550188800000,1.6155],[1550448000000,2.8225],[1550534400000,3.3819],[1550620800000,2.4133],[1550707200000,4.739],[1550793600000,3.0334],[1551052800000,5.7376],[1551139200000,4.7647],[1551225600000,3.5699],[1551312000000,4.0917],[1551398400000,4.4059],[1551657600000,4.2108],[1551744000000,4.7686],[1551830400000,5.0029],[1551916800000,5.7338],[1552003200000,5.0994],[1552262400000,2.7123],[1552348800000,4.7522],[1552435200000,3.9688],[1552521600000,4.8315],[1552608000000,3.413],[1552867200000,3.9925],[1552953600000,2.9201],[1553040000000,3.0842],[1553126400000,4.7165],[1553212800000,3.4476],[1553472000000,3.8819],[1553558400000,3.9247],[1553644800000,3.2077],[1553731200000,2.2007],[1553817600000,3.923],[1554076800000,4.5412],[1554163200000,4.3671],[1554249600000,3.2566],[1554336000000,4.4391],[1554681600000,2.5792],[1554768000000,3.2133],[1554854400000,3.1655],[1554940800000,3.8561],[1555027200000,2.4756],[1555286400000,2.5584],[1555372800000,3.2343],[1555459200000,1.793],[1555545600000,2.7278],[1555632000000,3.5657],[1555891200000,3.544],[1555977600000,2.8287],[1556064000000,1.716],[1556150400000,2.7821],[1556236800000,4.4182],[1556496000000,1.9461],[1556582400000,1.7067],[1557100800000,3.6083],[1557187200000,1.3496],[1557273600000,1.6355],[1557360000000,1.7519],[1557446400000,2.6049],[1557705600000,1.7067],[1557792000000,1.428],[1557878400000,2.3695],[1557964800000,2.1522],[1558051200000,2.0392],[1558310400000,2.3586],[1558396800000,1.359],[1558483200000,1.6184],[1558569600000,1.7417],[1558656000000,0.9982],[1558915200000,1.4709],[1559001600000,1.8766],[1559088000000,1.8043],[1559174400000,2.8812],[1559260800000,2.4987],[1559520000000,2.3265],[1559606400000,2.3214],[1559692800000,0.9055],[1559779200000,1.1824],[1560124800000,1.0075],[1560211200000,2.3099],[1560297600000,2.7371],[1560384000000,1.5489],[1560470400000,2.0855],[1560729600000,0.8276],[1560816000000,2.042],[1560902400000,2.0432],[1560988800000,2.5622],[1561075200000,3.4848],[1561334400000,1.8572],[1561420800000,3.3512],[1561507200000,1.2327],[1561593600000,2.0993],[1561680000000,1.5762],[1561939200000,2.0869],[1562025600000,2.0552],[1562112000000,1.5085],[1562198400000,2.4563],[1562284800000,2.133],[1562544000000,2.2386],[1562630400000,0.8205],[1562716800000,1.1899],[1562803200000,2.256],[1562889600000,1.4734],[1563148800000,3.2809],[1563235200000,2.4904],[1563321600000,1.2813],[1563408000000,1.885],[1563494400000,0.9608],[1563753600000,1.2257],[1563840000000,0.9759],[1563926400000,1.9517],[1564012800000,2.7136],[1564099200000,2.8296],[1564358400000,1.7426],[1564444800000,2.1571],[1564531200000,1.2125],[1564617600000,1.7726],[1564704000000,2.6429],[1564963200000,0.8261],[1565049600000,3.6663],[1565136000000,0.8055],[1565222400000,1.6924],[1565308800000,1.8513],[1565568000000,2.1396],[1565654400000,0.9988],[1565740800000,1.2326],[1565827200000,1.609],[1565913600000,1.2011],[1566172800000,2.3098],[1566259200000,2.41],[1566345600000,1.7759],[1566432000000,3.1831],[1566518400000,1.9617],[1566777600000,1.1944],[1566864000000,1.8089],[1566950400000,2.1722],[1567036800000,1.3352],[1567123200000,2.6948],[1567382400000,4.0141],[1567468800000,3.4246],[1567555200000,2.3632],[1567641600000,2.8203],[1567728000000,2.9308],[1567987200000,3.7967],[1568073600000,2.9057],[1568160000000,2.4279],[1568246400000,1.2219],[1568592000000,3.573],[1568678400000,2.5808],[1568764800000,1.1676],[1568851200000,1.2779],[1568937600000,3.3149],[1569196800000,1.8905],[1569283200000,1.7276],[1569369600000,2.7183],[1569456000000,1.3199],[1569542400000,1.4895],[1569801600000,1.1801],[1570492800000,1.1942],[1570579200000,2.352],[1570665600000,2.3507],[1570752000000,2.0171],[1571011200000,1.6018],[1571097600000,1.9756],[1571184000000,2.2492],[1571270400000,1.8443],[1571356800000,1.793],[1571616000000,2.7241],[1571702400000,1.1198],[1571788800000,1.708],[1571875200000,1.3464],[1571961600000,1.7466],[1572220800000,1.5227],[1572307200000,1.7861],[1572393600000,2.0443],[1572480000000,1.7363],[1572566400000,1.9542],[1572825600000,1.8971],[1572912000000,1.6403],[1572998400000,2.2605],[1573084800000,1.6723],[1573171200000,1.7654],[1573430400000,1.6817],[1573516800000,0.8988],[1573603200000,0.6534],[1573689600000,1.7216],[1573776000000,2.212],[1574035200000,2.6069],[1574121600000,1.4592],[1574208000000,1.7375],[1574294400000,1.749],[1574380800000,1.6116],[1574640000000,1.5737],[1574726400000,2.7555],[1574812800000,0.6832],[1574899200000,1.9006],[1574985600000,1.9955],[1575244800000,1.9896],[1575331200000,1.341],[1575417600000,1.7107],[1575504000000,1.3953],[1575590400000,1.5905],[1575849600000,1.8158],[1575936000000,1.5195],[1576022400000,2.0874],[1576108800000,2.9106],[1576195200000,2.3528],[1576454400000,3.3337],[1576540800000,3.0292],[1576627200000,2.2829],[1576713600000,3.6861],[1576800000000,1.5546],[1577059200000,3.2236],[1577145600000,1.6415],[1577232000000,1.7056],[1577318400000,1.7863],[1577404800000,3.4117],[1577664000000,2.1045],[1577750400000,2.6749],[1577923200000,2.2241],[1578009600000,3.0254],[1578268800000,2.7965],[1578355200000,2.1497],[1578441600000,2.675],[1578528000000,3.6068],[1578614400000,2.5968],[1578873600000,3.094],[1578960000000,3.4181],[1579046400000,2.739],[1579132800000,1.3812],[1579219200000,3.2251],[1579478400000,2.7562],[1579564800000,3.0587],[1579651200000,3.0882],[1579737600000,1.5564],[1580688000000,6.5682],[1580774400000,3.7035],[1580860800000,6.7182],[1580947200000,2.5345],[1581033600000,3.0698],[1581292800000,2.2053],[1581379200000,2.449],[1581465600000,3.707],[1581552000000,4.1205],[1581638400000,1.4685],[1581897600000,2.4094],[1581984000000,5.6141],[1582070400000,4.4704],[1582156800000,3.7178],[1582243200000,2.2565],[1582502400000,3.9418],[1582588800000,6.7339],[1582675200000,4.7052],[1582761600000,2.6472],[1582848000000,5.7759],[1583107200000,2.556],[1583193600000,4.7465],[1583280000000,3.2824],[1583452800000,null],[1583712000000,4.8823],[1583798400000,3.8399],[1583884800000,2.2558],[1583971200000,2.9833],[1584057600000,2.9049],[1584316800000,1.6353],[1584403200000,2.6764],[1584489600000,2.4028],[1584576000000,2.6083],[1584662400000,1.7211],[1584921600000,2.2906],[1585008000000,2.3174],[1585094400000,1.7304],[1585180800000,2.4642],[1585267200000,3.1753],[1585526400000,2.917],[1585612800000,1.624],[1585699200000,1.8857],[1585785600000,2.9567],[1585872000000,3.0855],[1586217600000,2.7669],[1586304000000,2.8936],[1586390400000,2.8979],[1586476800000,2.2497],[1586736000000,2.1637],[1586822400000,2.2875],[1586908800000,2.2019],[1586995200000,2.2691],[1587081600000,1.6248],[1587340800000,2.0311],[1587427200000,3.2521],[1587513600000,3.9723],[1587600000000,3.2146],[1587686400000,2.5956],[1587945600000,2.2008],[1588032000000,1.9406],[1588118400000,2.2576],[1588204800000,2.4931],[1588723200000,2.3079],[1588809600000,1.6716],[1588896000000,4.589],[1589155200000,2.1724],[1589241600000,1.7191],[1589328000000,1.5209],[1589414400000,4.1192],[1589500800000,3.413],[1589760000000,3.2221],[1589846400000,2.942],[1589932800000,1.5765],[1590019200000,4.7893],[1590105600000,3.1468],[1590364800000,1.5998],[1590451200000,1.9833],[1590537600000,1.646],[1590624000000,2.5118],[1590710400000,2.5498],[1590969600000,3.0449],[1591056000000,2.9419],[1591142400000,2.3201],[1591228800000,1.9719],[1591315200000,2.6785],[1591574400000,2.6209],[1591660800000,2.1994],[1591747200000,2.1874],[1591833600000,1.6483],[1591920000000,3.6785],[1592179200000,1.5828],[1592265600000,2.6717],[1592352000000,2.2366],[1592438400000,2.4947],[1592524800000,1.7813],[1592784000000,1.8038],[1592870400000,2.8808],[1592956800000,2.0018],[1593388800000,2.8736],[1593475200000,2.6695],[1593561600000,1.535],[1593648000000,5.1678],[1593734400000,2.8155],[1593993600000,4.2368],[1594080000000,5.2569],[1594166400000,4.1955],[1594252800000,5.085],[1594339200000,5.3779],[1594598400000,4.9413],[1594684800000,4.6013],[1594771200000,3.962],[1594857600000,5.007],[1594944000000,2.8863],[1595203200000,2.9532],[1595289600000,2.5955],[1595376000000,2.8955],[1595462400000,4.2028],[1595548800000,3.3821],[1595808000000,3.2121],[1595894400000,2.0529],[1595980800000,2.3331],[1596067200000,3.2046],[1596153600000,3.1524],[1596412800000,4.2201],[1596499200000,3.4733],[1596585600000,3.0685],[1596672000000,2.8165],[1596758400000,2.8338],[1597017600000,2.5374],[1597104000000,2.59],[1597190400000,3.2334],[1597276800000,2.0582],[1597363200000,1.9589],[1597622400000,3.0648],[1597708800000,2.892],[1597795200000,2.9984],[1597881600000,2.8097],[1597968000000,2.6929],[1598227200000,2.9784],[1598313600000,2.9031],[1598400000000,3.0347],[1598486400000,2.6978],[1598572800000,2.1198],[1598832000000,2.7534],[1598918400000,2.5186],[1599004800000,2.5644],[1599091200000,3.147],[1599177600000,3.2223],[1599436800000,1.3039],[1599523200000,3.843],[1599609600000,2.6242],[1599696000000,3.709],[1599782400000,2.8157],[1600041600000,1.8707],[1600128000000,2.0068],[1600214400000,4.6353],[1600300800000,2.0476],[1600387200000,3.6488],[1600646400000,1.7041],[1600732800000,1.4481],[1600819200000,1.3901],[1600905600000,2.7193],[1600992000000,1.3389],[1601251200000,1.3079],[1601337600000,2.6804],[1601424000000,2.4172],[1602201600000,2.8036],[1602460800000,2.9494],[1602547200000,2.4731],[1602633600000,2.5538],[1602720000000,4.5651],[1602806400000,2.7438],[1603065600000,2.3901],[1603152000000,1.8365],[1603238400000,0.8137],[1603324800000,3.2236],[1603411200000,1.4966],[1603670400000,2.5712],[1603756800000,1.4229],[1603843200000,3.3308],[1603929600000,3.5672],[1604016000000,4.3884],[1604275200000,2.8405],[1604361600000,2.4269],[1604448000000,2.0802]],\"color\":\"#E2D269\"},{\"name\":\"5\\u5206\\u4f4d\\u6570\",\"yAxis\":0,\"data\":[[1476144000000,null],[1476230400000,2.7184],[1476316800000,1.9173],[1476403200000,3.4684],[1476662400000,2.6796],[1476748800000,2.9762],[1476835200000,2.573],[1476921600000,4.6568],[1477008000000,1.9523],[1477267200000,2.6313],[1477353600000,4.3253],[1477440000000,4.9458],[1477526400000,3.154],[1477612800000,3.6049],[1477872000000,2.3773],[1477958400000,3.512],[1478044800000,3.3096],[1478131200000,2.3472],[1478217600000,2.8546],[1478476800000,4.1489],[1478563200000,3.4279],[1478649600000,5.5326],[1478736000000,3.0071],[1478822400000,7.3852],[1479081600000,5.0427],[1479168000000,4.279],[1479254400000,4.3983],[1479340800000,3.5652],[1479427200000,3.1081],[1479686400000,3.072],[1479772800000,3.2],[1479859200000,3.7797],[1479945600000,4.5849],[1480032000000,3.7972],[1480291200000,3.1418],[1480377600000,4.0747],[1480464000000,2.7875],[1480550400000,2.9389],[1480636800000,1.8771],[1480896000000,2.0547],[1480982400000,2.5241],[1481068800000,1.742],[1481155200000,2.5238],[1481241600000,3.2671],[1481500800000,3.0072],[1481587200000,3.0657],[1481673600000,2.5229],[1481760000000,2.1937],[1481846400000,1.7444],[1482105600000,2.2896],[1482192000000,2.2296],[1482278400000,2.3018],[1482364800000,2.6829],[1482451200000,2.9289],[1482710400000,2.2357],[1482796800000,2.2991],[1482883200000,3.0475],[1482969600000,1.4917],[1483056000000,1.8041],[1483401600000,2.4263],[1483488000000,3.3103],[1483574400000,2.1601],[1483660800000,4.2569],[1483920000000,2.3703],[1484006400000,2.1176],[1484092800000,3.0734],[1484179200000,2.4006],[1484265600000,2.9023],[1484524800000,3.8481],[1484611200000,3.2584],[1484697600000,2.4564],[1484784000000,2.947],[1484870400000,2.3722],[1485129600000,2.2073],[1485216000000,3.0703],[1485302400000,1.6342],[1485388800000,1.9168],[1486080000000,2.227],[1486339200000,2.3054],[1486425600000,1.5793],[1486512000000,1.8054],[1486598400000,2.0458],[1486684800000,4.5545],[1486944000000,2.9037],[1487030400000,3.1806],[1487116800000,2.6783],[1487203200000,2.4639],[1487289600000,3.1829],[1487548800000,3.5258],[1487635200000,2.8378],[1487721600000,4.0958],[1487808000000,3.5079],[1487894400000,1.9594],[1488153600000,3.0534],[1488240000000,2.5978],[1488326400000,3.783],[1488412800000,3.7488],[1488499200000,3.2973],[1488758400000,4.2009],[1488844800000,5.0773],[1488931200000,4.5864],[1489017600000,3.0559],[1489104000000,3.7407],[1489363200000,2.8341],[1489449600000,3.4048],[1489536000000,5.3055],[1489622400000,4.068],[1489708800000,6.0474],[1489968000000,2.6152],[1490054400000,3.6122],[1490140800000,2.1692],[1490227200000,3.9444],[1490313600000,2.6101],[1490572800000,3.5247],[1490659200000,4.3571],[1490745600000,3.339],[1490832000000,3.4021],[1490918400000,3.1765],[1491350400000,2.8633],[1491436800000,3.1655],[1491523200000,2.5265],[1491782400000,3.8583],[1491868800000,3.9352],[1491955200000,3.1846],[1492041600000,2.7183],[1492128000000,2.5711],[1492387200000,2.2162],[1492473600000,2.2475],[1492560000000,2.4229],[1492646400000,3.9283],[1492732800000,1.4598],[1492992000000,1.7651],[1493078400000,2.4292],[1493164800000,2.122],[1493251200000,1.6582],[1493337600000,1.6297],[1493683200000,2.8347],[1493769600000,2.3909],[1493856000000,1.0937],[1493942400000,1.9796],[1494201600000,2.0856],[1494288000000,2.1902],[1494374400000,2.7482],[1494460800000,1.0462],[1494547200000,2.3091],[1494806400000,1.7062],[1494892800000,4.1697],[1494979200000,1.79],[1495065600000,4.2152],[1495152000000,2.4028],[1495411200000,2.4344],[1495497600000,2.4929],[1495584000000,2.3098],[1495670400000,2.791],[1495756800000,2.317],[1496188800000,4.5252],[1496275200000,2.5215],[1496361600000,2.2248],[1496620800000,2.114],[1496707200000,2.2967],[1496793600000,3.2009],[1496880000000,2.8706],[1496966400000,4.0345],[1497225600000,2.3741],[1497312000000,2.5299],[1497398400000,2.1679],[1497484800000,3.3231],[1497571200000,2.2177],[1497830400000,3.5374],[1497916800000,2.587],[1498003200000,3.5468],[1498089600000,2.8271],[1498176000000,3.2388],[1498435200000,3.4853],[1498521600000,3.0711],[1498608000000,3.3322],[1498694400000,2.1775],[1498780800000,2.5595],[1499040000000,2.1868],[1499126400000,3.4019],[1499212800000,2.4737],[1499299200000,1.7162],[1499385600000,3.6669],[1499644800000,1.9191],[1499731200000,3.2899],[1499817600000,2.2305],[1499904000000,3.0668],[1499990400000,2.3345],[1500249600000,2.702],[1500336000000,2.4058],[1500422400000,3.1127],[1500508800000,3.1266],[1500595200000,3.6865],[1500854400000,2.4155],[1500940800000,2.4579],[1501027200000,2.7497],[1501113600000,2.9173],[1501200000000,1.8053],[1501459200000,3.7098],[1501545600000,2.3745],[1501632000000,3.3683],[1501718400000,2.4025],[1501804800000,2.8132],[1502064000000,2.609],[1502150400000,2.4101],[1502236800000,2.1762],[1502323200000,3.32],[1502409600000,2.0442],[1502668800000,3.423],[1502755200000,3.0233],[1502841600000,3.1475],[1502928000000,2.3796],[1503014400000,4.133],[1503273600000,3.1143],[1503360000000,4.196],[1503446400000,1.2763],[1503532800000,3.539],[1503619200000,3.2936],[1503878400000,3.736],[1503964800000,2.9454],[1504051200000,1.2933],[1504137600000,2.5135],[1504224000000,1.8972],[1504483200000,3.7635],[1504569600000,3.1667],[1504656000000,4.3055],[1504742400000,3.4284],[1504828800000,2.35],[1505088000000,3.4541],[1505174400000,4.1418],[1505260800000,2.097],[1505347200000,3.4835],[1505433600000,2.4904],[1505692800000,3.0619],[1505779200000,3.4866],[1505865600000,3.2401],[1505952000000,2.0129],[1506038400000,2.3212],[1506297600000,3.9514],[1506384000000,2.6099],[1506470400000,2.667],[1506556800000,2.5137],[1506643200000,1.4584],[1507507200000,3.1272],[1507593600000,4.5738],[1507680000000,2.2854],[1507766400000,3.8965],[1507852800000,2.6487],[1508112000000,2.0395],[1508198400000,2.2582],[1508284800000,3.2414],[1508371200000,1.7568],[1508457600000,2.459],[1508716800000,2.4816],[1508803200000,3.6248],[1508889600000,2.2813],[1508976000000,2.4686],[1509062400000,3.0089],[1509321600000,3.8632],[1509408000000,3.1389],[1509494400000,3.4478],[1509580800000,0.9158],[1509667200000,2.5959],[1509926400000,3.0593],[1510012800000,2.1231],[1510099200000,3.4708],[1510185600000,2.8425],[1510272000000,3.6669],[1510531200000,2.2675],[1510617600000,2.6812],[1510704000000,2.4206],[1510790400000,3.08],[1510876800000,2.9805],[1511136000000,2.3591],[1511222400000,2.3232],[1511308800000,1.8585],[1511395200000,2.5457],[1511481600000,2.0751],[1511740800000,2.1229],[1511827200000,1.731],[1511913600000,2.7902],[1512000000000,1.2679],[1512086400000,2.262],[1512345600000,2.1058],[1512432000000,2.8388],[1512518400000,2.0243],[1512604800000,2.1948],[1512691200000,2.4607],[1512950400000,1.3689],[1513036800000,2.5883],[1513123200000,1.6875],[1513209600000,2.2567],[1513296000000,1.4051],[1513555200000,1.5551],[1513641600000,2.0337],[1513728000000,2.2679],[1513814400000,2.3533],[1513900800000,2.7468],[1514160000000,2.3729],[1514246400000,3.1135],[1514332800000,1.813],[1514419200000,2.192],[1514505600000,2.1901],[1514851200000,2.742],[1514937600000,3.8171],[1515024000000,2.812],[1515110400000,3.1079],[1515369600000,3.2413],[1515456000000,3.7002],[1515542400000,2.568],[1515628800000,2.5449],[1515715200000,2.3285],[1515974400000,4.1438],[1516060800000,3.7924],[1516147200000,4.5201],[1516233600000,1.5713],[1516320000000,3.6508],[1516579200000,2.9211],[1516665600000,2.057],[1516752000000,3.2358],[1516838400000,1.799],[1516924800000,2.8427],[1517184000000,2.0412],[1517270400000,2.2769],[1517356800000,3.1798],[1517443200000,2.8619],[1517529600000,3.1198],[1517788800000,1.567],[1517875200000,1.7483],[1517961600000,2.1939],[1518048000000,2.8187],[1518134400000,1.9517],[1518393600000,2.3312],[1518480000000,1.8382],[1518566400000,2.1156],[1519257600000,1.3485],[1519344000000,2.9346],[1519603200000,1.9714],[1519689600000,2.109],[1519776000000,2.9768],[1519862400000,2.362],[1519948800000,3.1287],[1520208000000,2.9242],[1520294400000,2.9667],[1520380800000,1.7909],[1520467200000,3.9511],[1520553600000,1.7911],[1520812800000,5.0066],[1520899200000,5.4949],[1520985600000,2.6519],[1521072000000,3.6205],[1521158400000,2.9778],[1521417600000,1.8509],[1521504000000,1.804],[1521590400000,1.8786],[1521676800000,4.7843],[1521763200000,3.3303],[1522022400000,3.4506],[1522108800000,3.5109],[1522195200000,3.6109],[1522281600000,2.4986],[1522368000000,3.3567],[1522627200000,5.0362],[1522713600000,3.9596],[1522800000000,4.7381],[1523232000000,3.3288],[1523318400000,4.5989],[1523404800000,4.386],[1523491200000,5.0059],[1523577600000,3.1046],[1523836800000,2.7651],[1523923200000,3.3557],[1524009600000,3.9183],[1524096000000,3.0558],[1524182400000,4.2234],[1524441600000,2.4561],[1524528000000,2.9757],[1524614400000,2.8664],[1524700800000,2.3513],[1524787200000,2.0942],[1525219200000,2.6193],[1525305600000,2.723],[1525392000000,1.8928],[1525651200000,4.1359],[1525737600000,3.0586],[1525824000000,4.3402],[1525910400000,3.6033],[1525996800000,3.5093],[1526256000000,3.1407],[1526342400000,2.8845],[1526428800000,2.0515],[1526515200000,2.6909],[1526601600000,2.6098],[1526860800000,3.2074],[1526947200000,5.6144],[1527033600000,1.2635],[1527120000000,2.5645],[1527206400000,3.5552],[1527465600000,2.0374],[1527552000000,3.5397],[1527638400000,2.6623],[1527724800000,2.859],[1527811200000,2.2981],[1528070400000,2.7633],[1528156800000,2.7119],[1528243200000,1.077],[1528329600000,1.3703],[1528416000000,2.7507],[1528675200000,2.4761],[1528761600000,3.3617],[1528848000000,2.8003],[1528934400000,2.0598],[1529020800000,2.7347],[1529366400000,2.1521],[1529452800000,2.7437],[1529539200000,2.8793],[1529625600000,1.9361],[1529884800000,1.8312],[1529971200000,3.6612],[1530057600000,3.3518],[1530144000000,2.7534],[1530230400000,1.7878],[1530489600000,1.7228],[1530576000000,3.847],[1530662400000,1.7201],[1530748800000,2.7149],[1530835200000,2.7837],[1531094400000,4.041],[1531180800000,3.6856],[1531267200000,3.4148],[1531353600000,3.2066],[1531440000000,1.9734],[1531699200000,3.5263],[1531785600000,1.8941],[1531872000000,2.5263],[1531958400000,3.9307],[1532044800000,2.6315],[1532304000000,2.5572],[1532390400000,3.7565],[1532476800000,4.1953],[1532563200000,3.6308],[1532649600000,1.8562],[1532908800000,1.9384],[1532995200000,2.0442],[1533081600000,2.0541],[1533168000000,1.9845],[1533254400000,2.0588],[1533513600000,1.6713],[1533600000000,2.4358],[1533686400000,1.4584],[1533772800000,3.613],[1533859200000,1.5386],[1534118400000,2.6892],[1534204800000,2.4569],[1534291200000,3.2212],[1534377600000,1.9186],[1534464000000,1.693],[1534723200000,1.7518],[1534809600000,1.8037],[1534896000000,2.12],[1534982400000,1.8642],[1535068800000,1.138],[1535328000000,1.8487],[1535414400000,3.1353],[1535500800000,2.6627],[1535587200000,1.6284],[1535673600000,1.7454],[1535932800000,1.7301],[1536019200000,1.8699],[1536105600000,2.5282],[1536192000000,1.8939],[1536278400000,2.4691],[1536537600000,1.4823],[1536624000000,1.817],[1536710400000,2.0444],[1536796800000,1.9117],[1536883200000,2.4035],[1537142400000,1.938],[1537228800000,2.2441],[1537315200000,1.6833],[1537401600000,2.6772],[1537488000000,2.211],[1537833600000,2.0145],[1537920000000,1.9116],[1538006400000,1.7128],[1538092800000,1.6681],[1538956800000,1.5285],[1539043200000,2.168],[1539129600000,2.6795],[1539216000000,1.1452],[1539302400000,2.9532],[1539561600000,1.9609],[1539648000000,1.8238],[1539734400000,2.5187],[1539820800000,1.0993],[1539907200000,2.0302],[1540166400000,3.2339],[1540252800000,3.5095],[1540339200000,3.5766],[1540425600000,2.5734],[1540512000000,3.0607],[1540771200000,3.0292],[1540857600000,2.1274],[1540944000000,1.5737],[1541030400000,4.556],[1541116800000,4.1507],[1541376000000,4.3363],[1541462400000,3.097],[1541548800000,1.8868],[1541635200000,3.0717],[1541721600000,1.9533],[1541980800000,3.0193],[1542067200000,3.0059],[1542153600000,4.2767],[1542240000000,6.0447],[1542326400000,2.0148],[1542585600000,4.6216],[1542672000000,3.1228],[1542758400000,2.1341],[1542844800000,2.5673],[1542931200000,3.7646],[1543190400000,2.7815],[1543276800000,2.2384],[1543363200000,2.4678],[1543449600000,1.8141],[1543536000000,2.7922],[1543795200000,2.7805],[1543881600000,3.5184],[1543968000000,2.5793],[1544054400000,2.5073],[1544140800000,1.8195],[1544400000000,2.0366],[1544486400000,2.2848],[1544572800000,1.3524],[1544659200000,3.2375],[1544745600000,1.8696],[1545004800000,2.2146],[1545091200000,1.9415],[1545177600000,0.8025],[1545264000000,1.6466],[1545350400000,2.6144],[1545609600000,0.9549],[1545696000000,1.0869],[1545782400000,1.9321],[1545868800000,3.2433],[1545955200000,2.5628],[1546387200000,1.7133],[1546473600000,1.8282],[1546560000000,1.7434],[1546819200000,2.2575],[1546905600000,3.0507],[1546992000000,3.2014],[1547078400000,2.8904],[1547164800000,2.2612],[1547424000000,1.8628],[1547510400000,2.6947],[1547596800000,2.1052],[1547683200000,3.3498],[1547769600000,2.2579],[1548028800000,2.5461],[1548115200000,2.8077],[1548201600000,1.4931],[1548288000000,3.0232],[1548374400000,1.9794],[1548633600000,2.2635],[1548720000000,2.4039],[1548806400000,2.1266],[1548892800000,1.6572],[1548979200000,1.439],[1549843200000,1.5538],[1549929600000,2.4564],[1550016000000,3.6468],[1550102400000,3.2785],[1550188800000,3.8706],[1550448000000,3.2805],[1550534400000,3.8044],[1550620800000,5.0621],[1550707200000,3.5098],[1550793600000,2.3551],[1551052800000,4.9455],[1551139200000,7.6387],[1551225600000,7.653],[1551312000000,3.5619],[1551398400000,3.468],[1551657600000,5.3317],[1551744000000,5.2374],[1551830400000,4.5569],[1551916800000,6.014],[1552003200000,5.7385],[1552262400000,6.3324],[1552348800000,5.6723],[1552435200000,7.0088],[1552521600000,4.0556],[1552608000000,4.3622],[1552867200000,4.0196],[1552953600000,4.623],[1553040000000,6.1116],[1553126400000,4.4747],[1553212800000,5.0943],[1553472000000,4.2126],[1553558400000,3.9517],[1553644800000,3.8541],[1553731200000,3.8332],[1553817600000,3.7161],[1554076800000,4.1035],[1554163200000,7.027],[1554249600000,4.8174],[1554336000000,4.6557],[1554681600000,3.2249],[1554768000000,6.0993],[1554854400000,3.9616],[1554940800000,3.7058],[1555027200000,4.037],[1555286400000,4.0675],[1555372800000,3.6542],[1555459200000,4.5817],[1555545600000,5.558],[1555632000000,3.5507],[1555891200000,3.571],[1555977600000,3.0591],[1556064000000,3.8608],[1556150400000,3.6746],[1556236800000,2.2808],[1556496000000,2.9368],[1556582400000,2.9557],[1557100800000,2.2057],[1557187200000,2.8781],[1557273600000,2.6422],[1557360000000,2.2265],[1557446400000,3.0192],[1557705600000,1.9559],[1557792000000,2.4392],[1557878400000,2.3145],[1557964800000,3.4529],[1558051200000,4.3625],[1558310400000,2.4021],[1558396800000,2.2576],[1558483200000,3.0394],[1558569600000,2.9319],[1558656000000,2.196],[1558915200000,2.5337],[1559001600000,1.8133],[1559088000000,4.7562],[1559174400000,2.4691],[1559260800000,2.9119],[1559520000000,2.9918],[1559606400000,2.2705],[1559692800000,2.6065],[1559779200000,2.722],[1560124800000,2.0645],[1560211200000,3.2221],[1560297600000,3.1474],[1560384000000,4.7002],[1560470400000,2.1804],[1560729600000,2.3976],[1560816000000,2.3916],[1560902400000,3.3169],[1560988800000,3.9273],[1561075200000,3.259],[1561334400000,4.8156],[1561420800000,2.5745],[1561507200000,3.0282],[1561593600000,3.0523],[1561680000000,4.1647],[1561939200000,3.8553],[1562025600000,5.0025],[1562112000000,4.0518],[1562198400000,2.8072],[1562284800000,2.4907],[1562544000000,2.8126],[1562630400000,3.6085],[1562716800000,2.397],[1562803200000,1.7487],[1562889600000,2.1442],[1563148800000,2.3103],[1563235200000,1.3027],[1563321600000,3.8322],[1563408000000,2.1556],[1563494400000,2.6172],[1563753600000,2.2751],[1563840000000,1.7979],[1563926400000,2.4416],[1564012800000,2.6522],[1564099200000,1.6539],[1564358400000,2.0215],[1564444800000,2.3787],[1564531200000,4.0871],[1564617600000,2.8644],[1564704000000,3.5789],[1564963200000,4.6591],[1565049600000,2.365],[1565136000000,4.1051],[1565222400000,1.9944],[1565308800000,1.954],[1565568000000,1.1134],[1565654400000,2.3771],[1565740800000,2.9711],[1565827200000,4.2321],[1565913600000,2.412],[1566172800000,5.6875],[1566259200000,3.9355],[1566345600000,4.8477],[1566432000000,2.3938],[1566518400000,2.399],[1566777600000,3.5029],[1566864000000,3.6208],[1566950400000,4.9839],[1567036800000,4.2897],[1567123200000,2.9689],[1567382400000,2.3614],[1567468800000,3.2049],[1567555200000,3.9705],[1567641600000,5.0122],[1567728000000,4.9879],[1567987200000,3.4615],[1568073600000,5.2047],[1568160000000,3.7389],[1568246400000,3.5419],[1568592000000,3.3597],[1568678400000,4.3939],[1568764800000,4.5448],[1568851200000,4.008],[1568937600000,2.3959],[1569196800000,4.0114],[1569283200000,3.5822],[1569369600000,1.9862],[1569456000000,3.7263],[1569542400000,2.6615],[1569801600000,2.2373],[1570492800000,2.0528],[1570579200000,1.7317],[1570665600000,1.9468],[1570752000000,3.0688],[1571011200000,3.6359],[1571097600000,3.7255],[1571184000000,2.5422],[1571270400000,2.3691],[1571356800000,2.4566],[1571616000000,1.955],[1571702400000,2.2303],[1571788800000,2.8153],[1571875200000,2.398],[1571961600000,2.3563],[1572220800000,3.4029],[1572307200000,3.0573],[1572393600000,2.1572],[1572480000000,2.6232],[1572566400000,2.2332],[1572825600000,2.428],[1572912000000,3.2815],[1572998400000,2.4744],[1573084800000,2.2646],[1573171200000,2.575],[1573430400000,2.9574],[1573516800000,2.4561],[1573603200000,2.4778],[1573689600000,1.9326],[1573776000000,0.9789],[1574035200000,1.1909],[1574121600000,2.264],[1574208000000,3.589],[1574294400000,4.0922],[1574380800000,2.4581],[1574640000000,2.8973],[1574726400000,1.5074],[1574812800000,2.2839],[1574899200000,1.8061],[1574985600000,0.8377],[1575244800000,1.3913],[1575331200000,2.8032],[1575417600000,1.6704],[1575504000000,2.9539],[1575590400000,2.3703],[1575849600000,2.2614],[1575936000000,3.7195],[1576022400000,1.8946],[1576108800000,1.7404],[1576195200000,2.1777],[1576454400000,2.4928],[1576540800000,3.4762],[1576627200000,2.0681],[1576713600000,5.0545],[1576800000000,1.0746],[1577059200000,4.8922],[1577145600000,3.0506],[1577232000000,3.1007],[1577318400000,1.4809],[1577404800000,5.4983],[1577664000000,4.639],[1577750400000,2.8203],[1577923200000,4.2224],[1578009600000,3.8661],[1578268800000,1.7565],[1578355200000,3.8882],[1578441600000,4.9632],[1578528000000,3.1114],[1578614400000,3.1052],[1578873600000,3.0041],[1578960000000,3.2275],[1579046400000,3.8904],[1579132800000,3.4075],[1579219200000,3.3606],[1579478400000,3.7409],[1579564800000,3.2833],[1579651200000,2.1972],[1579737600000,3.6209],[1580688000000,3.2826],[1580774400000,6.6098],[1580860800000,2.4807],[1580947200000,4.9407],[1581033600000,5.3636],[1581292800000,3.2436],[1581379200000,3.5363],[1581465600000,2.2743],[1581552000000,2.7537],[1581638400000,2.0712],[1581897600000,3.0585],[1581984000000,6.3123],[1582070400000,3.6501],[1582156800000,4.3997],[1582243200000,5.1582],[1582502400000,7.1108],[1582588800000,3.6338],[1582675200000,5.1305],[1582761600000,2.0261],[1582848000000,5.7616],[1583107200000,4.6887],[1583193600000,4.6806],[1583280000000,4.4384],[1583452800000,null],[1583712000000,4.2003],[1583798400000,5.2067],[1583884800000,4.6784],[1583971200000,4.1629],[1584057600000,4.1504],[1584316800000,4.0487],[1584403200000,5.1149],[1584489600000,3.0394],[1584576000000,2.2407],[1584662400000,3.2419],[1584921600000,2.5325],[1585008000000,3.9607],[1585094400000,4.0289],[1585180800000,4.4976],[1585267200000,2.8621],[1585526400000,3.4856],[1585612800000,2.7502],[1585699200000,3.3757],[1585785600000,2.4231],[1585872000000,2.0668],[1586217600000,5.2281],[1586304000000,4.8293],[1586390400000,2.7394],[1586476800000,4.8361],[1586736000000,2.9126],[1586822400000,2.9567],[1586908800000,3.546],[1586995200000,1.9151],[1587081600000,3.7792],[1587340800000,2.751],[1587427200000,2.6441],[1587513600000,1.8372],[1587600000000,2.753],[1587686400000,4.7208],[1587945600000,3.0708],[1588032000000,1.4459],[1588118400000,3.3623],[1588204800000,2.6312],[1588723200000,2.7725],[1588809600000,1.5473],[1588896000000,2.0456],[1589155200000,3.9482],[1589241600000,4.1747],[1589328000000,3.4828],[1589414400000,2.136],[1589500800000,1.9388],[1589760000000,2.7722],[1589846400000,2.9996],[1589932800000,4.0285],[1590019200000,2.2765],[1590105600000,2.9167],[1590364800000,2.8757],[1590451200000,3.3063],[1590537600000,3.7274],[1590624000000,2.4292],[1590710400000,3.23],[1590969600000,2.8896],[1591056000000,3.5608],[1591142400000,4.6393],[1591228800000,4.2697],[1591315200000,3.5373],[1591574400000,3.2036],[1591660800000,3.3187],[1591747200000,3.6625],[1591833600000,3.1137],[1591920000000,1.4977],[1592179200000,3.8389],[1592265600000,2.9939],[1592352000000,3.402],[1592438400000,3.2838],[1592524800000,3.4349],[1592784000000,3.6297],[1592870400000,2.0359],[1592956800000,3.2001],[1593388800000,3.1048],[1593475200000,3.1099],[1593561600000,1.316],[1593648000000,2.7781],[1593734400000,4.8707],[1593993600000,4.875],[1594080000000,5.4346],[1594166400000,4.3631],[1594252800000,5.7278],[1594339200000,5.5617],[1594598400000,5.2673],[1594684800000,5.4982],[1594771200000,7.2473],[1594857600000,4.2349],[1594944000000,4.2481],[1595203200000,4.0819],[1595289600000,4.3839],[1595376000000,4.8932],[1595462400000,3.1741],[1595548800000,4.8516],[1595808000000,3.0639],[1595894400000,3.1261],[1595980800000,4.3162],[1596067200000,1.9853],[1596153600000,4.5614],[1596412800000,3.5532],[1596499200000,4.0989],[1596585600000,5.1861],[1596672000000,4.1719],[1596758400000,4.4958],[1597017600000,4.4256],[1597104000000,4.3981],[1597190400000,3.9281],[1597276800000,3.2694],[1597363200000,3.478],[1597622400000,3.451],[1597708800000,3.7821],[1597795200000,3.4636],[1597881600000,3.3116],[1597968000000,3.251],[1598227200000,2.0185],[1598313600000,4.1079],[1598400000000,2.1516],[1598486400000,4.2957],[1598572800000,4.2688],[1598832000000,3.6881],[1598918400000,3.3564],[1599004800000,4.5306],[1599091200000,2.468],[1599177600000,3.7908],[1599436800000,5.1757],[1599523200000,2.6221],[1599609600000,6.2746],[1599696000000,4.3849],[1599782400000,2.6909],[1600041600000,2.9854],[1600128000000,1.6632],[1600214400000,1.9034],[1600300800000,3.9491],[1600387200000,3.4972],[1600646400000,3.4519],[1600732800000,3.8966],[1600819200000,3.5466],[1600905600000,2.9467],[1600992000000,3.291],[1601251200000,2.4674],[1601337600000,1.9524],[1601424000000,1.8308],[1602201600000,1.7788],[1602460800000,3.3205],[1602547200000,2.9727],[1602633600000,2.8232],[1602720000000,3.1352],[1602806400000,3.2626],[1603065600000,3.3441],[1603152000000,3.7539],[1603238400000,4.982],[1603324800000,2.0636],[1603411200000,4.2792],[1603670400000,2.4764],[1603756800000,3.1976],[1603843200000,1.7225],[1603929600000,2.9656],[1604016000000,2.7125],[1604275200000,2.8371],[1604361600000,3.6738],[1604448000000,2.7088]],\"color\":\"#4A8E8E\"},{\"name\":\"\\u6700\\u5c0f\\/\\u6700\\u5927\\u5206\\u4f4d\",\"yAxis\":0,\"data\":[[1476144000000,null],[1476230400000,0.9678],[1476316800000,1.9405],[1476403200000,0.4721],[1476662400000,1.3823],[1476748800000,0.7722],[1476835200000,1.5789],[1476921600000,0.6441],[1477008000000,2.4652],[1477267200000,1.3588],[1477353600000,0.4261],[1477440000000,0.4997],[1477526400000,0.7392],[1477612800000,0.8314],[1477872000000,1.0046],[1477958400000,0.9871],[1478044800000,1.1188],[1478131200000,1.734],[1478217600000,1.6704],[1478476800000,0.4451],[1478563200000,1.0925],[1478649600000,0.4534],[1478736000000,1.6378],[1478822400000,0.5099],[1479081600000,0.6187],[1479168000000,0.6263],[1479254400000,0.3925],[1479340800000,0.7281],[1479427200000,0.5903],[1479686400000,0.9692],[1479772800000,1.2779],[1479859200000,0.9006],[1479945600000,0.3685],[1480032000000,0.8042],[1480291200000,0.7871],[1480377600000,0.6764],[1480464000000,0.7643],[1480550400000,0.909],[1480636800000,1.7092],[1480896000000,1.392],[1480982400000,0.9899],[1481068800000,1.4732],[1481155200000,0.8668],[1481241600000,0.6722],[1481500800000,0.8468],[1481587200000,0.6917],[1481673600000,1.3349],[1481760000000,1.0975],[1481846400000,1.9018],[1482105600000,1.0674],[1482192000000,0.7737],[1482278400000,1.1418],[1482364800000,0.9558],[1482451200000,0.5128],[1482710400000,0.7656],[1482796800000,1.3844],[1482883200000,0.7696],[1482969600000,1.7742],[1483056000000,1.7105],[1483401600000,0.5995],[1483488000000,0.7453],[1483574400000,1.4227],[1483660800000,0.7154],[1483920000000,0.8092],[1484006400000,0.8347],[1484092800000,0.5373],[1484179200000,1.1414],[1484265600000,1.1649],[1484524800000,0.8791],[1484611200000,0.4651],[1484697600000,0.6312],[1484784000000,1.1058],[1484870400000,0.7647],[1485129600000,0.9889],[1485216000000,0.8385],[1485302400000,1.3454],[1485388800000,0.6591],[1486080000000,0.8746],[1486339200000,0.739],[1486425600000,1.2826],[1486512000000,2.0368],[1486598400000,1.9541],[1486684800000,0.7925],[1486944000000,0.7383],[1487030400000,0.6956],[1487116800000,1.3004],[1487203200000,1.0712],[1487289600000,0.9243],[1487548800000,0.5273],[1487635200000,0.7988],[1487721600000,0.932],[1487808000000,0.9639],[1487894400000,1.6092],[1488153600000,0.9878],[1488240000000,1.0077],[1488326400000,0.9906],[1488412800000,0.7905],[1488499200000,0.6827],[1488758400000,1.1371],[1488844800000,0.7389],[1488931200000,0.6042],[1489017600000,0.9293],[1489104000000,1.1288],[1489363200000,1.6438],[1489449600000,0.9173],[1489536000000,0.6613],[1489622400000,0.9353],[1489708800000,0.5476],[1489968000000,1.374],[1490054400000,1.0194],[1490140800000,1.4449],[1490227200000,1.3617],[1490313600000,1.8839],[1490572800000,0.6477],[1490659200000,0.385],[1490745600000,1.3697],[1490832000000,0.906],[1490918400000,0.768],[1491350400000,0.8416],[1491436800000,0.8922],[1491523200000,1.1561],[1491782400000,0.5299],[1491868800000,0.6625],[1491955200000,0.6572],[1492041600000,0.4363],[1492128000000,0.5114],[1492387200000,1.1263],[1492473600000,1.0158],[1492560000000,1.0462],[1492646400000,0.8707],[1492732800000,1.7693],[1492992000000,0.7782],[1493078400000,1.1745],[1493164800000,1.2508],[1493251200000,2.11],[1493337600000,1.6138],[1493683200000,1.2808],[1493769600000,0.9912],[1493856000000,2.8959],[1493942400000,1.7189],[1494201600000,1.423],[1494288000000,0.757],[1494374400000,0.6058],[1494460800000,2.2111],[1494547200000,1.7985],[1494806400000,1.2056],[1494892800000,0.439],[1494979200000,2.6142],[1495065600000,0.5752],[1495152000000,1.2094],[1495411200000,0.3429],[1495497600000,0.8141],[1495584000000,0.8317],[1495670400000,0.6919],[1495756800000,1.2792],[1496188800000,0.8332],[1496275200000,0.7497],[1496361600000,0.8523],[1496620800000,1.0642],[1496707200000,0.8995],[1496793600000,0.4614],[1496880000000,1.0014],[1496966400000,0.923],[1497225600000,1.0117],[1497312000000,1.034],[1497398400000,1.4752],[1497484800000,1.0841],[1497571200000,1.2694],[1497830400000,0.2745],[1497916800000,0.5039],[1498003200000,0.6505],[1498089600000,0.8334],[1498176000000,0.7091],[1498435200000,0.6639],[1498521600000,0.5746],[1498608000000,0.8876],[1498694400000,0.7559],[1498780800000,0.5871],[1499040000000,0.8842],[1499126400000,0.6148],[1499212800000,1.2169],[1499299200000,1.9377],[1499385600000,0.902],[1499644800000,2.1578],[1499731200000,0.3906],[1499817600000,0.8183],[1499904000000,1.045],[1499990400000,0.9531],[1500249600000,0.6604],[1500336000000,1.065],[1500422400000,0.7875],[1500508800000,0.8838],[1500595200000,0.7499],[1500854400000,0.6018],[1500940800000,0.8178],[1501027200000,0.7509],[1501113600000,1.2794],[1501200000000,1.2545],[1501459200000,0.6321],[1501545600000,0.7726],[1501632000000,0.7148],[1501718400000,1.1759],[1501804800000,1.4818],[1502064000000,0.594],[1502150400000,0.4661],[1502236800000,1.0828],[1502323200000,0.454],[1502409600000,1.6578],[1502668800000,0.7432],[1502755200000,0.7329],[1502841600000,0.8995],[1502928000000,1.0842],[1503014400000,0.5492],[1503273600000,0.3198],[1503360000000,0.3297],[1503446400000,2.458],[1503532800000,0.7416],[1503619200000,0.9061],[1503878400000,0.7549],[1503964800000,1.276],[1504051200000,2.2427],[1504137600000,0.7636],[1504224000000,2.2251],[1504483200000,0.897],[1504569600000,0.6168],[1504656000000,0.2855],[1504742400000,1.2204],[1504828800000,1.4211],[1505088000000,0.7068],[1505174400000,0.7823],[1505260800000,1.1639],[1505347200000,0.7498],[1505433600000,1.0299],[1505692800000,0.6662],[1505779200000,0.4193],[1505865600000,0.8935],[1505952000000,2.3279],[1506038400000,1.2688],[1506297600000,1.0758],[1506384000000,1.1821],[1506470400000,1.0565],[1506556800000,0.7045],[1506643200000,2.0322],[1507507200000,0.585],[1507593600000,0.923],[1507680000000,1.3243],[1507766400000,0.5678],[1507852800000,0.7149],[1508112000000,2.1815],[1508198400000,1.0167],[1508284800000,1.2216],[1508371200000,1.768],[1508457600000,0.8208],[1508716800000,1.1362],[1508803200000,0.9623],[1508889600000,1.1648],[1508976000000,1.0418],[1509062400000,0.8771],[1509321600000,0.4104],[1509408000000,0.9937],[1509494400000,0.8535],[1509580800000,2.8827],[1509667200000,1.4194],[1509926400000,0.9918],[1510012800000,2.0757],[1510099200000,1.0077],[1510185600000,0.8696],[1510272000000,0.3494],[1510531200000,1.4097],[1510617600000,1.4686],[1510704000000,1.6434],[1510790400000,0.7914],[1510876800000,0.7506],[1511136000000,1.0668],[1511222400000,1.0709],[1511308800000,1.6193],[1511395200000,0.8573],[1511481600000,1.0126],[1511740800000,0.9625],[1511827200000,0.6042],[1511913600000,0.4729],[1512000000000,1.7566],[1512086400000,0.5093],[1512345600000,0.9089],[1512432000000,0.5366],[1512518400000,0.9521],[1512604800000,0.8369],[1512691200000,0.9573],[1512950400000,1.3546],[1513036800000,0.9691],[1513123200000,1.038],[1513209600000,0.8241],[1513296000000,1.4773],[1513555200000,1.51],[1513641600000,0.3885],[1513728000000,0.5531],[1513814400000,1.0474],[1513900800000,0.8364],[1514160000000,0.6071],[1514246400000,0.6203],[1514332800000,1.5322],[1514419200000,1.011],[1514505600000,0.8491],[1514851200000,0.424],[1514937600000,0.7127],[1515024000000,1.0072],[1515110400000,0.4271],[1515369600000,0.3572],[1515456000000,0.4643],[1515542400000,0.8246],[1515628800000,1.3263],[1515715200000,1.4279],[1515974400000,0.4559],[1516060800000,0.8912],[1516147200000,0.7618],[1516233600000,1.56],[1516320000000,0.3039],[1516579200000,0.5433],[1516665600000,0.6118],[1516752000000,0.8903],[1516838400000,1.6308],[1516924800000,0.8459],[1517184000000,0.8109],[1517270400000,0.8015],[1517356800000,0.9362],[1517443200000,1.3354],[1517529600000,0.7865],[1517788800000,1.4083],[1517875200000,0.9716],[1517961600000,1.1596],[1518048000000,0.7379],[1518134400000,0.8478],[1518393600000,0.9724],[1518480000000,0.922],[1518566400000,0.8773],[1519257600000,0.8462],[1519344000000,0.9077],[1519603200000,1.0652],[1519689600000,1.6811],[1519776000000,0.7221],[1519862400000,0.913],[1519948800000,0.6735],[1520208000000,0.6058],[1520294400000,0.838],[1520380800000,1.0289],[1520467200000,0.3474],[1520553600000,2.2036],[1520812800000,0.7018],[1520899200000,0.6578],[1520985600000,0.6004],[1521072000000,0.9336],[1521158400000,1.2247],[1521417600000,0.7083],[1521504000000,1.6891],[1521590400000,2.4543],[1521676800000,0.5392],[1521763200000,0.8041],[1522022400000,0.75],[1522108800000,1.086],[1522195200000,0.7421],[1522281600000,1.3509],[1522368000000,0.747],[1522627200000,0.8955],[1522713600000,0.6551],[1522800000000,1.198],[1523232000000,0.6739],[1523318400000,1.4014],[1523404800000,0.6376],[1523491200000,0.5297],[1523577600000,1.0411],[1523836800000,0.786],[1523923200000,0.9829],[1524009600000,1.103],[1524096000000,1.3903],[1524182400000,0.8553],[1524441600000,0.8752],[1524528000000,0.8667],[1524614400000,0.7229],[1524700800000,1.0473],[1524787200000,1.122],[1525219200000,0.8872],[1525305600000,0.612],[1525392000000,1.6665],[1525651200000,0.8741],[1525737600000,0.8793],[1525824000000,0.711],[1525910400000,0.5545],[1525996800000,0.4979],[1526256000000,0.379],[1526342400000,0.6194],[1526428800000,1.6016],[1526515200000,0.766],[1526601600000,1.0968],[1526860800000,1.0186],[1526947200000,0.6233],[1527033600000,3.1163],[1527120000000,1.276],[1527206400000,1.0345],[1527465600000,2.0612],[1527552000000,1.0503],[1527638400000,0.611],[1527724800000,0.9856],[1527811200000,0.7851],[1528070400000,0.4935],[1528156800000,0.3072],[1528243200000,2.3301],[1528329600000,1.941],[1528416000000,0.5076],[1528675200000,1.5412],[1528761600000,1.3701],[1528848000000,0.4639],[1528934400000,0.8074],[1529020800000,1.139],[1529366400000,1.3025],[1529452800000,0.8952],[1529539200000,1.256],[1529625600000,1.0487],[1529884800000,1.8198],[1529971200000,0.642],[1530057600000,1.2253],[1530144000000,0.9037],[1530230400000,2.7065],[1530489600000,1.8107],[1530576000000,0.9551],[1530662400000,2.5087],[1530748800000,0.3462],[1530835200000,1.0869],[1531094400000,0.9476],[1531180800000,1.1138],[1531267200000,0.8623],[1531353600000,1.4708],[1531440000000,1.3513],[1531699200000,1.0158],[1531785600000,0.8062],[1531872000000,0.7795],[1531958400000,0.3396],[1532044800000,0.7611],[1532304000000,0.898],[1532390400000,0.8167],[1532476800000,0.7589],[1532563200000,0.5242],[1532649600000,0.6304],[1532908800000,0.5747],[1532995200000,0.9044],[1533081600000,0.7696],[1533168000000,1.3553],[1533254400000,1.4861],[1533513600000,0.8657],[1533600000000,0.6342],[1533686400000,1.3844],[1533772800000,0.6994],[1533859200000,1.4199],[1534118400000,0.9581],[1534204800000,1.1831],[1534291200000,0.5057],[1534377600000,1.0354],[1534464000000,1.9933],[1534723200000,0.6883],[1534809600000,1.5897],[1534896000000,1.0071],[1534982400000,0.6638],[1535068800000,1.9221],[1535328000000,1.0184],[1535414400000,0.7842],[1535500800000,0.8964],[1535587200000,0.9202],[1535673600000,1.0253],[1535932800000,1.5156],[1536019200000,0.9029],[1536105600000,0.5861],[1536192000000,0.7712],[1536278400000,1.1439],[1536537600000,0.9855],[1536624000000,1.1455],[1536710400000,1.0027],[1536796800000,0.8144],[1536883200000,0.6963],[1537142400000,0.3293],[1537228800000,0.6979],[1537315200000,1.3668],[1537401600000,0.7367],[1537488000000,0.5804],[1537833600000,0.3475],[1537920000000,0.7597],[1538006400000,1.0131],[1538092800000,1.1195],[1538956800000,0.8249],[1539043200000,0.9215],[1539129600000,0.8355],[1539216000000,2.0363],[1539302400000,1.0054],[1539561600000,1.113],[1539648000000,0.7779],[1539734400000,1.2916],[1539820800000,2.195],[1539907200000,1.1919],[1540166400000,1.1886],[1540252800000,0.5359],[1540339200000,0.499],[1540425600000,0.9241],[1540512000000,0.7313],[1540771200000,0.6796],[1540857600000,0.8033],[1540944000000,2.072],[1541030400000,0.5577],[1541116800000,0.7894],[1541376000000,0.875],[1541462400000,0.6556],[1541548800000,0.8542],[1541635200000,0.4632],[1541721600000,0.8161],[1541980800000,0.9964],[1542067200000,1.0639],[1542153600000,0.6638],[1542240000000,0.6604],[1542326400000,1.54],[1542585600000,0.9322],[1542672000000,0.4619],[1542758400000,1.3918],[1542844800000,1.2097],[1542931200000,0.7957],[1543190400000,1.0704],[1543276800000,0.9245],[1543363200000,0.5272],[1543449600000,1.5281],[1543536000000,0.7296],[1543795200000,1.1777],[1543881600000,0.5904],[1543968000000,0.5429],[1544054400000,0.7559],[1544140800000,0.7817],[1544400000000,0.8104],[1544486400000,0.7971],[1544572800000,1.5671],[1544659200000,0.4711],[1544745600000,1.0605],[1545004800000,0.6547],[1545091200000,1.4081],[1545177600000,3.0977],[1545264000000,1.3737],[1545350400000,1.0704],[1545609600000,2.7057],[1545696000000,1.933],[1545782400000,1.6285],[1545868800000,0.4078],[1545955200000,0.335],[1546387200000,1.1908],[1546473600000,0.6477],[1546560000000,1.3631],[1546819200000,0.9078],[1546905600000,0.7004],[1546992000000,0.526],[1547078400000,0.7959],[1547164800000,1.0147],[1547424000000,0.8271],[1547510400000,0.3861],[1547596800000,0.8194],[1547683200000,0.4828],[1547769600000,0.8405],[1548028800000,0.3928],[1548115200000,0.551],[1548201600000,1.6078],[1548288000000,1.1297],[1548374400000,1.1043],[1548633600000,0.4873],[1548720000000,0.6236],[1548806400000,1.0791],[1548892800000,0.8376],[1548979200000,1.2864],[1549843200000,0.9087],[1549929600000,0.922],[1550016000000,0.751],[1550102400000,0.9291],[1550188800000,0.5535],[1550448000000,0.9511],[1550534400000,0.8636],[1550620800000,0.6825],[1550707200000,1.0049],[1550793600000,1.5823],[1551052800000,1.1327],[1551139200000,0.5812],[1551225600000,0.6255],[1551312000000,0.5718],[1551398400000,0.5332],[1551657600000,0.6027],[1551744000000,0.5971],[1551830400000,1.1872],[1551916800000,0.8234],[1552003200000,0.8088],[1552262400000,0.7148],[1552348800000,0.8951],[1552435200000,0.6816],[1552521600000,0.7818],[1552608000000,0.5577],[1552867200000,0.6513],[1552953600000,0.6178],[1553040000000,0.7272],[1553126400000,0.99],[1553212800000,0.6064],[1553472000000,0.6383],[1553558400000,0.7107],[1553644800000,0.9931],[1553731200000,1.0259],[1553817600000,0.9103],[1554076800000,1.0375],[1554163200000,0.5705],[1554249600000,0.8325],[1554336000000,0.636],[1554681600000,2.4652],[1554768000000,0.4101],[1554854400000,1.0591],[1554940800000,0.863],[1555027200000,0.4885],[1555286400000,0.834],[1555372800000,0.7772],[1555459200000,1.2139],[1555545600000,0.6105],[1555632000000,0.7415],[1555891200000,0.8619],[1555977600000,0.9421],[1556064000000,0.8848],[1556150400000,0.9231],[1556236800000,1.3803],[1556496000000,1.4139],[1556582400000,0.8738],[1557100800000,0.9169],[1557187200000,0.8356],[1557273600000,1.0431],[1557360000000,1.2174],[1557446400000,0.9943],[1557705600000,1.3604],[1557792000000,0.6639],[1557878400000,1.3918],[1557964800000,0.8662],[1558051200000,0.4911],[1558310400000,1.1634],[1558396800000,1.5229],[1558483200000,1.1922],[1558569600000,0.5047],[1558656000000,1.3349],[1558915200000,0.9567],[1559001600000,1.2041],[1559088000000,0.4714],[1559174400000,1.2172],[1559260800000,1.0929],[1559520000000,0.5333],[1559606400000,1.2443],[1559692800000,1.5008],[1559779200000,0.4316],[1560124800000,1.4056],[1560211200000,0.8723],[1560297600000,0.7269],[1560384000000,0.6698],[1560470400000,1.6286],[1560729600000,0.3369],[1560816000000,0.7758],[1560902400000,0.5878],[1560988800000,0.7447],[1561075200000,0.9337],[1561334400000,0.5918],[1561420800000,0.7525],[1561507200000,0.9395],[1561593600000,0.7338],[1561680000000,0.7661],[1561939200000,0.9551],[1562025600000,0.6238],[1562112000000,0.318],[1562198400000,0.7073],[1562284800000,0.4183],[1562544000000,1.0464],[1562630400000,0.794],[1562716800000,0.9836],[1562803200000,1.1508],[1562889600000,0.6133],[1563148800000,0.6176],[1563235200000,2.084],[1563321600000,0.7055],[1563408000000,0.8058],[1563494400000,1.1243],[1563753600000,0.6033],[1563840000000,1.6872],[1563926400000,1.1779],[1564012800000,0.7883],[1564099200000,1.1023],[1564358400000,1.1393],[1564444800000,0.7456],[1564531200000,0.2882],[1564617600000,0.9529],[1564704000000,0.8346],[1564963200000,0.7146],[1565049600000,1.8849],[1565136000000,0.8665],[1565222400000,1.2458],[1565308800000,0.8489],[1565568000000,2.4305],[1565654400000,1.1197],[1565740800000,0.5818],[1565827200000,0.6126],[1565913600000,1.7453],[1566172800000,0.5708],[1566259200000,0.9326],[1566345600000,0.7916],[1566432000000,1.1988],[1566518400000,0.9209],[1566777600000,0.3376],[1566864000000,0.9367],[1566950400000,0.5302],[1567036800000,0.2627],[1567123200000,0.9076],[1567382400000,1.4907],[1567468800000,0.7235],[1567555200000,0.821],[1567641600000,0.5696],[1567728000000,0.6394],[1567987200000,1.2467],[1568073600000,0.8717],[1568160000000,0.6466],[1568246400000,0.3223],[1568592000000,0.4301],[1568678400000,0.475],[1568764800000,0.8215],[1568851200000,0.9291],[1568937600000,1.3008],[1569196800000,0.4293],[1569283200000,0.9004],[1569369600000,1.4847],[1569456000000,0.9713],[1569542400000,0.722],[1569801600000,1.0663],[1570492800000,0.5807],[1570579200000,0.9283],[1570665600000,1.1458],[1570752000000,0.8835],[1571011200000,0.4987],[1571097600000,0.8621],[1571184000000,0.9448],[1571270400000,0.6525],[1571356800000,1.1385],[1571616000000,1.2825],[1571702400000,1.0778],[1571788800000,0.7199],[1571875200000,0.4527],[1571961600000,1.2554],[1572220800000,0.4502],[1572307200000,1.0893],[1572393600000,1.0745],[1572480000000,0.9524],[1572566400000,0.9628],[1572825600000,0.9872],[1572912000000,0.8665],[1572998400000,1.045],[1573084800000,0.8251],[1573171200000,1.0938],[1573430400000,0.7553],[1573516800000,1.2231],[1573603200000,1.2356],[1573689600000,1.1675],[1573776000000,3.1021],[1574035200000,2.4058],[1574121600000,1.3514],[1574208000000,0.7013],[1574294400000,0.4775],[1574380800000,1.2864],[1574640000000,0.5174],[1574726400000,0.4167],[1574812800000,0.4574],[1574899200000,1.2006],[1574985600000,2.7889],[1575244800000,1.8399],[1575331200000,0.4298],[1575417600000,1.837],[1575504000000,0.6891],[1575590400000,1.1012],[1575849600000,0.8203],[1575936000000,0.4645],[1576022400000,1.1703],[1576108800000,1.3663],[1576195200000,0.9872],[1576454400000,0.7349],[1576540800000,1.1569],[1576627200000,2.4758],[1576713600000,0.1684],[1576800000000,4.7652],[1577059200000,0.175],[1577145600000,0.7968],[1577232000000,1.0296],[1577318400000,2.9055],[1577404800000,0.2291],[1577664000000,0.5117],[1577750400000,0.6017],[1577923200000,0.9673],[1578009600000,0.7556],[1578268800000,2.0442],[1578355200000,0.5215],[1578441600000,0.6379],[1578528000000,1.0167],[1578614400000,0.7067],[1578873600000,0.9468],[1578960000000,1.1184],[1579046400000,0.7534],[1579132800000,1.1945],[1579219200000,1.0587],[1579478400000,0.9504],[1579564800000,0.8329],[1579651200000,1.5141],[1579737600000,1.3239],[1580688000000,1.6561],[1580774400000,0.537],[1580860800000,1.6221],[1580947200000,0.8035],[1581033600000,0.4472],[1581292800000,0.8925],[1581379200000,1.1262],[1581465600000,1.0897],[1581552000000,1.6464],[1581638400000,1.0833],[1581897600000,0.6931],[1581984000000,0.2322],[1582070400000,1.1432],[1582156800000,0.8553],[1582243200000,0.5006],[1582502400000,0.8144],[1582588800000,1.7873],[1582675200000,1.2307],[1582761600000,2.4511],[1582848000000,0.2599],[1583107200000,0.7764],[1583193600000,0.6922],[1583280000000,0.9692],[1583452800000,null],[1583712000000,0.6221],[1583798400000,0.6388],[1583884800000,1.1052],[1583971200000,0.9683],[1584057600000,1.0587],[1584316800000,1.4719],[1584403200000,0.651],[1584489600000,1.7083],[1584576000000,1.4859],[1584662400000,1.3374],[1584921600000,1.116],[1585008000000,0.7166],[1585094400000,0.5471],[1585180800000,0.7272],[1585267200000,0.9381],[1585526400000,0.7801],[1585612800000,1.2774],[1585699200000,0.4908],[1585785600000,1.3669],[1585872000000,1.7226],[1586217600000,0.6404],[1586304000000,0.4773],[1586390400000,1.0049],[1586476800000,0.537],[1586736000000,0.8118],[1586822400000,0.8135],[1586908800000,0.6993],[1586995200000,1.3127],[1587081600000,1.1429],[1587340800000,0.9097],[1587427200000,0.8912],[1587513600000,1.9773],[1587600000000,1.2655],[1587686400000,0.5614],[1587945600000,0.7446],[1588032000000,2.7724],[1588118400000,0.4622],[1588204800000,0.877],[1588723200000,0.9022],[1588809600000,2.4796],[1588896000000,0.9228],[1589155200000,0.5381],[1589241600000,0.3055],[1589328000000,0.9292],[1589414400000,1.8145],[1589500800000,1.5137],[1589760000000,1.0345],[1589846400000,0.7736],[1589932800000,0.5129],[1590019200000,1.5479],[1590105600000,0.5197],[1590364800000,0.8407],[1590451200000,0.9232],[1590537600000,0.6666],[1590624000000,1.0746],[1590710400000,0.3057],[1590969600000,1.0052],[1591056000000,0.9793],[1591142400000,0.7353],[1591228800000,0.4561],[1591315200000,0.7458],[1591574400000,0.8451],[1591660800000,0.6937],[1591747200000,0.5025],[1591833600000,1.3125],[1591920000000,2.3721],[1592179200000,1.0863],[1592265600000,0.8592],[1592352000000,0.584],[1592438400000,0.6571],[1592524800000,0.49],[1592784000000,0.6065],[1592870400000,1.4799],[1592956800000,1.1878],[1593388800000,0.931],[1593475200000,1.0465],[1593561600000,3.5388],[1593648000000,0.6503],[1593734400000,0.696],[1593993600000,0.9041],[1594080000000,1.0162],[1594166400000,1.3275],[1594252800000,1.1079],[1594339200000,0.8182],[1594598400000,0.9261],[1594684800000,0.9384],[1594771200000,0.4626],[1594857600000,0.8533],[1594944000000,0.7038],[1595203200000,0.8618],[1595289600000,0.8328],[1595376000000,0.8565],[1595462400000,1.4537],[1595548800000,0.9588],[1595808000000,0.8189],[1595894400000,1.0483],[1595980800000,0.537],[1596067200000,2.2909],[1596153600000,0.7426],[1596412800000,1.2086],[1596499200000,1.0663],[1596585600000,0.4995],[1596672000000,0.824],[1596758400000,0.5774],[1597017600000,0.7601],[1597104000000,0.4547],[1597190400000,0.7003],[1597276800000,0.9757],[1597363200000,0.6068],[1597622400000,0.7536],[1597708800000,1.1714],[1597795200000,0.9955],[1597881600000,0.711],[1597968000000,0.7277],[1598227200000,1.6319],[1598313600000,0.6925],[1598400000000,1.6938],[1598486400000,0.8034],[1598572800000,0.8695],[1598832000000,0.7925],[1598918400000,1.2796],[1599004800000,1.02],[1599091200000,1.2984],[1599177600000,0.5935],[1599436800000,1.1743],[1599523200000,1.0479],[1599609600000,0.7328],[1599696000000,0.8074],[1599782400000,0.7433],[1600041600000,1.1789],[1600128000000,1.8645],[1600214400000,1.7164],[1600300800000,0.5597],[1600387200000,0.8923],[1600646400000,0.8147],[1600732800000,0.4986],[1600819200000,0.9508],[1600905600000,1.2797],[1600992000000,0.9783],[1601251200000,1.0331],[1601337600000,0.7325],[1601424000000,1.1482],[1602201600000,1.743],[1602460800000,1.1853],[1602547200000,1.2557],[1602633600000,1.1996],[1602720000000,1.2599],[1602806400000,0.8219],[1603065600000,0.5574],[1603152000000,0.669],[1603238400000,0.9694],[1603324800000,1.259],[1603411200000,0.9297],[1603670400000,1.0227],[1603756800000,1.1217],[1603843200000,2.4499],[1603929600000,0.9951],[1604016000000,1.3374],[1604275200000,0.969],[1604361600000,0.8419],[1604448000000,0.8423]]}],\"xAxis\":{\"title\":{\"text\":\"date\"},\"type\":\"datetime\"},\"plotOptions\":{\"series\":{\"compare\":\"percent\"}}}/bigcharts-data-end</pre></div><div class=\"cols\">\n",
       "            \n",
       "                \n",
       "                <div class=\"col\"><div class=\"type_title_left\"><p>因子值最小的20只股票 <span>(2020-11-04)</span></p></div>\n",
       "        <div class=\"factorlens-stocks-wrapper\">\n",
       "            <table class=\"factor_table stocks\">\n",
       "                <thead>\n",
       "                    <tr>\n",
       "                        <th>股票名称</th>\n",
       "                        <th>股票代码</th>\n",
       "                        <th>因子值</th>\n",
       "                    </tr>\n",
       "                </thead>\n",
       "                <tbody>\n",
       "            <tr>\n",
       "                <td>中国人寿</td>\n",
       "                <td>601628.SHA</td>\n",
       "                <td>-1.8929</td>\n",
       "            </tr>\n",
       "            \n",
       "            <tr>\n",
       "                <td>中国银河</td>\n",
       "                <td>601881.SHA</td>\n",
       "                <td>-1.8423</td>\n",
       "            </tr>\n",
       "            \n",
       "            <tr>\n",
       "                <td>山西证券</td>\n",
       "                <td>002500.SZA</td>\n",
       "                <td>-1.8358</td>\n",
       "            </tr>\n",
       "            \n",
       "            <tr>\n",
       "                <td>浙商证券</td>\n",
       "                <td>601878.SHA</td>\n",
       "                <td>-1.8185</td>\n",
       "            </tr>\n",
       "            \n",
       "            <tr>\n",
       "                <td>东吴证券</td>\n",
       "                <td>601555.SHA</td>\n",
       "                <td>-1.8008</td>\n",
       "            </tr>\n",
       "            \n",
       "            <tr>\n",
       "                <td>第一创业</td>\n",
       "                <td>002797.SZA</td>\n",
       "                <td>-1.7959</td>\n",
       "            </tr>\n",
       "            \n",
       "            <tr>\n",
       "                <td>同花顺</td>\n",
       "                <td>300033.SZA</td>\n",
       "                <td>-1.7950</td>\n",
       "            </tr>\n",
       "            \n",
       "            <tr>\n",
       "                <td>石基信息</td>\n",
       "                <td>002153.SZA</td>\n",
       "                <td>-1.7844</td>\n",
       "            </tr>\n",
       "            \n",
       "            <tr>\n",
       "                <td>长城证券</td>\n",
       "                <td>002939.SZA</td>\n",
       "                <td>-1.7518</td>\n",
       "            </tr>\n",
       "            \n",
       "            <tr>\n",
       "                <td>索通发展</td>\n",
       "                <td>603612.SHA</td>\n",
       "                <td>-1.7435</td>\n",
       "            </tr>\n",
       "            \n",
       "            <tr>\n",
       "                <td>胜宏科技</td>\n",
       "                <td>300476.SZA</td>\n",
       "                <td>-1.7424</td>\n",
       "            </tr>\n",
       "            \n",
       "            <tr>\n",
       "                <td>宏大爆破</td>\n",
       "                <td>002683.SZA</td>\n",
       "                <td>-1.7414</td>\n",
       "            </tr>\n",
       "            \n",
       "            <tr>\n",
       "                <td>集友股份</td>\n",
       "                <td>603429.SHA</td>\n",
       "                <td>-1.7378</td>\n",
       "            </tr>\n",
       "            \n",
       "            <tr>\n",
       "                <td>华安证券</td>\n",
       "                <td>600909.SHA</td>\n",
       "                <td>-1.7347</td>\n",
       "            </tr>\n",
       "            \n",
       "            <tr>\n",
       "                <td>新华保险</td>\n",
       "                <td>601336.SHA</td>\n",
       "                <td>-1.7328</td>\n",
       "            </tr>\n",
       "            \n",
       "            <tr>\n",
       "                <td>当代文体</td>\n",
       "                <td>600136.SHA</td>\n",
       "                <td>-1.7242</td>\n",
       "            </tr>\n",
       "            \n",
       "            <tr>\n",
       "                <td>华泰证券</td>\n",
       "                <td>601688.SHA</td>\n",
       "                <td>-1.7204</td>\n",
       "            </tr>\n",
       "            \n",
       "            <tr>\n",
       "                <td>紫光股份</td>\n",
       "                <td>000938.SZA</td>\n",
       "                <td>-1.7097</td>\n",
       "            </tr>\n",
       "            \n",
       "            <tr>\n",
       "                <td>捷顺科技</td>\n",
       "                <td>002609.SZA</td>\n",
       "                <td>-1.7044</td>\n",
       "            </tr>\n",
       "            \n",
       "            <tr>\n",
       "                <td>中原证券</td>\n",
       "                <td>601375.SHA</td>\n",
       "                <td>-1.7034</td>\n",
       "            </tr>\n",
       "            \n",
       "                </tbody>\n",
       "            </table>\n",
       "        </div>\n",
       "        </div>\n",
       "                \n",
       "            \n",
       "                \n",
       "                <div class=\"col\"><div class=\"type_title_left\"><p>因子值最大的20只股票 <span>(2020-11-04)</span></p></div>\n",
       "        <div class=\"factorlens-stocks-wrapper\">\n",
       "            <table class=\"factor_table stocks\">\n",
       "                <thead>\n",
       "                    <tr>\n",
       "                        <th>股票名称</th>\n",
       "                        <th>股票代码</th>\n",
       "                        <th>因子值</th>\n",
       "                    </tr>\n",
       "                </thead>\n",
       "                <tbody>\n",
       "            <tr>\n",
       "                <td>国城矿业</td>\n",
       "                <td>000688.SZA</td>\n",
       "                <td>1.3419</td>\n",
       "            </tr>\n",
       "            \n",
       "            <tr>\n",
       "                <td>聚灿光电</td>\n",
       "                <td>300708.SZA</td>\n",
       "                <td>1.3656</td>\n",
       "            </tr>\n",
       "            \n",
       "            <tr>\n",
       "                <td>测绘股份</td>\n",
       "                <td>300826.SZA</td>\n",
       "                <td>1.3771</td>\n",
       "            </tr>\n",
       "            \n",
       "            <tr>\n",
       "                <td>中天火箭</td>\n",
       "                <td>003009.SZA</td>\n",
       "                <td>1.3856</td>\n",
       "            </tr>\n",
       "            \n",
       "            <tr>\n",
       "                <td>米奥会展</td>\n",
       "                <td>300795.SZA</td>\n",
       "                <td>1.3987</td>\n",
       "            </tr>\n",
       "            \n",
       "            <tr>\n",
       "                <td>卡倍亿</td>\n",
       "                <td>300863.SZA</td>\n",
       "                <td>1.4183</td>\n",
       "            </tr>\n",
       "            \n",
       "            <tr>\n",
       "                <td>华夏航空</td>\n",
       "                <td>002928.SZA</td>\n",
       "                <td>1.4277</td>\n",
       "            </tr>\n",
       "            \n",
       "            <tr>\n",
       "                <td>硕世生物</td>\n",
       "                <td>688399.SHA</td>\n",
       "                <td>1.4344</td>\n",
       "            </tr>\n",
       "            \n",
       "            <tr>\n",
       "                <td>汇金科技</td>\n",
       "                <td>300561.SZA</td>\n",
       "                <td>1.4494</td>\n",
       "            </tr>\n",
       "            \n",
       "            <tr>\n",
       "                <td>润禾材料</td>\n",
       "                <td>300727.SZA</td>\n",
       "                <td>1.4643</td>\n",
       "            </tr>\n",
       "            \n",
       "            <tr>\n",
       "                <td>名臣健康</td>\n",
       "                <td>002919.SZA</td>\n",
       "                <td>1.4849</td>\n",
       "            </tr>\n",
       "            \n",
       "            <tr>\n",
       "                <td>格力地产</td>\n",
       "                <td>600185.SHA</td>\n",
       "                <td>1.4906</td>\n",
       "            </tr>\n",
       "            \n",
       "            <tr>\n",
       "                <td>温州宏丰</td>\n",
       "                <td>300283.SZA</td>\n",
       "                <td>1.4982</td>\n",
       "            </tr>\n",
       "            \n",
       "            <tr>\n",
       "                <td>华昌达</td>\n",
       "                <td>300278.SZA</td>\n",
       "                <td>1.5332</td>\n",
       "            </tr>\n",
       "            \n",
       "            <tr>\n",
       "                <td>双林股份</td>\n",
       "                <td>300100.SZA</td>\n",
       "                <td>1.5499</td>\n",
       "            </tr>\n",
       "            \n",
       "            <tr>\n",
       "                <td>和顺电气</td>\n",
       "                <td>300141.SZA</td>\n",
       "                <td>1.6041</td>\n",
       "            </tr>\n",
       "            \n",
       "            <tr>\n",
       "                <td>天海防务</td>\n",
       "                <td>300008.SZA</td>\n",
       "                <td>1.6311</td>\n",
       "            </tr>\n",
       "            \n",
       "            <tr>\n",
       "                <td>江龙船艇</td>\n",
       "                <td>300589.SZA</td>\n",
       "                <td>1.7874</td>\n",
       "            </tr>\n",
       "            \n",
       "            <tr>\n",
       "                <td>阿尔特</td>\n",
       "                <td>300825.SZA</td>\n",
       "                <td>1.9295</td>\n",
       "            </tr>\n",
       "            \n",
       "            <tr>\n",
       "                <td>中能电气</td>\n",
       "                <td>300062.SZA</td>\n",
       "                <td>2.2622</td>\n",
       "            </tr>\n",
       "            \n",
       "                </tbody>\n",
       "            </table>\n",
       "        </div>\n",
       "        </div>\n",
       "                \n",
       "            \n",
       "            </div>\n",
       "        </div>"
      ],
      "text/plain": [
       "<IPython.core.display.HTML object>"
      ]
     },
     "metadata": {},
     "output_type": "display_data"
    },
    {
     "data": {
      "text/plain": [
       "[2021-05-14 12:57:39.288907] INFO: moduleinvoker: factorlens.v1 运行完成[253.237846s]."
      ]
     },
     "metadata": {
      "is_log": true,
      "status": "INFO"
     },
     "output_type": "display_data"
    }
   ],
   "source": [
    "def run_factorlens(factor,coverage=0.2):\n",
    "    \"\"\" 根据传入的因子名（形如alpha000X）运行因子分析模块\"\"\"\n",
    "    log.info(f'开始运行因子分析：{factor}')\n",
    "    factor_df = saved_factor_values[factor].stack().reset_index(name=factor)\n",
    "    factor_ds = DataSource.write_pickle(factor_df)\n",
    "    factorlens_module = M.factorlens.v1(\n",
    "        features=[factor],\n",
    "        user_factor_data=factor_ds,\n",
    "        title='因子分析: {factor_name}',\n",
    "        start_date=all_data_dp.start_date,\n",
    "        end_date=all_data_dp.end_date,\n",
    "        rebalance_period=config.rebalance_period,\n",
    "        stock_pool=config.stock_pool,\n",
    "        quantile_count=config.quantile_count,\n",
    "        commission_rate=config.commission_rate,\n",
    "        drop_price_limit_stocks=config.drop_price_limit_stocks,\n",
    "        drop_st_stocks=config.drop_st_stocks,\n",
    "        drop_new_stocks=config.drop_new_stocks,\n",
    "        # 标准化和中性化默认不启用，因为挖掘到的因子已经在计算因子值的过程中做了相应处理了\n",
    "        normalization=False,\n",
    "        neutralization=[],\n",
    "        metrics=config.metrics,\n",
    "        factor_coverage=coverage,\n",
    "    )\n",
    "\n",
    "# 指定要分析的因子名，运行因子分析，coverage为传入覆盖率，遗传算法挖掘的为结构化多因子，因此该值不应该过高，default=0.2\n",
    "run_factorlens('alpha0001',0.2)"
   ]
  },
  {
   "cell_type": "code",
   "execution_count": 9,
   "metadata": {},
   "outputs": [
    {
     "ename": "PermissionError",
     "evalue": "[Errno 13] Permission denied: '/home/dltest'",
     "output_type": "error",
     "traceback": [
      "\u001b[0;31m---------------------------------------------------------------------------\u001b[0m",
      "\u001b[0;31mPermissionError\u001b[0m                           Traceback (most recent call last)",
      "\u001b[0;32m<ipython-input-9-3af721c31d4a>\u001b[0m in \u001b[0;36m<module>\u001b[0;34m\u001b[0m\n\u001b[1;32m      7\u001b[0m     \u001b[0mstr\u001b[0m \u001b[0;34m=\u001b[0m \u001b[0mstr\u001b[0m \u001b[0;34m+\u001b[0m \u001b[0mdatetime\u001b[0m\u001b[0;34m.\u001b[0m\u001b[0mnow\u001b[0m\u001b[0;34m(\u001b[0m\u001b[0;34m)\u001b[0m\u001b[0;34m.\u001b[0m\u001b[0mstrftime\u001b[0m\u001b[0;34m(\u001b[0m\u001b[0;34m\"%Y%m%d_%H%M%S\"\u001b[0m\u001b[0;34m)\u001b[0m\u001b[0;34m\u001b[0m\u001b[0;34m\u001b[0m\u001b[0m\n\u001b[1;32m      8\u001b[0m \u001b[0;34m\u001b[0m\u001b[0m\n\u001b[0;32m----> 9\u001b[0;31m \u001b[0mos\u001b[0m\u001b[0;34m.\u001b[0m\u001b[0mmakedirs\u001b[0m\u001b[0;34m(\u001b[0m\u001b[0mstr\u001b[0m\u001b[0;34m)\u001b[0m\u001b[0;31m#创建文件夹\u001b[0m\u001b[0;34m\u001b[0m\u001b[0;34m\u001b[0m\u001b[0m\n\u001b[0m",
      "\u001b[0;31mPermissionError\u001b[0m: [Errno 13] Permission denied: '/home/dltest'"
     ]
    }
   ],
   "source": [
    "from datetime import datetime\n",
    "import os\n",
    "str = '/home/dltest/caffe/examples/sgg_datas/images/result_test/zutest/' + datetime.now().strftime(\"%Y%m%d_%H%M%S\")\n",
    " \n",
    "/#判断文件是否存在，若文件存在则继续，直到该文件夹下不包含该文件名\n",
    "while True==os.path.exists(str):\n",
    "    str = str + datetime.now().strftime(\"%Y%m%d_%H%M%S\")\n",
    "   \n",
    "os.makedirs(str)#创建文件夹\n"
   ]
  },
  {
   "cell_type": "code",
   "execution_count": null,
   "metadata": {},
   "outputs": [],
   "source": [
    "al = ['ts_sum(mean2(close, open), 8)', 'vmul(sma(wap_3_vwap_buy, 5), max(turn, turn))', 'rank(vsub(volume, low))', 'mean3(ts_sum(turn, 2), abs(low), vdiv(low, open))', 'arctan(close)', 'min(wap_3_vwap_buy, wap_3_vwap_buy)', 'corr(low, volume, 6)', 'max(high, high)', 'argmax(sma(low, 2), 6)', 'mean2(open, open)', 'vneg(close)', 'ts_min(vadd(open, high), constant(8))', 'mean2(open, turn)', 'mean2(volume, low)', 'ts_min(volume, constant(1))', 'delta(wap_3_vwap_buy, 7)', 'normalization(close)', 'power(decay_linear(close, 6), standardation(turn))', 'cov(high, wap_3_vwap_buy, 1)', 'vadd(turn, close)', 'vadd(turn, close)']\n",
    "\n",
    "def drop_duplicates(individuals):\n",
    "    \"\"\"移除生成表达式相同的个体\"\"\"\n",
    "    individuals = [str(ind) for ind in individuals]\n",
    "    print(individuals)\n",
    "    return list(set(individuals))\n",
    "\n",
    "al2= drop_duplicates(al)\n",
    "\n",
    "print(len(al),len(al2))"
   ]
  },
  {
   "cell_type": "code",
   "execution_count": null,
   "metadata": {},
   "outputs": [],
   "source": []
  }
 ],
 "metadata": {
  "is_mlstudio": "false",
  "kernelspec": {
   "display_name": "Python 3",
   "language": "python",
   "name": "python3"
  },
  "language_info": {
   "codemirror_mode": {
    "name": "ipython",
    "version": 3
   },
   "file_extension": ".py",
   "mimetype": "text/x-python",
   "name": "python",
   "nbconvert_exporter": "python",
   "pygments_lexer": "ipython3",
   "version": "3.8.7"
  }
 },
 "nbformat": 4,
 "nbformat_minor": 4
}
