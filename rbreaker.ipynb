{
 "cells": [
  {
   "cell_type": "code",
   "execution_count": 12,
   "metadata": {},
   "outputs": [
    {
     "data": {
      "text/plain": [
       "[2021-05-21 15:04:03.921449] INFO: moduleinvoker: hfbacktest.v1 开始运行.."
      ]
     },
     "metadata": {
      "is_log": true,
      "status": "INFO"
     },
     "output_type": "display_data"
    },
    {
     "data": {
      "text/plain": [
       "[2021-05-21 15:04:03.929157] INFO: hfbacktest: passed-in daily_data_ds:None"
      ]
     },
     "metadata": {
      "is_log": true,
      "status": "INFO"
     },
     "output_type": "display_data"
    },
    {
     "data": {
      "text/plain": [
       "[2021-05-21 15:04:03.932601] INFO: hfbacktest: passed-in minute_data_ds:None"
      ]
     },
     "metadata": {
      "is_log": true,
      "status": "INFO"
     },
     "output_type": "display_data"
    },
    {
     "data": {
      "text/plain": [
       "[2021-05-21 15:04:03.935011] INFO: hfbacktest: passed-in tick_data_ds:None"
      ]
     },
     "metadata": {
      "is_log": true,
      "status": "INFO"
     },
     "output_type": "display_data"
    },
    {
     "data": {
      "text/plain": [
       "[2021-05-21 15:04:03.937527] INFO: hfbacktest: passed-in each_data_ds:None"
      ]
     },
     "metadata": {
      "is_log": true,
      "status": "INFO"
     },
     "output_type": "display_data"
    },
    {
     "data": {
      "text/plain": [
       "[2021-05-21 15:04:03.939543] INFO: hfbacktest: passed-in dominant_data_ds:None"
      ]
     },
     "metadata": {
      "is_log": true,
      "status": "INFO"
     },
     "output_type": "display_data"
    },
    {
     "data": {
      "text/plain": [
       "[2021-05-21 15:04:03.941277] INFO: hfbacktest: passed-in benchmark_data_ds:None"
      ]
     },
     "metadata": {
      "is_log": true,
      "status": "INFO"
     },
     "output_type": "display_data"
    },
    {
     "data": {
      "text/plain": [
       "[2021-05-21 15:04:03.943454] INFO: hfbacktest: passed-in trading_calendar_ds:None"
      ]
     },
     "metadata": {
      "is_log": true,
      "status": "INFO"
     },
     "output_type": "display_data"
    },
    {
     "data": {
      "text/plain": [
       "[2021-05-21 15:04:03.945013] INFO: hfbacktest: biglearning V1.2.0"
      ]
     },
     "metadata": {
      "is_log": true,
      "status": "INFO"
     },
     "output_type": "display_data"
    },
    {
     "data": {
      "text/plain": [
       "[2021-05-21 15:04:03.946607] INFO: hfbacktest: bigtrader v1.7.6"
      ]
     },
     "metadata": {
      "is_log": true,
      "status": "INFO"
     },
     "output_type": "display_data"
    },
    {
     "data": {
      "text/plain": [
       "[2021-05-21 15:04:03.965953] INFO: hfbacktest: strategy callbacks:{'on_init': <function initialize at 0x7f210ddbd0d0>, 'on_start': <function before_trading at 0x7f210e416550>, 'handle_data': <function handle_data at 0x7f210e4169d0>, 'handle_trade': <function handle_trade at 0x7f210e416b80>, 'handle_order': <function handle_order at 0x7f210e416a60>}"
      ]
     },
     "metadata": {
      "is_log": true,
      "status": "INFO"
     },
     "output_type": "display_data"
    },
    {
     "data": {
      "text/plain": [
       "[2021-05-21 15:04:03.978750] INFO: hfbacktest: begin reading history data, 2020-01-21 00:00:00~2020-04-01, disable_cache:0"
      ]
     },
     "metadata": {
      "is_log": true,
      "status": "INFO"
     },
     "output_type": "display_data"
    },
    {
     "data": {
      "text/plain": [
       "[2021-05-21 15:04:03.980652] INFO: hfbacktest: reading benchmark data 2020-01-01 00:00:00~2020-04-01..."
      ]
     },
     "metadata": {
      "is_log": true,
      "status": "INFO"
     },
     "output_type": "display_data"
    },
    {
     "data": {
      "text/plain": [
       "[2021-05-21 15:04:04.024656] INFO: moduleinvoker: cached.v2 开始运行.."
      ]
     },
     "metadata": {
      "is_log": true,
      "status": "INFO"
     },
     "output_type": "display_data"
    },
    {
     "data": {
      "text/plain": [
       "[2021-05-21 15:04:04.351281] INFO: moduleinvoker: cached.v2 运行完成[0.326616s]."
      ]
     },
     "metadata": {
      "is_log": true,
      "status": "INFO"
     },
     "output_type": "display_data"
    },
    {
     "data": {
      "text/plain": [
       "[2021-05-21 15:04:04.393023] INFO: hfbacktest: reading daily data 2018-07-24 00:00:00~2020-04-01..."
      ]
     },
     "metadata": {
      "is_log": true,
      "status": "INFO"
     },
     "output_type": "display_data"
    },
    {
     "data": {
      "text/plain": [
       "[2021-05-21 15:04:04.397942] INFO: moduleinvoker: cached.v2 开始运行.."
      ]
     },
     "metadata": {
      "is_log": true,
      "status": "INFO"
     },
     "output_type": "display_data"
    },
    {
     "data": {
      "text/plain": [
       "[2021-05-21 15:04:04.759827] INFO: moduleinvoker: cached.v2 运行完成[0.361852s]."
      ]
     },
     "metadata": {
      "is_log": true,
      "status": "INFO"
     },
     "output_type": "display_data"
    },
    {
     "data": {
      "text/plain": [
       "[2021-05-21 15:04:04.816049] INFO: hfbacktest: reading minute data 2019-12-09 00:00:00~2020-04-01..."
      ]
     },
     "metadata": {
      "is_log": true,
      "status": "INFO"
     },
     "output_type": "display_data"
    },
    {
     "data": {
      "text/plain": [
       "[2021-05-21 15:04:04.821198] INFO: moduleinvoker: cached.v2 开始运行.."
      ]
     },
     "metadata": {
      "is_log": true,
      "status": "INFO"
     },
     "output_type": "display_data"
    },
    {
     "data": {
      "text/plain": [
       "[2021-05-21 15:04:05.514001] INFO: moduleinvoker: cached.v2 运行完成[0.692787s]."
      ]
     },
     "metadata": {
      "is_log": true,
      "status": "INFO"
     },
     "output_type": "display_data"
    },
    {
     "data": {
      "text/plain": [
       "[2021-05-21 15:04:05.570622] INFO: hfbacktest: reading dominant data 2020-01-10 00:00:00~2020-04-01..."
      ]
     },
     "metadata": {
      "is_log": true,
      "status": "INFO"
     },
     "output_type": "display_data"
    },
    {
     "data": {
      "text/plain": [
       "[2021-05-21 15:04:05.576896] INFO: moduleinvoker: cached.v2 开始运行.."
      ]
     },
     "metadata": {
      "is_log": true,
      "status": "INFO"
     },
     "output_type": "display_data"
    },
    {
     "data": {
      "text/plain": [
       "[2021-05-21 15:04:05.727919] INFO: moduleinvoker: cached.v2 运行完成[0.151022s]."
      ]
     },
     "metadata": {
      "is_log": true,
      "status": "INFO"
     },
     "output_type": "display_data"
    },
    {
     "data": {
      "text/plain": [
       "[2021-05-21 15:04:05.770446] INFO: hfbacktest: cached_benchmark_ds:DataSource(19d4a3bd638a40409f34458e805dbf42T)"
      ]
     },
     "metadata": {
      "is_log": true,
      "status": "INFO"
     },
     "output_type": "display_data"
    },
    {
     "data": {
      "text/plain": [
       "[2021-05-21 15:04:05.773102] INFO: hfbacktest: cached_daily_ds:DataSource(6e1cb259b60d49899f1e6938c8789010T)"
      ]
     },
     "metadata": {
      "is_log": true,
      "status": "INFO"
     },
     "output_type": "display_data"
    },
    {
     "data": {
      "text/plain": [
       "[2021-05-21 15:04:05.776835] INFO: hfbacktest: cached_minute_ds:DataSource(41b74f5afe9f466caf37dd1794078db1T)"
      ]
     },
     "metadata": {
      "is_log": true,
      "status": "INFO"
     },
     "output_type": "display_data"
    },
    {
     "data": {
      "text/plain": [
       "[2021-05-21 15:04:05.779889] INFO: hfbacktest: cached_tick_ds:None"
      ]
     },
     "metadata": {
      "is_log": true,
      "status": "INFO"
     },
     "output_type": "display_data"
    },
    {
     "data": {
      "text/plain": [
       "[2021-05-21 15:04:05.781504] INFO: hfbacktest: cached_each_ds:None"
      ]
     },
     "metadata": {
      "is_log": true,
      "status": "INFO"
     },
     "output_type": "display_data"
    },
    {
     "data": {
      "text/plain": [
       "[2021-05-21 15:04:05.782493] INFO: hfbacktest: dominant_data_ds:DataSource(bf850fb5dbce42cda1f62790fd9036acT)"
      ]
     },
     "metadata": {
      "is_log": true,
      "status": "INFO"
     },
     "output_type": "display_data"
    },
    {
     "data": {
      "text/plain": [
       "[2021-05-21 15:04:05.783605] INFO: hfbacktest: read history data done, call run_backtest()"
      ]
     },
     "metadata": {
      "is_log": true,
      "status": "INFO"
     },
     "output_type": "display_data"
    },
    {
     "name": "stdout",
     "output_type": "stream",
     "text": [
      "end_date= 2020-04-01\n",
      "2021-05-21 15:04:05.803960 run trading v1.7.6 \n",
      "2021-05-21 15:04:05.804090 init history datas... \n",
      "2021-05-21 15:04:05.823004 init trading env... \n",
      "2021-05-21 15:04:05.823494 run_backtest() capital:100000, frequency:1m, product_type:future, date:2020-01-21 00:00:00 ~ 2020-04-01 00:00:00 \n",
      "2021-05-21 15:04:05.824038 create_app app_name:Strategy already created! \n",
      "2021-05-21 15:04:05.824402 run_backtest() running... \n",
      "initialize\n",
      "2021-05-21 15:04:05.917398 backtest transforming 1m...\n"
     ]
    },
    {
     "name": "stdout",
     "output_type": "stream",
     "text": [
      "2021-05-21 15:04:06.097382 strategy_20210521(bkt999,): handle_order:[bkt999,1,RB2005.SHF,short,open,0,2,3559.0,pending,10:42:00,1] \n",
      "2021-05-21 15:04:06.097673 strategy_20210521(bkt999,): 2020-01-21 10:42:00 开空 for RB2005.SHF 最新价=3559.0 rv:0 \n",
      "2021-05-21 15:04:06.100379 strategy_20210521(bkt999,): handle_order:[bkt999,1,RB2005.SHF,short,open,2,2,3559.0,filled,10:42:00,1] \n",
      "2021-05-21 15:04:06.100834 strategy_20210521(bkt999,): handle_trade:[bkt999,1,RB2005.SHF,short,open,2,3559.0,SHFE.1,10:43:00.000000] \n",
      "2021-05-21 15:04:06.100947 strategy_20210521(bkt999,): 当前多头持仓:Position(bkt999,RB2005.SHF,long,current_qty:0,avail_qty:0,cost_price:0.0,last_price:0.0)当前空头持仓:Position(bkt999,RB2005.SHF,short,current_qty:2,avail_qty:2,cost_price:3559.0,last_price:3559.0) \n"
     ]
    },
    {
     "name": "stdout",
     "output_type": "stream",
     "text": [
      "2021-05-21 15:04:06.302691 strategy_20210521(bkt999,): handle_order:[bkt999,2,RB2005.SHF,long,close_today,0,2,3570.0,pending,14:58:00,2] \n",
      "2021-05-21 15:04:06.303495 strategy_20210521(bkt999,): 2020-01-21 14:58:00 尾盘平空 for RB2005.SHF 最新价=3570.0 rv:0 \n",
      "2021-05-21 15:04:06.305595 strategy_20210521(bkt999,): handle_order:[bkt999,2,RB2005.SHF,long,close_today,2,2,3570.0,filled,14:58:00,2] \n",
      "2021-05-21 15:04:06.306150 strategy_20210521(bkt999,): handle_trade:[bkt999,2,RB2005.SHF,long,close_today,2,3571.0,SHFE.2,14:59:00.000000] \n",
      "2021-05-21 15:04:06.306265 strategy_20210521(bkt999,): 当前多头持仓:Position(bkt999,RB2005.SHF,long,current_qty:0,avail_qty:0,cost_price:0.0,last_price:0.0)当前空头持仓:Position(bkt999,RB2005.SHF,short,current_qty:0,avail_qty:0,cost_price:3559.0,last_price:3571.0) \n"
     ]
    },
    {
     "name": "stdout",
     "output_type": "stream",
     "text": [
      "2021-05-21 15:04:07.582649 strategy_20210521(bkt999,): handle_order:[bkt999,3,RB2005.SHF,short,open,0,2,3233.0,pending,09:01:00,3] \n",
      "2021-05-21 15:04:07.582956 strategy_20210521(bkt999,): 2020-02-03 09:01:00 开空 for RB2005.SHF 最新价=3233.0 rv:0 \n",
      "2021-05-21 15:04:07.585246 strategy_20210521(bkt999,): handle_order:[bkt999,3,RB2005.SHF,short,open,2,2,3233.0,filled,09:01:00,3] \n",
      "2021-05-21 15:04:07.586329 strategy_20210521(bkt999,): handle_trade:[bkt999,3,RB2005.SHF,short,open,2,3232.0,SHFE.3,09:02:00.000000] \n",
      "2021-05-21 15:04:07.586466 strategy_20210521(bkt999,): 当前多头持仓:Position(bkt999,RB2005.SHF,long,current_qty:0,avail_qty:0,cost_price:0.0,last_price:0.0)当前空头持仓:Position(bkt999,RB2005.SHF,short,current_qty:2,avail_qty:2,cost_price:3232.0,last_price:3232.0) \n",
      "达到止损点，全部平仓\n",
      "2021-05-21 15:04:07.684168 strategy_20210521(bkt999,): handle_order:[bkt999,4,RB2005.SHF,long,close_today,0,2,3288.0,pending,09:59:00,4] \n",
      "2021-05-21 15:04:07.684455 strategy_20210521(bkt999,): 2020-02-03 09:59:00 止损平空 for RB2005.SHF 最新价=3288.0 rv:0 \n",
      "2021-05-21 15:04:07.687305 strategy_20210521(bkt999,): handle_order:[bkt999,4,RB2005.SHF,long,close_today,2,2,3288.0,filled,09:59:00,4] \n",
      "2021-05-21 15:04:07.687623 strategy_20210521(bkt999,): handle_trade:[bkt999,4,RB2005.SHF,long,close_today,2,3289.0,SHFE.4,10:00:00.000000] \n",
      "2021-05-21 15:04:07.687751 strategy_20210521(bkt999,): 当前多头持仓:Position(bkt999,RB2005.SHF,long,current_qty:0,avail_qty:0,cost_price:0.0,last_price:0.0)当前空头持仓:Position(bkt999,RB2005.SHF,short,current_qty:0,avail_qty:0,cost_price:3232.0,last_price:3289.0) \n",
      "2021-05-21 15:04:07.689942 strategy_20210521(bkt999,): handle_order:[bkt999,5,RB2005.SHF,short,open,0,2,3289.0,pending,10:00:00,5] \n",
      "2021-05-21 15:04:07.690842 strategy_20210521(bkt999,): 2020-02-03 10:00:00 开空 for RB2005.SHF 最新价=3289.0 rv:0 \n",
      "2021-05-21 15:04:07.692865 strategy_20210521(bkt999,): handle_order:[bkt999,5,RB2005.SHF,short,open,2,2,3289.0,filled,10:00:00,5] \n",
      "2021-05-21 15:04:07.693526 strategy_20210521(bkt999,): handle_trade:[bkt999,5,RB2005.SHF,short,open,2,3288.0,SHFE.5,10:01:00.000000] \n",
      "2021-05-21 15:04:07.693642 strategy_20210521(bkt999,): 当前多头持仓:Position(bkt999,RB2005.SHF,long,current_qty:0,avail_qty:0,cost_price:0.0,last_price:0.0)当前空头持仓:Position(bkt999,RB2005.SHF,short,current_qty:2,avail_qty:2,cost_price:3288.0,last_price:3288.0) \n"
     ]
    },
    {
     "name": "stdout",
     "output_type": "stream",
     "text": [
      "2021-05-21 15:04:07.992425 strategy_20210521(bkt999,): handle_order:[bkt999,6,RB2005.SHF,long,close_today,0,2,3233.0,pending,14:58:00,6] \n",
      "2021-05-21 15:04:07.992717 strategy_20210521(bkt999,): 2020-02-03 14:58:00 尾盘平空 for RB2005.SHF 最新价=3233.0 rv:0 \n",
      "2021-05-21 15:04:07.994942 strategy_20210521(bkt999,): handle_order:[bkt999,6,RB2005.SHF,long,close_today,2,2,3233.0,filled,14:58:00,6] \n",
      "2021-05-21 15:04:07.995788 strategy_20210521(bkt999,): handle_trade:[bkt999,6,RB2005.SHF,long,close_today,2,3234.0,SHFE.6,14:59:00.000000] \n",
      "2021-05-21 15:04:07.996014 strategy_20210521(bkt999,): 当前多头持仓:Position(bkt999,RB2005.SHF,long,current_qty:0,avail_qty:0,cost_price:0.0,last_price:0.0)当前空头持仓:Position(bkt999,RB2005.SHF,short,current_qty:0,avail_qty:0,cost_price:3288.0,last_price:3234.0) \n"
     ]
    },
    {
     "name": "stdout",
     "output_type": "stream",
     "text": [
      "2021-05-21 15:04:10.635686 strategy_20210521(bkt999,): handle_order:[bkt999,7,RB2005.SHF,long,open,0,2,3368.0,pending,09:20:00,7] \n",
      "2021-05-21 15:04:10.636161 strategy_20210521(bkt999,): 2020-02-11 09:20:00 开多 for RB2005.SHF 最新价=3368.0 rv:0 \n",
      "2021-05-21 15:04:10.640498 strategy_20210521(bkt999,): handle_order:[bkt999,7,RB2005.SHF,long,open,2,2,3368.0,filled,09:20:00,7] \n",
      "2021-05-21 15:04:10.642298 strategy_20210521(bkt999,): handle_trade:[bkt999,7,RB2005.SHF,long,open,2,3368.0,SHFE.7,09:21:00.000000] \n",
      "2021-05-21 15:04:10.643012 strategy_20210521(bkt999,): 当前多头持仓:Position(bkt999,RB2005.SHF,long,current_qty:2,avail_qty:2,cost_price:3368.0,last_price:3368.0)当前空头持仓:Position(bkt999,RB2005.SHF,short,current_qty:0,avail_qty:0,cost_price:0.0,last_price:0.0) \n"
     ]
    },
    {
     "name": "stdout",
     "output_type": "stream",
     "text": [
      "2021-05-21 15:04:11.027662 strategy_20210521(bkt999,): handle_order:[bkt999,8,RB2005.SHF,short,close_today,0,2,3395.0,pending,14:58:00,8] \n",
      "2021-05-21 15:04:11.028147 strategy_20210521(bkt999,): 2020-02-11 14:58:00 尾盘平多 for RB2005.SHF 最新价=3395.0 rv:0 \n",
      "2021-05-21 15:04:11.031890 strategy_20210521(bkt999,): handle_order:[bkt999,8,RB2005.SHF,short,close_today,2,2,3395.0,filled,14:58:00,8] \n",
      "2021-05-21 15:04:11.033704 strategy_20210521(bkt999,): handle_trade:[bkt999,8,RB2005.SHF,short,close_today,2,3394.0,SHFE.8,14:59:00.000000] \n",
      "2021-05-21 15:04:11.033968 strategy_20210521(bkt999,): 当前多头持仓:Position(bkt999,RB2005.SHF,long,current_qty:0,avail_qty:0,cost_price:3368.0,last_price:3394.0)当前空头持仓:Position(bkt999,RB2005.SHF,short,current_qty:0,avail_qty:0,cost_price:0.0,last_price:0.0) \n"
     ]
    },
    {
     "name": "stdout",
     "output_type": "stream",
     "text": [
      "2021-05-21 15:04:14.016372 strategy_20210521(bkt999,): handle_order:[bkt999,9,RB2005.SHF,long,open,0,2,3441.0,pending,09:28:00,9] \n",
      "2021-05-21 15:04:14.016707 strategy_20210521(bkt999,): 2020-02-20 09:28:00 开多 for RB2005.SHF 最新价=3441.0 rv:0 \n",
      "2021-05-21 15:04:14.018911 strategy_20210521(bkt999,): handle_order:[bkt999,9,RB2005.SHF,long,open,2,2,3441.0,filled,09:28:00,9] \n",
      "2021-05-21 15:04:14.019748 strategy_20210521(bkt999,): handle_trade:[bkt999,9,RB2005.SHF,long,open,2,3442.0,SHFE.9,09:29:00.000000] \n",
      "2021-05-21 15:04:14.019882 strategy_20210521(bkt999,): 当前多头持仓:Position(bkt999,RB2005.SHF,long,current_qty:2,avail_qty:2,cost_price:3442.0,last_price:3442.0)当前空头持仓:Position(bkt999,RB2005.SHF,short,current_qty:0,avail_qty:0,cost_price:0.0,last_price:0.0) \n"
     ]
    },
    {
     "name": "stdout",
     "output_type": "stream",
     "text": [
      "2021-05-21 15:04:14.373407 strategy_20210521(bkt999,): handle_order:[bkt999,10,RB2005.SHF,short,close_today,0,2,3457.0,pending,14:58:00,10] \n",
      "2021-05-21 15:04:14.374021 strategy_20210521(bkt999,): 2020-02-20 14:58:00 尾盘平多 for RB2005.SHF 最新价=3457.0 rv:0 \n",
      "2021-05-21 15:04:14.377586 strategy_20210521(bkt999,): handle_order:[bkt999,10,RB2005.SHF,short,close_today,2,2,3457.0,filled,14:58:00,10] \n",
      "2021-05-21 15:04:14.379541 strategy_20210521(bkt999,): handle_trade:[bkt999,10,RB2005.SHF,short,close_today,2,3457.0,SHFE.10,14:59:00.000000] \n",
      "2021-05-21 15:04:14.379669 strategy_20210521(bkt999,): 当前多头持仓:Position(bkt999,RB2005.SHF,long,current_qty:0,avail_qty:0,cost_price:3442.0,last_price:3457.0)当前空头持仓:Position(bkt999,RB2005.SHF,short,current_qty:0,avail_qty:0,cost_price:0.0,last_price:0.0) \n"
     ]
    },
    {
     "name": "stdout",
     "output_type": "stream",
     "text": [
      "2021-05-21 15:04:17.003985 strategy_20210521(bkt999,): handle_order:[bkt999,11,RB2005.SHF,short,open,0,2,3347.0,pending,09:05:00,11] \n",
      "2021-05-21 15:04:17.004497 strategy_20210521(bkt999,): 2020-02-28 09:05:00 开空 for RB2005.SHF 最新价=3347.0 rv:0 \n",
      "2021-05-21 15:04:17.008097 strategy_20210521(bkt999,): handle_order:[bkt999,11,RB2005.SHF,short,open,2,2,3347.0,filled,09:05:00,11] \n",
      "2021-05-21 15:04:17.009761 strategy_20210521(bkt999,): handle_trade:[bkt999,11,RB2005.SHF,short,open,2,3346.0,SHFE.11,09:06:00.000000] \n",
      "2021-05-21 15:04:17.010010 strategy_20210521(bkt999,): 当前多头持仓:Position(bkt999,RB2005.SHF,long,current_qty:0,avail_qty:0,cost_price:0.0,last_price:0.0)当前空头持仓:Position(bkt999,RB2005.SHF,short,current_qty:2,avail_qty:2,cost_price:3346.0,last_price:3346.0) \n"
     ]
    },
    {
     "name": "stdout",
     "output_type": "stream",
     "text": [
      "2021-05-21 15:04:17.444151 strategy_20210521(bkt999,): handle_order:[bkt999,12,RB2005.SHF,long,close_today,0,2,3333.0,pending,14:58:00,12] \n",
      "2021-05-21 15:04:17.444722 strategy_20210521(bkt999,): 2020-02-28 14:58:00 尾盘平空 for RB2005.SHF 最新价=3333.0 rv:0 \n",
      "2021-05-21 15:04:17.447789 strategy_20210521(bkt999,): handle_order:[bkt999,12,RB2005.SHF,long,close_today,2,2,3333.0,filled,14:58:00,12] \n",
      "2021-05-21 15:04:17.448290 strategy_20210521(bkt999,): handle_trade:[bkt999,12,RB2005.SHF,long,close_today,2,3335.0,SHFE.12,14:59:00.000000] \n",
      "2021-05-21 15:04:17.448440 strategy_20210521(bkt999,): 当前多头持仓:Position(bkt999,RB2005.SHF,long,current_qty:0,avail_qty:0,cost_price:0.0,last_price:0.0)当前空头持仓:Position(bkt999,RB2005.SHF,short,current_qty:0,avail_qty:0,cost_price:3346.0,last_price:3335.0) \n"
     ]
    },
    {
     "name": "stdout",
     "output_type": "stream",
     "text": [
      "2021-05-21 15:04:20.254911 strategy_20210521(bkt999,): handle_order:[bkt999,13,RB2005.SHF,short,open,0,2,3390.0,pending,09:02:00,13] \n",
      "2021-05-21 15:04:20.255436 strategy_20210521(bkt999,): 2020-03-09 09:02:00 开空 for RB2005.SHF 最新价=3390.0 rv:0 \n",
      "2021-05-21 15:04:20.258832 strategy_20210521(bkt999,): handle_order:[bkt999,13,RB2005.SHF,short,open,2,2,3390.0,filled,09:02:00,13] \n",
      "2021-05-21 15:04:20.259474 strategy_20210521(bkt999,): handle_trade:[bkt999,13,RB2005.SHF,short,open,2,3389.0,SHFE.13,09:03:00.000000] \n",
      "2021-05-21 15:04:20.259624 strategy_20210521(bkt999,): 当前多头持仓:Position(bkt999,RB2005.SHF,long,current_qty:0,avail_qty:0,cost_price:0.0,last_price:0.0)当前空头持仓:Position(bkt999,RB2005.SHF,short,current_qty:2,avail_qty:2,cost_price:3389.0,last_price:3389.0) \n"
     ]
    },
    {
     "name": "stdout",
     "output_type": "stream",
     "text": [
      "2021-05-21 15:04:20.687656 strategy_20210521(bkt999,): handle_order:[bkt999,14,RB2005.SHF,long,close_today,0,2,3439.0,pending,14:58:00,14] \n",
      "2021-05-21 15:04:20.688040 strategy_20210521(bkt999,): 2020-03-09 14:58:00 尾盘平空 for RB2005.SHF 最新价=3439.0 rv:0 \n",
      "2021-05-21 15:04:20.692043 strategy_20210521(bkt999,): handle_order:[bkt999,14,RB2005.SHF,long,close_today,2,2,3439.0,filled,14:58:00,14] \n",
      "2021-05-21 15:04:20.692832 strategy_20210521(bkt999,): handle_trade:[bkt999,14,RB2005.SHF,long,close_today,2,3440.0,SHFE.14,14:59:00.000000] \n",
      "2021-05-21 15:04:20.693073 strategy_20210521(bkt999,): 当前多头持仓:Position(bkt999,RB2005.SHF,long,current_qty:0,avail_qty:0,cost_price:0.0,last_price:0.0)当前空头持仓:Position(bkt999,RB2005.SHF,short,current_qty:0,avail_qty:0,cost_price:3389.0,last_price:3440.0) \n"
     ]
    },
    {
     "name": "stdout",
     "output_type": "stream",
     "text": [
      "2021-05-21 15:04:24.378441 strategy_20210521(bkt999,): handle_order:[bkt999,15,RB2005.SHF,short,open,0,2,3456.0,pending,10:14:00,15] \n",
      "2021-05-21 15:04:24.379818 strategy_20210521(bkt999,): 2020-03-19 10:14:00 开空 for RB2005.SHF 最新价=3456.0 rv:0 \n",
      "2021-05-21 15:04:24.385180 strategy_20210521(bkt999,): handle_order:[bkt999,15,RB2005.SHF,short,open,2,2,3456.0,filled,10:14:00,15] \n",
      "2021-05-21 15:04:24.385958 strategy_20210521(bkt999,): handle_trade:[bkt999,15,RB2005.SHF,short,open,2,3456.0,SHFE.15,10:15:00.000000] \n",
      "2021-05-21 15:04:24.386233 strategy_20210521(bkt999,): 当前多头持仓:Position(bkt999,RB2005.SHF,long,current_qty:0,avail_qty:0,cost_price:0.0,last_price:0.0)当前空头持仓:Position(bkt999,RB2005.SHF,short,current_qty:2,avail_qty:2,cost_price:3456.0,last_price:3456.0) \n"
     ]
    },
    {
     "name": "stdout",
     "output_type": "stream",
     "text": [
      "达到止损点，全部平仓\n",
      "2021-05-21 15:04:24.598718 strategy_20210521(bkt999,): handle_order:[bkt999,16,RB2005.SHF,long,close_today,0,2,3507.0,pending,14:20:00,16] \n",
      "2021-05-21 15:04:24.598998 strategy_20210521(bkt999,): 2020-03-19 14:20:00 止损平空 for RB2005.SHF 最新价=3507.0 rv:0 \n",
      "2021-05-21 15:04:24.601799 strategy_20210521(bkt999,): handle_order:[bkt999,16,RB2005.SHF,long,close_today,2,2,3507.0,filled,14:20:00,16] \n",
      "2021-05-21 15:04:24.602851 strategy_20210521(bkt999,): handle_trade:[bkt999,16,RB2005.SHF,long,close_today,2,3508.0,SHFE.16,14:21:00.000000] \n",
      "2021-05-21 15:04:24.603168 strategy_20210521(bkt999,): 当前多头持仓:Position(bkt999,RB2005.SHF,long,current_qty:0,avail_qty:0,cost_price:0.0,last_price:0.0)当前空头持仓:Position(bkt999,RB2005.SHF,short,current_qty:0,avail_qty:0,cost_price:3456.0,last_price:3508.0) \n"
     ]
    },
    {
     "name": "stdout",
     "output_type": "stream",
     "text": [
      "2021-05-21 15:04:27.766958 strategy_20210521(bkt999,): handle_order:[bkt999,17,RB2005.SHF,short,open,0,2,3408.0,pending,09:11:00,17] \n",
      "2021-05-21 15:04:27.767330 strategy_20210521(bkt999,): 2020-03-30 09:11:00 开空 for RB2005.SHF 最新价=3408.0 rv:0 \n",
      "2021-05-21 15:04:27.771419 strategy_20210521(bkt999,): handle_order:[bkt999,17,RB2005.SHF,short,open,2,2,3408.0,filled,09:11:00,17] \n",
      "2021-05-21 15:04:27.772064 strategy_20210521(bkt999,): handle_trade:[bkt999,17,RB2005.SHF,short,open,2,3405.0,SHFE.17,09:12:00.000000] \n",
      "2021-05-21 15:04:27.772225 strategy_20210521(bkt999,): 当前多头持仓:Position(bkt999,RB2005.SHF,long,current_qty:0,avail_qty:0,cost_price:0.0,last_price:0.0)当前空头持仓:Position(bkt999,RB2005.SHF,short,current_qty:2,avail_qty:2,cost_price:3405.0,last_price:3405.0) \n"
     ]
    },
    {
     "name": "stdout",
     "output_type": "stream",
     "text": [
      "2021-05-21 15:04:28.196553 strategy_20210521(bkt999,): handle_order:[bkt999,18,RB2005.SHF,long,close_today,0,2,3403.0,pending,14:58:00,18] \n",
      "2021-05-21 15:04:28.196956 strategy_20210521(bkt999,): 2020-03-30 14:58:00 尾盘平空 for RB2005.SHF 最新价=3403.0 rv:0 \n",
      "2021-05-21 15:04:28.199126 strategy_20210521(bkt999,): handle_order:[bkt999,18,RB2005.SHF,long,close_today,2,2,3403.0,filled,14:58:00,18] \n",
      "2021-05-21 15:04:28.200058 strategy_20210521(bkt999,): handle_trade:[bkt999,18,RB2005.SHF,long,close_today,2,3405.0,SHFE.18,14:59:00.000000] \n",
      "2021-05-21 15:04:28.200193 strategy_20210521(bkt999,): 当前多头持仓:Position(bkt999,RB2005.SHF,long,current_qty:0,avail_qty:0,cost_price:0.0,last_price:0.0)当前空头持仓:Position(bkt999,RB2005.SHF,short,current_qty:0,avail_qty:0,cost_price:3405.0,last_price:3405.0) \n"
     ]
    },
    {
     "name": "stdout",
     "output_type": "stream",
     "text": [
      "2021-05-21 15:04:29.236413 run_backtest() finished! time cost 23.412s! \n"
     ]
    },
    {
     "data": {
      "text/plain": [
       "[2021-05-21 15:04:30.364247] INFO: hfbacktest: backtest done, raw_perf_ds:DataSource(a451ab6a5753473e9becefa63cb35d86T)"
      ]
     },
     "metadata": {
      "is_log": true,
      "status": "INFO"
     },
     "output_type": "display_data"
    },
    {
     "data": {
      "text/html": [
       "<div id='bigchart-f00fd7e0b5ec4a7ea5a8fb10bf0a3533' class='bigchart display' style='display:none'><ul class='nav nav-tabs' style='padding-left: 0;'><li class='tabtitle' style='margin: 0;'><span style='margin: 0;font-size: 1.2em;display: inline-block;padding: 10px 10px;'>Trade(回测/模拟)</span></li><li class='active'><a>收益概况</a></li><li><a>交易详情</a></li><li><a>每日持仓和收益</a></li><li><a>输出日志</a></li></ul><div class='tab-content' style='min-height: 100px;text-align: center;'><div class='tab-pane active' id='收益概况'>\n",
       "<div class='kpicontainer'>\n",
       "    <ul class='kpi'>\n",
       "        <li><span class='title'>收益率</span><span class='value'>-1.35%</span></li>\n",
       "        <li><span class='title'>年化收益率</span><span class='value'>-7.16%</span></li>\n",
       "        <li><span class='title'>基准收益率</span><span class='value'>-10.68%</span></li>\n",
       "        <li><span class='title'>阿尔法</span><span class='value'>-0.08</span></li>\n",
       "        <li><span class='title'>贝塔</span><span class='value'>0.03</span></li>\n",
       "        <li><span class='title'>夏普比率</span><span class='value'>-2.73</span></li>\n",
       "        <li><span class='title'>胜率</span><span class='value'>0.22</span></li>\n",
       "        <li><span class='title'>盈亏比</span><span class='value'>0.62</span></li>\n",
       "        <li><span class='title'>收益波动率</span><span class='value'>3.78%</span></li>\n",
       "        <li><span class='title'>信息比率</span><span class='value'>0.11</span></li>\n",
       "        <li><span class='title'>最大回撤</span><span class='value'>2.05%</span></li>\n",
       "    </ul>\n",
       "</div>\n",
       "<div id=\"bigchart-00e9ef7517264e4a9d15f1fa032bd86e\" class=\"bigchart\"></div><div class=\"bigchart-data\"><pre style=\"display:none\">bigcharts-data-start/{\"chart\":{\"height\":400,\"renderTo\":\"bigchart-00e9ef7517264e4a9d15f1fa032bd86e\"},\"legend\":{\"enabled\":true},\"stock\":true,\"series\":[{\"name\":\"\\u7b56\\u7565\\u6536\\u76ca\\u7387\",\"yAxis\":0,\"data\":[[1579564800000,-0.2432],[1579651200000,-0.2432],[1579737600000,-0.2432],[1580688000000,-0.3091],[1580774400000,-0.3091],[1580860800000,-0.3091],[1580947200000,-0.3091],[1581033600000,-0.3091],[1581292800000,-0.3091],[1581379200000,0.2079],[1581465600000,0.2079],[1581552000000,0.2079],[1581638400000,0.2079],[1581897600000,0.2079],[1581984000000,0.2079],[1582070400000,0.2079],[1582156800000,0.5048],[1582243200000,0.5048],[1582502400000,0.5048],[1582588800000,0.5048],[1582675200000,0.5048],[1582761600000,0.5048],[1582848000000,0.7218],[1583107200000,0.7218],[1583193600000,0.7218],[1583280000000,0.7218],[1583366400000,0.7218],[1583452800000,0.7218],[1583712000000,-0.3013],[1583798400000,-0.3013],[1583884800000,-0.3013],[1583971200000,-0.3013],[1584057600000,-0.3013],[1584316800000,-0.3013],[1584403200000,-0.3013],[1584489600000,-0.3013],[1584576000000,-1.3444],[1584662400000,-1.3444],[1584921600000,-1.3444],[1585008000000,-1.3444],[1585094400000,-1.3444],[1585180800000,-1.3444],[1585267200000,-1.3444],[1585526400000,-1.3474],[1585612800000,-1.3474],[1585699200000,-1.3474]],\"color\":\"#ff9900\",\"tooltip\":{\"valueDecimals\":2,\"valueSuffix\":\" %\"}},{\"name\":\"\\u57fa\\u51c6\\u6536\\u76ca\\u7387\",\"yAxis\":0,\"data\":[[1579564800000,0.0],[1579651200000,0.4283],[1579737600000,-2.6835],[1580688000000,-10.3529],[1580774400000,-7.9885],[1580860800000,-6.946],[1580947200000,-5.2143],[1581033600000,-5.212],[1581292800000,-4.8199],[1581379200000,-3.9337],[1581465600000,-3.1567],[1581552000000,-3.7525],[1581638400000,-3.0764],[1581897600000,-0.8965],[1581984000000,-1.3805],[1582070400000,-1.5312],[1582156800000,0.7376],[1582243200000,0.8551],[1582502400000,0.4504],[1582588800000,0.232],[1582675200000,-1.0036],[1582761600000,-0.7154],[1582848000000,-4.2354],[1583107200000,-1.085],[1583193600000,-0.5577],[1583280000000,0.0181],[1583366400000,2.2463],[1583452800000,0.5882],[1583712000000,-2.848],[1583798400000,-0.7674],[1583884800000,-2.0873],[1583971200000,-3.9714],[1584057600000,-5.3227],[1584316800000,-9.3932],[1584403200000,-9.8346],[1584489600000,-11.6192],[1584576000000,-12.7656],[1584662400000,-11.2068],[1584921600000,-14.1944],[1585008000000,-11.89],[1585094400000,-9.5226],[1585180800000,-10.1174],[1585267200000,-9.8254],[1585526400000,-10.6992],[1585612800000,-10.4064],[1585699200000,-10.6757]],\"color\":\"#6699ff\",\"tooltip\":{\"valueDecimals\":2,\"valueSuffix\":\" %\"}},{\"name\":\"\\u76f8\\u5bf9\\u6536\\u76ca\\u7387\",\"yAxis\":0,\"data\":[[1579564800000,-0.2432],[1579651200000,-0.6705],[1579737600000,2.4073],[1580688000000,10.4103],[1580774400000,7.4982],[1580860800000,6.2803],[1580947200000,4.3025],[1581033600000,4.3],[1581292800000,3.8684],[1581379200000,3.44],[1581465600000,2.6034],[1581552000000,3.2346],[1581638400000,2.5095],[1581897600000,0.2039],[1581984000000,0.6933],[1582070400000,0.8471],[1582156800000,-1.1777],[1582243200000,-1.2929],[1582502400000,-0.8969],[1582588800000,-0.6814],[1582675200000,0.543],[1582761600000,0.2502],[1582848000000,4.021],[1583107200000,0.5989],[1583193600000,0.0626],[1583280000000,-0.5168],[1583366400000,-2.733],[1583452800000,-1.1557],[1583712000000,1.2169],[1583798400000,-0.9506],[1583884800000,0.3668],[1583971200000,2.2981],[1584057600000,3.7377],[1584316800000,8.1977],[1584403200000,8.7247],[1584489600000,10.8767],[1584576000000,11.1548],[1584662400000,9.1686],[1584921600000,12.8417],[1585008000000,9.8113],[1585094400000,6.8608],[1585180800000,7.5633],[1585267200000,7.2138],[1585526400000,8.2494],[1585612800000,7.8945],[1585699200000,8.2188]],\"color\":\"#994a4d\",\"tooltip\":{\"valueDecimals\":2,\"valueSuffix\":\" %\"},\"visible\":false},{\"name\":\"\\u98ce\\u9669\\u5ea6\",\"yAxis\":1,\"data\":[[1579564800000,0.0],[1579651200000,0.0],[1579737600000,0.0],[1580688000000,0.0],[1580774400000,0.0],[1580860800000,0.0],[1580947200000,0.0],[1581033600000,0.0],[1581292800000,0.0],[1581379200000,0.0],[1581465600000,0.0],[1581552000000,0.0],[1581638400000,0.0],[1581897600000,0.0],[1581984000000,0.0],[1582070400000,0.0],[1582156800000,0.0],[1582243200000,0.0],[1582502400000,0.0],[1582588800000,0.0],[1582675200000,0.0],[1582761600000,0.0],[1582848000000,0.0],[1583107200000,0.0],[1583193600000,0.0],[1583280000000,0.0],[1583366400000,0.0],[1583452800000,0.0],[1583712000000,0.0],[1583798400000,0.0],[1583884800000,0.0],[1583971200000,0.0],[1584057600000,0.0],[1584316800000,0.0],[1584403200000,0.0],[1584489600000,0.0],[1584576000000,0.0],[1584662400000,0.0],[1584921600000,0.0],[1585008000000,0.0],[1585094400000,0.0],[1585180800000,0.0],[1585267200000,0.0],[1585526400000,0.0],[1585612800000,0.0],[1585699200000,0.0]],\"color\":\"#66ff99\",\"tooltip\":{\"valueDecimals\":2,\"valueSuffix\":\" %\"},\"visible\":false},{\"name\":\"short_margin\",\"yAxis\":2,\"data\":[[1579564800000,0.0],[1579651200000,0.0],[1579737600000,0.0],[1580688000000,0.0],[1580774400000,0.0],[1580860800000,0.0],[1580947200000,0.0],[1581033600000,0.0],[1581292800000,0.0],[1581379200000,0.0],[1581465600000,0.0],[1581552000000,0.0],[1581638400000,0.0],[1581897600000,0.0],[1581984000000,0.0],[1582070400000,0.0],[1582156800000,0.0],[1582243200000,0.0],[1582502400000,0.0],[1582588800000,0.0],[1582675200000,0.0],[1582761600000,0.0],[1582848000000,0.0],[1583107200000,0.0],[1583193600000,0.0],[1583280000000,0.0],[1583366400000,0.0],[1583452800000,0.0],[1583712000000,0.0],[1583798400000,0.0],[1583884800000,0.0],[1583971200000,0.0],[1584057600000,0.0],[1584316800000,0.0],[1584403200000,0.0],[1584489600000,0.0],[1584576000000,0.0],[1584662400000,0.0],[1584921600000,0.0],[1585008000000,0.0],[1585094400000,0.0],[1585180800000,0.0],[1585267200000,0.0],[1585526400000,0.0],[1585612800000,0.0],[1585699200000,0.0]]},{\"name\":\"long_margin\",\"yAxis\":2,\"data\":[[1579564800000,0.0],[1579651200000,0.0],[1579737600000,0.0],[1580688000000,0.0],[1580774400000,0.0],[1580860800000,0.0],[1580947200000,0.0],[1581033600000,0.0],[1581292800000,0.0],[1581379200000,0.0],[1581465600000,0.0],[1581552000000,0.0],[1581638400000,0.0],[1581897600000,0.0],[1581984000000,0.0],[1582070400000,0.0],[1582156800000,0.0],[1582243200000,0.0],[1582502400000,0.0],[1582588800000,0.0],[1582675200000,0.0],[1582761600000,0.0],[1582848000000,0.0],[1583107200000,0.0],[1583193600000,0.0],[1583280000000,0.0],[1583366400000,0.0],[1583452800000,0.0],[1583712000000,0.0],[1583798400000,0.0],[1583884800000,0.0],[1583971200000,0.0],[1584057600000,0.0],[1584316800000,0.0],[1584403200000,0.0],[1584489600000,0.0],[1584576000000,0.0],[1584662400000,0.0],[1584921600000,0.0],[1585008000000,0.0],[1585094400000,0.0],[1585180800000,0.0],[1585267200000,0.0],[1585526400000,0.0],[1585612800000,0.0],[1585699200000,0.0]]}],\"xAxis\":{\"title\":{\"text\":\"date\"},\"type\":\"datetime\"},\"yAxis\":[{\"labels\":{\"align\":\"right\",\"x\":-3,\"format\":\"{value}%\"},\"title\":{\"text\":\"\\u51c0\\u503c\\u66f2\\u7ebf\"},\"top\":\"0%\",\"height\":\"62%\",\"offset\":0,\"lineWidth\":2,\"gridLineColor\":\"#cfcfcf\",\"gridLineWidth\":1},{\"labels\":{\"align\":\"right\",\"x\":-3,\"format\":\"{value}%\"},\"title\":{\"text\":\"\\u98ce\\u9669\\u5ea6\"},\"top\":\"66%\",\"height\":\"15%\",\"offset\":0,\"lineWidth\":2,\"gridLineColor\":\"#cfcfcf\",\"gridLineWidth\":1},{\"labels\":{\"align\":\"right\",\"x\":-3},\"title\":{\"text\":\"\\u81ea\\u5b9a\\u4e49\\u6570\\u636e\"},\"top\":\"85%\",\"height\":\"15%\",\"offset\":0,\"lineWidth\":2,\"gridLineColor\":\"#cfcfcf\",\"gridLineWidth\":1}]}/bigcharts-data-end</pre></div></div><div class='tab-pane' id='交易详情'><table id=\"bigchart-645f65a311f647b3949e225498c1673e\" width=\"100%\" class=\"display bigchart\"></table><div class=\"bigchart-data\"><pre style=\"display:none\">bigcharts-data-start/{\"deferRender\":true,\"data\":[[\"2020-03-30 14:59:00\",\"RB2005.SHF\",\"\\u87ba\\u7eb9\\u94a22005\",\"\\u4e70\\u5165\",\"\\u5e73\\u4eca\",2,3405.0,68100.0,0.0],[\"2020-03-30 09:12:00\",\"RB2005.SHF\",\"\\u87ba\\u7eb9\\u94a22005\",\"\\u5356\\u51fa\",\"\\u5f00\\u4ed3\",2,3405.0,-68100.0,3.06],[\"\",\"\",\"\",\"\",\"\",\"\\uff082 \\u7b14\\u4ea4\\u6613\",\"\\u4e70\\u5165 \\uffe568100.0\",\"\\u5356\\u51fa \\uffe5-68100.0\\uff09\",\"\\u603b\\u4f63\\u91d1\\uffe53.06\\uff09\"],[\"2020-03-19 14:21:00\",\"RB2005.SHF\",\"\\u87ba\\u7eb9\\u94a22005\",\"\\u4e70\\u5165\",\"\\u5e73\\u4eca\",2,3508.0,70160.0,0.0],[\"2020-03-19 10:15:00\",\"RB2005.SHF\",\"\\u87ba\\u7eb9\\u94a22005\",\"\\u5356\\u51fa\",\"\\u5f00\\u4ed3\",2,3456.0,-69120.0,3.11],[\"\",\"\",\"\",\"\",\"\",\"\\uff082 \\u7b14\\u4ea4\\u6613\",\"\\u4e70\\u5165 \\uffe570160.0\",\"\\u5356\\u51fa \\uffe5-69120.0\\uff09\",\"\\u603b\\u4f63\\u91d1\\uffe53.11\\uff09\"],[\"2020-03-09 14:59:00\",\"RB2005.SHF\",\"\\u87ba\\u7eb9\\u94a22005\",\"\\u4e70\\u5165\",\"\\u5e73\\u4eca\",2,3440.0,68800.0,0.0],[\"2020-03-09 09:03:00\",\"RB2005.SHF\",\"\\u87ba\\u7eb9\\u94a22005\",\"\\u5356\\u51fa\",\"\\u5f00\\u4ed3\",2,3389.0,-67780.0,3.05],[\"\",\"\",\"\",\"\",\"\",\"\\uff082 \\u7b14\\u4ea4\\u6613\",\"\\u4e70\\u5165 \\uffe568800.0\",\"\\u5356\\u51fa \\uffe5-67780.0\\uff09\",\"\\u603b\\u4f63\\u91d1\\uffe53.05\\uff09\"],[\"2020-02-28 14:59:00\",\"RB2005.SHF\",\"\\u87ba\\u7eb9\\u94a22005\",\"\\u4e70\\u5165\",\"\\u5e73\\u4eca\",2,3335.0,66700.0,0.0],[\"2020-02-28 09:06:00\",\"RB2005.SHF\",\"\\u87ba\\u7eb9\\u94a22005\",\"\\u5356\\u51fa\",\"\\u5f00\\u4ed3\",2,3346.0,-66920.0,3.01],[\"\",\"\",\"\",\"\",\"\",\"\\uff082 \\u7b14\\u4ea4\\u6613\",\"\\u4e70\\u5165 \\uffe566700.0\",\"\\u5356\\u51fa \\uffe5-66920.0\\uff09\",\"\\u603b\\u4f63\\u91d1\\uffe53.01\\uff09\"],[\"2020-02-20 14:59:00\",\"RB2005.SHF\",\"\\u87ba\\u7eb9\\u94a22005\",\"\\u5356\\u51fa\",\"\\u5e73\\u4eca\",2,3457.0,-69140.0,0.0],[\"2020-02-20 09:29:00\",\"RB2005.SHF\",\"\\u87ba\\u7eb9\\u94a22005\",\"\\u4e70\\u5165\",\"\\u5f00\\u4ed3\",2,3442.0,68840.0,3.1],[\"\",\"\",\"\",\"\",\"\",\"\\uff082 \\u7b14\\u4ea4\\u6613\",\"\\u4e70\\u5165 \\uffe568840.0\",\"\\u5356\\u51fa \\uffe5-69140.0\\uff09\",\"\\u603b\\u4f63\\u91d1\\uffe53.1\\uff09\"],[\"2020-02-11 14:59:00\",\"RB2005.SHF\",\"\\u87ba\\u7eb9\\u94a22005\",\"\\u5356\\u51fa\",\"\\u5e73\\u4eca\",2,3394.0,-67880.0,0.0],[\"2020-02-11 09:21:00\",\"RB2005.SHF\",\"\\u87ba\\u7eb9\\u94a22005\",\"\\u4e70\\u5165\",\"\\u5f00\\u4ed3\",2,3368.0,67360.0,3.03],[\"\",\"\",\"\",\"\",\"\",\"\\uff082 \\u7b14\\u4ea4\\u6613\",\"\\u4e70\\u5165 \\uffe567360.0\",\"\\u5356\\u51fa \\uffe5-67880.0\\uff09\",\"\\u603b\\u4f63\\u91d1\\uffe53.03\\uff09\"],[\"2020-02-03 14:59:00\",\"RB2005.SHF\",\"\\u87ba\\u7eb9\\u94a22005\",\"\\u4e70\\u5165\",\"\\u5e73\\u4eca\",2,3234.0,64680.0,0.0],[\"2020-02-03 10:01:00\",\"RB2005.SHF\",\"\\u87ba\\u7eb9\\u94a22005\",\"\\u5356\\u51fa\",\"\\u5f00\\u4ed3\",2,3288.0,-65760.0,2.96],[\"2020-02-03 10:00:00\",\"RB2005.SHF\",\"\\u87ba\\u7eb9\\u94a22005\",\"\\u4e70\\u5165\",\"\\u5e73\\u4eca\",2,3289.0,65780.0,0.0],[\"2020-02-03 09:02:00\",\"RB2005.SHF\",\"\\u87ba\\u7eb9\\u94a22005\",\"\\u5356\\u51fa\",\"\\u5f00\\u4ed3\",2,3232.0,-64640.0,2.91],[\"\",\"\",\"\",\"\",\"\",\"\\uff084 \\u7b14\\u4ea4\\u6613\",\"\\u4e70\\u5165 \\uffe5130460.0\",\"\\u5356\\u51fa \\uffe5-130400.0\\uff09\",\"\\u603b\\u4f63\\u91d1\\uffe55.87\\uff09\"],[\"2020-01-21 14:59:00\",\"RB2005.SHF\",\"\\u87ba\\u7eb9\\u94a22005\",\"\\u4e70\\u5165\",\"\\u5e73\\u4eca\",2,3571.0,71420.0,0.0],[\"2020-01-21 10:43:00\",\"RB2005.SHF\",\"\\u87ba\\u7eb9\\u94a22005\",\"\\u5356\\u51fa\",\"\\u5f00\\u4ed3\",2,3559.0,-71180.0,3.2],[\"\",\"\",\"\",\"\",\"\",\"\\uff082 \\u7b14\\u4ea4\\u6613\",\"\\u4e70\\u5165 \\uffe571420.0\",\"\\u5356\\u51fa \\uffe5-71180.0\\uff09\",\"\\u603b\\u4f63\\u91d1\\uffe53.2\\uff09\"]],\"columns\":[{\"title\":\"\\u6210\\u4ea4\\u65f6\\u95f4\",\"orderable\":false},{\"title\":\"\\u5408\\u7ea6\\u4ee3\\u7801\",\"orderable\":false},{\"title\":\"\\u5408\\u7ea6\\u540d\\u79f0\",\"orderable\":false},{\"title\":\"\\u4e70\\/\\u5356\",\"orderable\":false},{\"title\":\"\\u5f00\\/\\u5e73\",\"orderable\":false},{\"title\":\"\\u6570\\u91cf\",\"orderable\":false},{\"title\":\"\\u6210\\u4ea4\\u4ef7\",\"orderable\":false},{\"title\":\"\\u4ea4\\u6613\\u91d1\\u989d\",\"orderable\":false},{\"title\":\"\\u4ea4\\u6613\\u4f63\\u91d1\",\"orderable\":false}],\"searching\":false,\"info\":false,\"pageLength\":20,\"lengthChange\":false,\"order\":[],\"__type\":\"datatable\",\"__id\":\"bigchart-645f65a311f647b3949e225498c1673e\",\"language\":{\"sProcessing\":\"\\u5904\\u7406\\u4e2d...\",\"sLengthMenu\":\"\\u663e\\u793a _MENU_ \\u9879\\u7ed3\\u679c\",\"sZeroRecords\":\"\\u6ca1\\u6709\\u5339\\u914d\\u7ed3\\u679c\",\"sInfo\":\"\\u663e\\u793a\\u7b2c _START_ \\u81f3 _END_ \\u9879\\u7ed3\\u679c\\uff0c\\u5171 _TOTAL_ \\u9879\",\"sInfoEmpty\":\"\\u663e\\u793a\\u7b2c 0 \\u81f3 0 \\u9879\\u7ed3\\u679c\\uff0c\\u5171 0 \\u9879\",\"sInfoFiltered\":\"(\\u7531 _MAX_ \\u9879\\u7ed3\\u679c\\u8fc7\\u6ee4)\",\"sInfoPostFix\":\"\",\"sSearch\":\"\\u641c\\u7d22:\",\"sUrl\":\"\",\"sEmptyTable\":\"\\u8868\\u4e2d\\u6570\\u636e\\u4e3a\\u7a7a\",\"sLoadingRecords\":\"\\u8f7d\\u5165\\u4e2d...\",\"sInfoThousands\":\",\",\"oPaginate\":{\"sFirst\":\"\\u9996\\u9875\",\"sPrevious\":\"\\u4e0a\\u9875\",\"sNext\":\"\\u4e0b\\u9875\",\"sLast\":\"\\u672b\\u9875\"}},\"hasWholeData\":true}/bigcharts-data-end</pre></div></div><div class='tab-pane' id='每日持仓和收益'><table id=\"bigchart-8d34958e8f9348838f646d8c70553f05\" width=\"100%\" class=\"display bigchart\"></table><div class=\"bigchart-data\"><pre style=\"display:none\">bigcharts-data-start/{\"deferRender\":true,\"data\":[[\"2020-04-01\",\"--\",\"--\",\"--\",\"--\",\"--\",\"--\",null,null],[\"\",\"\",\"\",\"\\uff08\\u603b\\u8d44\\u4ea7\\uffe598652.57\",\"\\u5269\\u4f59\\u91d1\\u989d\\uffe598652.57\",\"\\u5f53\\u65e5\\u4ea4\\u6613\\u4f63\\u91d1\\uffe50.0\\uff09\",\"\\uffe50.0[\\u591a:0.0,\\u7a7a:0.0]\",\"\\uffe50.0\",\"\\uffe50.0\"],[\"2020-03-31\",\"--\",\"--\",\"--\",\"--\",\"--\",\"--\",null,null],[\"\",\"\",\"\",\"\\uff08\\u603b\\u8d44\\u4ea7\\uffe598652.57\",\"\\u5269\\u4f59\\u91d1\\u989d\\uffe598652.57\",\"\\u5f53\\u65e5\\u4ea4\\u6613\\u4f63\\u91d1\\uffe50.0\\uff09\",\"\\uffe50.0[\\u591a:0.0,\\u7a7a:0.0]\",\"\\uffe50.0\",\"\\uffe50.0\"],[\"2020-03-30\",\"RB2005.SHF\",\"\\u87ba\\u7eb92005\",\"[\\u591a:0,\\u7a7a:3405.0]\",0,\"0[\\u591a:0,\\u7a7a:0]\",\"0.0[\\u591a:0,\\u7a7a:0.0]\",0.0,0.0],[\"\",\"\",\"\",\"\\uff08\\u603b\\u8d44\\u4ea7\\uffe598652.57\",\"\\u5269\\u4f59\\u91d1\\u989d\\uffe598652.57\",\"\\u5f53\\u65e5\\u4ea4\\u6613\\u4f63\\u91d1\\uffe50.0\\uff09\",\"\\uffe50.0[\\u591a:0.0,\\u7a7a:0.0]\",\"\\uffe50.0\",\"\\uffe50.0\"],[\"2020-03-27\",\"--\",\"--\",\"--\",\"--\",\"--\",\"--\",null,null],[\"\",\"\",\"\",\"\\uff08\\u603b\\u8d44\\u4ea7\\uffe598655.63\",\"\\u5269\\u4f59\\u91d1\\u989d\\uffe598655.63\",\"\\u5f53\\u65e5\\u4ea4\\u6613\\u4f63\\u91d1\\uffe50.0\\uff09\",\"\\uffe50.0[\\u591a:0.0,\\u7a7a:0.0]\",\"\\uffe50.0\",\"\\uffe50.0\"],[\"2020-03-26\",\"--\",\"--\",\"--\",\"--\",\"--\",\"--\",null,null],[\"\",\"\",\"\",\"\\uff08\\u603b\\u8d44\\u4ea7\\uffe598655.63\",\"\\u5269\\u4f59\\u91d1\\u989d\\uffe598655.63\",\"\\u5f53\\u65e5\\u4ea4\\u6613\\u4f63\\u91d1\\uffe50.0\\uff09\",\"\\uffe50.0[\\u591a:0.0,\\u7a7a:0.0]\",\"\\uffe50.0\",\"\\uffe50.0\"],[\"2020-03-25\",\"--\",\"--\",\"--\",\"--\",\"--\",\"--\",null,null],[\"\",\"\",\"\",\"\\uff08\\u603b\\u8d44\\u4ea7\\uffe598655.63\",\"\\u5269\\u4f59\\u91d1\\u989d\\uffe598655.63\",\"\\u5f53\\u65e5\\u4ea4\\u6613\\u4f63\\u91d1\\uffe50.0\\uff09\",\"\\uffe50.0[\\u591a:0.0,\\u7a7a:0.0]\",\"\\uffe50.0\",\"\\uffe50.0\"],[\"2020-03-24\",\"--\",\"--\",\"--\",\"--\",\"--\",\"--\",null,null],[\"\",\"\",\"\",\"\\uff08\\u603b\\u8d44\\u4ea7\\uffe598655.63\",\"\\u5269\\u4f59\\u91d1\\u989d\\uffe598655.63\",\"\\u5f53\\u65e5\\u4ea4\\u6613\\u4f63\\u91d1\\uffe50.0\\uff09\",\"\\uffe50.0[\\u591a:0.0,\\u7a7a:0.0]\",\"\\uffe50.0\",\"\\uffe50.0\"],[\"2020-03-23\",\"--\",\"--\",\"--\",\"--\",\"--\",\"--\",null,null],[\"\",\"\",\"\",\"\\uff08\\u603b\\u8d44\\u4ea7\\uffe598655.63\",\"\\u5269\\u4f59\\u91d1\\u989d\\uffe598655.63\",\"\\u5f53\\u65e5\\u4ea4\\u6613\\u4f63\\u91d1\\uffe50.0\\uff09\",\"\\uffe50.0[\\u591a:0.0,\\u7a7a:0.0]\",\"\\uffe50.0\",\"\\uffe50.0\"],[\"2020-03-20\",\"--\",\"--\",\"--\",\"--\",\"--\",\"--\",null,null],[\"\",\"\",\"\",\"\\uff08\\u603b\\u8d44\\u4ea7\\uffe598655.63\",\"\\u5269\\u4f59\\u91d1\\u989d\\uffe598655.63\",\"\\u5f53\\u65e5\\u4ea4\\u6613\\u4f63\\u91d1\\uffe50.0\\uff09\",\"\\uffe50.0[\\u591a:0.0,\\u7a7a:0.0]\",\"\\uffe50.0\",\"\\uffe50.0\"],[\"2020-03-19\",\"RB2005.SHF\",\"\\u87ba\\u7eb92005\",\"[\\u591a:0,\\u7a7a:3456.0]\",0,\"0[\\u591a:0,\\u7a7a:0]\",\"0.0[\\u591a:0,\\u7a7a:0.0]\",0.0,-1040.0],[\"\",\"\",\"\",\"\\uff08\\u603b\\u8d44\\u4ea7\\uffe598655.63\",\"\\u5269\\u4f59\\u91d1\\u989d\\uffe598655.63\",\"\\u5f53\\u65e5\\u4ea4\\u6613\\u4f63\\u91d1\\uffe50.0\\uff09\",\"\\uffe50.0[\\u591a:0.0,\\u7a7a:0.0]\",\"\\uffe50.0\",\"\\uffe5-1040.0\"],[\"2020-03-18\",\"--\",\"--\",\"--\",\"--\",\"--\",\"--\",null,null],[\"\",\"\",\"\",\"\\uff08\\u603b\\u8d44\\u4ea7\\uffe599698.74\",\"\\u5269\\u4f59\\u91d1\\u989d\\uffe599698.74\",\"\\u5f53\\u65e5\\u4ea4\\u6613\\u4f63\\u91d1\\uffe50.0\\uff09\",\"\\uffe50.0[\\u591a:0.0,\\u7a7a:0.0]\",\"\\uffe50.0\",\"\\uffe50.0\"],[\"2020-03-17\",\"--\",\"--\",\"--\",\"--\",\"--\",\"--\",null,null],[\"\",\"\",\"\",\"\\uff08\\u603b\\u8d44\\u4ea7\\uffe599698.74\",\"\\u5269\\u4f59\\u91d1\\u989d\\uffe599698.74\",\"\\u5f53\\u65e5\\u4ea4\\u6613\\u4f63\\u91d1\\uffe50.0\\uff09\",\"\\uffe50.0[\\u591a:0.0,\\u7a7a:0.0]\",\"\\uffe50.0\",\"\\uffe50.0\"],[\"2020-03-16\",\"--\",\"--\",\"--\",\"--\",\"--\",\"--\",null,null],[\"\",\"\",\"\",\"\\uff08\\u603b\\u8d44\\u4ea7\\uffe599698.74\",\"\\u5269\\u4f59\\u91d1\\u989d\\uffe599698.74\",\"\\u5f53\\u65e5\\u4ea4\\u6613\\u4f63\\u91d1\\uffe50.0\\uff09\",\"\\uffe50.0[\\u591a:0.0,\\u7a7a:0.0]\",\"\\uffe50.0\",\"\\uffe50.0\"],[\"2020-03-13\",\"--\",\"--\",\"--\",\"--\",\"--\",\"--\",null,null],[\"\",\"\",\"\",\"\\uff08\\u603b\\u8d44\\u4ea7\\uffe599698.74\",\"\\u5269\\u4f59\\u91d1\\u989d\\uffe599698.74\",\"\\u5f53\\u65e5\\u4ea4\\u6613\\u4f63\\u91d1\\uffe50.0\\uff09\",\"\\uffe50.0[\\u591a:0.0,\\u7a7a:0.0]\",\"\\uffe50.0\",\"\\uffe50.0\"],[\"2020-03-12\",\"--\",\"--\",\"--\",\"--\",\"--\",\"--\",null,null],[\"\",\"\",\"\",\"\\uff08\\u603b\\u8d44\\u4ea7\\uffe599698.74\",\"\\u5269\\u4f59\\u91d1\\u989d\\uffe599698.74\",\"\\u5f53\\u65e5\\u4ea4\\u6613\\u4f63\\u91d1\\uffe50.0\\uff09\",\"\\uffe50.0[\\u591a:0.0,\\u7a7a:0.0]\",\"\\uffe50.0\",\"\\uffe50.0\"],[\"2020-03-11\",\"--\",\"--\",\"--\",\"--\",\"--\",\"--\",null,null],[\"\",\"\",\"\",\"\\uff08\\u603b\\u8d44\\u4ea7\\uffe599698.74\",\"\\u5269\\u4f59\\u91d1\\u989d\\uffe599698.74\",\"\\u5f53\\u65e5\\u4ea4\\u6613\\u4f63\\u91d1\\uffe50.0\\uff09\",\"\\uffe50.0[\\u591a:0.0,\\u7a7a:0.0]\",\"\\uffe50.0\",\"\\uffe50.0\"],[\"2020-03-10\",\"--\",\"--\",\"--\",\"--\",\"--\",\"--\",null,null],[\"\",\"\",\"\",\"\\uff08\\u603b\\u8d44\\u4ea7\\uffe599698.74\",\"\\u5269\\u4f59\\u91d1\\u989d\\uffe599698.74\",\"\\u5f53\\u65e5\\u4ea4\\u6613\\u4f63\\u91d1\\uffe50.0\\uff09\",\"\\uffe50.0[\\u591a:0.0,\\u7a7a:0.0]\",\"\\uffe50.0\",\"\\uffe50.0\"],[\"2020-03-09\",\"RB2005.SHF\",\"\\u87ba\\u7eb92005\",\"[\\u591a:0,\\u7a7a:3389.0]\",0,\"0[\\u591a:0,\\u7a7a:0]\",\"0.0[\\u591a:0,\\u7a7a:0.0]\",0.0,-1020.0],[\"\",\"\",\"\",\"\\uff08\\u603b\\u8d44\\u4ea7\\uffe599698.74\",\"\\u5269\\u4f59\\u91d1\\u989d\\uffe599698.74\",\"\\u5f53\\u65e5\\u4ea4\\u6613\\u4f63\\u91d1\\uffe50.0\\uff09\",\"\\uffe50.0[\\u591a:0.0,\\u7a7a:0.0]\",\"\\uffe50.0\",\"\\uffe5-1020.0\"],[\"2020-03-06\",\"--\",\"--\",\"--\",\"--\",\"--\",\"--\",null,null],[\"\",\"\",\"\",\"\\uff08\\u603b\\u8d44\\u4ea7\\uffe5100721.79\",\"\\u5269\\u4f59\\u91d1\\u989d\\uffe5100721.79\",\"\\u5f53\\u65e5\\u4ea4\\u6613\\u4f63\\u91d1\\uffe50.0\\uff09\",\"\\uffe50.0[\\u591a:0.0,\\u7a7a:0.0]\",\"\\uffe50.0\",\"\\uffe50.0\"],[\"2020-03-05\",\"--\",\"--\",\"--\",\"--\",\"--\",\"--\",null,null],[\"\",\"\",\"\",\"\\uff08\\u603b\\u8d44\\u4ea7\\uffe5100721.79\",\"\\u5269\\u4f59\\u91d1\\u989d\\uffe5100721.79\",\"\\u5f53\\u65e5\\u4ea4\\u6613\\u4f63\\u91d1\\uffe50.0\\uff09\",\"\\uffe50.0[\\u591a:0.0,\\u7a7a:0.0]\",\"\\uffe50.0\",\"\\uffe50.0\"],[\"2020-03-04\",\"--\",\"--\",\"--\",\"--\",\"--\",\"--\",null,null],[\"\",\"\",\"\",\"\\uff08\\u603b\\u8d44\\u4ea7\\uffe5100721.79\",\"\\u5269\\u4f59\\u91d1\\u989d\\uffe5100721.79\",\"\\u5f53\\u65e5\\u4ea4\\u6613\\u4f63\\u91d1\\uffe50.0\\uff09\",\"\\uffe50.0[\\u591a:0.0,\\u7a7a:0.0]\",\"\\uffe50.0\",\"\\uffe50.0\"],[\"2020-03-03\",\"--\",\"--\",\"--\",\"--\",\"--\",\"--\",null,null],[\"\",\"\",\"\",\"\\uff08\\u603b\\u8d44\\u4ea7\\uffe5100721.79\",\"\\u5269\\u4f59\\u91d1\\u989d\\uffe5100721.79\",\"\\u5f53\\u65e5\\u4ea4\\u6613\\u4f63\\u91d1\\uffe50.0\\uff09\",\"\\uffe50.0[\\u591a:0.0,\\u7a7a:0.0]\",\"\\uffe50.0\",\"\\uffe50.0\"],[\"2020-03-02\",\"--\",\"--\",\"--\",\"--\",\"--\",\"--\",null,null],[\"\",\"\",\"\",\"\\uff08\\u603b\\u8d44\\u4ea7\\uffe5100721.79\",\"\\u5269\\u4f59\\u91d1\\u989d\\uffe5100721.79\",\"\\u5f53\\u65e5\\u4ea4\\u6613\\u4f63\\u91d1\\uffe50.0\\uff09\",\"\\uffe50.0[\\u591a:0.0,\\u7a7a:0.0]\",\"\\uffe50.0\",\"\\uffe50.0\"],[\"2020-02-28\",\"RB2005.SHF\",\"\\u87ba\\u7eb92005\",\"[\\u591a:0,\\u7a7a:3346.0]\",0,\"0[\\u591a:0,\\u7a7a:0]\",\"0.0[\\u591a:0,\\u7a7a:0.0]\",0.0,220.0],[\"\",\"\",\"\",\"\\uff08\\u603b\\u8d44\\u4ea7\\uffe5100721.79\",\"\\u5269\\u4f59\\u91d1\\u989d\\uffe5100721.79\",\"\\u5f53\\u65e5\\u4ea4\\u6613\\u4f63\\u91d1\\uffe50.0\\uff09\",\"\\uffe50.0[\\u591a:0.0,\\u7a7a:0.0]\",\"\\uffe50.0\",\"\\uffe5220.0\"],[\"2020-02-27\",\"--\",\"--\",\"--\",\"--\",\"--\",\"--\",null,null],[\"\",\"\",\"\",\"\\uff08\\u603b\\u8d44\\u4ea7\\uffe5100504.8\",\"\\u5269\\u4f59\\u91d1\\u989d\\uffe5100504.8\",\"\\u5f53\\u65e5\\u4ea4\\u6613\\u4f63\\u91d1\\uffe50.0\\uff09\",\"\\uffe50.0[\\u591a:0.0,\\u7a7a:0.0]\",\"\\uffe50.0\",\"\\uffe50.0\"],[\"2020-02-26\",\"--\",\"--\",\"--\",\"--\",\"--\",\"--\",null,null],[\"\",\"\",\"\",\"\\uff08\\u603b\\u8d44\\u4ea7\\uffe5100504.8\",\"\\u5269\\u4f59\\u91d1\\u989d\\uffe5100504.8\",\"\\u5f53\\u65e5\\u4ea4\\u6613\\u4f63\\u91d1\\uffe50.0\\uff09\",\"\\uffe50.0[\\u591a:0.0,\\u7a7a:0.0]\",\"\\uffe50.0\",\"\\uffe50.0\"],[\"2020-02-25\",\"--\",\"--\",\"--\",\"--\",\"--\",\"--\",null,null],[\"\",\"\",\"\",\"\\uff08\\u603b\\u8d44\\u4ea7\\uffe5100504.8\",\"\\u5269\\u4f59\\u91d1\\u989d\\uffe5100504.8\",\"\\u5f53\\u65e5\\u4ea4\\u6613\\u4f63\\u91d1\\uffe50.0\\uff09\",\"\\uffe50.0[\\u591a:0.0,\\u7a7a:0.0]\",\"\\uffe50.0\",\"\\uffe50.0\"],[\"2020-02-24\",\"--\",\"--\",\"--\",\"--\",\"--\",\"--\",null,null],[\"\",\"\",\"\",\"\\uff08\\u603b\\u8d44\\u4ea7\\uffe5100504.8\",\"\\u5269\\u4f59\\u91d1\\u989d\\uffe5100504.8\",\"\\u5f53\\u65e5\\u4ea4\\u6613\\u4f63\\u91d1\\uffe50.0\\uff09\",\"\\uffe50.0[\\u591a:0.0,\\u7a7a:0.0]\",\"\\uffe50.0\",\"\\uffe50.0\"],[\"2020-02-21\",\"--\",\"--\",\"--\",\"--\",\"--\",\"--\",null,null],[\"\",\"\",\"\",\"\\uff08\\u603b\\u8d44\\u4ea7\\uffe5100504.8\",\"\\u5269\\u4f59\\u91d1\\u989d\\uffe5100504.8\",\"\\u5f53\\u65e5\\u4ea4\\u6613\\u4f63\\u91d1\\uffe50.0\\uff09\",\"\\uffe50.0[\\u591a:0.0,\\u7a7a:0.0]\",\"\\uffe50.0\",\"\\uffe50.0\"],[\"2020-02-20\",\"RB2005.SHF\",\"\\u87ba\\u7eb92005\",\"[\\u591a:3442.0,\\u7a7a:0]\",3460.0,\"0[\\u591a:0,\\u7a7a:0]\",\"0.0[\\u591a:0.0,\\u7a7a:0]\",0.0,300.0],[\"\",\"\",\"\",\"\\uff08\\u603b\\u8d44\\u4ea7\\uffe5100504.8\",\"\\u5269\\u4f59\\u91d1\\u989d\\uffe5100504.8\",\"\\u5f53\\u65e5\\u4ea4\\u6613\\u4f63\\u91d1\\uffe50.0\\uff09\",\"\\uffe50.0[\\u591a:0.0,\\u7a7a:0.0]\",\"\\uffe50.0\",\"\\uffe5300.0\"],[\"2020-02-19\",\"--\",\"--\",\"--\",\"--\",\"--\",\"--\",null,null],[\"\",\"\",\"\",\"\\uff08\\u603b\\u8d44\\u4ea7\\uffe5100207.9\",\"\\u5269\\u4f59\\u91d1\\u989d\\uffe5100207.9\",\"\\u5f53\\u65e5\\u4ea4\\u6613\\u4f63\\u91d1\\uffe50.0\\uff09\",\"\\uffe50.0[\\u591a:0.0,\\u7a7a:0.0]\",\"\\uffe50.0\",\"\\uffe50.0\"],[\"2020-02-18\",\"--\",\"--\",\"--\",\"--\",\"--\",\"--\",null,null],[\"\",\"\",\"\",\"\\uff08\\u603b\\u8d44\\u4ea7\\uffe5100207.9\",\"\\u5269\\u4f59\\u91d1\\u989d\\uffe5100207.9\",\"\\u5f53\\u65e5\\u4ea4\\u6613\\u4f63\\u91d1\\uffe50.0\\uff09\",\"\\uffe50.0[\\u591a:0.0,\\u7a7a:0.0]\",\"\\uffe50.0\",\"\\uffe50.0\"],[\"2020-02-17\",\"--\",\"--\",\"--\",\"--\",\"--\",\"--\",null,null],[\"\",\"\",\"\",\"\\uff08\\u603b\\u8d44\\u4ea7\\uffe5100207.9\",\"\\u5269\\u4f59\\u91d1\\u989d\\uffe5100207.9\",\"\\u5f53\\u65e5\\u4ea4\\u6613\\u4f63\\u91d1\\uffe50.0\\uff09\",\"\\uffe50.0[\\u591a:0.0,\\u7a7a:0.0]\",\"\\uffe50.0\",\"\\uffe50.0\"],[\"2020-02-14\",\"--\",\"--\",\"--\",\"--\",\"--\",\"--\",null,null],[\"\",\"\",\"\",\"\\uff08\\u603b\\u8d44\\u4ea7\\uffe5100207.9\",\"\\u5269\\u4f59\\u91d1\\u989d\\uffe5100207.9\",\"\\u5f53\\u65e5\\u4ea4\\u6613\\u4f63\\u91d1\\uffe50.0\\uff09\",\"\\uffe50.0[\\u591a:0.0,\\u7a7a:0.0]\",\"\\uffe50.0\",\"\\uffe50.0\"],[\"2020-02-13\",\"--\",\"--\",\"--\",\"--\",\"--\",\"--\",null,null],[\"\",\"\",\"\",\"\\uff08\\u603b\\u8d44\\u4ea7\\uffe5100207.9\",\"\\u5269\\u4f59\\u91d1\\u989d\\uffe5100207.9\",\"\\u5f53\\u65e5\\u4ea4\\u6613\\u4f63\\u91d1\\uffe50.0\\uff09\",\"\\uffe50.0[\\u591a:0.0,\\u7a7a:0.0]\",\"\\uffe50.0\",\"\\uffe50.0\"],[\"2020-02-12\",\"--\",\"--\",\"--\",\"--\",\"--\",\"--\",null,null],[\"\",\"\",\"\",\"\\uff08\\u603b\\u8d44\\u4ea7\\uffe5100207.9\",\"\\u5269\\u4f59\\u91d1\\u989d\\uffe5100207.9\",\"\\u5f53\\u65e5\\u4ea4\\u6613\\u4f63\\u91d1\\uffe50.0\\uff09\",\"\\uffe50.0[\\u591a:0.0,\\u7a7a:0.0]\",\"\\uffe50.0\",\"\\uffe50.0\"],[\"2020-02-11\",\"RB2005.SHF\",\"\\u87ba\\u7eb92005\",\"[\\u591a:3368.0,\\u7a7a:0]\",3392.0,\"0[\\u591a:0,\\u7a7a:0]\",\"0.0[\\u591a:0.0,\\u7a7a:0]\",0.0,520.0],[\"\",\"\",\"\",\"\\uff08\\u603b\\u8d44\\u4ea7\\uffe5100207.9\",\"\\u5269\\u4f59\\u91d1\\u989d\\uffe5100207.9\",\"\\u5f53\\u65e5\\u4ea4\\u6613\\u4f63\\u91d1\\uffe50.0\\uff09\",\"\\uffe50.0[\\u591a:0.0,\\u7a7a:0.0]\",\"\\uffe50.0\",\"\\uffe5520.0\"],[\"2020-02-10\",\"--\",\"--\",\"--\",\"--\",\"--\",\"--\",null,null],[\"\",\"\",\"\",\"\\uff08\\u603b\\u8d44\\u4ea7\\uffe599690.93\",\"\\u5269\\u4f59\\u91d1\\u989d\\uffe599690.93\",\"\\u5f53\\u65e5\\u4ea4\\u6613\\u4f63\\u91d1\\uffe50.0\\uff09\",\"\\uffe50.0[\\u591a:0.0,\\u7a7a:0.0]\",\"\\uffe50.0\",\"\\uffe50.0\"],[\"2020-02-07\",\"--\",\"--\",\"--\",\"--\",\"--\",\"--\",null,null],[\"\",\"\",\"\",\"\\uff08\\u603b\\u8d44\\u4ea7\\uffe599690.93\",\"\\u5269\\u4f59\\u91d1\\u989d\\uffe599690.93\",\"\\u5f53\\u65e5\\u4ea4\\u6613\\u4f63\\u91d1\\uffe50.0\\uff09\",\"\\uffe50.0[\\u591a:0.0,\\u7a7a:0.0]\",\"\\uffe50.0\",\"\\uffe50.0\"],[\"2020-02-06\",\"--\",\"--\",\"--\",\"--\",\"--\",\"--\",null,null],[\"\",\"\",\"\",\"\\uff08\\u603b\\u8d44\\u4ea7\\uffe599690.93\",\"\\u5269\\u4f59\\u91d1\\u989d\\uffe599690.93\",\"\\u5f53\\u65e5\\u4ea4\\u6613\\u4f63\\u91d1\\uffe50.0\\uff09\",\"\\uffe50.0[\\u591a:0.0,\\u7a7a:0.0]\",\"\\uffe50.0\",\"\\uffe50.0\"],[\"2020-02-05\",\"--\",\"--\",\"--\",\"--\",\"--\",\"--\",null,null],[\"\",\"\",\"\",\"\\uff08\\u603b\\u8d44\\u4ea7\\uffe599690.93\",\"\\u5269\\u4f59\\u91d1\\u989d\\uffe599690.93\",\"\\u5f53\\u65e5\\u4ea4\\u6613\\u4f63\\u91d1\\uffe50.0\\uff09\",\"\\uffe50.0[\\u591a:0.0,\\u7a7a:0.0]\",\"\\uffe50.0\",\"\\uffe50.0\"],[\"2020-02-04\",\"--\",\"--\",\"--\",\"--\",\"--\",\"--\",null,null],[\"\",\"\",\"\",\"\\uff08\\u603b\\u8d44\\u4ea7\\uffe599690.93\",\"\\u5269\\u4f59\\u91d1\\u989d\\uffe599690.93\",\"\\u5f53\\u65e5\\u4ea4\\u6613\\u4f63\\u91d1\\uffe50.0\\uff09\",\"\\uffe50.0[\\u591a:0.0,\\u7a7a:0.0]\",\"\\uffe50.0\",\"\\uffe50.0\"],[\"2020-02-03\",\"RB2005.SHF\",\"\\u87ba\\u7eb92005\",\"[\\u591a:0,\\u7a7a:3288.0]\",0,\"0[\\u591a:0,\\u7a7a:0]\",\"0.0[\\u591a:0,\\u7a7a:0.0]\",0.0,-60.0],[\"\",\"\",\"\",\"\\uff08\\u603b\\u8d44\\u4ea7\\uffe599690.93\",\"\\u5269\\u4f59\\u91d1\\u989d\\uffe599690.93\",\"\\u5f53\\u65e5\\u4ea4\\u6613\\u4f63\\u91d1\\uffe50.0\\uff09\",\"\\uffe50.0[\\u591a:0.0,\\u7a7a:0.0]\",\"\\uffe50.0\",\"\\uffe5-60.0\"],[\"2020-01-23\",\"--\",\"--\",\"--\",\"--\",\"--\",\"--\",null,null],[\"\",\"\",\"\",\"\\uff08\\u603b\\u8d44\\u4ea7\\uffe599756.8\",\"\\u5269\\u4f59\\u91d1\\u989d\\uffe599756.8\",\"\\u5f53\\u65e5\\u4ea4\\u6613\\u4f63\\u91d1\\uffe50.0\\uff09\",\"\\uffe50.0[\\u591a:0.0,\\u7a7a:0.0]\",\"\\uffe50.0\",\"\\uffe50.0\"],[\"2020-01-22\",\"--\",\"--\",\"--\",\"--\",\"--\",\"--\",null,null],[\"\",\"\",\"\",\"\\uff08\\u603b\\u8d44\\u4ea7\\uffe599756.8\",\"\\u5269\\u4f59\\u91d1\\u989d\\uffe599756.8\",\"\\u5f53\\u65e5\\u4ea4\\u6613\\u4f63\\u91d1\\uffe50.0\\uff09\",\"\\uffe50.0[\\u591a:0.0,\\u7a7a:0.0]\",\"\\uffe50.0\",\"\\uffe50.0\"],[\"2020-01-21\",\"RB2005.SHF\",\"\\u87ba\\u7eb92005\",\"[\\u591a:0,\\u7a7a:3559.0]\",0,\"0[\\u591a:0,\\u7a7a:0]\",\"0.0[\\u591a:0,\\u7a7a:0.0]\",0.0,-240.0],[\"\",\"\",\"\",\"\\uff08\\u603b\\u8d44\\u4ea7\\uffe599756.8\",\"\\u5269\\u4f59\\u91d1\\u989d\\uffe599756.8\",\"\\u5f53\\u65e5\\u4ea4\\u6613\\u4f63\\u91d1\\uffe50.0\\uff09\",\"\\uffe50.0[\\u591a:0.0,\\u7a7a:0.0]\",\"\\uffe50.0\",\"\\uffe5-240.0\"]],\"columns\":[{\"title\":\"\\u65e5\\u671f\",\"orderable\":false},{\"title\":\"\\u5408\\u7ea6\\u4ee3\\u7801\",\"orderable\":false},{\"title\":\"\\u5408\\u7ea6\\u540d\\u79f0\",\"orderable\":false},{\"title\":\"\\u6301\\u4ed3\\u5747\\u4ef7\",\"orderable\":false},{\"title\":\"\\u6536\\u76d8\\u4ef7\",\"orderable\":false},{\"title\":\"\\u6570\\u91cf\",\"orderable\":false},{\"title\":\"\\u6301\\u4ed3\\u4fdd\\u8bc1\\u91d1\",\"orderable\":false},{\"title\":\"\\u6d6e\\u52a8\\u76c8\\u4e8f\",\"orderable\":false},{\"title\":\"\\u5e73\\u4ed3\\u76c8\\u4e8f\",\"orderable\":false}],\"searching\":false,\"info\":false,\"pageLength\":20,\"lengthChange\":false,\"order\":[],\"__type\":\"datatable\",\"__id\":\"bigchart-8d34958e8f9348838f646d8c70553f05\",\"language\":{\"sProcessing\":\"\\u5904\\u7406\\u4e2d...\",\"sLengthMenu\":\"\\u663e\\u793a _MENU_ \\u9879\\u7ed3\\u679c\",\"sZeroRecords\":\"\\u6ca1\\u6709\\u5339\\u914d\\u7ed3\\u679c\",\"sInfo\":\"\\u663e\\u793a\\u7b2c _START_ \\u81f3 _END_ \\u9879\\u7ed3\\u679c\\uff0c\\u5171 _TOTAL_ \\u9879\",\"sInfoEmpty\":\"\\u663e\\u793a\\u7b2c 0 \\u81f3 0 \\u9879\\u7ed3\\u679c\\uff0c\\u5171 0 \\u9879\",\"sInfoFiltered\":\"(\\u7531 _MAX_ \\u9879\\u7ed3\\u679c\\u8fc7\\u6ee4)\",\"sInfoPostFix\":\"\",\"sSearch\":\"\\u641c\\u7d22:\",\"sUrl\":\"\",\"sEmptyTable\":\"\\u8868\\u4e2d\\u6570\\u636e\\u4e3a\\u7a7a\",\"sLoadingRecords\":\"\\u8f7d\\u5165\\u4e2d...\",\"sInfoThousands\":\",\",\"oPaginate\":{\"sFirst\":\"\\u9996\\u9875\",\"sPrevious\":\"\\u4e0a\\u9875\",\"sNext\":\"\\u4e0b\\u9875\",\"sLast\":\"\\u672b\\u9875\"}},\"hasWholeData\":true}/bigcharts-data-end</pre></div></div><div class='tab-pane' id='输出日志'><table id=\"bigchart-9837593dc0374c2e84c4b13597f88a55\" width=\"100%\" class=\"display bigchart\"></table><div class=\"bigchart-data\"><pre style=\"display:none\">bigcharts-data-start/{\"deferRender\":true,\"data\":[[\"2020-03-30 00:00:00\",\"INFO\",\"order[09:11:00][id:17,RB2005.SHF \\u5356\\u51fa\\u5f00\\u4ed3 2@3408.0, MARKET]\"],[\"2020-03-30 00:00:00\",\"INFO\",\"order[14:58:00][id:18,RB2005.SHF \\u4e70\\u5165\\u5e73\\u4eca 2@3403.0, MARKET]\"],[\"2020-03-19 00:00:00\",\"INFO\",\"order[10:14:00][id:15,RB2005.SHF \\u5356\\u51fa\\u5f00\\u4ed3 2@3456.0, MARKET]\"],[\"2020-03-19 00:00:00\",\"INFO\",\"order[14:20:00][id:16,RB2005.SHF \\u4e70\\u5165\\u5e73\\u4eca 2@3507.0, MARKET]\"],[\"2020-03-09 00:00:00\",\"INFO\",\"order[09:02:00][id:13,RB2005.SHF \\u5356\\u51fa\\u5f00\\u4ed3 2@3390.0, MARKET]\"],[\"2020-03-09 00:00:00\",\"INFO\",\"order[14:58:00][id:14,RB2005.SHF \\u4e70\\u5165\\u5e73\\u4eca 2@3439.0, MARKET]\"],[\"2020-02-28 00:00:00\",\"INFO\",\"order[09:05:00][id:11,RB2005.SHF \\u5356\\u51fa\\u5f00\\u4ed3 2@3347.0, MARKET]\"],[\"2020-02-28 00:00:00\",\"INFO\",\"order[14:58:00][id:12,RB2005.SHF \\u4e70\\u5165\\u5e73\\u4eca 2@3333.0, MARKET]\"],[\"2020-02-20 00:00:00\",\"INFO\",\"order[09:28:00][id:9,RB2005.SHF \\u4e70\\u5165\\u5f00\\u4ed3 2@3441.0, MARKET]\"],[\"2020-02-20 00:00:00\",\"INFO\",\"order[14:58:00][id:10,RB2005.SHF \\u5356\\u51fa\\u5e73\\u4eca 2@3457.0, MARKET]\"],[\"2020-02-11 00:00:00\",\"INFO\",\"order[09:20:00][id:7,RB2005.SHF \\u4e70\\u5165\\u5f00\\u4ed3 2@3368.0, MARKET]\"],[\"2020-02-11 00:00:00\",\"INFO\",\"order[14:58:00][id:8,RB2005.SHF \\u5356\\u51fa\\u5e73\\u4eca 2@3395.0, MARKET]\"],[\"2020-02-03 00:00:00\",\"INFO\",\"order[09:01:00][id:3,RB2005.SHF \\u5356\\u51fa\\u5f00\\u4ed3 2@3233.0, MARKET]\"],[\"2020-02-03 00:00:00\",\"INFO\",\"order[09:59:00][id:4,RB2005.SHF \\u4e70\\u5165\\u5e73\\u4eca 2@3288.0, MARKET]\"],[\"2020-02-03 00:00:00\",\"INFO\",\"order[10:00:00][id:5,RB2005.SHF \\u5356\\u51fa\\u5f00\\u4ed3 2@3289.0, MARKET]\"],[\"2020-02-03 00:00:00\",\"INFO\",\"order[14:58:00][id:6,RB2005.SHF \\u4e70\\u5165\\u5e73\\u4eca 2@3233.0, MARKET]\"],[\"2020-01-21 00:00:00\",\"INFO\",\"order[10:42:00][id:1,RB2005.SHF \\u5356\\u51fa\\u5f00\\u4ed3 2@3559.0, MARKET]\"],[\"2020-01-21 00:00:00\",\"INFO\",\"order[14:58:00][id:2,RB2005.SHF \\u4e70\\u5165\\u5e73\\u4eca 2@3570.0, MARKET]\"]],\"columns\":[{\"title\":\"\\u65f6\\u95f4\",\"orderable\":false},{\"title\":\"\\u7ea7\\u522b\",\"orderable\":false},{\"title\":\"\\u5185\\u5bb9\",\"orderable\":false}],\"searching\":false,\"info\":false,\"pageLength\":20,\"lengthChange\":false,\"order\":[],\"__type\":\"datatable\",\"__id\":\"bigchart-9837593dc0374c2e84c4b13597f88a55\",\"language\":{\"sProcessing\":\"\\u5904\\u7406\\u4e2d...\",\"sLengthMenu\":\"\\u663e\\u793a _MENU_ \\u9879\\u7ed3\\u679c\",\"sZeroRecords\":\"\\u6ca1\\u6709\\u5339\\u914d\\u7ed3\\u679c\",\"sInfo\":\"\\u663e\\u793a\\u7b2c _START_ \\u81f3 _END_ \\u9879\\u7ed3\\u679c\\uff0c\\u5171 _TOTAL_ \\u9879\",\"sInfoEmpty\":\"\\u663e\\u793a\\u7b2c 0 \\u81f3 0 \\u9879\\u7ed3\\u679c\\uff0c\\u5171 0 \\u9879\",\"sInfoFiltered\":\"(\\u7531 _MAX_ \\u9879\\u7ed3\\u679c\\u8fc7\\u6ee4)\",\"sInfoPostFix\":\"\",\"sSearch\":\"\\u641c\\u7d22:\",\"sUrl\":\"\",\"sEmptyTable\":\"\\u8868\\u4e2d\\u6570\\u636e\\u4e3a\\u7a7a\",\"sLoadingRecords\":\"\\u8f7d\\u5165\\u4e2d...\",\"sInfoThousands\":\",\",\"oPaginate\":{\"sFirst\":\"\\u9996\\u9875\",\"sPrevious\":\"\\u4e0a\\u9875\",\"sNext\":\"\\u4e0b\\u9875\",\"sLast\":\"\\u672b\\u9875\"}},\"hasWholeData\":true}/bigcharts-data-end</pre></div></div></div></div><div class='bigchart-data'><pre style='display:none'>bigcharts-data-start/{\"__type\":\"tabs\",\"__id\":\"bigchart-f00fd7e0b5ec4a7ea5a8fb10bf0a3533\"}/bigcharts-data-end</pre></div>"
      ],
      "text/plain": [
       "<IPython.core.display.HTML object>"
      ]
     },
     "metadata": {},
     "output_type": "display_data"
    },
    {
     "data": {
      "text/plain": [
       "[2021-05-21 15:04:30.935600] INFO: moduleinvoker: hfbacktest.v1 运行完成[27.01415s]."
      ]
     },
     "metadata": {
      "is_log": true,
      "status": "INFO"
     },
     "output_type": "display_data"
    }
   ],
   "source": [
    "import talib as ta\n",
    "from datetime import datetime\n",
    "from datetime import timedelta\n",
    "from bigtrader.constant import Direction, OrderType\n",
    "\n",
    "STRATEGY_NAME = \"STRATEGY_1m\"\n",
    "        \n",
    "def initialize(context):\n",
    "    \"\"\"初始化\"\"\"\n",
    "    print(\"initialize\")  \n",
    "    context.symbol = instruments\n",
    "#     context.count = 0\n",
    "    context.my_instruments = context.get_conf_param(\"instruments\")#从传入参数中获取需要交易的合约\n",
    "    context.closetime_day = context.get_conf_param(\"closetime_day\")#日内策略白盘平仓时间，一般14:58\n",
    "    context.closetime_night = context.get_conf_param(\"closetime_night\")#日内策略夜盘平仓时间，一般22:58，注意有些商品夜盘收盘时间不一样\n",
    "    context.order_num = context.get_conf_param(\"order_num\")#下单手数\n",
    "    context.set_universe(context.my_instruments)#设置需要处理的合约\n",
    "    context.stopLossPrice = 50    # 设置止损点数\n",
    "    context.max_high = 0\n",
    "    context.max_low = 0\n",
    "#     # 如果是非交易时间段，等到上午9点或晚上21点再执行algo()\n",
    "#     schedule(schedule_func = algo, date_rule = '1d', time_rule = '09:00:00')\n",
    "#     schedule(schedule_func = algo, date_rule = '1d', time_rule = '21:00:00')\n",
    "def before_trading(context, data):\n",
    "    \"\"\"盘前处理\"\"\"\n",
    "    #print(\"before_trading\")\n",
    "    context.subscribe(context.my_instruments) #注册合约\n",
    "    context.index = 0\n",
    "    context.current_instruments = []\n",
    "#     for instr in context.my_instruments:\n",
    "#         index = instr.find('.')\n",
    "#         #获取当前主力合约，如果含有.即指定某个具体合约，否则认为是需要处理主连合约\n",
    "#         if index<=0:\n",
    "#             context.current_instruments.append(data.current_dominant(instr))\n",
    "#         else:#使用指定合约\n",
    "#             context.current_instruments.append(instr)                                   \n",
    "#     print(\"当前主力合约\", context.current_instruments)\n",
    "    context.max_high = 0\n",
    "    context.max_low = 0\n",
    "    history_data_for_breaker = data.history(context.my_instruments, [\"high\",\"low\",\"open\",\"close\"], 1, \"1d\")\n",
    "    # 开盘价直接在data最后一个数据里取到,前一交易日的最高和最低价为history_data里面的倒数第二条中取到\n",
    "    high = history_data_for_breaker['high'].iloc[0]  # 前一日的最高价\n",
    "    low = history_data_for_breaker['low'].iloc[0]  # 前一日的最低价\n",
    "    close = history_data_for_breaker['close'].iloc[0]  # 前一日的收盘价\n",
    "    pivot = (high + low + close) / 3  # 枢轴点\n",
    "    context.bBreak = high + 2 * (pivot - low)  # 突破买入价 \n",
    "    context.sSetup = pivot + (high - low)  # 观察卖出价\n",
    "    context.sEnter = 2 * pivot - low  # 反转卖出价\n",
    "    context.bEnter = 2 * pivot - high  # 反转买入价\n",
    "    context.bSetup = pivot - (high - low)  # 观察买入价\n",
    "    context.sBreak = low - 2 * (high - pivot)  # 突破卖出价\n",
    "\n",
    "    \n",
    "def handle_data(context, data):\n",
    "    \"\"\"Bar行情推送\"\"\"\n",
    "    cur_date =  data.current_dt\n",
    "    cur_hm = cur_date.strftime('%H:%M') #time\n",
    "    today_high = data.current(context.my_instruments,'high')\n",
    "    today_low = data.current(context.my_instruments,'low')\n",
    "    context.max_high = max(context.max_high,today_high)\n",
    "    context.max_low = max(context.max_high,today_low) \n",
    "    # 获取止损价\n",
    "    STOP_LOSS_PRICE = context.stopLossPrice\n",
    "    # 分别获取多头持仓，和空头持仓\n",
    "    position_long = context.get_position(context.my_instruments, Direction.LONG)\n",
    "    position_short = context.get_position(context.my_instruments, Direction.SHORT)\n",
    "    # 获取当前价格\n",
    "    price = data.current(context.my_instruments, \"close\")\n",
    "    #部分品种夜盘收盘时间不一样，此时间表示指定的尾盘平仓时间往后偏移30分钟，这段时间内不能开新仓，只能平仓。给30分钟是为了足够的冗余\n",
    "    closetime_nightshift = (datetime.strptime(context.closetime_night,'%H:%M') + timedelta(minutes = 30)).strftime('%H:%M')\n",
    "    #尾盘平仓\n",
    "    if((cur_hm>=context.closetime_day and cur_hm<=\"15:00\") or (cur_hm>=context.closetime_night and cur_hm<=closetime_nightshift)):\n",
    "        if(position_long.current_qty != 0):\n",
    "            rv = context.sell_close(context.my_instruments, position_long.avail_qty, price, order_type=OrderType.MARKET)\n",
    "            msg = str(data.current_dt) +  \" 尾盘平多 for \" + context.my_instruments + \" 最新价=\" + str(price) + \" rv:\" + str(rv)\n",
    "            context.write_log(msg, stdout=1) #输出关键日志\n",
    "        if(position_short.current_qty != 0):\n",
    "            rv = context.buy_close(context.my_instruments, position_short.avail_qty, price, order_type=OrderType.MARKET)\n",
    "            msg = str(data.current_dt) +  \" 尾盘平空 for \" + context.my_instruments + \" 最新价=\" + str(price) + \" rv:\" + str(rv)\n",
    "            context.write_log(msg, stdout=1) #输出关键日志\n",
    "        #尾盘不开新仓，直接返回\n",
    "        return\n",
    "    # 突破策略:position_short\n",
    "    if position_long.current_qty == 0 and position_short.current_qty == 0:  # 空仓条件下\n",
    "        if price > context.bBreak:\n",
    "            # 在空仓的情况下，如果盘中价格超过突破买入价，则采取趋势策略，即在该点位开仓做多\n",
    "            rv = context.buy_open(context.my_instruments, context.order_num, price, order_type=OrderType.MARKET)\n",
    "            msg = str(data.current_dt) +  \" 开多 for \" + context.my_instruments + \" 最新价=\" + str(price) + \" rv:\" + str(rv)\n",
    "            context.write_log(msg, stdout=1) #输出关键日志\n",
    "            context.open_position_price = price\n",
    "        elif price < context.sBreak:\n",
    "            # 在空仓的情况下，如果盘中价格跌破突破卖出价，则采取趋势策略，即在该点位开仓做空\n",
    "            rv = context.sell_open(context.my_instruments, context.order_num, price, order_type=OrderType.MARKET)\n",
    "            msg = str(data.current_dt) +  \" 开空 for \" + context.my_instruments + \" 最新价=\" + str(price) + \" rv:\" + str(rv)\n",
    "            context.write_log(msg, stdout=1) #输出关键日志\n",
    "            context.open_position_price = price\n",
    "    # 设置止损条件\n",
    "    else:  # 有持仓时\n",
    "        # 开仓价与当前行情价之差大于止损点则止损\n",
    "        if (position_long.current_qty != 0 and context.open_position_price - price >= STOP_LOSS_PRICE) or \\\n",
    "                (position_short.current_qty != 0 and price - context.open_position_price >= STOP_LOSS_PRICE):\n",
    "            print('达到止损点，全部平仓')\n",
    "            if(position_long.current_qty != 0):\n",
    "                rv = context.sell_close(context.my_instruments, position_long.avail_qty, price, order_type=OrderType.MARKET)\n",
    "                msg = str(data.current_dt) +  \" 止损平多 for \" + context.my_instruments + \" 最新价=\" + str(price) + \" rv:\" + str(rv)\n",
    "                context.write_log(msg, stdout=1) #输出关键日志\n",
    "            if(position_short.current_qty != 0):\n",
    "                rv = context.buy_close(context.my_instruments, position_short.avail_qty, price, order_type=OrderType.MARKET)\n",
    "                msg = str(data.current_dt) +  \" 止损平空 for \" + context.my_instruments + \" 最新价=\" + str(price) + \" rv:\" + str(rv)\n",
    "                context.write_log(msg, stdout=1) #输出关键日志\n",
    "        # 反转策略:\n",
    "        if position_long.current_qty != 0:  # 多仓条件下\n",
    "            if context.max_high > context.sSetup and price < context.sEnter:\n",
    "                # 多头持仓,当日内最高价超过观察卖出价后\n",
    "                # 盘中价格出现回落，且进一步跌破反转卖出价构成的支撑线时\n",
    "                # 采取反转策略，即在该点位反手做空\n",
    "                rv = context.sell_close(context.my_instruments, position_long.avail_qty, price, order_type=OrderType.MARKET)\n",
    "                msg = str(data.current_dt) +  \" 平多 for \" + context.my_instruments + \" 最新价=\" + str(price) + \" rv:\" + str(rv)\n",
    "                context.write_log(msg, stdout=1) #输出关键日志\n",
    "                rv = context.sell_open(context.my_instruments, context.order_num, price, order_type=OrderType.MARKET)\n",
    "                msg = str(data.current_dt) +  \" 开空 for \" + context.my_instruments + \" 最新价=\" + str(price) + \" rv:\" + str(rv)\n",
    "                context.write_log(msg, stdout=1) #输出关键日志  \n",
    "                print(\"多头持仓,当日内最高价超过观察卖出价后跌破反转卖出价: 反手做空\")\n",
    "                context.open_position_price = price\n",
    "        elif position_short.current_qty != 0:  # 空头持仓\n",
    "            if context.max_low < context.bSetup and price > context.bEnter:\n",
    "                # 空头持仓，当日内最低价低于观察买入价后，\n",
    "                # 盘中价格出现反弹，且进一步超过反转买入价构成的阻力线时，\n",
    "                # 采取反转策略，即在该点位反手做多\n",
    "                rv = context.buy_close(context.my_instruments, position_short.avail_qty, price, order_type=OrderType.MARKET)\n",
    "                msg = str(data.current_dt) +  \" 平空 for \" + context.my_instruments + \" 最新价=\" + str(price) + \" rv:\" + str(rv)\n",
    "                context.write_log(msg, stdout=1) #输出关键日志\n",
    "                rv = context.buy_open(context.my_instruments, context.order_num, price, order_type=OrderType.MARKET)\n",
    "                msg = str(data.current_dt) +  \" 开多 for \" + context.my_instruments + \" 最新价=\" + str(price) + \" rv:\" + str(rv)\n",
    "                context.write_log(msg, stdout=1) #输出关键日志   \n",
    "                print(\"空头持仓,当日最低价低于观察买入价后超过反转买入价: 反手做多\")\n",
    "                context.open_position_price = price\n",
    "            \n",
    "def handle_order(context, order):\n",
    "    \"\"\"委托回报推送\"\"\"\n",
    "    msg = \"handle_order:\" + order.log_str()\n",
    "    context.write_log(msg, stdout=1) \n",
    "         \n",
    "def handle_trade(context, trade):\n",
    "    \"\"\"成交回报推送\"\"\"\n",
    "    msg = \"handle_trade:\" + trade.log_str()\n",
    "    context.write_log(msg, stdout=1) \n",
    "    # 分别获取多头持仓，和空头持仓\n",
    "    position_long = context.get_position(trade.symbol, Direction.LONG)\n",
    "    position_short = context.get_position(trade.symbol, Direction.SHORT)\n",
    "    msg = \"当前多头持仓:\"+ str(position_long) + \"当前空头持仓:\"+ str(position_short)\n",
    "    context.write_log(msg, stdout=1) \n",
    "    \n",
    "instruments = \"RB2005.SHF\" #[\"RB2110.SHF\"] #[\"RB2110.SHF\"] [I2105.DCE\"] ['RB']# RB2101.SHF 如果想用主连合约，可以出入合约简码，例如RB,I,CF\n",
    "\n",
    "#需要交易者传入的参数\n",
    "strategy_setting = [\n",
    "    {\n",
    "        \"instruments\": instruments,\n",
    "        \"order_num\": 2,\n",
    "        \"closetime_day\": \"14:58\",\n",
    "        \"closetime_night\": \"22:58\"\n",
    "    }    \n",
    "    \n",
    "]\n",
    "start_date = \"2020-01-21\"\n",
    "end_date = \"2020-04-01\"\n",
    "md = M.hfbacktest.v1(start_date=start_date,\n",
    "                     end_date=end_date,\n",
    "                     instruments=[instruments], #只传入一个合约便于策略逻辑展示\n",
    "                     capital_base=100000,\n",
    "                     product_type=Product.FUTURE,\n",
    "                     frequency=Frequency.MINUTE,\n",
    "                     initialize=initialize,\n",
    "                     before_trading_start=before_trading,\n",
    "                     handle_data=handle_data,\n",
    "                     handle_order=handle_order,\n",
    "                     handle_trade=handle_trade,\n",
    "                     plot_charts=True,\n",
    "                     volume_limit=1.0,\n",
    "                     disable_cache=0,\n",
    "                     show_debug_info=1,\n",
    "                     strategy_setting=strategy_setting,\n",
    "                     slippage_type=SlippageType.FIXED,#滑点固定模式\n",
    "                     slippage_value=1.0,#买卖双向各1个滑点\n",
    "                     m_deps=np.random.rand())"
   ]
  },
  {
   "attachments": {
    "image.png": {
     "image/png": "[encoded data removed]"
    }
   },
   "cell_type": "markdown",
   "metadata": {},
   "source": [
    "![image.png](attachment:image.png)"
   ]
  },
  {
   "cell_type": "code",
   "execution_count": null,
   "metadata": {},
   "outputs": [],
   "source": []
  }
 ],
 "metadata": {
  "is_mlstudio": "false",
  "kernelspec": {
   "display_name": "Python 3",
   "language": "python",
   "name": "python3"
  },
  "language_info": {
   "codemirror_mode": {
    "name": "ipython",
    "version": 3
   },
   "file_extension": ".py",
   "mimetype": "text/x-python",
   "name": "python",
   "nbconvert_exporter": "python",
   "pygments_lexer": "ipython3",
   "version": "3.8.7"
  }
 },
 "nbformat": 4,
 "nbformat_minor": 4
}
