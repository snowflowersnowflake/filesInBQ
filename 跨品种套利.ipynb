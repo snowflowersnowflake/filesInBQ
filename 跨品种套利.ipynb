{
 "cells": [
  {
   "cell_type": "code",
   "execution_count": 6,
   "metadata": {},
   "outputs": [
    {
     "data": {
      "text/plain": [
       "[2021-05-21 14:31:28.235736] INFO: moduleinvoker: hfbacktest.v1 开始运行.."
      ]
     },
     "metadata": {
      "is_log": true,
      "status": "INFO"
     },
     "output_type": "display_data"
    },
    {
     "data": {
      "text/plain": [
       "[2021-05-21 14:31:28.243823] INFO: hfbacktest: passed-in daily_data_ds:None"
      ]
     },
     "metadata": {
      "is_log": true,
      "status": "INFO"
     },
     "output_type": "display_data"
    },
    {
     "data": {
      "text/plain": [
       "[2021-05-21 14:31:28.246302] INFO: hfbacktest: passed-in minute_data_ds:None"
      ]
     },
     "metadata": {
      "is_log": true,
      "status": "INFO"
     },
     "output_type": "display_data"
    },
    {
     "data": {
      "text/plain": [
       "[2021-05-21 14:31:28.248971] INFO: hfbacktest: passed-in tick_data_ds:None"
      ]
     },
     "metadata": {
      "is_log": true,
      "status": "INFO"
     },
     "output_type": "display_data"
    },
    {
     "data": {
      "text/plain": [
       "[2021-05-21 14:31:28.251091] INFO: hfbacktest: passed-in each_data_ds:None"
      ]
     },
     "metadata": {
      "is_log": true,
      "status": "INFO"
     },
     "output_type": "display_data"
    },
    {
     "data": {
      "text/plain": [
       "[2021-05-21 14:31:28.252971] INFO: hfbacktest: passed-in dominant_data_ds:None"
      ]
     },
     "metadata": {
      "is_log": true,
      "status": "INFO"
     },
     "output_type": "display_data"
    },
    {
     "data": {
      "text/plain": [
       "[2021-05-21 14:31:28.254661] INFO: hfbacktest: passed-in benchmark_data_ds:None"
      ]
     },
     "metadata": {
      "is_log": true,
      "status": "INFO"
     },
     "output_type": "display_data"
    },
    {
     "data": {
      "text/plain": [
       "[2021-05-21 14:31:28.257574] INFO: hfbacktest: passed-in trading_calendar_ds:None"
      ]
     },
     "metadata": {
      "is_log": true,
      "status": "INFO"
     },
     "output_type": "display_data"
    },
    {
     "data": {
      "text/plain": [
       "[2021-05-21 14:31:28.261059] INFO: hfbacktest: biglearning V1.2.0"
      ]
     },
     "metadata": {
      "is_log": true,
      "status": "INFO"
     },
     "output_type": "display_data"
    },
    {
     "data": {
      "text/plain": [
       "[2021-05-21 14:31:28.262757] INFO: hfbacktest: bigtrader v1.7.6"
      ]
     },
     "metadata": {
      "is_log": true,
      "status": "INFO"
     },
     "output_type": "display_data"
    },
    {
     "data": {
      "text/plain": [
       "[2021-05-21 14:31:28.284150] INFO: hfbacktest: strategy callbacks:{'on_init': <function initialize at 0x7f1a5dedf280>, 'on_start': <function before_trading at 0x7f1a5dedfca0>, 'handle_data': <function handle_data at 0x7f1a5dedf430>, 'handle_trade': <function handle_trade at 0x7f1a5dedfa60>, 'handle_order': <function handle_order at 0x7f1a5dedfee0>}"
      ]
     },
     "metadata": {
      "is_log": true,
      "status": "INFO"
     },
     "output_type": "display_data"
    },
    {
     "data": {
      "text/plain": [
       "[2021-05-21 14:31:28.292745] INFO: hfbacktest: begin reading history data, 2021-04-06 00:00:00~2021-05-12, disable_cache:0"
      ]
     },
     "metadata": {
      "is_log": true,
      "status": "INFO"
     },
     "output_type": "display_data"
    },
    {
     "data": {
      "text/plain": [
       "[2021-05-21 14:31:28.294162] INFO: hfbacktest: reading benchmark data 2021-04-01 00:00:00~2021-05-12..."
      ]
     },
     "metadata": {
      "is_log": true,
      "status": "INFO"
     },
     "output_type": "display_data"
    },
    {
     "data": {
      "text/plain": [
       "[2021-05-21 14:31:28.327225] INFO: moduleinvoker: cached.v2 开始运行.."
      ]
     },
     "metadata": {
      "is_log": true,
      "status": "INFO"
     },
     "output_type": "display_data"
    },
    {
     "data": {
      "text/plain": [
       "[2021-05-21 14:31:28.341186] INFO: moduleinvoker: 命中缓存"
      ]
     },
     "metadata": {
      "is_log": true,
      "status": "INFO"
     },
     "output_type": "display_data"
    },
    {
     "data": {
      "text/plain": [
       "[2021-05-21 14:31:28.348266] INFO: moduleinvoker: cached.v2 运行完成[0.021049s]."
      ]
     },
     "metadata": {
      "is_log": true,
      "status": "INFO"
     },
     "output_type": "display_data"
    },
    {
     "data": {
      "text/plain": [
       "[2021-05-21 14:31:28.401202] INFO: hfbacktest: reading daily data 2019-09-30 00:00:00~2021-05-12..."
      ]
     },
     "metadata": {
      "is_log": true,
      "status": "INFO"
     },
     "output_type": "display_data"
    },
    {
     "data": {
      "text/plain": [
       "[2021-05-21 14:31:28.404911] INFO: moduleinvoker: cached.v2 开始运行.."
      ]
     },
     "metadata": {
      "is_log": true,
      "status": "INFO"
     },
     "output_type": "display_data"
    },
    {
     "data": {
      "text/plain": [
       "[2021-05-21 14:31:29.314621] INFO: moduleinvoker: cached.v2 运行完成[0.909704s]."
      ]
     },
     "metadata": {
      "is_log": true,
      "status": "INFO"
     },
     "output_type": "display_data"
    },
    {
     "data": {
      "text/plain": [
       "[2021-05-21 14:31:29.374422] INFO: hfbacktest: reading minute data 2021-02-22 00:00:00~2021-05-12..."
      ]
     },
     "metadata": {
      "is_log": true,
      "status": "INFO"
     },
     "output_type": "display_data"
    },
    {
     "data": {
      "text/plain": [
       "[2021-05-21 14:31:29.379322] INFO: moduleinvoker: cached.v2 开始运行.."
      ]
     },
     "metadata": {
      "is_log": true,
      "status": "INFO"
     },
     "output_type": "display_data"
    },
    {
     "data": {
      "text/plain": [
       "[2021-05-21 14:31:31.417980] INFO: moduleinvoker: cached.v2 运行完成[2.038673s]."
      ]
     },
     "metadata": {
      "is_log": true,
      "status": "INFO"
     },
     "output_type": "display_data"
    },
    {
     "data": {
      "text/plain": [
       "[2021-05-21 14:31:31.505417] INFO: hfbacktest: reading dominant data 2021-03-25 00:00:00~2021-05-12..."
      ]
     },
     "metadata": {
      "is_log": true,
      "status": "INFO"
     },
     "output_type": "display_data"
    },
    {
     "data": {
      "text/plain": [
       "[2021-05-21 14:31:31.509002] INFO: moduleinvoker: cached.v2 开始运行.."
      ]
     },
     "metadata": {
      "is_log": true,
      "status": "INFO"
     },
     "output_type": "display_data"
    },
    {
     "data": {
      "text/plain": [
       "[2021-05-21 14:31:31.738492] INFO: moduleinvoker: cached.v2 运行完成[0.22942s]."
      ]
     },
     "metadata": {
      "is_log": true,
      "status": "INFO"
     },
     "output_type": "display_data"
    },
    {
     "data": {
      "text/plain": [
       "[2021-05-21 14:31:31.779192] INFO: hfbacktest: cached_benchmark_ds:DataSource(694c2a844dd040a4a1920303582603e5T)"
      ]
     },
     "metadata": {
      "is_log": true,
      "status": "INFO"
     },
     "output_type": "display_data"
    },
    {
     "data": {
      "text/plain": [
       "[2021-05-21 14:31:31.781169] INFO: hfbacktest: cached_daily_ds:DataSource(60f98692159c4354815d7d29031aa1a3T)"
      ]
     },
     "metadata": {
      "is_log": true,
      "status": "INFO"
     },
     "output_type": "display_data"
    },
    {
     "data": {
      "text/plain": [
       "[2021-05-21 14:31:31.782663] INFO: hfbacktest: cached_minute_ds:DataSource(711b03f7808b42d28b9f22a6b3db0300T)"
      ]
     },
     "metadata": {
      "is_log": true,
      "status": "INFO"
     },
     "output_type": "display_data"
    },
    {
     "data": {
      "text/plain": [
       "[2021-05-21 14:31:31.783978] INFO: hfbacktest: cached_tick_ds:None"
      ]
     },
     "metadata": {
      "is_log": true,
      "status": "INFO"
     },
     "output_type": "display_data"
    },
    {
     "data": {
      "text/plain": [
       "[2021-05-21 14:31:31.785349] INFO: hfbacktest: cached_each_ds:None"
      ]
     },
     "metadata": {
      "is_log": true,
      "status": "INFO"
     },
     "output_type": "display_data"
    },
    {
     "data": {
      "text/plain": [
       "[2021-05-21 14:31:31.786855] INFO: hfbacktest: dominant_data_ds:DataSource(eb6d8d31ed9c43f99d63fa87df927c92T)"
      ]
     },
     "metadata": {
      "is_log": true,
      "status": "INFO"
     },
     "output_type": "display_data"
    },
    {
     "data": {
      "text/plain": [
       "[2021-05-21 14:31:31.788146] INFO: hfbacktest: read history data done, call run_backtest()"
      ]
     },
     "metadata": {
      "is_log": true,
      "status": "INFO"
     },
     "output_type": "display_data"
    },
    {
     "name": "stdout",
     "output_type": "stream",
     "text": [
      "end_date= 2021-05-12\n",
      "2021-05-21 14:31:31.856035 run trading v1.7.6 \n",
      "2021-05-21 14:31:31.856240 init history datas... \n",
      "2021-05-21 14:31:31.888379 init trading env... \n",
      "2021-05-21 14:31:31.888699 run_backtest() capital:100000, frequency:1m, product_type:future, date:2021-04-06 00:00:00 ~ 2021-05-12 00:00:00 \n",
      "2021-05-21 14:31:31.888960 create_app app_name:Strategy already created! \n",
      "2021-05-21 14:31:31.889104 run_backtest() running... \n",
      "initialize\n",
      "2021-05-21 14:31:31.978196 backtest transforming 1m...\n"
     ]
    },
    {
     "name": "stdout",
     "output_type": "stream",
     "text": [
      "2021-05-21 14:31:31.995518 strategy_20210521(bkt999,): handle_order:[bkt999,1,RB2110.SHF,long,open,0,2,5121.0,pending,09:02:00,1] \n",
      "2021-05-21 14:31:31.995781 strategy_20210521(bkt999,): 2021-04-06 09:02:00 开多 for RB2110.SHF 最新价=5121.0 rv:0 \n",
      "price 5121.0 context.high 5119.0 context.today_open 5135.0\n",
      "2021-05-21 14:31:31.998740 strategy_20210521(bkt999,): handle_order:[bkt999,1,RB2110.SHF,long,open,2,2,5121.0,filled,09:02:00,1] \n",
      "2021-05-21 14:31:31.999188 strategy_20210521(bkt999,): handle_trade:[bkt999,1,RB2110.SHF,long,open,2,5120.0,SHFE.1,09:03:00.000000] \n",
      "2021-05-21 14:31:31.999303 strategy_20210521(bkt999,): 当前多头持仓:Position(bkt999,RB2110.SHF,long,current_qty:2,avail_qty:2,cost_price:5120.0,last_price:5120.0)当前空头持仓:Position(bkt999,RB2110.SHF,short,current_qty:0,avail_qty:0,cost_price:0.0,last_price:0.0) \n",
      "2021-05-21 14:31:32.000147 strategy_20210521(bkt999,): handle_order:[bkt999,2,RB2110.SHF,short,close_today,0,2,5126.0,pending,09:03:00,2] \n",
      "2021-05-21 14:31:32.000627 strategy_20210521(bkt999,): 2021-04-06 09:03:00 平多 for RB2110.SHF 最新价=5126.0 rv:0 \n",
      "price 5126.0 context.high 5119.0 context.today_open 5135.0\n",
      "2021-05-21 14:31:32.002663 strategy_20210521(bkt999,): handle_order:[bkt999,2,RB2110.SHF,short,close_today,2,2,5126.0,filled,09:03:00,2] \n",
      "2021-05-21 14:31:32.003570 strategy_20210521(bkt999,): handle_trade:[bkt999,2,RB2110.SHF,short,close_today,2,5126.0,SHFE.2,09:04:00.000000] \n",
      "2021-05-21 14:31:32.003677 strategy_20210521(bkt999,): 当前多头持仓:Position(bkt999,RB2110.SHF,long,current_qty:0,avail_qty:0,cost_price:5120.0,last_price:5126.0)当前空头持仓:Position(bkt999,RB2110.SHF,short,current_qty:0,avail_qty:0,cost_price:0.0,last_price:0.0) \n"
     ]
    },
    {
     "name": "stdout",
     "output_type": "stream",
     "text": [
      "2021-05-21 14:31:32.206207 strategy_20210521(bkt999,): handle_order:[bkt999,3,RB2110.SHF,long,open,0,2,5171.0,pending,22:40:00,3] \n",
      "2021-05-21 14:31:32.206718 strategy_20210521(bkt999,): 2021-04-06 22:40:00 开多 for RB2110.SHF 最新价=5171.0 rv:0 \n",
      "price 5171.0 context.high 5166.0 context.today_open 5147.0\n",
      "2021-05-21 14:31:32.209009 strategy_20210521(bkt999,): handle_order:[bkt999,3,RB2110.SHF,long,open,2,2,5171.0,filled,22:40:00,3] \n",
      "2021-05-21 14:31:32.210658 strategy_20210521(bkt999,): handle_trade:[bkt999,3,RB2110.SHF,long,open,2,5172.0,SHFE.3,22:41:00.000000] \n",
      "2021-05-21 14:31:32.210778 strategy_20210521(bkt999,): 当前多头持仓:Position(bkt999,RB2110.SHF,long,current_qty:2,avail_qty:2,cost_price:5172.0,last_price:5172.0)当前空头持仓:Position(bkt999,RB2110.SHF,short,current_qty:0,avail_qty:0,cost_price:0.0,last_price:0.0) \n",
      "2021-05-21 14:31:32.214745 strategy_20210521(bkt999,): handle_order:[bkt999,4,RB2110.SHF,short,close_today,0,2,5146.0,pending,22:48:00,4] \n",
      "2021-05-21 14:31:32.215400 strategy_20210521(bkt999,): 2021-04-06 22:48:00 平多 for RB2110.SHF 最新价=5146.0 rv:0 \n",
      "price 5146.0 context.high 5166.0 context.today_open 5147.0\n",
      "2021-05-21 14:31:32.217502 strategy_20210521(bkt999,): handle_order:[bkt999,4,RB2110.SHF,short,close_today,2,2,5146.0,filled,22:48:00,4] \n",
      "2021-05-21 14:31:32.219134 strategy_20210521(bkt999,): handle_trade:[bkt999,4,RB2110.SHF,short,close_today,2,5146.0,SHFE.4,22:49:00.000000] \n",
      "2021-05-21 14:31:32.219249 strategy_20210521(bkt999,): 当前多头持仓:Position(bkt999,RB2110.SHF,long,current_qty:0,avail_qty:0,cost_price:5172.0,last_price:5146.0)当前空头持仓:Position(bkt999,RB2110.SHF,short,current_qty:0,avail_qty:0,cost_price:0.0,last_price:0.0) \n"
     ]
    },
    {
     "name": "stdout",
     "output_type": "stream",
     "text": [
      "2021-05-21 14:31:32.744520 strategy_20210521(bkt999,): handle_order:[bkt999,5,RB2110.SHF,short,open,0,2,5054.0,pending,10:57:00,5] \n",
      "2021-05-21 14:31:32.744990 strategy_20210521(bkt999,): 2021-04-09 10:57:00 开空 for RB2110.SHF 最新价=5054.0 rv:0 \n",
      "2021-05-21 14:31:32.749604 strategy_20210521(bkt999,): handle_order:[bkt999,5,RB2110.SHF,short,open,2,2,5054.0,filled,10:57:00,5] \n",
      "2021-05-21 14:31:32.750726 strategy_20210521(bkt999,): handle_trade:[bkt999,5,RB2110.SHF,short,open,2,5053.0,SHFE.5,10:58:00.000000] \n",
      "2021-05-21 14:31:32.750992 strategy_20210521(bkt999,): 当前多头持仓:Position(bkt999,RB2110.SHF,long,current_qty:0,avail_qty:0,cost_price:0.0,last_price:0.0)当前空头持仓:Position(bkt999,RB2110.SHF,short,current_qty:2,avail_qty:2,cost_price:5053.0,last_price:5053.0) \n",
      "2021-05-21 14:31:32.852633 strategy_20210521(bkt999,): handle_order:[bkt999,6,RB2110.SHF,long,close_today,0,2,5058.0,pending,14:58:00,6] \n",
      "2021-05-21 14:31:32.853196 strategy_20210521(bkt999,): 2021-04-09 14:58:00 尾盘平空 for RB2110.SHF 最新价=5058.0 rv:0 \n",
      "2021-05-21 14:31:32.857271 strategy_20210521(bkt999,): handle_order:[bkt999,6,RB2110.SHF,long,close_today,2,2,5058.0,filled,14:58:00,6] \n",
      "2021-05-21 14:31:32.858689 strategy_20210521(bkt999,): handle_trade:[bkt999,6,RB2110.SHF,long,close_today,2,5059.0,SHFE.6,14:59:00.000000] \n",
      "2021-05-21 14:31:32.858941 strategy_20210521(bkt999,): 当前多头持仓:Position(bkt999,RB2110.SHF,long,current_qty:0,avail_qty:0,cost_price:0.0,last_price:0.0)当前空头持仓:Position(bkt999,RB2110.SHF,short,current_qty:0,avail_qty:0,cost_price:5053.0,last_price:5059.0) \n",
      "2021-05-21 14:31:32.924230 strategy_20210521(bkt999,): handle_order:[bkt999,7,RB2110.SHF,short,open,0,2,5040.0,pending,22:29:00,7] \n",
      "2021-05-21 14:31:32.924754 strategy_20210521(bkt999,): 2021-04-09 22:29:00 开空 for RB2110.SHF 最新价=5040.0 rv:0 \n",
      "2021-05-21 14:31:32.928792 strategy_20210521(bkt999,): handle_order:[bkt999,7,RB2110.SHF,short,open,2,2,5040.0,filled,22:29:00,7] \n",
      "2021-05-21 14:31:32.930486 strategy_20210521(bkt999,): handle_trade:[bkt999,7,RB2110.SHF,short,open,2,5039.0,SHFE.7,22:30:00.000000] \n",
      "2021-05-21 14:31:32.930730 strategy_20210521(bkt999,): 当前多头持仓:Position(bkt999,RB2110.SHF,long,current_qty:0,avail_qty:0,cost_price:0.0,last_price:0.0)当前空头持仓:Position(bkt999,RB2110.SHF,short,current_qty:2,avail_qty:2,cost_price:5039.0,last_price:5039.0) \n",
      "2021-05-21 14:31:32.943759 strategy_20210521(bkt999,): handle_order:[bkt999,8,RB2110.SHF,long,close_today,0,2,5070.0,pending,22:45:00,8] \n",
      "2021-05-21 14:31:32.944298 strategy_20210521(bkt999,): 2021-04-09 22:45:00 平空 for RB2110.SHF 最新价=5070.0 rv:0 \n",
      "2021-05-21 14:31:32.948216 strategy_20210521(bkt999,): handle_order:[bkt999,8,RB2110.SHF,long,close_today,2,2,5070.0,filled,22:45:00,8] \n",
      "2021-05-21 14:31:32.948924 strategy_20210521(bkt999,): handle_trade:[bkt999,8,RB2110.SHF,long,close_today,2,5071.0,SHFE.8,22:46:00.000000] \n",
      "2021-05-21 14:31:32.949647 strategy_20210521(bkt999,): 当前多头持仓:Position(bkt999,RB2110.SHF,long,current_qty:0,avail_qty:0,cost_price:0.0,last_price:0.0)当前空头持仓:Position(bkt999,RB2110.SHF,short,current_qty:0,avail_qty:0,cost_price:5039.0,last_price:5071.0) \n"
     ]
    },
    {
     "name": "stdout",
     "output_type": "stream",
     "text": [
      "2021-05-21 14:31:33.233222 strategy_20210521(bkt999,): handle_order:[bkt999,9,RB2110.SHF,long,open,0,2,5097.0,pending,10:58:00,9] \n",
      "2021-05-21 14:31:33.233607 strategy_20210521(bkt999,): 2021-04-13 10:58:00 开多 for RB2110.SHF 最新价=5097.0 rv:0 \n",
      "price 5097.0 context.high 5096.0 context.today_open 4992.0\n",
      "2021-05-21 14:31:33.239057 strategy_20210521(bkt999,): handle_order:[bkt999,9,RB2110.SHF,long,open,2,2,5097.0,filled,10:58:00,9] \n",
      "2021-05-21 14:31:33.240019 strategy_20210521(bkt999,): handle_trade:[bkt999,9,RB2110.SHF,long,open,2,5098.0,SHFE.9,10:59:00.000000] \n",
      "2021-05-21 14:31:33.240211 strategy_20210521(bkt999,): 当前多头持仓:Position(bkt999,RB2110.SHF,long,current_qty:2,avail_qty:2,cost_price:5098.0,last_price:5098.0)当前空头持仓:Position(bkt999,RB2110.SHF,short,current_qty:0,avail_qty:0,cost_price:0.0,last_price:0.0) \n",
      "2021-05-21 14:31:33.313735 strategy_20210521(bkt999,): handle_order:[bkt999,10,RB2110.SHF,short,close_today,0,2,5112.0,pending,14:58:00,10] \n",
      "2021-05-21 14:31:33.314005 strategy_20210521(bkt999,): 2021-04-13 14:58:00 尾盘平多 for RB2110.SHF 最新价=5112.0 rv:0 \n",
      "2021-05-21 14:31:33.316052 strategy_20210521(bkt999,): handle_order:[bkt999,10,RB2110.SHF,short,close_today,2,2,5112.0,filled,14:58:00,10] \n",
      "2021-05-21 14:31:33.316424 strategy_20210521(bkt999,): handle_trade:[bkt999,10,RB2110.SHF,short,close_today,2,5112.0,SHFE.10,14:59:00.000000] \n",
      "2021-05-21 14:31:33.316543 strategy_20210521(bkt999,): 当前多头持仓:Position(bkt999,RB2110.SHF,long,current_qty:0,avail_qty:0,cost_price:5098.0,last_price:5112.0)当前空头持仓:Position(bkt999,RB2110.SHF,short,current_qty:0,avail_qty:0,cost_price:0.0,last_price:0.0) \n",
      "2021-05-21 14:31:33.333276 strategy_20210521(bkt999,): handle_order:[bkt999,11,RB2110.SHF,long,open,0,2,5171.0,pending,21:01:00,11] \n",
      "2021-05-21 14:31:33.333703 strategy_20210521(bkt999,): 2021-04-13 21:01:00 开多 for RB2110.SHF 最新价=5171.0 rv:0 \n",
      "price 5171.0 context.high 5125.0 context.today_open 5151.0\n",
      "2021-05-21 14:31:33.339274 strategy_20210521(bkt999,): handle_order:[bkt999,11,RB2110.SHF,long,open,2,2,5171.0,filled,21:01:00,11] \n",
      "2021-05-21 14:31:33.341327 strategy_20210521(bkt999,): handle_trade:[bkt999,11,RB2110.SHF,long,open,2,5173.0,SHFE.11,21:02:00.000000] \n",
      "2021-05-21 14:31:33.342238 strategy_20210521(bkt999,): 当前多头持仓:Position(bkt999,RB2110.SHF,long,current_qty:2,avail_qty:2,cost_price:5173.0,last_price:5173.0)当前空头持仓:Position(bkt999,RB2110.SHF,short,current_qty:0,avail_qty:0,cost_price:0.0,last_price:0.0) \n",
      "2021-05-21 14:31:33.356738 strategy_20210521(bkt999,): handle_order:[bkt999,12,RB2110.SHF,short,close_today,0,2,5146.0,pending,21:13:00,12] \n",
      "2021-05-21 14:31:33.357464 strategy_20210521(bkt999,): 2021-04-13 21:13:00 平多 for RB2110.SHF 最新价=5146.0 rv:0 \n",
      "price 5146.0 context.high 5125.0 context.today_open 5151.0\n",
      "2021-05-21 14:31:33.361866 strategy_20210521(bkt999,): handle_order:[bkt999,12,RB2110.SHF,short,close_today,2,2,5146.0,filled,21:13:00,12] \n",
      "2021-05-21 14:31:33.362686 strategy_20210521(bkt999,): handle_trade:[bkt999,12,RB2110.SHF,short,close_today,2,5145.0,SHFE.12,21:14:00.000000] \n",
      "2021-05-21 14:31:33.362919 strategy_20210521(bkt999,): 当前多头持仓:Position(bkt999,RB2110.SHF,long,current_qty:0,avail_qty:0,cost_price:5173.0,last_price:5145.0)当前空头持仓:Position(bkt999,RB2110.SHF,short,current_qty:0,avail_qty:0,cost_price:0.0,last_price:0.0) \n"
     ]
    },
    {
     "name": "stdout",
     "output_type": "stream",
     "text": [
      "2021-05-21 14:31:33.748004 strategy_20210521(bkt999,): handle_order:[bkt999,13,RB2110.SHF,short,open,0,2,5092.0,pending,13:44:00,13] \n",
      "2021-05-21 14:31:33.748372 strategy_20210521(bkt999,): 2021-04-15 13:44:00 开空 for RB2110.SHF 最新价=5092.0 rv:0 \n",
      "2021-05-21 14:31:33.752395 strategy_20210521(bkt999,): handle_order:[bkt999,13,RB2110.SHF,short,open,2,2,5092.0,filled,13:44:00,13] \n",
      "2021-05-21 14:31:33.754027 strategy_20210521(bkt999,): handle_trade:[bkt999,13,RB2110.SHF,short,open,2,5090.0,SHFE.13,13:45:00.000000] \n",
      "2021-05-21 14:31:33.754349 strategy_20210521(bkt999,): 当前多头持仓:Position(bkt999,RB2110.SHF,long,current_qty:0,avail_qty:0,cost_price:0.0,last_price:0.0)当前空头持仓:Position(bkt999,RB2110.SHF,short,current_qty:2,avail_qty:2,cost_price:5090.0,last_price:5090.0) \n",
      "2021-05-21 14:31:33.797775 strategy_20210521(bkt999,): handle_order:[bkt999,14,RB2110.SHF,long,close_today,0,2,5110.0,pending,14:58:00,14] \n",
      "2021-05-21 14:31:33.798325 strategy_20210521(bkt999,): 2021-04-15 14:58:00 尾盘平空 for RB2110.SHF 最新价=5110.0 rv:0 \n",
      "2021-05-21 14:31:33.800382 strategy_20210521(bkt999,): handle_order:[bkt999,14,RB2110.SHF,long,close_today,2,2,5110.0,filled,14:58:00,14] \n",
      "2021-05-21 14:31:33.800930 strategy_20210521(bkt999,): handle_trade:[bkt999,14,RB2110.SHF,long,close_today,2,5110.0,SHFE.14,14:59:00.000000] \n",
      "2021-05-21 14:31:33.801049 strategy_20210521(bkt999,): 当前多头持仓:Position(bkt999,RB2110.SHF,long,current_qty:0,avail_qty:0,cost_price:0.0,last_price:0.0)当前空头持仓:Position(bkt999,RB2110.SHF,short,current_qty:0,avail_qty:0,cost_price:5090.0,last_price:5110.0) \n",
      "2021-05-21 14:31:33.881533 strategy_20210521(bkt999,): handle_order:[bkt999,15,RB2110.SHF,long,open,0,2,5169.0,pending,22:41:00,15] \n",
      "2021-05-21 14:31:33.882069 strategy_20210521(bkt999,): 2021-04-15 22:41:00 开多 for RB2110.SHF 最新价=5169.0 rv:0 \n",
      "price 5169.0 context.high 5165.0 context.today_open 5110.0\n",
      "2021-05-21 14:31:33.885291 strategy_20210521(bkt999,): handle_order:[bkt999,15,RB2110.SHF,long,open,2,2,5169.0,filled,22:41:00,15] \n",
      "2021-05-21 14:31:33.886690 strategy_20210521(bkt999,): handle_trade:[bkt999,15,RB2110.SHF,long,open,2,5169.0,SHFE.15,22:42:00.000000] \n",
      "2021-05-21 14:31:33.887011 strategy_20210521(bkt999,): 当前多头持仓:Position(bkt999,RB2110.SHF,long,current_qty:2,avail_qty:2,cost_price:5169.0,last_price:5169.0)当前空头持仓:Position(bkt999,RB2110.SHF,short,current_qty:0,avail_qty:0,cost_price:0.0,last_price:0.0) \n",
      "2021-05-21 14:31:33.899859 strategy_20210521(bkt999,): handle_order:[bkt999,16,RB2110.SHF,short,close_today,0,2,5138.0,pending,22:58:00,16] \n",
      "2021-05-21 14:31:33.900282 strategy_20210521(bkt999,): 2021-04-15 22:58:00 尾盘平多 for RB2110.SHF 最新价=5138.0 rv:0 \n",
      "2021-05-21 14:31:33.904122 strategy_20210521(bkt999,): handle_order:[bkt999,16,RB2110.SHF,short,close_today,2,2,5138.0,filled,22:58:00,16] \n",
      "2021-05-21 14:31:33.904836 strategy_20210521(bkt999,): handle_trade:[bkt999,16,RB2110.SHF,short,close_today,2,5137.0,SHFE.16,22:59:00.000000] \n",
      "2021-05-21 14:31:33.905170 strategy_20210521(bkt999,): 当前多头持仓:Position(bkt999,RB2110.SHF,long,current_qty:0,avail_qty:0,cost_price:5169.0,last_price:5137.0)当前空头持仓:Position(bkt999,RB2110.SHF,short,current_qty:0,avail_qty:0,cost_price:0.0,last_price:0.0) \n"
     ]
    },
    {
     "name": "stdout",
     "output_type": "stream",
     "text": [
      "2021-05-21 14:31:34.191545 strategy_20210521(bkt999,): handle_order:[bkt999,17,RB2110.SHF,short,open,0,2,5083.0,pending,09:01:00,17] \n",
      "2021-05-21 14:31:34.192068 strategy_20210521(bkt999,): 2021-04-19 09:01:00 开空 for RB2110.SHF 最新价=5083.0 rv:0 \n",
      "2021-05-21 14:31:34.196465 strategy_20210521(bkt999,): handle_order:[bkt999,17,RB2110.SHF,short,open,2,2,5083.0,filled,09:01:00,17] \n",
      "2021-05-21 14:31:34.197314 strategy_20210521(bkt999,): handle_trade:[bkt999,17,RB2110.SHF,short,open,2,5082.0,SHFE.17,09:02:00.000000] \n",
      "2021-05-21 14:31:34.197625 strategy_20210521(bkt999,): 当前多头持仓:Position(bkt999,RB2110.SHF,long,current_qty:0,avail_qty:0,cost_price:0.0,last_price:0.0)当前空头持仓:Position(bkt999,RB2110.SHF,short,current_qty:2,avail_qty:2,cost_price:5082.0,last_price:5082.0) \n",
      "2021-05-21 14:31:34.225414 strategy_20210521(bkt999,): handle_order:[bkt999,18,RB2110.SHF,long,close_today,0,2,5125.0,pending,09:38:00,18] \n",
      "2021-05-21 14:31:34.225831 strategy_20210521(bkt999,): 2021-04-19 09:38:00 平空 for RB2110.SHF 最新价=5125.0 rv:0 \n",
      "2021-05-21 14:31:34.229357 strategy_20210521(bkt999,): handle_order:[bkt999,18,RB2110.SHF,long,close_today,2,2,5125.0,filled,09:38:00,18] \n",
      "2021-05-21 14:31:34.230004 strategy_20210521(bkt999,): handle_trade:[bkt999,18,RB2110.SHF,long,close_today,2,5125.0,SHFE.18,09:39:00.000000] \n",
      "2021-05-21 14:31:34.230221 strategy_20210521(bkt999,): 当前多头持仓:Position(bkt999,RB2110.SHF,long,current_qty:0,avail_qty:0,cost_price:0.0,last_price:0.0)当前空头持仓:Position(bkt999,RB2110.SHF,short,current_qty:0,avail_qty:0,cost_price:5082.0,last_price:5125.0) \n"
     ]
    },
    {
     "name": "stdout",
     "output_type": "stream",
     "text": [
      "2021-05-21 14:31:34.518767 strategy_20210521(bkt999,): handle_order:[bkt999,19,RB2110.SHF,long,open,0,2,5144.0,pending,14:06:00,19] \n",
      "2021-05-21 14:31:34.519059 strategy_20210521(bkt999,): 2021-04-20 14:06:00 开多 for RB2110.SHF 最新价=5144.0 rv:0 \n",
      "price 5144.0 context.high 5143.0 context.today_open 5091.0\n",
      "2021-05-21 14:31:34.526684 strategy_20210521(bkt999,): handle_order:[bkt999,19,RB2110.SHF,long,open,2,2,5144.0,filled,14:06:00,19] \n",
      "2021-05-21 14:31:34.528903 strategy_20210521(bkt999,): handle_trade:[bkt999,19,RB2110.SHF,long,open,2,5146.0,SHFE.19,14:07:00.000000] \n",
      "2021-05-21 14:31:34.529646 strategy_20210521(bkt999,): 当前多头持仓:Position(bkt999,RB2110.SHF,long,current_qty:2,avail_qty:2,cost_price:5146.0,last_price:5146.0)当前空头持仓:Position(bkt999,RB2110.SHF,short,current_qty:0,avail_qty:0,cost_price:0.0,last_price:0.0) \n",
      "2021-05-21 14:31:34.565991 strategy_20210521(bkt999,): handle_order:[bkt999,20,RB2110.SHF,short,close_today,0,2,5162.0,pending,14:58:00,20] \n",
      "2021-05-21 14:31:34.566394 strategy_20210521(bkt999,): 2021-04-20 14:58:00 尾盘平多 for RB2110.SHF 最新价=5162.0 rv:0 \n",
      "2021-05-21 14:31:34.569584 strategy_20210521(bkt999,): handle_order:[bkt999,20,RB2110.SHF,short,close_today,2,2,5162.0,filled,14:58:00,20] \n",
      "2021-05-21 14:31:34.570144 strategy_20210521(bkt999,): handle_trade:[bkt999,20,RB2110.SHF,short,close_today,2,5161.0,SHFE.20,14:59:00.000000] \n",
      "2021-05-21 14:31:34.570321 strategy_20210521(bkt999,): 当前多头持仓:Position(bkt999,RB2110.SHF,long,current_qty:0,avail_qty:0,cost_price:5146.0,last_price:5161.0)当前空头持仓:Position(bkt999,RB2110.SHF,short,current_qty:0,avail_qty:0,cost_price:0.0,last_price:0.0) \n",
      "2021-05-21 14:31:34.588029 strategy_20210521(bkt999,): handle_order:[bkt999,21,RB2110.SHF,long,open,0,2,5173.0,pending,21:02:00,21] \n",
      "2021-05-21 14:31:34.588304 strategy_20210521(bkt999,): 2021-04-20 21:02:00 开多 for RB2110.SHF 最新价=5173.0 rv:0 \n",
      "price 5173.0 context.high 5171.0 context.today_open 5158.0\n",
      "2021-05-21 14:31:34.590352 strategy_20210521(bkt999,): handle_order:[bkt999,21,RB2110.SHF,long,open,2,2,5173.0,filled,21:02:00,21] \n",
      "2021-05-21 14:31:34.591691 strategy_20210521(bkt999,): handle_trade:[bkt999,21,RB2110.SHF,long,open,2,5174.0,SHFE.21,21:03:00.000000] \n",
      "2021-05-21 14:31:34.591810 strategy_20210521(bkt999,): 当前多头持仓:Position(bkt999,RB2110.SHF,long,current_qty:2,avail_qty:2,cost_price:5174.0,last_price:5174.0)当前空头持仓:Position(bkt999,RB2110.SHF,short,current_qty:0,avail_qty:0,cost_price:0.0,last_price:0.0) \n",
      "2021-05-21 14:31:34.643004 strategy_20210521(bkt999,): handle_order:[bkt999,22,RB2110.SHF,short,close_today,0,2,5157.0,pending,22:37:00,22] \n",
      "2021-05-21 14:31:34.643923 strategy_20210521(bkt999,): 2021-04-20 22:37:00 平多 for RB2110.SHF 最新价=5157.0 rv:0 \n",
      "price 5157.0 context.high 5171.0 context.today_open 5158.0\n",
      "2021-05-21 14:31:34.647386 strategy_20210521(bkt999,): handle_order:[bkt999,22,RB2110.SHF,short,close_today,2,2,5157.0,filled,22:37:00,22] \n",
      "2021-05-21 14:31:34.647914 strategy_20210521(bkt999,): handle_trade:[bkt999,22,RB2110.SHF,short,close_today,2,5156.0,SHFE.22,22:38:00.000000] \n",
      "2021-05-21 14:31:34.648063 strategy_20210521(bkt999,): 当前多头持仓:Position(bkt999,RB2110.SHF,long,current_qty:0,avail_qty:0,cost_price:5174.0,last_price:5156.0)当前空头持仓:Position(bkt999,RB2110.SHF,short,current_qty:0,avail_qty:0,cost_price:0.0,last_price:0.0) \n"
     ]
    },
    {
     "name": "stdout",
     "output_type": "stream",
     "text": [
      "2021-05-21 14:31:34.841659 strategy_20210521(bkt999,): handle_order:[bkt999,23,RB2110.SHF,long,open,0,2,5200.0,pending,21:02:00,23] \n",
      "2021-05-21 14:31:34.842300 strategy_20210521(bkt999,): 2021-04-21 21:02:00 开多 for RB2110.SHF 最新价=5200.0 rv:0 \n",
      "price 5200.0 context.high 5189.0 context.today_open 5195.0\n",
      "2021-05-21 14:31:34.846698 strategy_20210521(bkt999,): handle_order:[bkt999,23,RB2110.SHF,long,open,2,2,5200.0,filled,21:02:00,23] \n",
      "2021-05-21 14:31:34.850045 strategy_20210521(bkt999,): handle_trade:[bkt999,23,RB2110.SHF,long,open,2,5202.0,SHFE.23,21:03:00.000000] \n",
      "2021-05-21 14:31:34.851102 strategy_20210521(bkt999,): 当前多头持仓:Position(bkt999,RB2110.SHF,long,current_qty:2,avail_qty:2,cost_price:5202.0,last_price:5202.0)当前空头持仓:Position(bkt999,RB2110.SHF,short,current_qty:0,avail_qty:0,cost_price:0.0,last_price:0.0) \n",
      "2021-05-21 14:31:34.867470 strategy_20210521(bkt999,): handle_order:[bkt999,24,RB2110.SHF,short,close_today,0,2,5193.0,pending,21:17:00,24] \n",
      "2021-05-21 14:31:34.867915 strategy_20210521(bkt999,): 2021-04-21 21:17:00 平多 for RB2110.SHF 最新价=5193.0 rv:0 \n",
      "price 5193.0 context.high 5189.0 context.today_open 5195.0\n",
      "2021-05-21 14:31:34.871907 strategy_20210521(bkt999,): handle_order:[bkt999,24,RB2110.SHF,short,close_today,2,2,5193.0,filled,21:17:00,24] \n",
      "2021-05-21 14:31:34.872958 strategy_20210521(bkt999,): handle_trade:[bkt999,24,RB2110.SHF,short,close_today,2,5193.0,SHFE.24,21:18:00.000000] \n",
      "2021-05-21 14:31:34.873615 strategy_20210521(bkt999,): 当前多头持仓:Position(bkt999,RB2110.SHF,long,current_qty:0,avail_qty:0,cost_price:5202.0,last_price:5193.0)当前空头持仓:Position(bkt999,RB2110.SHF,short,current_qty:0,avail_qty:0,cost_price:0.0,last_price:0.0) \n"
     ]
    },
    {
     "name": "stdout",
     "output_type": "stream",
     "text": [
      "2021-05-21 14:31:35.203928 strategy_20210521(bkt999,): handle_order:[bkt999,25,RB2110.SHF,long,open,0,2,5240.0,pending,22:40:00,25] \n",
      "2021-05-21 14:31:35.204221 strategy_20210521(bkt999,): 2021-04-22 22:40:00 开多 for RB2110.SHF 最新价=5240.0 rv:0 \n",
      "price 5240.0 context.high 5238.0 context.today_open 5225.0\n",
      "2021-05-21 14:31:35.207231 strategy_20210521(bkt999,): handle_order:[bkt999,25,RB2110.SHF,long,open,2,2,5240.0,filled,22:40:00,25] \n",
      "2021-05-21 14:31:35.207967 strategy_20210521(bkt999,): handle_trade:[bkt999,25,RB2110.SHF,long,open,2,5241.0,SHFE.25,22:41:00.000000] \n",
      "2021-05-21 14:31:35.208085 strategy_20210521(bkt999,): 当前多头持仓:Position(bkt999,RB2110.SHF,long,current_qty:2,avail_qty:2,cost_price:5241.0,last_price:5241.0)当前空头持仓:Position(bkt999,RB2110.SHF,short,current_qty:0,avail_qty:0,cost_price:0.0,last_price:0.0) \n",
      "2021-05-21 14:31:35.216651 strategy_20210521(bkt999,): handle_order:[bkt999,26,RB2110.SHF,short,close_today,0,2,5240.0,pending,22:58:00,26] \n",
      "2021-05-21 14:31:35.216887 strategy_20210521(bkt999,): 2021-04-22 22:58:00 尾盘平多 for RB2110.SHF 最新价=5240.0 rv:0 \n",
      "2021-05-21 14:31:35.218888 strategy_20210521(bkt999,): handle_order:[bkt999,26,RB2110.SHF,short,close_today,2,2,5240.0,filled,22:58:00,26] \n",
      "2021-05-21 14:31:35.219223 strategy_20210521(bkt999,): handle_trade:[bkt999,26,RB2110.SHF,short,close_today,2,5240.0,SHFE.26,22:59:00.000000] \n",
      "2021-05-21 14:31:35.219328 strategy_20210521(bkt999,): 当前多头持仓:Position(bkt999,RB2110.SHF,long,current_qty:0,avail_qty:0,cost_price:5241.0,last_price:5240.0)当前空头持仓:Position(bkt999,RB2110.SHF,short,current_qty:0,avail_qty:0,cost_price:0.0,last_price:0.0) \n",
      "2021-05-21 14:31:35.390011 strategy_20210521(bkt999,): handle_order:[bkt999,27,RB2110.SHF,long,open,0,2,5307.0,pending,21:06:00,27] \n",
      "2021-05-21 14:31:35.390306 strategy_20210521(bkt999,): 2021-04-23 21:06:00 开多 for RB2110.SHF 最新价=5307.0 rv:0 \n",
      "price 5307.0 context.high 5300.0 context.today_open 5300.0\n",
      "2021-05-21 14:31:35.392383 strategy_20210521(bkt999,): handle_order:[bkt999,27,RB2110.SHF,long,open,2,2,5307.0,filled,21:06:00,27] \n",
      "2021-05-21 14:31:35.393616 strategy_20210521(bkt999,): handle_trade:[bkt999,27,RB2110.SHF,long,open,2,5309.0,SHFE.27,21:07:00.000000] \n",
      "2021-05-21 14:31:35.393730 strategy_20210521(bkt999,): 当前多头持仓:Position(bkt999,RB2110.SHF,long,current_qty:2,avail_qty:2,cost_price:5309.0,last_price:5309.0)当前空头持仓:Position(bkt999,RB2110.SHF,short,current_qty:0,avail_qty:0,cost_price:0.0,last_price:0.0) \n"
     ]
    },
    {
     "name": "stdout",
     "output_type": "stream",
     "text": [
      "2021-05-21 14:31:35.464067 strategy_20210521(bkt999,): handle_order:[bkt999,28,RB2110.SHF,short,close_today,0,2,5370.0,pending,22:58:00,28] \n",
      "2021-05-21 14:31:35.464369 strategy_20210521(bkt999,): 2021-04-23 22:58:00 尾盘平多 for RB2110.SHF 最新价=5370.0 rv:0 \n",
      "2021-05-21 14:31:35.467772 strategy_20210521(bkt999,): handle_order:[bkt999,28,RB2110.SHF,short,close_today,2,2,5370.0,filled,22:58:00,28] \n",
      "2021-05-21 14:31:35.468747 strategy_20210521(bkt999,): handle_trade:[bkt999,28,RB2110.SHF,short,close_today,2,5369.0,SHFE.28,22:59:00.000000] \n",
      "2021-05-21 14:31:35.468944 strategy_20210521(bkt999,): 当前多头持仓:Position(bkt999,RB2110.SHF,long,current_qty:0,avail_qty:0,cost_price:5309.0,last_price:5369.0)当前空头持仓:Position(bkt999,RB2110.SHF,short,current_qty:0,avail_qty:0,cost_price:0.0,last_price:0.0) \n"
     ]
    },
    {
     "name": "stdout",
     "output_type": "stream",
     "text": [
      "2021-05-21 14:31:35.860968 strategy_20210521(bkt999,): handle_order:[bkt999,29,RB2110.SHF,short,open,0,2,5355.0,pending,21:31:00,29] \n",
      "2021-05-21 14:31:35.861427 strategy_20210521(bkt999,): 2021-04-27 21:31:00 开空 for RB2110.SHF 最新价=5355.0 rv:0 \n",
      "2021-05-21 14:31:35.864199 strategy_20210521(bkt999,): handle_order:[bkt999,29,RB2110.SHF,short,open,2,2,5355.0,filled,21:31:00,29] \n",
      "2021-05-21 14:31:35.865963 strategy_20210521(bkt999,): handle_trade:[bkt999,29,RB2110.SHF,short,open,2,5354.0,SHFE.29,21:32:00.000000] \n",
      "2021-05-21 14:31:35.866810 strategy_20210521(bkt999,): 当前多头持仓:Position(bkt999,RB2110.SHF,long,current_qty:0,avail_qty:0,cost_price:0.0,last_price:0.0)当前空头持仓:Position(bkt999,RB2110.SHF,short,current_qty:2,avail_qty:2,cost_price:5354.0,last_price:5354.0) \n",
      "2021-05-21 14:31:35.911266 strategy_20210521(bkt999,): handle_order:[bkt999,30,RB2110.SHF,long,close_today,0,2,5338.0,pending,22:58:00,30] \n",
      "2021-05-21 14:31:35.911542 strategy_20210521(bkt999,): 2021-04-27 22:58:00 尾盘平空 for RB2110.SHF 最新价=5338.0 rv:0 \n",
      "2021-05-21 14:31:35.913605 strategy_20210521(bkt999,): handle_order:[bkt999,30,RB2110.SHF,long,close_today,2,2,5338.0,filled,22:58:00,30] \n",
      "2021-05-21 14:31:35.914368 strategy_20210521(bkt999,): handle_trade:[bkt999,30,RB2110.SHF,long,close_today,2,5340.0,SHFE.30,22:59:00.000000] \n",
      "2021-05-21 14:31:35.914485 strategy_20210521(bkt999,): 当前多头持仓:Position(bkt999,RB2110.SHF,long,current_qty:0,avail_qty:0,cost_price:0.0,last_price:0.0)当前空头持仓:Position(bkt999,RB2110.SHF,short,current_qty:0,avail_qty:0,cost_price:5354.0,last_price:5340.0) \n"
     ]
    },
    {
     "name": "stdout",
     "output_type": "stream",
     "text": [
      "2021-05-21 14:31:36.097771 strategy_20210521(bkt999,): handle_order:[bkt999,31,RB2110.SHF,long,open,0,2,5423.0,pending,21:42:00,31] \n",
      "2021-05-21 14:31:36.098080 strategy_20210521(bkt999,): 2021-04-28 21:42:00 开多 for RB2110.SHF 最新价=5423.0 rv:0 \n",
      "price 5423.0 context.high 5422.0 context.today_open 5329.0\n",
      "2021-05-21 14:31:36.100217 strategy_20210521(bkt999,): handle_order:[bkt999,31,RB2110.SHF,long,open,2,2,5423.0,filled,21:42:00,31] \n",
      "2021-05-21 14:31:36.100730 strategy_20210521(bkt999,): handle_trade:[bkt999,31,RB2110.SHF,long,open,2,5424.0,SHFE.31,21:43:00.000000] \n",
      "2021-05-21 14:31:36.100850 strategy_20210521(bkt999,): 当前多头持仓:Position(bkt999,RB2110.SHF,long,current_qty:2,avail_qty:2,cost_price:5424.0,last_price:5424.0)当前空头持仓:Position(bkt999,RB2110.SHF,short,current_qty:0,avail_qty:0,cost_price:0.0,last_price:0.0) \n",
      "2021-05-21 14:31:36.153293 strategy_20210521(bkt999,): handle_order:[bkt999,32,RB2110.SHF,short,close_today,0,2,5409.0,pending,22:58:00,32] \n",
      "2021-05-21 14:31:36.153735 strategy_20210521(bkt999,): 2021-04-28 22:58:00 尾盘平多 for RB2110.SHF 最新价=5409.0 rv:0 \n",
      "2021-05-21 14:31:36.157449 strategy_20210521(bkt999,): handle_order:[bkt999,32,RB2110.SHF,short,close_today,2,2,5409.0,filled,22:58:00,32] \n",
      "2021-05-21 14:31:36.158070 strategy_20210521(bkt999,): handle_trade:[bkt999,32,RB2110.SHF,short,close_today,2,5408.0,SHFE.32,22:59:00.000000] \n",
      "2021-05-21 14:31:36.158290 strategy_20210521(bkt999,): 当前多头持仓:Position(bkt999,RB2110.SHF,long,current_qty:0,avail_qty:0,cost_price:5424.0,last_price:5408.0)当前空头持仓:Position(bkt999,RB2110.SHF,short,current_qty:0,avail_qty:0,cost_price:0.0,last_price:0.0) \n"
     ]
    },
    {
     "name": "stdout",
     "output_type": "stream",
     "text": [
      "2021-05-21 14:31:36.343060 strategy_20210521(bkt999,): handle_order:[bkt999,33,RB2110.SHF,long,open,0,2,5479.0,pending,21:09:00,33] \n",
      "2021-05-21 14:31:36.343443 strategy_20210521(bkt999,): 2021-04-29 21:09:00 开多 for RB2110.SHF 最新价=5479.0 rv:0 \n",
      "price 5479.0 context.high 5475.0 context.today_open 5464.0\n",
      "2021-05-21 14:31:36.346372 strategy_20210521(bkt999,): handle_order:[bkt999,33,RB2110.SHF,long,open,2,2,5479.0,filled,21:09:00,33] \n",
      "2021-05-21 14:31:36.346986 strategy_20210521(bkt999,): handle_trade:[bkt999,33,RB2110.SHF,long,open,2,5480.0,SHFE.33,21:10:00.000000] \n",
      "2021-05-21 14:31:36.347351 strategy_20210521(bkt999,): 当前多头持仓:Position(bkt999,RB2110.SHF,long,current_qty:2,avail_qty:2,cost_price:5480.0,last_price:5480.0)当前空头持仓:Position(bkt999,RB2110.SHF,short,current_qty:0,avail_qty:0,cost_price:0.0,last_price:0.0) \n",
      "2021-05-21 14:31:36.385107 strategy_20210521(bkt999,): handle_order:[bkt999,34,RB2110.SHF,short,close_today,0,2,5462.0,pending,21:55:00,34] \n",
      "2021-05-21 14:31:36.385406 strategy_20210521(bkt999,): 2021-04-29 21:55:00 平多 for RB2110.SHF 最新价=5462.0 rv:0 \n",
      "price 5462.0 context.high 5475.0 context.today_open 5464.0\n",
      "2021-05-21 14:31:36.387566 strategy_20210521(bkt999,): handle_order:[bkt999,34,RB2110.SHF,short,close_today,2,2,5462.0,filled,21:55:00,34] \n",
      "2021-05-21 14:31:36.388840 strategy_20210521(bkt999,): handle_trade:[bkt999,34,RB2110.SHF,short,close_today,2,5460.0,SHFE.34,21:56:00.000000] \n",
      "2021-05-21 14:31:36.388963 strategy_20210521(bkt999,): 当前多头持仓:Position(bkt999,RB2110.SHF,long,current_qty:0,avail_qty:0,cost_price:5480.0,last_price:5460.0)当前空头持仓:Position(bkt999,RB2110.SHF,short,current_qty:0,avail_qty:0,cost_price:0.0,last_price:0.0) \n"
     ]
    },
    {
     "name": "stdout",
     "output_type": "stream",
     "text": [
      "2021-05-21 14:31:36.584744 strategy_20210521(bkt999,): handle_order:[bkt999,35,RB2110.SHF,long,open,0,2,5550.0,pending,09:01:00,35] \n",
      "2021-05-21 14:31:36.585522 strategy_20210521(bkt999,): 2021-05-06 09:01:00 开多 for RB2110.SHF 最新价=5550.0 rv:0 \n",
      "price 5550.0 context.high 5487.0 context.today_open 5520.0\n",
      "2021-05-21 14:31:36.587767 strategy_20210521(bkt999,): handle_order:[bkt999,35,RB2110.SHF,long,open,2,2,5550.0,filled,09:01:00,35] \n",
      "2021-05-21 14:31:36.588389 strategy_20210521(bkt999,): handle_trade:[bkt999,35,RB2110.SHF,long,open,2,5551.0,SHFE.35,09:02:00.000000] \n",
      "2021-05-21 14:31:36.588513 strategy_20210521(bkt999,): 当前多头持仓:Position(bkt999,RB2110.SHF,long,current_qty:2,avail_qty:2,cost_price:5551.0,last_price:5551.0)当前空头持仓:Position(bkt999,RB2110.SHF,short,current_qty:0,avail_qty:0,cost_price:0.0,last_price:0.0) \n",
      "2021-05-21 14:31:36.728850 strategy_20210521(bkt999,): handle_order:[bkt999,36,RB2110.SHF,short,close_today,0,2,5662.0,pending,14:58:00,36] \n",
      "2021-05-21 14:31:36.729895 strategy_20210521(bkt999,): 2021-05-06 14:58:00 尾盘平多 for RB2110.SHF 最新价=5662.0 rv:0 \n",
      "2021-05-21 14:31:36.734227 strategy_20210521(bkt999,): handle_order:[bkt999,36,RB2110.SHF,short,close_today,2,2,5662.0,filled,14:58:00,36] \n",
      "2021-05-21 14:31:36.735500 strategy_20210521(bkt999,): handle_trade:[bkt999,36,RB2110.SHF,short,close_today,2,5661.0,SHFE.36,14:59:00.000000] \n",
      "2021-05-21 14:31:36.735785 strategy_20210521(bkt999,): 当前多头持仓:Position(bkt999,RB2110.SHF,long,current_qty:0,avail_qty:0,cost_price:5551.0,last_price:5661.0)当前空头持仓:Position(bkt999,RB2110.SHF,short,current_qty:0,avail_qty:0,cost_price:0.0,last_price:0.0) \n",
      "2021-05-21 14:31:36.757435 strategy_20210521(bkt999,): handle_order:[bkt999,37,RB2110.SHF,long,open,0,2,5673.0,pending,21:02:00,37] \n",
      "2021-05-21 14:31:36.757957 strategy_20210521(bkt999,): 2021-05-06 21:02:00 开多 for RB2110.SHF 最新价=5673.0 rv:0 \n",
      "price 5673.0 context.high 5672.0 context.today_open 5669.0\n",
      "2021-05-21 14:31:36.761929 strategy_20210521(bkt999,): handle_order:[bkt999,37,RB2110.SHF,long,open,2,2,5673.0,filled,21:02:00,37] \n",
      "2021-05-21 14:31:36.762919 strategy_20210521(bkt999,): handle_trade:[bkt999,37,RB2110.SHF,long,open,2,5674.0,SHFE.37,21:03:00.000000] \n",
      "2021-05-21 14:31:36.763267 strategy_20210521(bkt999,): 当前多头持仓:Position(bkt999,RB2110.SHF,long,current_qty:2,avail_qty:2,cost_price:5674.0,last_price:5674.0)当前空头持仓:Position(bkt999,RB2110.SHF,short,current_qty:0,avail_qty:0,cost_price:0.0,last_price:0.0) \n",
      "2021-05-21 14:31:36.784476 strategy_20210521(bkt999,): handle_order:[bkt999,38,RB2110.SHF,short,close_today,0,2,5666.0,pending,21:26:00,38] \n",
      "2021-05-21 14:31:36.785553 strategy_20210521(bkt999,): 2021-05-06 21:26:00 平多 for RB2110.SHF 最新价=5666.0 rv:0 \n",
      "price 5666.0 context.high 5672.0 context.today_open 5669.0\n",
      "2021-05-21 14:31:36.788463 strategy_20210521(bkt999,): handle_order:[bkt999,38,RB2110.SHF,short,close_today,2,2,5666.0,filled,21:26:00,38] \n",
      "2021-05-21 14:31:36.789022 strategy_20210521(bkt999,): handle_trade:[bkt999,38,RB2110.SHF,short,close_today,2,5664.0,SHFE.38,21:27:00.000000] \n",
      "2021-05-21 14:31:36.789189 strategy_20210521(bkt999,): 当前多头持仓:Position(bkt999,RB2110.SHF,long,current_qty:0,avail_qty:0,cost_price:5674.0,last_price:5664.0)当前空头持仓:Position(bkt999,RB2110.SHF,short,current_qty:0,avail_qty:0,cost_price:0.0,last_price:0.0) \n"
     ]
    },
    {
     "name": "stdout",
     "output_type": "stream",
     "text": [
      "2021-05-21 14:31:37.002692 strategy_20210521(bkt999,): handle_order:[bkt999,39,RB2110.SHF,long,open,0,2,5708.0,pending,21:04:00,39] \n",
      "2021-05-21 14:31:37.003000 strategy_20210521(bkt999,): 2021-05-07 21:04:00 开多 for RB2110.SHF 最新价=5708.0 rv:0 \n",
      "price 5708.0 context.high 5698.0 context.today_open 5677.0\n",
      "2021-05-21 14:31:37.005138 strategy_20210521(bkt999,): handle_order:[bkt999,39,RB2110.SHF,long,open,2,2,5708.0,filled,21:04:00,39] \n",
      "2021-05-21 14:31:37.006420 strategy_20210521(bkt999,): handle_trade:[bkt999,39,RB2110.SHF,long,open,2,5708.0,SHFE.39,21:05:00.000000] \n",
      "2021-05-21 14:31:37.006651 strategy_20210521(bkt999,): 当前多头持仓:Position(bkt999,RB2110.SHF,long,current_qty:2,avail_qty:2,cost_price:5708.0,last_price:5708.0)当前空头持仓:Position(bkt999,RB2110.SHF,short,current_qty:0,avail_qty:0,cost_price:0.0,last_price:0.0) \n",
      "2021-05-21 14:31:37.016587 strategy_20210521(bkt999,): handle_order:[bkt999,40,RB2110.SHF,short,close_today,0,2,5674.0,pending,21:25:00,40] \n",
      "2021-05-21 14:31:37.016837 strategy_20210521(bkt999,): 2021-05-07 21:25:00 平多 for RB2110.SHF 最新价=5674.0 rv:0 \n",
      "price 5674.0 context.high 5698.0 context.today_open 5677.0\n",
      "2021-05-21 14:31:37.018955 strategy_20210521(bkt999,): handle_order:[bkt999,40,RB2110.SHF,short,close_today,2,2,5674.0,filled,21:25:00,40] \n",
      "2021-05-21 14:31:37.020080 strategy_20210521(bkt999,): handle_trade:[bkt999,40,RB2110.SHF,short,close_today,2,5673.0,SHFE.40,21:26:00.000000] \n",
      "2021-05-21 14:31:37.020313 strategy_20210521(bkt999,): 当前多头持仓:Position(bkt999,RB2110.SHF,long,current_qty:0,avail_qty:0,cost_price:5708.0,last_price:5673.0)当前空头持仓:Position(bkt999,RB2110.SHF,short,current_qty:0,avail_qty:0,cost_price:0.0,last_price:0.0) \n"
     ]
    },
    {
     "name": "stdout",
     "output_type": "stream",
     "text": [
      "2021-05-21 14:31:37.232047 strategy_20210521(bkt999,): handle_order:[bkt999,41,RB2110.SHF,long,open,0,2,6195.0,pending,21:01:00,41] \n",
      "2021-05-21 14:31:37.232860 strategy_20210521(bkt999,): 2021-05-10 21:01:00 开多 for RB2110.SHF 最新价=6195.0 rv:0 \n",
      "price 6195.0 context.high 6012.0 context.today_open 6113.0\n",
      "2021-05-21 14:31:37.236425 strategy_20210521(bkt999,): handle_order:[bkt999,41,RB2110.SHF,long,open,2,2,6195.0,filled,21:01:00,41] \n",
      "2021-05-21 14:31:37.238784 strategy_20210521(bkt999,): handle_trade:[bkt999,41,RB2110.SHF,long,open,2,6194.0,SHFE.41,21:02:00.000000] \n",
      "2021-05-21 14:31:37.239082 strategy_20210521(bkt999,): 当前多头持仓:Position(bkt999,RB2110.SHF,long,current_qty:2,avail_qty:2,cost_price:6194.0,last_price:6194.0)当前空头持仓:Position(bkt999,RB2110.SHF,short,current_qty:0,avail_qty:0,cost_price:0.0,last_price:0.0) \n",
      "2021-05-21 14:31:37.243929 strategy_20210521(bkt999,): handle_order:[bkt999,42,RB2110.SHF,short,close_today,0,2,6101.0,pending,21:05:00,42] \n",
      "2021-05-21 14:31:37.245252 strategy_20210521(bkt999,): 2021-05-10 21:05:00 平多 for RB2110.SHF 最新价=6101.0 rv:0 \n",
      "price 6101.0 context.high 6012.0 context.today_open 6113.0\n",
      "2021-05-21 14:31:37.249703 strategy_20210521(bkt999,): handle_order:[bkt999,42,RB2110.SHF,short,close_today,2,2,6101.0,filled,21:05:00,42] \n",
      "2021-05-21 14:31:37.251015 strategy_20210521(bkt999,): handle_trade:[bkt999,42,RB2110.SHF,short,close_today,2,6101.0,SHFE.42,21:06:00.000000] \n",
      "2021-05-21 14:31:37.251289 strategy_20210521(bkt999,): 当前多头持仓:Position(bkt999,RB2110.SHF,long,current_qty:0,avail_qty:0,cost_price:6194.0,last_price:6101.0)当前空头持仓:Position(bkt999,RB2110.SHF,short,current_qty:0,avail_qty:0,cost_price:0.0,last_price:0.0) \n"
     ]
    },
    {
     "name": "stdout",
     "output_type": "stream",
     "text": [
      "2021-05-21 14:31:37.689477 run_backtest() finished! time cost 5.8s! \n"
     ]
    },
    {
     "data": {
      "text/plain": [
       "[2021-05-21 14:31:38.776482] INFO: hfbacktest: backtest done, raw_perf_ds:DataSource(ae8109fd20d746079a35acc48a88aa1bT)"
      ]
     },
     "metadata": {
      "is_log": true,
      "status": "INFO"
     },
     "output_type": "display_data"
    },
    {
     "data": {
      "text/html": [
       "<div id='bigchart-626d6e1c0d724b1e8f9e2eb61e8d5953' class='bigchart display' style='display:none'><ul class='nav nav-tabs' style='padding-left: 0;'><li class='tabtitle' style='margin: 0;'><span style='margin: 0;font-size: 1.2em;display: inline-block;padding: 10px 10px;'>Trade(回测/模拟)</span></li><li class='active'><a>收益概况</a></li><li><a>交易详情</a></li><li><a>每日持仓和收益</a></li><li><a>输出日志</a></li></ul><div class='tab-content' style='min-height: 100px;text-align: center;'><div class='tab-pane active' id='收益概况'>\n",
       "<div class='kpicontainer'>\n",
       "    <ul class='kpi'>\n",
       "        <li><span class='title'>收益率</span><span class='value'>-3.5%</span></li>\n",
       "        <li><span class='title'>年化收益率</span><span class='value'>-31.21%</span></li>\n",
       "        <li><span class='title'>基准收益率</span><span class='value'>-1.86%</span></li>\n",
       "        <li><span class='title'>阿尔法</span><span class='value'>-0.47</span></li>\n",
       "        <li><span class='title'>贝塔</span><span class='value'>-0.3</span></li>\n",
       "        <li><span class='title'>夏普比率</span><span class='value'>-3.27</span></li>\n",
       "        <li><span class='title'>胜率</span><span class='value'>0.14</span></li>\n",
       "        <li><span class='title'>盈亏比</span><span class='value'>0.56</span></li>\n",
       "        <li><span class='title'>收益波动率</span><span class='value'>12.13%</span></li>\n",
       "        <li><span class='title'>信息比率</span><span class='value'>-0.04</span></li>\n",
       "        <li><span class='title'>最大回撤</span><span class='value'>3.77%</span></li>\n",
       "    </ul>\n",
       "</div>\n",
       "<div id=\"bigchart-6155798db9464854a58292d3e348ae8f\" class=\"bigchart\"></div><div class=\"bigchart-data\"><pre style=\"display:none\">bigcharts-data-start/{\"chart\":{\"height\":400,\"renderTo\":\"bigchart-6155798db9464854a58292d3e348ae8f\"},\"legend\":{\"enabled\":true},\"stock\":true,\"series\":[{\"name\":\"\\u7b56\\u7565\\u6536\\u76ca\\u7387\",\"yAxis\":0,\"data\":[[1617667200000,0.1154],[1617753600000,-0.4093],[1617840000000,-0.4093],[1617926400000,-0.5338],[1618185600000,-1.1783],[1618272000000,-0.9029],[1618358400000,-1.4676],[1618444800000,-1.8722],[1618531200000,-2.5168],[1618790400000,-3.3814],[1618876800000,-3.086],[1618963200000,-3.4507],[1619049600000,-3.6354],[1619136000000,-3.6601],[1619395200000,-2.4649],[1619481600000,-2.4649],[1619568000000,-2.1897],[1619654400000,-2.5146],[1619740800000,-2.9195],[1620259200000,-0.7245],[1620345600000,-0.9296],[1620604800000,-1.6348],[1620691200000,-3.5003],[1620777600000,-3.5003]],\"color\":\"#ff9900\",\"tooltip\":{\"valueDecimals\":2,\"valueSuffix\":\" %\"}},{\"name\":\"\\u57fa\\u51c6\\u6536\\u76ca\\u7387\",\"yAxis\":0,\"data\":[[1617667200000,0.0],[1617753600000,-0.712],[1617840000000,-0.5473],[1617926400000,-2.0427],[1618185600000,-3.7467],[1618272000000,-3.9044],[1618358400000,-3.1071],[1618444800000,-3.7228],[1618531200000,-3.3881],[1618790400000,-1.0374],[1618876800000,-1.1084],[1618963200000,-0.8092],[1619049600000,-0.9941],[1619136000000,-0.0951],[1619395200000,-1.2276],[1619481600000,-0.9692],[1619568000000,-0.4105],[1619654400000,0.4636],[1619740800000,-0.3278],[1620259200000,-1.5411],[1620345600000,-2.807],[1620604800000,-2.8776],[1620691200000,-2.2816],[1620777600000,-1.8635]],\"color\":\"#6699ff\",\"tooltip\":{\"valueDecimals\":2,\"valueSuffix\":\" %\"}},{\"name\":\"\\u76f8\\u5bf9\\u6536\\u76ca\\u7387\",\"yAxis\":0,\"data\":[[1617667200000,0.1154],[1617753600000,0.3036],[1617840000000,0.1372],[1617926400000,1.5177],[1618185600000,2.6258],[1618272000000,3.0798],[1618358400000,1.6372],[1618444800000,1.8659],[1618531200000,0.8425],[1618790400000,-2.5056],[1618876800000,-2.1375],[1618963200000,-2.8018],[1619049600000,-2.8066],[1619136000000,-3.7141],[1619395200000,-1.428],[1619481600000,-1.6859],[1619568000000,-1.9632],[1619654400000,-3.1493],[1619740800000,-2.7886],[1620259200000,0.5926],[1620345600000,1.6781],[1620604800000,1.0283],[1620691200000,-1.5077],[1620777600000,-1.9291]],\"color\":\"#994a4d\",\"tooltip\":{\"valueDecimals\":2,\"valueSuffix\":\" %\"},\"visible\":false},{\"name\":\"\\u98ce\\u9669\\u5ea6\",\"yAxis\":1,\"data\":[[1617667200000,0.0],[1617753600000,0.0],[1617840000000,0.0],[1617926400000,0.0],[1618185600000,0.0],[1618272000000,0.0],[1618358400000,0.0],[1618444800000,0.0],[1618531200000,0.0],[1618790400000,0.0],[1618876800000,0.0],[1618963200000,0.0],[1619049600000,0.0],[1619136000000,0.0],[1619395200000,0.0],[1619481600000,0.0],[1619568000000,0.0],[1619654400000,0.0],[1619740800000,0.0],[1620259200000,0.0],[1620345600000,0.0],[1620604800000,0.0],[1620691200000,0.0],[1620777600000,0.0]],\"color\":\"#66ff99\",\"tooltip\":{\"valueDecimals\":2,\"valueSuffix\":\" %\"},\"visible\":false},{\"name\":\"long_margin\",\"yAxis\":2,\"data\":[[1617667200000,0.0],[1617753600000,0.0],[1617840000000,0.0],[1617926400000,0.0],[1618185600000,0.0],[1618272000000,0.0],[1618358400000,0.0],[1618444800000,0.0],[1618531200000,0.0],[1618790400000,0.0],[1618876800000,0.0],[1618963200000,0.0],[1619049600000,0.0],[1619136000000,0.0],[1619395200000,0.0],[1619481600000,0.0],[1619568000000,0.0],[1619654400000,0.0],[1619740800000,0.0],[1620259200000,0.0],[1620345600000,0.0],[1620604800000,0.0],[1620691200000,0.0],[1620777600000,0.0]]},{\"name\":\"short_margin\",\"yAxis\":2,\"data\":[[1617667200000,0.0],[1617753600000,0.0],[1617840000000,0.0],[1617926400000,0.0],[1618185600000,0.0],[1618272000000,0.0],[1618358400000,0.0],[1618444800000,0.0],[1618531200000,0.0],[1618790400000,0.0],[1618876800000,0.0],[1618963200000,0.0],[1619049600000,0.0],[1619136000000,0.0],[1619395200000,0.0],[1619481600000,0.0],[1619568000000,0.0],[1619654400000,0.0],[1619740800000,0.0],[1620259200000,0.0],[1620345600000,0.0],[1620604800000,0.0],[1620691200000,0.0],[1620777600000,0.0]]}],\"xAxis\":{\"title\":{\"text\":\"date\"},\"type\":\"datetime\"},\"yAxis\":[{\"labels\":{\"align\":\"right\",\"x\":-3,\"format\":\"{value}%\"},\"title\":{\"text\":\"\\u51c0\\u503c\\u66f2\\u7ebf\"},\"top\":\"0%\",\"height\":\"62%\",\"offset\":0,\"lineWidth\":2,\"gridLineColor\":\"#cfcfcf\",\"gridLineWidth\":1},{\"labels\":{\"align\":\"right\",\"x\":-3,\"format\":\"{value}%\"},\"title\":{\"text\":\"\\u98ce\\u9669\\u5ea6\"},\"top\":\"66%\",\"height\":\"15%\",\"offset\":0,\"lineWidth\":2,\"gridLineColor\":\"#cfcfcf\",\"gridLineWidth\":1},{\"labels\":{\"align\":\"right\",\"x\":-3},\"title\":{\"text\":\"\\u81ea\\u5b9a\\u4e49\\u6570\\u636e\"},\"top\":\"85%\",\"height\":\"15%\",\"offset\":0,\"lineWidth\":2,\"gridLineColor\":\"#cfcfcf\",\"gridLineWidth\":1}]}/bigcharts-data-end</pre></div></div><div class='tab-pane' id='交易详情'><table id=\"bigchart-277091ff509243388bdf2d93ee987a8a\" width=\"100%\" class=\"display bigchart\"></table><div class=\"bigchart-data\"><pre style=\"display:none\">bigcharts-data-start/{\"deferRender\":true,\"data\":[[\"2021-05-10 21:06:00\",\"RB2110.SHF\",\"\\u87ba\\u7eb9\\u94a22110\",\"\\u5356\\u51fa\",\"\\u5e73\\u4eca\",2,6101.0,-122020.0,0.0],[\"2021-05-10 21:02:00\",\"RB2110.SHF\",\"\\u87ba\\u7eb9\\u94a22110\",\"\\u4e70\\u5165\",\"\\u5f00\\u4ed3\",2,6194.0,123880.0,5.57],[\"\",\"\",\"\",\"\",\"\",\"\\uff082 \\u7b14\\u4ea4\\u6613\",\"\\u4e70\\u5165 \\uffe5123880.0\",\"\\u5356\\u51fa \\uffe5-122020.0\\uff09\",\"\\u603b\\u4f63\\u91d1\\uffe55.57\\uff09\"],[\"2021-05-07 21:26:00\",\"RB2110.SHF\",\"\\u87ba\\u7eb9\\u94a22110\",\"\\u5356\\u51fa\",\"\\u5e73\\u4eca\",2,5673.0,-113460.0,0.0],[\"2021-05-07 21:05:00\",\"RB2110.SHF\",\"\\u87ba\\u7eb9\\u94a22110\",\"\\u4e70\\u5165\",\"\\u5f00\\u4ed3\",2,5708.0,114160.0,5.14],[\"\",\"\",\"\",\"\",\"\",\"\\uff082 \\u7b14\\u4ea4\\u6613\",\"\\u4e70\\u5165 \\uffe5114160.0\",\"\\u5356\\u51fa \\uffe5-113460.0\\uff09\",\"\\u603b\\u4f63\\u91d1\\uffe55.14\\uff09\"],[\"2021-05-06 21:27:00\",\"RB2110.SHF\",\"\\u87ba\\u7eb9\\u94a22110\",\"\\u5356\\u51fa\",\"\\u5e73\\u4eca\",2,5664.0,-113280.0,0.0],[\"2021-05-06 21:03:00\",\"RB2110.SHF\",\"\\u87ba\\u7eb9\\u94a22110\",\"\\u4e70\\u5165\",\"\\u5f00\\u4ed3\",2,5674.0,113480.0,5.11],[\"\",\"\",\"\",\"\",\"\",\"\\uff082 \\u7b14\\u4ea4\\u6613\",\"\\u4e70\\u5165 \\uffe5113480.0\",\"\\u5356\\u51fa \\uffe5-113280.0\\uff09\",\"\\u603b\\u4f63\\u91d1\\uffe55.11\\uff09\"],[\"2021-05-06 14:59:00\",\"RB2110.SHF\",\"\\u87ba\\u7eb9\\u94a22110\",\"\\u5356\\u51fa\",\"\\u5e73\\u4eca\",2,5661.0,-113220.0,0.0],[\"2021-05-06 09:02:00\",\"RB2110.SHF\",\"\\u87ba\\u7eb9\\u94a22110\",\"\\u4e70\\u5165\",\"\\u5f00\\u4ed3\",2,5551.0,111020.0,5.0],[\"\",\"\",\"\",\"\",\"\",\"\\uff082 \\u7b14\\u4ea4\\u6613\",\"\\u4e70\\u5165 \\uffe5111020.0\",\"\\u5356\\u51fa \\uffe5-113220.0\\uff09\",\"\\u603b\\u4f63\\u91d1\\uffe55.0\\uff09\"],[\"2021-04-29 21:56:00\",\"RB2110.SHF\",\"\\u87ba\\u7eb9\\u94a22110\",\"\\u5356\\u51fa\",\"\\u5e73\\u4eca\",2,5460.0,-109200.0,0.0],[\"2021-04-29 21:10:00\",\"RB2110.SHF\",\"\\u87ba\\u7eb9\\u94a22110\",\"\\u4e70\\u5165\",\"\\u5f00\\u4ed3\",2,5480.0,109600.0,4.93],[\"\",\"\",\"\",\"\",\"\",\"\\uff082 \\u7b14\\u4ea4\\u6613\",\"\\u4e70\\u5165 \\uffe5109600.0\",\"\\u5356\\u51fa \\uffe5-109200.0\\uff09\",\"\\u603b\\u4f63\\u91d1\\uffe54.93\\uff09\"],[\"2021-04-28 22:59:00\",\"RB2110.SHF\",\"\\u87ba\\u7eb9\\u94a22110\",\"\\u5356\\u51fa\",\"\\u5e73\\u4eca\",2,5408.0,-108160.0,0.0],[\"2021-04-28 21:43:00\",\"RB2110.SHF\",\"\\u87ba\\u7eb9\\u94a22110\",\"\\u4e70\\u5165\",\"\\u5f00\\u4ed3\",2,5424.0,108480.0,4.88],[\"\",\"\",\"\",\"\",\"\",\"\\uff082 \\u7b14\\u4ea4\\u6613\",\"\\u4e70\\u5165 \\uffe5108480.0\",\"\\u5356\\u51fa \\uffe5-108160.0\\uff09\",\"\\u603b\\u4f63\\u91d1\\uffe54.88\\uff09\"],[\"2021-04-27 22:59:00\",\"RB2110.SHF\",\"\\u87ba\\u7eb9\\u94a22110\",\"\\u4e70\\u5165\",\"\\u5e73\\u4eca\",2,5340.0,106800.0,0.0],[\"2021-04-27 21:32:00\",\"RB2110.SHF\",\"\\u87ba\\u7eb9\\u94a22110\",\"\\u5356\\u51fa\",\"\\u5f00\\u4ed3\",2,5354.0,-107080.0,4.82],[\"\",\"\",\"\",\"\",\"\",\"\\uff082 \\u7b14\\u4ea4\\u6613\",\"\\u4e70\\u5165 \\uffe5106800.0\",\"\\u5356\\u51fa \\uffe5-107080.0\\uff09\",\"\\u603b\\u4f63\\u91d1\\uffe54.82\\uff09\"],[\"2021-04-23 22:59:00\",\"RB2110.SHF\",\"\\u87ba\\u7eb9\\u94a22110\",\"\\u5356\\u51fa\",\"\\u5e73\\u4eca\",2,5369.0,-107380.0,0.0],[\"2021-04-23 21:07:00\",\"RB2110.SHF\",\"\\u87ba\\u7eb9\\u94a22110\",\"\\u4e70\\u5165\",\"\\u5f00\\u4ed3\",2,5309.0,106180.0,4.78],[\"\",\"\",\"\",\"\",\"\",\"\\uff082 \\u7b14\\u4ea4\\u6613\",\"\\u4e70\\u5165 \\uffe5106180.0\",\"\\u5356\\u51fa \\uffe5-107380.0\\uff09\",\"\\u603b\\u4f63\\u91d1\\uffe54.78\\uff09\"],[\"2021-04-22 22:59:00\",\"RB2110.SHF\",\"\\u87ba\\u7eb9\\u94a22110\",\"\\u5356\\u51fa\",\"\\u5e73\\u4eca\",2,5240.0,-104800.0,0.0],[\"2021-04-22 22:41:00\",\"RB2110.SHF\",\"\\u87ba\\u7eb9\\u94a22110\",\"\\u4e70\\u5165\",\"\\u5f00\\u4ed3\",2,5241.0,104820.0,4.72],[\"\",\"\",\"\",\"\",\"\",\"\\uff082 \\u7b14\\u4ea4\\u6613\",\"\\u4e70\\u5165 \\uffe5104820.0\",\"\\u5356\\u51fa \\uffe5-104800.0\\uff09\",\"\\u603b\\u4f63\\u91d1\\uffe54.72\\uff09\"],[\"2021-04-21 21:18:00\",\"RB2110.SHF\",\"\\u87ba\\u7eb9\\u94a22110\",\"\\u5356\\u51fa\",\"\\u5e73\\u4eca\",2,5193.0,-103860.0,0.0],[\"2021-04-21 21:03:00\",\"RB2110.SHF\",\"\\u87ba\\u7eb9\\u94a22110\",\"\\u4e70\\u5165\",\"\\u5f00\\u4ed3\",2,5202.0,104040.0,4.68],[\"\",\"\",\"\",\"\",\"\",\"\\uff082 \\u7b14\\u4ea4\\u6613\",\"\\u4e70\\u5165 \\uffe5104040.0\",\"\\u5356\\u51fa \\uffe5-103860.0\\uff09\",\"\\u603b\\u4f63\\u91d1\\uffe54.68\\uff09\"],[\"2021-04-20 22:38:00\",\"RB2110.SHF\",\"\\u87ba\\u7eb9\\u94a22110\",\"\\u5356\\u51fa\",\"\\u5e73\\u4eca\",2,5156.0,-103120.0,0.0],[\"2021-04-20 21:03:00\",\"RB2110.SHF\",\"\\u87ba\\u7eb9\\u94a22110\",\"\\u4e70\\u5165\",\"\\u5f00\\u4ed3\",2,5174.0,103480.0,4.66],[\"\",\"\",\"\",\"\",\"\",\"\\uff082 \\u7b14\\u4ea4\\u6613\",\"\\u4e70\\u5165 \\uffe5103480.0\",\"\\u5356\\u51fa \\uffe5-103120.0\\uff09\",\"\\u603b\\u4f63\\u91d1\\uffe54.66\\uff09\"],[\"2021-04-20 14:59:00\",\"RB2110.SHF\",\"\\u87ba\\u7eb9\\u94a22110\",\"\\u5356\\u51fa\",\"\\u5e73\\u4eca\",2,5161.0,-103220.0,0.0],[\"2021-04-20 14:07:00\",\"RB2110.SHF\",\"\\u87ba\\u7eb9\\u94a22110\",\"\\u4e70\\u5165\",\"\\u5f00\\u4ed3\",2,5146.0,102920.0,4.63],[\"\",\"\",\"\",\"\",\"\",\"\\uff082 \\u7b14\\u4ea4\\u6613\",\"\\u4e70\\u5165 \\uffe5102920.0\",\"\\u5356\\u51fa \\uffe5-103220.0\\uff09\",\"\\u603b\\u4f63\\u91d1\\uffe54.63\\uff09\"],[\"2021-04-19 09:39:00\",\"RB2110.SHF\",\"\\u87ba\\u7eb9\\u94a22110\",\"\\u4e70\\u5165\",\"\\u5e73\\u4eca\",2,5125.0,102500.0,0.0],[\"2021-04-19 09:02:00\",\"RB2110.SHF\",\"\\u87ba\\u7eb9\\u94a22110\",\"\\u5356\\u51fa\",\"\\u5f00\\u4ed3\",2,5082.0,-101640.0,4.57],[\"\",\"\",\"\",\"\",\"\",\"\\uff082 \\u7b14\\u4ea4\\u6613\",\"\\u4e70\\u5165 \\uffe5102500.0\",\"\\u5356\\u51fa \\uffe5-101640.0\\uff09\",\"\\u603b\\u4f63\\u91d1\\uffe54.57\\uff09\"],[\"2021-04-15 22:59:00\",\"RB2110.SHF\",\"\\u87ba\\u7eb9\\u94a22110\",\"\\u5356\\u51fa\",\"\\u5e73\\u4eca\",2,5137.0,-102740.0,0.0],[\"2021-04-15 22:42:00\",\"RB2110.SHF\",\"\\u87ba\\u7eb9\\u94a22110\",\"\\u4e70\\u5165\",\"\\u5f00\\u4ed3\",2,5169.0,103380.0,4.65],[\"\",\"\",\"\",\"\",\"\",\"\\uff082 \\u7b14\\u4ea4\\u6613\",\"\\u4e70\\u5165 \\uffe5103380.0\",\"\\u5356\\u51fa \\uffe5-102740.0\\uff09\",\"\\u603b\\u4f63\\u91d1\\uffe54.65\\uff09\"],[\"2021-04-15 14:59:00\",\"RB2110.SHF\",\"\\u87ba\\u7eb9\\u94a22110\",\"\\u4e70\\u5165\",\"\\u5e73\\u4eca\",2,5110.0,102200.0,0.0],[\"2021-04-15 13:45:00\",\"RB2110.SHF\",\"\\u87ba\\u7eb9\\u94a22110\",\"\\u5356\\u51fa\",\"\\u5f00\\u4ed3\",2,5090.0,-101800.0,4.58],[\"\",\"\",\"\",\"\",\"\",\"\\uff082 \\u7b14\\u4ea4\\u6613\",\"\\u4e70\\u5165 \\uffe5102200.0\",\"\\u5356\\u51fa \\uffe5-101800.0\\uff09\",\"\\u603b\\u4f63\\u91d1\\uffe54.58\\uff09\"],[\"2021-04-13 21:14:00\",\"RB2110.SHF\",\"\\u87ba\\u7eb9\\u94a22110\",\"\\u5356\\u51fa\",\"\\u5e73\\u4eca\",2,5145.0,-102900.0,0.0],[\"2021-04-13 21:02:00\",\"RB2110.SHF\",\"\\u87ba\\u7eb9\\u94a22110\",\"\\u4e70\\u5165\",\"\\u5f00\\u4ed3\",2,5173.0,103460.0,4.66],[\"\",\"\",\"\",\"\",\"\",\"\\uff082 \\u7b14\\u4ea4\\u6613\",\"\\u4e70\\u5165 \\uffe5103460.0\",\"\\u5356\\u51fa \\uffe5-102900.0\\uff09\",\"\\u603b\\u4f63\\u91d1\\uffe54.66\\uff09\"],[\"2021-04-13 14:59:00\",\"RB2110.SHF\",\"\\u87ba\\u7eb9\\u94a22110\",\"\\u5356\\u51fa\",\"\\u5e73\\u4eca\",2,5112.0,-102240.0,0.0],[\"2021-04-13 10:59:00\",\"RB2110.SHF\",\"\\u87ba\\u7eb9\\u94a22110\",\"\\u4e70\\u5165\",\"\\u5f00\\u4ed3\",2,5098.0,101960.0,4.59],[\"\",\"\",\"\",\"\",\"\",\"\\uff082 \\u7b14\\u4ea4\\u6613\",\"\\u4e70\\u5165 \\uffe5101960.0\",\"\\u5356\\u51fa \\uffe5-102240.0\\uff09\",\"\\u603b\\u4f63\\u91d1\\uffe54.59\\uff09\"],[\"2021-04-09 22:46:00\",\"RB2110.SHF\",\"\\u87ba\\u7eb9\\u94a22110\",\"\\u4e70\\u5165\",\"\\u5e73\\u4eca\",2,5071.0,101420.0,0.0],[\"2021-04-09 22:30:00\",\"RB2110.SHF\",\"\\u87ba\\u7eb9\\u94a22110\",\"\\u5356\\u51fa\",\"\\u5f00\\u4ed3\",2,5039.0,-100780.0,4.54],[\"\",\"\",\"\",\"\",\"\",\"\\uff082 \\u7b14\\u4ea4\\u6613\",\"\\u4e70\\u5165 \\uffe5101420.0\",\"\\u5356\\u51fa \\uffe5-100780.0\\uff09\",\"\\u603b\\u4f63\\u91d1\\uffe54.54\\uff09\"],[\"2021-04-09 14:59:00\",\"RB2110.SHF\",\"\\u87ba\\u7eb9\\u94a22110\",\"\\u4e70\\u5165\",\"\\u5e73\\u4eca\",2,5059.0,101180.0,0.0],[\"2021-04-09 10:58:00\",\"RB2110.SHF\",\"\\u87ba\\u7eb9\\u94a22110\",\"\\u5356\\u51fa\",\"\\u5f00\\u4ed3\",2,5053.0,-101060.0,4.55],[\"\",\"\",\"\",\"\",\"\",\"\\uff082 \\u7b14\\u4ea4\\u6613\",\"\\u4e70\\u5165 \\uffe5101180.0\",\"\\u5356\\u51fa \\uffe5-101060.0\\uff09\",\"\\u603b\\u4f63\\u91d1\\uffe54.55\\uff09\"],[\"2021-04-06 22:49:00\",\"RB2110.SHF\",\"\\u87ba\\u7eb9\\u94a22110\",\"\\u5356\\u51fa\",\"\\u5e73\\u4eca\",2,5146.0,-102920.0,0.0],[\"2021-04-06 22:41:00\",\"RB2110.SHF\",\"\\u87ba\\u7eb9\\u94a22110\",\"\\u4e70\\u5165\",\"\\u5f00\\u4ed3\",2,5172.0,103440.0,4.65],[\"\",\"\",\"\",\"\",\"\",\"\\uff082 \\u7b14\\u4ea4\\u6613\",\"\\u4e70\\u5165 \\uffe5103440.0\",\"\\u5356\\u51fa \\uffe5-102920.0\\uff09\",\"\\u603b\\u4f63\\u91d1\\uffe54.65\\uff09\"],[\"2021-04-06 09:04:00\",\"RB2110.SHF\",\"\\u87ba\\u7eb9\\u94a22110\",\"\\u5356\\u51fa\",\"\\u5e73\\u4eca\",2,5126.0,-102520.0,0.0],[\"2021-04-06 09:03:00\",\"RB2110.SHF\",\"\\u87ba\\u7eb9\\u94a22110\",\"\\u4e70\\u5165\",\"\\u5f00\\u4ed3\",2,5120.0,102400.0,4.61],[\"\",\"\",\"\",\"\",\"\",\"\\uff082 \\u7b14\\u4ea4\\u6613\",\"\\u4e70\\u5165 \\uffe5102400.0\",\"\\u5356\\u51fa \\uffe5-102520.0\\uff09\",\"\\u603b\\u4f63\\u91d1\\uffe54.61\\uff09\"]],\"columns\":[{\"title\":\"\\u6210\\u4ea4\\u65f6\\u95f4\",\"orderable\":false},{\"title\":\"\\u5408\\u7ea6\\u4ee3\\u7801\",\"orderable\":false},{\"title\":\"\\u5408\\u7ea6\\u540d\\u79f0\",\"orderable\":false},{\"title\":\"\\u4e70\\/\\u5356\",\"orderable\":false},{\"title\":\"\\u5f00\\/\\u5e73\",\"orderable\":false},{\"title\":\"\\u6570\\u91cf\",\"orderable\":false},{\"title\":\"\\u6210\\u4ea4\\u4ef7\",\"orderable\":false},{\"title\":\"\\u4ea4\\u6613\\u91d1\\u989d\",\"orderable\":false},{\"title\":\"\\u4ea4\\u6613\\u4f63\\u91d1\",\"orderable\":false}],\"searching\":false,\"info\":false,\"pageLength\":20,\"lengthChange\":false,\"order\":[],\"__type\":\"datatable\",\"__id\":\"bigchart-277091ff509243388bdf2d93ee987a8a\",\"language\":{\"sProcessing\":\"\\u5904\\u7406\\u4e2d...\",\"sLengthMenu\":\"\\u663e\\u793a _MENU_ \\u9879\\u7ed3\\u679c\",\"sZeroRecords\":\"\\u6ca1\\u6709\\u5339\\u914d\\u7ed3\\u679c\",\"sInfo\":\"\\u663e\\u793a\\u7b2c _START_ \\u81f3 _END_ \\u9879\\u7ed3\\u679c\\uff0c\\u5171 _TOTAL_ \\u9879\",\"sInfoEmpty\":\"\\u663e\\u793a\\u7b2c 0 \\u81f3 0 \\u9879\\u7ed3\\u679c\\uff0c\\u5171 0 \\u9879\",\"sInfoFiltered\":\"(\\u7531 _MAX_ \\u9879\\u7ed3\\u679c\\u8fc7\\u6ee4)\",\"sInfoPostFix\":\"\",\"sSearch\":\"\\u641c\\u7d22:\",\"sUrl\":\"\",\"sEmptyTable\":\"\\u8868\\u4e2d\\u6570\\u636e\\u4e3a\\u7a7a\",\"sLoadingRecords\":\"\\u8f7d\\u5165\\u4e2d...\",\"sInfoThousands\":\",\",\"oPaginate\":{\"sFirst\":\"\\u9996\\u9875\",\"sPrevious\":\"\\u4e0a\\u9875\",\"sNext\":\"\\u4e0b\\u9875\",\"sLast\":\"\\u672b\\u9875\"}},\"hasWholeData\":true}/bigcharts-data-end</pre></div></div><div class='tab-pane' id='每日持仓和收益'><table id=\"bigchart-62f23a0bd9a84f449790d43b894cef7a\" width=\"100%\" class=\"display bigchart\"></table><div class=\"bigchart-data\"><pre style=\"display:none\">bigcharts-data-start/{\"deferRender\":true,\"data\":[[\"2021-05-12\",\"--\",\"--\",\"--\",\"--\",\"--\",\"--\",null,null],[\"\",\"\",\"\",\"\\uff08\\u603b\\u8d44\\u4ea7\\uffe596499.68\",\"\\u5269\\u4f59\\u91d1\\u989d\\uffe596499.68\",\"\\u5f53\\u65e5\\u4ea4\\u6613\\u4f63\\u91d1\\uffe50.0\\uff09\",\"\\uffe50.0[\\u591a:0.0,\\u7a7a:0.0]\",\"\\uffe50.0\",\"\\uffe50.0\"],[\"2021-05-11\",\"RB2110.SHF\",\"\\u87ba\\u7eb92110\",\"[\\u591a:6194.0,\\u7a7a:0]\",6086.0,\"0[\\u591a:0,\\u7a7a:0]\",\"0.0[\\u591a:0.0,\\u7a7a:0]\",0.0,-1860.0],[\"\",\"\",\"\",\"\\uff08\\u603b\\u8d44\\u4ea7\\uffe596499.68\",\"\\u5269\\u4f59\\u91d1\\u989d\\uffe596499.68\",\"\\u5f53\\u65e5\\u4ea4\\u6613\\u4f63\\u91d1\\uffe50.0\\uff09\",\"\\uffe50.0[\\u591a:0.0,\\u7a7a:0.0]\",\"\\uffe50.0\",\"\\uffe5-1860.0\"],[\"2021-05-10\",\"RB2110.SHF\",\"\\u87ba\\u7eb92110\",\"[\\u591a:5708.0,\\u7a7a:0]\",6012.0,\"0[\\u591a:0,\\u7a7a:0]\",\"0.0[\\u591a:0.0,\\u7a7a:0]\",0.0,-700.0],[\"\",\"\",\"\",\"\\uff08\\u603b\\u8d44\\u4ea7\\uffe598365.25\",\"\\u5269\\u4f59\\u91d1\\u989d\\uffe598365.25\",\"\\u5f53\\u65e5\\u4ea4\\u6613\\u4f63\\u91d1\\uffe50.0\\uff09\",\"\\uffe50.0[\\u591a:0.0,\\u7a7a:0.0]\",\"\\uffe50.0\",\"\\uffe5-700.0\"],[\"2021-05-07\",\"RB2110.SHF\",\"\\u87ba\\u7eb92110\",\"[\\u591a:5674.0,\\u7a7a:0]\",5678.0,\"0[\\u591a:0,\\u7a7a:0]\",\"0.0[\\u591a:0.0,\\u7a7a:0]\",0.0,-200.0],[\"\",\"\",\"\",\"\\uff08\\u603b\\u8d44\\u4ea7\\uffe599070.39\",\"\\u5269\\u4f59\\u91d1\\u989d\\uffe599070.39\",\"\\u5f53\\u65e5\\u4ea4\\u6613\\u4f63\\u91d1\\uffe50.0\\uff09\",\"\\uffe50.0[\\u591a:0.0,\\u7a7a:0.0]\",\"\\uffe50.0\",\"\\uffe5-200.0\"],[\"2021-05-06\",\"RB2110.SHF\",\"\\u87ba\\u7eb92110\",\"[\\u591a:5551.0,\\u7a7a:0]\",5665.0,\"0[\\u591a:0,\\u7a7a:0]\",\"0.0[\\u591a:0.0,\\u7a7a:0]\",0.0,2200.0],[\"\",\"\",\"\",\"\\uff08\\u603b\\u8d44\\u4ea7\\uffe599275.5\",\"\\u5269\\u4f59\\u91d1\\u989d\\uffe599275.5\",\"\\u5f53\\u65e5\\u4ea4\\u6613\\u4f63\\u91d1\\uffe50.0\\uff09\",\"\\uffe50.0[\\u591a:0.0,\\u7a7a:0.0]\",\"\\uffe50.0\",\"\\uffe52200.0\"],[\"2021-04-30\",\"RB2110.SHF\",\"\\u87ba\\u7eb92110\",\"[\\u591a:5480.0,\\u7a7a:0]\",5391.0,\"0[\\u591a:0,\\u7a7a:0]\",\"0.0[\\u591a:0.0,\\u7a7a:0]\",0.0,-400.0],[\"\",\"\",\"\",\"\\uff08\\u603b\\u8d44\\u4ea7\\uffe597080.5\",\"\\u5269\\u4f59\\u91d1\\u989d\\uffe597080.5\",\"\\u5f53\\u65e5\\u4ea4\\u6613\\u4f63\\u91d1\\uffe50.0\\uff09\",\"\\uffe50.0[\\u591a:0.0,\\u7a7a:0.0]\",\"\\uffe50.0\",\"\\uffe5-400.0\"],[\"2021-04-29\",\"RB2110.SHF\",\"\\u87ba\\u7eb92110\",\"[\\u591a:5424.0,\\u7a7a:0]\",5452.0,\"0[\\u591a:0,\\u7a7a:0]\",\"0.0[\\u591a:0.0,\\u7a7a:0]\",0.0,-320.0],[\"\",\"\",\"\",\"\\uff08\\u603b\\u8d44\\u4ea7\\uffe597485.43\",\"\\u5269\\u4f59\\u91d1\\u989d\\uffe597485.43\",\"\\u5f53\\u65e5\\u4ea4\\u6613\\u4f63\\u91d1\\uffe50.0\\uff09\",\"\\uffe50.0[\\u591a:0.0,\\u7a7a:0.0]\",\"\\uffe50.0\",\"\\uffe5-320.0\"],[\"2021-04-28\",\"RB2110.SHF\",\"\\u87ba\\u7eb92110\",\"[\\u591a:0,\\u7a7a:5354.0]\",0,\"0[\\u591a:0,\\u7a7a:0]\",\"0.0[\\u591a:0,\\u7a7a:0.0]\",0.0,280.0],[\"\",\"\",\"\",\"\\uff08\\u603b\\u8d44\\u4ea7\\uffe597810.31\",\"\\u5269\\u4f59\\u91d1\\u989d\\uffe597810.31\",\"\\u5f53\\u65e5\\u4ea4\\u6613\\u4f63\\u91d1\\uffe50.0\\uff09\",\"\\uffe50.0[\\u591a:0.0,\\u7a7a:0.0]\",\"\\uffe50.0\",\"\\uffe5280.0\"],[\"2021-04-27\",\"--\",\"--\",\"--\",\"--\",\"--\",\"--\",null,null],[\"\",\"\",\"\",\"\\uff08\\u603b\\u8d44\\u4ea7\\uffe597535.13\",\"\\u5269\\u4f59\\u91d1\\u989d\\uffe597535.13\",\"\\u5f53\\u65e5\\u4ea4\\u6613\\u4f63\\u91d1\\uffe50.0\\uff09\",\"\\uffe50.0[\\u591a:0.0,\\u7a7a:0.0]\",\"\\uffe50.0\",\"\\uffe50.0\"],[\"2021-04-26\",\"RB2110.SHF\",\"\\u87ba\\u7eb92110\",\"[\\u591a:5309.0,\\u7a7a:0]\",5371.0,\"0[\\u591a:0,\\u7a7a:0]\",\"0.0[\\u591a:0.0,\\u7a7a:0]\",0.0,1200.0],[\"\",\"\",\"\",\"\\uff08\\u603b\\u8d44\\u4ea7\\uffe597535.13\",\"\\u5269\\u4f59\\u91d1\\u989d\\uffe597535.13\",\"\\u5f53\\u65e5\\u4ea4\\u6613\\u4f63\\u91d1\\uffe50.0\\uff09\",\"\\uffe50.0[\\u591a:0.0,\\u7a7a:0.0]\",\"\\uffe50.0\",\"\\uffe51200.0\"],[\"2021-04-23\",\"RB2110.SHF\",\"\\u87ba\\u7eb92110\",\"[\\u591a:5241.0,\\u7a7a:0]\",5299.0,\"0[\\u591a:0,\\u7a7a:0]\",\"0.0[\\u591a:0.0,\\u7a7a:0]\",0.0,-20.0],[\"\",\"\",\"\",\"\\uff08\\u603b\\u8d44\\u4ea7\\uffe596339.91\",\"\\u5269\\u4f59\\u91d1\\u989d\\uffe596339.91\",\"\\u5f53\\u65e5\\u4ea4\\u6613\\u4f63\\u91d1\\uffe50.0\\uff09\",\"\\uffe50.0[\\u591a:0.0,\\u7a7a:0.0]\",\"\\uffe50.0\",\"\\uffe5-20.0\"],[\"2021-04-22\",\"RB2110.SHF\",\"\\u87ba\\u7eb92110\",\"[\\u591a:5202.0,\\u7a7a:0]\",5208.0,\"0[\\u591a:0,\\u7a7a:0]\",\"0.0[\\u591a:0.0,\\u7a7a:0]\",0.0,-180.0],[\"\",\"\",\"\",\"\\uff08\\u603b\\u8d44\\u4ea7\\uffe596364.63\",\"\\u5269\\u4f59\\u91d1\\u989d\\uffe596364.63\",\"\\u5f53\\u65e5\\u4ea4\\u6613\\u4f63\\u91d1\\uffe50.0\\uff09\",\"\\uffe50.0[\\u591a:0.0,\\u7a7a:0.0]\",\"\\uffe50.0\",\"\\uffe5-180.0\"],[\"2021-04-21\",\"RB2110.SHF\",\"\\u87ba\\u7eb92110\",\"[\\u591a:5174.0,\\u7a7a:0]\",5188.0,\"0[\\u591a:0,\\u7a7a:0]\",\"0.0[\\u591a:0.0,\\u7a7a:0]\",0.0,-360.0],[\"\",\"\",\"\",\"\\uff08\\u603b\\u8d44\\u4ea7\\uffe596549.31\",\"\\u5269\\u4f59\\u91d1\\u989d\\uffe596549.31\",\"\\u5f53\\u65e5\\u4ea4\\u6613\\u4f63\\u91d1\\uffe50.0\\uff09\",\"\\uffe50.0[\\u591a:0.0,\\u7a7a:0.0]\",\"\\uffe50.0\",\"\\uffe5-360.0\"],[\"2021-04-20\",\"RB2110.SHF\",\"\\u87ba\\u7eb92110\",\"[\\u591a:5146.0,\\u7a7a:0]\",5165.0,\"0[\\u591a:0,\\u7a7a:0]\",\"0.0[\\u591a:0.0,\\u7a7a:0]\",0.0,300.0],[\"\",\"\",\"\",\"\\uff08\\u603b\\u8d44\\u4ea7\\uffe596913.97\",\"\\u5269\\u4f59\\u91d1\\u989d\\uffe596913.97\",\"\\u5f53\\u65e5\\u4ea4\\u6613\\u4f63\\u91d1\\uffe50.0\\uff09\",\"\\uffe50.0[\\u591a:0.0,\\u7a7a:0.0]\",\"\\uffe50.0\",\"\\uffe5300.0\"],[\"2021-04-19\",\"RB2110.SHF\",\"\\u87ba\\u7eb92110\",\"[\\u591a:0,\\u7a7a:5082.0]\",0,\"0[\\u591a:0,\\u7a7a:0]\",\"0.0[\\u591a:0,\\u7a7a:0.0]\",0.0,-860.0],[\"\",\"\",\"\",\"\\uff08\\u603b\\u8d44\\u4ea7\\uffe596618.6\",\"\\u5269\\u4f59\\u91d1\\u989d\\uffe596618.6\",\"\\u5f53\\u65e5\\u4ea4\\u6613\\u4f63\\u91d1\\uffe50.0\\uff09\",\"\\uffe50.0[\\u591a:0.0,\\u7a7a:0.0]\",\"\\uffe50.0\",\"\\uffe5-860.0\"],[\"2021-04-16\",\"RB2110.SHF\",\"\\u87ba\\u7eb92110\",\"[\\u591a:5169.0,\\u7a7a:0]\",5116.0,\"0[\\u591a:0,\\u7a7a:0]\",\"0.0[\\u591a:0.0,\\u7a7a:0]\",0.0,-640.0],[\"\",\"\",\"\",\"\\uff08\\u603b\\u8d44\\u4ea7\\uffe597483.17\",\"\\u5269\\u4f59\\u91d1\\u989d\\uffe597483.17\",\"\\u5f53\\u65e5\\u4ea4\\u6613\\u4f63\\u91d1\\uffe50.0\\uff09\",\"\\uffe50.0[\\u591a:0.0,\\u7a7a:0.0]\",\"\\uffe50.0\",\"\\uffe5-640.0\"],[\"2021-04-15\",\"RB2110.SHF\",\"\\u87ba\\u7eb92110\",\"[\\u591a:0,\\u7a7a:5090.0]\",0,\"0[\\u591a:0,\\u7a7a:0]\",\"0.0[\\u591a:0,\\u7a7a:0.0]\",0.0,-400.0],[\"\",\"\",\"\",\"\\uff08\\u603b\\u8d44\\u4ea7\\uffe598127.82\",\"\\u5269\\u4f59\\u91d1\\u989d\\uffe598127.82\",\"\\u5f53\\u65e5\\u4ea4\\u6613\\u4f63\\u91d1\\uffe50.0\\uff09\",\"\\uffe50.0[\\u591a:0.0,\\u7a7a:0.0]\",\"\\uffe50.0\",\"\\uffe5-400.0\"],[\"2021-04-14\",\"RB2110.SHF\",\"\\u87ba\\u7eb92110\",\"[\\u591a:5173.0,\\u7a7a:0]\",5116.0,\"0[\\u591a:0,\\u7a7a:0]\",\"0.0[\\u591a:0.0,\\u7a7a:0]\",0.0,-560.0],[\"\",\"\",\"\",\"\\uff08\\u603b\\u8d44\\u4ea7\\uffe598532.4\",\"\\u5269\\u4f59\\u91d1\\u989d\\uffe598532.4\",\"\\u5f53\\u65e5\\u4ea4\\u6613\\u4f63\\u91d1\\uffe50.0\\uff09\",\"\\uffe50.0[\\u591a:0.0,\\u7a7a:0.0]\",\"\\uffe50.0\",\"\\uffe5-560.0\"],[\"2021-04-13\",\"RB2110.SHF\",\"\\u87ba\\u7eb92110\",\"[\\u591a:5098.0,\\u7a7a:0]\",5116.0,\"0[\\u591a:0,\\u7a7a:0]\",\"0.0[\\u591a:0.0,\\u7a7a:0]\",0.0,280.0],[\"\",\"\",\"\",\"\\uff08\\u603b\\u8d44\\u4ea7\\uffe599097.06\",\"\\u5269\\u4f59\\u91d1\\u989d\\uffe599097.06\",\"\\u5f53\\u65e5\\u4ea4\\u6613\\u4f63\\u91d1\\uffe50.0\\uff09\",\"\\uffe50.0[\\u591a:0.0,\\u7a7a:0.0]\",\"\\uffe50.0\",\"\\uffe5280.0\"],[\"2021-04-12\",\"RB2110.SHF\",\"\\u87ba\\u7eb92110\",\"[\\u591a:0,\\u7a7a:5039.0]\",0,\"0[\\u591a:0,\\u7a7a:0]\",\"0.0[\\u591a:0,\\u7a7a:0.0]\",0.0,-640.0],[\"\",\"\",\"\",\"\\uff08\\u603b\\u8d44\\u4ea7\\uffe598821.65\",\"\\u5269\\u4f59\\u91d1\\u989d\\uffe598821.65\",\"\\u5f53\\u65e5\\u4ea4\\u6613\\u4f63\\u91d1\\uffe50.0\\uff09\",\"\\uffe50.0[\\u591a:0.0,\\u7a7a:0.0]\",\"\\uffe50.0\",\"\\uffe5-640.0\"],[\"2021-04-09\",\"RB2110.SHF\",\"\\u87ba\\u7eb92110\",\"[\\u591a:0,\\u7a7a:5053.0]\",0,\"0[\\u591a:0,\\u7a7a:0]\",\"0.0[\\u591a:0,\\u7a7a:0.0]\",0.0,-120.0],[\"\",\"\",\"\",\"\\uff08\\u603b\\u8d44\\u4ea7\\uffe599466.19\",\"\\u5269\\u4f59\\u91d1\\u989d\\uffe599466.19\",\"\\u5f53\\u65e5\\u4ea4\\u6613\\u4f63\\u91d1\\uffe50.0\\uff09\",\"\\uffe50.0[\\u591a:0.0,\\u7a7a:0.0]\",\"\\uffe50.0\",\"\\uffe5-120.0\"],[\"2021-04-08\",\"--\",\"--\",\"--\",\"--\",\"--\",\"--\",null,null],[\"\",\"\",\"\",\"\\uff08\\u603b\\u8d44\\u4ea7\\uffe599590.74\",\"\\u5269\\u4f59\\u91d1\\u989d\\uffe599590.74\",\"\\u5f53\\u65e5\\u4ea4\\u6613\\u4f63\\u91d1\\uffe50.0\\uff09\",\"\\uffe50.0[\\u591a:0.0,\\u7a7a:0.0]\",\"\\uffe50.0\",\"\\uffe50.0\"],[\"2021-04-07\",\"RB2110.SHF\",\"\\u87ba\\u7eb92110\",\"[\\u591a:5172.0,\\u7a7a:0]\",5117.0,\"0[\\u591a:0,\\u7a7a:0]\",\"0.0[\\u591a:0.0,\\u7a7a:0]\",0.0,-520.0],[\"\",\"\",\"\",\"\\uff08\\u603b\\u8d44\\u4ea7\\uffe599590.74\",\"\\u5269\\u4f59\\u91d1\\u989d\\uffe599590.74\",\"\\u5f53\\u65e5\\u4ea4\\u6613\\u4f63\\u91d1\\uffe50.0\\uff09\",\"\\uffe50.0[\\u591a:0.0,\\u7a7a:0.0]\",\"\\uffe50.0\",\"\\uffe5-520.0\"],[\"2021-04-06\",\"RB2110.SHF\",\"\\u87ba\\u7eb92110\",\"[\\u591a:5120.0,\\u7a7a:0]\",5147.0,\"0[\\u591a:0,\\u7a7a:0]\",\"0.0[\\u591a:0.0,\\u7a7a:0]\",0.0,120.0],[\"\",\"\",\"\",\"\\uff08\\u603b\\u8d44\\u4ea7\\uffe5100115.39\",\"\\u5269\\u4f59\\u91d1\\u989d\\uffe5100115.39\",\"\\u5f53\\u65e5\\u4ea4\\u6613\\u4f63\\u91d1\\uffe50.0\\uff09\",\"\\uffe50.0[\\u591a:0.0,\\u7a7a:0.0]\",\"\\uffe50.0\",\"\\uffe5120.0\"]],\"columns\":[{\"title\":\"\\u65e5\\u671f\",\"orderable\":false},{\"title\":\"\\u5408\\u7ea6\\u4ee3\\u7801\",\"orderable\":false},{\"title\":\"\\u5408\\u7ea6\\u540d\\u79f0\",\"orderable\":false},{\"title\":\"\\u6301\\u4ed3\\u5747\\u4ef7\",\"orderable\":false},{\"title\":\"\\u6536\\u76d8\\u4ef7\",\"orderable\":false},{\"title\":\"\\u6570\\u91cf\",\"orderable\":false},{\"title\":\"\\u6301\\u4ed3\\u4fdd\\u8bc1\\u91d1\",\"orderable\":false},{\"title\":\"\\u6d6e\\u52a8\\u76c8\\u4e8f\",\"orderable\":false},{\"title\":\"\\u5e73\\u4ed3\\u76c8\\u4e8f\",\"orderable\":false}],\"searching\":false,\"info\":false,\"pageLength\":20,\"lengthChange\":false,\"order\":[],\"__type\":\"datatable\",\"__id\":\"bigchart-62f23a0bd9a84f449790d43b894cef7a\",\"language\":{\"sProcessing\":\"\\u5904\\u7406\\u4e2d...\",\"sLengthMenu\":\"\\u663e\\u793a _MENU_ \\u9879\\u7ed3\\u679c\",\"sZeroRecords\":\"\\u6ca1\\u6709\\u5339\\u914d\\u7ed3\\u679c\",\"sInfo\":\"\\u663e\\u793a\\u7b2c _START_ \\u81f3 _END_ \\u9879\\u7ed3\\u679c\\uff0c\\u5171 _TOTAL_ \\u9879\",\"sInfoEmpty\":\"\\u663e\\u793a\\u7b2c 0 \\u81f3 0 \\u9879\\u7ed3\\u679c\\uff0c\\u5171 0 \\u9879\",\"sInfoFiltered\":\"(\\u7531 _MAX_ \\u9879\\u7ed3\\u679c\\u8fc7\\u6ee4)\",\"sInfoPostFix\":\"\",\"sSearch\":\"\\u641c\\u7d22:\",\"sUrl\":\"\",\"sEmptyTable\":\"\\u8868\\u4e2d\\u6570\\u636e\\u4e3a\\u7a7a\",\"sLoadingRecords\":\"\\u8f7d\\u5165\\u4e2d...\",\"sInfoThousands\":\",\",\"oPaginate\":{\"sFirst\":\"\\u9996\\u9875\",\"sPrevious\":\"\\u4e0a\\u9875\",\"sNext\":\"\\u4e0b\\u9875\",\"sLast\":\"\\u672b\\u9875\"}},\"hasWholeData\":true}/bigcharts-data-end</pre></div></div><div class='tab-pane' id='输出日志'><table id=\"bigchart-22e894232aad4d7b857b4f1c8d8e6051\" width=\"100%\" class=\"display bigchart\"></table><div class=\"bigchart-data\"><pre style=\"display:none\">bigcharts-data-start/{\"deferRender\":true,\"data\":[[\"2021-05-11 00:00:00\",\"INFO\",\"order[21:01:00][id:41,RB2110.SHF \\u4e70\\u5165\\u5f00\\u4ed3 2@6195.0, MARKET]\"],[\"2021-05-11 00:00:00\",\"INFO\",\"order[21:05:00][id:42,RB2110.SHF \\u5356\\u51fa\\u5e73\\u4eca 2@6101.0, MARKET]\"],[\"2021-05-10 00:00:00\",\"INFO\",\"order[21:04:00][id:39,RB2110.SHF \\u4e70\\u5165\\u5f00\\u4ed3 2@5708.0, MARKET]\"],[\"2021-05-10 00:00:00\",\"INFO\",\"order[21:25:00][id:40,RB2110.SHF \\u5356\\u51fa\\u5e73\\u4eca 2@5674.0, MARKET]\"],[\"2021-05-07 00:00:00\",\"INFO\",\"order[21:02:00][id:37,RB2110.SHF \\u4e70\\u5165\\u5f00\\u4ed3 2@5673.0, MARKET]\"],[\"2021-05-07 00:00:00\",\"INFO\",\"order[21:26:00][id:38,RB2110.SHF \\u5356\\u51fa\\u5e73\\u4eca 2@5666.0, MARKET]\"],[\"2021-05-06 00:00:00\",\"INFO\",\"order[09:01:00][id:35,RB2110.SHF \\u4e70\\u5165\\u5f00\\u4ed3 2@5550.0, MARKET]\"],[\"2021-05-06 00:00:00\",\"INFO\",\"order[14:58:00][id:36,RB2110.SHF \\u5356\\u51fa\\u5e73\\u4eca 2@5662.0, MARKET]\"],[\"2021-04-30 00:00:00\",\"INFO\",\"order[21:09:00][id:33,RB2110.SHF \\u4e70\\u5165\\u5f00\\u4ed3 2@5479.0, MARKET]\"],[\"2021-04-30 00:00:00\",\"INFO\",\"order[21:55:00][id:34,RB2110.SHF \\u5356\\u51fa\\u5e73\\u4eca 2@5462.0, MARKET]\"],[\"2021-04-29 00:00:00\",\"INFO\",\"order[21:42:00][id:31,RB2110.SHF \\u4e70\\u5165\\u5f00\\u4ed3 2@5423.0, MARKET]\"],[\"2021-04-29 00:00:00\",\"INFO\",\"order[22:58:00][id:32,RB2110.SHF \\u5356\\u51fa\\u5e73\\u4eca 2@5409.0, MARKET]\"],[\"2021-04-28 00:00:00\",\"INFO\",\"order[21:31:00][id:29,RB2110.SHF \\u5356\\u51fa\\u5f00\\u4ed3 2@5355.0, MARKET]\"],[\"2021-04-28 00:00:00\",\"INFO\",\"order[22:58:00][id:30,RB2110.SHF \\u4e70\\u5165\\u5e73\\u4eca 2@5338.0, MARKET]\"],[\"2021-04-26 00:00:00\",\"INFO\",\"order[21:06:00][id:27,RB2110.SHF \\u4e70\\u5165\\u5f00\\u4ed3 2@5307.0, MARKET]\"],[\"2021-04-26 00:00:00\",\"INFO\",\"order[22:58:00][id:28,RB2110.SHF \\u5356\\u51fa\\u5e73\\u4eca 2@5370.0, MARKET]\"],[\"2021-04-23 00:00:00\",\"INFO\",\"order[22:40:00][id:25,RB2110.SHF \\u4e70\\u5165\\u5f00\\u4ed3 2@5240.0, MARKET]\"],[\"2021-04-23 00:00:00\",\"INFO\",\"order[22:58:00][id:26,RB2110.SHF \\u5356\\u51fa\\u5e73\\u4eca 2@5240.0, MARKET]\"],[\"2021-04-22 00:00:00\",\"INFO\",\"order[21:02:00][id:23,RB2110.SHF \\u4e70\\u5165\\u5f00\\u4ed3 2@5200.0, MARKET]\"],[\"2021-04-22 00:00:00\",\"INFO\",\"order[21:17:00][id:24,RB2110.SHF \\u5356\\u51fa\\u5e73\\u4eca 2@5193.0, MARKET]\"],[\"2021-04-21 00:00:00\",\"INFO\",\"order[21:02:00][id:21,RB2110.SHF \\u4e70\\u5165\\u5f00\\u4ed3 2@5173.0, MARKET]\"],[\"2021-04-21 00:00:00\",\"INFO\",\"order[22:37:00][id:22,RB2110.SHF \\u5356\\u51fa\\u5e73\\u4eca 2@5157.0, MARKET]\"],[\"2021-04-20 00:00:00\",\"INFO\",\"order[14:06:00][id:19,RB2110.SHF \\u4e70\\u5165\\u5f00\\u4ed3 2@5144.0, MARKET]\"],[\"2021-04-20 00:00:00\",\"INFO\",\"order[14:58:00][id:20,RB2110.SHF \\u5356\\u51fa\\u5e73\\u4eca 2@5162.0, MARKET]\"],[\"2021-04-19 00:00:00\",\"INFO\",\"order[09:01:00][id:17,RB2110.SHF \\u5356\\u51fa\\u5f00\\u4ed3 2@5083.0, MARKET]\"],[\"2021-04-19 00:00:00\",\"INFO\",\"order[09:38:00][id:18,RB2110.SHF \\u4e70\\u5165\\u5e73\\u4eca 2@5125.0, MARKET]\"],[\"2021-04-16 00:00:00\",\"INFO\",\"order[22:41:00][id:15,RB2110.SHF \\u4e70\\u5165\\u5f00\\u4ed3 2@5169.0, MARKET]\"],[\"2021-04-16 00:00:00\",\"INFO\",\"order[22:58:00][id:16,RB2110.SHF \\u5356\\u51fa\\u5e73\\u4eca 2@5138.0, MARKET]\"],[\"2021-04-15 00:00:00\",\"INFO\",\"order[13:44:00][id:13,RB2110.SHF \\u5356\\u51fa\\u5f00\\u4ed3 2@5092.0, MARKET]\"],[\"2021-04-15 00:00:00\",\"INFO\",\"order[14:58:00][id:14,RB2110.SHF \\u4e70\\u5165\\u5e73\\u4eca 2@5110.0, MARKET]\"],[\"2021-04-14 00:00:00\",\"INFO\",\"order[21:01:00][id:11,RB2110.SHF \\u4e70\\u5165\\u5f00\\u4ed3 2@5171.0, MARKET]\"],[\"2021-04-14 00:00:00\",\"INFO\",\"order[21:13:00][id:12,RB2110.SHF \\u5356\\u51fa\\u5e73\\u4eca 2@5146.0, MARKET]\"],[\"2021-04-13 00:00:00\",\"INFO\",\"order[10:58:00][id:9,RB2110.SHF \\u4e70\\u5165\\u5f00\\u4ed3 2@5097.0, MARKET]\"],[\"2021-04-13 00:00:00\",\"INFO\",\"order[14:58:00][id:10,RB2110.SHF \\u5356\\u51fa\\u5e73\\u4eca 2@5112.0, MARKET]\"],[\"2021-04-12 00:00:00\",\"INFO\",\"order[22:29:00][id:7,RB2110.SHF \\u5356\\u51fa\\u5f00\\u4ed3 2@5040.0, MARKET]\"],[\"2021-04-12 00:00:00\",\"INFO\",\"order[22:45:00][id:8,RB2110.SHF \\u4e70\\u5165\\u5e73\\u4eca 2@5070.0, MARKET]\"],[\"2021-04-09 00:00:00\",\"INFO\",\"order[10:57:00][id:5,RB2110.SHF \\u5356\\u51fa\\u5f00\\u4ed3 2@5054.0, MARKET]\"],[\"2021-04-09 00:00:00\",\"INFO\",\"order[14:58:00][id:6,RB2110.SHF \\u4e70\\u5165\\u5e73\\u4eca 2@5058.0, MARKET]\"],[\"2021-04-07 00:00:00\",\"INFO\",\"order[22:40:00][id:3,RB2110.SHF \\u4e70\\u5165\\u5f00\\u4ed3 2@5171.0, MARKET]\"],[\"2021-04-07 00:00:00\",\"INFO\",\"order[22:48:00][id:4,RB2110.SHF \\u5356\\u51fa\\u5e73\\u4eca 2@5146.0, MARKET]\"],[\"2021-04-06 00:00:00\",\"INFO\",\"order[09:02:00][id:1,RB2110.SHF \\u4e70\\u5165\\u5f00\\u4ed3 2@5121.0, MARKET]\"],[\"2021-04-06 00:00:00\",\"INFO\",\"order[09:03:00][id:2,RB2110.SHF \\u5356\\u51fa\\u5e73\\u4eca 2@5126.0, MARKET]\"]],\"columns\":[{\"title\":\"\\u65f6\\u95f4\",\"orderable\":false},{\"title\":\"\\u7ea7\\u522b\",\"orderable\":false},{\"title\":\"\\u5185\\u5bb9\",\"orderable\":false}],\"searching\":false,\"info\":false,\"pageLength\":20,\"lengthChange\":false,\"order\":[],\"__type\":\"datatable\",\"__id\":\"bigchart-22e894232aad4d7b857b4f1c8d8e6051\",\"language\":{\"sProcessing\":\"\\u5904\\u7406\\u4e2d...\",\"sLengthMenu\":\"\\u663e\\u793a _MENU_ \\u9879\\u7ed3\\u679c\",\"sZeroRecords\":\"\\u6ca1\\u6709\\u5339\\u914d\\u7ed3\\u679c\",\"sInfo\":\"\\u663e\\u793a\\u7b2c _START_ \\u81f3 _END_ \\u9879\\u7ed3\\u679c\\uff0c\\u5171 _TOTAL_ \\u9879\",\"sInfoEmpty\":\"\\u663e\\u793a\\u7b2c 0 \\u81f3 0 \\u9879\\u7ed3\\u679c\\uff0c\\u5171 0 \\u9879\",\"sInfoFiltered\":\"(\\u7531 _MAX_ \\u9879\\u7ed3\\u679c\\u8fc7\\u6ee4)\",\"sInfoPostFix\":\"\",\"sSearch\":\"\\u641c\\u7d22:\",\"sUrl\":\"\",\"sEmptyTable\":\"\\u8868\\u4e2d\\u6570\\u636e\\u4e3a\\u7a7a\",\"sLoadingRecords\":\"\\u8f7d\\u5165\\u4e2d...\",\"sInfoThousands\":\",\",\"oPaginate\":{\"sFirst\":\"\\u9996\\u9875\",\"sPrevious\":\"\\u4e0a\\u9875\",\"sNext\":\"\\u4e0b\\u9875\",\"sLast\":\"\\u672b\\u9875\"}},\"hasWholeData\":true}/bigcharts-data-end</pre></div></div></div></div><div class='bigchart-data'><pre style='display:none'>bigcharts-data-start/{\"__type\":\"tabs\",\"__id\":\"bigchart-626d6e1c0d724b1e8f9e2eb61e8d5953\"}/bigcharts-data-end</pre></div>"
      ],
      "text/plain": [
       "<IPython.core.display.HTML object>"
      ]
     },
     "metadata": {},
     "output_type": "display_data"
    },
    {
     "data": {
      "text/plain": [
       "[2021-05-21 14:31:39.285630] INFO: moduleinvoker: hfbacktest.v1 运行完成[11.04993s]."
      ]
     },
     "metadata": {
      "is_log": true,
      "status": "INFO"
     },
     "output_type": "display_data"
    }
   ],
   "source": [
    "import talib as ta\n",
    "from datetime import datetime\n",
    "from datetime import timedelta\n",
    "from bigtrader.constant import Direction, OrderType\n",
    "\n",
    "STRATEGY_NAME = \"STRATEGY_1m\"\n",
    "        \n",
    "def initialize(context):\n",
    "    \"\"\"初始化\"\"\"\n",
    "    print(\"initialize\")  \n",
    "#     context.symbol = instruments\n",
    "    context.my_instruments = context.get_conf_param(\"instruments\")#从传入参数中获取需要交易的合约\n",
    "    context.closetime_day = context.get_conf_param(\"closetime_day\")#日内策略白盘平仓时间，一般14:58\n",
    "    context.closetime_night = context.get_conf_param(\"closetime_night\")#日内策略夜盘平仓时间，一般22:58，注意有些商品夜盘收盘时间不一样\n",
    "    context.order_num = context.get_conf_param(\"order_num\")#下单手数\n",
    "    context.set_universe(context.my_instruments)#设置需要处理的合约\n",
    "\n",
    "def before_trading(context, data):\n",
    "    \"\"\"盘前处理\"\"\"\n",
    "    context.subscribe(context.my_instruments) #注册合约\n",
    "    context.index = 0\n",
    "    context.flag = 1 #用于获取今开\n",
    "    context.count = 0\n",
    "    # 前一交易日的最高和最低价为history_data里面的倒数第二条中取到\n",
    "    context.history_data_for_4target = data.history(context.my_instruments, [\"high\",\"low\"], 1, \"1d\")\n",
    "    context.high = context.history_data_for_4target.iloc[0]['high']\n",
    "    context.low = context.history_data_for_4target.iloc[0]['low']\n",
    "#     for instr in context.my_instruments:\n",
    "#         index = instr.find('.')\n",
    "#         #获取当前主力合约，如果含有.即指定某个具体合约，否则认为是需要处理主连合约\n",
    "#         if index<=0:\n",
    "#             context.current_instruments.append(data.current_dominant(instr))\n",
    "#         else:#使用指定合约\n",
    "#             context.current_instruments.append(instr)                                   \n",
    "#     print(\"当前主力合约\", context.current_instruments)\n",
    "    \n",
    "def handle_data(context, data):\n",
    "    \"\"\"Bar行情推送\"\"\"\n",
    "    #print(\"handle_data:\", data.current_dt)\n",
    "    #获取当前时间\n",
    "    if context.flag == 1 :\n",
    "        context.history_data = data.history(context.my_instruments, [\"open\"], 1, \"1m\")\n",
    "        context.flag = context.flag + 1\n",
    "        context.today_open = context.history_data.iloc[-1]['open'] \n",
    "    cur_date =  data.current_dt\n",
    "    cur_hm = cur_date.strftime('%H:%M')\n",
    "    #部分品种夜盘收盘时间不一样，此时间表示指定的尾盘平仓时间往后偏移30分钟，这段时间内不能开新仓，只能平仓。给30分钟是为了足够的冗余\n",
    "    closetime_nightshift = (datetime.strptime(context.closetime_night,'%H:%M') + timedelta(minutes = 30)).strftime('%H:%M')\n",
    "    # 分别获取多头持仓，和空头持仓\n",
    "    position_long = context.get_position(context.my_instruments, Direction.LONG)\n",
    "    position_short = context.get_position(context.my_instruments, Direction.SHORT)\n",
    "    # 获取当前价格\n",
    "    price = data.current(context.my_instruments, \"close\")\n",
    "    #尾盘平仓\n",
    "    if((cur_hm>=context.closetime_day and cur_hm<=\"15:00\") or (cur_hm>=context.closetime_night and cur_hm<=closetime_nightshift)):\n",
    "        if(position_long.current_qty != 0):\n",
    "            rv = context.sell_close(context.my_instruments, position_long.avail_qty, price, order_type=OrderType.MARKET)\n",
    "            msg = str(data.current_dt) +  \" 尾盘平多 for \" + context.my_instruments + \" 最新价=\" + str(price) + \" rv:\" + str(rv)\n",
    "            context.write_log(msg, stdout=1) #输出关键日志\n",
    "        if(position_short.current_qty != 0):\n",
    "            rv = context.buy_close(context.my_instruments, position_short.avail_qty, price, order_type=OrderType.MARKET)\n",
    "            msg = str(data.current_dt) +  \" 尾盘平空 for \" + context.my_instruments + \" 最新价=\" + str(price) + \" rv:\" + str(rv)\n",
    "            context.write_log(msg, stdout=1) #输出关键日志\n",
    "        #尾盘不开新仓，直接返回\n",
    "        return\n",
    "    # 多头持仓小于开盘价止损 平多\n",
    "    c1 = position_long.current_qty != 0 and price < context.today_open\n",
    "    # 空头持仓大于开盘价止损 平空\n",
    "    c2 = position_short.current_qty != 0 and price > context.today_open\n",
    "    # 当前的最新价大于了前一天的最高价且没有持仓 开多\n",
    "    c3 = (position_short.current_qty == 0 and position_long.current_qty == 0) and (price > context.high and not context.count)\n",
    "    # 当前最新价小于了前一天的最低价且没有持仓 开空\n",
    "    c4 = (position_short.current_qty == 0 and position_long.current_qty == 0) and (price < context.low and not context.count)\n",
    "    if c1:\n",
    "        rv = context.sell_close(context.my_instruments, position_long.avail_qty, price, order_type=OrderType.MARKET)\n",
    "        msg = str(data.current_dt) +  \" 平多 for \" + context.my_instruments + \" 最新价=\" + str(price) + \" rv:\" + str(rv)\n",
    "        context.write_log(msg, stdout=1) \n",
    "        print(\"price\",price,\"context.high\",context.high,\"context.today_open\",context.today_open)\n",
    "    if c2:\n",
    "        rv = context.buy_close(context.my_instruments, position_short.avail_qty, price, order_type=OrderType.MARKET)\n",
    "        msg = str(data.current_dt) +  \" 平空 for \" + context.my_instruments + \" 最新价=\" + str(price) + \" rv:\" + str(rv)\n",
    "        context.write_log(msg, stdout=1) \n",
    "    if c3:\n",
    "        rv = context.buy_open(context.my_instruments, context.order_num, price, order_type=OrderType.MARKET)\n",
    "        msg = str(data.current_dt) +  \" 开多 for \" + context.my_instruments + \" 最新价=\" + str(price) + \" rv:\" + str(rv)\n",
    "        context.count = 1 #只开仓一次的判断\n",
    "        context.write_log(msg, stdout=1) \n",
    "        print(\"price\",price,\"context.high\",context.high,\"context.today_open\",context.today_open)\n",
    "\n",
    "    if c4:\n",
    "        rv = context.sell_open(context.my_instruments, context.order_num, price, order_type=OrderType.MARKET)\n",
    "        msg = str(data.current_dt) +  \" 开空 for \" + context.my_instruments + \" 最新价=\" + str(price) + \" rv:\" + str(rv)\n",
    "        context.count = 1\n",
    "        context.write_log(msg, stdout=1) \n",
    "\n",
    "            \n",
    "def handle_order(context, order):\n",
    "    \"\"\"委托回报推送\"\"\"\n",
    "    msg = \"handle_order:\" + order.log_str()\n",
    "    context.write_log(msg, stdout=1) \n",
    "         \n",
    "def handle_trade(context, trade):\n",
    "    \"\"\"成交回报推送\"\"\"\n",
    "    msg = \"handle_trade:\" + trade.log_str()\n",
    "    context.write_log(msg, stdout=1) \n",
    "    # 分别获取多头持仓，和空头持仓\n",
    "    position_long = context.get_position(trade.symbol, Direction.LONG)\n",
    "    position_short = context.get_position(trade.symbol, Direction.SHORT)\n",
    "    msg = \"当前多头持仓:\"+ str(position_long) + \"当前空头持仓:\"+ str(position_short)\n",
    "    context.write_log(msg, stdout=1) \n",
    "\n",
    "instruments = \"RB2110.SHF\" #[\"RB2110.SHF\"] #[\"RB2110.SHF\"] [I2105.DCE\"] ['RB']# RB2101.SHF 如果想用主连合约，可以出入合约简码，例如RB,I,CF\n",
    "\n",
    "#需要交易者传入的参数\n",
    "strategy_setting = [\n",
    "    {\n",
    "        \"instruments\": instruments,\n",
    "        \"order_num\": 2,\n",
    "        \"closetime_day\": \"14:58\",\n",
    "        \"closetime_night\": \"22:58\"\n",
    "    }    \n",
    "    \n",
    "]\n",
    "start_date = \"2021-04-06\"\n",
    "end_date = \"2021-05-12\"\n",
    "md = M.hfbacktest.v1(start_date=start_date,\n",
    "                     end_date=end_date,\n",
    "                     instruments=[instruments], #只传入一个合约便于策略逻辑展示\n",
    "                     capital_base=100000,\n",
    "                     product_type=Product.FUTURE,\n",
    "                     frequency=Frequency.MINUTE,\n",
    "                     initialize=initialize,\n",
    "                     before_trading_start=before_trading,\n",
    "                     handle_data=handle_data,\n",
    "                     handle_order=handle_order,\n",
    "                     handle_trade=handle_trade,\n",
    "                     plot_charts=True,\n",
    "                     volume_limit=1.0,\n",
    "                     disable_cache=0,\n",
    "                     show_debug_info=1,\n",
    "                     strategy_setting=strategy_setting,\n",
    "                     slippage_type=SlippageType.FIXED,#滑点固定模式\n",
    "                     slippage_value=1.0,#买卖双向各1个滑点\n",
    "                     m_deps=np.random.rand())"
   ]
  },
  {
   "cell_type": "code",
   "execution_count": null,
   "metadata": {},
   "outputs": [],
   "source": []
  }
 ],
 "metadata": {
  "is_mlstudio": "false",
  "kernelspec": {
   "display_name": "Python 3",
   "language": "python",
   "name": "python3"
  },
  "language_info": {
   "codemirror_mode": {
    "name": "ipython",
    "version": 3
   },
   "file_extension": ".py",
   "mimetype": "text/x-python",
   "name": "python",
   "nbconvert_exporter": "python",
   "pygments_lexer": "ipython3",
   "version": "3.8.7"
  }
 },
 "nbformat": 4,
 "nbformat_minor": 4
}
